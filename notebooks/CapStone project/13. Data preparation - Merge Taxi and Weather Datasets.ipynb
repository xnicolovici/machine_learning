{
 "cells": [
  {
   "cell_type": "markdown",
   "id": "4f3600c9",
   "metadata": {},
   "source": [
    "This dataset comes from Kaggle: https://www.kaggle.com/c/nyc-taxi-trip-duration/data"
   ]
  },
  {
   "cell_type": "code",
   "execution_count": 17,
   "id": "63c90c0d",
   "metadata": {},
   "outputs": [],
   "source": [
    "import pandas as pd\n",
    "import os\n",
    "import numpy as np\n",
    "\n",
    "pd.set_option(\"display.width\", 100)\n",
    "pd.set_option(\"display.max_columns\", 25)\n",
    "pd.set_option(\"display.max_rows\", 10)"
   ]
  },
  {
   "cell_type": "markdown",
   "id": "27cde242",
   "metadata": {},
   "source": [
    "### Independent variable\n",
    "\n",
    "* id - a unique identifier for each trip.\n",
    "* vendorid - a code indicating the provider associated with the trip record.\n",
    "* pickupdatetime - date and time when the meter was engaged.\n",
    "* dropoffdatetime - date and time when the meter was disengaged.\n",
    "* passengercount - the number of passengers in the vehicle (driver entered value).\n",
    "* pickuplongitude - the longitude where the meter was engaged .\n",
    "* pickuplatitude - the latitude where the meter was engaged.\n",
    "* dropofflongitude - the longitude where the meter was disengaged .\n",
    "* dropofflatitude - the latitude where the meter was disengaged.\n",
    "* store_and_fwd_flag — This flag indicates whether the trip record was held in vehicle memory before sending to the vendor because the vehicle did not have a connection to the server — Y=store and forward; N=not a store and forward trip.\n",
    "\n",
    "### Dependent variable\n",
    "\n",
    "* trip_duration — duration of the trip in seconds."
   ]
  },
  {
   "cell_type": "code",
   "execution_count": 14,
   "id": "63595c3c",
   "metadata": {},
   "outputs": [],
   "source": [
    "nyc_travel = pd.read_csv(os.path.join('data','nyc_travel.csv'), low_memory=False)"
   ]
  },
  {
   "cell_type": "code",
   "execution_count": 16,
   "id": "499c4198",
   "metadata": {},
   "outputs": [
    {
     "name": "stdout",
     "output_type": "stream",
     "text": [
      "<class 'pandas.core.frame.DataFrame'>\n",
      "RangeIndex: 1458644 entries, 0 to 1458643\n",
      "Data columns (total 11 columns):\n",
      "id                    1458644 non-null object\n",
      "vendor_id             1458644 non-null int64\n",
      "pickup_datetime       1458644 non-null object\n",
      "dropoff_datetime      1458644 non-null object\n",
      "passenger_count       1458644 non-null int64\n",
      "pickup_longitude      1458644 non-null float64\n",
      "pickup_latitude       1458644 non-null float64\n",
      "dropoff_longitude     1458644 non-null float64\n",
      "dropoff_latitude      1458644 non-null float64\n",
      "store_and_fwd_flag    1458644 non-null object\n",
      "trip_duration         1458644 non-null int64\n",
      "dtypes: float64(4), int64(3), object(4)\n",
      "memory usage: 122.4+ MB\n"
     ]
    }
   ],
   "source": [
    "nyc_travel.info(verbose=True)"
   ]
  },
  {
   "cell_type": "code",
   "execution_count": 20,
   "id": "7a8466d8",
   "metadata": {},
   "outputs": [
    {
     "data": {
      "text/plain": [
       "Index(['id', 'pickup_datetime', 'dropoff_datetime', 'store_and_fwd_flag'], dtype='object')"
      ]
     },
     "execution_count": 20,
     "metadata": {},
     "output_type": "execute_result"
    }
   ],
   "source": [
    "nyc_travel.select_dtypes(exclude=[np.number]).columns"
   ]
  },
  {
   "cell_type": "code",
   "execution_count": null,
   "id": "f0fb2300",
   "metadata": {},
   "outputs": [],
   "source": []
  }
 ],
 "metadata": {
  "kernelspec": {
   "display_name": "Python 3",
   "language": "python",
   "name": "python3"
  },
  "language_info": {
   "codemirror_mode": {
    "name": "ipython",
    "version": 3
   },
   "file_extension": ".py",
   "mimetype": "text/x-python",
   "name": "python",
   "nbconvert_exporter": "python",
   "pygments_lexer": "ipython3",
   "version": "3.6.13"
  }
 },
 "nbformat": 4,
 "nbformat_minor": 5
}
