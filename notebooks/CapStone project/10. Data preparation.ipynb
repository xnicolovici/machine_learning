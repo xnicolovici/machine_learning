{
 "cells": [
  {
   "cell_type": "markdown",
   "id": "58855f60",
   "metadata": {},
   "source": [
    "DATA PREPARATION\n",
    "\n",
    "Collect and import the required data sets\n",
    "Demonstrate good understanding of the data and its structure (values, encoding, format, etc.)\n",
    "Prepare the data appropriately for the analysis and modeling (data cleaning, manipulation, feature engineering and encoding)\n"
   ]
  },
  {
   "cell_type": "markdown",
   "id": "6852aae3",
   "metadata": {},
   "source": [
    "# Data preparation"
   ]
  },
  {
   "cell_type": "markdown",
   "id": "bb5453dc",
   "metadata": {},
   "source": [
    "Data preparation is split into three Notebooks:\n",
    "\n",
    "1. NYC Travel Dataset\n",
    "This first Notebook prepares data grabbed from Kaggle, containing the TAXI Travel informations.\n",
    "\n",
    "2. NYC Waether Dataset\n",
    "This second one contains preparation of the data get from the *National Centers for Environmental Information*\n",
    "\n",
    "3. Merge Travel and Weather datasets\n",
    "This third Notebooks contains the merging mechanism of the two previous datasets."
   ]
  },
  {
   "cell_type": "markdown",
   "id": "ce8bc9a4",
   "metadata": {},
   "source": [
    "# Technics\n",
    "\n",
    "To perform the merge of the data, I've decided to use an *sqlite* database approach and pay with *INNER JOIN* methods to merge datasets.\n",
    "\n",
    "Let's see in the third Notebboks of this *Data Preparation* chapter how this is achieved."
   ]
  },
  {
   "cell_type": "code",
   "execution_count": null,
   "id": "164384a8",
   "metadata": {},
   "outputs": [],
   "source": []
  }
 ],
 "metadata": {
  "kernelspec": {
   "display_name": "Python 3",
   "language": "python",
   "name": "python3"
  },
  "language_info": {
   "codemirror_mode": {
    "name": "ipython",
    "version": 3
   },
   "file_extension": ".py",
   "mimetype": "text/x-python",
   "name": "python",
   "nbconvert_exporter": "python",
   "pygments_lexer": "ipython3",
   "version": "3.6.13"
  }
 },
 "nbformat": 4,
 "nbformat_minor": 5
}
