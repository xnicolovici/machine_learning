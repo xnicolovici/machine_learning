{
 "cells": [
  {
   "cell_type": "code",
   "execution_count": 25,
   "id": "5affdaf4",
   "metadata": {},
   "outputs": [],
   "source": [
    "import pandas as pd\n",
    "import os"
   ]
  },
  {
   "cell_type": "code",
   "execution_count": 30,
   "id": "df391107",
   "metadata": {},
   "outputs": [],
   "source": [
    "import sqlite3 as sql"
   ]
  },
  {
   "cell_type": "code",
   "execution_count": 31,
   "id": "50933a5e",
   "metadata": {},
   "outputs": [],
   "source": [
    "con = sql.connect(os.path.join('data','sql','nyc.sqlite'))"
   ]
  },
  {
   "cell_type": "code",
   "execution_count": 33,
   "id": "cf555371",
   "metadata": {},
   "outputs": [],
   "source": [
    "nyc_weather.to_sql('nyc_weather', con, if_exists='replace')"
   ]
  },
  {
   "cell_type": "code",
   "execution_count": 37,
   "id": "362ae116",
   "metadata": {},
   "outputs": [],
   "source": [
    "stations = pd.read_sql_query('SELECT station, latitude, longitude FROM nyc_weather group by station order by station', con)"
   ]
  },
  {
   "cell_type": "code",
   "execution_count": 38,
   "id": "4ffd118b",
   "metadata": {},
   "outputs": [],
   "source": [
    "nyc.to_sql('nyc', con, if_exists='replace')"
   ]
  },
  {
   "cell_type": "code",
   "execution_count": 71,
   "id": "fa6ebe62",
   "metadata": {},
   "outputs": [
    {
     "data": {
      "text/html": [
       "<div>\n",
       "<style scoped>\n",
       "    .dataframe tbody tr th:only-of-type {\n",
       "        vertical-align: middle;\n",
       "    }\n",
       "\n",
       "    .dataframe tbody tr th {\n",
       "        vertical-align: top;\n",
       "    }\n",
       "\n",
       "    .dataframe thead th {\n",
       "        text-align: right;\n",
       "    }\n",
       "</style>\n",
       "<table border=\"1\" class=\"dataframe\">\n",
       "  <thead>\n",
       "    <tr style=\"text-align: right;\">\n",
       "      <th></th>\n",
       "      <th>day</th>\n",
       "      <th>sum(passenger_count)</th>\n",
       "      <th>sum(trip_duration)</th>\n",
       "    </tr>\n",
       "  </thead>\n",
       "  <tbody>\n",
       "    <tr>\n",
       "      <th>0</th>\n",
       "      <td>2016-06-30</td>\n",
       "      <td>12389</td>\n",
       "      <td>8181419</td>\n",
       "    </tr>\n",
       "    <tr>\n",
       "      <th>1</th>\n",
       "      <td>2016-06-29</td>\n",
       "      <td>12484</td>\n",
       "      <td>7551892</td>\n",
       "    </tr>\n",
       "  </tbody>\n",
       "</table>\n",
       "</div>"
      ],
      "text/plain": [
       "          day  sum(passenger_count)  sum(trip_duration)\n",
       "0  2016-06-30                 12389             8181419\n",
       "1  2016-06-29                 12484             7551892"
      ]
     },
     "execution_count": 71,
     "metadata": {},
     "output_type": "execute_result"
    }
   ],
   "source": [
    "pd.read_sql_query(\"select substr(pickup_datetime, 0, 11) AS day, sum(passenger_count), sum(trip_duration) from nyc group by day order by day DESC limit 2\", con)"
   ]
  },
  {
   "cell_type": "code",
   "execution_count": 59,
   "id": "1f79fbce",
   "metadata": {},
   "outputs": [
    {
     "data": {
      "text/html": [
       "<div>\n",
       "<style scoped>\n",
       "    .dataframe tbody tr th:only-of-type {\n",
       "        vertical-align: middle;\n",
       "    }\n",
       "\n",
       "    .dataframe tbody tr th {\n",
       "        vertical-align: top;\n",
       "    }\n",
       "\n",
       "    .dataframe thead th {\n",
       "        text-align: right;\n",
       "    }\n",
       "</style>\n",
       "<table border=\"1\" class=\"dataframe\">\n",
       "  <thead>\n",
       "    <tr style=\"text-align: right;\">\n",
       "      <th></th>\n",
       "      <th>STATION</th>\n",
       "      <th>NAME</th>\n",
       "      <th>LATITUDE</th>\n",
       "      <th>LONGITUDE</th>\n",
       "      <th>ELEVATION</th>\n",
       "      <th>DATE</th>\n",
       "      <th>AWND</th>\n",
       "      <th>AWND_ATTRIBUTES</th>\n",
       "      <th>DAPR</th>\n",
       "      <th>DAPR_ATTRIBUTES</th>\n",
       "      <th>...</th>\n",
       "      <th>WT05</th>\n",
       "      <th>WT05_ATTRIBUTES</th>\n",
       "      <th>WT06</th>\n",
       "      <th>WT06_ATTRIBUTES</th>\n",
       "      <th>WT08</th>\n",
       "      <th>WT08_ATTRIBUTES</th>\n",
       "      <th>WT09</th>\n",
       "      <th>WT09_ATTRIBUTES</th>\n",
       "      <th>WT11</th>\n",
       "      <th>WT11_ATTRIBUTES</th>\n",
       "    </tr>\n",
       "  </thead>\n",
       "  <tbody>\n",
       "    <tr>\n",
       "      <th>0</th>\n",
       "      <td>US1NYWC0003</td>\n",
       "      <td>WHITE PLAINS 3.1 NNW, NY US</td>\n",
       "      <td>41.0639</td>\n",
       "      <td>-73.7722</td>\n",
       "      <td>71.0</td>\n",
       "      <td>2016-01-01</td>\n",
       "      <td>NaN</td>\n",
       "      <td>NaN</td>\n",
       "      <td>NaN</td>\n",
       "      <td>NaN</td>\n",
       "      <td>...</td>\n",
       "      <td>NaN</td>\n",
       "      <td>NaN</td>\n",
       "      <td>NaN</td>\n",
       "      <td>NaN</td>\n",
       "      <td>NaN</td>\n",
       "      <td>NaN</td>\n",
       "      <td>NaN</td>\n",
       "      <td>NaN</td>\n",
       "      <td>NaN</td>\n",
       "      <td>NaN</td>\n",
       "    </tr>\n",
       "  </tbody>\n",
       "</table>\n",
       "<p>1 rows × 66 columns</p>\n",
       "</div>"
      ],
      "text/plain": [
       "       STATION                         NAME  LATITUDE  LONGITUDE  ELEVATION  \\\n",
       "0  US1NYWC0003  WHITE PLAINS 3.1 NNW, NY US   41.0639   -73.7722       71.0   \n",
       "\n",
       "         DATE  AWND AWND_ATTRIBUTES  DAPR DAPR_ATTRIBUTES  ...  WT05  \\\n",
       "0  2016-01-01   NaN             NaN   NaN             NaN  ...   NaN   \n",
       "\n",
       "  WT05_ATTRIBUTES  WT06 WT06_ATTRIBUTES  WT08 WT08_ATTRIBUTES  WT09  \\\n",
       "0             NaN   NaN             NaN   NaN             NaN   NaN   \n",
       "\n",
       "  WT09_ATTRIBUTES  WT11 WT11_ATTRIBUTES  \n",
       "0             NaN   NaN             NaN  \n",
       "\n",
       "[1 rows x 66 columns]"
      ]
     },
     "execution_count": 59,
     "metadata": {},
     "output_type": "execute_result"
    }
   ],
   "source": [
    "nyc_weather.head(1)"
   ]
  },
  {
   "cell_type": "code",
   "execution_count": 68,
   "id": "cea1c830",
   "metadata": {},
   "outputs": [
    {
     "data": {
      "text/html": [
       "<div>\n",
       "<style scoped>\n",
       "    .dataframe tbody tr th:only-of-type {\n",
       "        vertical-align: middle;\n",
       "    }\n",
       "\n",
       "    .dataframe tbody tr th {\n",
       "        vertical-align: top;\n",
       "    }\n",
       "\n",
       "    .dataframe thead th {\n",
       "        text-align: right;\n",
       "    }\n",
       "</style>\n",
       "<table border=\"1\" class=\"dataframe\">\n",
       "  <thead>\n",
       "    <tr style=\"text-align: right;\">\n",
       "      <th></th>\n",
       "      <th>STATION</th>\n",
       "      <th>LATITUDE</th>\n",
       "      <th>LONGITUDE</th>\n",
       "    </tr>\n",
       "  </thead>\n",
       "  <tbody>\n",
       "    <tr>\n",
       "      <th>0</th>\n",
       "      <td>US1CTFR0022</td>\n",
       "      <td>41.064100</td>\n",
       "      <td>-73.577000</td>\n",
       "    </tr>\n",
       "    <tr>\n",
       "      <th>1</th>\n",
       "      <td>US1CTFR0039</td>\n",
       "      <td>41.037788</td>\n",
       "      <td>-73.568176</td>\n",
       "    </tr>\n",
       "  </tbody>\n",
       "</table>\n",
       "</div>"
      ],
      "text/plain": [
       "       STATION   LATITUDE  LONGITUDE\n",
       "0  US1CTFR0022  41.064100 -73.577000\n",
       "1  US1CTFR0039  41.037788 -73.568176"
      ]
     },
     "execution_count": 68,
     "metadata": {},
     "output_type": "execute_result"
    }
   ],
   "source": [
    "stations.head(2)"
   ]
  },
  {
   "cell_type": "code",
   "execution_count": 67,
   "id": "587222d4",
   "metadata": {},
   "outputs": [
    {
     "data": {
      "text/plain": [
       "0.362870775061866"
      ]
     },
     "execution_count": 67,
     "metadata": {},
     "output_type": "execute_result"
    }
   ],
   "source": [
    "import math\n",
    "d = math.sqrt((41.0639 - 40.767937)**2 + (-73.7722 + 73.982155)**2)\n",
    "d"
   ]
  },
  {
   "cell_type": "code",
   "execution_count": 69,
   "id": "16734f84",
   "metadata": {},
   "outputs": [
    {
     "data": {
      "text/plain": [
       "0.49416411711293595"
      ]
     },
     "execution_count": 69,
     "metadata": {},
     "output_type": "execute_result"
    }
   ],
   "source": [
    "d = math.sqrt((41.037788 - 40.767937)**2 + (-73.568176 + 73.982155)**2)\n",
    "d"
   ]
  },
  {
   "cell_type": "code",
   "execution_count": 8,
   "id": "b6d8294c",
   "metadata": {},
   "outputs": [
    {
     "name": "stdout",
     "output_type": "stream",
     "text": [
      "<class 'pandas.core.frame.DataFrame'>\n",
      "RangeIndex: 364661 entries, 0 to 364660\n",
      "Data columns (total 11 columns):\n",
      "id                    364661 non-null object\n",
      "vendor_id             364661 non-null int64\n",
      "pickup_datetime       364661 non-null object\n",
      "dropoff_datetime      364661 non-null object\n",
      "passenger_count       364661 non-null int64\n",
      "pickup_longitude      364661 non-null float64\n",
      "pickup_latitude       364661 non-null float64\n",
      "dropoff_longitude     364661 non-null float64\n",
      "dropoff_latitude      364661 non-null float64\n",
      "store_and_fwd_flag    364661 non-null object\n",
      "trip_duration         364661 non-null int64\n",
      "dtypes: float64(4), int64(3), object(4)\n",
      "memory usage: 30.6+ MB\n"
     ]
    }
   ],
   "source": [
    "import pandas as pd\n",
    "\n",
    "# read DataFrame\n",
    "data = pd.read_csv('nyc_travel_4.csv')\n",
    "\n",
    "data.info()\n",
    "\n",
    "\n"
   ]
  },
  {
   "cell_type": "code",
   "execution_count": 5,
   "id": "cf3f9615",
   "metadata": {},
   "outputs": [
    {
     "data": {
      "text/plain": [
       "364661.0"
      ]
     },
     "execution_count": 5,
     "metadata": {},
     "output_type": "execute_result"
    }
   ],
   "source": [
    "1458644/4\n",
    "\n",
    "\n"
   ]
  },
  {
   "cell_type": "code",
   "execution_count": 6,
   "id": "d503e919",
   "metadata": {},
   "outputs": [],
   "source": [
    "\n",
    "# no of csv files with row size\n",
    "k = 4\n",
    "size = 364661\n",
    "\n",
    "for i in range(k):\n",
    "\tdf = data[size*i:size*(i+1)]\n",
    "\tdf.to_csv(f'nyc_travel_{i+1}.csv', index=False)\n",
    "\n",
    "\n"
   ]
  },
  {
   "cell_type": "code",
   "execution_count": null,
   "id": "0ab52b7b",
   "metadata": {},
   "outputs": [],
   "source": []
  }
 ],
 "metadata": {
  "kernelspec": {
   "display_name": "Python 3",
   "language": "python",
   "name": "python3"
  },
  "language_info": {
   "codemirror_mode": {
    "name": "ipython",
    "version": 3
   },
   "file_extension": ".py",
   "mimetype": "text/x-python",
   "name": "python",
   "nbconvert_exporter": "python",
   "pygments_lexer": "ipython3",
   "version": "3.6.13"
  }
 },
 "nbformat": 4,
 "nbformat_minor": 5
}
