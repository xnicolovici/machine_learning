{
 "cells": [
  {
   "cell_type": "markdown",
   "id": "1f8c7ad8",
   "metadata": {},
   "source": [
    "DATA PREPARATION\n",
    "\n",
    "Collect and import the required data sets\n",
    "Demonstrate good understanding of the data and its structure (values, encoding, format, etc.)\n",
    "Prepare the data appropriately for the analysis and modeling (data cleaning, manipulation, feature engineering and encoding)\n",
    "EXPLORATORY DATA ANALYSIS\n",
    "\n",
    "Demonstrate a deep understanding of the data specific to the project goals by performing detailed exploratory data analysis including all necessary descriptive statistics and visualization methods\n",
    "Discuss insights and potential difficulties to justify the proposed implementation\n",
    "Discuss data quality and completeness with respect to the intended project goals\n",
    "MACHINE LEARNING MODELS\n",
    "\n",
    "Identify and discuss suitable machine learning models, baselines, metrics and evaluation strategies\n",
    "Tune the different models, analyze their performance\n",
    "Discuss the results and potential trade-offs (complexity, interpretability, computational resources) using the appropriate terminology\n",
    "COMMUNICATION\n",
    "\n",
    "Use data to tell a story and discuss the value of the results. Highlight interesting insights through discussion and visualizations\n",
    "Document and discuss each step of the analysis to support the approach and implementation\n",
    "Present and evaluate findings, discuss results in the context of the project goals"
   ]
  }
 ],
 "metadata": {
  "kernelspec": {
   "display_name": "Python 3",
   "language": "python",
   "name": "python3"
  },
  "language_info": {
   "codemirror_mode": {
    "name": "ipython",
    "version": 3
   },
   "file_extension": ".py",
   "mimetype": "text/x-python",
   "name": "python",
   "nbconvert_exporter": "python",
   "pygments_lexer": "ipython3",
   "version": "3.6.13"
  }
 },
 "nbformat": 4,
 "nbformat_minor": 5
}
