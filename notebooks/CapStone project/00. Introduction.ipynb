{
 "cells": [
  {
   "cell_type": "markdown",
   "id": "192c5264",
   "metadata": {},
   "source": [
    "# Capstone project by Xavier Nicolovici\n",
    "## EPFL Extension School - 2020/2022\n",
    "### What are the Taxi time travel prevision for New-York City (NYC) depending on the weather forecast ?"
   ]
  },
  {
   "cell_type": "markdown",
   "id": "f173d58a",
   "metadata": {},
   "source": [
    "# Introduction\n",
    "\n",
    "This capstone project will try to find a machine learning model to determine the travel time NYC taxi will have to handle per trip depending on the weather.\n",
    "\n",
    "This model should help organize the number of Taxi needed in town depending on the weather forecast.\n",
    "\n",
    "To achieve this, I will use a dataset taken from Kaggle and I'll extend it using weather dataset taken from the *National Centers for Environmental Information*."
   ]
  },
  {
   "cell_type": "markdown",
   "id": "3b07382c",
   "metadata": {},
   "source": [
    "# Datasets\n",
    "\n",
    "Two dataset will be used for this capstone project.\n",
    "\n",
    "## NYC Taxi Dataset\n",
    "\n",
    "This [dataset](https://www.kaggle.com/yasserh/nyc-taxi-trip-duration) has been found on Kaggle and was used in a competition where participants, based on individual trip attributes, should predict the duration of each trip in the test set. This dataset is based on the 2016 NYC Yellow Cab trip record data made available in Big Query on Google Cloud Platform. The data was sampled and cleaned for the purposes of this playground competition.\n",
    "\n",
    "This dataset covers data from the 1st of January until the 30th of June 2016.\n",
    "\n",
    "Most of the cleaning work have been done on this dataset, which is good news for me :-)\n",
    "\n",
    "## NYC Weeather informations\n",
    "\n",
    "To extend the previous dataset with weather informations, I've used the [Climate Data Search Engine](https://www.ncdc.noaa.gov/cdo-web/confirmation) from the *National Centers for Environmental Information*\n",
    "\n",
    "This search engine allows me to grab multiple weather informations concerning NYC covering the period of the NYC Taxi Dataset.\n",
    "\n",
    "Merging those two datasets will let me build one with travel informations along with weather ones."
   ]
  },
  {
   "cell_type": "markdown",
   "id": "8b0cd97b",
   "metadata": {},
   "source": [
    "# Organisation\n",
    "\n",
    "This project is organized in 4 big chapters:\n",
    "\n",
    "- Data preparation: Where datasets will be prepared\n",
    "- Data Exploration: Where data is analyzed\n",
    "- Machine learning models: Where ML models are trained\n",
    "- Results and Communication: Where ML models results are exposed and analyzed\n",
    "\n",
    "Those big chapters are contained in Notebooks which names starts by, respectively, 10, 20, 30 and 40. Any sub-Notebook needed for one of this chapter will be numbered with the number of the chapter + 1. For example:\n",
    "\n",
    "10. Data preparation\n",
    "11. Data preparation - NYC Taxi dataset\n",
    "12. Data preparation - NYC Weather dataset"
   ]
  },
  {
   "cell_type": "markdown",
   "id": "119c5ac1",
   "metadata": {},
   "source": [
    "# Technics\n",
    "\n",
    "## mylib.ipynb\n",
    "\n",
    "In order to simplify the code in the different Notebooks, many usefull functions will be coded into a Notebook named *mylib.py*\n",
    "\n",
    "This Notebook and its content will be included at the begining of each Notebooks using the following syntax:\n",
    "\n",
    "    # Run content of mylib.py file\n",
    "    %run mylib.py\n",
    "\n",
    "Here is an exemple:"
   ]
  },
  {
   "cell_type": "code",
   "execution_count": 1,
   "id": "6711b6d2",
   "metadata": {},
   "outputs": [],
   "source": [
    "# Run content of mylib.py file\n",
    "%run mylib.py\n"
   ]
  },
  {
   "cell_type": "markdown",
   "id": "475a2403",
   "metadata": {},
   "source": [
    "Details of the functions available in *mylib.py* can be found in the file itself.\n",
    "Each function defined is described with usefull comments."
   ]
  },
  {
   "cell_type": "code",
   "execution_count": null,
   "id": "793a77f2",
   "metadata": {},
   "outputs": [],
   "source": []
  }
 ],
 "metadata": {
  "kernelspec": {
   "display_name": "Python 3",
   "language": "python",
   "name": "python3"
  },
  "language_info": {
   "codemirror_mode": {
    "name": "ipython",
    "version": 3
   },
   "file_extension": ".py",
   "mimetype": "text/x-python",
   "name": "python",
   "nbconvert_exporter": "python",
   "pygments_lexer": "ipython3",
   "version": "3.6.13"
  }
 },
 "nbformat": 4,
 "nbformat_minor": 5
}
