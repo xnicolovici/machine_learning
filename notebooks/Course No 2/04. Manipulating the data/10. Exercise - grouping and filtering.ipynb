{
 "cells": [
  {
   "cell_type": "code",
   "execution_count": 1,
   "metadata": {},
   "outputs": [],
   "source": [
    "import pandas as pd\n",
    "import numpy as np"
   ]
  },
  {
   "cell_type": "code",
   "execution_count": 2,
   "metadata": {},
   "outputs": [
    {
     "data": {
      "text/html": [
       "<div>\n",
       "<style scoped>\n",
       "    .dataframe tbody tr th:only-of-type {\n",
       "        vertical-align: middle;\n",
       "    }\n",
       "\n",
       "    .dataframe tbody tr th {\n",
       "        vertical-align: top;\n",
       "    }\n",
       "\n",
       "    .dataframe thead th {\n",
       "        text-align: right;\n",
       "    }\n",
       "</style>\n",
       "<table border=\"1\" class=\"dataframe\">\n",
       "  <thead>\n",
       "    <tr style=\"text-align: right;\">\n",
       "      <th></th>\n",
       "      <th></th>\n",
       "      <th>name</th>\n",
       "      <th>score1</th>\n",
       "      <th>score2</th>\n",
       "    </tr>\n",
       "    <tr>\n",
       "      <th>team</th>\n",
       "      <th>rank</th>\n",
       "      <th></th>\n",
       "      <th></th>\n",
       "      <th></th>\n",
       "    </tr>\n",
       "  </thead>\n",
       "  <tbody>\n",
       "    <tr>\n",
       "      <th rowspan=\"4\" valign=\"top\">Ten Snakes</th>\n",
       "      <th>1st</th>\n",
       "      <td>James</td>\n",
       "      <td>16</td>\n",
       "      <td>81</td>\n",
       "    </tr>\n",
       "    <tr>\n",
       "      <th>1st</th>\n",
       "      <td>Allen</td>\n",
       "      <td>35</td>\n",
       "      <td>65</td>\n",
       "    </tr>\n",
       "    <tr>\n",
       "      <th>2nd</th>\n",
       "      <td>Matthew</td>\n",
       "      <td>55</td>\n",
       "      <td>54</td>\n",
       "    </tr>\n",
       "    <tr>\n",
       "      <th>2nd</th>\n",
       "      <td>James</td>\n",
       "      <td>29</td>\n",
       "      <td>44</td>\n",
       "    </tr>\n",
       "    <tr>\n",
       "      <th rowspan=\"4\" valign=\"top\">Nine Monkeys</th>\n",
       "      <th>1st</th>\n",
       "      <td>Devon</td>\n",
       "      <td>2</td>\n",
       "      <td>28</td>\n",
       "    </tr>\n",
       "    <tr>\n",
       "      <th>1st</th>\n",
       "      <td>Sam</td>\n",
       "      <td>61</td>\n",
       "      <td>93</td>\n",
       "    </tr>\n",
       "    <tr>\n",
       "      <th>2nd</th>\n",
       "      <td>Justin</td>\n",
       "      <td>68</td>\n",
       "      <td>2</td>\n",
       "    </tr>\n",
       "    <tr>\n",
       "      <th>2nd</th>\n",
       "      <td>Sam</td>\n",
       "      <td>41</td>\n",
       "      <td>5</td>\n",
       "    </tr>\n",
       "    <tr>\n",
       "      <th rowspan=\"2\" valign=\"top\">Eight Eagles</th>\n",
       "      <th>1st</th>\n",
       "      <td>Paul</td>\n",
       "      <td>94</td>\n",
       "      <td>53</td>\n",
       "    </tr>\n",
       "    <tr>\n",
       "      <th>2nd</th>\n",
       "      <td>Ross</td>\n",
       "      <td>18</td>\n",
       "      <td>99</td>\n",
       "    </tr>\n",
       "  </tbody>\n",
       "</table>\n",
       "</div>"
      ],
      "text/plain": [
       "                      name  score1  score2\n",
       "team         rank                         \n",
       "Ten Snakes   1st     James      16      81\n",
       "             1st     Allen      35      65\n",
       "             2nd   Matthew      55      54\n",
       "             2nd     James      29      44\n",
       "Nine Monkeys 1st     Devon       2      28\n",
       "             1st       Sam      61      93\n",
       "             2nd    Justin      68       2\n",
       "             2nd       Sam      41       5\n",
       "Eight Eagles 1st      Paul      94      53\n",
       "             2nd      Ross      18      99"
      ]
     },
     "execution_count": 2,
     "metadata": {},
     "output_type": "execute_result"
    }
   ],
   "source": [
    "raw_data = {'team': ['Ten Snakes', 'Ten Snakes', 'Ten Snakes', 'Ten Snakes', \n",
    "                                    'Nine Monkeys', 'Nine Monkeys', 'Nine Monkeys', 'Nine Monkeys', \n",
    "                                    'Eight Eagles', 'Eight Eagles'], \n",
    "        'rank': ['1st', '1st', '2nd', '2nd', '1st', '1st', '2nd', '2nd','1st', '2nd'], \n",
    "        'name': ['James', 'Allen', 'Matthew', 'James', 'Devon', 'Sam', 'Justin', 'Sam', 'Paul', 'Ross'], \n",
    "        'score1': [16,35,55,29,2,61,68,41,94,18],\n",
    "        'score2': [81,65,54,44,28,93,2,5,53,99]}\n",
    "df = pd.DataFrame(raw_data, columns = ['team', 'rank', 'name', 'score1', 'score2'])\n",
    "\n",
    "df2 = df.set_index(['team','rank'])\n",
    "df2"
   ]
  },
  {
   "cell_type": "code",
   "execution_count": 3,
   "metadata": {},
   "outputs": [],
   "source": [
    "grouped2 = df2.groupby(level=['team', 'rank'])"
   ]
  },
  {
   "cell_type": "code",
   "execution_count": 14,
   "metadata": {},
   "outputs": [
    {
     "data": {
      "text/html": [
       "<div>\n",
       "<style scoped>\n",
       "    .dataframe tbody tr th:only-of-type {\n",
       "        vertical-align: middle;\n",
       "    }\n",
       "\n",
       "    .dataframe tbody tr th {\n",
       "        vertical-align: top;\n",
       "    }\n",
       "\n",
       "    .dataframe thead th {\n",
       "        text-align: right;\n",
       "    }\n",
       "</style>\n",
       "<table border=\"1\" class=\"dataframe\">\n",
       "  <thead>\n",
       "    <tr style=\"text-align: right;\">\n",
       "      <th></th>\n",
       "      <th></th>\n",
       "      <th>name</th>\n",
       "      <th>score1</th>\n",
       "      <th>score2</th>\n",
       "    </tr>\n",
       "    <tr>\n",
       "      <th>team</th>\n",
       "      <th>rank</th>\n",
       "      <th></th>\n",
       "      <th></th>\n",
       "      <th></th>\n",
       "    </tr>\n",
       "  </thead>\n",
       "  <tbody>\n",
       "    <tr>\n",
       "      <th>Eight Eagles</th>\n",
       "      <th>1st</th>\n",
       "      <td>Paul</td>\n",
       "      <td>94</td>\n",
       "      <td>53</td>\n",
       "    </tr>\n",
       "  </tbody>\n",
       "</table>\n",
       "</div>"
      ],
      "text/plain": [
       "                   name  score1  score2\n",
       "team         rank                      \n",
       "Eight Eagles 1st   Paul      94      53"
      ]
     },
     "execution_count": 14,
     "metadata": {},
     "output_type": "execute_result"
    }
   ],
   "source": [
    "def above_50(x):\n",
    "    return (x.score1.min() > 50) and (x.score2.min() > 50)\n",
    "    \n",
    "grouped2.filter(above_50)"
   ]
  },
  {
   "cell_type": "code",
   "execution_count": 15,
   "metadata": {},
   "outputs": [
    {
     "data": {
      "text/plain": [
       "[(('Eight Eagles', '1st'),\n",
       "                     name  score1  score2\n",
       "  team         rank                      \n",
       "  Eight Eagles 1st   Paul      94      53),\n",
       " (('Eight Eagles', '2nd'),\n",
       "                     name  score1  score2\n",
       "  team         rank                      \n",
       "  Eight Eagles 2nd   Ross      18      99),\n",
       " (('Nine Monkeys', '1st'),\n",
       "                      name  score1  score2\n",
       "  team         rank                       \n",
       "  Nine Monkeys 1st   Devon       2      28\n",
       "               1st     Sam      61      93),\n",
       " (('Nine Monkeys', '2nd'),\n",
       "                       name  score1  score2\n",
       "  team         rank                        \n",
       "  Nine Monkeys 2nd   Justin      68       2\n",
       "               2nd      Sam      41       5),\n",
       " (('Ten Snakes', '1st'),\n",
       "                    name  score1  score2\n",
       "  team       rank                       \n",
       "  Ten Snakes 1st   James      16      81\n",
       "             1st   Allen      35      65),\n",
       " (('Ten Snakes', '2nd'),\n",
       "                      name  score1  score2\n",
       "  team       rank                         \n",
       "  Ten Snakes 2nd   Matthew      55      54\n",
       "             2nd     James      29      44)]"
      ]
     },
     "execution_count": 15,
     "metadata": {},
     "output_type": "execute_result"
    }
   ],
   "source": [
    "list(grouped2)"
   ]
  },
  {
   "cell_type": "code",
   "execution_count": null,
   "metadata": {},
   "outputs": [],
   "source": []
  }
 ],
 "metadata": {
  "kernelspec": {
   "display_name": "Python 3",
   "language": "python",
   "name": "python3"
  },
  "language_info": {
   "codemirror_mode": {
    "name": "ipython",
    "version": 3
   },
   "file_extension": ".py",
   "mimetype": "text/x-python",
   "name": "python",
   "nbconvert_exporter": "python",
   "pygments_lexer": "ipython3",
   "version": "3.6.10"
  }
 },
 "nbformat": 4,
 "nbformat_minor": 4
}
