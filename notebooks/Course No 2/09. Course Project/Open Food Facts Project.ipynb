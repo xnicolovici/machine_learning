{
 "cells": [
  {
   "cell_type": "markdown",
   "metadata": {},
   "source": [
    "# Open Food Facts Course Project - Cleaning, manipulating and visualizing"
   ]
  },
  {
   "cell_type": "markdown",
   "metadata": {},
   "source": [
    "First of all, let's import usefull libraries for the project and make matplolib displaying graphs inline the Notebook."
   ]
  },
  {
   "cell_type": "code",
   "execution_count": 2,
   "metadata": {},
   "outputs": [],
   "source": [
    "from os import path # For filepath manipulation\n",
    "import pandas as pd\n",
    "import numpy as np\n",
    "\n",
    "import seaborn as sns\n",
    "\n",
    "from matplotlib import pyplot as plot\n",
    "%matplotlib inline\n",
    "\n",
    "import seaborn\n",
    "\n",
    "import re\n",
    "\n",
    "pd.set_option(\"display.max_column\",None)\n"
   ]
  },
  {
   "cell_type": "markdown",
   "metadata": {},
   "source": [
    "Next step will be to load the Open Food Facts CSV file, which in fact is a TSV file (Cells are separated with tabs).\n",
    "Loading this file will take a consequent amount of time, as the file is 1Gb big. First thing to do will be to perform some cleanup and removal of useless data, and save the result as a new CSV file.\n",
    "\n",
    "This new CSV file will be used as datasource in this Notebook using the first **MAX_ENTRY_TO_LOAD** rows while coding.\n",
    "\n",
    "**Don't forget to set MAX_ENTRY_TO_LOAD = None when coding is finished.** Otherwise, only a subset of the data will be processed.\n",
    "\n",
    "* Note that this Notebook checks if the cleaned Datafile exists and create it otherwise. This process relies on three functions: First one will load the original TSV file, the second one will cleanup the orignal data and the third one will dump the cleand data into a new CSV file.\n",
    "\n",
    "The following global constant can be adapted to suit your needs"
   ]
  },
  {
   "cell_type": "code",
   "execution_count": 3,
   "metadata": {},
   "outputs": [],
   "source": [
    "# Filename of the original TSV file\n",
    "ORIGINAL_TSV_FILENAME = path.join('data','OpenFoodFacts.tsv')\n",
    "\n",
    "# Filename of the cleaned data build in this Notebook\n",
    "CLEANED_CSV_FILENAME = path.join('data','OpenFoodFacts-cleaned.csv')\n",
    "\n",
    "# If set to true, the original data file loading process is forced, event if the\n",
    "# cleaned CSV file exists. Should be set to **True** when coding is finished\n",
    "FORCE_LOAD_ORIGINAL_FILE = True # PRoduction value = True\n",
    "\n",
    "# Maximum NaN percentage accepted in a column. If above, the column is dropped.\n",
    "MAX_NAN_PERCENT_VALUE = 80\n",
    "\n",
    "# Number of rows loaded from cleaned CSV file. Usefull while coding, this value should be\n",
    "# set ton **None** when coding is finished.\n",
    "MAX_ENTRY_TO_LOAD = None # Production value = None\n",
    "\n",
    "# List of columns that will be removed from the Dataset (useless one)\n",
    "COLUMNS_TO_DROP = [\n",
    "    'creator', 'brands', 'brands_tags', 'countries',\n",
    "    'countries_tags', 'additives', 'additives_tags', 'categories_tags', 'states',\n",
    "    'states_en', 'states_tags', 'url', 'quantity', 'packaging_tags', 'packaging',\n",
    "    'created_t', 'last_modified_t', 'pnns_groups_1', 'pnns_groups_2', 'image_url',\n",
    "    'image_small_url', 'code', 'ingredients_from_palm_oil_n', 'ingredients_that_may_be_from_palm_oil_n'\n",
    "]"
   ]
  },
  {
   "cell_type": "markdown",
   "metadata": {},
   "source": [
    "\n",
    "## A. Importing and cleaning the data\n",
    "\n",
    "Importing the datasource is done using Pandas **read_csv** method, using parameter **sep=\"\\t\"** as the content of the file is a tabulation spearated CSV file.\n",
    "\n",
    "* Note that I've set the **low_memory** option to False in order to avoid warnings when loading the file. Number of columns is quite important and the process to determine the column dtype is too consuming*\n",
    "\n",
    "\n",
    "### Some function definitions\n",
    "\n",
    "#### Data loading function."
   ]
  },
  {
   "cell_type": "code",
   "execution_count": 4,
   "metadata": {},
   "outputs": [],
   "source": [
    "def loadOriginalTsvFile(filename):\n",
    "    print(\"Loading data from file\",ORIGINAL_TSV_FILENAME)\n",
    "    print(\"Please wait...\")\n",
    "    df = pd.read_csv(ORIGINAL_TSV_FILENAME,sep=\"\\t\",low_memory=False)\n",
    "    print(\"Loading process terminated.\")\n",
    "    return df\n"
   ]
  },
  {
   "cell_type": "markdown",
   "metadata": {},
   "source": [
    "#### Function to dump the cleaned data into a new CSV file"
   ]
  },
  {
   "cell_type": "code",
   "execution_count": 5,
   "metadata": {},
   "outputs": [],
   "source": [
    "def dumpCleanedCsvFile(df,filename):\n",
    "    print(\"Dumping the cleaned Dataframe into file\",CLEANED_CSV_FILENAME)\n",
    "    print(\"Please wait...\")\n",
    "    df.to_csv(CLEANED_CSV_FILENAME)\n",
    "    print(\"Dumping process terminated\")\n"
   ]
  },
  {
   "cell_type": "markdown",
   "metadata": {},
   "source": [
    "#### Cleanup function that process the Dataframe returned by the **loadOriginalTsvFile()** function\n",
    "\n",
    "This function will perform cleanup actions on the whole dataset. Further in this Notebook, more cleaning actions will come while we discover the content of the Open Food Facts database.\n",
    "\n",
    "Here is a list of the cleaning actions done here:\n",
    "\n",
    "* Drop unused column defined in the global parameter COLUMNS_TO_DROP\n",
    "* Drop columns where the percentage of null values is above MAX_NAN_PERCENT_VALUE\n",
    "* Drop rows where **product_name** or **countries_en** column are empty\n",
    "* Drop rows with duplicates in 'product_name' column"
   ]
  },
  {
   "cell_type": "code",
   "execution_count": 6,
   "metadata": {},
   "outputs": [],
   "source": [
    "def cleanOriginalData(df):\n",
    "\n",
    "    print(\"Cleaning the dataframe\")\n",
    "    print(\"Please wait...\")\n",
    "    # Drop unused columns\n",
    "    df.drop(COLUMNS_TO_DROP,axis = 1,inplace=True)\n",
    "    \n",
    "    # Drop columns where percentage of NaN values is too high\n",
    "    df = df.dropna(axis=1, thresh= len(df)*(1 - MAX_NAN_PERCENT_VALUE / 100), how='all') \n",
    "    \n",
    "    # Drop rows with empty product_name or countries_en\n",
    "    df = df[np.logical_and(\n",
    "        np.logical_not(df['product_name'].isnull()),\n",
    "        np.logical_not(df['countries_en'].isnull())\n",
    "    )]\n",
    "    \n",
    "    # Drop duplicated rows in column product_name\n",
    "    df.drop_duplicates(subset=['product_name'],inplace=True)\n",
    "\n",
    "    print(\"Cleaning process terminated\")\n",
    "    \n",
    "    return df\n",
    "\n",
    "    "
   ]
  },
  {
   "cell_type": "markdown",
   "metadata": {},
   "source": [
    "### Loading process\n",
    "\n",
    "Now that our loading functions are defined, put some logic here to avoid long time processing while coding.\n",
    "\n",
    "**Do not forget to set the global constant to Production values when coding is finished**"
   ]
  },
  {
   "cell_type": "code",
   "execution_count": 7,
   "metadata": {},
   "outputs": [
    {
     "name": "stdout",
     "output_type": "stream",
     "text": [
      "Loading data from file data/OpenFoodFacts.tsv\n",
      "Please wait...\n",
      "Loading process terminated.\n",
      "Cleaning the dataframe\n",
      "Please wait...\n",
      "Cleaning process terminated\n",
      "Dumping the cleaned Dataframe into file data/OpenFoodFacts-cleaned.csv\n",
      "Please wait...\n",
      "Dumping process terminated\n",
      "Loading data from  data/OpenFoodFacts-cleaned.csv\n",
      "Please wait...\n",
      "Dataframe loaded\n",
      "Number of rows   : 249065\n",
      "Number of columns: 30\n"
     ]
    }
   ],
   "source": [
    "if (FORCE_LOAD_ORIGINAL_FILE == True) or path.exists(CLEANED_CSV_FILENAME) == False:\n",
    "    df = loadOriginalTsvFile(ORIGINAL_TSV_FILENAME)\n",
    "    df = cleanOriginalData(df)\n",
    "    dumpCleanedCsvFile(df, CLEANED_CSV_FILENAME)\n",
    "else:\n",
    "    print(\"Cleaned CSV file found. Original data file processing is skipped\")\n",
    "\n",
    "    \n",
    "if MAX_ENTRY_TO_LOAD != None:\n",
    "    print(\"Loading the first\",MAX_ENTRY_TO_LOAD,\"rows from \",CLEANED_CSV_FILENAME)\n",
    "else:\n",
    "    print(\"Loading data from \",CLEANED_CSV_FILENAME)\n",
    "\n",
    "print(\"Please wait...\")\n",
    "df = pd.read_csv(CLEANED_CSV_FILENAME,low_memory=False, nrows=MAX_ENTRY_TO_LOAD, index_col=0)\n",
    "print(\"Dataframe loaded\")\n",
    "\n",
    "print('Number of rows   :',format(df.shape[0]))\n",
    "print('Number of columns:',format(df.shape[1]))\n"
   ]
  },
  {
   "cell_type": "markdown",
   "metadata": {},
   "source": [
    "### Cleaning process\n",
    "\n",
    "Now that we've loaded a *partially* cleaned dataframe, let's explore it and perform some more clean up.\n",
    "\n",
    "First, we can ensure that we do not have any duplicated lines. Removed them otherwise."
   ]
  },
  {
   "cell_type": "code",
   "execution_count": 8,
   "metadata": {},
   "outputs": [
    {
     "name": "stdout",
     "output_type": "stream",
     "text": [
      "No duplicated lines found\n"
     ]
    }
   ],
   "source": [
    "duplicated_lines = df.duplicated().sum()\n",
    "\n",
    "if duplicated_lines == 0:\n",
    "    print(\"No duplicated lines found\")\n",
    "else:\n",
    "    print(\"Duplicated lines found:\",duplicated_lines)\n",
    "    print(\"Removing duplicates...\")\n",
    "    df.drop_duplicates(inplace=True)\n",
    "    print(\"Done\")\n"
   ]
  },
  {
   "cell_type": "markdown",
   "metadata": {},
   "source": [
    "Ensure that we do not have duplicated values in the **product_name** columns and set it as Dataframe index"
   ]
  },
  {
   "cell_type": "code",
   "execution_count": 9,
   "metadata": {},
   "outputs": [
    {
     "name": "stdout",
     "output_type": "stream",
     "text": [
      "There is no duplicated values in 'product_name' column. Set it as Dataframe index\n"
     ]
    }
   ],
   "source": [
    "if 'product_name' in df.columns:\n",
    "    if df['product_name'].duplicated().sum() == 0:\n",
    "        print(\"There is no duplicated values in 'product_name' column. Set it as Dataframe index\")\n",
    "        df.set_index('product_name', inplace=True)\n",
    "    else:\n",
    "        print(\"WARNING: Duplicated values detected in 'product_name' column. Aborting Notebook.\")\n",
    "        exit(1)\n",
    "else:\n",
    "    print(\"Dataframe already indexed by 'product_name'\")"
   ]
  },
  {
   "cell_type": "markdown",
   "metadata": {},
   "source": [
    "#### Convert date and time columns into DateTime Pandas object, for smarter time manipulations.\n",
    "\n",
    "During the first **to_datetime()** run, I've found values that was not convertible to a Datetime object. For example, one of the row contains value **Dia,Sogeres** in its **created_datetime** cell. Solution is to set the *unparsable* datetime strings to NaT using **error=coerce** paramter in **to_datetime()** call, and then fill NaT value with **fillna()** function using **ffill** method."
   ]
  },
  {
   "cell_type": "code",
   "execution_count": 10,
   "metadata": {},
   "outputs": [],
   "source": [
    "df['created_datetime'] = pd.to_datetime(df['created_datetime'], format='%Y-%m-%dT%H:%M:%SZ', errors='coerce')\n",
    "df['created_datetime'].fillna(method = 'ffill', inplace = True)\n",
    "\n",
    "df['last_modified_datetime'] = pd.to_datetime(df['last_modified_datetime'], format='%Y-%m-%dT%H:%M:%SZ', errors='coerce')\n",
    "df['last_modified_datetime'].fillna(method = 'ffill', inplace = True)\n"
   ]
  },
  {
   "cell_type": "markdown",
   "metadata": {},
   "source": [
    "#### Parse countries_en entries to get *usable* data\n",
    "\n",
    "**countries_en** column is a very special one as it contains the different countries where the product is produced as a comma separated string values. Consequence, this column contains 642 unique entries, which is far much more than the number of countries existing in the world :-) Not very usable for data analysis.\n"
   ]
  },
  {
   "cell_type": "code",
   "execution_count": 11,
   "metadata": {},
   "outputs": [
    {
     "name": "stdout",
     "output_type": "stream",
     "text": [
      "Number of unique entries in 'countries_en' 641\n"
     ]
    }
   ],
   "source": [
    "print(\"Number of unique entries in 'countries_en'\",len(df.countries_en.unique()))"
   ]
  },
  {
   "cell_type": "markdown",
   "metadata": {},
   "source": [
    "So, what can we do ?\n",
    "\n",
    "The approach I've choosen is to *split* comma separated strings into arrays, using the **str.split()** function, and then, for every arrays, I do apply the **Panda.Series** method on it to convert them into **Series**, which by consequence will give me a Dataframe with columns containing the splitted strings.  \n",
    "\n",
    "To do so, I do run the **str.split()** function on the df['countries_en'] serie to get a serie of arrays, use the **apply()** method to run **pd.Series** on each array, and finally run the **stack()** method to transform the serie of arrays into a Dataframe.\n",
    "\n",
    "* Note: The stack method introduces a two level index. Using the **Dataframe.droplevel()** method on the second index (indice = 1) will duplicate entries in the first index and provide a single level index Dataframe. This is exactly what I'm looking for.\n",
    "\n",
    "Looking forward into the Open Food Facts data, we can identify some other columns containing comma separated strings like 'countries_en' ('ingredient_text' for example). For that reason, I've decided to write a generic function that implement this String Splitting algorythm and returns an *expanded* Series.\n",
    "\n"
   ]
  },
  {
   "cell_type": "code",
   "execution_count": 12,
   "metadata": {},
   "outputs": [],
   "source": [
    "\n",
    "def splitStringSeriesToDataframe(data, column_name, sep = ','):\n",
    "    # Split strings using sep as separator\n",
    "    temp = data[column_name].str.split(sep)\n",
    "    \n",
    "    # apply pd.Series constructor on arrays. This will return a Dataframe\n",
    "    temp = temp.apply(pd.Series,1)\n",
    "    \n",
    "    # stack Dataframe\n",
    "    temp = temp.stack()\n",
    "    \n",
    "    # Drop second level index created by the previous stack() call\n",
    "    temp = temp.droplevel(1) # Second index = indice[1]\n",
    "    \n",
    "    # Rename the index\n",
    "    temp.name = column_name + '_splitted'\n",
    "    \n",
    "    return temp\n",
    "\n",
    "\n",
    "countries = splitStringSeriesToDataframe(df,'countries_en')\n"
   ]
  },
  {
   "cell_type": "markdown",
   "metadata": {},
   "source": [
    "Let's have a look at the new Dataframe obtained:"
   ]
  },
  {
   "cell_type": "code",
   "execution_count": 13,
   "metadata": {},
   "outputs": [
    {
     "data": {
      "text/plain": [
       "count            254947\n",
       "unique              202\n",
       "top       United States\n",
       "freq             115895\n",
       "Name: countries_en_splitted, dtype: object"
      ]
     },
     "execution_count": 13,
     "metadata": {},
     "output_type": "execute_result"
    }
   ],
   "source": [
    "countries.describe()"
   ]
  },
  {
   "cell_type": "markdown",
   "metadata": {},
   "source": [
    "The result is far more better as we get 202 unique entries. It's still a bit more than the total number of countries in the world, but better than the 641 entries we get before.\n",
    "\n",
    "Looking deeper in this country list, I've found some entries encoded like **<2_char_country_code>:country_name** :"
   ]
  },
  {
   "cell_type": "code",
   "execution_count": 14,
   "metadata": {},
   "outputs": [
    {
     "data": {
      "text/plain": [
       "array(['fr:Quebec', 'fr:Angleterre', 'fr:Grande-bretagne',\n",
       "       'fr:Deutschland', 'fr:Frankreich', 'fr:Spanien', 'fr:Marseille-5',\n",
       "       'en:fresh-foods', 'en:dairies', 'fr:Alemania', 'fr:Mauricio',\n",
       "       'fr:Reino-unido', 'fr:Франция',\n",
       "       'fr:Bourgogne-aube-nogent-sur-seine', 'fr:Puyricard', 'fr:Ecosse',\n",
       "       'fr:Schweiz', 'fr:Nederland', 'fr:Irland', 'nl:Belgien',\n",
       "       'nl:Deutschland', 'nl:Frankreich', 'nl:Schweiz'], dtype=object)"
      ]
     },
     "execution_count": 14,
     "metadata": {},
     "output_type": "execute_result"
    }
   ],
   "source": [
    "countries[countries.str.contains(':')].unique()"
   ]
  },
  {
   "cell_type": "markdown",
   "metadata": {},
   "source": [
    "Thing to do will be to manipulate the **countries_en** dataframe column with a regex expression to remove the 2 char country code."
   ]
  },
  {
   "cell_type": "code",
   "execution_count": 15,
   "metadata": {},
   "outputs": [
    {
     "name": "stdout",
     "output_type": "stream",
     "text": [
      "Number of unique countries found in this dataset: 195\n"
     ]
    }
   ],
   "source": [
    "df['countries_en'] = df['countries_en'].apply(lambda x: re.sub('[a-z]*:','',x))\n",
    "\n",
    "countries = splitStringSeriesToDataframe(df,'countries_en')\n",
    "\n",
    "print(\"Number of unique countries found in this dataset:\",len(countries.unique()))"
   ]
  },
  {
   "cell_type": "markdown",
   "metadata": {},
   "source": [
    "For sure, the data present in the dataset is very bad, and there's a lot more to do on this **countries_en** column: Some of the countries appears in different languages, some of them looks more like categories instead of coiuntries (en:fresh-foods), others are a city names (fr:Marseille-5).\n",
    "\n",
    "It's now time to manipulate the data and find answers to three questions we may have about the data in this dataset."
   ]
  },
  {
   "cell_type": "markdown",
   "metadata": {},
   "source": [
    "## B. Manipulating the data\n",
    "\n"
   ]
  },
  {
   "cell_type": "markdown",
   "metadata": {},
   "source": [
    "### Question 1: What is the ratio of null value per column in our Dataframe ?\n",
    "We've already cleaned up our Dataframe removing columns where the null values over total lines is above *MAX_NAN_PERCENT_VALUE* %\n",
    "\n",
    "Let's draw a graph showing the null value ratio for each remaining column. This will help us chosing which columns may be used for data analysis. The more null value, the less intersting is the column."
   ]
  },
  {
   "cell_type": "code",
   "execution_count": 105,
   "metadata": {},
   "outputs": [
    {
     "data": {
      "image/png": "[encoded data removed]",
      "text/plain": [
       "<Figure size 1080x720 with 1 Axes>"
      ]
     },
     "metadata": {
      "needs_background": "light"
     },
     "output_type": "display_data"
    }
   ],
   "source": [
    "total_lines = df.shape[0]\n",
    "null_ratio = (df.isnull().sum() /total_lines *100).to_frame()\n",
    "\n",
    "null_ratio.columns=['% of null values']\n",
    "\n",
    "\n",
    "plot.rcParams[\"figure.figsize\"] = [15, 10]\n",
    "null_ratio = null_ratio.sort_values('% of null values', ascending=False).plot.barh()\n",
    "\n",
    "\n",
    "plot.legend(loc = 'upper right')\n",
    "plot.xlabel('% of null values')\n",
    "plot.ylabel('Name of columns')\n",
    "plot.title('Ratio of null values in % per column')\n",
    "\n",
    "plot.show()\n"
   ]
  },
  {
   "cell_type": "markdown",
   "metadata": {},
   "source": [
    "### Question 2: What are the top 10 contries with the highest mean of energy per 100g ?\n",
    "\n",
    "So, first question we may have, in order to use our new *splitStringSeriesToDataframe()* function, would be to identify the top 10 countries having the most energetic food. This could be done by analyzing the *energy_100g* column and sum values per country.\n",
    "\n",
    "First we set our Dataframe index to the *energy_100g* column, and call our *split* function on the *countries_en* column. The result will be a Dataframe that will be reindexed, grouped, sorted and used in a Bar plot.\n",
    "\n",
    "Do not forget to fill empty values with 0 in resulting Dataframe."
   ]
  },
  {
   "cell_type": "code",
   "execution_count": 15,
   "metadata": {},
   "outputs": [
    {
     "data": {
      "image/png": "[encoded data removed]",
      "text/plain": [
       "<Figure size 432x288 with 1 Axes>"
      ]
     },
     "metadata": {
      "needs_background": "light"
     },
     "output_type": "display_data"
    }
   ],
   "source": [
    "energy = splitStringSeriesToDataframe(df.set_index('energy_100g'),'countries_en')\n",
    "\n",
    "energy = energy.to_frame().reset_index().set_index('countries_en_splitted')\n",
    "\n",
    "energy_mean = energy.groupby('countries_en_splitted').mean().sort_values(by = ['energy_100g'],ascending = False).fillna(0)\n",
    "\n",
    "energy_mean.head(10).sort_values(by = ['energy_100g']).plot.barh()\n",
    "plot.legend(loc = 'lower right')\n",
    "plot.ylabel('Countries')\n",
    "plot.xlabel('Energy per 100g')\n",
    "plot.title('Top 10 countries with the highest mean energy per 100g')\n",
    "plot.show()"
   ]
  },
  {
   "cell_type": "markdown",
   "metadata": {},
   "source": [
    "The above graph is a bit surprising, the top most countries seems to be invalid. Looking further in details, we are facing a simple statistic problem. Some of the countries do not have many entries, wich by consequence makes the energy/100g mean for those countries not really relevant.\n",
    "\n",
    "If we look at the number of *energy_100g* entries per countries in our Dataset, we found that 75% of countries contains less than 17 entries, and 50 % of them less than 3. That's the reason why our previous graph was so surprising.\n"
   ]
  },
  {
   "cell_type": "code",
   "execution_count": 16,
   "metadata": {},
   "outputs": [
    {
     "data": {
      "text/html": [
       "<div>\n",
       "<style scoped>\n",
       "    .dataframe tbody tr th:only-of-type {\n",
       "        vertical-align: middle;\n",
       "    }\n",
       "\n",
       "    .dataframe tbody tr th {\n",
       "        vertical-align: top;\n",
       "    }\n",
       "\n",
       "    .dataframe thead th {\n",
       "        text-align: right;\n",
       "    }\n",
       "</style>\n",
       "<table border=\"1\" class=\"dataframe\">\n",
       "  <thead>\n",
       "    <tr style=\"text-align: right;\">\n",
       "      <th></th>\n",
       "      <th>energy_100g</th>\n",
       "    </tr>\n",
       "  </thead>\n",
       "  <tbody>\n",
       "    <tr>\n",
       "      <th>count</th>\n",
       "      <td>195.000000</td>\n",
       "    </tr>\n",
       "    <tr>\n",
       "      <th>mean</th>\n",
       "      <td>1110.435897</td>\n",
       "    </tr>\n",
       "    <tr>\n",
       "      <th>std</th>\n",
       "      <td>9882.381963</td>\n",
       "    </tr>\n",
       "    <tr>\n",
       "      <th>min</th>\n",
       "      <td>0.000000</td>\n",
       "    </tr>\n",
       "    <tr>\n",
       "      <th>25%</th>\n",
       "      <td>1.000000</td>\n",
       "    </tr>\n",
       "    <tr>\n",
       "      <th>50%</th>\n",
       "      <td>3.000000</td>\n",
       "    </tr>\n",
       "    <tr>\n",
       "      <th>75%</th>\n",
       "      <td>17.000000</td>\n",
       "    </tr>\n",
       "    <tr>\n",
       "      <th>max</th>\n",
       "      <td>114582.000000</td>\n",
       "    </tr>\n",
       "  </tbody>\n",
       "</table>\n",
       "</div>"
      ],
      "text/plain": [
       "         energy_100g\n",
       "count     195.000000\n",
       "mean     1110.435897\n",
       "std      9882.381963\n",
       "min         0.000000\n",
       "25%         1.000000\n",
       "50%         3.000000\n",
       "75%        17.000000\n",
       "max    114582.000000"
      ]
     },
     "execution_count": 16,
     "metadata": {},
     "output_type": "execute_result"
    }
   ],
   "source": [
    "energy.groupby('countries_en_splitted').count().describe()"
   ]
  },
  {
   "cell_type": "markdown",
   "metadata": {},
   "source": [
    "Let's redraw this graph by excluding countries where the number of entries is too small (number of entries < 200)"
   ]
  },
  {
   "cell_type": "code",
   "execution_count": 17,
   "metadata": {},
   "outputs": [
    {
     "data": {
      "image/png": "[encoded data removed]",
      "text/plain": [
       "<Figure size 720x360 with 1 Axes>"
      ]
     },
     "metadata": {
      "needs_background": "light"
     },
     "output_type": "display_data"
    }
   ],
   "source": [
    "energy_count = energy.groupby('countries_en_splitted').count()\n",
    "energy_mean = energy.groupby('countries_en_splitted').mean()\n",
    "\n",
    "energy_mean[energy_count['energy_100g'] > 200].sort_values(by = ['energy_100g']).head(10).plot.barh(figsize=(10, 5))\n",
    "\n",
    "plot.title(\"Top 10 countries with the highest mean energy per 100g\")\n",
    "plot.xlabel(\"Mean of energy per 100g \")\n",
    "plot.ylabel(\"Country\")\n",
    "plot.legend(loc='lower right')\n",
    "\n",
    "plot.show()\n"
   ]
  },
  {
   "cell_type": "markdown",
   "metadata": {},
   "source": [
    "### Question 3: Is there any correlation between sugar and salt ?\n",
    "\n",
    "Sugar and salt are used very often in bad food, they are used to make products being addictive to consumers. The more sugar you have in a product, the more you should put salt in it in ordrer to make consumers addict to your product.\n",
    "\n",
    "If that's true, we should find a correlation between sugar and salt. Let's use **seaborn.pairplot** to answer this question."
   ]
  },
  {
   "cell_type": "code",
   "execution_count": 18,
   "metadata": {},
   "outputs": [
    {
     "data": {
      "image/png": "[encoded data removed]",
      "text/plain": [
       "<Figure size 360x360 with 1 Axes>"
      ]
     },
     "metadata": {
      "needs_background": "light"
     },
     "output_type": "display_data"
    }
   ],
   "source": [
    "sugar_and_salt = df.reset_index()[['sugars_100g','salt_100g']].fillna(0)\n",
    "\n",
    "sns.pairplot(sugar_and_salt,x_vars='sugars_100g',y_vars='salt_100g',height=5)\n",
    "plot.show()"
   ]
  },
  {
   "cell_type": "markdown",
   "metadata": {},
   "source": [
    "This first graph shows that there is outstanding values in the Dataframe, which obviously should be wrong values. Using the **describe()** method, we can confirm that some of the values should be considered as bad one:\n",
    "* Negative values are not coherent\n",
    "* 64'000 g of salt per 100g of food is impossible\n",
    "\n",
    "My approach: Remove negative values and all the values that are third more important than the mean value"
   ]
  },
  {
   "cell_type": "code",
   "execution_count": 19,
   "metadata": {},
   "outputs": [
    {
     "data": {
      "text/html": [
       "<div>\n",
       "<style scoped>\n",
       "    .dataframe tbody tr th:only-of-type {\n",
       "        vertical-align: middle;\n",
       "    }\n",
       "\n",
       "    .dataframe tbody tr th {\n",
       "        vertical-align: top;\n",
       "    }\n",
       "\n",
       "    .dataframe thead th {\n",
       "        text-align: right;\n",
       "    }\n",
       "</style>\n",
       "<table border=\"1\" class=\"dataframe\">\n",
       "  <thead>\n",
       "    <tr style=\"text-align: right;\">\n",
       "      <th></th>\n",
       "      <th>sugars_100g</th>\n",
       "      <th>salt_100g</th>\n",
       "    </tr>\n",
       "  </thead>\n",
       "  <tbody>\n",
       "    <tr>\n",
       "      <th>count</th>\n",
       "      <td>249065.000000</td>\n",
       "      <td>249065.000000</td>\n",
       "    </tr>\n",
       "    <tr>\n",
       "      <th>mean</th>\n",
       "      <td>12.853372</td>\n",
       "      <td>1.634025</td>\n",
       "    </tr>\n",
       "    <tr>\n",
       "      <th>std</th>\n",
       "      <td>20.961988</td>\n",
       "      <td>129.618056</td>\n",
       "    </tr>\n",
       "    <tr>\n",
       "      <th>min</th>\n",
       "      <td>-6.250000</td>\n",
       "      <td>0.000000</td>\n",
       "    </tr>\n",
       "    <tr>\n",
       "      <th>25%</th>\n",
       "      <td>0.000000</td>\n",
       "      <td>0.000000</td>\n",
       "    </tr>\n",
       "    <tr>\n",
       "      <th>50%</th>\n",
       "      <td>3.330000</td>\n",
       "      <td>0.241300</td>\n",
       "    </tr>\n",
       "    <tr>\n",
       "      <th>75%</th>\n",
       "      <td>17.120000</td>\n",
       "      <td>1.148080</td>\n",
       "    </tr>\n",
       "    <tr>\n",
       "      <th>max</th>\n",
       "      <td>3520.000000</td>\n",
       "      <td>64312.800000</td>\n",
       "    </tr>\n",
       "  </tbody>\n",
       "</table>\n",
       "</div>"
      ],
      "text/plain": [
       "         sugars_100g      salt_100g\n",
       "count  249065.000000  249065.000000\n",
       "mean       12.853372       1.634025\n",
       "std        20.961988     129.618056\n",
       "min        -6.250000       0.000000\n",
       "25%         0.000000       0.000000\n",
       "50%         3.330000       0.241300\n",
       "75%        17.120000       1.148080\n",
       "max      3520.000000   64312.800000"
      ]
     },
     "execution_count": 19,
     "metadata": {},
     "output_type": "execute_result"
    }
   ],
   "source": [
    "sugar_and_salt.describe()"
   ]
  },
  {
   "cell_type": "code",
   "execution_count": 20,
   "metadata": {},
   "outputs": [
    {
     "data": {
      "image/png": "[encoded data removed]",
      "text/plain": [
       "<Figure size 360x360 with 1 Axes>"
      ]
     },
     "metadata": {
      "needs_background": "light"
     },
     "output_type": "display_data"
    }
   ],
   "source": [
    "sugar_and_salt = df.reset_index()[['sugars_100g','salt_100g','countries_en']].fillna(0)\n",
    "\n",
    "sugar_up_limit = sugar_and_salt['sugars_100g'].mean() * 3\n",
    "salt_up_limit = sugar_and_salt['salt_100g'].mean() * 3\n",
    "\n",
    "filter = np.logical_and.reduce(\n",
    "    [\n",
    "        sugar_and_salt['sugars_100g'] >= 0,\n",
    "        sugar_and_salt['salt_100g'] >= 0,\n",
    "        sugar_and_salt['sugars_100g'] < sugar_up_limit,\n",
    "        sugar_and_salt['salt_100g'] < salt_up_limit,\n",
    "    ]\n",
    ")\n",
    "sugar_and_salt = sugar_and_salt[filter]\n",
    "sugar_and_salt.describe()\n",
    "\n",
    "sns.pairplot(sugar_and_salt,x_vars='sugars_100g',y_vars='salt_100g',height=5)\n",
    "plot.xlabel(\"% of sugar in food\")\n",
    "plot.ylabel(\"% of salt in food\")\n",
    "plot.title(\"Correslation between salt and sugar\")\n",
    "\n",
    "plot.show()\n",
    "\n"
   ]
  },
  {
   "cell_type": "markdown",
   "metadata": {},
   "source": [
    "Obvisously, according to the previous graph, we can not conclude on any correlation between the quantity of salt and sugars in food."
   ]
  },
  {
   "cell_type": "markdown",
   "metadata": {},
   "source": [
    "## C. Text data"
   ]
  },
  {
   "cell_type": "markdown",
   "metadata": {},
   "source": [
    "We will now try to find out the five most common ingredients used in products. \n",
    "Again, we will use the *splitStringSeriesToDataframe()* function we've defined above to split the *ingredients_text* column into a dataframe.\n",
    "\n",
    "Based on this new dataframe, we will re-index it using the *ingrediens_text_splitted* column, use this column as *DataFrame.groupby()* function parameter, and use the *count()* method to sum up the number of lines with identical ingredients. Sorting the dataframe by this count value and grabbing the first 5 lines will give us the top most five ingredients used in food.\n",
    "\n"
   ]
  },
  {
   "cell_type": "code",
   "execution_count": 21,
   "metadata": {},
   "outputs": [],
   "source": [
    "# Split column and build a Dataframe with our smart function\n",
    "ingredients = splitStringSeriesToDataframe(df,'ingredients_text').to_frame()\n"
   ]
  },
  {
   "cell_type": "code",
   "execution_count": 22,
   "metadata": {},
   "outputs": [
    {
     "name": "stdout",
     "output_type": "stream",
     "text": [
      "Top five ingredients used in food\n"
     ]
    },
    {
     "data": {
      "text/html": [
       "<div>\n",
       "<style scoped>\n",
       "    .dataframe tbody tr th:only-of-type {\n",
       "        vertical-align: middle;\n",
       "    }\n",
       "\n",
       "    .dataframe tbody tr th {\n",
       "        vertical-align: top;\n",
       "    }\n",
       "\n",
       "    .dataframe thead th {\n",
       "        text-align: right;\n",
       "    }\n",
       "</style>\n",
       "<table border=\"1\" class=\"dataframe\">\n",
       "  <thead>\n",
       "    <tr style=\"text-align: right;\">\n",
       "      <th></th>\n",
       "      <th>product_name</th>\n",
       "    </tr>\n",
       "    <tr>\n",
       "      <th>ingredients_text_splitted</th>\n",
       "      <th></th>\n",
       "    </tr>\n",
       "  </thead>\n",
       "  <tbody>\n",
       "    <tr>\n",
       "      <th>salt</th>\n",
       "      <td>57346</td>\n",
       "    </tr>\n",
       "    <tr>\n",
       "      <th>sugar</th>\n",
       "      <td>36335</td>\n",
       "    </tr>\n",
       "    <tr>\n",
       "      <th>water</th>\n",
       "      <td>32406</td>\n",
       "    </tr>\n",
       "    <tr>\n",
       "      <th>sel</th>\n",
       "      <td>32179</td>\n",
       "    </tr>\n",
       "    <tr>\n",
       "      <th>sucre</th>\n",
       "      <td>21690</td>\n",
       "    </tr>\n",
       "  </tbody>\n",
       "</table>\n",
       "</div>"
      ],
      "text/plain": [
       "                           product_name\n",
       "ingredients_text_splitted              \n",
       " salt                             57346\n",
       " sugar                            36335\n",
       " water                            32406\n",
       " sel                              32179\n",
       " sucre                            21690"
      ]
     },
     "execution_count": 22,
     "metadata": {},
     "output_type": "execute_result"
    }
   ],
   "source": [
    "# Set splitted values as the DataFrame index\n",
    "ingredients_grouped = ingredients.reset_index().set_index('ingredients_text_splitted')\n",
    "\n",
    "# Group by the ingredients column, use the count() function\n",
    "ingredients_grouped = ingredients_grouped.groupby('ingredients_text_splitted').count()\n",
    "\n",
    "# sort values in descending order\n",
    "ingredients_grouped = ingredients_grouped.sort_values(by = ['product_name'],ascending = False)\n",
    "\n",
    "# Print top five\n",
    "print(\"Top five ingredients used in food\")\n",
    "ingredients_grouped.head(5)"
   ]
  },
  {
   "cell_type": "markdown",
   "metadata": {},
   "source": [
    "Again, this dataset is so bad that we find out french and english names for ingredients.\n",
    "\n",
    "How boring is that datasource........"
   ]
  },
  {
   "cell_type": "code",
   "execution_count": 23,
   "metadata": {},
   "outputs": [
    {
     "data": {
      "text/html": [
       "<div>\n",
       "<style scoped>\n",
       "    .dataframe tbody tr th:only-of-type {\n",
       "        vertical-align: middle;\n",
       "    }\n",
       "\n",
       "    .dataframe tbody tr th {\n",
       "        vertical-align: top;\n",
       "    }\n",
       "\n",
       "    .dataframe thead th {\n",
       "        text-align: right;\n",
       "    }\n",
       "</style>\n",
       "<table border=\"1\" class=\"dataframe\">\n",
       "  <thead>\n",
       "    <tr style=\"text-align: right;\">\n",
       "      <th></th>\n",
       "      <th>product_name</th>\n",
       "    </tr>\n",
       "    <tr>\n",
       "      <th>ingredients_translated</th>\n",
       "      <th></th>\n",
       "    </tr>\n",
       "  </thead>\n",
       "  <tbody>\n",
       "    <tr>\n",
       "      <th>salt</th>\n",
       "      <td>110656</td>\n",
       "    </tr>\n",
       "    <tr>\n",
       "      <th>sugar</th>\n",
       "      <td>72547</td>\n",
       "    </tr>\n",
       "    <tr>\n",
       "      <th>water</th>\n",
       "      <td>65271</td>\n",
       "    </tr>\n",
       "    <tr>\n",
       "      <th>citricacid</th>\n",
       "      <td>19178</td>\n",
       "    </tr>\n",
       "    <tr>\n",
       "      <th>dextrose</th>\n",
       "      <td>14568</td>\n",
       "    </tr>\n",
       "    <tr>\n",
       "      <th>niacin</th>\n",
       "      <td>13634</td>\n",
       "    </tr>\n",
       "    <tr>\n",
       "      <th>riboflavin</th>\n",
       "      <td>12384</td>\n",
       "    </tr>\n",
       "    <tr>\n",
       "      <th>cornsyrup</th>\n",
       "      <td>12216</td>\n",
       "    </tr>\n",
       "    <tr>\n",
       "      <th>folicacid</th>\n",
       "      <td>11439</td>\n",
       "    </tr>\n",
       "    <tr>\n",
       "      <th>naturalflavor</th>\n",
       "      <td>9641</td>\n",
       "    </tr>\n",
       "    <tr>\n",
       "      <th>reducediron</th>\n",
       "      <td>9286</td>\n",
       "    </tr>\n",
       "    <tr>\n",
       "      <th>spices</th>\n",
       "      <td>9112</td>\n",
       "    </tr>\n",
       "    <tr>\n",
       "      <th>thiaminemononitrate</th>\n",
       "      <td>7941</td>\n",
       "    </tr>\n",
       "    <tr>\n",
       "      <th>soybeanoil</th>\n",
       "      <td>7613</td>\n",
       "    </tr>\n",
       "    <tr>\n",
       "      <th>salt.</th>\n",
       "      <td>7565</td>\n",
       "    </tr>\n",
       "  </tbody>\n",
       "</table>\n",
       "</div>"
      ],
      "text/plain": [
       "                        product_name\n",
       "ingredients_translated              \n",
       "salt                          110656\n",
       "sugar                          72547\n",
       "water                          65271\n",
       "citricacid                     19178\n",
       "dextrose                       14568\n",
       "niacin                         13634\n",
       "riboflavin                     12384\n",
       "cornsyrup                      12216\n",
       "folicacid                      11439\n",
       "naturalflavor                   9641\n",
       "reducediron                     9286\n",
       "spices                          9112\n",
       "thiaminemononitrate             7941\n",
       "soybeanoil                      7613\n",
       "salt.                           7565"
      ]
     },
     "execution_count": 23,
     "metadata": {},
     "output_type": "execute_result"
    }
   ],
   "source": [
    "# Reset index\n",
    "ingredients_grouped = ingredients.reset_index()\n",
    "\n",
    "# perform some cleanup on data using a function\n",
    "def transform(s):\n",
    "    s=s.str.lower()  # lower all characters for better grouping results\n",
    "    s=s.str.replace('sel','salt')\n",
    "    s=s.str.replace('sucre','sugar')\n",
    "    s=s.str.replace('eau','water')\n",
    "    s=s.str.replace(')','') # remove parenthesis\n",
    "    s=s.str.replace('(','') # remove parenthesis\n",
    "    s=s.str.replace(' ','') # remove all spaces\n",
    "    s=s.str.replace('seasalt','salt')\n",
    "    return s\n",
    "ingredients_grouped['ingredients_translated'] = transform(ingredients_grouped['ingredients_text_splitted'])\n",
    "\n",
    "# set new translated column as index\n",
    "ingredients_grouped = ingredients_grouped.reset_index().set_index('ingredients_translated')\n",
    "\n",
    "# Group by the ingredients column, use the count() function\n",
    "ingredients_grouped = ingredients_grouped.groupby('ingredients_translated').count()\n",
    "\n",
    "# sort values in descending order\n",
    "ingredients_grouped = ingredients_grouped.sort_values(by = ['product_name'],ascending = False)\n",
    "\n",
    "# Print top 15 to ensure our result does not mix french and english ingredient names\n",
    "#\n",
    "ingredients_grouped[['product_name']].head(15)\n"
   ]
  },
  {
   "cell_type": "code",
   "execution_count": 24,
   "metadata": {},
   "outputs": [
    {
     "name": "stdout",
     "output_type": "stream",
     "text": [
      "Top five ingredients used in food\n"
     ]
    },
    {
     "data": {
      "text/html": [
       "<div>\n",
       "<style scoped>\n",
       "    .dataframe tbody tr th:only-of-type {\n",
       "        vertical-align: middle;\n",
       "    }\n",
       "\n",
       "    .dataframe tbody tr th {\n",
       "        vertical-align: top;\n",
       "    }\n",
       "\n",
       "    .dataframe thead th {\n",
       "        text-align: right;\n",
       "    }\n",
       "</style>\n",
       "<table border=\"1\" class=\"dataframe\">\n",
       "  <thead>\n",
       "    <tr style=\"text-align: right;\">\n",
       "      <th></th>\n",
       "      <th>product_name</th>\n",
       "    </tr>\n",
       "    <tr>\n",
       "      <th>ingredients_translated</th>\n",
       "      <th></th>\n",
       "    </tr>\n",
       "  </thead>\n",
       "  <tbody>\n",
       "    <tr>\n",
       "      <th>salt</th>\n",
       "      <td>110656</td>\n",
       "    </tr>\n",
       "    <tr>\n",
       "      <th>sugar</th>\n",
       "      <td>72547</td>\n",
       "    </tr>\n",
       "    <tr>\n",
       "      <th>water</th>\n",
       "      <td>65271</td>\n",
       "    </tr>\n",
       "    <tr>\n",
       "      <th>citricacid</th>\n",
       "      <td>19178</td>\n",
       "    </tr>\n",
       "    <tr>\n",
       "      <th>dextrose</th>\n",
       "      <td>14568</td>\n",
       "    </tr>\n",
       "  </tbody>\n",
       "</table>\n",
       "</div>"
      ],
      "text/plain": [
       "                        product_name\n",
       "ingredients_translated              \n",
       "salt                          110656\n",
       "sugar                          72547\n",
       "water                          65271\n",
       "citricacid                     19178\n",
       "dextrose                       14568"
      ]
     },
     "execution_count": 24,
     "metadata": {},
     "output_type": "execute_result"
    }
   ],
   "source": [
    "# Ok, looks good now. Let's print our top five ingredients\n",
    "print(\"Top five ingredients used in food\")\n",
    "ingredients_grouped[['product_name']].head(5)"
   ]
  },
  {
   "cell_type": "markdown",
   "metadata": {},
   "source": [
    "## D. Time-series analysis\n",
    "You will investigate more closely the created_datetime and last_modified_datetime. First, you will analyze the mean time difference between these two values. And second, you will analyze the total number of items created each month over the full timeline of the data. For the second question, you will also choose an appropriate method to visualize your findings.\n",
    "\n",
    "\n",
    "\n"
   ]
  },
  {
   "cell_type": "code",
   "execution_count": 25,
   "metadata": {},
   "outputs": [
    {
     "data": {
      "text/html": [
       "<div>\n",
       "<style scoped>\n",
       "    .dataframe tbody tr th:only-of-type {\n",
       "        vertical-align: middle;\n",
       "    }\n",
       "\n",
       "    .dataframe tbody tr th {\n",
       "        vertical-align: top;\n",
       "    }\n",
       "\n",
       "    .dataframe thead th {\n",
       "        text-align: right;\n",
       "    }\n",
       "</style>\n",
       "<table border=\"1\" class=\"dataframe\">\n",
       "  <thead>\n",
       "    <tr style=\"text-align: right;\">\n",
       "      <th></th>\n",
       "      <th>created_datetime</th>\n",
       "      <th>last_modified_datetime</th>\n",
       "      <th>categories</th>\n",
       "      <th>categories_en</th>\n",
       "      <th>countries_en</th>\n",
       "      <th>ingredients_text</th>\n",
       "      <th>serving_size</th>\n",
       "      <th>additives_n</th>\n",
       "      <th>additives_en</th>\n",
       "      <th>nutrition_grade_fr</th>\n",
       "      <th>main_category</th>\n",
       "      <th>main_category_en</th>\n",
       "      <th>energy_100g</th>\n",
       "      <th>fat_100g</th>\n",
       "      <th>saturated-fat_100g</th>\n",
       "      <th>trans-fat_100g</th>\n",
       "      <th>cholesterol_100g</th>\n",
       "      <th>carbohydrates_100g</th>\n",
       "      <th>sugars_100g</th>\n",
       "      <th>fiber_100g</th>\n",
       "      <th>proteins_100g</th>\n",
       "      <th>salt_100g</th>\n",
       "      <th>sodium_100g</th>\n",
       "      <th>vitamin-a_100g</th>\n",
       "      <th>vitamin-c_100g</th>\n",
       "      <th>calcium_100g</th>\n",
       "      <th>iron_100g</th>\n",
       "      <th>nutrition-score-fr_100g</th>\n",
       "      <th>nutrition-score-uk_100g</th>\n",
       "    </tr>\n",
       "    <tr>\n",
       "      <th>product_name</th>\n",
       "      <th></th>\n",
       "      <th></th>\n",
       "      <th></th>\n",
       "      <th></th>\n",
       "      <th></th>\n",
       "      <th></th>\n",
       "      <th></th>\n",
       "      <th></th>\n",
       "      <th></th>\n",
       "      <th></th>\n",
       "      <th></th>\n",
       "      <th></th>\n",
       "      <th></th>\n",
       "      <th></th>\n",
       "      <th></th>\n",
       "      <th></th>\n",
       "      <th></th>\n",
       "      <th></th>\n",
       "      <th></th>\n",
       "      <th></th>\n",
       "      <th></th>\n",
       "      <th></th>\n",
       "      <th></th>\n",
       "      <th></th>\n",
       "      <th></th>\n",
       "      <th></th>\n",
       "      <th></th>\n",
       "      <th></th>\n",
       "      <th></th>\n",
       "    </tr>\n",
       "  </thead>\n",
       "  <tbody>\n",
       "    <tr>\n",
       "      <th>Farine de blé noir</th>\n",
       "      <td>2016-09-17 09:17:46</td>\n",
       "      <td>2016-09-17 09:18:13</td>\n",
       "      <td>NaN</td>\n",
       "      <td>NaN</td>\n",
       "      <td>France</td>\n",
       "      <td>NaN</td>\n",
       "      <td>NaN</td>\n",
       "      <td>NaN</td>\n",
       "      <td>NaN</td>\n",
       "      <td>NaN</td>\n",
       "      <td>NaN</td>\n",
       "      <td>NaN</td>\n",
       "      <td>NaN</td>\n",
       "      <td>NaN</td>\n",
       "      <td>NaN</td>\n",
       "      <td>NaN</td>\n",
       "      <td>NaN</td>\n",
       "      <td>NaN</td>\n",
       "      <td>NaN</td>\n",
       "      <td>NaN</td>\n",
       "      <td>NaN</td>\n",
       "      <td>NaN</td>\n",
       "      <td>NaN</td>\n",
       "      <td>NaN</td>\n",
       "      <td>NaN</td>\n",
       "      <td>NaN</td>\n",
       "      <td>NaN</td>\n",
       "      <td>NaN</td>\n",
       "      <td>NaN</td>\n",
       "    </tr>\n",
       "  </tbody>\n",
       "</table>\n",
       "</div>"
      ],
      "text/plain": [
       "                      created_datetime last_modified_datetime categories  \\\n",
       "product_name                                                               \n",
       "Farine de blé noir 2016-09-17 09:17:46    2016-09-17 09:18:13        NaN   \n",
       "\n",
       "                   categories_en countries_en ingredients_text serving_size  \\\n",
       "product_name                                                                  \n",
       "Farine de blé noir           NaN       France              NaN          NaN   \n",
       "\n",
       "                    additives_n additives_en nutrition_grade_fr main_category  \\\n",
       "product_name                                                                    \n",
       "Farine de blé noir          NaN          NaN                NaN           NaN   \n",
       "\n",
       "                   main_category_en  energy_100g  fat_100g  \\\n",
       "product_name                                                 \n",
       "Farine de blé noir              NaN          NaN       NaN   \n",
       "\n",
       "                    saturated-fat_100g  trans-fat_100g  cholesterol_100g  \\\n",
       "product_name                                                               \n",
       "Farine de blé noir                 NaN             NaN               NaN   \n",
       "\n",
       "                    carbohydrates_100g  sugars_100g  fiber_100g  \\\n",
       "product_name                                                      \n",
       "Farine de blé noir                 NaN          NaN         NaN   \n",
       "\n",
       "                    proteins_100g  salt_100g  sodium_100g  vitamin-a_100g  \\\n",
       "product_name                                                                \n",
       "Farine de blé noir            NaN        NaN          NaN             NaN   \n",
       "\n",
       "                    vitamin-c_100g  calcium_100g  iron_100g  \\\n",
       "product_name                                                  \n",
       "Farine de blé noir             NaN           NaN        NaN   \n",
       "\n",
       "                    nutrition-score-fr_100g  nutrition-score-uk_100g  \n",
       "product_name                                                          \n",
       "Farine de blé noir                      NaN                      NaN  "
      ]
     },
     "execution_count": 25,
     "metadata": {},
     "output_type": "execute_result"
    }
   ],
   "source": [
    "df.head(1)"
   ]
  },
  {
   "cell_type": "markdown",
   "metadata": {},
   "source": [
    "## E. Build a database\n",
    "\n",
    "The question we would like to answer using an SQLite database is:\n",
    "- What are the top five most energetic product which belongs to the *Biscuits* category ?\n",
    "\n",
    "To achieve that goal, we will:\n",
    "- Create (or open) a database connection to an SQLite file (using sqlite3 lib)\n",
    "- Create a cursor object to interact with the database\n",
    "- Restrict data from DataFrame to MAX_DB_LINES lines and COLUMN_LIST columns\n",
    "- Create a *foodfacts* table with *product_name* as primary key\n",
    "- Load data into this table, without the *categories* column\n",
    "- Create a *product_categories* table which contains two columns: the *product_name* and its *category*\n",
    "- As *category* in our Dataframe may be multivaluated, we use our magic function *splitStringSeriesToDataframe* to split multivaluated cells\n",
    "- Load the previous result into the *product_categories* table\n",
    "- Run an SQL query joining those two tables, filtering by *category = 'Biscuits'*, sort descending and limit result to 5.\n",
    "\n",
    "\n",
    "That's it :-)\n"
   ]
  },
  {
   "cell_type": "code",
   "execution_count": 159,
   "metadata": {},
   "outputs": [],
   "source": [
    "# Import sqlite3 library\n",
    "import sqlite3\n",
    "\n",
    "# Establish a connection to our database\n",
    "db = sqlite3.connect(\"data/my_database.db\")\n",
    "\n",
    "# Get a cursor object on our database to perform some SQL queries out from Pandas\n",
    "cursor = db.cursor()\n",
    "\n"
   ]
  },
  {
   "cell_type": "code",
   "execution_count": 160,
   "metadata": {},
   "outputs": [
    {
     "name": "stdout",
     "output_type": "stream",
     "text": [
      "Query used to create 'foodfacts' table: CREATE TABLE foodfacts (product_name VARCHAR, energy_100g VARCHAR, fat_100g VARCHAR, sugars_100g VARCHAR, proteins_100g VARCHAR, salt_100g VARCHAR, PRIMARY KEY(product_name))\n"
     ]
    }
   ],
   "source": [
    "# Max number of our Dataframe entries loaded into our DB\n",
    "MAX_DB_LINES=9000\n",
    "\n",
    "# list of columns kept from dataframe\n",
    "COLUMN_LIST = ['categories','energy_100g','fat_100g','sugars_100g','proteins_100g','salt_100g']\n",
    "limited_df = df.head(MAX_DB_LINES)[COLUMN_LIST]\n",
    "\n",
    "# Drop tables for cleanup (this will ensure that Notebook could be ruan several times)\n",
    "cursor.execute(\"DROP TABLE IF EXISTS foodfacts\")\n",
    "\n",
    "# Create 'foodfacts' table using 'product_name' as a primary key\n",
    "create_query = \"CREATE TABLE foodfacts (product_name VARCHAR, \" + ' VARCHAR, '.join(COLUMN_LIST[1:]) + \" VARCHAR, PRIMARY KEY(product_name))\"\n",
    "\n",
    "print(\"Query used to create 'foodfacts' table:\",create_query)\n",
    "cursor.execute(create_query)\n",
    "\n",
    "# Load our Datafram into our SQL DB removing the 'categories' column\n",
    "limited_df.drop(['categories'],axis=1).to_sql(name='foodfacts', con=db, if_exists='append', index=True)\n",
    "\n",
    "\n"
   ]
  },
  {
   "cell_type": "code",
   "execution_count": 106,
   "metadata": {},
   "outputs": [
    {
     "ename": "NameError",
     "evalue": "name 'cursor' is not defined",
     "output_type": "error",
     "traceback": [
      "\u001b[0;31m---------------------------------------------------------------------------\u001b[0m",
      "\u001b[0;31mNameError\u001b[0m                                 Traceback (most recent call last)",
      "\u001b[0;32m<ipython-input-106-a21c4a341f8b>\u001b[0m in \u001b[0;36m<module>\u001b[0;34m\u001b[0m\n\u001b[1;32m      1\u001b[0m \u001b[0;31m# Drop tables for cleanup (this will ensure that Notebook could be ran several times)\u001b[0m\u001b[0;34m\u001b[0m\u001b[0;34m\u001b[0m\u001b[0;34m\u001b[0m\u001b[0m\n\u001b[0;32m----> 2\u001b[0;31m \u001b[0mcursor\u001b[0m\u001b[0;34m.\u001b[0m\u001b[0mexecute\u001b[0m\u001b[0;34m(\u001b[0m\u001b[0;34m\"DROP TABLE IF EXISTS product_categories\"\u001b[0m\u001b[0;34m)\u001b[0m\u001b[0;34m\u001b[0m\u001b[0;34m\u001b[0m\u001b[0m\n\u001b[0m\u001b[1;32m      3\u001b[0m \u001b[0;34m\u001b[0m\u001b[0m\n\u001b[1;32m      4\u001b[0m \u001b[0;31m# Build a 'category' dict\u001b[0m\u001b[0;34m\u001b[0m\u001b[0;34m\u001b[0m\u001b[0;34m\u001b[0m\u001b[0m\n\u001b[1;32m      5\u001b[0m \u001b[0mcategories\u001b[0m \u001b[0;34m=\u001b[0m \u001b[0msplitStringSeriesToDataframe\u001b[0m\u001b[0;34m(\u001b[0m\u001b[0mlimited_df\u001b[0m\u001b[0;34m,\u001b[0m\u001b[0;34m'categories'\u001b[0m\u001b[0;34m)\u001b[0m\u001b[0;34m.\u001b[0m\u001b[0mto_frame\u001b[0m\u001b[0;34m(\u001b[0m\u001b[0;34m)\u001b[0m\u001b[0;34m\u001b[0m\u001b[0;34m\u001b[0m\u001b[0m\n",
      "\u001b[0;31mNameError\u001b[0m: name 'cursor' is not defined"
     ]
    }
   ],
   "source": [
    "# Drop tables for cleanup (this will ensure that Notebook could be ran several times)\n",
    "cursor.execute(\"DROP TABLE IF EXISTS product_categories\")\n",
    "\n",
    "# Build a 'category' dict\n",
    "categories = splitStringSeriesToDataframe(limited_df,'categories').to_frame()\n",
    "categories.to_sql(name='product_categories', con=db, index = True)"
   ]
  },
  {
   "cell_type": "code",
   "execution_count": 164,
   "metadata": {},
   "outputs": [
    {
     "name": "stdout",
     "output_type": "stream",
     "text": [
      "Energy/kg per product which belongs to the 'Bisuits' category\n"
     ]
    },
    {
     "data": {
      "text/html": [
       "<div>\n",
       "<style scoped>\n",
       "    .dataframe tbody tr th:only-of-type {\n",
       "        vertical-align: middle;\n",
       "    }\n",
       "\n",
       "    .dataframe tbody tr th {\n",
       "        vertical-align: top;\n",
       "    }\n",
       "\n",
       "    .dataframe thead th {\n",
       "        text-align: right;\n",
       "    }\n",
       "</style>\n",
       "<table border=\"1\" class=\"dataframe\">\n",
       "  <thead>\n",
       "    <tr style=\"text-align: right;\">\n",
       "      <th></th>\n",
       "      <th>energy_per_kg</th>\n",
       "    </tr>\n",
       "    <tr>\n",
       "      <th>product</th>\n",
       "      <th></th>\n",
       "    </tr>\n",
       "  </thead>\n",
       "  <tbody>\n",
       "    <tr>\n",
       "      <th>Chocolate Chunk Crispy Cookies - Dark Chocolate Pecan</th>\n",
       "      <td>2269.0</td>\n",
       "    </tr>\n",
       "    <tr>\n",
       "      <th>Milano Distinctive Cookies</th>\n",
       "      <td>2260.0</td>\n",
       "    </tr>\n",
       "    <tr>\n",
       "      <th>Chocolate Chunk Milk Chocolate Macadamia Crispy Cookies</th>\n",
       "      <td>2230.0</td>\n",
       "    </tr>\n",
       "    <tr>\n",
       "      <th>Milano Dark Chocolate</th>\n",
       "      <td>2210.0</td>\n",
       "    </tr>\n",
       "    <tr>\n",
       "      <th>Milano Orange Flavored Chocolate</th>\n",
       "      <td>2180.0</td>\n",
       "    </tr>\n",
       "  </tbody>\n",
       "</table>\n",
       "</div>"
      ],
      "text/plain": [
       "                                                   energy_per_kg\n",
       "product                                                         \n",
       "Chocolate Chunk Crispy Cookies - Dark Chocolate...        2269.0\n",
       "Milano Distinctive Cookies                                2260.0\n",
       "Chocolate Chunk Milk Chocolate Macadamia Crispy...        2230.0\n",
       "Milano Dark Chocolate                                     2210.0\n",
       "Milano Orange Flavored Chocolate                          2180.0"
      ]
     },
     "execution_count": 164,
     "metadata": {},
     "output_type": "execute_result"
    }
   ],
   "source": [
    "# Now, select the top five most energetic product which are in category 'Biscuits'\n",
    "# Display energy value as energy/kg\n",
    "\n",
    "# defining our helper function for running queries (taken from the courses)\n",
    "def run_query(query):\n",
    "    return pd.read_sql_query(query,db)\n",
    "\n",
    "\n",
    "print(\"Energy/kg per product which belongs to the 'Bisuits' category\")\n",
    "run_query(\"\"\"\n",
    "SELECT\n",
    "  F.product_name AS product,\n",
    "  F.energy_100g AS energy_per_kg\n",
    "FROM foodfacts AS F\n",
    "INNER JOIN product_categories AS C ON (F.product_name = C.product_name)\n",
    "WHERE 1=1\n",
    "AND C.categories_splitted = 'Biscuits'\n",
    "ORDER BY energy_per_kg DESC LIMIT 5\n",
    "          \"\"\").set_index('product')"
   ]
  },
  {
   "cell_type": "markdown",
   "metadata": {},
   "source": [
    "## F. Finding correlations"
   ]
  },
  {
   "cell_type": "markdown",
   "metadata": {},
   "source": [
    "### Is there a correlation between fat, sugar, proteins and the nutrition score ?\n",
    "\n",
    "For that purpose, we'll build a correlation matrix from my dataframe, reduced to 4 columns: sugars_100g, fat_100g, proteins_100g and nutrition-score-fr_100g\n",
    "\n",
    "We will then represent this matrix using an seaborn heatmap graph."
   ]
  },
  {
   "cell_type": "code",
   "execution_count": 27,
   "metadata": {},
   "outputs": [
    {
     "data": {
      "image/png": "[encoded data removed]",
      "text/plain": [
       "<Figure size 432x432 with 2 Axes>"
      ]
     },
     "metadata": {
      "needs_background": "light"
     },
     "output_type": "display_data"
    }
   ],
   "source": [
    "# use the dr.corr method to get our correlation matrix\n",
    "matrix = df[['sugars_100g','fat_100g','proteins_100g','nutrition-score-fr_100g']].corr()\n",
    "\n",
    "# set some option for our heatmap graph.\n",
    "f, ax = plot.subplots(figsize=(6, 6))\n",
    "\n",
    "# define graph title\n",
    "f.text(0, 1, \"Correlation matrix between fat, sugar, protein and nutrition score\", ha='center', fontsize = 12)\n",
    "\n",
    "# draw the heatmap\n",
    "#sns.heatmap(corrmat, square=True, linewidths=0.01, cmap=\"coolwarm\")\n",
    "sns.heatmap(matrix, square=True, linewidths=1, cmap=\"coolwarm\")\n",
    "#plot.tight_layout()\n",
    "plot.show()"
   ]
  },
  {
   "cell_type": "markdown",
   "metadata": {},
   "source": [
    "#### What can we say from the above Matrix ?\n",
    "\n",
    "Well, not surpisingly, nutrition score is mostly correlated with fat. Fat is the best energy container we have in nature. Without fat, life is not possible (think about lipids that protect our cells).\n",
    "\n",
    "Protein seems to be inversly proportionnal to nutrition score, same with sugar (T-Bone steack is not really tasting with chocolate sauce :-) )\n"
   ]
  }
 ],
 "metadata": {
  "kernelspec": {
   "display_name": "Python 3",
   "language": "python",
   "name": "python3"
  },
  "language_info": {
   "codemirror_mode": {
    "name": "ipython",
    "version": 3
   },
   "file_extension": ".py",
   "mimetype": "text/x-python",
   "name": "python",
   "nbconvert_exporter": "python",
   "pygments_lexer": "ipython3",
   "version": "3.6.10"
  }
 },
 "nbformat": 4,
 "nbformat_minor": 4
}
