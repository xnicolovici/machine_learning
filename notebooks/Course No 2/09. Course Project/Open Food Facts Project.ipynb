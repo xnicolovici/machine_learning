{
 "cells": [
  {
   "cell_type": "markdown",
   "metadata": {},
   "source": [
    "# Open Food Facts Course Project - Cleaning, manipulating and visualizing"
   ]
  },
  {
   "cell_type": "markdown",
   "metadata": {},
   "source": [
    "First of all, let's import usefull libraries for the project and make matplolib displaying graphs inline the Notebook."
   ]
  },
  {
   "cell_type": "code",
   "execution_count": 1,
   "metadata": {},
   "outputs": [],
   "source": [
    "from os import path # For filepath manipulation\n",
    "import pandas as pd\n",
    "import numpy as np\n",
    "\n",
    "from matplotlib import pyplot as plt\n",
    "%matplotlib inline\n",
    "import seaborn"
   ]
  },
  {
   "cell_type": "markdown",
   "metadata": {},
   "source": [
    "Next step will be to load the Open Food Facts CSV file, which in fact is a TSV file (Cells are separated with tabs).\n",
    "Loading this file will take a consequent amount of time, as the file is 1Gb big. First thing to do will be to perform some cleanup and removal of useless columns, and save the result as a new CSV file.\n",
    "\n",
    "This new CSV file will be used as datasource in this Notebook using the first **MAX_ENTRY_TO_LOAD** rows, goal is to reduce time processing while coding. The loading process of the big CSV file will be skipped using the **LOAD_BIG_FILE** boolean parameter. If set to **TRUE**, the Notebook will load data from the big CSV file, otherwise, it will use the smaller one created by the Notebook itself. In case **LOAD_BIG_FILE** is set to **FALSE** and the smaller file does not exists, the biggewr CSV file is used to rebuild the smaller one.\n",
    "\n",
    "* Note that I've set the **low_memory** option to False in order to avoid warnings when loading the file. Number of columns is quite important and the process to determine the column dtype is too consuming*\n"
   ]
  },
  {
   "cell_type": "markdown",
   "metadata": {},
   "source": [
    "\n",
    "## A. Importing and cleaning the data using the **LOAD_BIG_FILE** mechanism\n",
    "\n",
    "### Import\n",
    "Importing the datasource is done using Pandas **read_csv** method, using parameter **sep=\"\\t\"** as the content of the file is a tabulation spearated CSV file.\n",
    "\n",
    "* Note that I've set the **low_memory** option to False in order to avoid warnings when loading the file. Number of columns is quite important and the process to determine the column dtype is too consuming*\n",
    "\n",
    "### Clean\n",
    "Looking at the loaded datasource using the **info()** method, I've found many columns having very few values (lot of NaN). First action would be to *drop* columns where the percentage of NaN value is over **MIN_PERCENT_VALUES**.\n",
    "\n",
    "After this first big cleanup, I've decided to use the **product_name** column as the index of my Datasource, so any duplicated rows in this column will be dropped.\n"
   ]
  },
  {
   "cell_type": "code",
   "execution_count": 148,
   "metadata": {},
   "outputs": [
    {
     "name": "stdout",
     "output_type": "stream",
     "text": [
      "Loading data from file data/OpenFoodFacts.tsv\n",
      "Please wait...\n",
      "Loading process terminated. Now clean the data...\n"
     ]
    },
    {
     "ename": "KeyError",
     "evalue": "\"['categories' 'main_category' 'additives_tags' 'categories_tags'\\n 'quantity' 'packaging_tags' 'packaging' 'pnns_groups_1' 'pnns_groups_2'\\n 'image_url' 'image_small_url'] not found in axis\"",
     "output_type": "error",
     "traceback": [
      "\u001b[0;31m---------------------------------------------------------------------------\u001b[0m",
      "\u001b[0;31mKeyError\u001b[0m                                  Traceback (most recent call last)",
      "\u001b[0;32m<ipython-input-148-a22e379363fc>\u001b[0m in \u001b[0;36m<module>\u001b[0;34m\u001b[0m\n\u001b[1;32m     48\u001b[0m \u001b[0;34m\u001b[0m\u001b[0m\n\u001b[1;32m     49\u001b[0m     \u001b[0;31m# Drop unused columns\u001b[0m\u001b[0;34m\u001b[0m\u001b[0;34m\u001b[0m\u001b[0;34m\u001b[0m\u001b[0m\n\u001b[0;32m---> 50\u001b[0;31m     \u001b[0mdf\u001b[0m\u001b[0;34m.\u001b[0m\u001b[0mdrop\u001b[0m\u001b[0;34m(\u001b[0m\u001b[0mCOLUMNS_TO_DROP\u001b[0m\u001b[0;34m,\u001b[0m\u001b[0maxis\u001b[0m \u001b[0;34m=\u001b[0m \u001b[0;36m1\u001b[0m\u001b[0;34m,\u001b[0m\u001b[0minplace\u001b[0m\u001b[0;34m=\u001b[0m\u001b[0;32mTrue\u001b[0m\u001b[0;34m)\u001b[0m\u001b[0;34m\u001b[0m\u001b[0;34m\u001b[0m\u001b[0m\n\u001b[0m\u001b[1;32m     51\u001b[0m \u001b[0;34m\u001b[0m\u001b[0m\n\u001b[1;32m     52\u001b[0m     \u001b[0mprint\u001b[0m\u001b[0;34m(\u001b[0m\u001b[0;34m\"Cleaning process terminated. Dumping the resulting Dataframe into file\"\u001b[0m\u001b[0;34m,\u001b[0m\u001b[0mSMALL_CSV_FILENAME\u001b[0m\u001b[0;34m)\u001b[0m\u001b[0;34m\u001b[0m\u001b[0;34m\u001b[0m\u001b[0m\n",
      "\u001b[0;32m/opt/anaconda3/envs/exts-ml/lib/python3.6/site-packages/pandas/core/frame.py\u001b[0m in \u001b[0;36mdrop\u001b[0;34m(self, labels, axis, index, columns, level, inplace, errors)\u001b[0m\n\u001b[1;32m   3938\u001b[0m                                            \u001b[0mindex\u001b[0m\u001b[0;34m=\u001b[0m\u001b[0mindex\u001b[0m\u001b[0;34m,\u001b[0m \u001b[0mcolumns\u001b[0m\u001b[0;34m=\u001b[0m\u001b[0mcolumns\u001b[0m\u001b[0;34m,\u001b[0m\u001b[0;34m\u001b[0m\u001b[0;34m\u001b[0m\u001b[0m\n\u001b[1;32m   3939\u001b[0m                                            \u001b[0mlevel\u001b[0m\u001b[0;34m=\u001b[0m\u001b[0mlevel\u001b[0m\u001b[0;34m,\u001b[0m \u001b[0minplace\u001b[0m\u001b[0;34m=\u001b[0m\u001b[0minplace\u001b[0m\u001b[0;34m,\u001b[0m\u001b[0;34m\u001b[0m\u001b[0;34m\u001b[0m\u001b[0m\n\u001b[0;32m-> 3940\u001b[0;31m                                            errors=errors)\n\u001b[0m\u001b[1;32m   3941\u001b[0m \u001b[0;34m\u001b[0m\u001b[0m\n\u001b[1;32m   3942\u001b[0m     @rewrite_axis_style_signature('mapper', [('copy', True),\n",
      "\u001b[0;32m/opt/anaconda3/envs/exts-ml/lib/python3.6/site-packages/pandas/core/generic.py\u001b[0m in \u001b[0;36mdrop\u001b[0;34m(self, labels, axis, index, columns, level, inplace, errors)\u001b[0m\n\u001b[1;32m   3778\u001b[0m         \u001b[0;32mfor\u001b[0m \u001b[0maxis\u001b[0m\u001b[0;34m,\u001b[0m \u001b[0mlabels\u001b[0m \u001b[0;32min\u001b[0m \u001b[0maxes\u001b[0m\u001b[0;34m.\u001b[0m\u001b[0mitems\u001b[0m\u001b[0;34m(\u001b[0m\u001b[0;34m)\u001b[0m\u001b[0;34m:\u001b[0m\u001b[0;34m\u001b[0m\u001b[0;34m\u001b[0m\u001b[0m\n\u001b[1;32m   3779\u001b[0m             \u001b[0;32mif\u001b[0m \u001b[0mlabels\u001b[0m \u001b[0;32mis\u001b[0m \u001b[0;32mnot\u001b[0m \u001b[0;32mNone\u001b[0m\u001b[0;34m:\u001b[0m\u001b[0;34m\u001b[0m\u001b[0;34m\u001b[0m\u001b[0m\n\u001b[0;32m-> 3780\u001b[0;31m                 \u001b[0mobj\u001b[0m \u001b[0;34m=\u001b[0m \u001b[0mobj\u001b[0m\u001b[0;34m.\u001b[0m\u001b[0m_drop_axis\u001b[0m\u001b[0;34m(\u001b[0m\u001b[0mlabels\u001b[0m\u001b[0;34m,\u001b[0m \u001b[0maxis\u001b[0m\u001b[0;34m,\u001b[0m \u001b[0mlevel\u001b[0m\u001b[0;34m=\u001b[0m\u001b[0mlevel\u001b[0m\u001b[0;34m,\u001b[0m \u001b[0merrors\u001b[0m\u001b[0;34m=\u001b[0m\u001b[0merrors\u001b[0m\u001b[0;34m)\u001b[0m\u001b[0;34m\u001b[0m\u001b[0;34m\u001b[0m\u001b[0m\n\u001b[0m\u001b[1;32m   3781\u001b[0m \u001b[0;34m\u001b[0m\u001b[0m\n\u001b[1;32m   3782\u001b[0m         \u001b[0;32mif\u001b[0m \u001b[0minplace\u001b[0m\u001b[0;34m:\u001b[0m\u001b[0;34m\u001b[0m\u001b[0;34m\u001b[0m\u001b[0m\n",
      "\u001b[0;32m/opt/anaconda3/envs/exts-ml/lib/python3.6/site-packages/pandas/core/generic.py\u001b[0m in \u001b[0;36m_drop_axis\u001b[0;34m(self, labels, axis, level, errors)\u001b[0m\n\u001b[1;32m   3810\u001b[0m                 \u001b[0mnew_axis\u001b[0m \u001b[0;34m=\u001b[0m \u001b[0maxis\u001b[0m\u001b[0;34m.\u001b[0m\u001b[0mdrop\u001b[0m\u001b[0;34m(\u001b[0m\u001b[0mlabels\u001b[0m\u001b[0;34m,\u001b[0m \u001b[0mlevel\u001b[0m\u001b[0;34m=\u001b[0m\u001b[0mlevel\u001b[0m\u001b[0;34m,\u001b[0m \u001b[0merrors\u001b[0m\u001b[0;34m=\u001b[0m\u001b[0merrors\u001b[0m\u001b[0;34m)\u001b[0m\u001b[0;34m\u001b[0m\u001b[0;34m\u001b[0m\u001b[0m\n\u001b[1;32m   3811\u001b[0m             \u001b[0;32melse\u001b[0m\u001b[0;34m:\u001b[0m\u001b[0;34m\u001b[0m\u001b[0;34m\u001b[0m\u001b[0m\n\u001b[0;32m-> 3812\u001b[0;31m                 \u001b[0mnew_axis\u001b[0m \u001b[0;34m=\u001b[0m \u001b[0maxis\u001b[0m\u001b[0;34m.\u001b[0m\u001b[0mdrop\u001b[0m\u001b[0;34m(\u001b[0m\u001b[0mlabels\u001b[0m\u001b[0;34m,\u001b[0m \u001b[0merrors\u001b[0m\u001b[0;34m=\u001b[0m\u001b[0merrors\u001b[0m\u001b[0;34m)\u001b[0m\u001b[0;34m\u001b[0m\u001b[0;34m\u001b[0m\u001b[0m\n\u001b[0m\u001b[1;32m   3813\u001b[0m             \u001b[0mresult\u001b[0m \u001b[0;34m=\u001b[0m \u001b[0mself\u001b[0m\u001b[0;34m.\u001b[0m\u001b[0mreindex\u001b[0m\u001b[0;34m(\u001b[0m\u001b[0;34m**\u001b[0m\u001b[0;34m{\u001b[0m\u001b[0maxis_name\u001b[0m\u001b[0;34m:\u001b[0m \u001b[0mnew_axis\u001b[0m\u001b[0;34m}\u001b[0m\u001b[0;34m)\u001b[0m\u001b[0;34m\u001b[0m\u001b[0;34m\u001b[0m\u001b[0m\n\u001b[1;32m   3814\u001b[0m \u001b[0;34m\u001b[0m\u001b[0m\n",
      "\u001b[0;32m/opt/anaconda3/envs/exts-ml/lib/python3.6/site-packages/pandas/core/indexes/base.py\u001b[0m in \u001b[0;36mdrop\u001b[0;34m(self, labels, errors)\u001b[0m\n\u001b[1;32m   4963\u001b[0m             \u001b[0;32mif\u001b[0m \u001b[0merrors\u001b[0m \u001b[0;34m!=\u001b[0m \u001b[0;34m'ignore'\u001b[0m\u001b[0;34m:\u001b[0m\u001b[0;34m\u001b[0m\u001b[0;34m\u001b[0m\u001b[0m\n\u001b[1;32m   4964\u001b[0m                 raise KeyError(\n\u001b[0;32m-> 4965\u001b[0;31m                     '{} not found in axis'.format(labels[mask]))\n\u001b[0m\u001b[1;32m   4966\u001b[0m             \u001b[0mindexer\u001b[0m \u001b[0;34m=\u001b[0m \u001b[0mindexer\u001b[0m\u001b[0;34m[\u001b[0m\u001b[0;34m~\u001b[0m\u001b[0mmask\u001b[0m\u001b[0;34m]\u001b[0m\u001b[0;34m\u001b[0m\u001b[0;34m\u001b[0m\u001b[0m\n\u001b[1;32m   4967\u001b[0m         \u001b[0;32mreturn\u001b[0m \u001b[0mself\u001b[0m\u001b[0;34m.\u001b[0m\u001b[0mdelete\u001b[0m\u001b[0;34m(\u001b[0m\u001b[0mindexer\u001b[0m\u001b[0;34m)\u001b[0m\u001b[0;34m\u001b[0m\u001b[0;34m\u001b[0m\u001b[0m\n",
      "\u001b[0;31mKeyError\u001b[0m: \"['categories' 'main_category' 'additives_tags' 'categories_tags'\\n 'quantity' 'packaging_tags' 'packaging' 'pnns_groups_1' 'pnns_groups_2'\\n 'image_url' 'image_small_url'] not found in axis\""
     ]
    }
   ],
   "source": [
    "LOAD_BIG_FILE = True\n",
    "BIG_CSV_FILENAME = path.join('data','OpenFoodFacts.tsv')\n",
    "MIN_PERCENT_VALUES = 0.4\n",
    "COLUMNS_TO_DROP = ['creator',\n",
    "                          'brands',\n",
    "                          'brands_tags',\n",
    "                          'categories',\n",
    "                          'main_category',\n",
    "                          'countries',\n",
    "                          'countries_tags',\n",
    "                          'additives',\n",
    "                          'additives_tags',\n",
    "                          'categories_tags',\n",
    "                          'states',\n",
    "                          'states_en',\n",
    "                          'states_tags',\n",
    "                          'url',\n",
    "                          'quantity',\n",
    "                          'packaging_tags',\n",
    "                          'packaging',\n",
    "                          'created_t',\n",
    "                          'last_modified_t',\n",
    "                          'ingredients_from_palm_oil_n', \n",
    "                          'ingredients_that_may_be_from_palm_oil_n',\n",
    "                          'pnns_groups_1',\n",
    "                          'pnns_groups_2',\n",
    "                          'image_url',\n",
    "                          'image_small_url',\n",
    "                         ]\n",
    "SMALL_CSV_FILENAME = path.join('data','OpenFoodFacts-small.csv')\n",
    "MAX_ENTRY_TO_LOAD = 10000\n",
    "\n",
    "if (LOAD_BIG_FILE == True) or path.exists(SMALL_CSV_FILENAME) == False:\n",
    "    print(\"Loading data from file\",BIG_CSV_FILENAME)\n",
    "    print(\"Please wait...\")\n",
    "    df = pd.read_csv(BIG_CSV_FILENAME,sep=\"\\t\",low_memory=False)\n",
    "    print(\"Loading process terminated. Now clean the data...\")\n",
    "\n",
    "    # Drop rows with empty product_name or countries_en\n",
    "    df = df.loc[:, (df.isnull().mean(axis=0) < MIN_PERCENT_VALUES)]\n",
    "    df = df[np.logical_and(np.logical_not(df['product_name'].isnull()),np.logical_not(df['countries_en'].isnull()))]\n",
    "\n",
    "    # Drop duplicated rows in column product_name\n",
    "    df.drop_duplicates(subset=['product_name'],inplace=True)\n",
    "    \n",
    "    # Set product_name as dataframe Index\n",
    "    df.set_index(keys='product_name',inplace=True)\n",
    "    \n",
    "    # Drop unused columns\n",
    "    df.drop(COLUMNS_TO_DROP,axis = 1,inplace=True)\n",
    "    \n",
    "    print(\"Cleaning process terminated. Dumping the resulting Dataframe into file\",SMALL_CSV_FILENAME)\n",
    "    print(\"Please wait...\")\n",
    "    df.to_csv(SMALL_CSV_FILENAME)\n",
    "\n",
    "print(\"Loading the first\",MAX_ENTRY_TO_LOAD,\"rows from the small dataset using file\",SMALL_CSV_FILENAME)\n",
    "print(\"Please wait...\")\n",
    "df = pd.read_csv(SMALL_CSV_FILENAME,low_memory=False, nrows=MAX_ENTRY_TO_LOAD, index_col=0)\n",
    "\n",
    "\n",
    "    \n",
    "print(\"Dataframe loaded\")"
   ]
  },
  {
   "cell_type": "code",
   "execution_count": 144,
   "metadata": {},
   "outputs": [
    {
     "name": "stdout",
     "output_type": "stream",
     "text": [
      "<class 'pandas.core.frame.DataFrame'>\n",
      "Index: 249065 entries, Farine de blé noir to Tomates aux Vermicelles \n",
      "Data columns (total 31 columns):\n",
      "creator                                    249063 non-null object\n",
      "created_t                                  249065 non-null object\n",
      "created_datetime                           249062 non-null object\n",
      "last_modified_t                            249065 non-null object\n",
      "last_modified_datetime                     249065 non-null object\n",
      "brands                                     237619 non-null object\n",
      "brands_tags                                237601 non-null object\n",
      "countries                                  249065 non-null object\n",
      "countries_tags                             249065 non-null object\n",
      "countries_en                               249065 non-null object\n",
      "ingredients_text                           202768 non-null object\n",
      "serving_size                               149175 non-null object\n",
      "additives_n                                202764 non-null float64\n",
      "additives                                  202732 non-null object\n",
      "ingredients_from_palm_oil_n                202764 non-null float64\n",
      "ingredients_that_may_be_from_palm_oil_n    202764 non-null float64\n",
      "nutrition_grade_fr                         184120 non-null object\n",
      "states                                     249061 non-null object\n",
      "states_tags                                249061 non-null object\n",
      "states_en                                  249061 non-null object\n",
      "energy_100g                                211445 non-null float64\n",
      "fat_100g                                   198342 non-null float64\n",
      "saturated-fat_100g                         189904 non-null float64\n",
      "carbohydrates_100g                         198091 non-null float64\n",
      "sugars_100g                                200624 non-null float64\n",
      "fiber_100g                                 157564 non-null float64\n",
      "proteins_100g                              210541 non-null float64\n",
      "salt_100g                                  207093 non-null float64\n",
      "sodium_100g                                207062 non-null float64\n",
      "nutrition-score-fr_100g                    184120 non-null float64\n",
      "nutrition-score-uk_100g                    184120 non-null float64\n",
      "dtypes: float64(14), object(17)\n",
      "memory usage: 60.8+ MB\n"
     ]
    }
   ],
   "source": [
    "df.info()"
   ]
  },
  {
   "cell_type": "code",
   "execution_count": 146,
   "metadata": {},
   "outputs": [
    {
     "data": {
      "image/png": "[encoded data removed]",
      "text/plain": [
       "<Figure size 864x576 with 1 Axes>"
      ]
     },
     "metadata": {
      "needs_background": "light"
     },
     "output_type": "display_data"
    }
   ],
   "source": [
    "fat=[]\n",
    "# Loop through all top five countries\n",
    "top_countries = ['france','united kingdom','spain','germany','united states' ]\n",
    "for country in top_countries:\n",
    "    fat.append(getattr(df[df.countries==country], 'energy_100g').mean())\n",
    "y_pos = np.arange(len(top_countries))\n",
    "fig=plt.figure(figsize=(12,8))\n",
    "plt.bar(y_pos,fat, align='center')\n",
    "plt.title('Average total fat content per 100g')\n",
    "plt.xticks(y_pos, top_countries)\n",
    "plt.ylabel('fat/100g')    \n",
    "plt.show()\n"
   ]
  },
  {
   "cell_type": "code",
   "execution_count": null,
   "metadata": {},
   "outputs": [],
   "source": []
  }
 ],
 "metadata": {
  "kernelspec": {
   "display_name": "Python 3",
   "language": "python",
   "name": "python3"
  },
  "language_info": {
   "codemirror_mode": {
    "name": "ipython",
    "version": 3
   },
   "file_extension": ".py",
   "mimetype": "text/x-python",
   "name": "python",
   "nbconvert_exporter": "python",
   "pygments_lexer": "ipython3",
   "version": "3.6.10"
  }
 },
 "nbformat": 4,
 "nbformat_minor": 4
}
