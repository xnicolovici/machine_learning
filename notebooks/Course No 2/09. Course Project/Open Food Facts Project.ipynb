{
 "cells": [
  {
   "cell_type": "markdown",
   "metadata": {},
   "source": [
    "# Open Food Facts Course Project - Cleaning, manipulating and visualizing"
   ]
  },
  {
   "cell_type": "markdown",
   "metadata": {},
   "source": [
    "First of all, let's import usefull libraries for the project and make matplolib displaying graphs inline the Notebook."
   ]
  },
  {
   "cell_type": "code",
   "execution_count": 52,
   "metadata": {},
   "outputs": [],
   "source": [
    "from os import path # For filepath manipulation\n",
    "import pandas as pd\n",
    "import numpy as np\n",
    "\n",
    "import seaborn as sns\n",
    "\n",
    "from matplotlib import pyplot as plot\n",
    "%matplotlib inline\n",
    "\n",
    "import seaborn\n",
    "\n",
    "import re"
   ]
  },
  {
   "cell_type": "markdown",
   "metadata": {},
   "source": [
    "Next step will be to load the Open Food Facts CSV file, which in fact is a TSV file (Cells are separated with tabs).\n",
    "Loading this file will take a consequent amount of time, as the file is 1Gb big. First thing to do will be to perform some cleanup and removal of useless data, and save the result as a new CSV file.\n",
    "\n",
    "This new CSV file will be used as datasource in this Notebook using the first **MAX_ENTRY_TO_LOAD** rows while coding.\n",
    "\n",
    "**Don't forget to set MAX_ENTRY_TO_LOAD = None when coding is finished.** Otherwise, only a subset of the data will be processed.\n",
    "\n",
    "* Note that this Notebook checks if the cleaned Datafile exists and create it otherwise. This process relies on three functions: First one will load the original TSV file, the second one will cleanup the orignal data and the third one will dump the cleand data into a new CSV file.\n",
    "\n",
    "The following global constant can be adapted to suit your needs"
   ]
  },
  {
   "cell_type": "code",
   "execution_count": 2,
   "metadata": {},
   "outputs": [],
   "source": [
    "# Filename of the original TSV file\n",
    "ORIGINAL_TSV_FILENAME = path.join('data','OpenFoodFacts.tsv')\n",
    "\n",
    "# Filename of the cleaned data build in this Notebook\n",
    "CLEANED_CSV_FILENAME = path.join('data','OpenFoodFacts-cleaned.csv')\n",
    "\n",
    "# If set to true, the original data file loading process is forced, event if the\n",
    "# cleaned CSV file exists. Should be set to **True** when coding is finished\n",
    "FORCE_LOAD_ORIGINAL_FILE = False # PRoduction value = True\n",
    "\n",
    "# Maximum NaN percentage accepted in a column. If above, the column is dropped.\n",
    "MAX_NAN_PERCENT_VALUE = 80\n",
    "\n",
    "# Number of rows loaded from cleaned CSV file. Usefull while coding, this value should be\n",
    "# set ton **None** when coding is finished.\n",
    "MAX_ENTRY_TO_LOAD = None # Production value = None\n",
    "\n",
    "# List of columns that will be removed from the Dataset (useless one)\n",
    "COLUMNS_TO_DROP = [\n",
    "    'creator', 'brands', 'brands_tags', 'categories','main_category', 'countries',\n",
    "    'countries_tags', 'additives', 'additives_tags', 'categories_tags', 'states',\n",
    "    'states_en', 'states_tags', 'url', 'quantity', 'packaging_tags', 'packaging',\n",
    "    'created_t', 'last_modified_t', 'pnns_groups_1', 'pnns_groups_2', 'image_url',\n",
    "    'image_small_url', 'code', 'ingredients_from_palm_oil_n', 'ingredients_that_may_be_from_palm_oil_n'\n",
    "]"
   ]
  },
  {
   "cell_type": "markdown",
   "metadata": {},
   "source": [
    "\n",
    "## A. Importing and cleaning the data\n",
    "\n",
    "Importing the datasource is done using Pandas **read_csv** method, using parameter **sep=\"\\t\"** as the content of the file is a tabulation spearated CSV file.\n",
    "\n",
    "* Note that I've set the **low_memory** option to False in order to avoid warnings when loading the file. Number of columns is quite important and the process to determine the column dtype is too consuming*\n",
    "\n",
    "\n",
    "### Some function definitions\n",
    "\n",
    "#### Data loading function."
   ]
  },
  {
   "cell_type": "code",
   "execution_count": 3,
   "metadata": {},
   "outputs": [],
   "source": [
    "def loadOriginalTsvFile(filename):\n",
    "    print(\"Loading data from file\",ORIGINAL_TSV_FILENAME)\n",
    "    print(\"Please wait...\")\n",
    "    df = pd.read_csv(ORIGINAL_TSV_FILENAME,sep=\"\\t\",low_memory=False)\n",
    "    print(\"Loading process terminated.\")\n",
    "    return df\n"
   ]
  },
  {
   "cell_type": "markdown",
   "metadata": {},
   "source": [
    "#### Function to dump the cleaned data into a new CSV file"
   ]
  },
  {
   "cell_type": "code",
   "execution_count": 4,
   "metadata": {},
   "outputs": [],
   "source": [
    "def dumpCleanedCsvFile(df,filename):\n",
    "    print(\"Dumping the cleaned Dataframe into file\",CLEANED_CSV_FILENAME)\n",
    "    print(\"Please wait...\")\n",
    "    df.to_csv(CLEANED_CSV_FILENAME)\n",
    "    print(\"Dumping process terminated\")"
   ]
  },
  {
   "cell_type": "markdown",
   "metadata": {},
   "source": [
    "#### Cleanup function that process the Dataframe returned by the **loadOriginalTsvFile()** function\n",
    "\n",
    "This function will perform cleanup actions on the whole dataset. Further in this Notebook, more cleaning actions will come while we discover the content of the Open Food Facts database.\n",
    "\n",
    "Here is a list of the cleaning actions done here:\n",
    "\n",
    "* Drop unused column defined in the global parameter COLUMNS_TO_DROP\n",
    "* Drop columns where the percentage of null values is above MAX_NAN_PERCENT_VALUE\n",
    "* Drop rows where **product_name** or **countries_en** column are empty\n",
    "* Drop rows with duplicates in 'product_name' column"
   ]
  },
  {
   "cell_type": "code",
   "execution_count": 5,
   "metadata": {},
   "outputs": [],
   "source": [
    "def cleanOriginalData(df):\n",
    "\n",
    "    print(\"Cleaning the dataframe\")\n",
    "    print(\"Please wait...\")\n",
    "    # Drop unused columns\n",
    "    df.drop(COLUMNS_TO_DROP,axis = 1,inplace=True)\n",
    "    \n",
    "    # Drop columns where percentage of NaN values is too high\n",
    "    df = df.dropna(axis=1, thresh= len(df)*(1 - MAX_NAN_PERCENT_VALUE / 100), how='all') \n",
    "    \n",
    "    # Drop rows with empty product_name or countries_en\n",
    "    df = df[np.logical_and(\n",
    "        np.logical_not(df['product_name'].isnull()),\n",
    "        np.logical_not(df['countries_en'].isnull())\n",
    "    )]\n",
    "    \n",
    "    # Drop duplicated rows in column product_name\n",
    "    df.drop_duplicates(subset=['product_name'],inplace=True)\n",
    "\n",
    "    print(\"Cleaning process terminated\")\n",
    "    \n",
    "    return df\n",
    "\n",
    "    "
   ]
  },
  {
   "cell_type": "markdown",
   "metadata": {},
   "source": [
    "### Loading process\n",
    "\n",
    "Now that our loading functions are defined, put some logic here to avoid long time processing while coding.\n",
    "\n",
    "**Do not forget to set the global constant to Production values when coding is finished**"
   ]
  },
  {
   "cell_type": "code",
   "execution_count": 6,
   "metadata": {},
   "outputs": [
    {
     "name": "stdout",
     "output_type": "stream",
     "text": [
      "Cleaned CSV file found. Original data file processing is skipped\n",
      "Loading data from  data/OpenFoodFacts-cleaned.csv\n",
      "Please wait...\n",
      "Dataframe loaded\n",
      "Number of rows   : 249065\n",
      "Number of columns: 28\n"
     ]
    }
   ],
   "source": [
    "if (FORCE_LOAD_ORIGINAL_FILE == True) or path.exists(CLEANED_CSV_FILENAME) == False:\n",
    "    df = loadOriginalTsvFile(ORIGINAL_TSV_FILENAME)\n",
    "    df = cleanOriginalData(df)\n",
    "    dumpCleanedCsvFile(df, CLEANED_CSV_FILENAME)\n",
    "else:\n",
    "    print(\"Cleaned CSV file found. Original data file processing is skipped\")\n",
    "\n",
    "    \n",
    "if MAX_ENTRY_TO_LOAD != None:\n",
    "    print(\"Loading the first\",MAX_ENTRY_TO_LOAD,\"rows from \",CLEANED_CSV_FILENAME)\n",
    "else:\n",
    "    print(\"Loading data from \",CLEANED_CSV_FILENAME)\n",
    "\n",
    "print(\"Please wait...\")\n",
    "df = pd.read_csv(CLEANED_CSV_FILENAME,low_memory=False, nrows=MAX_ENTRY_TO_LOAD, index_col=0)\n",
    "print(\"Dataframe loaded\")\n",
    "\n",
    "print('Number of rows   :',format(df.shape[0]))\n",
    "print('Number of columns:',format(df.shape[1]))"
   ]
  },
  {
   "cell_type": "markdown",
   "metadata": {},
   "source": [
    "### Cleaning process\n",
    "\n",
    "Now that we've loaded a *partially* cleaned dataframe, let's explore it and perform some more clean up.\n",
    "\n",
    "First, we can ensure that we do not have any duplicated lines. Removed them otherwise."
   ]
  },
  {
   "cell_type": "code",
   "execution_count": 7,
   "metadata": {},
   "outputs": [
    {
     "name": "stdout",
     "output_type": "stream",
     "text": [
      "No duplicated lines found\n"
     ]
    }
   ],
   "source": [
    "duplicated_lines = df.duplicated().sum()\n",
    "\n",
    "if duplicated_lines == 0:\n",
    "    print(\"No duplicated lines found\")\n",
    "else:\n",
    "    print(\"Duplicated lines found:\",duplicated_lines)\n",
    "    print(\"Removing duplicates...\")\n",
    "    df.drop_duplicates(inplace=True)\n",
    "    print(\"Done\")\n",
    "    "
   ]
  },
  {
   "cell_type": "markdown",
   "metadata": {},
   "source": [
    "Ensure that we do not have duplicated values in the **product_name** columns and set it as Dataframe index"
   ]
  },
  {
   "cell_type": "code",
   "execution_count": 8,
   "metadata": {},
   "outputs": [
    {
     "name": "stdout",
     "output_type": "stream",
     "text": [
      "There is no duplicated values in 'product_name' column. Set it as Dataframe index\n"
     ]
    }
   ],
   "source": [
    "if 'product_name' in df.columns:\n",
    "    if df['product_name'].duplicated().sum() == 0:\n",
    "        print(\"There is no duplicated values in 'product_name' column. Set it as Dataframe index\")\n",
    "        df.set_index('product_name', inplace=True)\n",
    "    else:\n",
    "        print(\"WARNING: Duplicated values detected in 'product_name' column. Aborting Notebook.\")\n",
    "        exit(1)\n",
    "else:\n",
    "    print(\"Dataframe already indexed by 'product_name'\")"
   ]
  },
  {
   "cell_type": "markdown",
   "metadata": {},
   "source": [
    "#### Convert date and time columns into DateTime Pandas object, for smarter time manipulations.\n",
    "\n",
    "During the first **to_datetime()** run, I've found values that was not convertible to a Datetime object. For example, one of the row contains value **Dia,Sogeres** in its **created_datetime** cell. Solution is to set the *unparsable* datetime strings to NaT using **error=coerce** paramter in **to_datetime()** call, and then fill NaT value with **fillna()** function using **ffill** method."
   ]
  },
  {
   "cell_type": "code",
   "execution_count": 9,
   "metadata": {},
   "outputs": [],
   "source": [
    "df['created_datetime'] = pd.to_datetime(df['created_datetime'], format='%Y-%m-%dT%H:%M:%SZ', errors='coerce')\n",
    "df['created_datetime'].fillna(method = 'ffill', inplace = True)\n",
    "\n",
    "df['last_modified_datetime'] = pd.to_datetime(df['last_modified_datetime'], format='%Y-%m-%dT%H:%M:%SZ', errors='coerce')\n",
    "df['last_modified_datetime'].fillna(method = 'ffill', inplace = True)\n"
   ]
  },
  {
   "cell_type": "markdown",
   "metadata": {},
   "source": [
    "#### Parse countries_en entries to get *usable* data\n",
    "\n",
    "**countries_en** column is a very special one as it contains the different countries where the product is produced as a comma separated string values. Consequence, this column contains 642 unique entries, which is far much more than the number of countries existing in the world :-) Not very usable for data analysis.\n"
   ]
  },
  {
   "cell_type": "code",
   "execution_count": 10,
   "metadata": {},
   "outputs": [
    {
     "name": "stdout",
     "output_type": "stream",
     "text": [
      "Number of unique entries in 'countries_en' 641\n"
     ]
    }
   ],
   "source": [
    "print(\"Number of unique entries in 'countries_en'\",len(df.countries_en.unique()))"
   ]
  },
  {
   "cell_type": "markdown",
   "metadata": {},
   "source": [
    "So, what can we do ?\n",
    "\n",
    "The approach I've choose is to *split* comma separated strings into arrays, using the **str.split()** function, and then, for every arrays, I do apply the **Panda.Series** method on it to convert them into **Series**, which by consequence will give me a Dataframe with columns containing the splitted strings.  \n",
    "\n",
    "To do so, I do run the **str.split()** function on the df['countries_en'] serie to get a serie of arrays, use the **apply()** method to run **pd.Series** on each array, and finally run the **stack()** method to transform the serie of arrays into a Dataframe.\n",
    "\n",
    "* Note: The stack method introduces a two level index. Using the **Dataframe.droplevel()** method on the second index (indice = 1) will duplicate entries in the first index and provide a single level index Dataframe. This is exactly what I'm looking for.\n",
    "\n",
    "Looking forward into the Open Food Facts data, we can identify some other columns containing comma separated strings like 'countries_en' ('ingredient_text' for example). For that reason, I've decided to write a generic function that implement this String Splitting algorythm and returns an *expanded* Series.\n",
    "\n"
   ]
  },
  {
   "cell_type": "code",
   "execution_count": 11,
   "metadata": {},
   "outputs": [],
   "source": [
    "\n",
    "def splitStringSeriesToDataframe(data, column_name, sep = ','):\n",
    "    # Split strings using sep as separator\n",
    "    temp = data[column_name].str.split(sep)\n",
    "    \n",
    "    # apply pd.Series constructor on arrays. This will return a Dataframe\n",
    "    temp = temp.apply(pd.Series,1)\n",
    "    \n",
    "    # stack Dataframe\n",
    "    temp = temp.stack()\n",
    "    \n",
    "    # Drop second level index created by the previous stack() call\n",
    "    temp = temp.droplevel(1) # Second index = indice[1]\n",
    "    \n",
    "    # Rename the index\n",
    "    temp.name = column_name + '_splitted'\n",
    "    \n",
    "    return temp\n",
    "\n",
    "\n",
    "countries = splitStringSeriesToDataframe(df,'countries_en')\n"
   ]
  },
  {
   "cell_type": "markdown",
   "metadata": {},
   "source": [
    "Let's have a look at the new Dataframe obtained:"
   ]
  },
  {
   "cell_type": "code",
   "execution_count": 12,
   "metadata": {},
   "outputs": [
    {
     "data": {
      "text/plain": [
       "count            254947\n",
       "unique              202\n",
       "top       United States\n",
       "freq             115895\n",
       "Name: countries_en_splitted, dtype: object"
      ]
     },
     "execution_count": 12,
     "metadata": {},
     "output_type": "execute_result"
    }
   ],
   "source": [
    "countries.describe()"
   ]
  },
  {
   "cell_type": "markdown",
   "metadata": {},
   "source": [
    "The result is far more better as we get 202 unique entries. It's still a bit more than the total number of countries in the world, but better than the 641 entries we get before.\n",
    "\n",
    "Looking deeper in this country list, I've found some entries encoded like **<2_char_country_code>:country_name** :"
   ]
  },
  {
   "cell_type": "code",
   "execution_count": 13,
   "metadata": {},
   "outputs": [
    {
     "data": {
      "text/plain": [
       "array(['fr:Quebec', 'fr:Angleterre', 'fr:Grande-bretagne',\n",
       "       'fr:Deutschland', 'fr:Frankreich', 'fr:Spanien', 'fr:Marseille-5',\n",
       "       'en:fresh-foods', 'en:dairies', 'fr:Alemania', 'fr:Mauricio',\n",
       "       'fr:Reino-unido', 'fr:Франция',\n",
       "       'fr:Bourgogne-aube-nogent-sur-seine', 'fr:Puyricard', 'fr:Ecosse',\n",
       "       'fr:Schweiz', 'fr:Nederland', 'fr:Irland', 'nl:Belgien',\n",
       "       'nl:Deutschland', 'nl:Frankreich', 'nl:Schweiz'], dtype=object)"
      ]
     },
     "execution_count": 13,
     "metadata": {},
     "output_type": "execute_result"
    }
   ],
   "source": [
    "countries[countries.str.contains(':')].unique()"
   ]
  },
  {
   "cell_type": "markdown",
   "metadata": {},
   "source": [
    "Thing to do will be to manipulate the **countries_en** dataframe column with a regex expression to remove the 2 char country code."
   ]
  },
  {
   "cell_type": "code",
   "execution_count": 14,
   "metadata": {},
   "outputs": [
    {
     "name": "stdout",
     "output_type": "stream",
     "text": [
      "Number of unique countries found in this dataset: 195\n"
     ]
    }
   ],
   "source": [
    "\n",
    "\n",
    "df['countries_en'] = df['countries_en'].apply(lambda x: re.sub('[a-z]*:','',x))\n",
    "\n",
    "countries = splitStringSeriesToDataframe(df,'countries_en')\n",
    "\n",
    "print(\"Number of unique countries found in this dataset:\",len(countries.unique()))"
   ]
  },
  {
   "cell_type": "markdown",
   "metadata": {},
   "source": [
    "For sure, the data present in the dataset is very bad, and there's a lot more to do on this **countries_en** column: Some of the countries appears in different languages, some of them looks more like categories instead of coiuntries (en:fresh-foods), others are a city names (fr:Marseille-5).\n",
    "\n",
    "It's now time to manipulate the data and find answers to three questions we may have about the data in this dataset."
   ]
  },
  {
   "cell_type": "markdown",
   "metadata": {},
   "source": [
    "## B. Manipulating the data\n",
    "\n"
   ]
  },
  {
   "cell_type": "markdown",
   "metadata": {},
   "source": [
    "### Top most countries\n"
   ]
  },
  {
   "cell_type": "code",
   "execution_count": 53,
   "metadata": {},
   "outputs": [
    {
     "data": {
      "text/plain": [
       "<matplotlib.axes._subplots.AxesSubplot at 0x16ae1f8d0>"
      ]
     },
     "execution_count": 53,
     "metadata": {},
     "output_type": "execute_result"
    },
    {
     "data": {
      "image/png": "[encoded data removed]",
      "text/plain": [
       "<Figure size 432x288 with 1 Axes>"
      ]
     },
     "metadata": {
      "needs_background": "light"
     },
     "output_type": "display_data"
    }
   ],
   "source": [
    "energy = splitStringSeriesToDataframe(df.set_index('energy_100g'),'countries_en')\n",
    "\n",
    "energy = energy.to_frame().reset_index().set_index('countries_en_splitted')\n",
    "\n",
    "energy = energy.groupby('countries_en_splitted').mean().sort_values(by = ['energy_100g'],ascending = False)\n",
    "energy.head(10).sort_values(by = ['energy_100g']).plot.barh()"
   ]
  },
  {
   "cell_type": "code",
   "execution_count": 54,
   "metadata": {},
   "outputs": [],
   "source": [
    "energy = splitStringSeriesToDataframe(df.set_index('energy_100g'),'countries_en')\n",
    "\n",
    "energy = energy.to_frame().reset_index().set_index('countries_en_splitted')\n",
    "\n"
   ]
  },
  {
   "cell_type": "code",
   "execution_count": 80,
   "metadata": {},
   "outputs": [
    {
     "data": {
      "image/png": "[encoded data removed]",
      "text/plain": [
       "<Figure size 432x288 with 1 Axes>"
      ]
     },
     "metadata": {
      "needs_background": "light"
     },
     "output_type": "display_data"
    }
   ],
   "source": [
    "\n",
    "count_measure = energy.groupby('countries_en_splitted').count()\n",
    "\n",
    "energy_mean = energy.groupby('countries_en_splitted').mean()\n",
    "\n",
    " \n",
    "\n",
    "energy_mean[count_measure['energy_100g'] > 500].head(10).sort_values(by = ['energy_100g']).plot.barh()\n",
    "plot.title(\"Top 20 countries with the highest mean energy per 100g\")\n",
    "plot.xlabel(\"Mean of energy per 100g \")\n",
    "plot.ylabel(\"Country\")\n",
    "\n",
    "plot.show()\n"
   ]
  },
  {
   "cell_type": "markdown",
   "metadata": {},
   "source": [
    "### Is there any correlation between sugar and salt ?\n",
    "\n",
    "Sugar and salt are used very often in bad food, they are used to make products being addictive to consumers. The more sugar you have in a product, the more you should put salt in it in ordrer to make consumers addict to your product.\n",
    "\n",
    "If that's true, we should find a correlation between sugar and salt. Let's use **seaborn.pairplot** to answer this question."
   ]
  },
  {
   "cell_type": "code",
   "execution_count": 39,
   "metadata": {},
   "outputs": [
    {
     "data": {
      "text/plain": [
       "<seaborn.axisgrid.PairGrid at 0x142e62c18>"
      ]
     },
     "execution_count": 39,
     "metadata": {},
     "output_type": "execute_result"
    },
    {
     "data": {
      "image/png": "[encoded data removed]",
      "text/plain": [
       "<Figure size 720x720 with 1 Axes>"
      ]
     },
     "metadata": {
      "needs_background": "light"
     },
     "output_type": "display_data"
    }
   ],
   "source": [
    "sns.pairplot(df.reset_index().set_index('product_name'),x_vars='sugars_100g',y_vars='salt_100g',height=10)"
   ]
  },
  {
   "cell_type": "markdown",
   "metadata": {},
   "source": [
    "This first graph shows that there is outstanding values in the Dataframe, which obviously should be wrong values. Using the **describe()** method, we can confirm that some of the values should be considered as bad one:"
   ]
  },
  {
   "cell_type": "code",
   "execution_count": 17,
   "metadata": {},
   "outputs": [
    {
     "data": {
      "text/html": [
       "<div>\n",
       "<style scoped>\n",
       "    .dataframe tbody tr th:only-of-type {\n",
       "        vertical-align: middle;\n",
       "    }\n",
       "\n",
       "    .dataframe tbody tr th {\n",
       "        vertical-align: top;\n",
       "    }\n",
       "\n",
       "    .dataframe thead th {\n",
       "        text-align: right;\n",
       "    }\n",
       "</style>\n",
       "<table border=\"1\" class=\"dataframe\">\n",
       "  <thead>\n",
       "    <tr style=\"text-align: right;\">\n",
       "      <th></th>\n",
       "      <th>sugars_100g</th>\n",
       "      <th>salt_100g</th>\n",
       "    </tr>\n",
       "  </thead>\n",
       "  <tbody>\n",
       "    <tr>\n",
       "      <th>count</th>\n",
       "      <td>200624.00000</td>\n",
       "      <td>207093.000000</td>\n",
       "    </tr>\n",
       "    <tr>\n",
       "      <th>mean</th>\n",
       "      <td>15.95684</td>\n",
       "      <td>1.965197</td>\n",
       "    </tr>\n",
       "    <tr>\n",
       "      <th>std</th>\n",
       "      <td>22.27058</td>\n",
       "      <td>142.145242</td>\n",
       "    </tr>\n",
       "    <tr>\n",
       "      <th>min</th>\n",
       "      <td>-6.25000</td>\n",
       "      <td>0.000000</td>\n",
       "    </tr>\n",
       "    <tr>\n",
       "      <th>25%</th>\n",
       "      <td>1.30000</td>\n",
       "      <td>0.066040</td>\n",
       "    </tr>\n",
       "    <tr>\n",
       "      <th>50%</th>\n",
       "      <td>5.88000</td>\n",
       "      <td>0.558800</td>\n",
       "    </tr>\n",
       "    <tr>\n",
       "      <th>75%</th>\n",
       "      <td>24.62000</td>\n",
       "      <td>1.343660</td>\n",
       "    </tr>\n",
       "    <tr>\n",
       "      <th>max</th>\n",
       "      <td>3520.00000</td>\n",
       "      <td>64312.800000</td>\n",
       "    </tr>\n",
       "  </tbody>\n",
       "</table>\n",
       "</div>"
      ],
      "text/plain": [
       "        sugars_100g      salt_100g\n",
       "count  200624.00000  207093.000000\n",
       "mean       15.95684       1.965197\n",
       "std        22.27058     142.145242\n",
       "min        -6.25000       0.000000\n",
       "25%         1.30000       0.066040\n",
       "50%         5.88000       0.558800\n",
       "75%        24.62000       1.343660\n",
       "max      3520.00000   64312.800000"
      ]
     },
     "execution_count": 17,
     "metadata": {},
     "output_type": "execute_result"
    }
   ],
   "source": [
    "df[['sugars_100g','salt_100g']].describe()"
   ]
  },
  {
   "cell_type": "markdown",
   "metadata": {},
   "source": [
    "As we can see, the Dataframe contains some values that should be wrong."
   ]
  }
 ],
 "metadata": {
  "kernelspec": {
   "display_name": "Python 3",
   "language": "python",
   "name": "python3"
  },
  "language_info": {
   "codemirror_mode": {
    "name": "ipython",
    "version": 3
   },
   "file_extension": ".py",
   "mimetype": "text/x-python",
   "name": "python",
   "nbconvert_exporter": "python",
   "pygments_lexer": "ipython3",
   "version": "3.6.10"
  }
 },
 "nbformat": 4,
 "nbformat_minor": 4
}
