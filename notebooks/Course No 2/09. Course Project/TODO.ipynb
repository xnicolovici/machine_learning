{
 "cells": [
  {
   "cell_type": "markdown",
   "metadata": {},
   "source": [
    "# What to do\n",
    "Some Help: https://www.kaggle.com/philippecodes/open-food-facts-data-analysis\n",
    "\n",
    "## A. Importing and cleaning the data\n",
    "You will start by downloading the data from the Kaggle link provided and import it into pandas. You will then need to clean this data using the tools and methods covered in this course. There is not just one correct way to do this. Several solutions will be accepted as long as you demonstrate that you have sufficiently cleaned the data. This includes, of course, dealing with missing values, standardising entries and text data, bringing text or time entries in a common format, dealing with duplicates or incorrect values or getting certain data in more useful formats.\n",
    "\n",
    "## B. Manipulating the data\n",
    "You will work with the data to investigate some properties of your choice. Your goal is to choose 3 interesting questions to answer about the data and perform the necessary steps for the analysis.\n",
    "\n",
    "The questions that you choose must be complex enough to allow for some substantial data manipulation. As a guideline here is a sample topic of analysis\n",
    "\n",
    "Topic: Investigate the macronutrient breakdown across various foods (this is the percentage of calories that come from the 3 macronutrient groups: carbohydrates, protein and fats). What are the foods that have the highest ratios of each macronutrient? What are the foods that are most balanced? What is the macronutrient breakdown across different countries? Can you notice some trends or insights about the data?\n",
    "\n",
    "For each of your 3 questions choose appropriate visual methods to communicate your findings.\n",
    "\n",
    "## C. Text data\n",
    "You will filter and group your data based on the ingredients_text column. Your goal is to find the five most common ingredients.\n",
    "\n",
    "## D. Time-series analysis\n",
    "You will investigate more closely the created_datetime and last_modified_datetime. First, you will analyze the mean time difference between these two values. And second, you will analyze the total number of items created each month over the full timeline of the data. For the second question, you will also choose an appropriate method to visualize your findings.\n",
    "\n",
    "## E. Build a database\n",
    "You will build a database to hold your data. It is up to you to define appropriate tables as well as primary keys for connecting them. (The focus is definitely more on just using the basic methods/tools introduced in the course and not on building a complex database.) In particular, you can follow the following list of steps:\n",
    "\n",
    "restrict your data to 1000 entries and 5 columns of your choice\n",
    "create a connection to a sqlite3 database\n",
    "create one or multiple tables, at least one of the tables should have a PRIMARY KEY\n",
    "fill the database with your data\n",
    "run at least one query to demonstrate that it works correctly\n",
    "\n",
    "\n",
    "## F. Finding correlations\n",
    "You will try to find correlations between the different data fields. Your goal is to identify the variables which most affect the nutritional score and provide some insight into which factors cause both a low or a high nutritional score.\n",
    "\n",
    "Make sure that the final Jupyter notebook you submit is very well documented.\n",
    "\n"
   ]
  },
  {
   "cell_type": "code",
   "execution_count": null,
   "metadata": {},
   "outputs": [],
   "source": []
  }
 ],
 "metadata": {
  "kernelspec": {
   "display_name": "Python 3",
   "language": "python",
   "name": "python3"
  },
  "language_info": {
   "codemirror_mode": {
    "name": "ipython",
    "version": 3
   },
   "file_extension": ".py",
   "mimetype": "text/x-python",
   "name": "python",
   "nbconvert_exporter": "python",
   "pygments_lexer": "ipython3",
   "version": "3.6.10"
  }
 },
 "nbformat": 4,
 "nbformat_minor": 4
}
