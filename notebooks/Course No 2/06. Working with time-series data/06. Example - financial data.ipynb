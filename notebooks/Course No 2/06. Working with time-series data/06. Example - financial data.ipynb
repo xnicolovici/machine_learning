{
 "cells": [
  {
   "cell_type": "code",
   "execution_count": 1,
   "metadata": {},
   "outputs": [],
   "source": [
    "import pandas as pd"
   ]
  },
  {
   "cell_type": "code",
   "execution_count": 2,
   "metadata": {},
   "outputs": [],
   "source": [
    "data = pd.read_csv('financial_data.csv', index_col='Date')\n"
   ]
  },
  {
   "cell_type": "code",
   "execution_count": 3,
   "metadata": {},
   "outputs": [
    {
     "name": "stdout",
     "output_type": "stream",
     "text": [
      "<class 'pandas.core.frame.DataFrame'>\n",
      "Index: 11247 entries, 1972-06-01 to 2016-12-30\n",
      "Data columns (total 6 columns):\n",
      "Open         11247 non-null float64\n",
      "High         11247 non-null float64\n",
      "Low          11247 non-null float64\n",
      "Close        11247 non-null float64\n",
      "Adj Close    11247 non-null float64\n",
      "Volume       11247 non-null int64\n",
      "dtypes: float64(5), int64(1)\n",
      "memory usage: 615.1+ KB\n"
     ]
    }
   ],
   "source": [
    "data.info()"
   ]
  },
  {
   "cell_type": "code",
   "execution_count": 4,
   "metadata": {},
   "outputs": [],
   "source": [
    "data.index = pd.to_datetime(data.index) # Convert the index"
   ]
  },
  {
   "cell_type": "code",
   "execution_count": 5,
   "metadata": {},
   "outputs": [
    {
     "data": {
      "text/html": [
       "<div>\n",
       "<style scoped>\n",
       "    .dataframe tbody tr th:only-of-type {\n",
       "        vertical-align: middle;\n",
       "    }\n",
       "\n",
       "    .dataframe tbody tr th {\n",
       "        vertical-align: top;\n",
       "    }\n",
       "\n",
       "    .dataframe thead th {\n",
       "        text-align: right;\n",
       "    }\n",
       "</style>\n",
       "<table border=\"1\" class=\"dataframe\">\n",
       "  <thead>\n",
       "    <tr style=\"text-align: right;\">\n",
       "      <th></th>\n",
       "      <th>Open</th>\n",
       "      <th>High</th>\n",
       "      <th>Low</th>\n",
       "      <th>Close</th>\n",
       "      <th>Adj Close</th>\n",
       "      <th>Volume</th>\n",
       "    </tr>\n",
       "    <tr>\n",
       "      <th>Date</th>\n",
       "      <th></th>\n",
       "      <th></th>\n",
       "      <th></th>\n",
       "      <th></th>\n",
       "      <th></th>\n",
       "      <th></th>\n",
       "    </tr>\n",
       "  </thead>\n",
       "  <tbody>\n",
       "    <tr>\n",
       "      <th>1972-06-01</th>\n",
       "      <td>2.149165</td>\n",
       "      <td>2.173495</td>\n",
       "      <td>2.149165</td>\n",
       "      <td>2.153220</td>\n",
       "      <td>0.314722</td>\n",
       "      <td>1089200</td>\n",
       "    </tr>\n",
       "    <tr>\n",
       "      <th>1972-06-02</th>\n",
       "      <td>2.153220</td>\n",
       "      <td>2.173495</td>\n",
       "      <td>2.141055</td>\n",
       "      <td>2.149165</td>\n",
       "      <td>0.314129</td>\n",
       "      <td>1173500</td>\n",
       "    </tr>\n",
       "    <tr>\n",
       "      <th>1972-06-05</th>\n",
       "      <td>2.149165</td>\n",
       "      <td>2.169440</td>\n",
       "      <td>2.141055</td>\n",
       "      <td>2.149165</td>\n",
       "      <td>0.314129</td>\n",
       "      <td>5208100</td>\n",
       "    </tr>\n",
       "    <tr>\n",
       "      <th>1972-06-06</th>\n",
       "      <td>2.149165</td>\n",
       "      <td>2.157275</td>\n",
       "      <td>2.116725</td>\n",
       "      <td>2.124835</td>\n",
       "      <td>0.310573</td>\n",
       "      <td>1421400</td>\n",
       "    </tr>\n",
       "    <tr>\n",
       "      <th>1972-06-07</th>\n",
       "      <td>2.124835</td>\n",
       "      <td>2.137000</td>\n",
       "      <td>2.112669</td>\n",
       "      <td>2.112669</td>\n",
       "      <td>0.308795</td>\n",
       "      <td>671800</td>\n",
       "    </tr>\n",
       "  </tbody>\n",
       "</table>\n",
       "</div>"
      ],
      "text/plain": [
       "                Open      High       Low     Close  Adj Close   Volume\n",
       "Date                                                                  \n",
       "1972-06-01  2.149165  2.173495  2.149165  2.153220   0.314722  1089200\n",
       "1972-06-02  2.153220  2.173495  2.141055  2.149165   0.314129  1173500\n",
       "1972-06-05  2.149165  2.169440  2.141055  2.149165   0.314129  5208100\n",
       "1972-06-06  2.149165  2.157275  2.116725  2.124835   0.310573  1421400\n",
       "1972-06-07  2.124835  2.137000  2.112669  2.112669   0.308795   671800"
      ]
     },
     "execution_count": 5,
     "metadata": {},
     "output_type": "execute_result"
    }
   ],
   "source": [
    "data.head()"
   ]
  },
  {
   "cell_type": "code",
   "execution_count": 6,
   "metadata": {},
   "outputs": [
    {
     "name": "stdout",
     "output_type": "stream",
     "text": [
      "<class 'pandas.core.frame.DataFrame'>\n",
      "DatetimeIndex: 11247 entries, 1972-06-01 to 2016-12-30\n",
      "Data columns (total 6 columns):\n",
      "Open         11247 non-null float64\n",
      "High         11247 non-null float64\n",
      "Low          11247 non-null float64\n",
      "Close        11247 non-null float64\n",
      "Adj Close    11247 non-null float64\n",
      "Volume       11247 non-null int64\n",
      "dtypes: float64(5), int64(1)\n",
      "memory usage: 615.1 KB\n"
     ]
    }
   ],
   "source": [
    "data.info()"
   ]
  },
  {
   "cell_type": "code",
   "execution_count": 7,
   "metadata": {},
   "outputs": [],
   "source": [
    "prices = data['Close']"
   ]
  },
  {
   "cell_type": "code",
   "execution_count": 8,
   "metadata": {},
   "outputs": [
    {
     "data": {
      "text/plain": [
       "DatetimeIndex(['1972-06-01', '1972-06-02', '1972-06-05', '1972-06-06',\n",
       "               '1972-06-07', '1972-06-08', '1972-06-09', '1972-06-12',\n",
       "               '1972-06-13', '1972-06-14',\n",
       "               ...\n",
       "               '2016-12-16', '2016-12-19', '2016-12-20', '2016-12-21',\n",
       "               '2016-12-22', '2016-12-23', '2016-12-27', '2016-12-28',\n",
       "               '2016-12-29', '2016-12-30'],\n",
       "              dtype='datetime64[ns]', name='Date', length=11247, freq=None)"
      ]
     },
     "execution_count": 8,
     "metadata": {},
     "output_type": "execute_result"
    }
   ],
   "source": [
    "prices.index\n"
   ]
  },
  {
   "cell_type": "code",
   "execution_count": 9,
   "metadata": {},
   "outputs": [
    {
     "data": {
      "text/plain": [
       "Date\n",
       "2012-01-03    11.13\n",
       "2012-01-04    11.30\n",
       "2012-01-05    11.59\n",
       "2012-01-06    11.71\n",
       "2012-01-09    11.80\n",
       "2012-01-10    11.80\n",
       "2012-01-11    12.07\n",
       "2012-01-12    12.14\n",
       "2012-01-13    12.04\n",
       "2012-01-17    12.02\n",
       "2012-01-18    12.34\n",
       "2012-01-19    12.61\n",
       "2012-01-20    12.59\n",
       "2012-01-23    12.66\n",
       "2012-01-24    12.82\n",
       "2012-01-25    12.93\n",
       "2012-01-26    12.79\n",
       "2012-01-27    12.21\n",
       "2012-01-30    12.29\n",
       "2012-01-31    12.42\n",
       "2012-02-01    12.33\n",
       "2012-02-02    12.26\n",
       "2012-02-03    12.79\n",
       "2012-02-06    12.96\n",
       "2012-02-07    12.88\n",
       "2012-02-08    12.84\n",
       "2012-02-09    12.69\n",
       "2012-02-10    12.44\n",
       "2012-02-13    12.54\n",
       "2012-02-14    12.48\n",
       "              ...  \n",
       "2012-02-17    12.75\n",
       "2012-02-21    12.53\n",
       "2012-02-22    12.28\n",
       "2012-02-23    12.40\n",
       "2012-02-24    12.23\n",
       "2012-02-27    12.30\n",
       "2012-02-28    12.25\n",
       "2012-02-29    12.38\n",
       "2012-03-01    12.66\n",
       "2012-03-02    12.72\n",
       "2012-03-05    12.46\n",
       "2012-03-06    12.09\n",
       "2012-03-07    12.24\n",
       "2012-03-08    12.46\n",
       "2012-03-09    12.58\n",
       "2012-03-12    12.43\n",
       "2012-03-13    12.70\n",
       "2012-03-14    12.88\n",
       "2012-03-15    12.90\n",
       "2012-03-16    12.51\n",
       "2012-03-19    12.63\n",
       "2012-03-20    12.54\n",
       "2012-03-21    12.57\n",
       "2012-03-22    12.32\n",
       "2012-03-23    12.32\n",
       "2012-03-26    12.48\n",
       "2012-03-27    12.32\n",
       "2012-03-28    12.32\n",
       "2012-03-29    12.50\n",
       "2012-03-30    12.48\n",
       "Name: Close, Length: 62, dtype: float64"
      ]
     },
     "execution_count": 9,
     "metadata": {},
     "output_type": "execute_result"
    }
   ],
   "source": [
    "prices['2012-01-01':'2012-04-01']"
   ]
  },
  {
   "cell_type": "code",
   "execution_count": 10,
   "metadata": {},
   "outputs": [
    {
     "data": {
      "image/png": "[encoded data removed]",
      "text/plain": [
       "<Figure size 576x288 with 1 Axes>"
      ]
     },
     "metadata": {
      "needs_background": "light"
     },
     "output_type": "display_data"
    }
   ],
   "source": [
    "%matplotlib inline\n",
    "import matplotlib.pyplot as plt\n",
    "\n",
    "prices['2000-01-01':'2003-04-01'].plot(figsize=(8, 4))\n",
    "plt.show()"
   ]
  },
  {
   "cell_type": "code",
   "execution_count": 16,
   "metadata": {},
   "outputs": [
    {
     "data": {
      "text/plain": [
       "<matplotlib.axes._subplots.AxesSubplot at 0x11b0f28d0>"
      ]
     },
     "execution_count": 16,
     "metadata": {},
     "output_type": "execute_result"
    },
    {
     "data": {
      "image/png": "[encoded data removed]",
      "text/plain": [
       "<Figure size 576x288 with 1 Axes>"
      ]
     },
     "metadata": {
      "needs_background": "light"
     },
     "output_type": "display_data"
    }
   ],
   "source": [
    "highest = data['Volume']\n",
    "highest['2000-01-01':'2003-04-01'].plot(figsize=(8,4))"
   ]
  },
  {
   "cell_type": "code",
   "execution_count": null,
   "metadata": {},
   "outputs": [],
   "source": []
  }
 ],
 "metadata": {
  "kernelspec": {
   "display_name": "Python 3",
   "language": "python",
   "name": "python3"
  },
  "language_info": {
   "codemirror_mode": {
    "name": "ipython",
    "version": 3
   },
   "file_extension": ".py",
   "mimetype": "text/x-python",
   "name": "python",
   "nbconvert_exporter": "python",
   "pygments_lexer": "ipython3",
   "version": "3.6.10"
  }
 },
 "nbformat": 4,
 "nbformat_minor": 4
}
