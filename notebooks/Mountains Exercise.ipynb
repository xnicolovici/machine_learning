{
 "cells": [
  {
   "cell_type": "code",
   "execution_count": 1,
   "metadata": {},
   "outputs": [],
   "source": [
    "import pandas as pd\n",
    "import matplotlib.pyplot as plt\n",
    "%matplotlib inline"
   ]
  },
  {
   "cell_type": "code",
   "execution_count": 3,
   "metadata": {},
   "outputs": [
    {
     "data": {
      "text/html": [
       "<div>\n",
       "<style scoped>\n",
       "    .dataframe tbody tr th:only-of-type {\n",
       "        vertical-align: middle;\n",
       "    }\n",
       "\n",
       "    .dataframe tbody tr th {\n",
       "        vertical-align: top;\n",
       "    }\n",
       "\n",
       "    .dataframe thead th {\n",
       "        text-align: right;\n",
       "    }\n",
       "</style>\n",
       "<table border=\"1\" class=\"dataframe\">\n",
       "  <thead>\n",
       "    <tr style=\"text-align: right;\">\n",
       "      <th></th>\n",
       "      <th>Mountain</th>\n",
       "      <th>Height (m)</th>\n",
       "      <th>Prominence (m)</th>\n",
       "      <th>Range</th>\n",
       "      <th>First ascent</th>\n",
       "      <th>Ascents bef. 2004</th>\n",
       "      <th>Failed attempts bef. 2004</th>\n",
       "      <th>Total attempts</th>\n",
       "      <th>Success rate</th>\n",
       "      <th>Difficulty</th>\n",
       "    </tr>\n",
       "  </thead>\n",
       "  <tbody>\n",
       "    <tr>\n",
       "      <th>0</th>\n",
       "      <td>Nanga Parbat</td>\n",
       "      <td>8126</td>\n",
       "      <td>4608</td>\n",
       "      <td>Nanga Parbat Himalaya</td>\n",
       "      <td>1953</td>\n",
       "      <td>52</td>\n",
       "      <td>67</td>\n",
       "      <td>119</td>\n",
       "      <td>43.697479</td>\n",
       "      <td>1.000000</td>\n",
       "    </tr>\n",
       "    <tr>\n",
       "      <th>1</th>\n",
       "      <td>Makalu</td>\n",
       "      <td>8485</td>\n",
       "      <td>2386</td>\n",
       "      <td>Mahalangur Himalaya</td>\n",
       "      <td>1955</td>\n",
       "      <td>45</td>\n",
       "      <td>52</td>\n",
       "      <td>97</td>\n",
       "      <td>46.391753</td>\n",
       "      <td>0.767786</td>\n",
       "    </tr>\n",
       "    <tr>\n",
       "      <th>2</th>\n",
       "      <td>Annapurna I</td>\n",
       "      <td>8091</td>\n",
       "      <td>2984</td>\n",
       "      <td>Annapurna Himalaya</td>\n",
       "      <td>1950</td>\n",
       "      <td>36</td>\n",
       "      <td>47</td>\n",
       "      <td>83</td>\n",
       "      <td>43.373494</td>\n",
       "      <td>0.702689</td>\n",
       "    </tr>\n",
       "    <tr>\n",
       "      <th>3</th>\n",
       "      <td>Manaslu</td>\n",
       "      <td>8163</td>\n",
       "      <td>3092</td>\n",
       "      <td>Manaslu Himalaya</td>\n",
       "      <td>1956</td>\n",
       "      <td>49</td>\n",
       "      <td>45</td>\n",
       "      <td>94</td>\n",
       "      <td>52.127660</td>\n",
       "      <td>0.662169</td>\n",
       "    </tr>\n",
       "    <tr>\n",
       "      <th>4</th>\n",
       "      <td>K2 / Qogir / Godwin Austen</td>\n",
       "      <td>8611</td>\n",
       "      <td>4017</td>\n",
       "      <td>Baltoro Karakoram</td>\n",
       "      <td>1954</td>\n",
       "      <td>45</td>\n",
       "      <td>44</td>\n",
       "      <td>89</td>\n",
       "      <td>50.561798</td>\n",
       "      <td>0.646364</td>\n",
       "    </tr>\n",
       "  </tbody>\n",
       "</table>\n",
       "</div>"
      ],
      "text/plain": [
       "                     Mountain  Height (m)  Prominence (m)  \\\n",
       "0                Nanga Parbat        8126            4608   \n",
       "1                      Makalu        8485            2386   \n",
       "2                 Annapurna I        8091            2984   \n",
       "3                     Manaslu        8163            3092   \n",
       "4  K2 / Qogir / Godwin Austen        8611            4017   \n",
       "\n",
       "                   Range  First ascent  Ascents bef. 2004  \\\n",
       "0  Nanga Parbat Himalaya          1953                 52   \n",
       "1    Mahalangur Himalaya          1955                 45   \n",
       "2     Annapurna Himalaya          1950                 36   \n",
       "3       Manaslu Himalaya          1956                 49   \n",
       "4      Baltoro Karakoram          1954                 45   \n",
       "\n",
       "   Failed attempts bef. 2004  Total attempts  Success rate  Difficulty  \n",
       "0                         67             119     43.697479    1.000000  \n",
       "1                         52              97     46.391753    0.767786  \n",
       "2                         47              83     43.373494    0.702689  \n",
       "3                         45              94     52.127660    0.662169  \n",
       "4                         44              89     50.561798    0.646364  "
      ]
     },
     "execution_count": 3,
     "metadata": {},
     "output_type": "execute_result"
    }
   ],
   "source": [
    "df = pd.read_csv('Mountains_Cleaned.csv')\n",
    "df.head()"
   ]
  },
  {
   "cell_type": "code",
   "execution_count": 19,
   "metadata": {},
   "outputs": [
    {
     "data": {
      "image/png": "[encoded data removed]",
      "text/plain": [
       "<Figure size 576x360 with 1 Axes>"
      ]
     },
     "metadata": {
      "needs_background": "light"
     },
     "output_type": "display_data"
    }
   ],
   "source": [
    "Himalaya = [True if 'Himalaya' in str(x) else False for x in df['Range']]\n",
    "count = df[Himalaya].groupby('Range').size()\n",
    "count = count.sort_values()\n",
    "\n",
    "plt.figure(figsize=(8,5))\n",
    "colormap = plt.cm.tab20(range(0, len(count)))\n",
    "plot = count.plot.barh(title='The Himalaya subranges', color=colormap)\n",
    "plot.set_xlabel('Number of mountains in the subrange')\n",
    "plot.set_ylabel('Subrange')\n",
    "plt.show()"
   ]
  },
  {
   "cell_type": "code",
   "execution_count": null,
   "metadata": {},
   "outputs": [],
   "source": []
  }
 ],
 "metadata": {
  "kernelspec": {
   "display_name": "Python 3",
   "language": "python",
   "name": "python3"
  },
  "language_info": {
   "codemirror_mode": {
    "name": "ipython",
    "version": 3
   },
   "file_extension": ".py",
   "mimetype": "text/x-python",
   "name": "python",
   "nbconvert_exporter": "python",
   "pygments_lexer": "ipython3",
   "version": "3.6.10"
  }
 },
 "nbformat": 4,
 "nbformat_minor": 4
}
