{
 "cells": [
  {
   "cell_type": "code",
   "execution_count": 1,
   "metadata": {},
   "outputs": [],
   "source": [
    "import pandas as pd\n",
    "import numpy as np"
   ]
  },
  {
   "cell_type": "code",
   "execution_count": 2,
   "metadata": {},
   "outputs": [
    {
     "data": {
      "text/html": [
       "<div>\n",
       "<style scoped>\n",
       "    .dataframe tbody tr th:only-of-type {\n",
       "        vertical-align: middle;\n",
       "    }\n",
       "\n",
       "    .dataframe tbody tr th {\n",
       "        vertical-align: top;\n",
       "    }\n",
       "\n",
       "    .dataframe thead th {\n",
       "        text-align: right;\n",
       "    }\n",
       "</style>\n",
       "<table border=\"1\" class=\"dataframe\">\n",
       "  <thead>\n",
       "    <tr style=\"text-align: right;\">\n",
       "      <th></th>\n",
       "      <th>age</th>\n",
       "      <th>survived</th>\n",
       "    </tr>\n",
       "  </thead>\n",
       "  <tbody>\n",
       "    <tr>\n",
       "      <th>count</th>\n",
       "      <td>756.000000</td>\n",
       "      <td>756.000000</td>\n",
       "    </tr>\n",
       "    <tr>\n",
       "      <th>mean</th>\n",
       "      <td>30.391534</td>\n",
       "      <td>0.414021</td>\n",
       "    </tr>\n",
       "    <tr>\n",
       "      <th>std</th>\n",
       "      <td>14.272565</td>\n",
       "      <td>0.492878</td>\n",
       "    </tr>\n",
       "    <tr>\n",
       "      <th>min</th>\n",
       "      <td>0.000000</td>\n",
       "      <td>0.000000</td>\n",
       "    </tr>\n",
       "    <tr>\n",
       "      <th>25%</th>\n",
       "      <td>21.000000</td>\n",
       "      <td>0.000000</td>\n",
       "    </tr>\n",
       "    <tr>\n",
       "      <th>50%</th>\n",
       "      <td>28.000000</td>\n",
       "      <td>0.000000</td>\n",
       "    </tr>\n",
       "    <tr>\n",
       "      <th>75%</th>\n",
       "      <td>39.000000</td>\n",
       "      <td>1.000000</td>\n",
       "    </tr>\n",
       "    <tr>\n",
       "      <th>max</th>\n",
       "      <td>71.000000</td>\n",
       "      <td>1.000000</td>\n",
       "    </tr>\n",
       "  </tbody>\n",
       "</table>\n",
       "</div>"
      ],
      "text/plain": [
       "              age    survived\n",
       "count  756.000000  756.000000\n",
       "mean    30.391534    0.414021\n",
       "std     14.272565    0.492878\n",
       "min      0.000000    0.000000\n",
       "25%     21.000000    0.000000\n",
       "50%     28.000000    0.000000\n",
       "75%     39.000000    1.000000\n",
       "max     71.000000    1.000000"
      ]
     },
     "execution_count": 2,
     "metadata": {},
     "output_type": "execute_result"
    }
   ],
   "source": [
    "data_df=pd.read_csv('titanic.csv')\n",
    "data_df.describe()"
   ]
  },
  {
   "cell_type": "code",
   "execution_count": 3,
   "metadata": {},
   "outputs": [
    {
     "data": {
      "text/html": [
       "<div>\n",
       "<style scoped>\n",
       "    .dataframe tbody tr th:only-of-type {\n",
       "        vertical-align: middle;\n",
       "    }\n",
       "\n",
       "    .dataframe tbody tr th {\n",
       "        vertical-align: top;\n",
       "    }\n",
       "\n",
       "    .dataframe thead th {\n",
       "        text-align: right;\n",
       "    }\n",
       "</style>\n",
       "<table border=\"1\" class=\"dataframe\">\n",
       "  <thead>\n",
       "    <tr style=\"text-align: right;\">\n",
       "      <th></th>\n",
       "      <th>name</th>\n",
       "      <th>pclass</th>\n",
       "      <th>age</th>\n",
       "      <th>sex</th>\n",
       "      <th>survived</th>\n",
       "    </tr>\n",
       "  </thead>\n",
       "  <tbody>\n",
       "    <tr>\n",
       "      <th>0</th>\n",
       "      <td>Hirvonen, Miss Hildur E</td>\n",
       "      <td>3rd</td>\n",
       "      <td>2</td>\n",
       "      <td>female</td>\n",
       "      <td>0</td>\n",
       "    </tr>\n",
       "    <tr>\n",
       "      <th>1</th>\n",
       "      <td>Van Impe, Miss Catharine</td>\n",
       "      <td>3rd</td>\n",
       "      <td>10</td>\n",
       "      <td>female</td>\n",
       "      <td>0</td>\n",
       "    </tr>\n",
       "    <tr>\n",
       "      <th>2</th>\n",
       "      <td>Sjostedt, Mr Ernst Adolf</td>\n",
       "      <td>2nd</td>\n",
       "      <td>59</td>\n",
       "      <td>male</td>\n",
       "      <td>0</td>\n",
       "    </tr>\n",
       "  </tbody>\n",
       "</table>\n",
       "</div>"
      ],
      "text/plain": [
       "                       name pclass  age     sex  survived\n",
       "0   Hirvonen, Miss Hildur E    3rd    2  female         0\n",
       "1  Van Impe, Miss Catharine    3rd   10  female         0\n",
       "2  Sjostedt, Mr Ernst Adolf    2nd   59    male         0"
      ]
     },
     "execution_count": 3,
     "metadata": {},
     "output_type": "execute_result"
    }
   ],
   "source": [
    "data_df.head(3)"
   ]
  },
  {
   "cell_type": "code",
   "execution_count": 4,
   "metadata": {},
   "outputs": [
    {
     "data": {
      "text/html": [
       "<div>\n",
       "<style scoped>\n",
       "    .dataframe tbody tr th:only-of-type {\n",
       "        vertical-align: middle;\n",
       "    }\n",
       "\n",
       "    .dataframe tbody tr th {\n",
       "        vertical-align: top;\n",
       "    }\n",
       "\n",
       "    .dataframe thead th {\n",
       "        text-align: right;\n",
       "    }\n",
       "</style>\n",
       "<table border=\"1\" class=\"dataframe\">\n",
       "  <thead>\n",
       "    <tr style=\"text-align: right;\">\n",
       "      <th></th>\n",
       "      <th>name</th>\n",
       "      <th>age</th>\n",
       "      <th>sex</th>\n",
       "      <th>survived</th>\n",
       "      <th>pclass_1st</th>\n",
       "      <th>pclass_2nd</th>\n",
       "      <th>pclass_3rd</th>\n",
       "    </tr>\n",
       "  </thead>\n",
       "  <tbody>\n",
       "    <tr>\n",
       "      <th>0</th>\n",
       "      <td>Hirvonen, Miss Hildur E</td>\n",
       "      <td>2</td>\n",
       "      <td>female</td>\n",
       "      <td>0</td>\n",
       "      <td>0</td>\n",
       "      <td>0</td>\n",
       "      <td>1</td>\n",
       "    </tr>\n",
       "    <tr>\n",
       "      <th>1</th>\n",
       "      <td>Van Impe, Miss Catharine</td>\n",
       "      <td>10</td>\n",
       "      <td>female</td>\n",
       "      <td>0</td>\n",
       "      <td>0</td>\n",
       "      <td>0</td>\n",
       "      <td>1</td>\n",
       "    </tr>\n",
       "    <tr>\n",
       "      <th>2</th>\n",
       "      <td>Sjostedt, Mr Ernst Adolf</td>\n",
       "      <td>59</td>\n",
       "      <td>male</td>\n",
       "      <td>0</td>\n",
       "      <td>0</td>\n",
       "      <td>1</td>\n",
       "      <td>0</td>\n",
       "    </tr>\n",
       "    <tr>\n",
       "      <th>3</th>\n",
       "      <td>Fortune, Mr Mark</td>\n",
       "      <td>64</td>\n",
       "      <td>male</td>\n",
       "      <td>0</td>\n",
       "      <td>1</td>\n",
       "      <td>0</td>\n",
       "      <td>0</td>\n",
       "    </tr>\n",
       "    <tr>\n",
       "      <th>4</th>\n",
       "      <td>Ware, Mr William J</td>\n",
       "      <td>23</td>\n",
       "      <td>male</td>\n",
       "      <td>0</td>\n",
       "      <td>0</td>\n",
       "      <td>1</td>\n",
       "      <td>0</td>\n",
       "    </tr>\n",
       "  </tbody>\n",
       "</table>\n",
       "</div>"
      ],
      "text/plain": [
       "                       name  age     sex  survived  pclass_1st  pclass_2nd  \\\n",
       "0   Hirvonen, Miss Hildur E    2  female         0           0           0   \n",
       "1  Van Impe, Miss Catharine   10  female         0           0           0   \n",
       "2  Sjostedt, Mr Ernst Adolf   59    male         0           0           1   \n",
       "3          Fortune, Mr Mark   64    male         0           1           0   \n",
       "4        Ware, Mr William J   23    male         0           0           1   \n",
       "\n",
       "   pclass_3rd  \n",
       "0           1  \n",
       "1           1  \n",
       "2           0  \n",
       "3           0  \n",
       "4           0  "
      ]
     },
     "execution_count": 4,
     "metadata": {},
     "output_type": "execute_result"
    }
   ],
   "source": [
    "encoded_df = pd.get_dummies(data_df, columns=['pclass'])\n",
    "encoded_df.head()"
   ]
  },
  {
   "cell_type": "code",
   "execution_count": 5,
   "metadata": {},
   "outputs": [
    {
     "data": {
      "text/html": [
       "<div>\n",
       "<style scoped>\n",
       "    .dataframe tbody tr th:only-of-type {\n",
       "        vertical-align: middle;\n",
       "    }\n",
       "\n",
       "    .dataframe tbody tr th {\n",
       "        vertical-align: top;\n",
       "    }\n",
       "\n",
       "    .dataframe thead th {\n",
       "        text-align: right;\n",
       "    }\n",
       "</style>\n",
       "<table border=\"1\" class=\"dataframe\">\n",
       "  <thead>\n",
       "    <tr style=\"text-align: right;\">\n",
       "      <th></th>\n",
       "      <th>name</th>\n",
       "      <th>age</th>\n",
       "      <th>sex</th>\n",
       "      <th>survived</th>\n",
       "      <th>pclass_1st</th>\n",
       "      <th>pclass_2nd</th>\n",
       "      <th>pclass_3rd</th>\n",
       "    </tr>\n",
       "  </thead>\n",
       "  <tbody>\n",
       "    <tr>\n",
       "      <th>0</th>\n",
       "      <td>Hirvonen, Miss Hildur E</td>\n",
       "      <td>2</td>\n",
       "      <td>1</td>\n",
       "      <td>0</td>\n",
       "      <td>0</td>\n",
       "      <td>0</td>\n",
       "      <td>1</td>\n",
       "    </tr>\n",
       "    <tr>\n",
       "      <th>1</th>\n",
       "      <td>Van Impe, Miss Catharine</td>\n",
       "      <td>10</td>\n",
       "      <td>1</td>\n",
       "      <td>0</td>\n",
       "      <td>0</td>\n",
       "      <td>0</td>\n",
       "      <td>1</td>\n",
       "    </tr>\n",
       "    <tr>\n",
       "      <th>2</th>\n",
       "      <td>Sjostedt, Mr Ernst Adolf</td>\n",
       "      <td>59</td>\n",
       "      <td>0</td>\n",
       "      <td>0</td>\n",
       "      <td>0</td>\n",
       "      <td>1</td>\n",
       "      <td>0</td>\n",
       "    </tr>\n",
       "  </tbody>\n",
       "</table>\n",
       "</div>"
      ],
      "text/plain": [
       "                       name  age  sex  survived  pclass_1st  pclass_2nd  \\\n",
       "0   Hirvonen, Miss Hildur E    2    1         0           0           0   \n",
       "1  Van Impe, Miss Catharine   10    1         0           0           0   \n",
       "2  Sjostedt, Mr Ernst Adolf   59    0         0           0           1   \n",
       "\n",
       "   pclass_3rd  \n",
       "0           1  \n",
       "1           1  \n",
       "2           0  "
      ]
     },
     "execution_count": 5,
     "metadata": {},
     "output_type": "execute_result"
    }
   ],
   "source": [
    "encoded_df.sex=encoded_df.sex.replace({\n",
    "    'male': 0,\n",
    "    'female': 1\n",
    "})\n",
    "encoded_df.head(3)"
   ]
  },
  {
   "cell_type": "code",
   "execution_count": 6,
   "metadata": {},
   "outputs": [],
   "source": [
    "# Drop unused columns\n",
    "encoded_df.drop('name', axis=1, inplace=True)\n",
    "\n",
    "# Create X/y arrays\n",
    "X=encoded_df.drop('survived', axis=1).values\n",
    "y=encoded_df.survived.values\n",
    "\n"
   ]
  },
  {
   "cell_type": "code",
   "execution_count": 23,
   "metadata": {},
   "outputs": [],
   "source": [
    "from sklearn.tree import DecisionTreeClassifier\n",
    "\n",
    "# Create basic model\n",
    "dt = DecisionTreeClassifier(criterion='gini', max_depth=1, random_state=0)\n"
   ]
  },
  {
   "cell_type": "code",
   "execution_count": 24,
   "metadata": {},
   "outputs": [
    {
     "name": "stdout",
     "output_type": "stream",
     "text": [
      "Basic Decission Tree score: 77.91%\n"
     ]
    }
   ],
   "source": [
    "# Fit model\n",
    "dt.fit(X, y)\n",
    "\n",
    "# Get score\n",
    "print(\"Basic Decission Tree score: {:.2f}%\".format(dt.score(X,y)*100))\n"
   ]
  },
  {
   "cell_type": "code",
   "execution_count": 25,
   "metadata": {},
   "outputs": [
    {
     "name": "stdout",
     "output_type": "stream",
     "text": [
      "'most-frequent' baseline: 58.60%\n"
     ]
    }
   ],
   "source": [
    "# Better than the 'most-frequent' baseline\n",
    "print(\"'most-frequent' baseline: {:.2f}%\".format(pd.value_counts(y, normalize=True).max()*100))"
   ]
  },
  {
   "cell_type": "code",
   "execution_count": 26,
   "metadata": {},
   "outputs": [],
   "source": [
    "from sklearn.tree import export_graphviz\n",
    "\n",
    "# Export decision tree\n",
    "dot_data = export_graphviz(\n",
    "    dt, out_file=None,\n",
    "    feature_names=encoded_df.drop('survived',axis=1).columns, class_names=['died', 'survived'],\n",
    "    filled=True, rounded=True, proportion=True   \n",
    ")"
   ]
  },
  {
   "cell_type": "code",
   "execution_count": 27,
   "metadata": {},
   "outputs": [
    {
     "data": {
      "image/svg+xml": [
       "<?xml version=\"1.0\" encoding=\"UTF-8\" standalone=\"no\"?>\n",
       "<!DOCTYPE svg PUBLIC \"-//W3C//DTD SVG 1.1//EN\"\n",
       " \"http://www.w3.org/Graphics/SVG/1.1/DTD/svg11.dtd\">\n",
       "<!-- Generated by graphviz version 2.38.0 (20140413.2041)\n",
       " -->\n",
       "<!-- Title: Tree Pages: 1 -->\n",
       "<svg width=\"328pt\" height=\"186pt\"\n",
       " viewBox=\"0.00 0.00 328.05 186.00\" xmlns=\"http://www.w3.org/2000/svg\" xmlns:xlink=\"http://www.w3.org/1999/xlink\">\n",
       "<g id=\"graph0\" class=\"graph\" transform=\"scale(1 1) rotate(0) translate(4 182)\">\n",
       "<title>Tree</title>\n",
       "<polygon fill=\"white\" stroke=\"none\" points=\"-4,4 -4,-182 324.051,-182 324.051,4 -4,4\"/>\n",
       "<!-- 0 -->\n",
       "<g id=\"node1\" class=\"node\"><title>0</title>\n",
       "<path fill=\"#e58139\" fill-opacity=\"0.294118\" stroke=\"black\" d=\"M223.076,-178C223.076,-178 95.9746,-178 95.9746,-178 89.9746,-178 83.9746,-172 83.9746,-166 83.9746,-166 83.9746,-112 83.9746,-112 83.9746,-106 89.9746,-100 95.9746,-100 95.9746,-100 223.076,-100 223.076,-100 229.076,-100 235.076,-106 235.076,-112 235.076,-112 235.076,-166 235.076,-166 235.076,-172 229.076,-178 223.076,-178\"/>\n",
       "<text text-anchor=\"middle\" x=\"159.525\" y=\"-162.8\" font-family=\"Helvetica,sans-Serif\" font-size=\"14.00\">sex &lt;= 0.5</text>\n",
       "<text text-anchor=\"middle\" x=\"159.525\" y=\"-148.8\" font-family=\"Helvetica,sans-Serif\" font-size=\"14.00\">gini = 0.485</text>\n",
       "<text text-anchor=\"middle\" x=\"159.525\" y=\"-134.8\" font-family=\"Helvetica,sans-Serif\" font-size=\"14.00\">samples = 100.0%</text>\n",
       "<text text-anchor=\"middle\" x=\"159.525\" y=\"-120.8\" font-family=\"Helvetica,sans-Serif\" font-size=\"14.00\">value = [0.586, 0.414]</text>\n",
       "<text text-anchor=\"middle\" x=\"159.525\" y=\"-106.8\" font-family=\"Helvetica,sans-Serif\" font-size=\"14.00\">class = died</text>\n",
       "</g>\n",
       "<!-- 1 -->\n",
       "<g id=\"node2\" class=\"node\"><title>1</title>\n",
       "<path fill=\"#e58139\" fill-opacity=\"0.741176\" stroke=\"black\" d=\"M139.076,-64C139.076,-64 11.9746,-64 11.9746,-64 5.9746,-64 -0.0253992,-58 -0.0253992,-52 -0.0253992,-52 -0.0253992,-12 -0.0253992,-12 -0.0253992,-6 5.9746,-0 11.9746,-0 11.9746,-0 139.076,-0 139.076,-0 145.076,-0 151.076,-6 151.076,-12 151.076,-12 151.076,-52 151.076,-52 151.076,-58 145.076,-64 139.076,-64\"/>\n",
       "<text text-anchor=\"middle\" x=\"75.5254\" y=\"-48.8\" font-family=\"Helvetica,sans-Serif\" font-size=\"14.00\">gini = 0.326</text>\n",
       "<text text-anchor=\"middle\" x=\"75.5254\" y=\"-34.8\" font-family=\"Helvetica,sans-Serif\" font-size=\"14.00\">samples = 61.9%</text>\n",
       "<text text-anchor=\"middle\" x=\"75.5254\" y=\"-20.8\" font-family=\"Helvetica,sans-Serif\" font-size=\"14.00\">value = [0.795, 0.205]</text>\n",
       "<text text-anchor=\"middle\" x=\"75.5254\" y=\"-6.8\" font-family=\"Helvetica,sans-Serif\" font-size=\"14.00\">class = died</text>\n",
       "</g>\n",
       "<!-- 0&#45;&gt;1 -->\n",
       "<g id=\"edge1\" class=\"edge\"><title>0&#45;&gt;1</title>\n",
       "<path fill=\"none\" stroke=\"black\" d=\"M128.962,-99.7956C121.706,-90.7252 113.956,-81.0385 106.674,-71.9359\"/>\n",
       "<polygon fill=\"black\" stroke=\"black\" points=\"109.399,-69.7394 100.419,-64.1172 103.933,-74.1123 109.399,-69.7394\"/>\n",
       "<text text-anchor=\"middle\" x=\"97.6583\" y=\"-84.7643\" font-family=\"Helvetica,sans-Serif\" font-size=\"14.00\">True</text>\n",
       "</g>\n",
       "<!-- 2 -->\n",
       "<g id=\"node3\" class=\"node\"><title>2</title>\n",
       "<path fill=\"#399de5\" fill-opacity=\"0.674510\" stroke=\"black\" d=\"M308.076,-64C308.076,-64 180.975,-64 180.975,-64 174.975,-64 168.975,-58 168.975,-52 168.975,-52 168.975,-12 168.975,-12 168.975,-6 174.975,-0 180.975,-0 180.975,-0 308.076,-0 308.076,-0 314.076,-0 320.076,-6 320.076,-12 320.076,-12 320.076,-52 320.076,-52 320.076,-58 314.076,-64 308.076,-64\"/>\n",
       "<text text-anchor=\"middle\" x=\"244.525\" y=\"-48.8\" font-family=\"Helvetica,sans-Serif\" font-size=\"14.00\">gini = 0.372</text>\n",
       "<text text-anchor=\"middle\" x=\"244.525\" y=\"-34.8\" font-family=\"Helvetica,sans-Serif\" font-size=\"14.00\">samples = 38.1%</text>\n",
       "<text text-anchor=\"middle\" x=\"244.525\" y=\"-20.8\" font-family=\"Helvetica,sans-Serif\" font-size=\"14.00\">value = [0.247, 0.753]</text>\n",
       "<text text-anchor=\"middle\" x=\"244.525\" y=\"-6.8\" font-family=\"Helvetica,sans-Serif\" font-size=\"14.00\">class = survived</text>\n",
       "</g>\n",
       "<!-- 0&#45;&gt;2 -->\n",
       "<g id=\"edge2\" class=\"edge\"><title>0&#45;&gt;2</title>\n",
       "<path fill=\"none\" stroke=\"black\" d=\"M190.453,-99.7956C197.795,-90.7252 205.637,-81.0385 213.006,-71.9359\"/>\n",
       "<polygon fill=\"black\" stroke=\"black\" points=\"215.764,-74.0918 219.335,-64.1172 210.323,-69.6874 215.764,-74.0918\"/>\n",
       "<text text-anchor=\"middle\" x=\"221.952\" y=\"-84.7798\" font-family=\"Helvetica,sans-Serif\" font-size=\"14.00\">False</text>\n",
       "</g>\n",
       "</g>\n",
       "</svg>\n"
      ],
      "text/plain": [
       "<graphviz.files.Source at 0x7fb93001c128>"
      ]
     },
     "execution_count": 27,
     "metadata": {},
     "output_type": "execute_result"
    }
   ],
   "source": [
    "import graphviz\n",
    "\n",
    "# Display decision tree\n",
    "graphviz.Source(dot_data)"
   ]
  },
  {
   "cell_type": "code",
   "execution_count": 31,
   "metadata": {},
   "outputs": [
    {
     "data": {
      "text/html": [
       "<div>\n",
       "<style scoped>\n",
       "    .dataframe tbody tr th:only-of-type {\n",
       "        vertical-align: middle;\n",
       "    }\n",
       "\n",
       "    .dataframe tbody tr th {\n",
       "        vertical-align: top;\n",
       "    }\n",
       "\n",
       "    .dataframe thead th {\n",
       "        text-align: right;\n",
       "    }\n",
       "</style>\n",
       "<table border=\"1\" class=\"dataframe\">\n",
       "  <thead>\n",
       "    <tr style=\"text-align: right;\">\n",
       "      <th>survived</th>\n",
       "      <th>0</th>\n",
       "      <th>1</th>\n",
       "    </tr>\n",
       "    <tr>\n",
       "      <th>sex</th>\n",
       "      <th></th>\n",
       "      <th></th>\n",
       "    </tr>\n",
       "  </thead>\n",
       "  <tbody>\n",
       "    <tr>\n",
       "      <th>female</th>\n",
       "      <td>0.246528</td>\n",
       "      <td>0.753472</td>\n",
       "    </tr>\n",
       "    <tr>\n",
       "      <th>male</th>\n",
       "      <td>0.794872</td>\n",
       "      <td>0.205128</td>\n",
       "    </tr>\n",
       "  </tbody>\n",
       "</table>\n",
       "</div>"
      ],
      "text/plain": [
       "survived         0         1\n",
       "sex                         \n",
       "female    0.246528  0.753472\n",
       "male      0.794872  0.205128"
      ]
     },
     "execution_count": 31,
     "metadata": {},
     "output_type": "execute_result"
    }
   ],
   "source": [
    "# Cross tabulation of sex and survived\n",
    "crosstab = pd.crosstab(\n",
    "    index=data_df.sex,\n",
    "    columns=data_df.survived,\n",
    "    normalize='index' # Normalize by sex\n",
    ")\n",
    "crosstab"
   ]
  },
  {
   "cell_type": "code",
   "execution_count": 32,
   "metadata": {},
   "outputs": [
    {
     "name": "stdout",
     "output_type": "stream",
     "text": [
      "Gini impurity (left leaf): 0.326\n",
      "Gini impurity (right leaf): 0.372\n"
     ]
    }
   ],
   "source": [
    "# Get p(survived) at each leaf\n",
    "p_left = crosstab.loc['male', 1]\n",
    "p_right = crosstab.loc['female', 1]\n",
    "\n",
    "# Compute Gini impurity values\n",
    "i_left = 2*p_left*(1-p_left)\n",
    "i_right = 2*p_right*(1-p_right)\n",
    "print('Gini impurity (left leaf): {:.3f}'.format(i_left))\n",
    "# Prints: 0.326\n",
    "print('Gini impurity (right leaf): {:.3f}'.format(i_right))\n",
    "# Prints: 0.372"
   ]
  },
  {
   "cell_type": "markdown",
   "metadata": {},
   "source": [
    "## Deeper trees"
   ]
  },
  {
   "cell_type": "code",
   "execution_count": 33,
   "metadata": {},
   "outputs": [
    {
     "data": {
      "text/plain": [
       "0.8108465608465608"
      ]
     },
     "execution_count": 33,
     "metadata": {},
     "output_type": "execute_result"
    }
   ],
   "source": [
    "# Create decision tree\n",
    "dt_2 = DecisionTreeClassifier(\n",
    "    criterion='gini', max_depth=2, random_state=0)\n",
    "\n",
    "# Fit decision tree\n",
    "dt_2.fit(X, y)\n",
    "\n",
    "# Get score\n",
    "dt_2.score(X, y)\n",
    "# Returns: 0.81084656084656082"
   ]
  },
  {
   "cell_type": "code",
   "execution_count": 35,
   "metadata": {},
   "outputs": [
    {
     "data": {
      "image/svg+xml": [
       "<?xml version=\"1.0\" encoding=\"UTF-8\" standalone=\"no\"?>\n",
       "<!DOCTYPE svg PUBLIC \"-//W3C//DTD SVG 1.1//EN\"\n",
       " \"http://www.w3.org/Graphics/SVG/1.1/DTD/svg11.dtd\">\n",
       "<!-- Generated by graphviz version 2.38.0 (20140413.2041)\n",
       " -->\n",
       "<!-- Title: Tree Pages: 1 -->\n",
       "<svg width=\"666pt\" height=\"300pt\"\n",
       " viewBox=\"0.00 0.00 666.05 300.00\" xmlns=\"http://www.w3.org/2000/svg\" xmlns:xlink=\"http://www.w3.org/1999/xlink\">\n",
       "<g id=\"graph0\" class=\"graph\" transform=\"scale(1 1) rotate(0) translate(4 296)\">\n",
       "<title>Tree</title>\n",
       "<polygon fill=\"white\" stroke=\"none\" points=\"-4,4 -4,-296 662.051,-296 662.051,4 -4,4\"/>\n",
       "<!-- 0 -->\n",
       "<g id=\"node1\" class=\"node\"><title>0</title>\n",
       "<path fill=\"#e58139\" fill-opacity=\"0.294118\" stroke=\"black\" d=\"M392.076,-292C392.076,-292 264.975,-292 264.975,-292 258.975,-292 252.975,-286 252.975,-280 252.975,-280 252.975,-226 252.975,-226 252.975,-220 258.975,-214 264.975,-214 264.975,-214 392.076,-214 392.076,-214 398.076,-214 404.076,-220 404.076,-226 404.076,-226 404.076,-280 404.076,-280 404.076,-286 398.076,-292 392.076,-292\"/>\n",
       "<text text-anchor=\"middle\" x=\"328.525\" y=\"-276.8\" font-family=\"Helvetica,sans-Serif\" font-size=\"14.00\">sex &lt;= 0.5</text>\n",
       "<text text-anchor=\"middle\" x=\"328.525\" y=\"-262.8\" font-family=\"Helvetica,sans-Serif\" font-size=\"14.00\">gini = 0.485</text>\n",
       "<text text-anchor=\"middle\" x=\"328.525\" y=\"-248.8\" font-family=\"Helvetica,sans-Serif\" font-size=\"14.00\">samples = 100.0%</text>\n",
       "<text text-anchor=\"middle\" x=\"328.525\" y=\"-234.8\" font-family=\"Helvetica,sans-Serif\" font-size=\"14.00\">value = [0.586, 0.414]</text>\n",
       "<text text-anchor=\"middle\" x=\"328.525\" y=\"-220.8\" font-family=\"Helvetica,sans-Serif\" font-size=\"14.00\">class = died</text>\n",
       "</g>\n",
       "<!-- 1 -->\n",
       "<g id=\"node2\" class=\"node\"><title>1</title>\n",
       "<path fill=\"#e58139\" fill-opacity=\"0.741176\" stroke=\"black\" d=\"M308.076,-178C308.076,-178 180.975,-178 180.975,-178 174.975,-178 168.975,-172 168.975,-166 168.975,-166 168.975,-112 168.975,-112 168.975,-106 174.975,-100 180.975,-100 180.975,-100 308.076,-100 308.076,-100 314.076,-100 320.076,-106 320.076,-112 320.076,-112 320.076,-166 320.076,-166 320.076,-172 314.076,-178 308.076,-178\"/>\n",
       "<text text-anchor=\"middle\" x=\"244.525\" y=\"-162.8\" font-family=\"Helvetica,sans-Serif\" font-size=\"14.00\">age &lt;= 12.0</text>\n",
       "<text text-anchor=\"middle\" x=\"244.525\" y=\"-148.8\" font-family=\"Helvetica,sans-Serif\" font-size=\"14.00\">gini = 0.326</text>\n",
       "<text text-anchor=\"middle\" x=\"244.525\" y=\"-134.8\" font-family=\"Helvetica,sans-Serif\" font-size=\"14.00\">samples = 61.9%</text>\n",
       "<text text-anchor=\"middle\" x=\"244.525\" y=\"-120.8\" font-family=\"Helvetica,sans-Serif\" font-size=\"14.00\">value = [0.795, 0.205]</text>\n",
       "<text text-anchor=\"middle\" x=\"244.525\" y=\"-106.8\" font-family=\"Helvetica,sans-Serif\" font-size=\"14.00\">class = died</text>\n",
       "</g>\n",
       "<!-- 0&#45;&gt;1 -->\n",
       "<g id=\"edge1\" class=\"edge\"><title>0&#45;&gt;1</title>\n",
       "<path fill=\"none\" stroke=\"black\" d=\"M299.852,-213.769C293.23,-204.939 286.114,-195.451 279.264,-186.318\"/>\n",
       "<polygon fill=\"black\" stroke=\"black\" points=\"281.869,-183.958 273.069,-178.058 276.269,-188.159 281.869,-183.958\"/>\n",
       "<text text-anchor=\"middle\" x=\"269.534\" y=\"-198.607\" font-family=\"Helvetica,sans-Serif\" font-size=\"14.00\">True</text>\n",
       "</g>\n",
       "<!-- 4 -->\n",
       "<g id=\"node5\" class=\"node\"><title>4</title>\n",
       "<path fill=\"#399de5\" fill-opacity=\"0.674510\" stroke=\"black\" d=\"M477.076,-178C477.076,-178 349.975,-178 349.975,-178 343.975,-178 337.975,-172 337.975,-166 337.975,-166 337.975,-112 337.975,-112 337.975,-106 343.975,-100 349.975,-100 349.975,-100 477.076,-100 477.076,-100 483.076,-100 489.076,-106 489.076,-112 489.076,-112 489.076,-166 489.076,-166 489.076,-172 483.076,-178 477.076,-178\"/>\n",
       "<text text-anchor=\"middle\" x=\"413.525\" y=\"-162.8\" font-family=\"Helvetica,sans-Serif\" font-size=\"14.00\">pclass_3rd &lt;= 0.5</text>\n",
       "<text text-anchor=\"middle\" x=\"413.525\" y=\"-148.8\" font-family=\"Helvetica,sans-Serif\" font-size=\"14.00\">gini = 0.372</text>\n",
       "<text text-anchor=\"middle\" x=\"413.525\" y=\"-134.8\" font-family=\"Helvetica,sans-Serif\" font-size=\"14.00\">samples = 38.1%</text>\n",
       "<text text-anchor=\"middle\" x=\"413.525\" y=\"-120.8\" font-family=\"Helvetica,sans-Serif\" font-size=\"14.00\">value = [0.247, 0.753]</text>\n",
       "<text text-anchor=\"middle\" x=\"413.525\" y=\"-106.8\" font-family=\"Helvetica,sans-Serif\" font-size=\"14.00\">class = survived</text>\n",
       "</g>\n",
       "<!-- 0&#45;&gt;4 -->\n",
       "<g id=\"edge4\" class=\"edge\"><title>0&#45;&gt;4</title>\n",
       "<path fill=\"none\" stroke=\"black\" d=\"M357.54,-213.769C364.31,-204.849 371.589,-195.257 378.586,-186.038\"/>\n",
       "<polygon fill=\"black\" stroke=\"black\" points=\"381.384,-188.14 384.642,-178.058 375.808,-183.908 381.384,-188.14\"/>\n",
       "<text text-anchor=\"middle\" x=\"388.036\" y=\"-198.627\" font-family=\"Helvetica,sans-Serif\" font-size=\"14.00\">False</text>\n",
       "</g>\n",
       "<!-- 2 -->\n",
       "<g id=\"node3\" class=\"node\"><title>2</title>\n",
       "<path fill=\"#399de5\" fill-opacity=\"0.635294\" stroke=\"black\" d=\"M139.076,-64C139.076,-64 11.9746,-64 11.9746,-64 5.9746,-64 -0.0253992,-58 -0.0253992,-52 -0.0253992,-52 -0.0253992,-12 -0.0253992,-12 -0.0253992,-6 5.9746,-0 11.9746,-0 11.9746,-0 139.076,-0 139.076,-0 145.076,-0 151.076,-6 151.076,-12 151.076,-12 151.076,-52 151.076,-52 151.076,-58 145.076,-64 139.076,-64\"/>\n",
       "<text text-anchor=\"middle\" x=\"75.5254\" y=\"-48.8\" font-family=\"Helvetica,sans-Serif\" font-size=\"14.00\">gini = 0.391</text>\n",
       "<text text-anchor=\"middle\" x=\"75.5254\" y=\"-34.8\" font-family=\"Helvetica,sans-Serif\" font-size=\"14.00\">samples = 4.0%</text>\n",
       "<text text-anchor=\"middle\" x=\"75.5254\" y=\"-20.8\" font-family=\"Helvetica,sans-Serif\" font-size=\"14.00\">value = [0.267, 0.733]</text>\n",
       "<text text-anchor=\"middle\" x=\"75.5254\" y=\"-6.8\" font-family=\"Helvetica,sans-Serif\" font-size=\"14.00\">class = survived</text>\n",
       "</g>\n",
       "<!-- 1&#45;&gt;2 -->\n",
       "<g id=\"edge2\" class=\"edge\"><title>1&#45;&gt;2</title>\n",
       "<path fill=\"none\" stroke=\"black\" d=\"M183.034,-99.7956C167.108,-89.9006 150.002,-79.2722 134.223,-69.4688\"/>\n",
       "<polygon fill=\"black\" stroke=\"black\" points=\"135.95,-66.4217 125.609,-64.1172 132.256,-72.3675 135.95,-66.4217\"/>\n",
       "</g>\n",
       "<!-- 3 -->\n",
       "<g id=\"node4\" class=\"node\"><title>3</title>\n",
       "<path fill=\"#e58139\" fill-opacity=\"0.796078\" stroke=\"black\" d=\"M308.076,-64C308.076,-64 180.975,-64 180.975,-64 174.975,-64 168.975,-58 168.975,-52 168.975,-52 168.975,-12 168.975,-12 168.975,-6 174.975,-0 180.975,-0 180.975,-0 308.076,-0 308.076,-0 314.076,-0 320.076,-6 320.076,-12 320.076,-12 320.076,-52 320.076,-52 320.076,-58 314.076,-64 308.076,-64\"/>\n",
       "<text text-anchor=\"middle\" x=\"244.525\" y=\"-48.8\" font-family=\"Helvetica,sans-Serif\" font-size=\"14.00\">gini = 0.281</text>\n",
       "<text text-anchor=\"middle\" x=\"244.525\" y=\"-34.8\" font-family=\"Helvetica,sans-Serif\" font-size=\"14.00\">samples = 57.9%</text>\n",
       "<text text-anchor=\"middle\" x=\"244.525\" y=\"-20.8\" font-family=\"Helvetica,sans-Serif\" font-size=\"14.00\">value = [0.831, 0.169]</text>\n",
       "<text text-anchor=\"middle\" x=\"244.525\" y=\"-6.8\" font-family=\"Helvetica,sans-Serif\" font-size=\"14.00\">class = died</text>\n",
       "</g>\n",
       "<!-- 1&#45;&gt;3 -->\n",
       "<g id=\"edge3\" class=\"edge\"><title>1&#45;&gt;3</title>\n",
       "<path fill=\"none\" stroke=\"black\" d=\"M244.525,-99.7956C244.525,-91.4581 244.525,-82.6 244.525,-74.1534\"/>\n",
       "<polygon fill=\"black\" stroke=\"black\" points=\"248.025,-74.1171 244.525,-64.1172 241.025,-74.1172 248.025,-74.1171\"/>\n",
       "</g>\n",
       "<!-- 5 -->\n",
       "<g id=\"node6\" class=\"node\"><title>5</title>\n",
       "<path fill=\"#399de5\" fill-opacity=\"0.913725\" stroke=\"black\" d=\"M477.076,-64C477.076,-64 349.975,-64 349.975,-64 343.975,-64 337.975,-58 337.975,-52 337.975,-52 337.975,-12 337.975,-12 337.975,-6 343.975,-0 349.975,-0 349.975,-0 477.076,-0 477.076,-0 483.076,-0 489.076,-6 489.076,-12 489.076,-12 489.076,-52 489.076,-52 489.076,-58 483.076,-64 477.076,-64\"/>\n",
       "<text text-anchor=\"middle\" x=\"413.525\" y=\"-48.8\" font-family=\"Helvetica,sans-Serif\" font-size=\"14.00\">gini = 0.148</text>\n",
       "<text text-anchor=\"middle\" x=\"413.525\" y=\"-34.8\" font-family=\"Helvetica,sans-Serif\" font-size=\"14.00\">samples = 24.6%</text>\n",
       "<text text-anchor=\"middle\" x=\"413.525\" y=\"-20.8\" font-family=\"Helvetica,sans-Serif\" font-size=\"14.00\">value = [0.081, 0.919]</text>\n",
       "<text text-anchor=\"middle\" x=\"413.525\" y=\"-6.8\" font-family=\"Helvetica,sans-Serif\" font-size=\"14.00\">class = survived</text>\n",
       "</g>\n",
       "<!-- 4&#45;&gt;5 -->\n",
       "<g id=\"edge5\" class=\"edge\"><title>4&#45;&gt;5</title>\n",
       "<path fill=\"none\" stroke=\"black\" d=\"M413.525,-99.7956C413.525,-91.4581 413.525,-82.6 413.525,-74.1534\"/>\n",
       "<polygon fill=\"black\" stroke=\"black\" points=\"417.025,-74.1171 413.525,-64.1172 410.025,-74.1172 417.025,-74.1171\"/>\n",
       "</g>\n",
       "<!-- 6 -->\n",
       "<g id=\"node7\" class=\"node\"><title>6</title>\n",
       "<path fill=\"#e58139\" fill-opacity=\"0.180392\" stroke=\"black\" d=\"M646.076,-64C646.076,-64 518.975,-64 518.975,-64 512.975,-64 506.975,-58 506.975,-52 506.975,-52 506.975,-12 506.975,-12 506.975,-6 512.975,-0 518.975,-0 518.975,-0 646.076,-0 646.076,-0 652.076,-0 658.076,-6 658.076,-12 658.076,-12 658.076,-52 658.076,-52 658.076,-58 652.076,-64 646.076,-64\"/>\n",
       "<text text-anchor=\"middle\" x=\"582.525\" y=\"-48.8\" font-family=\"Helvetica,sans-Serif\" font-size=\"14.00\">gini = 0.495</text>\n",
       "<text text-anchor=\"middle\" x=\"582.525\" y=\"-34.8\" font-family=\"Helvetica,sans-Serif\" font-size=\"14.00\">samples = 13.5%</text>\n",
       "<text text-anchor=\"middle\" x=\"582.525\" y=\"-20.8\" font-family=\"Helvetica,sans-Serif\" font-size=\"14.00\">value = [0.549, 0.451]</text>\n",
       "<text text-anchor=\"middle\" x=\"582.525\" y=\"-6.8\" font-family=\"Helvetica,sans-Serif\" font-size=\"14.00\">class = died</text>\n",
       "</g>\n",
       "<!-- 4&#45;&gt;6 -->\n",
       "<g id=\"edge6\" class=\"edge\"><title>4&#45;&gt;6</title>\n",
       "<path fill=\"none\" stroke=\"black\" d=\"M475.016,-99.7956C490.943,-89.9006 508.049,-79.2722 523.828,-69.4688\"/>\n",
       "<polygon fill=\"black\" stroke=\"black\" points=\"525.795,-72.3675 532.442,-64.1172 522.1,-66.4217 525.795,-72.3675\"/>\n",
       "</g>\n",
       "</g>\n",
       "</svg>\n"
      ],
      "text/plain": [
       "<graphviz.files.Source at 0x7fb930040550>"
      ]
     },
     "execution_count": 35,
     "metadata": {},
     "output_type": "execute_result"
    }
   ],
   "source": [
    "# Export decision tree\n",
    "dot_data_2 = export_graphviz(\n",
    "    dt_2, out_file=None,\n",
    "    feature_names=encoded_df.drop('survived',axis=1).columns, class_names=['died', 'survived'],\n",
    "    filled=True, rounded=True, proportion=True   \n",
    ")\n",
    "\n",
    "# Display it\n",
    "graphviz.Source(dot_data_2)"
   ]
  },
  {
   "cell_type": "code",
   "execution_count": 39,
   "metadata": {},
   "outputs": [
    {
     "name": "stdout",
     "output_type": "stream",
     "text": [
      "Train accuracy: 0.870\n",
      "Test accuracy: 0.784\n"
     ]
    }
   ],
   "source": [
    "from sklearn.model_selection import train_test_split\n",
    "\n",
    "# Split into train/test sets\n",
    "X_tr, X_te, y_tr, y_te = train_test_split(\n",
    "    X, y, test_size=0.3, random_state=0)\n",
    "\n",
    "# Create decision tree\n",
    "dt_max_depth = DecisionTreeClassifier(\n",
    "    criterion='gini', max_depth=None, random_state=0)\n",
    "\n",
    "# Fit decision tree\n",
    "dt_max_depth.fit(X_tr, y_tr)\n",
    "\n",
    "# Get train/test scores\n",
    "print('Train accuracy: {:.3f}'.format(\n",
    "    dt_max_depth.score(X_tr, y_tr)))\n",
    "# Prints: 0.870\n",
    "\n",
    "print('Test accuracy: {:.3f}'.format(\n",
    "    dt_max_depth.score(X_te, y_te)))\n",
    "# Prints: 0.784"
   ]
  },
  {
   "cell_type": "code",
   "execution_count": null,
   "metadata": {},
   "outputs": [],
   "source": []
  },
  {
   "cell_type": "code",
   "execution_count": null,
   "metadata": {},
   "outputs": [],
   "source": []
  }
 ],
 "metadata": {
  "kernelspec": {
   "display_name": "Python 3",
   "language": "python",
   "name": "python3"
  },
  "language_info": {
   "codemirror_mode": {
    "name": "ipython",
    "version": 3
   },
   "file_extension": ".py",
   "mimetype": "text/x-python",
   "name": "python",
   "nbconvert_exporter": "python",
   "pygments_lexer": "ipython3",
   "version": "3.8.5"
  }
 },
 "nbformat": 4,
 "nbformat_minor": 4
}
