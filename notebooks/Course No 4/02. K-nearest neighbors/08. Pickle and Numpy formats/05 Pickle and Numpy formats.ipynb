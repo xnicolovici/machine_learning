{
 "cells": [
  {
   "cell_type": "markdown",
   "metadata": {},
   "source": [
    "Pickle files\n",
    "---"
   ]
  },
  {
   "cell_type": "code",
   "execution_count": null,
   "metadata": {},
   "outputs": [],
   "source": [
    "# Sample dictionary with two lists\n",
    "data = {\n",
    "    'x': [6.28318, 2.71828, 1],\n",
    "    'y': [2, 3, 5]\n",
    "}"
   ]
  },
  {
   "cell_type": "code",
   "execution_count": null,
   "metadata": {},
   "outputs": [],
   "source": [
    "import pickle\n",
    "\n",
    "# Save the dictionary into a pickle file\n",
    "with open('data.p', 'wb') as file:\n",
    "    pickle.dump(data, file)"
   ]
  },
  {
   "cell_type": "code",
   "execution_count": null,
   "metadata": {},
   "outputs": [],
   "source": [
    "# Load the pickle file\n",
    "with open('data.p', 'rb') as file:\n",
    "    data = pickle.load(file)\n",
    "    \n",
    "# Print data\n",
    "print(data)"
   ]
  },
  {
   "cell_type": "code",
   "execution_count": null,
   "metadata": {},
   "outputs": [],
   "source": [
    "# Add a new element to each list\n",
    "data['x'].append(0)\n",
    "data['y'].append(7)\n",
    "\n",
    "# Save our modifications\n",
    "with open('data.p', 'wb') as file:\n",
    "    pickle.dump(data, file)"
   ]
  },
  {
   "cell_type": "markdown",
   "metadata": {},
   "source": [
    "Numpy npy files\n",
    "---"
   ]
  },
  {
   "cell_type": "code",
   "execution_count": null,
   "metadata": {},
   "outputs": [],
   "source": [
    "import numpy as np\n",
    "\n",
    "# Create the Numpy array\n",
    "data = np.array([6.28318, 2.71828, 1], dtype=np.float16)"
   ]
  },
  {
   "cell_type": "code",
   "execution_count": null,
   "metadata": {},
   "outputs": [],
   "source": [
    "# Save it into a .npy file\n",
    "np.save('data.npy', data)"
   ]
  },
  {
   "cell_type": "code",
   "execution_count": null,
   "metadata": {},
   "outputs": [],
   "source": [
    "# Read it\n",
    "np.load('data.npy')"
   ]
  },
  {
   "cell_type": "code",
   "execution_count": null,
   "metadata": {},
   "outputs": [],
   "source": [
    "# Create a dictionary\n",
    "data = {\n",
    "    'x': np.array([6.28318, 2.71828, 1], dtype=np.float16),\n",
    "    'y': np.array([2, 3, 5])\n",
    "}\n",
    "\n",
    "# Save it into a .npy file\n",
    "np.save('data.npy', data)\n",
    "\n",
    "# Read it\n",
    "np.load('data.npy')"
   ]
  },
  {
   "cell_type": "code",
   "execution_count": null,
   "metadata": {},
   "outputs": [],
   "source": [
    "try:\n",
    "    np.load('data.npy', allow_pickle=False)\n",
    "except Exception as e:\n",
    "    print(e)"
   ]
  },
  {
   "cell_type": "code",
   "execution_count": null,
   "metadata": {},
   "outputs": [],
   "source": [
    "# Create two Numpy arrays\n",
    "x = np.array([6.28318, 2.71828, 1], dtype=np.float16)\n",
    "y = np.array([2, 3, 5])"
   ]
  },
  {
   "cell_type": "code",
   "execution_count": null,
   "metadata": {},
   "outputs": [],
   "source": [
    "# Save them into a .npz file\n",
    "np.savez('data.npz', features=x, targets=y)"
   ]
  },
  {
   "cell_type": "code",
   "execution_count": null,
   "metadata": {},
   "outputs": [],
   "source": [
    "# Load the npz file\n",
    "with np.load('data.npz', allow_pickle=False) as npz_file:\n",
    "    # It's a dictionary-like object\n",
    "    print(list(npz_file.keys()))\n",
    "    \n",
    "    # Load the arrays\n",
    "    print('x:', npz_file['features'])\n",
    "    print('y:', npz_file['targets'])"
   ]
  },
  {
   "cell_type": "code",
   "execution_count": null,
   "metadata": {},
   "outputs": [],
   "source": [
    "with np.load('data.npz', allow_pickle=False) as npz_file:\n",
    "    # Read the \"y\" array (inside the with statement)\n",
    "    print('y:', npz_file['targets'])\n",
    "\n",
    "# Read the \"y\" array (outside the with statement)\n",
    "try:\n",
    "    print('y:', npz_file['targets'])\n",
    "except Exception as e:\n",
    "    print(e)"
   ]
  },
  {
   "cell_type": "code",
   "execution_count": null,
   "metadata": {},
   "outputs": [],
   "source": [
    "with np.load('data.npz', allow_pickle=False) as npz_file:\n",
    "    # Load the arrays\n",
    "    x = npz_file['features']\n",
    "    y = npz_file['targets']\n",
    "    \n",
    "print('x:', x)\n",
    "print('y:', y)"
   ]
  },
  {
   "cell_type": "code",
   "execution_count": null,
   "metadata": {},
   "outputs": [],
   "source": [
    "with np.load('data.npz', allow_pickle=False) as npzfile:\n",
    "    # Load the arrays in a Python dictionary\n",
    "    data = dict(npzfile.items())\n",
    "\n",
    "print(data['features'])\n",
    "print(data['targets'])"
   ]
  }
 ],
 "metadata": {
  "kernelspec": {
   "display_name": "Python 3",
   "language": "python",
   "name": "python3"
  },
  "language_info": {
   "codemirror_mode": {
    "name": "ipython",
    "version": 3
   },
   "file_extension": ".py",
   "mimetype": "text/x-python",
   "name": "python",
   "nbconvert_exporter": "python",
   "pygments_lexer": "ipython3",
   "version": "3.6.7"
  }
 },
 "nbformat": 4,
 "nbformat_minor": 2
}
