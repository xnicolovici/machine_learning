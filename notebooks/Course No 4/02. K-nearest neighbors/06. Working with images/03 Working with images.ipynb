{
 "cells": [
  {
   "cell_type": "markdown",
   "metadata": {},
   "source": [
    "Grayscale images\n",
    "---"
   ]
  },
  {
   "cell_type": "code",
   "execution_count": null,
   "metadata": {},
   "outputs": [],
   "source": [
    "from PIL import Image\n",
    "\n",
    "# Load the image using PIL\n",
    "pillow_img = Image.open('mnist-img.png')\n",
    "\n",
    "# Print its type\n",
    "print('Type:', type(pillow_img))"
   ]
  },
  {
   "cell_type": "code",
   "execution_count": null,
   "metadata": {},
   "outputs": [],
   "source": [
    "import numpy as np\n",
    "\n",
    "# Load it into a Numpy array\n",
    "img = np.array(pillow_img)\n",
    "\n",
    "# Print its type\n",
    "print('Type:', type(img))"
   ]
  },
  {
   "cell_type": "code",
   "execution_count": null,
   "metadata": {},
   "outputs": [],
   "source": [
    "print('shape:', img.shape)\n",
    "print('min:', img.min(), 'max:', img.max())\n",
    "print('dtype:', img.dtype)"
   ]
  },
  {
   "cell_type": "code",
   "execution_count": null,
   "metadata": {},
   "outputs": [],
   "source": [
    "%matplotlib inline\n",
    "import matplotlib.pyplot as plt\n",
    "\n",
    "# Plot the image\n",
    "plt.imshow(img)\n",
    "plt.show()"
   ]
  },
  {
   "cell_type": "code",
   "execution_count": null,
   "metadata": {},
   "outputs": [],
   "source": [
    "plt.imshow(img, cmap=plt.cm.gray)\n",
    "plt.show()"
   ]
  },
  {
   "cell_type": "code",
   "execution_count": null,
   "metadata": {},
   "outputs": [],
   "source": [
    "# gray_r means reversed grayscaled\n",
    "plt.imshow(img, cmap=plt.cm.gray_r)\n",
    "plt.show()"
   ]
  },
  {
   "cell_type": "markdown",
   "metadata": {},
   "source": [
    "Color images\n",
    "---"
   ]
  },
  {
   "cell_type": "code",
   "execution_count": null,
   "metadata": {},
   "outputs": [],
   "source": [
    "# Load the image using PIL\n",
    "pillow_img = Image.open('cifar-img.png')\n",
    "\n",
    "# Convert into Numpy array\n",
    "img = np.array(pillow_img)"
   ]
  },
  {
   "cell_type": "code",
   "execution_count": null,
   "metadata": {},
   "outputs": [],
   "source": [
    "print('shape:', img.shape)\n",
    "print('dtype:', img.dtype)"
   ]
  },
  {
   "cell_type": "code",
   "execution_count": null,
   "metadata": {},
   "outputs": [],
   "source": [
    "# Plot the image\n",
    "plt.imshow(img)\n",
    "plt.show()"
   ]
  },
  {
   "cell_type": "code",
   "execution_count": null,
   "metadata": {},
   "outputs": [],
   "source": [
    "# Plot the Red channel\n",
    "red_channel = img[:,:,0] # First channel in RGB\n",
    "plt.imshow(red_channel, cmap=plt.cm.Reds) # Reds colormap\n",
    "plt.show()\n",
    "\n",
    "# Plot the Green channel\n",
    "green_channel = img[:,:,1] # Second channel in RGB\n",
    "plt.imshow(green_channel, cmap=plt.cm.Greens) # Greens colormap\n",
    "plt.show()\n",
    "\n",
    "# Plot the Blue channel\n",
    "blue_channel = img[:,:,2] # Third channel in RGB\n",
    "plt.imshow(blue_channel, cmap=plt.cm.Blues) # Blues colormap\n",
    "plt.show()"
   ]
  }
 ],
 "metadata": {
  "kernelspec": {
   "display_name": "Python 3",
   "language": "python",
   "name": "python3"
  },
  "language_info": {
   "codemirror_mode": {
    "name": "ipython",
    "version": 3
   },
   "file_extension": ".py",
   "mimetype": "text/x-python",
   "name": "python",
   "nbconvert_exporter": "python",
   "pygments_lexer": "ipython3",
   "version": "3.6.7"
  }
 },
 "nbformat": 4,
 "nbformat_minor": 2
}
