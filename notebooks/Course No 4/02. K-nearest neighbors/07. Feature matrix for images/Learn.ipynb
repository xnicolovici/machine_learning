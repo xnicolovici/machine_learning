{
 "cells": [
  {
   "cell_type": "code",
   "execution_count": 18,
   "metadata": {},
   "outputs": [],
   "source": [
    "from PIL import Image\n",
    "import pandas as pd\n",
    "import numpy as np\n",
    "import matplotlib.pyplot as plt"
   ]
  },
  {
   "cell_type": "code",
   "execution_count": 4,
   "metadata": {},
   "outputs": [
    {
     "name": "stdout",
     "output_type": "stream",
     "text": [
      "Size: (32, 32, 3)\n"
     ]
    }
   ],
   "source": [
    "pillow_img=Image.open('cifar-1.png')\n",
    "img=np.array(pillow_img)\n",
    "print(\"Size:\",img.shape)"
   ]
  },
  {
   "cell_type": "code",
   "execution_count": 5,
   "metadata": {},
   "outputs": [
    {
     "name": "stdout",
     "output_type": "stream",
     "text": [
      "Size of flattened array: (3072,)\n"
     ]
    }
   ],
   "source": [
    "flat_img=img.flatten()\n",
    "print(\"Size of flattened array:\", flat_img.shape)"
   ]
  },
  {
   "cell_type": "code",
   "execution_count": 6,
   "metadata": {},
   "outputs": [],
   "source": [
    "# Five images from the CIFAR-10 data set\n",
    "files = [\n",
    "    'cifar-1.png',\n",
    "    'cifar-2.png',\n",
    "    'cifar-3.png',\n",
    "    'cifar-4.png',\n",
    "    'cifar-5.png'\n",
    "]\n",
    "\n",
    "# Feature matrix\n",
    "features = []\n",
    "\n",
    "for file in files:\n",
    "    # Load the image\n",
    "    pillow_img = Image.open(file)\n",
    "\n",
    "    # Convert it into a Numpy array\n",
    "    img = np.array(pillow_img)\n",
    "\n",
    "    # Flatten the array\n",
    "    flat_img = img.flatten()\n",
    "\n",
    "    # Add it to the feature matrix\n",
    "    features.append(flat_img)"
   ]
  },
  {
   "cell_type": "code",
   "execution_count": 7,
   "metadata": {},
   "outputs": [
    {
     "data": {
      "text/plain": [
       "[array([170, 180, 198, ...,  73,  77,  80], dtype=uint8),\n",
       " array([159, 102, 101, ..., 182,  57,  19], dtype=uint8),\n",
       " array([ 28,  35,  39, ..., 101, 140,  96], dtype=uint8),\n",
       " array([134, 186, 223, ...,  32,  94, 138], dtype=uint8),\n",
       " array([164, 206,  84, ..., 122, 170,  44], dtype=uint8)]"
      ]
     },
     "execution_count": 7,
     "metadata": {},
     "output_type": "execute_result"
    }
   ],
   "source": [
    "features"
   ]
  },
  {
   "cell_type": "code",
   "execution_count": 9,
   "metadata": {},
   "outputs": [
    {
     "name": "stdout",
     "output_type": "stream",
     "text": [
      "shape: (5, 3072)\n",
      "dtype: uint8\n"
     ]
    }
   ],
   "source": [
    "X=np.array(features)\n",
    "# Print shape\n",
    "print('shape:', X.shape) # (5, 3072)\n",
    "\n",
    "# Print data type\n",
    "print('dtype:', X.dtype) # uint8"
   ]
  },
  {
   "cell_type": "code",
   "execution_count": 11,
   "metadata": {},
   "outputs": [
    {
     "name": "stdout",
     "output_type": "stream",
     "text": [
      "dtype: float64\n"
     ]
    },
    {
     "data": {
      "text/plain": [
       "array([[ 0.73671505,  0.59622324,  0.98559361, ..., -0.57902805,\n",
       "        -0.73675288,  0.11136219],\n",
       "       [ 0.52892363, -0.62119594, -0.39995103, ...,  1.59731875,\n",
       "        -1.21829071, -1.36539731],\n",
       "       [-1.94568335, -1.66692779, -1.28555688, ..., -0.01996648,\n",
       "         0.78009128,  0.49870895],\n",
       "       [ 0.05667039,  0.68987087,  1.34269274, ..., -1.39765391,\n",
       "        -0.32744572,  1.51549418],\n",
       "       [ 0.62337428,  1.00202963, -0.64277844, ...,  0.39932969,\n",
       "         1.50239803, -0.76016801]])"
      ]
     },
     "execution_count": 11,
     "metadata": {},
     "output_type": "execute_result"
    }
   ],
   "source": [
    "from sklearn.preprocessing import StandardScaler\n",
    "\n",
    "# Convert to float\n",
    "X = X.astype(np.float)\n",
    "\n",
    "# Print the new data type\n",
    "print('dtype:', X.dtype) # float64\n",
    "\n",
    "StandardScaler().fit_transform(X)"
   ]
  },
  {
   "cell_type": "code",
   "execution_count": 14,
   "metadata": {},
   "outputs": [
    {
     "data": {
      "text/plain": [
       "122880"
      ]
     },
     "execution_count": 14,
     "metadata": {},
     "output_type": "execute_result"
    }
   ],
   "source": [
    "X.nbytes"
   ]
  },
  {
   "cell_type": "code",
   "execution_count": 15,
   "metadata": {},
   "outputs": [
    {
     "name": "stdout",
     "output_type": "stream",
     "text": [
      "shape: (3072,)\n"
     ]
    }
   ],
   "source": [
    "# Extract the third image\n",
    "flat_img = X[2, :] # third row\n",
    "\n",
    "print('shape:', flat_img.shape) # (3072,)"
   ]
  },
  {
   "cell_type": "code",
   "execution_count": 21,
   "metadata": {},
   "outputs": [
    {
     "data": {
      "image/png": "[encoded data removed]",
      "text/plain": [
       "<Figure size 432x288 with 1 Axes>"
      ]
     },
     "metadata": {
      "needs_background": "light"
     },
     "output_type": "display_data"
    }
   ],
   "source": [
    "img=flat_img.reshape(32,32,3)\n",
    "\n",
    "plt.imshow(img/255)\n",
    "plt.show()"
   ]
  },
  {
   "cell_type": "code",
   "execution_count": null,
   "metadata": {},
   "outputs": [],
   "source": []
  }
 ],
 "metadata": {
  "kernelspec": {
   "display_name": "Python 3",
   "language": "python",
   "name": "python3"
  },
  "language_info": {
   "codemirror_mode": {
    "name": "ipython",
    "version": 3
   },
   "file_extension": ".py",
   "mimetype": "text/x-python",
   "name": "python",
   "nbconvert_exporter": "python",
   "pygments_lexer": "ipython3",
   "version": "3.6.10"
  }
 },
 "nbformat": 4,
 "nbformat_minor": 4
}
