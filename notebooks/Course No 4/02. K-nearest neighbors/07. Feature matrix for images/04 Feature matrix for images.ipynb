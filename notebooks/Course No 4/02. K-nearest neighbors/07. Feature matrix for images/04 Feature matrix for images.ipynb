{
 "cells": [
  {
   "cell_type": "markdown",
   "metadata": {},
   "source": [
    "Load the images into a feature matrix\n",
    "---"
   ]
  },
  {
   "cell_type": "code",
   "execution_count": null,
   "metadata": {},
   "outputs": [],
   "source": [
    "from PIL import Image\n",
    "import numpy as np\n",
    "\n",
    "# Load the image\n",
    "pillow_img = Image.open('cifar-1.png')\n",
    "\n",
    "# Convert it into a Numpy array\n",
    "img = np.array(pillow_img)\n",
    "\n",
    "# Print shape\n",
    "print('Shape:', img.shape)"
   ]
  },
  {
   "cell_type": "code",
   "execution_count": null,
   "metadata": {},
   "outputs": [],
   "source": [
    "# Flatten the array\n",
    "flat_img = img.flatten()\n",
    "\n",
    "# Print shape\n",
    "print('Shape:', flat_img.shape)"
   ]
  },
  {
   "cell_type": "code",
   "execution_count": null,
   "metadata": {},
   "outputs": [],
   "source": [
    "# Five images from the CIFAR-10 data set\n",
    "files = [\n",
    "    'cifar-1.png',\n",
    "    'cifar-2.png',\n",
    "    'cifar-3.png',\n",
    "    'cifar-4.png',\n",
    "    'cifar-5.png'\n",
    "]\n",
    "\n",
    "# Feature matrix\n",
    "features = []\n",
    "\n",
    "for file in files:\n",
    "    # Load the image\n",
    "    pillow_img = Image.open(file)\n",
    "    \n",
    "    # Convert it into a Numpy array\n",
    "    img = np.array(pillow_img)\n",
    "    \n",
    "    # Flatten the array\n",
    "    flat_img = img.flatten()\n",
    "    \n",
    "    # Add it to the feature matrix\n",
    "    features.append(flat_img)"
   ]
  },
  {
   "cell_type": "code",
   "execution_count": null,
   "metadata": {},
   "outputs": [],
   "source": [
    "# Create input matrix\n",
    "X = np.array(features)\n",
    "\n",
    "# Print shape\n",
    "print('shape:', X.shape)\n",
    "\n",
    "# Print data type\n",
    "print('dtype:', X.dtype)"
   ]
  },
  {
   "cell_type": "code",
   "execution_count": null,
   "metadata": {},
   "outputs": [],
   "source": [
    "from sklearn.preprocessing import StandardScaler\n",
    "\n",
    "StandardScaler().fit_transform(X)"
   ]
  },
  {
   "cell_type": "markdown",
   "metadata": {},
   "source": [
    "Convert the feature matrix to float\n",
    "---"
   ]
  },
  {
   "cell_type": "code",
   "execution_count": null,
   "metadata": {},
   "outputs": [],
   "source": [
    "# Convert to float\n",
    "X = X.astype(np.float)\n",
    "\n",
    "# Print the new data type\n",
    "print('dtype:', X.dtype) # float64"
   ]
  },
  {
   "cell_type": "code",
   "execution_count": null,
   "metadata": {},
   "outputs": [],
   "source": [
    "# Extract the third image\n",
    "flat_img = X[2, :] # third row\n",
    "\n",
    "print('shape:', flat_img.shape)"
   ]
  },
  {
   "cell_type": "code",
   "execution_count": null,
   "metadata": {},
   "outputs": [],
   "source": [
    "# Reshape the image\n",
    "img = flat_img.reshape(32, 32, 3)\n",
    "\n",
    "# Print shape\n",
    "print('shape:', img.shape)"
   ]
  },
  {
   "cell_type": "code",
   "execution_count": null,
   "metadata": {},
   "outputs": [],
   "source": [
    "%matplotlib inline\n",
    "import matplotlib.pyplot as plt\n",
    "\n",
    "# Plot the image\n",
    "plt.imshow(img)\n",
    "plt.show()"
   ]
  },
  {
   "cell_type": "code",
   "execution_count": null,
   "metadata": {},
   "outputs": [],
   "source": [
    "# Plot the rescaled image\n",
    "plt.imshow(img/255)\n",
    "plt.show()"
   ]
  },
  {
   "cell_type": "code",
   "execution_count": null,
   "metadata": {},
   "outputs": [],
   "source": [
    "# Plot image\n",
    "plt.imshow(img.astype(np.uint8))\n",
    "plt.show()"
   ]
  }
 ],
 "metadata": {
  "kernelspec": {
   "display_name": "Python 3",
   "language": "python",
   "name": "python3"
  },
  "language_info": {
   "codemirror_mode": {
    "name": "ipython",
    "version": 3
   },
   "file_extension": ".py",
   "mimetype": "text/x-python",
   "name": "python",
   "nbconvert_exporter": "python",
   "pygments_lexer": "ipython3",
   "version": "3.6.10"
  }
 },
 "nbformat": 4,
 "nbformat_minor": 4
}
