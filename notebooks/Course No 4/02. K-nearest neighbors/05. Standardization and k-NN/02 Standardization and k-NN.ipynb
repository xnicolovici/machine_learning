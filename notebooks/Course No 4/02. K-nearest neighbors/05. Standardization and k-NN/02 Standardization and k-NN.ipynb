{
 "cells": [
  {
   "cell_type": "markdown",
   "metadata": {},
   "source": [
    "Standardization and k-NN\n",
    "---"
   ]
  },
  {
   "cell_type": "code",
   "execution_count": 1,
   "metadata": {},
   "outputs": [
    {
     "data": {
      "text/html": [
       "<div>\n",
       "<style scoped>\n",
       "    .dataframe tbody tr th:only-of-type {\n",
       "        vertical-align: middle;\n",
       "    }\n",
       "\n",
       "    .dataframe tbody tr th {\n",
       "        vertical-align: top;\n",
       "    }\n",
       "\n",
       "    .dataframe thead th {\n",
       "        text-align: right;\n",
       "    }\n",
       "</style>\n",
       "<table border=\"1\" class=\"dataframe\">\n",
       "  <thead>\n",
       "    <tr style=\"text-align: right;\">\n",
       "      <th></th>\n",
       "      <th>age</th>\n",
       "      <th>trestbps</th>\n",
       "      <th>chol</th>\n",
       "      <th>thalach</th>\n",
       "      <th>oldpeak</th>\n",
       "      <th>ca</th>\n",
       "    </tr>\n",
       "  </thead>\n",
       "  <tbody>\n",
       "    <tr>\n",
       "      <th>count</th>\n",
       "      <td>303.000000</td>\n",
       "      <td>303.000000</td>\n",
       "      <td>303.000000</td>\n",
       "      <td>303.000000</td>\n",
       "      <td>303.000000</td>\n",
       "      <td>303.000000</td>\n",
       "    </tr>\n",
       "    <tr>\n",
       "      <th>mean</th>\n",
       "      <td>54.438944</td>\n",
       "      <td>131.689769</td>\n",
       "      <td>246.693069</td>\n",
       "      <td>149.607261</td>\n",
       "      <td>1.039604</td>\n",
       "      <td>0.663366</td>\n",
       "    </tr>\n",
       "    <tr>\n",
       "      <th>std</th>\n",
       "      <td>9.038662</td>\n",
       "      <td>17.599748</td>\n",
       "      <td>51.776918</td>\n",
       "      <td>22.875003</td>\n",
       "      <td>1.161075</td>\n",
       "      <td>0.934375</td>\n",
       "    </tr>\n",
       "    <tr>\n",
       "      <th>min</th>\n",
       "      <td>29.000000</td>\n",
       "      <td>94.000000</td>\n",
       "      <td>126.000000</td>\n",
       "      <td>71.000000</td>\n",
       "      <td>0.000000</td>\n",
       "      <td>0.000000</td>\n",
       "    </tr>\n",
       "    <tr>\n",
       "      <th>25%</th>\n",
       "      <td>48.000000</td>\n",
       "      <td>120.000000</td>\n",
       "      <td>211.000000</td>\n",
       "      <td>133.500000</td>\n",
       "      <td>0.000000</td>\n",
       "      <td>0.000000</td>\n",
       "    </tr>\n",
       "    <tr>\n",
       "      <th>50%</th>\n",
       "      <td>56.000000</td>\n",
       "      <td>130.000000</td>\n",
       "      <td>241.000000</td>\n",
       "      <td>153.000000</td>\n",
       "      <td>0.800000</td>\n",
       "      <td>0.000000</td>\n",
       "    </tr>\n",
       "    <tr>\n",
       "      <th>75%</th>\n",
       "      <td>61.000000</td>\n",
       "      <td>140.000000</td>\n",
       "      <td>275.000000</td>\n",
       "      <td>166.000000</td>\n",
       "      <td>1.600000</td>\n",
       "      <td>1.000000</td>\n",
       "    </tr>\n",
       "    <tr>\n",
       "      <th>max</th>\n",
       "      <td>77.000000</td>\n",
       "      <td>200.000000</td>\n",
       "      <td>564.000000</td>\n",
       "      <td>202.000000</td>\n",
       "      <td>6.200000</td>\n",
       "      <td>3.000000</td>\n",
       "    </tr>\n",
       "  </tbody>\n",
       "</table>\n",
       "</div>"
      ],
      "text/plain": [
       "              age    trestbps        chol     thalach     oldpeak          ca\n",
       "count  303.000000  303.000000  303.000000  303.000000  303.000000  303.000000\n",
       "mean    54.438944  131.689769  246.693069  149.607261    1.039604    0.663366\n",
       "std      9.038662   17.599748   51.776918   22.875003    1.161075    0.934375\n",
       "min     29.000000   94.000000  126.000000   71.000000    0.000000    0.000000\n",
       "25%     48.000000  120.000000  211.000000  133.500000    0.000000    0.000000\n",
       "50%     56.000000  130.000000  241.000000  153.000000    0.800000    0.000000\n",
       "75%     61.000000  140.000000  275.000000  166.000000    1.600000    1.000000\n",
       "max     77.000000  200.000000  564.000000  202.000000    6.200000    3.000000"
      ]
     },
     "execution_count": 1,
     "metadata": {},
     "output_type": "execute_result"
    }
   ],
   "source": [
    "import pandas as pd\n",
    "\n",
    "# Load data\n",
    "data_df = pd.read_csv('heart-numerical.csv')\n",
    "\n",
    "# Data summary\n",
    "data_df.describe()"
   ]
  },
  {
   "cell_type": "code",
   "execution_count": 2,
   "metadata": {},
   "outputs": [],
   "source": [
    "from sklearn.model_selection import train_test_split\n",
    "\n",
    "# Create X/y arrays\n",
    "X = data_df.drop('disease', axis=1).values\n",
    "y = data_df.disease.values\n",
    "\n",
    "# Split data\n",
    "X_tr, X_te, y_tr, y_te = train_test_split(X, y, test_size=0.3, random_state=0)"
   ]
  },
  {
   "cell_type": "code",
   "execution_count": 3,
   "metadata": {},
   "outputs": [
    {
     "name": "stdout",
     "output_type": "stream",
     "text": [
      "Accuracy: 0.747\n"
     ]
    }
   ],
   "source": [
    "from sklearn.neighbors import KNeighborsClassifier\n",
    "from sklearn.preprocessing import StandardScaler\n",
    "from sklearn.pipeline import Pipeline\n",
    "\n",
    "# Create a k-NN pipeline\n",
    "knn_pipe = Pipeline([\n",
    "    ('scaler', StandardScaler()),\n",
    "    ('knn', KNeighborsClassifier(n_neighbors=5))\n",
    "])\n",
    "\n",
    "# Fit estimator\n",
    "knn_pipe.fit(X_tr, y_tr)\n",
    "\n",
    "# Evaluate on test set\n",
    "accuracy = knn_pipe.score(X_te, y_te)\n",
    "print('Accuracy: {:.3f}'.format(accuracy))"
   ]
  },
  {
   "cell_type": "code",
   "execution_count": 4,
   "metadata": {},
   "outputs": [
    {
     "name": "stdout",
     "output_type": "stream",
     "text": [
      "Accuracy: 0.670\n"
     ]
    }
   ],
   "source": [
    "from sklearn.base import clone\n",
    "\n",
    "knn_pipe2 = clone(knn_pipe)\n",
    "knn_pipe2.set_params(scaler=None)\n",
    "knn_pipe2.fit(X_tr, y_tr)\n",
    "print('Accuracy: {:.3f}'.format(knn_pipe2.score(X_te, y_te)))"
   ]
  },
  {
   "cell_type": "code",
   "execution_count": null,
   "metadata": {},
   "outputs": [],
   "source": [
    "import numpy as np\n",
    "\n",
    "# Generate a set of k values\n",
    "k_values = np.r_[1, np.arange(5, 101, step=5)]\n",
    "k_values"
   ]
  },
  {
   "cell_type": "code",
   "execution_count": null,
   "metadata": {},
   "outputs": [],
   "source": [
    "# Variable to store the results\n",
    "gs_results = []\n",
    "\n",
    "# Grid search\n",
    "for k in k_values:\n",
    "    # Fit k-NN model\n",
    "    knn_pipe.set_params(knn__n_neighbors=k)\n",
    "    knn_pipe.fit(X_tr, y_tr)\n",
    "    \n",
    "    # Save model and its performance on train/test sets\n",
    "    gs_results.append({\n",
    "        'k': k,\n",
    "        'train_accuracy': knn_pipe.score(X_tr, y_tr),\n",
    "        'test_accuracy': knn_pipe.score(X_te, y_te)\n",
    "    })\n",
    "\n",
    "# Convert results to DataFrame\n",
    "gs_results = pd.DataFrame(gs_results)\n",
    "gs_results.sort_values(by='test_accuracy', ascending=False).head()"
   ]
  },
  {
   "cell_type": "code",
   "execution_count": null,
   "metadata": {},
   "outputs": [],
   "source": [
    "%matplotlib inline\n",
    "import matplotlib.pyplot as plt\n",
    "\n",
    "# Plot the validation curves\n",
    "plt.plot(gs_results['k'], gs_results['train_accuracy'], label='train curve')\n",
    "plt.plot(gs_results['k'], gs_results['test_accuracy'], label='test curve')\n",
    "plt.ylabel('accuracy')\n",
    "plt.xlabel('k')\n",
    "plt.legend()\n",
    "plt.show()"
   ]
  },
  {
   "cell_type": "code",
   "execution_count": null,
   "metadata": {},
   "outputs": [],
   "source": [
    "# Run several times the evaluation\n",
    "gs_results = []\n",
    "for run_idx in range(30):\n",
    "    # Split into train/test sets\n",
    "    X_tr, X_te, y_tr, y_te = train_test_split(\n",
    "        X, y, test_size=0.3, random_state=run_idx)\n",
    "\n",
    "    # Grid search\n",
    "    for k in k_values:\n",
    "        # Fit k-NN model\n",
    "        knn_pipe.set_params(knn__n_neighbors=k)\n",
    "        knn_pipe.fit(X_tr, y_tr)\n",
    "\n",
    "        # Save model and its performance on train/test sets\n",
    "        gs_results.append({\n",
    "            'k': k,\n",
    "            'run_idx': run_idx,\n",
    "            'train_accuracy': knn_pipe.score(X_tr, y_tr),\n",
    "            'test_accuracy': knn_pipe.score(X_te, y_te)\n",
    "        })\n",
    "        \n",
    "# Convert results to DataFrame\n",
    "gs_results = pd.DataFrame(gs_results)"
   ]
  },
  {
   "cell_type": "code",
   "execution_count": null,
   "metadata": {},
   "outputs": [],
   "source": [
    "# Group results by alpha value\n",
    "grouped = gs_results.groupby('k')\n",
    "\n",
    "# Compute train/test mean scores with std\n",
    "mean_tr = grouped.train_accuracy.mean()\n",
    "mean_te = grouped.test_accuracy.mean()\n",
    "std_tr = grouped.train_accuracy.std()\n",
    "std_te = grouped.test_accuracy.std()"
   ]
  },
  {
   "cell_type": "code",
   "execution_count": null,
   "metadata": {},
   "outputs": [],
   "source": [
    "# Plot mean scores\n",
    "plt.plot(k_values, mean_tr, label='train')\n",
    "plt.plot(k_values, mean_te, label='test')\n",
    "\n",
    "# Add marker for best score\n",
    "best_k = mean_te.idxmax()\n",
    "plt.scatter(best_k, mean_te.max(), marker='x', c='red', zorder=10)\n",
    "\n",
    "# Quantify variance with ±std curves\n",
    "plt.fill_between(k_values, mean_tr-std_tr, mean_tr+std_tr, alpha=0.2)\n",
    "plt.fill_between(k_values, mean_te-std_te, mean_te+std_te, alpha=0.2)\n",
    "plt.title('Best k: {} with {:.1f}% accuracy'.format(best_k, 100*mean_te[best_k]))\n",
    "plt.ylabel('accuracy')\n",
    "plt.xlabel('k')\n",
    "plt.legend()\n",
    "plt.show()"
   ]
  },
  {
   "cell_type": "code",
   "execution_count": null,
   "metadata": {},
   "outputs": [],
   "source": [
    "from sklearn.metrics import classification_report\n",
    "\n",
    "# Tuned k-NN estimator\n",
    "tuned_knn = Pipeline([\n",
    "    ('scaler', StandardScaler()),\n",
    "    ('knn', KNeighborsClassifier(n_neighbors=best_k))\n",
    "])\n",
    "tuned_knn.fit(X_tr, y_tr)\n",
    "\n",
    "# Classification report\n",
    "y_te_preds = tuned_knn.predict(X_te)\n",
    "print(classification_report(y_true=y_te, y_pred=y_te_preds))"
   ]
  },
  {
   "cell_type": "code",
   "execution_count": null,
   "metadata": {},
   "outputs": [],
   "source": [
    "# Compute probabilities\n",
    "y_te_probs = tuned_knn.predict_proba(X_te)\n",
    "print('Predictions:', y_te_preds[:5])\n",
    "print('Probs:')\n",
    "print(y_te_probs[:5])"
   ]
  },
  {
   "cell_type": "code",
   "execution_count": null,
   "metadata": {},
   "outputs": [],
   "source": [
    "from sklearn.metrics import roc_curve\n",
    "\n",
    "# ROC curve\n",
    "fpr, tpr, thresholds = roc_curve(y_true=y_te, y_score=y_te_probs[:, 1], pos_label='presence')\n",
    "pd.DataFrame({\n",
    "    'fpr': fpr,\n",
    "    'tpr (recall)': tpr,\n",
    "    'thresholds': thresholds\n",
    "})"
   ]
  },
  {
   "cell_type": "code",
   "execution_count": null,
   "metadata": {},
   "outputs": [],
   "source": [
    "# Plot ROC curve\n",
    "plt.plot(fpr, tpr, label='ROC curve')\n",
    "plt.xlabel('False Positive Rate')\n",
    "plt.ylabel('True Positive Rate (Recall)')\n",
    "plt.title('ROC curve for \"presence\"')\n",
    "plt.show()"
   ]
  },
  {
   "cell_type": "code",
   "execution_count": null,
   "metadata": {},
   "outputs": [],
   "source": [
    "from sklearn.metrics import roc_auc_score\n",
    "\n",
    "# Area under the curve (AUC)\n",
    "roc_auc_score(y_true=y_te, y_score=y_te_probs[:, 1])"
   ]
  },
  {
   "cell_type": "code",
   "execution_count": null,
   "metadata": {},
   "outputs": [],
   "source": [
    "# Adjust threshold\n",
    "custom_preds = ['absence' if p else 'presence' for p in (y_te_probs[:, 1] < 0.2)]\n",
    "\n",
    "print(classification_report(y_true=y_te, y_pred=custom_preds))"
   ]
  }
 ],
 "metadata": {
  "kernelspec": {
   "display_name": "Python 3",
   "language": "python",
   "name": "python3"
  },
  "language_info": {
   "codemirror_mode": {
    "name": "ipython",
    "version": 3
   },
   "file_extension": ".py",
   "mimetype": "text/x-python",
   "name": "python",
   "nbconvert_exporter": "python",
   "pygments_lexer": "ipython3",
   "version": "3.6.10"
  }
 },
 "nbformat": 4,
 "nbformat_minor": 4
}
