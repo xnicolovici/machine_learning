{
 "cells": [
  {
   "cell_type": "markdown",
   "metadata": {},
   "source": [
    "CIFAR-10 classification with k-NN\n",
    "---\n",
    "\n",
    "> **Exercise**: Load the data from the `cifar10-6k.npz` file into X/y arrays. The data type of the input matrix `X` should be `float64`. Split it into train (5,000 images) and test (1,000) sets using the `train_test_split()` function. Set the `random_state` to zero. "
   ]
  },
  {
   "cell_type": "code",
   "execution_count": 28,
   "metadata": {},
   "outputs": [
    {
     "name": "stdout",
     "output_type": "stream",
     "text": [
      "dict_keys(['data', 'labels', 'names'])\n",
      "[6 9 9 ... 9 4 8]\n",
      "Shape of X_tr: (5000, 3072)\n",
      "Shape of y_tr: (5000,)\n",
      "Shape of X_te: (1000, 3072)\n",
      "Shape of y_te: (1000,)\n"
     ]
    }
   ],
   "source": [
    "import numpy as np\n",
    "import os\n",
    "from sklearn.model_selection import train_test_split\n",
    "\n",
    "with np.load(os.path.join('.','cifar10-6k.npz'), allow_pickle=False) as npz_file:\n",
    "    data=dict(npz_file.items())\n",
    "\n",
    "print(data.keys())\n",
    "print(data['labels'])\n",
    "\n",
    "X=data['data'].astype('float')\n",
    "y=data['labels']\n",
    "names=data['names']\n",
    "X_tr, X_te, y_tr,y_te=train_test_split(X, y, test_size=1000/len(y), random_state=0)\n",
    "\n",
    "print(\"Shape of X_tr: {}\".format(X_tr.shape))\n",
    "print(\"Shape of y_tr: {}\".format(y_tr.shape))\n",
    "print(\"Shape of X_te: {}\".format(X_te.shape))\n",
    "print(\"Shape of y_te: {}\".format(y_te.shape))\n"
   ]
  },
  {
   "cell_type": "markdown",
   "metadata": {},
   "source": [
    "Exercise: Data exploration\n",
    "---\n",
    "\n",
    "The ten categories are numerically encoded with digits between 0 and 9.\n",
    "\n",
    "| digit | category   | digit | category   |\n",
    "|-------|------------|-------|------------|\n",
    "| 0     | airplane   | 5     | dog        |\n",
    "| 1     | automobile | 6     | frog       |\n",
    "| 2     | bird       | 7     | horse      |\n",
    "| 3     | cat        | 8     | ship       |\n",
    "| 4     | deer       | 9     | truck      |\n",
    "\n",
    "> **Exercise**: What is the proportion of images in each category? Plot a few images from the data set."
   ]
  },
  {
   "cell_type": "code",
   "execution_count": 29,
   "metadata": {},
   "outputs": [
    {
     "data": {
      "text/html": [
       "<div>\n",
       "<style scoped>\n",
       "    .dataframe tbody tr th:only-of-type {\n",
       "        vertical-align: middle;\n",
       "    }\n",
       "\n",
       "    .dataframe tbody tr th {\n",
       "        vertical-align: top;\n",
       "    }\n",
       "\n",
       "    .dataframe thead th {\n",
       "        text-align: right;\n",
       "    }\n",
       "</style>\n",
       "<table border=\"1\" class=\"dataframe\">\n",
       "  <thead>\n",
       "    <tr style=\"text-align: right;\">\n",
       "      <th></th>\n",
       "      <th>count</th>\n",
       "      <th>percentage</th>\n",
       "    </tr>\n",
       "    <tr>\n",
       "      <th>category</th>\n",
       "      <th></th>\n",
       "      <th></th>\n",
       "    </tr>\n",
       "  </thead>\n",
       "  <tbody>\n",
       "    <tr>\n",
       "      <th>8</th>\n",
       "      <td>620</td>\n",
       "      <td>0.103333</td>\n",
       "    </tr>\n",
       "    <tr>\n",
       "      <th>2</th>\n",
       "      <td>619</td>\n",
       "      <td>0.103167</td>\n",
       "    </tr>\n",
       "    <tr>\n",
       "      <th>6</th>\n",
       "      <td>616</td>\n",
       "      <td>0.102667</td>\n",
       "    </tr>\n",
       "    <tr>\n",
       "      <th>9</th>\n",
       "      <td>613</td>\n",
       "      <td>0.102167</td>\n",
       "    </tr>\n",
       "    <tr>\n",
       "      <th>4</th>\n",
       "      <td>611</td>\n",
       "      <td>0.101833</td>\n",
       "    </tr>\n",
       "    <tr>\n",
       "      <th>0</th>\n",
       "      <td>610</td>\n",
       "      <td>0.101667</td>\n",
       "    </tr>\n",
       "    <tr>\n",
       "      <th>7</th>\n",
       "      <td>597</td>\n",
       "      <td>0.099500</td>\n",
       "    </tr>\n",
       "    <tr>\n",
       "      <th>5</th>\n",
       "      <td>583</td>\n",
       "      <td>0.097167</td>\n",
       "    </tr>\n",
       "    <tr>\n",
       "      <th>3</th>\n",
       "      <td>580</td>\n",
       "      <td>0.096667</td>\n",
       "    </tr>\n",
       "    <tr>\n",
       "      <th>1</th>\n",
       "      <td>551</td>\n",
       "      <td>0.091833</td>\n",
       "    </tr>\n",
       "  </tbody>\n",
       "</table>\n",
       "</div>"
      ],
      "text/plain": [
       "          count  percentage\n",
       "category                   \n",
       "8           620    0.103333\n",
       "2           619    0.103167\n",
       "6           616    0.102667\n",
       "9           613    0.102167\n",
       "4           611    0.101833\n",
       "0           610    0.101667\n",
       "7           597    0.099500\n",
       "5           583    0.097167\n",
       "3           580    0.096667\n",
       "1           551    0.091833"
      ]
     },
     "execution_count": 29,
     "metadata": {},
     "output_type": "execute_result"
    }
   ],
   "source": [
    "import pandas as pd\n",
    "\n",
    "df_categories=pd.DataFrame(y, columns=['category'])\n",
    "\n",
    "df_categories['count']=1\n",
    "df_proportion=df_categories.groupby('category').sum()\n",
    "df_proportion['percentage']=df_proportion['count']/len(y)\n",
    "df_proportion.sort_values('percentage', ascending=False)"
   ]
  },
  {
   "cell_type": "code",
   "execution_count": 31,
   "metadata": {},
   "outputs": [
    {
     "data": {
      "image/png": "[encoded data removed]",
      "text/plain": [
       "<Figure size 432x288 with 1 Axes>"
      ]
     },
     "metadata": {
      "needs_background": "light"
     },
     "output_type": "display_data"
    },
    {
     "data": {
      "image/png": "[encoded data removed]",
      "text/plain": [
       "<Figure size 432x288 with 1 Axes>"
      ]
     },
     "metadata": {
      "needs_background": "light"
     },
     "output_type": "display_data"
    },
    {
     "data": {
      "image/png": "[encoded data removed]",
      "text/plain": [
       "<Figure size 432x288 with 1 Axes>"
      ]
     },
     "metadata": {
      "needs_background": "light"
     },
     "output_type": "display_data"
    },
    {
     "data": {
      "image/png": "[encoded data removed]",
      "text/plain": [
       "<Figure size 432x288 with 1 Axes>"
      ]
     },
     "metadata": {
      "needs_background": "light"
     },
     "output_type": "display_data"
    }
   ],
   "source": [
    "import matplotlib.pyplot as plt\n",
    "%matplotlib inline\n",
    "# Plot image 1, 10, 100 and 1000\n",
    "\n",
    "for i in [1, 10, 100, 1000]:\n",
    "    plt.imshow(X[i].reshape(32,32,3)/255)\n",
    "    plt.title(\"Image No {} - Label: {}\".format(i, names[y[i]]))\n",
    "    plt.show()"
   ]
  },
  {
   "cell_type": "markdown",
   "metadata": {},
   "source": [
    "Exercise: Fit a *k*-NN classifier\n",
    "---\n",
    "\n",
    "> **Exercise**: Create a *k*-NN classifer and tune it using grid search for the following hyperparameters.\n",
    "> 1. The number of neighbors: define a set of reasonable values\n",
    "> 1. The weighting function: \"uniform\" or \"distance\"\n",
    "> 1. The distance metric: L1 or L2"
   ]
  },
  {
   "cell_type": "code",
   "execution_count": null,
   "metadata": {},
   "outputs": [
    {
     "name": "stdout",
     "output_type": "stream",
     "text": [
      "Number of combinaison: 160\n"
     ]
    }
   ],
   "source": [
    "# Grid seacrh using ParameterGrid\n",
    "\n",
    "from sklearn.model_selection import ParameterGrid\n",
    "from sklearn.pipeline import Pipeline\n",
    "from sklearn.preprocessing import StandardScaler\n",
    "from sklearn.neighbors import KNeighborsClassifier\n",
    "\n",
    "# Define a set of reasonable values\n",
    "k_values = np.arange(1, 21) # 1, 2, 3, .., 20\n",
    "weights_functions = ['uniform', 'distance']\n",
    "distance_types = [1, 2] # L1, L2 distances\n",
    "scaler=[None, StandardScaler()]\n",
    "\n",
    "grid=ParameterGrid({\n",
    "    'scaler': scaler,\n",
    "    'knn__n_neighbors': k_values,\n",
    "    'knn__weights': weights_functions,\n",
    "    'knn__p': distance_types,\n",
    "})\n",
    "\n",
    "print(\"Number of combinaison:\", len(grid))\n",
    "\n",
    "pipe=Pipeline([\n",
    "    ('scaler',StandardScaler()),\n",
    "    ('knn', KNeighborsClassifier())\n",
    "])\n",
    "\n",
    "grid_result=[]\n",
    "\n",
    "for grid_params in grid:\n",
    "    pipe.set_params(**grid_params)\n",
    "    \n",
    "    pipe.fit(X_tr, y_tr)\n",
    "    \n",
    "    grid_params['accuracy']=pipe.score(X_te, y_te)\n",
    "    \n",
    "    grid_result.append(grid_params)\n",
    "    \n"
   ]
  },
  {
   "cell_type": "code",
   "execution_count": null,
   "metadata": {},
   "outputs": [],
   "source": [
    "df=pd.DataFrame(grid_result)\n",
    "df.head()"
   ]
  },
  {
   "cell_type": "code",
   "execution_count": null,
   "metadata": {},
   "outputs": [],
   "source": []
  }
 ],
 "metadata": {
  "kernelspec": {
   "display_name": "Python 3",
   "language": "python",
   "name": "python3"
  },
  "language_info": {
   "codemirror_mode": {
    "name": "ipython",
    "version": 3
   },
   "file_extension": ".py",
   "mimetype": "text/x-python",
   "name": "python",
   "nbconvert_exporter": "python",
   "pygments_lexer": "ipython3",
   "version": "3.6.10"
  }
 },
 "nbformat": 4,
 "nbformat_minor": 4
}
