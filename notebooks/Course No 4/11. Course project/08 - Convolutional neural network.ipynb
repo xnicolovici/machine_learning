{
 "cells": [
  {
   "cell_type": "markdown",
   "id": "13067150",
   "metadata": {},
   "source": [
    "# Convolutional neural network"
   ]
  },
  {
   "cell_type": "markdown",
   "id": "41c999e4",
   "metadata": {},
   "source": [
    "## Load X,y data from NPZ\n",
    "\n",
    "Using the function added to *mylib.py* file, it's now easy to grab data and X/y vectors ready to be used for model training and tuning"
   ]
  },
  {
   "cell_type": "code",
   "execution_count": 1,
   "id": "8b2a8f63",
   "metadata": {},
   "outputs": [],
   "source": [
    "# Run content of mylib.py file\n",
    "%run mylib.py\n",
    "\n",
    "# Load data from NPZ file\n",
    "#data=loadNpz()\n",
    "(data, X, y)=loadXy(verbose=False)"
   ]
  },
  {
   "cell_type": "markdown",
   "id": "50b4b687",
   "metadata": {},
   "source": [
    "https://www.tutorialspoint.com/how-can-keras-be-used-to-extract-features-from-only-one-layer-of-the-model-using-python"
   ]
  },
  {
   "cell_type": "code",
   "execution_count": 2,
   "id": "3990dac3",
   "metadata": {},
   "outputs": [],
   "source": [
    "import numpy as np\n",
    "\n",
    "\n",
    "IMAGE_SIZE=data['IMAGE_SIZE']\n",
    "\n",
    "IMAGE_COLOR_SPACE_DIM=data['IMAGE_COLOR_SPACE_DIM']\n",
    "\n",
    "NB_LABELS=data['IMAGE_NB_LABELS']\n",
    "\n",
    "FEATURE_SIZE=data['FEATURE_SIZE']\n",
    "\n",
    "DATASET_NAME=data['DATASET_NAME']\n",
    "\n",
    "\n",
    "KERAS_INPUT_SHAPE=(IMAGE_SIZE[0], IMAGE_SIZE[1], IMAGE_COLOR_SPACE_DIM)\n",
    "\n",
    "\n",
    "X_tr=np.float32(data['trainX']['data'])\n",
    "y_tr=data['trainX']['labels']\n",
    "\n",
    "X_te=np.float32(data['test']['data'])\n",
    "y_te=data['test']['labels']\n"
   ]
  },
  {
   "cell_type": "code",
   "execution_count": 22,
   "id": "92353c86",
   "metadata": {},
   "outputs": [
    {
     "name": "stdout",
     "output_type": "stream",
     "text": [
      "_________________________________________________________________\n",
      "Layer (type)                 Output Shape              Param #   \n",
      "=================================================================\n",
      "conv2d_2 (Conv2D)            (None, 148, 148, 32)      2432      \n",
      "_________________________________________________________________\n",
      "max_pooling2d_2 (MaxPooling2 (None, 49, 49, 32)        0         \n",
      "_________________________________________________________________\n",
      "conv2d_3 (Conv2D)            (None, 47, 47, 32)        9248      \n",
      "_________________________________________________________________\n",
      "max_pooling2d_3 (MaxPooling2 (None, 23, 23, 32)        0         \n",
      "_________________________________________________________________\n",
      "flatten_1 (Flatten)          (None, 16928)             0         \n",
      "_________________________________________________________________\n",
      "high-level-features (Dense)  (None, 2048)              34670592  \n",
      "_________________________________________________________________\n",
      "dense_1 (Dense)              (None, 512)               1049088   \n",
      "_________________________________________________________________\n",
      "dense_2 (Dense)              (None, 512)               262656    \n",
      "_________________________________________________________________\n",
      "dense_3 (Dense)              (None, 6)                 3078      \n",
      "=================================================================\n",
      "Total params: 35,997,094\n",
      "Trainable params: 35,997,094\n",
      "Non-trainable params: 0\n",
      "_________________________________________________________________\n"
     ]
    }
   ],
   "source": [
    "import tensorflow as tf\n",
    "import tensorflow_hub as hub\n",
    "import tensorflow.keras as keras\n",
    "from tensorflow.keras import activations\n",
    "\n",
    "# Convolutional Network\n",
    "model = keras.Sequential()\n",
    "model.add(keras.layers.Conv2D(filters=32, kernel_size=5, strides=2,\n",
    "                              activation='relu', input_shape=KERAS_INPUT_SHAPE))\n",
    "model.add(keras.layers.MaxPool2D(pool_size=3))\n",
    "model.add(keras.layers.Conv2D(filters=32, kernel_size=3, strides=1,\n",
    "                              activation='relu'))\n",
    "model.add(keras.layers.MaxPool2D(pool_size=2))\n",
    "model.add(keras.layers.Flatten())\n",
    "model.add(keras.layers.Dense(units=2048, activation='relu', name='high-level-features'))\n",
    "model.add(keras.layers.Dense(units=512, activation='relu'))\n",
    "model.add(keras.layers.Dense(units=512, activation='relu'))\n",
    "model.add(keras.layers.Dense(units=6, activation='softmax'))\n",
    "\n",
    "model.summary()\n",
    "\n"
   ]
  },
  {
   "cell_type": "code",
   "execution_count": 23,
   "id": "c803d08b",
   "metadata": {},
   "outputs": [],
   "source": [
    "# Compile the model\n",
    "model.compile(optimizer=keras.optimizers.Adamax(), loss='sparse_categorical_crossentropy', metrics=['acc'])"
   ]
  },
  {
   "cell_type": "code",
   "execution_count": 24,
   "id": "3049b6c6",
   "metadata": {},
   "outputs": [],
   "source": [
    "# End training when accuracy stops improving (optional)\n",
    "early_stopping = keras.callbacks.EarlyStopping(monitor='val_loss', patience=6)"
   ]
  },
  {
   "cell_type": "code",
   "execution_count": 25,
   "id": "f1433a4e",
   "metadata": {},
   "outputs": [
    {
     "name": "stdout",
     "output_type": "stream",
     "text": [
      "Train on 336 samples, validate on 84 samples\n",
      "Epoch 1/100\n",
      "336/336 [==============================] - 13s 38ms/step - loss: 2.4188 - acc: 0.2292 - val_loss: 2.0835 - val_acc: 0.0000e+00\n",
      "Epoch 2/100\n",
      "336/336 [==============================] - 10s 29ms/step - loss: 1.6807 - acc: 0.3690 - val_loss: 1.9241 - val_acc: 0.0595\n",
      "Epoch 3/100\n",
      "336/336 [==============================] - 10s 29ms/step - loss: 1.6329 - acc: 0.4762 - val_loss: 2.1994 - val_acc: 0.0476\n",
      "Epoch 4/100\n",
      "336/336 [==============================] - 10s 29ms/step - loss: 1.3864 - acc: 0.4881 - val_loss: 1.7872 - val_acc: 0.2143\n",
      "Epoch 5/100\n",
      "336/336 [==============================] - 10s 30ms/step - loss: 1.0961 - acc: 0.6518 - val_loss: 1.5148 - val_acc: 0.3571\n",
      "Epoch 6/100\n",
      "336/336 [==============================] - 10s 31ms/step - loss: 0.7098 - acc: 0.7738 - val_loss: 1.7244 - val_acc: 0.2738\n",
      "Epoch 7/100\n",
      "336/336 [==============================] - 10s 30ms/step - loss: 0.3686 - acc: 0.8958 - val_loss: 1.5563 - val_acc: 0.3690\n",
      "Epoch 8/100\n",
      "336/336 [==============================] - 10s 29ms/step - loss: 0.1309 - acc: 0.9732 - val_loss: 2.2473 - val_acc: 0.3214\n",
      "Epoch 9/100\n",
      "336/336 [==============================] - 10s 30ms/step - loss: 0.0330 - acc: 1.0000 - val_loss: 2.2406 - val_acc: 0.3214\n",
      "Epoch 10/100\n",
      "336/336 [==============================] - 10s 30ms/step - loss: 0.0088 - acc: 1.0000 - val_loss: 2.7097 - val_acc: 0.3214\n",
      "Epoch 11/100\n",
      "336/336 [==============================] - 10s 31ms/step - loss: 0.0026 - acc: 1.0000 - val_loss: 2.8591 - val_acc: 0.2976\n"
     ]
    },
    {
     "data": {
      "text/plain": [
       "<tensorflow.python.keras.callbacks.History at 0x7fd172ac5d30>"
      ]
     },
     "execution_count": 25,
     "metadata": {},
     "output_type": "execute_result"
    }
   ],
   "source": [
    "# Train model\n",
    "\n",
    "model.fit(X_tr, y_tr, epochs=100, validation_split=0.2, callbacks=[early_stopping], verbose=1, workers=-1)\n"
   ]
  },
  {
   "cell_type": "code",
   "execution_count": 26,
   "id": "5eb06f54",
   "metadata": {},
   "outputs": [
    {
     "name": "stdout",
     "output_type": "stream",
     "text": [
      "acc: 52.00%\n"
     ]
    }
   ],
   "source": [
    "scores = model.evaluate(X_te, y_te, verbose=0)\n",
    "print(\"%s: %.2f%%\" % (model.metrics_names[1], scores[1]*100))"
   ]
  },
  {
   "cell_type": "code",
   "execution_count": 27,
   "id": "30708b06",
   "metadata": {},
   "outputs": [
    {
     "name": "stdout",
     "output_type": "stream",
     "text": [
      "Feature extraction from the model\n"
     ]
    }
   ],
   "source": [
    "print(\"Feature extraction from the model\")\n",
    "feature_extractor = keras.Model(\n",
    "   inputs=model.inputs,\n",
    "   outputs=model.get_layer(name=\"high-level-features\").output,\n",
    ")\n"
   ]
  },
  {
   "cell_type": "code",
   "execution_count": 28,
   "id": "f3d0707b",
   "metadata": {},
   "outputs": [
    {
     "name": "stdout",
     "output_type": "stream",
     "text": [
      "_________________________________________________________________\n",
      "Layer (type)                 Output Shape              Param #   \n",
      "=================================================================\n",
      "conv2d_2_input (InputLayer)  (None, 299, 299, 3)       0         \n",
      "_________________________________________________________________\n",
      "conv2d_2 (Conv2D)            (None, 148, 148, 32)      2432      \n",
      "_________________________________________________________________\n",
      "max_pooling2d_2 (MaxPooling2 (None, 49, 49, 32)        0         \n",
      "_________________________________________________________________\n",
      "conv2d_3 (Conv2D)            (None, 47, 47, 32)        9248      \n",
      "_________________________________________________________________\n",
      "max_pooling2d_3 (MaxPooling2 (None, 23, 23, 32)        0         \n",
      "_________________________________________________________________\n",
      "flatten_1 (Flatten)          (None, 16928)             0         \n",
      "_________________________________________________________________\n",
      "high-level-features (Dense)  (None, 2048)              34670592  \n",
      "=================================================================\n",
      "Total params: 34,682,272\n",
      "Trainable params: 34,682,272\n",
      "Non-trainable params: 0\n",
      "_________________________________________________________________\n"
     ]
    }
   ],
   "source": [
    "feature_extractor.summary()"
   ]
  },
  {
   "cell_type": "code",
   "execution_count": 29,
   "id": "e6ce6bb6",
   "metadata": {},
   "outputs": [
    {
     "name": "stdout",
     "output_type": "stream",
     "text": [
      "The feature extractor method is used to get my high-level features\n"
     ]
    },
    {
     "data": {
      "text/plain": [
       "(50, 2048)"
      ]
     },
     "execution_count": 29,
     "metadata": {},
     "output_type": "execute_result"
    }
   ],
   "source": [
    "print(\"The feature extractor method is used to get my high-level features\")\n",
    "\n",
    "features = feature_extractor.predict(X_te)\n",
    "features.shape"
   ]
  },
  {
   "cell_type": "code",
   "execution_count": 30,
   "id": "1c1f3f2f",
   "metadata": {},
   "outputs": [
    {
     "name": "stdout",
     "output_type": "stream",
     "text": [
      "Loading model from  model-logistic.sav\n"
     ]
    }
   ],
   "source": [
    "accuracy=loadModel('logistic').score(features, y_te)"
   ]
  },
  {
   "cell_type": "code",
   "execution_count": 31,
   "id": "d13a1284",
   "metadata": {},
   "outputs": [
    {
     "name": "stdout",
     "output_type": "stream",
     "text": [
      "  knn - Accuracy on test dataset: 12.0%\n",
      "\n"
     ]
    }
   ],
   "source": [
    "accuracy=accuracy*100\n",
    "print(\"  {} - Accuracy on test dataset: {:.1f}%\\n\".format('knn', accuracy))"
   ]
  },
  {
   "cell_type": "code",
   "execution_count": 40,
   "id": "d49e8397",
   "metadata": {},
   "outputs": [],
   "source": [
    "from tensorflow.keras.models import save_model\n",
    "\n",
    "save_model(model, 'model-cnn.sav')"
   ]
  },
  {
   "cell_type": "code",
   "execution_count": 42,
   "id": "75586a35",
   "metadata": {},
   "outputs": [
    {
     "data": {
      "text/plain": [
       "tensorflow.python.keras.engine.sequential.Sequential"
      ]
     },
     "execution_count": 42,
     "metadata": {},
     "output_type": "execute_result"
    }
   ],
   "source": [
    "\n",
    "type(model)"
   ]
  },
  {
   "cell_type": "code",
   "execution_count": null,
   "id": "6df3cc3f",
   "metadata": {},
   "outputs": [],
   "source": []
  }
 ],
 "metadata": {
  "kernelspec": {
   "display_name": "Python 3",
   "language": "python",
   "name": "python3"
  },
  "language_info": {
   "codemirror_mode": {
    "name": "ipython",
    "version": 3
   },
   "file_extension": ".py",
   "mimetype": "text/x-python",
   "name": "python",
   "nbconvert_exporter": "python",
   "pygments_lexer": "ipython3",
   "version": "3.6.13"
  }
 },
 "nbformat": 4,
 "nbformat_minor": 5
}
