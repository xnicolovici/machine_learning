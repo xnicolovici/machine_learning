{
 "cells": [
  {
   "cell_type": "markdown",
   "metadata": {},
   "source": [
    "# Convolutional neural network"
   ]
  },
  {
   "cell_type": "markdown",
   "metadata": {},
   "source": [
    "## Load X,y data from NPZ\n",
    "\n",
    "Using the function added to *mylib.py* file, it's now easy to grab data and X/y vectors ready to be used for model training and tuning"
   ]
  },
  {
   "cell_type": "code",
   "execution_count": 32,
   "metadata": {},
   "outputs": [],
   "source": [
    "# Run content of mylib.py file\n",
    "%run mylib.py\n",
    "\n",
    "# Load data from NPZ file\n",
    "#data=loadNpz()\n",
    "(data, X, y)=loadXy(verbose=False)"
   ]
  },
  {
   "cell_type": "markdown",
   "metadata": {},
   "source": [
    "https://www.tutorialspoint.com/how-can-keras-be-used-to-extract-features-from-only-one-layer-of-the-model-using-python"
   ]
  },
  {
   "cell_type": "code",
   "execution_count": 2,
   "metadata": {},
   "outputs": [],
   "source": [
    "import numpy as np\n",
    "\n",
    "\n",
    "IMAGE_SIZE=data['IMAGE_SIZE']\n",
    "\n",
    "IMAGE_COLOR_SPACE_DIM=data['IMAGE_COLOR_SPACE_DIM']\n",
    "\n",
    "NB_LABELS=data['IMAGE_NB_LABELS']\n",
    "\n",
    "FEATURE_SIZE=data['FEATURE_SIZE']\n",
    "\n",
    "DATASET_NAME=data['DATASET_NAME']\n",
    "\n",
    "\n",
    "KERAS_INPUT_SHAPE=(IMAGE_SIZE[0], IMAGE_SIZE[1], IMAGE_COLOR_SPACE_DIM)\n",
    "\n",
    "\n",
    "X_tr=np.float32(data['trainX']['data'])\n",
    "y_tr=data['trainX']['labels']\n",
    "\n",
    "X_te=np.float32(data['test']['data'])\n",
    "y_te=data['test']['labels']\n"
   ]
  },
  {
   "cell_type": "code",
   "execution_count": 3,
   "metadata": {},
   "outputs": [
    {
     "name": "stderr",
     "output_type": "stream",
     "text": [
      "WARNING:absl:Some hub symbols are not available because TensorFlow version is less than 1.14\n"
     ]
    },
    {
     "name": "stdout",
     "output_type": "stream",
     "text": [
      "_________________________________________________________________\n",
      "Layer (type)                 Output Shape              Param #   \n",
      "=================================================================\n",
      "conv2d (Conv2D)              (None, 148, 148, 32)      2432      \n",
      "_________________________________________________________________\n",
      "max_pooling2d (MaxPooling2D) (None, 49, 49, 32)        0         \n",
      "_________________________________________________________________\n",
      "conv2d_1 (Conv2D)            (None, 47, 47, 32)        9248      \n",
      "_________________________________________________________________\n",
      "max_pooling2d_1 (MaxPooling2 (None, 23, 23, 32)        0         \n",
      "_________________________________________________________________\n",
      "flatten (Flatten)            (None, 16928)             0         \n",
      "_________________________________________________________________\n",
      "high-level-features (Dense)  (None, 2048)              34670592  \n",
      "_________________________________________________________________\n",
      "dense (Dense)                (None, 512)               1049088   \n",
      "_________________________________________________________________\n",
      "dense_1 (Dense)              (None, 512)               262656    \n",
      "_________________________________________________________________\n",
      "dense_2 (Dense)              (None, 6)                 3078      \n",
      "=================================================================\n",
      "Total params: 35,997,094\n",
      "Trainable params: 35,997,094\n",
      "Non-trainable params: 0\n",
      "_________________________________________________________________\n"
     ]
    }
   ],
   "source": [
    "import tensorflow as tf\n",
    "import tensorflow_hub as hub\n",
    "import tensorflow.keras as keras\n",
    "from tensorflow.keras import activations\n",
    "\n",
    "# Convolutional Network\n",
    "model = keras.Sequential()\n",
    "model.add(keras.layers.Conv2D(filters=32, kernel_size=5, strides=2,\n",
    "                              activation='relu', input_shape=KERAS_INPUT_SHAPE))\n",
    "model.add(keras.layers.MaxPool2D(pool_size=3))\n",
    "model.add(keras.layers.Conv2D(filters=32, kernel_size=3, strides=1,\n",
    "                              activation='relu'))\n",
    "model.add(keras.layers.MaxPool2D(pool_size=2))\n",
    "model.add(keras.layers.Flatten())\n",
    "model.add(keras.layers.Dense(units=2048, activation='relu', name='high-level-features'))\n",
    "model.add(keras.layers.Dense(units=512, activation='relu'))\n",
    "model.add(keras.layers.Dense(units=512, activation='relu'))\n",
    "model.add(keras.layers.Dense(units=6, activation='softmax'))\n",
    "\n",
    "model.summary()\n",
    "\n"
   ]
  },
  {
   "cell_type": "code",
   "execution_count": 4,
   "metadata": {},
   "outputs": [],
   "source": [
    "# Compile the model\n",
    "model.compile(optimizer=keras.optimizers.Adamax(), loss='sparse_categorical_crossentropy', metrics=['acc'])"
   ]
  },
  {
   "cell_type": "code",
   "execution_count": 5,
   "metadata": {},
   "outputs": [],
   "source": [
    "# End training when accuracy stops improving (optional)\n",
    "early_stopping = keras.callbacks.EarlyStopping(monitor='val_loss', patience=6)"
   ]
  },
  {
   "cell_type": "code",
   "execution_count": 6,
   "metadata": {},
   "outputs": [
    {
     "name": "stdout",
     "output_type": "stream",
     "text": [
      "Train on 336 samples, validate on 84 samples\n",
      "Epoch 1/100\n",
      "336/336 [==============================] - 8s 23ms/step - loss: 3.8523 - acc: 0.2530 - val_loss: 1.8643 - val_acc: 0.0000e+00\n",
      "Epoch 2/100\n",
      "336/336 [==============================] - 5s 13ms/step - loss: 1.6670 - acc: 0.3185 - val_loss: 1.9600 - val_acc: 0.0238\n",
      "Epoch 3/100\n",
      "336/336 [==============================] - 4s 13ms/step - loss: 1.5452 - acc: 0.4375 - val_loss: 2.0074 - val_acc: 0.0714\n",
      "Epoch 4/100\n",
      "336/336 [==============================] - 4s 13ms/step - loss: 1.3242 - acc: 0.5238 - val_loss: 1.8820 - val_acc: 0.1667\n",
      "Epoch 5/100\n",
      "336/336 [==============================] - 4s 13ms/step - loss: 1.1644 - acc: 0.5893 - val_loss: 1.5696 - val_acc: 0.3571\n",
      "Epoch 6/100\n",
      "336/336 [==============================] - 4s 13ms/step - loss: 0.8929 - acc: 0.6786 - val_loss: 1.7739 - val_acc: 0.2857\n",
      "Epoch 7/100\n",
      "336/336 [==============================] - 4s 13ms/step - loss: 0.6707 - acc: 0.7887 - val_loss: 1.4095 - val_acc: 0.4524\n",
      "Epoch 8/100\n",
      "336/336 [==============================] - 4s 13ms/step - loss: 0.4637 - acc: 0.8452 - val_loss: 1.3069 - val_acc: 0.4762\n",
      "Epoch 9/100\n",
      "336/336 [==============================] - 5s 14ms/step - loss: 0.2690 - acc: 0.9375 - val_loss: 1.5777 - val_acc: 0.3452\n",
      "Epoch 10/100\n",
      "336/336 [==============================] - 4s 13ms/step - loss: 0.1389 - acc: 0.9821 - val_loss: 1.6804 - val_acc: 0.4048\n",
      "Epoch 11/100\n",
      "336/336 [==============================] - 4s 13ms/step - loss: 0.0585 - acc: 0.9940 - val_loss: 1.8803 - val_acc: 0.3690\n",
      "Epoch 12/100\n",
      "336/336 [==============================] - 5s 15ms/step - loss: 0.0331 - acc: 0.9970 - val_loss: 2.1805 - val_acc: 0.3810\n",
      "Epoch 13/100\n",
      "336/336 [==============================] - 5s 15ms/step - loss: 0.0130 - acc: 1.0000 - val_loss: 2.4173 - val_acc: 0.3333\n",
      "Epoch 14/100\n",
      "336/336 [==============================] - 5s 15ms/step - loss: 0.0057 - acc: 1.0000 - val_loss: 2.0848 - val_acc: 0.4048\n"
     ]
    },
    {
     "data": {
      "text/plain": [
       "<tensorflow.python.keras.callbacks.History at 0x7f818b51e470>"
      ]
     },
     "execution_count": 6,
     "metadata": {},
     "output_type": "execute_result"
    }
   ],
   "source": [
    "# Train model\n",
    "\n",
    "model.fit(X_tr, y_tr, epochs=100, validation_split=0.2, callbacks=[early_stopping], verbose=1, workers=-1)\n"
   ]
  },
  {
   "cell_type": "code",
   "execution_count": 7,
   "metadata": {},
   "outputs": [
    {
     "name": "stdout",
     "output_type": "stream",
     "text": [
      "acc: 54.90%\n"
     ]
    }
   ],
   "source": [
    "scores = model.evaluate(X_te, y_te, verbose=0)\n",
    "print(\"%s: %.2f%%\" % (model.metrics_names[1], scores[1]*100))"
   ]
  },
  {
   "cell_type": "markdown",
   "metadata": {},
   "source": [
    "It's now time to save the model in order to use it in the last Notebook of this project.\n",
    "\n",
    "As we can not use 'pickle' to save *keras.Sequential* objects, my *saveModel()* and *loadModel()* function have been improved to handle *keras.Sequential* objects.\n",
    "\n",
    "How ?\n",
    "\n",
    "Well, the *saveModel()* function now check the type of model passed as paramter. If it matches *keras.Sequential* type, then I use the *kera.models.save_model()* instead *pickle*.\n",
    "\n",
    "For the *loadModel()*, as I do not know which kind of model is saved before trying to load it, I'll use a *try{} / catch Exception* block. If the files is correctly loaded using *keras.model.load_model()* then I return the *keras.Sequential* object, if not, then I use *pickle* in the *catch* block to return the model."
   ]
  },
  {
   "cell_type": "markdown",
   "metadata": {},
   "source": [
    "Here is the new saveModel() function definition:\n",
    "\n",
    "    def saveModel(model, name):\n",
    "        \"\"\"\n",
    "        Function that saves on disk the model passed as first parameter.\n",
    "        It uses the function getModelFilename() with the 'name' parameter\n",
    "        to get the filename where to save the model.\n",
    "        This function checks the type of model received. If it's a keras.Sequential,\n",
    "        then it uses the keras.models.save_model fuinction to save it.\n",
    "        Use pickle otherwise.\n",
    "        \"\"\"\n",
    "        filename=getModelFilename(name)\n",
    "        # Save model to disk\n",
    "        if isinstance(model, keras.Sequential):\n",
    "            print(\"Saving model {} to {} using 'keras.models.save_model' library\".format(name, filename))\n",
    "            keras.models.save_model(model, filename, overwrite=True)\n",
    "        else:\n",
    "            print(\"Saving model {} to {} using 'pickle' library\".format(name, filename))\n",
    "            pickle.dump(model, open(filename, 'wb'))"
   ]
  },
  {
   "cell_type": "markdown",
   "metadata": {},
   "source": [
    "And the new loadModule() function definition:\n",
    "\n",
    "    def loadModel(name):\n",
    "        \"\"\"\n",
    "        Function that loads from disk the model of which name is passed as first parameter.\n",
    "        It uses the function getModelFilename() with the 'name' parameter\n",
    "        to get the filename from where to load the model\n",
    "        This function tries to first load the model using pickle. If it fails, then\n",
    "        it fallback to keras.models.load_model function, as the content of the file might be\n",
    "        a keras object if loading fails with pickle.\n",
    "        \"\"\"\n",
    "        filename=getModelFilename(name)\n",
    "        # load the model from disk\n",
    "        print(\"Loading model from \", filename)\n",
    "        model=None\n",
    "        try:\n",
    "            model=pickle.load(open(filename, 'rb'))\n",
    "            print(\"Model loaded using pickle()\")\n",
    "        except:\n",
    "            model=keras.models.load_model(filename)\n",
    "            print(\"Model loaded using keras.models.load_model()\")\n",
    "        finally:\n",
    "            return model\n"
   ]
  },
  {
   "cell_type": "markdown",
   "metadata": {},
   "source": [
    "Now I can save my CNN model on disk, the same way I do for others.\n"
   ]
  },
  {
   "cell_type": "code",
   "execution_count": 33,
   "metadata": {},
   "outputs": [
    {
     "name": "stdout",
     "output_type": "stream",
     "text": [
      "Saving model cnn to model-cnn.sav using 'keras.models.save_model' library\n"
     ]
    }
   ],
   "source": [
    "saveModel(model, 'cnn')"
   ]
  },
  {
   "cell_type": "code",
   "execution_count": 8,
   "metadata": {},
   "outputs": [
    {
     "name": "stdout",
     "output_type": "stream",
     "text": [
      "Feature extraction from the model\n"
     ]
    }
   ],
   "source": [
    "print(\"Feature extraction from the model\")\n",
    "feature_extractor = keras.Model(\n",
    "   inputs=model.inputs,\n",
    "   outputs=model.get_layer(name=\"high-level-features\").output,\n",
    ")\n"
   ]
  },
  {
   "cell_type": "code",
   "execution_count": 9,
   "metadata": {},
   "outputs": [
    {
     "name": "stdout",
     "output_type": "stream",
     "text": [
      "_________________________________________________________________\n",
      "Layer (type)                 Output Shape              Param #   \n",
      "=================================================================\n",
      "conv2d_input (InputLayer)    (None, 299, 299, 3)       0         \n",
      "_________________________________________________________________\n",
      "conv2d (Conv2D)              (None, 148, 148, 32)      2432      \n",
      "_________________________________________________________________\n",
      "max_pooling2d (MaxPooling2D) (None, 49, 49, 32)        0         \n",
      "_________________________________________________________________\n",
      "conv2d_1 (Conv2D)            (None, 47, 47, 32)        9248      \n",
      "_________________________________________________________________\n",
      "max_pooling2d_1 (MaxPooling2 (None, 23, 23, 32)        0         \n",
      "_________________________________________________________________\n",
      "flatten (Flatten)            (None, 16928)             0         \n",
      "_________________________________________________________________\n",
      "high-level-features (Dense)  (None, 2048)              34670592  \n",
      "=================================================================\n",
      "Total params: 34,682,272\n",
      "Trainable params: 34,682,272\n",
      "Non-trainable params: 0\n",
      "_________________________________________________________________\n"
     ]
    }
   ],
   "source": [
    "feature_extractor.summary()"
   ]
  },
  {
   "cell_type": "code",
   "execution_count": 10,
   "metadata": {},
   "outputs": [
    {
     "name": "stdout",
     "output_type": "stream",
     "text": [
      "The feature extractor method is used to get my high-level features\n"
     ]
    },
    {
     "data": {
      "text/plain": [
       "(51, 2048)"
      ]
     },
     "execution_count": 10,
     "metadata": {},
     "output_type": "execute_result"
    }
   ],
   "source": [
    "print(\"The feature extractor method is used to get my high-level features\")\n",
    "\n",
    "features = feature_extractor.predict(X_te)\n",
    "features.shape"
   ]
  },
  {
   "cell_type": "code",
   "execution_count": 11,
   "metadata": {},
   "outputs": [
    {
     "name": "stdout",
     "output_type": "stream",
     "text": [
      "Loading model from  model-logistic.sav\n"
     ]
    }
   ],
   "source": [
    "accuracy=loadModel('logistic').score(features, y_te)"
   ]
  },
  {
   "cell_type": "code",
   "execution_count": 12,
   "metadata": {},
   "outputs": [
    {
     "name": "stdout",
     "output_type": "stream",
     "text": [
      "  knn - Accuracy on test dataset: 11.8%\n",
      "\n"
     ]
    }
   ],
   "source": [
    "accuracy=accuracy*100\n",
    "print(\"  {} - Accuracy on test dataset: {:.1f}%\\n\".format('knn', accuracy))"
   ]
  },
  {
   "cell_type": "code",
   "execution_count": 13,
   "metadata": {},
   "outputs": [],
   "source": [
    "from tensorflow.keras.models import save_model\n",
    "\n",
    "save_model(model, 'model-cnn.sav')"
   ]
  },
  {
   "cell_type": "code",
   "execution_count": 14,
   "metadata": {},
   "outputs": [
    {
     "data": {
      "text/plain": [
       "tensorflow.python.keras.engine.sequential.Sequential"
      ]
     },
     "execution_count": 14,
     "metadata": {},
     "output_type": "execute_result"
    }
   ],
   "source": [
    "\n",
    "type(model)"
   ]
  },
  {
   "cell_type": "code",
   "execution_count": null,
   "metadata": {},
   "outputs": [],
   "source": []
  }
 ],
 "metadata": {
  "kernelspec": {
   "display_name": "Python 3",
   "language": "python",
   "name": "python3"
  },
  "language_info": {
   "codemirror_mode": {
    "name": "ipython",
    "version": 3
   },
   "file_extension": ".py",
   "mimetype": "text/x-python",
   "name": "python",
   "nbconvert_exporter": "python",
   "pygments_lexer": "ipython3",
   "version": "3.6.10"
  }
 },
 "nbformat": 4,
 "nbformat_minor": 5
}
