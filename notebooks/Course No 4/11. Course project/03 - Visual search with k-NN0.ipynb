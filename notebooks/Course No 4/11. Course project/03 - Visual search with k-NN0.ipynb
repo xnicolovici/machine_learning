{
 "cells": [
  {
   "cell_type": "markdown",
   "metadata": {},
   "source": [
    "# Visual search with k-NN\n",
    "\n",
    "This is the third notebook of this project.\n"
   ]
  },
  {
   "cell_type": "markdown",
   "metadata": {},
   "source": [
    "## Build X and y vectors\n",
    "\n",
    "In this Notebook, as well as in the other Notebooks, I will have to build X_train, X_valid, X_test, y_train, y_valid and y_test from the data. As this will have to be done several time, I will add it into *mylib.py* file as a library function.\n",
    "\n",
    "The code is basic:\n",
    "\n",
    "    def loadXy(data=None, concatenate=[]):\n",
    "        \"\"\"\n",
    "        This function returns the data, X_train, y_train, X_valid, y_valid, X_test and y_test vectors\n",
    "        from the data passed as parameter.\n",
    "        If the data parameter is set to None, this function uses the loadNpz() function with default parameter\n",
    "        to get the data.\n",
    "        Note that the data passed as parameter must comply with the structure passed in Notebook number 1\n",
    "        \"\"\"\n",
    "\n",
    "        if data==None:\n",
    "            data=loadNpz()\n",
    "\n",
    "        X=dict()\n",
    "        y=dict()\n",
    "        # Get X_train from high level feateurs and y_train from labels\n",
    "        for name in data['DATASET_NAME']:\n",
    "            X[name]=data[name]['features']\n",
    "            y[name]=data[name]['labels']\n",
    "            print(\"X {} shape:\".format(name),X[name].shape)\n",
    "            print(\"y {} shape:\".format(name),X[name].shape)\n",
    "\n",
    "        return (data, X, y)\n",
    "\n"
   ]
  },
  {
   "cell_type": "markdown",
   "metadata": {},
   "source": [
    "## Load X,y data from NPZ\n",
    "\n",
    "Using the function added to *mylib.py* file, it's now easy to grab data and X/y vectors ready to be used for model training and tuning"
   ]
  },
  {
   "cell_type": "code",
   "execution_count": 40,
   "metadata": {},
   "outputs": [
    {
     "name": "stdout",
     "output_type": "stream",
     "text": [
      "Loading 'train' set\n",
      "  loading  data\n",
      "     shape: (281, 299, 299, 3) - dtype: float64\n",
      "  loading  features\n",
      "     shape: (281, 2048) - dtype: float64\n",
      "  loading  filenames\n",
      "     shape: (281,) - dtype: <U46\n",
      "  loading  labels\n",
      "     shape: (281,) - dtype: int32\n",
      "\n",
      "\n",
      "Loading 'test' set\n",
      "  loading  data\n",
      "     shape: (51, 299, 299, 3) - dtype: float64\n",
      "  loading  features\n",
      "     shape: (51, 2048) - dtype: float64\n",
      "  loading  filenames\n",
      "     shape: (51,) - dtype: <U50\n",
      "  loading  labels\n",
      "     shape: (51,) - dtype: int32\n",
      "\n",
      "\n",
      "Loading 'valid' set\n",
      "  loading  data\n",
      "     shape: (139, 299, 299, 3) - dtype: float64\n",
      "  loading  features\n",
      "     shape: (139, 2048) - dtype: float64\n",
      "  loading  filenames\n",
      "     shape: (139,) - dtype: <U30\n",
      "  loading  labels\n",
      "     shape: (139,) - dtype: int32\n",
      "\n",
      "\n",
      "X train shape: (281, 2048)\n",
      "y train shape: (281, 2048)\n",
      "X test shape: (51, 2048)\n",
      "y test shape: (51, 2048)\n",
      "X valid shape: (139, 2048)\n",
      "y valid shape: (139, 2048)\n"
     ]
    }
   ],
   "source": [
    "# Run content of mylib.py file\n",
    "%run mylib.py\n",
    "\n",
    "# Load data from NPZ file\n",
    "#data=loadNpz()\n",
    "(data, X, y)=loadXy()"
   ]
  },
  {
   "cell_type": "markdown",
   "metadata": {},
   "source": [
    "## Fit and tune a k-NN classifier\n",
    "\n"
   ]
  },
  {
   "cell_type": "code",
   "execution_count": 46,
   "metadata": {},
   "outputs": [
    {
     "name": "stdout",
     "output_type": "stream",
     "text": [
      "k-nearest neighbors (k=6) accuracy: 0.928\n"
     ]
    }
   ],
   "source": [
    "from sklearn.neighbors import KNeighborsClassifier\n",
    "from sklearn.preprocessing import StandardScaler\n",
    "from sklearn.pipeline import Pipeline\n",
    "\n",
    "# Create k-NN classifier\n",
    "knn = KNeighborsClassifier(\n",
    "    n_neighbors=len(data['class_name']), # Set k to number of class we have in datasets\n",
    "    # Use the simple 'brute' strategy to find nearest neighbors.\n",
    "    # It's faster in this case!\n",
    "    algorithm='brute',\n",
    "    n_jobs=-1\n",
    ")\n",
    "\n",
    "# Create the pipeline and fit it to training data\n",
    "knn_pipe = Pipeline([\n",
    "    ('scaler', StandardScaler()), # With standardization\n",
    "    # ('scaler', None), # Better performance without standardization!\n",
    "    ('knn', knn)\n",
    "])\n",
    "knn_pipe.fit(X['train'], y['train'])\n",
    "\n",
    "# Evaluate on test set\n",
    "accuracy = knn_pipe.score(X['valid'], y['valid'])\n",
    "\n",
    "# Print accuracy\n",
    "print('k-nearest neighbors (k={}) accuracy: {:.3f}'.format(len(data['class_name']), accuracy))"
   ]
  },
  {
   "cell_type": "code",
   "execution_count": null,
   "metadata": {},
   "outputs": [],
   "source": []
  },
  {
   "cell_type": "markdown",
   "metadata": {},
   "source": [
    "Pick an image from the test set and plot its 10 nearest neighbors from the train set"
   ]
  },
  {
   "cell_type": "code",
   "execution_count": null,
   "metadata": {},
   "outputs": [],
   "source": []
  },
  {
   "cell_type": "code",
   "execution_count": null,
   "metadata": {},
   "outputs": [],
   "source": []
  }
 ],
 "metadata": {
  "kernelspec": {
   "display_name": "Python 3",
   "language": "python",
   "name": "python3"
  },
  "language_info": {
   "codemirror_mode": {
    "name": "ipython",
    "version": 3
   },
   "file_extension": ".py",
   "mimetype": "text/x-python",
   "name": "python",
   "nbconvert_exporter": "python",
   "pygments_lexer": "ipython3",
   "version": "3.6.10"
  }
 },
 "nbformat": 4,
 "nbformat_minor": 5
}
