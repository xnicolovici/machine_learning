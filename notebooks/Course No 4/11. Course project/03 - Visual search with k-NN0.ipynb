{
 "cells": [
  {
   "cell_type": "markdown",
   "id": "18396c10",
   "metadata": {},
   "source": [
    "# Visual search with k-NN"
   ]
  },
  {
   "cell_type": "code",
   "execution_count": 2,
   "id": "903188f1",
   "metadata": {},
   "outputs": [],
   "source": [
    "import numpy as np\n",
    "import os\n"
   ]
  },
  {
   "cell_type": "code",
   "execution_count": 3,
   "id": "72375e36",
   "metadata": {},
   "outputs": [
    {
     "name": "stdout",
     "output_type": "stream",
     "text": [
      "Loading images from train set\n",
      "  shape: (281, 299, 299, 3) - dtype: float64\n",
      "Loading features from train set\n",
      "  shape: (281, 2048) - dtype: float64\n",
      "\n",
      "\n",
      "Loading images from test set\n",
      "  shape: (50, 299, 299, 3) - dtype: float64\n",
      "Loading features from test set\n",
      "  shape: (50, 2048) - dtype: float64\n",
      "\n",
      "\n",
      "Loading images from valid set\n",
      "  shape: (139, 299, 299, 3) - dtype: float64\n",
      "Loading features from valid set\n",
      "  shape: (139, 2048) - dtype: float64\n",
      "\n",
      "\n"
     ]
    }
   ],
   "source": [
    "# Load data from NPZ file\n",
    "\n",
    "images={}\n",
    "features={}\n",
    "\n",
    "with np.load(os.path.join('data', 'data.npz')) as npz_file:\n",
    "    dataset_name=npz_file['constant_value'][0]\n",
    "    for name in dataset_name:\n",
    "        print(\"Loading images from {} set\".format(name))\n",
    "        images[name]=npz_file['{}_data'.format(name)]\n",
    "        print('  shape: {} - dtype: {}'.format(images[name].shape, images[name].dtype))\n",
    "        print(\"Loading features from {} set\".format(name))\n",
    "        features[name]=npz_file['{}_features'.format(name)]\n",
    "        print('  shape: {} - dtype: {}'.format(features[name].shape, features[name].dtype))\n",
    "        print(\"\\n\")\n",
    "\n",
    "\n",
    "        "
   ]
  },
  {
   "cell_type": "code",
   "execution_count": null,
   "id": "6a535f06",
   "metadata": {},
   "outputs": [],
   "source": []
  }
 ],
 "metadata": {
  "kernelspec": {
   "display_name": "Python 3",
   "language": "python",
   "name": "python3"
  },
  "language_info": {
   "codemirror_mode": {
    "name": "ipython",
    "version": 3
   },
   "file_extension": ".py",
   "mimetype": "text/x-python",
   "name": "python",
   "nbconvert_exporter": "python",
   "pygments_lexer": "ipython3",
   "version": "3.6.13"
  }
 },
 "nbformat": 4,
 "nbformat_minor": 5
}
