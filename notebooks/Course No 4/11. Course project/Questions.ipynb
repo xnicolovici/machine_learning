{
 "cells": [
  {
   "cell_type": "markdown",
   "id": "fa16a4ff",
   "metadata": {},
   "source": [
    "# Questions along the project"
   ]
  },
  {
   "cell_type": "markdown",
   "id": "db402eeb",
   "metadata": {},
   "source": [
    "## Notebook #02 - Visualize the features on a 2d-plot with PCA using the first two components. What can you say about the results?\n",
    "\n",
    "I'm not sure to understand the questions, I'm not sure to use the rights plots to draw the 2d-plot.\n"
   ]
  },
  {
   "cell_type": "code",
   "execution_count": null,
   "id": "84fcc130",
   "metadata": {},
   "outputs": [],
   "source": []
  }
 ],
 "metadata": {
  "kernelspec": {
   "display_name": "Python 3",
   "language": "python",
   "name": "python3"
  },
  "language_info": {
   "codemirror_mode": {
    "name": "ipython",
    "version": 3
   },
   "file_extension": ".py",
   "mimetype": "text/x-python",
   "name": "python",
   "nbconvert_exporter": "python",
   "pygments_lexer": "ipython3",
   "version": "3.6.13"
  }
 },
 "nbformat": 4,
 "nbformat_minor": 5
}
