{
 "cells": [
  {
   "cell_type": "markdown",
   "metadata": {},
   "source": [
    "# Results"
   ]
  },
  {
   "cell_type": "code",
   "execution_count": 1,
   "metadata": {},
   "outputs": [],
   "source": [
    "%run mylib.py\n",
    "(data, X, y)=loadXy(verbose=False)"
   ]
  },
  {
   "cell_type": "markdown",
   "metadata": {},
   "source": [
    "## Build a DummyClassifier as baseline\n",
    "\n",
    "# TO BE DONE"
   ]
  },
  {
   "cell_type": "markdown",
   "metadata": {},
   "source": [
    "## Load models and evaluate them\n",
    "\n",
    "Read file with loadModel() function and use the score() method\n",
    "\n",
    "Store result in array, append array to global on\n",
    "\n",
    "> Note: As the model loaded might be a keras.Sequential object, the function uses a *try{} / catch* block to evaluate accuracy of models either by using the score() function and the evaluate() one for *keras.Sequential()* objects."
   ]
  },
  {
   "cell_type": "code",
   "execution_count": 7,
   "metadata": {},
   "outputs": [
    {
     "name": "stdout",
     "output_type": "stream",
     "text": [
      "Loading model from  model-knn.sav\n",
      "Model loaded using pickle()\n",
      "  knn - Accuracy on test dataset: 92.2%\n",
      "\n",
      "Loading model from  model-decision-tree.sav\n",
      "Model loaded using pickle()\n",
      "  decision-tree - Accuracy on test dataset: 88.2%\n",
      "\n",
      "Loading model from  model-logistic.sav\n",
      "Model loaded using pickle()\n",
      "  logistic - Accuracy on test dataset: 96.1%\n",
      "\n",
      "Loading model from  model-random-forest.sav\n",
      "Model loaded using pickle()\n",
      "  random-forest - Accuracy on test dataset: 92.2%\n",
      "\n",
      "Loading model from  model-svm-linear.sav\n",
      "Model loaded using pickle()\n",
      "  svm-linear - Accuracy on test dataset: 96.1%\n",
      "\n",
      "Loading model from  model-svm-rbf.sav\n",
      "Model loaded using pickle()\n",
      "  svm-rbf - Accuracy on test dataset: 96.1%\n",
      "\n",
      "Loading model from  model-cnn.sav\n",
      "Model loaded using keras.models.load_model()\n",
      "51/51 [==============================] - 1s 12ms/step\n",
      "  cnn - Accuracy on test dataset: 54.9%\n",
      "\n"
     ]
    }
   ],
   "source": [
    "\n",
    "model_list=['knn', 'decision-tree', 'logistic', 'random-forest', 'svm-linear', 'svm-rbf', 'cnn']\n",
    "models_score=[]\n",
    "\n",
    "for i in model_list:\n",
    "    model=loadModel(i)\n",
    "    try:\n",
    "        accuracy=model.score(X['test'], y['test'])\n",
    "    except:\n",
    "        accuracy=model.evaluate(data['test']['data'], data['test']['labels'])[1]\n",
    "    finally:\n",
    "        accuracy=accuracy*100\n",
    "    print(\"  {} - Accuracy on test dataset: {:.1f}%\\n\".format(i, accuracy))\n",
    "    models_score.append([i, accuracy])\n",
    "    \n"
   ]
  },
  {
   "cell_type": "markdown",
   "metadata": {},
   "source": [
    "## Display results\n",
    "\n",
    "\n",
    "### As a Panda DataFrame\n",
    "\n",
    "Build a panda dataFrame and display it"
   ]
  },
  {
   "cell_type": "code",
   "execution_count": 8,
   "metadata": {},
   "outputs": [
    {
     "data": {
      "text/html": [
       "<div>\n",
       "<style scoped>\n",
       "    .dataframe tbody tr th:only-of-type {\n",
       "        vertical-align: middle;\n",
       "    }\n",
       "\n",
       "    .dataframe tbody tr th {\n",
       "        vertical-align: top;\n",
       "    }\n",
       "\n",
       "    .dataframe thead th {\n",
       "        text-align: right;\n",
       "    }\n",
       "</style>\n",
       "<table border=\"1\" class=\"dataframe\">\n",
       "  <thead>\n",
       "    <tr style=\"text-align: right;\">\n",
       "      <th></th>\n",
       "      <th>Model</th>\n",
       "      <th>Score</th>\n",
       "    </tr>\n",
       "  </thead>\n",
       "  <tbody>\n",
       "    <tr>\n",
       "      <th>0</th>\n",
       "      <td>knn</td>\n",
       "      <td>92.156863</td>\n",
       "    </tr>\n",
       "    <tr>\n",
       "      <th>1</th>\n",
       "      <td>decision-tree</td>\n",
       "      <td>88.235294</td>\n",
       "    </tr>\n",
       "    <tr>\n",
       "      <th>2</th>\n",
       "      <td>logistic</td>\n",
       "      <td>96.078431</td>\n",
       "    </tr>\n",
       "    <tr>\n",
       "      <th>3</th>\n",
       "      <td>random-forest</td>\n",
       "      <td>92.156863</td>\n",
       "    </tr>\n",
       "    <tr>\n",
       "      <th>4</th>\n",
       "      <td>svm-linear</td>\n",
       "      <td>96.078431</td>\n",
       "    </tr>\n",
       "    <tr>\n",
       "      <th>5</th>\n",
       "      <td>svm-rbf</td>\n",
       "      <td>96.078431</td>\n",
       "    </tr>\n",
       "    <tr>\n",
       "      <th>6</th>\n",
       "      <td>cnn</td>\n",
       "      <td>54.901961</td>\n",
       "    </tr>\n",
       "  </tbody>\n",
       "</table>\n",
       "</div>"
      ],
      "text/plain": [
       "           Model      Score\n",
       "0            knn  92.156863\n",
       "1  decision-tree  88.235294\n",
       "2       logistic  96.078431\n",
       "3  random-forest  92.156863\n",
       "4     svm-linear  96.078431\n",
       "5        svm-rbf  96.078431\n",
       "6            cnn  54.901961"
      ]
     },
     "execution_count": 8,
     "metadata": {},
     "output_type": "execute_result"
    }
   ],
   "source": [
    "import pandas as pd\n",
    "\n",
    "compare_df=pd.DataFrame(models_score, columns=['Model', 'Score'])\n",
    "\n",
    "compare_df\n",
    "\n"
   ]
  },
  {
   "cell_type": "markdown",
   "metadata": {},
   "source": [
    "### As a bar graph"
   ]
  },
  {
   "cell_type": "code",
   "execution_count": 9,
   "metadata": {},
   "outputs": [
    {
     "data": {
      "image/png": "[encoded data removed]",
      "text/plain": [
       "<Figure size 432x288 with 1 Axes>"
      ]
     },
     "metadata": {
      "needs_background": "light"
     },
     "output_type": "display_data"
    }
   ],
   "source": [
    "import matplotlib.pyplot as plt\n",
    "%matplotlib inline\n",
    "\n",
    "\n",
    "compare_df[['Model', 'Score']].plot.bar()\n",
    "plt.show()"
   ]
  },
  {
   "cell_type": "code",
   "execution_count": null,
   "metadata": {},
   "outputs": [],
   "source": []
  }
 ],
 "metadata": {
  "kernelspec": {
   "display_name": "Python 3",
   "language": "python",
   "name": "python3"
  },
  "language_info": {
   "codemirror_mode": {
    "name": "ipython",
    "version": 3
   },
   "file_extension": ".py",
   "mimetype": "text/x-python",
   "name": "python",
   "nbconvert_exporter": "python",
   "pygments_lexer": "ipython3",
   "version": "3.6.10"
  }
 },
 "nbformat": 4,
 "nbformat_minor": 4
}
