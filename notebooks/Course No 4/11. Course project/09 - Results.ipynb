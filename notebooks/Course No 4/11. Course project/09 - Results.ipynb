{
 "cells": [
  {
   "cell_type": "markdown",
   "metadata": {},
   "source": [
    "# Results\n",
    "\n",
    "As always, load our dataset first"
   ]
  },
  {
   "cell_type": "code",
   "execution_count": 1,
   "metadata": {},
   "outputs": [],
   "source": [
    "%run mylib.py\n",
    "(data, X, y)=loadXy(verbose=False)"
   ]
  },
  {
   "cell_type": "markdown",
   "metadata": {},
   "source": [
    "## Build a DummyClassifier as baseline\n",
    "\n",
    "In order to create a baseline, let's fit a Dummy Classifier. Nothing very difficult here."
   ]
  },
  {
   "cell_type": "code",
   "execution_count": 2,
   "metadata": {},
   "outputs": [
    {
     "name": "stdout",
     "output_type": "stream",
     "text": [
      "Dummy classifier accuracy: 23.5%\n"
     ]
    }
   ],
   "source": [
    "import numpy as np\n",
    "from sklearn.dummy import DummyClassifier\n",
    "\n",
    "dummy_clf = DummyClassifier(strategy=\"most_frequent\")\n",
    "dummy_clf.fit(X['trainX'], y['trainX'])\n",
    "\n",
    "dummy_clf.predict(X['test'])\n",
    "\n",
    "accuracy=dummy_clf.score(X['test'], y['test'])\n",
    "\n",
    "print(\"Dummy classifier accuracy: {:.1f}%\".format(accuracy*100))\n",
    "\n"
   ]
  },
  {
   "cell_type": "markdown",
   "metadata": {},
   "source": [
    "Save this dummy model on disk to simplify the code below."
   ]
  },
  {
   "cell_type": "code",
   "execution_count": 3,
   "metadata": {},
   "outputs": [
    {
     "name": "stdout",
     "output_type": "stream",
     "text": [
      "Saving model dummy to model-dummy.sav using 'pickle' library\n"
     ]
    }
   ],
   "source": [
    "saveModel(dummy_clf, 'dummy')"
   ]
  },
  {
   "cell_type": "markdown",
   "metadata": {},
   "source": [
    "## Load models from disk, evaluate them and display accuracy\n",
    "\n",
    "The work here is very basic.\n",
    "\n",
    "Based on a list of model name, I load the corresponding models from disk using the *loadModel()* function.\n",
    "\n",
    "Then, I do apply the *score()* method on each model, and store the result in an array.\n",
    "\n",
    "    Note: There is little trick in this code using *try/except* approach, as the *score()* method is not available on *Keras* models. On top of that, the parameters we pass to Dense neural network and the Convulution one are different.\n",
    "    That's not very clean, but it works ;-)\n"
   ]
  },
  {
   "cell_type": "code",
   "execution_count": 4,
   "metadata": {},
   "outputs": [
    {
     "name": "stdout",
     "output_type": "stream",
     "text": [
      "Loading model from  model-dummy.sav\n",
      "Model loaded using pickle()\n",
      "  dummy - Accuracy on test dataset: 23.5%\n",
      "\n",
      "Loading model from  model-knn.sav\n",
      "Model loaded using pickle()\n",
      "  knn - Accuracy on test dataset: 92.2%\n",
      "\n",
      "Loading model from  model-decision-tree.sav\n",
      "Model loaded using pickle()\n",
      "  decision-tree - Accuracy on test dataset: 84.3%\n",
      "\n",
      "Loading model from  model-logistic.sav\n",
      "Model loaded using pickle()\n",
      "  logistic - Accuracy on test dataset: 96.1%\n",
      "\n",
      "Loading model from  model-random-forest.sav\n",
      "Model loaded using pickle()\n",
      "  random-forest - Accuracy on test dataset: 92.2%\n",
      "\n",
      "Loading model from  model-svm-linear.sav\n",
      "Model loaded using pickle()\n",
      "  svm-linear - Accuracy on test dataset: 96.1%\n",
      "\n",
      "Loading model from  model-svm-rbf.sav\n",
      "Model loaded using pickle()\n",
      "  svm-rbf - Accuracy on test dataset: 96.1%\n",
      "\n",
      "Loading model from  model-1-layer-nn.sav\n",
      "Model loaded using keras.models.load_model()\n",
      "51/51 [==============================] - 0s 2ms/step\n",
      "  1-layer-nn - Accuracy on test dataset: 94.1%\n",
      "\n",
      "Loading model from  model-2-layer-nn.sav\n",
      "Model loaded using keras.models.load_model()\n",
      "51/51 [==============================] - 0s 4ms/step\n",
      "  2-layer-nn - Accuracy on test dataset: 92.2%\n",
      "\n",
      "Loading model from  model-cnn.sav\n",
      "Model loaded using keras.models.load_model()\n",
      "51/51 [==============================] - 1s 14ms/step\n",
      "  cnn - Accuracy on test dataset: 51.0%\n",
      "\n"
     ]
    }
   ],
   "source": [
    "\n",
    "model_list=['dummy', 'knn', 'decision-tree', 'logistic', 'random-forest', 'svm-linear', 'svm-rbf', '1-layer-nn', '2-layer-nn', 'cnn']\n",
    "models_score=[]\n",
    "\n",
    "for i in model_list:\n",
    "    model=loadModel(i)\n",
    "    try:\n",
    "        accuracy=model.score(X['test'], y['test'])\n",
    "    except:\n",
    "        try:\n",
    "            # This is for cnn Conv Network\n",
    "            accuracy=model.evaluate(data['test']['data'], data['test']['labels'])[1]\n",
    "        except:\n",
    "            # This is for 1-nn and 2-nn layer Dense network\n",
    "            (loss, accuracy)=model.evaluate(X['test'], y['test'], batch_size=16)\n",
    "    finally:\n",
    "        accuracy=accuracy*100\n",
    "    print(\"  {} - Accuracy on test dataset: {:.1f}%\\n\".format(i, accuracy))\n",
    "    models_score.append([i, accuracy])\n",
    "    \n"
   ]
  },
  {
   "cell_type": "markdown",
   "metadata": {},
   "source": [
    "## Display results\n",
    "\n",
    "\n",
    "### As a Panda DataFrame\n",
    "\n",
    "The most dimple representation is using Panda dataframe, based on the array of results ansd the list of models name."
   ]
  },
  {
   "cell_type": "code",
   "execution_count": 5,
   "metadata": {},
   "outputs": [
    {
     "data": {
      "text/html": [
       "<div>\n",
       "<style scoped>\n",
       "    .dataframe tbody tr th:only-of-type {\n",
       "        vertical-align: middle;\n",
       "    }\n",
       "\n",
       "    .dataframe tbody tr th {\n",
       "        vertical-align: top;\n",
       "    }\n",
       "\n",
       "    .dataframe thead th {\n",
       "        text-align: right;\n",
       "    }\n",
       "</style>\n",
       "<table border=\"1\" class=\"dataframe\">\n",
       "  <thead>\n",
       "    <tr style=\"text-align: right;\">\n",
       "      <th></th>\n",
       "      <th>Model</th>\n",
       "      <th>Score %</th>\n",
       "    </tr>\n",
       "  </thead>\n",
       "  <tbody>\n",
       "    <tr>\n",
       "      <th>0</th>\n",
       "      <td>dummy</td>\n",
       "      <td>23.53%</td>\n",
       "    </tr>\n",
       "    <tr>\n",
       "      <th>1</th>\n",
       "      <td>knn</td>\n",
       "      <td>92.16%</td>\n",
       "    </tr>\n",
       "    <tr>\n",
       "      <th>2</th>\n",
       "      <td>decision-tree</td>\n",
       "      <td>84.31%</td>\n",
       "    </tr>\n",
       "    <tr>\n",
       "      <th>3</th>\n",
       "      <td>logistic</td>\n",
       "      <td>96.08%</td>\n",
       "    </tr>\n",
       "    <tr>\n",
       "      <th>4</th>\n",
       "      <td>random-forest</td>\n",
       "      <td>92.16%</td>\n",
       "    </tr>\n",
       "    <tr>\n",
       "      <th>5</th>\n",
       "      <td>svm-linear</td>\n",
       "      <td>96.08%</td>\n",
       "    </tr>\n",
       "    <tr>\n",
       "      <th>6</th>\n",
       "      <td>svm-rbf</td>\n",
       "      <td>96.08%</td>\n",
       "    </tr>\n",
       "    <tr>\n",
       "      <th>7</th>\n",
       "      <td>1-layer-nn</td>\n",
       "      <td>94.12%</td>\n",
       "    </tr>\n",
       "    <tr>\n",
       "      <th>8</th>\n",
       "      <td>2-layer-nn</td>\n",
       "      <td>92.16%</td>\n",
       "    </tr>\n",
       "    <tr>\n",
       "      <th>9</th>\n",
       "      <td>cnn</td>\n",
       "      <td>50.98%</td>\n",
       "    </tr>\n",
       "  </tbody>\n",
       "</table>\n",
       "</div>"
      ],
      "text/plain": [
       "           Model Score %\n",
       "0          dummy  23.53%\n",
       "1            knn  92.16%\n",
       "2  decision-tree  84.31%\n",
       "3       logistic  96.08%\n",
       "4  random-forest  92.16%\n",
       "5     svm-linear  96.08%\n",
       "6        svm-rbf  96.08%\n",
       "7     1-layer-nn  94.12%\n",
       "8     2-layer-nn  92.16%\n",
       "9            cnn  50.98%"
      ]
     },
     "execution_count": 5,
     "metadata": {},
     "output_type": "execute_result"
    }
   ],
   "source": [
    "import pandas as pd\n",
    "\n",
    "compare_df=pd.DataFrame(models_score, columns=['Model', 'Score'])\n",
    "\n",
    "compare_df['Score %']=compare_df['Score'].apply(lambda x:  '{:.2f}%'.format(x))\n",
    "\n",
    "compare_df[['Model', 'Score %']]\n",
    "\n"
   ]
  },
  {
   "cell_type": "markdown",
   "metadata": {},
   "source": [
    "### As a bar graph\n",
    "\n",
    "Again, very simple code here to display scores in a grsaphical way"
   ]
  },
  {
   "cell_type": "code",
   "execution_count": 6,
   "metadata": {},
   "outputs": [
    {
     "data": {
      "image/png": "[encoded data removed]",
      "text/plain": [
       "<Figure size 1080x720 with 1 Axes>"
      ]
     },
     "metadata": {
      "needs_background": "light"
     },
     "output_type": "display_data"
    }
   ],
   "source": [
    "import matplotlib.pyplot as plt\n",
    "%matplotlib inline\n",
    "\n",
    "compare_df[['Model', 'Score']].plot.bar(x='Model', figsize=(15,10))\n",
    "plt.title(\"Score per model in %\")\n",
    "\n",
    "plt.show()"
   ]
  },
  {
   "cell_type": "markdown",
   "metadata": {},
   "source": [
    "## And what about scores with my own *High Features Level* ?\n",
    "\n",
    "Just for fun, let's compute scores using my own *high level features* built in the previous Notebook.\n",
    "\n",
    "To proceed, I will:\n",
    "\n",
    "1. Load my Conv Network from disk\n",
    "2. Build my *HLF* from it\n",
    "3. Evaluate against them all the models I have\n",
    "\n",
    "    Note: There is no sense to evaluate my Conv Network with my high level features, as this model works on the original data (the pictures) to build the *high level features*. For that reason, I remove it from the list of model to test."
   ]
  },
  {
   "cell_type": "code",
   "execution_count": 7,
   "metadata": {},
   "outputs": [
    {
     "name": "stdout",
     "output_type": "stream",
     "text": [
      "Loading model from  model-cnn.sav\n",
      "Model loaded using keras.models.load_model()\n"
     ]
    }
   ],
   "source": [
    "X_te=np.float32(data['test']['data'])\n",
    "y_te=data['test']['labels']\n",
    "\n",
    "cnn_model=loadModel('cnn')\n",
    "feature_extractor = keras.Model(\n",
    "   inputs=cnn_model.inputs,\n",
    "   outputs=cnn_model.get_layer(name=\"high-level-features\").output,\n",
    ")\n",
    "\n",
    "features = feature_extractor.predict(X_te)"
   ]
  },
  {
   "cell_type": "code",
   "execution_count": 8,
   "metadata": {},
   "outputs": [
    {
     "name": "stdout",
     "output_type": "stream",
     "text": [
      "Loading model from  model-dummy.sav\n",
      "Model loaded using pickle()\n",
      "  dummy - Accuracy on test dataset: 23.5%\n",
      "\n",
      "Loading model from  model-knn.sav\n",
      "Model loaded using pickle()\n",
      "  knn - Accuracy on test dataset: 15.7%\n",
      "\n",
      "Loading model from  model-decision-tree.sav\n",
      "Model loaded using pickle()\n",
      "  decision-tree - Accuracy on test dataset: 21.6%\n",
      "\n",
      "Loading model from  model-logistic.sav\n",
      "Model loaded using pickle()\n",
      "  logistic - Accuracy on test dataset: 11.8%\n",
      "\n",
      "Loading model from  model-random-forest.sav\n",
      "Model loaded using pickle()\n",
      "  random-forest - Accuracy on test dataset: 19.6%\n",
      "\n",
      "Loading model from  model-svm-linear.sav\n",
      "Model loaded using pickle()\n",
      "  svm-linear - Accuracy on test dataset: 11.8%\n",
      "\n",
      "Loading model from  model-svm-rbf.sav\n",
      "Model loaded using pickle()\n",
      "  svm-rbf - Accuracy on test dataset: 11.8%\n",
      "\n",
      "Loading model from  model-1-layer-nn.sav\n",
      "Model loaded using keras.models.load_model()\n",
      "51/51 [==============================] - 0s 5ms/step\n",
      "  1-layer-nn - Accuracy on test dataset: 17.6%\n",
      "\n",
      "Loading model from  model-2-layer-nn.sav\n",
      "Model loaded using keras.models.load_model()\n",
      "51/51 [==============================] - 0s 4ms/step\n",
      "  2-layer-nn - Accuracy on test dataset: 15.7%\n",
      "\n"
     ]
    }
   ],
   "source": [
    "\n",
    "model_list=['dummy', 'knn', 'decision-tree', 'logistic', 'random-forest', 'svm-linear', 'svm-rbf', '1-layer-nn', '2-layer-nn']\n",
    "models_score_with_my_hlf=[]\n",
    "\n",
    "for i in model_list:\n",
    "    model=loadModel(i)\n",
    "    try:\n",
    "        accuracy=model.score(features, y_te)\n",
    "    except:\n",
    "        # This is for 1-nn and 2-nn layer Dense network\n",
    "        (loss, accuracy)=model.evaluate(features, y_te, batch_size=16)\n",
    "    finally:\n",
    "        accuracy=accuracy*100\n",
    "    print(\"  {} - Accuracy on test dataset: {:.1f}%\\n\".format(i, accuracy))\n",
    "    models_score_with_my_hlf.append([i, accuracy])\n",
    "    \n",
    "\n"
   ]
  },
  {
   "cell_type": "markdown",
   "metadata": {},
   "source": [
    "Let's build a bar graph with both results, the one using *High Level Features* from *Inception V3*, the other with my own."
   ]
  },
  {
   "cell_type": "code",
   "execution_count": 9,
   "metadata": {},
   "outputs": [
    {
     "data": {
      "image/png": "[encoded data removed]",
      "text/plain": [
       "<Figure size 1080x720 with 1 Axes>"
      ]
     },
     "metadata": {
      "needs_background": "light"
     },
     "output_type": "display_data"
    }
   ],
   "source": [
    "\n",
    "\n",
    "compare_df=pd.DataFrame( {\n",
    "    'Model': model_list,\n",
    "    'Inception': np.array(models_score)[0:-1,1].astype(np.float), # Remove last entry wich is the CNN one\n",
    "    'Mine': np.array(models_score_with_my_hlf)[:,1].astype(np.float)\n",
    "})\n",
    "\n",
    "compare_df.plot.bar(x='Model', figsize=(15,10))\n",
    "plt.title(\"Score per model in % with HLF from Inception and mine\")\n",
    "\n",
    "plt.show()\n",
    "\n"
   ]
  },
  {
   "cell_type": "markdown",
   "metadata": {},
   "source": [
    "\n",
    "## Conclusion\n",
    "\n",
    "As we can see on this previoius graphs, all the models based on the *Inception v3* *High Level Features* do perform extremly well, logistic and SVM being the one that seems to perform best. Except for the Dummy Classifier of course, which performs the same whatever the features used.\n",
    "\n",
    "Result from a home made Convolutional neural network are poor compared to the previous one (around 50% for the Conv Net against 98% for logistic).\n",
    "\n",
    "And what's interesting, if I use home made *High Level Features* on the different models, then the result is very, very bad.\n",
    "\n",
    "This demonstrate that the size and accuracy of the dataset used to train models is one of the main key factor to get good predictions."
   ]
  },
  {
   "cell_type": "markdown",
   "metadata": {},
   "source": [
    "# That's all Folks :-)"
   ]
  }
 ],
 "metadata": {
  "kernelspec": {
   "display_name": "Python 3",
   "language": "python",
   "name": "python3"
  },
  "language_info": {
   "codemirror_mode": {
    "name": "ipython",
    "version": 3
   },
   "file_extension": ".py",
   "mimetype": "text/x-python",
   "name": "python",
   "nbconvert_exporter": "python",
   "pygments_lexer": "ipython3",
   "version": "3.6.10"
  }
 },
 "nbformat": 4,
 "nbformat_minor": 4
}
