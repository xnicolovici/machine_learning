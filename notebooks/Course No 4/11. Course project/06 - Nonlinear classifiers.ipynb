{
 "cells": [
  {
   "cell_type": "markdown",
   "metadata": {},
   "source": [
    "# Nonlinear classifiers"
   ]
  },
  {
   "cell_type": "markdown",
   "metadata": {},
   "source": [
    "## Load X,y data from NPZ\n",
    "\n",
    "Using the function added to *mylib.py* file, it's now easy to grab data and X/y vectors ready to be used for model training and tuning"
   ]
  },
  {
   "cell_type": "code",
   "execution_count": 128,
   "metadata": {},
   "outputs": [],
   "source": [
    "# Run content of mylib.py file\n",
    "%run mylib.py\n",
    "\n",
    "# Load data from NPZ file\n",
    "(data, X, y)=loadXy(verbose=False)"
   ]
  },
  {
   "cell_type": "markdown",
   "metadata": {},
   "source": [
    "## Random Tree Classifier"
   ]
  },
  {
   "cell_type": "code",
   "execution_count": 133,
   "metadata": {},
   "outputs": [
    {
     "name": "stdout",
     "output_type": "stream",
     "text": [
      "Fitting 5 folds for each of 99 candidates, totalling 495 fits\n"
     ]
    },
    {
     "name": "stderr",
     "output_type": "stream",
     "text": [
      "[Parallel(n_jobs=-1)]: Using backend LokyBackend with 12 concurrent workers.\n",
      "[Parallel(n_jobs=-1)]: Done  26 tasks      | elapsed:    1.2s\n",
      "[Parallel(n_jobs=-1)]: Done 176 tasks      | elapsed:    3.5s\n",
      "[Parallel(n_jobs=-1)]: Done 426 tasks      | elapsed:   14.5s\n",
      "[Parallel(n_jobs=-1)]: Done 495 out of 495 | elapsed:   19.2s finished\n"
     ]
    },
    {
     "name": "stdout",
     "output_type": "stream",
     "text": [
      "\n",
      "\n",
      "RandomForestClassifier best estimator score : 92.2%\n"
     ]
    }
   ],
   "source": [
    "from sklearn.ensemble import RandomForestClassifier\n",
    "from sklearn.model_selection import GridSearchCV\n",
    "\n",
    "# Cross Validation K-Fold dimension\n",
    "CV=5\n",
    "\n",
    "# Create RandomClassifier object with default values\n",
    "rfc = RandomForestClassifier(random_state=0)\n",
    "\n",
    "# Set grid parameters for hyperparameters tuning\n",
    "grid_param={\n",
    "    'n_estimators': np.arange(1, 100, step=1),\n",
    "    'max_depth': [None],\n",
    "}\n",
    "\n",
    "grid_rfc=GridSearchCV(rfc, grid_param, cv=CV, refit=True, return_train_score=True, verbose=True, n_jobs=-1, iid=True)\n",
    "\n",
    "grid_rfc.fit(X['trainX'], y['trainX'])\n",
    "\n",
    "best_estimator=grid_rfc.best_estimator_\n",
    "\n",
    "accuracy_rfc=best_estimator.score(X['test'], y['test'])*100\n",
    "\n",
    "print(\"\\n\")\n",
    "print(\"RandomForestClassifier best estimator score : {:.1f}%\".format(accuracy_rfc))\n"
   ]
  },
  {
   "cell_type": "markdown",
   "metadata": {},
   "source": [
    "Let's display the best parameter we've found for n_estimator.\n",
    "\n",
    "> Note: The sort is done in descending order on two columns, mean_test_score and std_test_score, to get the n_estimator value that fits best the mean and the standard deviation. If using only the mean as sorting column, the first line of the sort might not be the best estimator as the mean is identical for several n_estimator parameters."
   ]
  },
  {
   "cell_type": "code",
   "execution_count": 134,
   "metadata": {},
   "outputs": [
    {
     "data": {
      "text/html": [
       "<div>\n",
       "<style scoped>\n",
       "    .dataframe tbody tr th:only-of-type {\n",
       "        vertical-align: middle;\n",
       "    }\n",
       "\n",
       "    .dataframe tbody tr th {\n",
       "        vertical-align: top;\n",
       "    }\n",
       "\n",
       "    .dataframe thead th {\n",
       "        text-align: right;\n",
       "    }\n",
       "</style>\n",
       "<table border=\"1\" class=\"dataframe\">\n",
       "  <thead>\n",
       "    <tr style=\"text-align: right;\">\n",
       "      <th></th>\n",
       "      <th>param_n_estimators</th>\n",
       "      <th>param_max_depth</th>\n",
       "      <th>mean_test_score</th>\n",
       "      <th>std_test_score</th>\n",
       "      <th>mean_train_score</th>\n",
       "    </tr>\n",
       "  </thead>\n",
       "  <tbody>\n",
       "    <tr>\n",
       "      <th>44</th>\n",
       "      <td>45</td>\n",
       "      <td>None</td>\n",
       "      <td>0.923810</td>\n",
       "      <td>0.022638</td>\n",
       "      <td>0.999399</td>\n",
       "    </tr>\n",
       "    <tr>\n",
       "      <th>83</th>\n",
       "      <td>84</td>\n",
       "      <td>None</td>\n",
       "      <td>0.923810</td>\n",
       "      <td>0.021136</td>\n",
       "      <td>1.000000</td>\n",
       "    </tr>\n",
       "    <tr>\n",
       "      <th>86</th>\n",
       "      <td>87</td>\n",
       "      <td>None</td>\n",
       "      <td>0.923810</td>\n",
       "      <td>0.018769</td>\n",
       "      <td>1.000000</td>\n",
       "    </tr>\n",
       "    <tr>\n",
       "      <th>58</th>\n",
       "      <td>59</td>\n",
       "      <td>None</td>\n",
       "      <td>0.923810</td>\n",
       "      <td>0.017590</td>\n",
       "      <td>1.000000</td>\n",
       "    </tr>\n",
       "    <tr>\n",
       "      <th>95</th>\n",
       "      <td>96</td>\n",
       "      <td>None</td>\n",
       "      <td>0.921429</td>\n",
       "      <td>0.025623</td>\n",
       "      <td>1.000000</td>\n",
       "    </tr>\n",
       "  </tbody>\n",
       "</table>\n",
       "</div>"
      ],
      "text/plain": [
       "   param_n_estimators param_max_depth  mean_test_score  std_test_score  \\\n",
       "44                 45            None         0.923810        0.022638   \n",
       "83                 84            None         0.923810        0.021136   \n",
       "86                 87            None         0.923810        0.018769   \n",
       "58                 59            None         0.923810        0.017590   \n",
       "95                 96            None         0.921429        0.025623   \n",
       "\n",
       "    mean_train_score  \n",
       "44          0.999399  \n",
       "83          1.000000  \n",
       "86          1.000000  \n",
       "58          1.000000  \n",
       "95          1.000000  "
      ]
     },
     "execution_count": 134,
     "metadata": {},
     "output_type": "execute_result"
    }
   ],
   "source": [
    "\n",
    "columns=['param_n_estimators', 'param_max_depth', 'mean_test_score', 'std_test_score', 'mean_train_score']\n",
    "results_df=pd.DataFrame(grid_rfc.cv_results_).sort_values(['mean_test_score', 'std_test_score'], ascending=False)[columns]\n",
    "\n",
    "results_df.head()"
   ]
  },
  {
   "cell_type": "markdown",
   "metadata": {},
   "source": [
    "It's now time to save our estimator with the best hyperparameters found: *n_estimator=45*"
   ]
  },
  {
   "cell_type": "code",
   "execution_count": 135,
   "metadata": {},
   "outputs": [
    {
     "name": "stdout",
     "output_type": "stream",
     "text": [
      "Saving model random-forest to model-random-forest.sav\n"
     ]
    }
   ],
   "source": [
    "saveModel(best_estimator, 'random-forest')"
   ]
  },
  {
   "cell_type": "code",
   "execution_count": 136,
   "metadata": {},
   "outputs": [
    {
     "data": {
      "image/png": "[encoded data removed]",
      "text/plain": [
       "<Figure size 1080x720 with 1 Axes>"
      ]
     },
     "metadata": {
      "needs_background": "light"
     },
     "output_type": "display_data"
    }
   ],
   "source": [
    "import matplotlib.pyplot as plt\n",
    "\n",
    "def plotTestCurve(results_df, x_param, y_param=[], semilogx=True, xlabel='', ylabel='', title='', figsize=(15,10), std_param={}):\n",
    "    \"\"\"\n",
    "    Function to graph data points from GridSearchCV results. Can be used to graph the mean test and train\n",
    "    score of a GridSearchCV fitted object.\n",
    "    Note that the graph built expects % values on the Y axis (mean_test_score, mean_train_score for example) \n",
    "    Mandatory parameters are:\n",
    "        results_df: A dataframe built from GridSearchCV.cv_results_\n",
    "        x_param: The column name of the results_df dataframe to be used as X axis\n",
    "        y_param: An array of column to be plotted on the Y axis. Those values must be %.\n",
    "    Optionnal parameters:\n",
    "        semilogx: If True, the X data points are plotted using a log10 scale\n",
    "        xlabel: Label of the X axis\n",
    "        ylabel: Label of the Y axis\n",
    "        title: Title of the graph\n",
    "        figsize: Size ot the graph\n",
    "        std_param: A dict with key=y_param element and value the corresponding std deviation column name.\n",
    "            This parameters is used to draw the std deviation of the y_params as a filled area around the data plot\n",
    "            \n",
    "    The function will also determine, for each of the y_param to be plotted, which is the plot with the highest\n",
    "    y_param value, and use the coordinates to draw a red cross on the plotted line, along with horizontal and\n",
    "    vertical lines to the X and Y axis.\n",
    "    For that purpose, the function first sort the results_df dataframe using the x_param column in ascending order.\n",
    "    \"\"\"\n",
    "    # Order dataframe by xparam value\n",
    "    temp_df=results_df.sort_values(x_param, ascending=True)\n",
    "\n",
    "    # Define figsize\n",
    "    plt.figure(figsize=figsize)\n",
    "\n",
    "    # Store x_min, x_max, y_min and y_max values to set xlimit and ylimit of the graph\n",
    "    x_min=0\n",
    "    y_min=100\n",
    "    x_max=0\n",
    "    y_max=0\n",
    "    \n",
    "    # Loop for each yparam plot\n",
    "    for i in y_param:\n",
    "        # Find indices of  the best y value\n",
    "        best_idx=temp_df[i].idxmax()\n",
    "\n",
    "        # Get best x information\n",
    "        best_x = temp_df[x_param][best_idx]\n",
    "        # Get x plots\n",
    "        x_values=temp_df[x_param]\n",
    "        # Store x_min and x_max if needed\n",
    "        if x_min>np.min(x_values):\n",
    "            x_min=np.min(x_values)\n",
    "        if x_max<np.max(x_values):\n",
    "            x_max=np.max(x_values)\n",
    "\n",
    "\n",
    "\n",
    "        # get best y information\n",
    "        best_y=temp_df[i][best_idx]*100 # Multiply by 100 to get %\n",
    "        # Get y plots\n",
    "        y_values=temp_df[i]*100\n",
    "        # Store y_min and y_max if needed\n",
    "        if y_min>np.min(y_values):\n",
    "            y_min=np.min(y_values)-y_values.std()\n",
    "        if y_max<np.max(y_values):\n",
    "            y_max=np.max(y_values)+y_values.std()\n",
    "\n",
    "        if semilogx:\n",
    "            plt.semilogx(x_values, y_values, label=i)\n",
    "        else:\n",
    "            plt.plot(x_values, y_values, label=i)\n",
    "\n",
    "        # Draw a cross on the best_x/best_accuracy point\n",
    "        plt.scatter(best_x, best_y, marker='x', c='red', zorder=10)\n",
    "        # Write near of the cross the best_y/best_y value\n",
    "        plt.text(best_x, best_y+0.5, 'x:{:.3f} y:{:.1f}'.format(best_x, best_y))\n",
    "        plt.plot([best_x, best_x], [0, best_y], c='red', alpha=0.5, linestyle='--')\n",
    "        plt.plot([np.min(x_values), best_x], [best_y, best_y], c='red', alpha=0.5, linestyle='--')\n",
    "        \n",
    "        plt.title(title)\n",
    "        plt.xlabel(xlabel)\n",
    "        plt.ylabel(ylabel)\n",
    "    plt.ylim(bottom=y_min, top=y_max+1)\n",
    "    plt.xlim(left=x_min, right=x_max)\n",
    "    plt.legend()\n",
    "    plt.show()\n",
    "\n",
    "plotGridSearchResults(results_df, 'param_n_estimators', ['mean_test_score', 'mean_train_score'], semilogx=False)"
   ]
  },
  {
   "cell_type": "code",
   "execution_count": null,
   "metadata": {},
   "outputs": [],
   "source": []
  }
 ],
 "metadata": {
  "kernelspec": {
   "display_name": "Python 3",
   "language": "python",
   "name": "python3"
  },
  "language_info": {
   "codemirror_mode": {
    "name": "ipython",
    "version": 3
   },
   "file_extension": ".py",
   "mimetype": "text/x-python",
   "name": "python",
   "nbconvert_exporter": "python",
   "pygments_lexer": "ipython3",
   "version": "3.6.10"
  }
 },
 "nbformat": 4,
 "nbformat_minor": 4
}
