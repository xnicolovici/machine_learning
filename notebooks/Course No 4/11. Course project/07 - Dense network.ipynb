{
 "cells": [
  {
   "cell_type": "markdown",
   "id": "6c2c6fba",
   "metadata": {},
   "source": [
    "# Dense network"
   ]
  },
  {
   "cell_type": "markdown",
   "id": "754a70be",
   "metadata": {},
   "source": [
    "## Load X,y data from NPZ\n",
    "\n",
    "Using the function added to *mylib.py* file, it's now easy to grab data and X/y vectors ready to be used for model training and tuning"
   ]
  },
  {
   "cell_type": "code",
   "execution_count": 6,
   "id": "f9a7fb41",
   "metadata": {},
   "outputs": [],
   "source": [
    "# Run content of mylib.py file\n",
    "%run mylib.py\n",
    "\n",
    "# Load data from NPZ file\n",
    "#data=loadNpz()\n",
    "(data, X, y)=loadXy(verbose=False)"
   ]
  },
  {
   "cell_type": "markdown",
   "id": "7c1db94f",
   "metadata": {},
   "source": []
  },
  {
   "cell_type": "code",
   "execution_count": 9,
   "id": "58b47295",
   "metadata": {},
   "outputs": [],
   "source": [
    "import tensorflow as tf\n",
    "from tensorflow.keras import Sequential\n",
    "from tensorflow.keras.layers import Dense\n",
    "from tensorflow.keras import activations\n",
    "from tensorflow.keras import initializers\n",
    "from tensorflow.keras.layers import Dropout\n",
    "\n"
   ]
  },
  {
   "cell_type": "code",
   "execution_count": 10,
   "id": "df9ae6c2",
   "metadata": {},
   "outputs": [
    {
     "data": {
      "text/plain": [
       "2048"
      ]
     },
     "execution_count": 10,
     "metadata": {},
     "output_type": "execute_result"
    }
   ],
   "source": [
    "X['trainX'].shape\n",
    "data['FEATURE_SIZE']"
   ]
  },
  {
   "cell_type": "code",
   "execution_count": 11,
   "id": "e8e4ecfe",
   "metadata": {},
   "outputs": [
    {
     "name": "stdout",
     "output_type": "stream",
     "text": [
      "_________________________________________________________________\n",
      "Layer (type)                 Output Shape              Param #   \n",
      "=================================================================\n",
      "dense_2 (Dense)              (None, 512)               1049088   \n",
      "_________________________________________________________________\n",
      "dense_3 (Dense)              (None, 6)                 3078      \n",
      "=================================================================\n",
      "Total params: 1,052,166\n",
      "Trainable params: 1,052,166\n",
      "Non-trainable params: 0\n",
      "_________________________________________________________________\n"
     ]
    }
   ],
   "source": [
    "\n",
    "# Number of outputs\n",
    "NB_CLASS=len(data['class_name'])\n",
    "\n",
    "\n",
    "# Create model\n",
    "model_1n = Sequential()\n",
    "\n",
    "# Hidden layer\n",
    "model_1n.add(Dense(\n",
    "    units=512, activation=activations.relu, input_dim=data['FEATURE_SIZE'],\n",
    "    kernel_initializer=initializers.VarianceScaling(scale=2.0, seed=0),\n",
    "    kernel_regularizer=tf.keras.regularizers.l2(l=0.001)\n",
    "))\n",
    "\n",
    "# Output layer\n",
    "model_1n.add(Dense(\n",
    "    units=NB_CLASS, activation=activations.softmax,\n",
    "    kernel_initializer=initializers.VarianceScaling(scale=1.0, seed=0),\n",
    "    kernel_regularizer=tf.keras.regularizers.l2(l=0.001)\n",
    "))\n",
    "          \n",
    "\n",
    "# Print network summary\n",
    "model_1n.summary()\n"
   ]
  },
  {
   "cell_type": "code",
   "execution_count": 12,
   "id": "5d51142b",
   "metadata": {},
   "outputs": [
    {
     "name": "stdout",
     "output_type": "stream",
     "text": [
      "_________________________________________________________________\n",
      "Layer (type)                 Output Shape              Param #   \n",
      "=================================================================\n",
      "dense_2 (Dense)              (None, 512)               1049088   \n",
      "_________________________________________________________________\n",
      "dense_3 (Dense)              (None, 6)                 3078      \n",
      "=================================================================\n",
      "Total params: 1,052,166\n",
      "Trainable params: 1,052,166\n",
      "Non-trainable params: 0\n",
      "_________________________________________________________________\n"
     ]
    }
   ],
   "source": [
    "from tensorflow.keras import optimizers\n",
    "\n",
    "# Define loss function, optimizer and metrics to track during training\n",
    "model_1n.compile(optimizer='sgd', loss='sparse_categorical_crossentropy', metrics=['acc'])\n",
    "model_1n.summary()"
   ]
  },
  {
   "cell_type": "code",
   "execution_count": 13,
   "id": "2ec88b21",
   "metadata": {},
   "outputs": [],
   "source": [
    "from tensorflow.keras import losses\n",
    "from tensorflow.keras import metrics\n",
    "\n",
    "# Define loss function, optimizer, and metrics to track during training\n",
    "model_1n.compile(\n",
    "    optimizer='sgd', # .. or optimizers.SGD(lr=0.01)\n",
    "    loss='sparse_categorical_crossentropy', # .. or losses.sparse_categorical_crossentropy\n",
    "    metrics=['acc'] # .. or metrics.sparse_categorical_accuracy\n",
    ")"
   ]
  },
  {
   "cell_type": "code",
   "execution_count": 14,
   "id": "61a09e1a",
   "metadata": {},
   "outputs": [
    {
     "name": "stdout",
     "output_type": "stream",
     "text": [
      "Train on 336 samples, validate on 84 samples\n",
      "Epoch 1/30\n",
      "336/336 [==============================] - 1s 2ms/step - loss: 2.8595 - acc: 0.2381 - val_loss: 2.6734 - val_acc: 0.2619\n",
      "Epoch 2/30\n",
      "336/336 [==============================] - 0s 274us/step - loss: 2.3596 - acc: 0.6280 - val_loss: 2.5344 - val_acc: 0.4643\n",
      "Epoch 3/30\n",
      "336/336 [==============================] - 0s 268us/step - loss: 2.1273 - acc: 0.7470 - val_loss: 2.4038 - val_acc: 0.4881\n",
      "Epoch 4/30\n",
      "336/336 [==============================] - 0s 266us/step - loss: 1.9705 - acc: 0.7679 - val_loss: 2.2046 - val_acc: 0.6667\n",
      "Epoch 5/30\n",
      "336/336 [==============================] - 0s 278us/step - loss: 1.8475 - acc: 0.8185 - val_loss: 2.1363 - val_acc: 0.6786\n",
      "Epoch 6/30\n",
      "336/336 [==============================] - 0s 262us/step - loss: 1.7551 - acc: 0.8274 - val_loss: 2.0367 - val_acc: 0.7143\n",
      "Epoch 7/30\n",
      "336/336 [==============================] - 0s 266us/step - loss: 1.6826 - acc: 0.8571 - val_loss: 1.9701 - val_acc: 0.7143\n",
      "Epoch 8/30\n",
      "336/336 [==============================] - 0s 268us/step - loss: 1.6250 - acc: 0.8690 - val_loss: 1.9226 - val_acc: 0.7143\n",
      "Epoch 9/30\n",
      "336/336 [==============================] - 0s 273us/step - loss: 1.5774 - acc: 0.8720 - val_loss: 1.8517 - val_acc: 0.7738\n",
      "Epoch 10/30\n",
      "336/336 [==============================] - 0s 265us/step - loss: 1.5351 - acc: 0.9018 - val_loss: 1.8143 - val_acc: 0.7857\n",
      "Epoch 11/30\n",
      "336/336 [==============================] - 0s 278us/step - loss: 1.5013 - acc: 0.9137 - val_loss: 1.7666 - val_acc: 0.7619\n",
      "Epoch 12/30\n",
      "336/336 [==============================] - 0s 274us/step - loss: 1.4705 - acc: 0.9107 - val_loss: 1.7289 - val_acc: 0.7857\n",
      "Epoch 13/30\n",
      "336/336 [==============================] - 0s 269us/step - loss: 1.4445 - acc: 0.9256 - val_loss: 1.7049 - val_acc: 0.8214\n",
      "Epoch 14/30\n",
      "336/336 [==============================] - 0s 264us/step - loss: 1.4214 - acc: 0.9286 - val_loss: 1.6755 - val_acc: 0.8333\n",
      "Epoch 15/30\n",
      "336/336 [==============================] - 0s 279us/step - loss: 1.4006 - acc: 0.9315 - val_loss: 1.6495 - val_acc: 0.8333\n",
      "Epoch 16/30\n",
      "336/336 [==============================] - 0s 272us/step - loss: 1.3821 - acc: 0.9405 - val_loss: 1.6239 - val_acc: 0.8571\n",
      "Epoch 17/30\n",
      "336/336 [==============================] - 0s 289us/step - loss: 1.3672 - acc: 0.9464 - val_loss: 1.5997 - val_acc: 0.8571\n",
      "Epoch 18/30\n",
      "336/336 [==============================] - 0s 293us/step - loss: 1.3506 - acc: 0.9405 - val_loss: 1.5717 - val_acc: 0.8690\n",
      "Epoch 19/30\n",
      "336/336 [==============================] - 0s 304us/step - loss: 1.3384 - acc: 0.9405 - val_loss: 1.5650 - val_acc: 0.8810\n",
      "Epoch 20/30\n",
      "336/336 [==============================] - 0s 289us/step - loss: 1.3254 - acc: 0.9435 - val_loss: 1.5546 - val_acc: 0.8929\n",
      "Epoch 21/30\n",
      "336/336 [==============================] - 0s 303us/step - loss: 1.3127 - acc: 0.9435 - val_loss: 1.5445 - val_acc: 0.8690\n",
      "Epoch 22/30\n",
      "336/336 [==============================] - 0s 303us/step - loss: 1.3026 - acc: 0.9435 - val_loss: 1.5379 - val_acc: 0.8810\n",
      "Epoch 23/30\n",
      "336/336 [==============================] - 0s 296us/step - loss: 1.2939 - acc: 0.9435 - val_loss: 1.5287 - val_acc: 0.8690\n",
      "Epoch 24/30\n",
      "336/336 [==============================] - 0s 315us/step - loss: 1.2844 - acc: 0.9464 - val_loss: 1.5278 - val_acc: 0.8571\n",
      "Epoch 25/30\n",
      "336/336 [==============================] - 0s 299us/step - loss: 1.2754 - acc: 0.9435 - val_loss: 1.5191 - val_acc: 0.8571\n",
      "Epoch 26/30\n",
      "336/336 [==============================] - 0s 298us/step - loss: 1.2683 - acc: 0.9464 - val_loss: 1.5018 - val_acc: 0.8810\n",
      "Epoch 27/30\n",
      "336/336 [==============================] - 0s 297us/step - loss: 1.2603 - acc: 0.9494 - val_loss: 1.5003 - val_acc: 0.8571\n",
      "Epoch 28/30\n",
      "336/336 [==============================] - 0s 295us/step - loss: 1.2540 - acc: 0.9494 - val_loss: 1.4712 - val_acc: 0.8929\n",
      "Epoch 29/30\n",
      "336/336 [==============================] - 0s 302us/step - loss: 1.2477 - acc: 0.9613 - val_loss: 1.4756 - val_acc: 0.8929\n",
      "Epoch 30/30\n",
      "336/336 [==============================] - 0s 315us/step - loss: 1.2416 - acc: 0.9524 - val_loss: 1.4653 - val_acc: 0.8810\n"
     ]
    }
   ],
   "source": [
    "# Fit model\n",
    "history = model_1n.fit(\n",
    "    x=X['trainX'], y=y['trainX'],\n",
    "    validation_split=0.2, batch_size=64, epochs=30,\n",
    "    shuffle=True # Shuffle training samples\n",
    ")"
   ]
  },
  {
   "cell_type": "code",
   "execution_count": 15,
   "id": "7bf3c89d",
   "metadata": {},
   "outputs": [
    {
     "data": {
      "image/png": "[encoded data removed]",
      "text/plain": [
       "<Figure size 864x288 with 2 Axes>"
      ]
     },
     "metadata": {
      "needs_background": "light"
     },
     "output_type": "display_data"
    }
   ],
   "source": [
    "%matplotlib inline\n",
    "import matplotlib.pyplot as plt\n",
    "import numpy as np\n",
    "\n",
    "# Create two plots: one for the loss value, one for the accuracy\n",
    "fig, (ax1, ax2) = plt.subplots(nrows=1, ncols=2, figsize=(12, 4))\n",
    "\n",
    "# Plot accuracy values\n",
    "ax1.plot(history.history['loss'], label='train loss')\n",
    "ax1.plot(history.history['val_loss'], label='val loss')\n",
    "ax1.set_title('Validation loss {:.3f} (mean last 3)'.format(\n",
    "    np.mean(history.history['val_loss'][-3:]) # last three values\n",
    "))\n",
    "ax1.set_xlabel('epoch')\n",
    "ax1.set_ylabel('loss value')\n",
    "ax1.legend()\n",
    "\n",
    "# Plot accuracy values\n",
    "ax2.plot(history.history['acc'], label='train acc')\n",
    "ax2.plot(history.history['val_acc'], label='val acc')\n",
    "ax2.set_title('Validation accuracy {:.3f} (mean last 3)'.format(\n",
    "    np.mean(history.history['val_acc'][-3:]) # last three values\n",
    "))\n",
    "ax2.set_xlabel('epoch')\n",
    "ax2.set_ylabel('accuracy')\n",
    "ax2.legend()\n",
    "plt.show()"
   ]
  },
  {
   "cell_type": "code",
   "execution_count": 16,
   "id": "ccc8b698",
   "metadata": {},
   "outputs": [
    {
     "name": "stdout",
     "output_type": "stream",
     "text": [
      "50/50 [==============================] - 0s 473us/step\n",
      "Test loss: 1.31\n",
      "Test accuracy: 94.00%\n"
     ]
    }
   ],
   "source": [
    "(test_loss, test_accuracy) = model_1n.evaluate(X['test'], y['test'], batch_size=16)\n",
    "\n",
    "print('Test loss: {:.2f}'.format(test_loss)) # around 0.19\n",
    "print('Test accuracy: {:.2f}%'.format(100*test_accuracy)) # around 95%"
   ]
  },
  {
   "cell_type": "markdown",
   "id": "23fca268",
   "metadata": {},
   "source": [
    "## 2-N layer"
   ]
  },
  {
   "cell_type": "code",
   "execution_count": 50,
   "id": "1b12e996",
   "metadata": {},
   "outputs": [
    {
     "name": "stdout",
     "output_type": "stream",
     "text": [
      "_________________________________________________________________\n",
      "Layer (type)                 Output Shape              Param #   \n",
      "=================================================================\n",
      "dense_30 (Dense)             (None, 512)               1049088   \n",
      "_________________________________________________________________\n",
      "dense_31 (Dense)             (None, 32)                16416     \n",
      "_________________________________________________________________\n",
      "dense_32 (Dense)             (None, 6)                 198       \n",
      "=================================================================\n",
      "Total params: 1,065,702\n",
      "Trainable params: 1,065,702\n",
      "Non-trainable params: 0\n",
      "_________________________________________________________________\n"
     ]
    }
   ],
   "source": [
    "import tensorflow.keras as keras\n",
    "from tensorflow.keras import activations\n",
    "\n",
    "\n",
    "# Number of outputs\n",
    "NB_CLASS=len(data['class_name'])\n",
    "\n",
    "\n",
    "# Convolutional Network\n",
    "model_2n = keras.Sequential()\n",
    "\n",
    "\n",
    "model_2n.add(keras.layers.Dense(units=512, activation='relu', input_shape=(data['FEATURE_SIZE'],)))\n",
    "model_2n.add(keras.layers.Dense(units=32, activation='relu'))\n",
    "model_2n.add(keras.layers.Dense(units=NB_CLASS, activation='softmax'))\n",
    "\n",
    "model_2n.summary()"
   ]
  },
  {
   "cell_type": "code",
   "execution_count": 51,
   "id": "4547c8c9",
   "metadata": {},
   "outputs": [],
   "source": [
    "# Compile the model\n",
    "model_2n.compile(optimizer=keras.optimizers.Adamax(), loss='categorical_crossentropy', metrics=['acc'])"
   ]
  },
  {
   "cell_type": "code",
   "execution_count": 58,
   "id": "59c22779",
   "metadata": {},
   "outputs": [],
   "source": [
    "# End training when accuracy stops improving (optional)\n",
    "early_stopping = keras.callbacks.EarlyStopping(monitor='val_loss', patience=6)"
   ]
  },
  {
   "cell_type": "code",
   "execution_count": 62,
   "id": "2d8b052d",
   "metadata": {},
   "outputs": [
    {
     "name": "stdout",
     "output_type": "stream",
     "text": [
      "Epoch 1/100\n",
      " 9/10 [==========================>...] - ETA: 0s - loss: 3.6542e-04 - acc: 1.0000"
     ]
    },
    {
     "ename": "TypeError",
     "evalue": "float() argument must be a string or a number, not 'NoneType'",
     "output_type": "error",
     "traceback": [
      "\u001b[0;31m---------------------------------------------------------------------------\u001b[0m",
      "\u001b[0;31mTypeError\u001b[0m                                 Traceback (most recent call last)",
      "\u001b[0;32m<ipython-input-62-ce1c6f8b6ce6>\u001b[0m in \u001b[0;36m<module>\u001b[0;34m\u001b[0m\n\u001b[1;32m      8\u001b[0m     \u001b[0mcallbacks\u001b[0m\u001b[0;34m=\u001b[0m\u001b[0;34m[\u001b[0m\u001b[0mearly_stopping\u001b[0m\u001b[0;34m]\u001b[0m\u001b[0;34m,\u001b[0m\u001b[0;34m\u001b[0m\u001b[0;34m\u001b[0m\u001b[0m\n\u001b[1;32m      9\u001b[0m     \u001b[0msteps_per_epoch\u001b[0m\u001b[0;34m=\u001b[0m\u001b[0;36m10\u001b[0m\u001b[0;34m,\u001b[0m\u001b[0;34m\u001b[0m\u001b[0;34m\u001b[0m\u001b[0m\n\u001b[0;32m---> 10\u001b[0;31m     \u001b[0mshuffle\u001b[0m\u001b[0;34m=\u001b[0m\u001b[0;32mTrue\u001b[0m \u001b[0;31m# Shuffle training samples\u001b[0m\u001b[0;34m\u001b[0m\u001b[0;34m\u001b[0m\u001b[0m\n\u001b[0m\u001b[1;32m     11\u001b[0m )\n\u001b[1;32m     12\u001b[0m \u001b[0;34m\u001b[0m\u001b[0m\n",
      "\u001b[0;32m/opt/anaconda3/envs/exts-ml/lib/python3.6/site-packages/tensorflow/python/keras/engine/training.py\u001b[0m in \u001b[0;36mfit\u001b[0;34m(self, x, y, batch_size, epochs, verbose, callbacks, validation_split, validation_data, shuffle, class_weight, sample_weight, initial_epoch, steps_per_epoch, validation_steps, max_queue_size, workers, use_multiprocessing, **kwargs)\u001b[0m\n\u001b[1;32m   1637\u001b[0m           \u001b[0minitial_epoch\u001b[0m\u001b[0;34m=\u001b[0m\u001b[0minitial_epoch\u001b[0m\u001b[0;34m,\u001b[0m\u001b[0;34m\u001b[0m\u001b[0;34m\u001b[0m\u001b[0m\n\u001b[1;32m   1638\u001b[0m           \u001b[0msteps_per_epoch\u001b[0m\u001b[0;34m=\u001b[0m\u001b[0msteps_per_epoch\u001b[0m\u001b[0;34m,\u001b[0m\u001b[0;34m\u001b[0m\u001b[0;34m\u001b[0m\u001b[0m\n\u001b[0;32m-> 1639\u001b[0;31m           validation_steps=validation_steps)\n\u001b[0m\u001b[1;32m   1640\u001b[0m \u001b[0;34m\u001b[0m\u001b[0m\n\u001b[1;32m   1641\u001b[0m   def evaluate(self,\n",
      "\u001b[0;32m/opt/anaconda3/envs/exts-ml/lib/python3.6/site-packages/tensorflow/python/keras/engine/training_arrays.py\u001b[0m in \u001b[0;36mfit_loop\u001b[0;34m(model, inputs, targets, sample_weights, batch_size, epochs, verbose, callbacks, val_inputs, val_targets, val_sample_weights, shuffle, initial_epoch, steps_per_epoch, validation_steps)\u001b[0m\n\u001b[1;32m    179\u001b[0m             \u001b[0msample_weights\u001b[0m\u001b[0;34m=\u001b[0m\u001b[0mval_sample_weights\u001b[0m\u001b[0;34m,\u001b[0m\u001b[0;34m\u001b[0m\u001b[0;34m\u001b[0m\u001b[0m\n\u001b[1;32m    180\u001b[0m             \u001b[0msteps\u001b[0m\u001b[0;34m=\u001b[0m\u001b[0mvalidation_steps\u001b[0m\u001b[0;34m,\u001b[0m\u001b[0;34m\u001b[0m\u001b[0;34m\u001b[0m\u001b[0m\n\u001b[0;32m--> 181\u001b[0;31m             verbose=0)\n\u001b[0m\u001b[1;32m    182\u001b[0m         \u001b[0;32mif\u001b[0m \u001b[0;32mnot\u001b[0m \u001b[0misinstance\u001b[0m\u001b[0;34m(\u001b[0m\u001b[0mval_outs\u001b[0m\u001b[0;34m,\u001b[0m \u001b[0mlist\u001b[0m\u001b[0;34m)\u001b[0m\u001b[0;34m:\u001b[0m\u001b[0;34m\u001b[0m\u001b[0;34m\u001b[0m\u001b[0m\n\u001b[1;32m    183\u001b[0m           \u001b[0mval_outs\u001b[0m \u001b[0;34m=\u001b[0m \u001b[0;34m[\u001b[0m\u001b[0mval_outs\u001b[0m\u001b[0;34m]\u001b[0m\u001b[0;34m\u001b[0m\u001b[0;34m\u001b[0m\u001b[0m\n",
      "\u001b[0;32m/opt/anaconda3/envs/exts-ml/lib/python3.6/site-packages/tensorflow/python/keras/engine/training_arrays.py\u001b[0m in \u001b[0;36mtest_loop\u001b[0;34m(model, inputs, targets, sample_weights, batch_size, verbose, steps)\u001b[0m\n\u001b[1;32m    425\u001b[0m         \u001b[0mouts\u001b[0m\u001b[0;34m[\u001b[0m\u001b[0mi\u001b[0m\u001b[0;34m]\u001b[0m \u001b[0;34m/=\u001b[0m \u001b[0msteps\u001b[0m\u001b[0;34m\u001b[0m\u001b[0;34m\u001b[0m\u001b[0m\n\u001b[1;32m    426\u001b[0m   \u001b[0;32melse\u001b[0m\u001b[0;34m:\u001b[0m\u001b[0;34m\u001b[0m\u001b[0;34m\u001b[0m\u001b[0m\n\u001b[0;32m--> 427\u001b[0;31m     \u001b[0mbatches\u001b[0m \u001b[0;34m=\u001b[0m \u001b[0mmake_batches\u001b[0m\u001b[0;34m(\u001b[0m\u001b[0mnum_samples\u001b[0m\u001b[0;34m,\u001b[0m \u001b[0mbatch_size\u001b[0m\u001b[0;34m)\u001b[0m\u001b[0;34m\u001b[0m\u001b[0;34m\u001b[0m\u001b[0m\n\u001b[0m\u001b[1;32m    428\u001b[0m     \u001b[0mindex_array\u001b[0m \u001b[0;34m=\u001b[0m \u001b[0mnp\u001b[0m\u001b[0;34m.\u001b[0m\u001b[0marange\u001b[0m\u001b[0;34m(\u001b[0m\u001b[0mnum_samples\u001b[0m\u001b[0;34m)\u001b[0m\u001b[0;34m\u001b[0m\u001b[0;34m\u001b[0m\u001b[0m\n\u001b[1;32m    429\u001b[0m     \u001b[0;32mfor\u001b[0m \u001b[0mbatch_index\u001b[0m\u001b[0;34m,\u001b[0m \u001b[0;34m(\u001b[0m\u001b[0mbatch_start\u001b[0m\u001b[0;34m,\u001b[0m \u001b[0mbatch_end\u001b[0m\u001b[0;34m)\u001b[0m \u001b[0;32min\u001b[0m \u001b[0menumerate\u001b[0m\u001b[0;34m(\u001b[0m\u001b[0mbatches\u001b[0m\u001b[0;34m)\u001b[0m\u001b[0;34m:\u001b[0m\u001b[0;34m\u001b[0m\u001b[0;34m\u001b[0m\u001b[0m\n",
      "\u001b[0;32m/opt/anaconda3/envs/exts-ml/lib/python3.6/site-packages/tensorflow/python/keras/utils/generic_utils.py\u001b[0m in \u001b[0;36mmake_batches\u001b[0;34m(size, batch_size)\u001b[0m\n\u001b[1;32m    465\u001b[0m       \u001b[0mA\u001b[0m \u001b[0mlist\u001b[0m \u001b[0mof\u001b[0m \u001b[0mtuples\u001b[0m \u001b[0mof\u001b[0m \u001b[0marray\u001b[0m \u001b[0mindices\u001b[0m\u001b[0;34m.\u001b[0m\u001b[0;34m\u001b[0m\u001b[0;34m\u001b[0m\u001b[0m\n\u001b[1;32m    466\u001b[0m   \"\"\"\n\u001b[0;32m--> 467\u001b[0;31m   \u001b[0mnum_batches\u001b[0m \u001b[0;34m=\u001b[0m \u001b[0mint\u001b[0m\u001b[0;34m(\u001b[0m\u001b[0mnp\u001b[0m\u001b[0;34m.\u001b[0m\u001b[0mceil\u001b[0m\u001b[0;34m(\u001b[0m\u001b[0msize\u001b[0m \u001b[0;34m/\u001b[0m \u001b[0mfloat\u001b[0m\u001b[0;34m(\u001b[0m\u001b[0mbatch_size\u001b[0m\u001b[0;34m)\u001b[0m\u001b[0;34m)\u001b[0m\u001b[0;34m)\u001b[0m\u001b[0;34m\u001b[0m\u001b[0;34m\u001b[0m\u001b[0m\n\u001b[0m\u001b[1;32m    468\u001b[0m   return [(i * batch_size, min(size, (i + 1) * batch_size))\n\u001b[1;32m    469\u001b[0m           for i in range(0, num_batches)]\n",
      "\u001b[0;31mTypeError\u001b[0m: float() argument must be a string or a number, not 'NoneType'"
     ]
    }
   ],
   "source": [
    "# Fit model\n",
    "from tensorflow.keras.utils import to_categorical\n",
    "y_categorical = to_categorical(y['trainX'])\n",
    "\n",
    "history = model_2n.fit(\n",
    "    x=X['trainX'], y=y_categorical,\n",
    "    validation_split=0.2, epochs=100,\n",
    "    callbacks=[early_stopping],\n",
    "    steps_per_epoch=10,\n",
    "    shuffle=True # Shuffle training samples\n",
    ")\n",
    "\n",
    "model_2n.fit()"
   ]
  },
  {
   "cell_type": "code",
   "execution_count": 180,
   "id": "b19f50af",
   "metadata": {},
   "outputs": [
    {
     "name": "stdout",
     "output_type": "stream",
     "text": [
      "Train on 336 samples, validate on 84 samples\n",
      "Epoch 1/30\n",
      "336/336 [==============================] - 2s 6ms/step - loss: 1.5507 - acc: 0.4196 - val_loss: 1.6176 - val_acc: 0.3690\n",
      "Epoch 2/30\n",
      "336/336 [==============================] - 0s 187us/step - loss: 1.1741 - acc: 0.6935 - val_loss: 1.4180 - val_acc: 0.5238\n",
      "Epoch 3/30\n",
      "336/336 [==============================] - 0s 193us/step - loss: 0.9514 - acc: 0.7560 - val_loss: 1.2506 - val_acc: 0.6429\n",
      "Epoch 4/30\n",
      "336/336 [==============================] - 0s 185us/step - loss: 0.7972 - acc: 0.8036 - val_loss: 1.0656 - val_acc: 0.7024\n",
      "Epoch 5/30\n",
      "336/336 [==============================] - 0s 186us/step - loss: 0.6742 - acc: 0.8542 - val_loss: 0.9291 - val_acc: 0.7857\n",
      "Epoch 6/30\n",
      "336/336 [==============================] - 0s 190us/step - loss: 0.5807 - acc: 0.8780 - val_loss: 0.8284 - val_acc: 0.7857\n",
      "Epoch 7/30\n",
      "336/336 [==============================] - 0s 188us/step - loss: 0.5073 - acc: 0.9137 - val_loss: 0.7862 - val_acc: 0.8095\n",
      "Epoch 8/30\n",
      "336/336 [==============================] - 0s 189us/step - loss: 0.4528 - acc: 0.9077 - val_loss: 0.7354 - val_acc: 0.8095\n",
      "Epoch 9/30\n",
      "336/336 [==============================] - 0s 184us/step - loss: 0.4108 - acc: 0.9226 - val_loss: 0.6625 - val_acc: 0.8333\n",
      "Epoch 10/30\n",
      "336/336 [==============================] - 0s 194us/step - loss: 0.3726 - acc: 0.9345 - val_loss: 0.6230 - val_acc: 0.8333\n",
      "Epoch 11/30\n",
      "336/336 [==============================] - 0s 189us/step - loss: 0.3411 - acc: 0.9435 - val_loss: 0.6071 - val_acc: 0.8452\n",
      "Epoch 12/30\n",
      "336/336 [==============================] - 0s 197us/step - loss: 0.3150 - acc: 0.9494 - val_loss: 0.5566 - val_acc: 0.8452\n",
      "Epoch 13/30\n",
      "336/336 [==============================] - 0s 213us/step - loss: 0.2903 - acc: 0.9524 - val_loss: 0.5281 - val_acc: 0.8452\n",
      "Epoch 14/30\n",
      "336/336 [==============================] - 0s 214us/step - loss: 0.2713 - acc: 0.9554 - val_loss: 0.5159 - val_acc: 0.8571\n",
      "Epoch 15/30\n",
      "336/336 [==============================] - 0s 186us/step - loss: 0.2545 - acc: 0.9554 - val_loss: 0.4948 - val_acc: 0.8810\n",
      "Epoch 16/30\n",
      "336/336 [==============================] - 0s 183us/step - loss: 0.2422 - acc: 0.9554 - val_loss: 0.4777 - val_acc: 0.8810\n",
      "Epoch 17/30\n",
      "336/336 [==============================] - 0s 204us/step - loss: 0.2268 - acc: 0.9613 - val_loss: 0.4639 - val_acc: 0.8690\n",
      "Epoch 18/30\n",
      "336/336 [==============================] - 0s 189us/step - loss: 0.2141 - acc: 0.9613 - val_loss: 0.4457 - val_acc: 0.8929\n",
      "Epoch 19/30\n",
      "336/336 [==============================] - 0s 200us/step - loss: 0.2051 - acc: 0.9643 - val_loss: 0.4451 - val_acc: 0.8929\n",
      "Epoch 20/30\n",
      "336/336 [==============================] - 0s 199us/step - loss: 0.1953 - acc: 0.9643 - val_loss: 0.4499 - val_acc: 0.8810\n",
      "Epoch 21/30\n",
      "336/336 [==============================] - 0s 199us/step - loss: 0.1894 - acc: 0.9613 - val_loss: 0.4400 - val_acc: 0.8929\n",
      "Epoch 22/30\n",
      "336/336 [==============================] - 0s 198us/step - loss: 0.1786 - acc: 0.9673 - val_loss: 0.4098 - val_acc: 0.8810\n",
      "Epoch 23/30\n",
      "336/336 [==============================] - 0s 189us/step - loss: 0.1701 - acc: 0.9702 - val_loss: 0.4116 - val_acc: 0.8929\n",
      "Epoch 24/30\n",
      "336/336 [==============================] - 0s 198us/step - loss: 0.1660 - acc: 0.9643 - val_loss: 0.3958 - val_acc: 0.8810\n",
      "Epoch 25/30\n",
      "336/336 [==============================] - 0s 241us/step - loss: 0.1592 - acc: 0.9732 - val_loss: 0.3977 - val_acc: 0.8690\n",
      "Epoch 26/30\n",
      "336/336 [==============================] - 0s 204us/step - loss: 0.1548 - acc: 0.9732 - val_loss: 0.3956 - val_acc: 0.8929\n",
      "Epoch 27/30\n",
      "336/336 [==============================] - 0s 200us/step - loss: 0.1469 - acc: 0.9732 - val_loss: 0.3838 - val_acc: 0.8810\n",
      "Epoch 28/30\n",
      "336/336 [==============================] - 0s 187us/step - loss: 0.1410 - acc: 0.9792 - val_loss: 0.3816 - val_acc: 0.8690\n",
      "Epoch 29/30\n",
      "336/336 [==============================] - 0s 213us/step - loss: 0.1369 - acc: 0.9792 - val_loss: 0.3797 - val_acc: 0.8690\n",
      "Epoch 30/30\n",
      "336/336 [==============================] - 0s 192us/step - loss: 0.1332 - acc: 0.9792 - val_loss: 0.3846 - val_acc: 0.8810\n"
     ]
    }
   ],
   "source": [
    "model_3 = tf.keras.Sequential()\n",
    "model_3.add(tf.keras.layers.Dense(512, activation='relu', input_shape=(data['FEATURE_SIZE'],)))\n",
    "# model.add(keras.layers.Dropout(rate=0.5))\n",
    "model_3.add(tf.keras.layers.Dense(128, activation='relu'))\n",
    "#model_3.add(tf.keras.layers.Dense(32, activation='relu'))\n",
    "model_3.add(tf.keras.layers.Dense(6, activation='softmax'))\n",
    "# model_3.compile(optimizer='sgd', loss='mse', metrics=['acc'])\n",
    "\n",
    "# Compile the model\n",
    "model_3.compile(optimizer=keras.optimizers.Adamax(), loss='sparse_categorical_crossentropy', metrics=['acc'])\n",
    "model_3.compile(optimizer='sgd', loss='sparse_categorical_crossentropy', metrics=['acc'])\n",
    "\n",
    "\n",
    "# model_3.compile(optimizer=keras.optimizers.Adamax(), loss='mse', metrics=['acc'])\n",
    "\n",
    "# End training when accuracy stops improving (optional)\n",
    "early_stopping = keras.callbacks.EarlyStopping(monitor='val_loss', patience=5)\n",
    "\n",
    "# This builds the model for the first time:\n",
    "history=model_3.fit(X['trainX'], y['trainX'], batch_size=64, epochs=30, validation_split=0.2, callbacks=[early_stopping])"
   ]
  },
  {
   "cell_type": "code",
   "execution_count": 181,
   "id": "3f0942b4",
   "metadata": {},
   "outputs": [
    {
     "data": {
      "image/png": "[encoded data removed]",
      "text/plain": [
       "<Figure size 864x288 with 2 Axes>"
      ]
     },
     "metadata": {
      "needs_background": "light"
     },
     "output_type": "display_data"
    }
   ],
   "source": [
    "%matplotlib inline\n",
    "import matplotlib.pyplot as plt\n",
    "import numpy as np\n",
    "\n",
    "# Create two plots: one for the loss value, one for the accuracy\n",
    "fig, (ax1, ax2) = plt.subplots(nrows=1, ncols=2, figsize=(12, 4))\n",
    "\n",
    "# Plot accuracy values\n",
    "ax1.plot(history.history['loss'], label='train loss')\n",
    "ax1.plot(history.history['val_loss'], label='val loss')\n",
    "ax1.set_title('Validation loss {:.3f} (mean last 3)'.format(\n",
    "    np.mean(history.history['val_loss'][-3:]) # last three values\n",
    "))\n",
    "ax1.set_xlabel('epoch')\n",
    "ax1.set_ylabel('loss value')\n",
    "ax1.legend()\n",
    "\n",
    "# Plot accuracy values\n",
    "ax2.plot(history.history['acc'], label='train acc')\n",
    "ax2.plot(history.history['val_acc'], label='val acc')\n",
    "ax2.set_title('Validation accuracy {:.3f} (mean last 3)'.format(\n",
    "    np.mean(history.history['val_acc'][-3:]) # last three values\n",
    "))\n",
    "ax2.set_xlabel('epoch')\n",
    "ax2.set_ylabel('accuracy')\n",
    "ax2.legend()\n",
    "plt.show()"
   ]
  },
  {
   "cell_type": "code",
   "execution_count": 183,
   "id": "cf765a08",
   "metadata": {},
   "outputs": [
    {
     "name": "stdout",
     "output_type": "stream",
     "text": [
      "50/50 [==============================] - 0s 364us/step\n",
      "Test loss: 0.24\n",
      "Test accuracy: 92.00%\n"
     ]
    }
   ],
   "source": [
    "(test_loss, test_accuracy) = model_3.evaluate(X['test'], y['test'], batch_size=16)\n",
    "\n",
    "print('Test loss: {:.2f}'.format(test_loss)) # around 0.19\n",
    "print('Test accuracy: {:.2f}%'.format(100*test_accuracy)) # around 95%"
   ]
  },
  {
   "cell_type": "code",
   "execution_count": 171,
   "id": "0a491878",
   "metadata": {},
   "outputs": [
    {
     "data": {
      "text/html": [
       "<div>\n",
       "<style scoped>\n",
       "    .dataframe tbody tr th:only-of-type {\n",
       "        vertical-align: middle;\n",
       "    }\n",
       "\n",
       "    .dataframe tbody tr th {\n",
       "        vertical-align: top;\n",
       "    }\n",
       "\n",
       "    .dataframe thead th {\n",
       "        text-align: right;\n",
       "    }\n",
       "</style>\n",
       "<table border=\"1\" class=\"dataframe\">\n",
       "  <thead>\n",
       "    <tr style=\"text-align: right;\">\n",
       "      <th></th>\n",
       "      <th>0</th>\n",
       "      <th>1</th>\n",
       "      <th>2</th>\n",
       "      <th>3</th>\n",
       "      <th>4</th>\n",
       "      <th>5</th>\n",
       "    </tr>\n",
       "  </thead>\n",
       "  <tbody>\n",
       "    <tr>\n",
       "      <th>0</th>\n",
       "      <td>0.001449</td>\n",
       "      <td>0.930088</td>\n",
       "      <td>0.003121</td>\n",
       "      <td>0.012063</td>\n",
       "      <td>0.00417</td>\n",
       "      <td>0.049109</td>\n",
       "    </tr>\n",
       "  </tbody>\n",
       "</table>\n",
       "</div>"
      ],
      "text/plain": [
       "          0         1         2         3        4         5\n",
       "0  0.001449  0.930088  0.003121  0.012063  0.00417  0.049109"
      ]
     },
     "execution_count": 171,
     "metadata": {},
     "output_type": "execute_result"
    }
   ],
   "source": [
    "pd.DataFrame(model_3.predict(X['train'][100:101]))\n"
   ]
  },
  {
   "cell_type": "code",
   "execution_count": null,
   "id": "295566fe",
   "metadata": {},
   "outputs": [],
   "source": []
  }
 ],
 "metadata": {
  "kernelspec": {
   "display_name": "Python 3",
   "language": "python",
   "name": "python3"
  },
  "language_info": {
   "codemirror_mode": {
    "name": "ipython",
    "version": 3
   },
   "file_extension": ".py",
   "mimetype": "text/x-python",
   "name": "python",
   "nbconvert_exporter": "python",
   "pygments_lexer": "ipython3",
   "version": "3.6.13"
  }
 },
 "nbformat": 4,
 "nbformat_minor": 5
}
