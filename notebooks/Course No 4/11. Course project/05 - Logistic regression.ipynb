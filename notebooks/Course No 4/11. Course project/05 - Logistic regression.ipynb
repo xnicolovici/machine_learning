{
 "cells": [
  {
   "cell_type": "markdown",
   "metadata": {},
   "source": [
    "# Logistic Regresssion"
   ]
  },
  {
   "cell_type": "markdown",
   "metadata": {},
   "source": [
    "## Load X,y data from NPZ\n",
    "\n",
    "Using the function added to *mylib.py* file, it's now easy to grab data and X/y vectors ready to be used for model training and tuning"
   ]
  },
  {
   "cell_type": "code",
   "execution_count": 19,
   "metadata": {},
   "outputs": [
    {
     "name": "stdout",
     "output_type": "stream",
     "text": [
      "Loading 'train' set\n",
      "  loading  data\n",
      "     shape: (281, 299, 299, 3) - dtype: float64\n",
      "  loading  features\n",
      "     shape: (281, 2048) - dtype: float64\n",
      "  loading  filenames\n",
      "     shape: (281,) - dtype: <U46\n",
      "  loading  labels\n",
      "     shape: (281,) - dtype: int32\n",
      "\n",
      "\n",
      "Loading 'test' set\n",
      "  loading  data\n",
      "     shape: (51, 299, 299, 3) - dtype: float64\n",
      "  loading  features\n",
      "     shape: (51, 2048) - dtype: float64\n",
      "  loading  filenames\n",
      "     shape: (51,) - dtype: <U50\n",
      "  loading  labels\n",
      "     shape: (51,) - dtype: int32\n",
      "\n",
      "\n",
      "Loading 'valid' set\n",
      "  loading  data\n",
      "     shape: (139, 299, 299, 3) - dtype: float64\n",
      "  loading  features\n",
      "     shape: (139, 2048) - dtype: float64\n",
      "  loading  filenames\n",
      "     shape: (139,) - dtype: <U30\n",
      "  loading  labels\n",
      "     shape: (139,) - dtype: int32\n",
      "\n",
      "\n",
      "building 'trainX' set\n",
      "  building  data\n",
      "     shape: (420, 299, 299, 3) - dtype: float64\n",
      "  building  features\n",
      "     shape: (420, 2048) - dtype: float64\n",
      "  building  filenames\n",
      "     shape: (420,) - dtype: <U46\n",
      "  building  labels\n",
      "     shape: (420,) - dtype: int32\n",
      "\n",
      "\n",
      "X['train'] shape: (281, 2048)\n",
      "y['train'] shape: (281, 2048)\n",
      "X['test'] shape: (51, 2048)\n",
      "y['test'] shape: (51, 2048)\n",
      "X['valid'] shape: (139, 2048)\n",
      "y['valid'] shape: (139, 2048)\n",
      "X['trainX'] shape: (420, 2048)\n",
      "y['trainX'] shape: (420, 2048)\n"
     ]
    }
   ],
   "source": [
    "# Run content of mylib.py file\n",
    "%run mylib.py\n",
    "\n",
    "# Load data from NPZ file\n",
    "#data=loadNpz()\n",
    "(data, X, y)=loadXy()"
   ]
  },
  {
   "cell_type": "markdown",
   "metadata": {},
   "source": [
    "## Evaluate without any hyperparameters tuning\n",
    "\n",
    "To do so, I will simply create a LogisticRegression estimator object using default parameters, fit it, and evaluate it agains the *test* dataset.\n",
    "\n",
    "> Note: I've explicitly set some hyperparameters to avoid warnings about default values that will be changed in the future.\n"
   ]
  },
  {
   "cell_type": "code",
   "execution_count": 20,
   "metadata": {},
   "outputs": [
    {
     "name": "stdout",
     "output_type": "stream",
     "text": [
      "Fitting 5 folds for each of 1 candidates, totalling 5 fits\n"
     ]
    },
    {
     "name": "stderr",
     "output_type": "stream",
     "text": [
      "[Parallel(n_jobs=-1)]: Using backend LokyBackend with 12 concurrent workers.\n",
      "[Parallel(n_jobs=-1)]: Done   5 out of   5 | elapsed:    5.2s finished\n"
     ]
    },
    {
     "name": "stdout",
     "output_type": "stream",
     "text": [
      "LogisticRegression score : 96.1%\n"
     ]
    }
   ],
   "source": [
    "from sklearn.linear_model import LogisticRegression\n",
    "from sklearn.pipeline import Pipeline\n",
    "from sklearn.model_selection import GridSearchCV\n",
    "\n",
    "# Cross Validation K-Fold dimension\n",
    "CV=5\n",
    "\n",
    "lr=LogisticRegression()\n",
    "\n",
    "grid_param={\n",
    "    'multi_class': ['auto'],\n",
    "    'C': [1.0],\n",
    "    'solver': ['lbfgs'],\n",
    "    'max_iter': [1000]\n",
    "}\n",
    "\n",
    "\n",
    "\n",
    "grid_lr=GridSearchCV(lr, grid_param, cv=CV, refit=True, return_train_score=True, verbose=True, n_jobs=-1, iid=True)\n",
    "\n",
    "grid_lr.fit(X['trainX'], y['trainX'])\n",
    "\n",
    "accuracy_lr=grid_lr.score(X['test'], y['test'])*100\n",
    "\n",
    "print(\"LogisticRegression score : {:.1f}%\".format(accuracy_lr))\n"
   ]
  },
  {
   "cell_type": "markdown",
   "metadata": {},
   "source": [
    "## Do some hyperparameters tuning with GridSearchCV"
   ]
  },
  {
   "cell_type": "code",
   "execution_count": 22,
   "metadata": {},
   "outputs": [
    {
     "name": "stdout",
     "output_type": "stream",
     "text": [
      "Fitting 5 folds for each of 80 candidates, totalling 400 fits\n"
     ]
    },
    {
     "name": "stderr",
     "output_type": "stream",
     "text": [
      "[Parallel(n_jobs=-1)]: Using backend LokyBackend with 12 concurrent workers.\n",
      "[Parallel(n_jobs=-1)]: Done  26 tasks      | elapsed:    7.2s\n",
      "[Parallel(n_jobs=-1)]: Done 176 tasks      | elapsed:  2.1min\n",
      "[Parallel(n_jobs=-1)]: Done 400 out of 400 | elapsed: 10.7min finished\n"
     ]
    },
    {
     "data": {
      "text/plain": [
       "GridSearchCV(cv=5, error_score='raise-deprecating',\n",
       "       estimator=LogisticRegression(C=1.0, class_weight=None, dual=False, fit_intercept=True,\n",
       "          intercept_scaling=1, max_iter=10000, multi_class='ovr',\n",
       "          n_jobs=None, penalty='l2', random_state=None, solver='liblinear',\n",
       "          tol=0.0001, verbose=0, warm_start=False),\n",
       "       fit_params=None, iid=True, n_jobs=-1,\n",
       "       param_grid={'multi_class': ['ovr', 'auto'], 'C': array([1.00000e-04, 7.74264e-04, 5.99484e-03, 4.64159e-02, 3.59381e-01,\n",
       "       2.78256e+00, 2.15443e+01, 1.66810e+02, 1.29155e+03, 1.00000e+04]), 'solver': ['sag', 'saga', 'lbfgs', 'liblinear'], 'max_iter': [1000]},\n",
       "       pre_dispatch='2*n_jobs', refit=True, return_train_score=True,\n",
       "       scoring=None, verbose=True)"
      ]
     },
     "execution_count": 22,
     "metadata": {},
     "output_type": "execute_result"
    }
   ],
   "source": [
    "\n",
    "lr=LogisticRegression(multi_class='ovr', solver='liblinear', max_iter=10000)\n",
    "\n",
    "grid_param={\n",
    "    'multi_class': ['ovr', 'auto'],\n",
    "    'C': np.logspace(-4, 4, num=10),\n",
    "    'solver': ['sag', 'saga', 'lbfgs', 'liblinear'],\n",
    "    'max_iter': [1000],\n",
    "}\n",
    "\n",
    "grid_lr=GridSearchCV(lr, grid_param, cv=CV, refit=True, return_train_score=True, verbose=True, n_jobs=-1, iid=True)\n",
    "\n",
    "grid_lr.fit(X['trainX'], y['trainX'])\n",
    "\n",
    "\n"
   ]
  },
  {
   "cell_type": "code",
   "execution_count": 23,
   "metadata": {},
   "outputs": [
    {
     "data": {
      "text/html": [
       "<div>\n",
       "<style scoped>\n",
       "    .dataframe tbody tr th:only-of-type {\n",
       "        vertical-align: middle;\n",
       "    }\n",
       "\n",
       "    .dataframe tbody tr th {\n",
       "        vertical-align: top;\n",
       "    }\n",
       "\n",
       "    .dataframe thead th {\n",
       "        text-align: right;\n",
       "    }\n",
       "</style>\n",
       "<table border=\"1\" class=\"dataframe\">\n",
       "  <thead>\n",
       "    <tr style=\"text-align: right;\">\n",
       "      <th></th>\n",
       "      <th>param_solver</th>\n",
       "      <th>param_multi_class</th>\n",
       "      <th>param_C</th>\n",
       "      <th>mean_test_score</th>\n",
       "      <th>std_test_score</th>\n",
       "      <th>mean_train_score</th>\n",
       "    </tr>\n",
       "  </thead>\n",
       "  <tbody>\n",
       "    <tr>\n",
       "      <th>37</th>\n",
       "      <td>saga</td>\n",
       "      <td>auto</td>\n",
       "      <td>0.359381</td>\n",
       "      <td>0.940476</td>\n",
       "      <td>0.011882</td>\n",
       "      <td>1.000000</td>\n",
       "    </tr>\n",
       "    <tr>\n",
       "      <th>36</th>\n",
       "      <td>sag</td>\n",
       "      <td>auto</td>\n",
       "      <td>0.359381</td>\n",
       "      <td>0.940476</td>\n",
       "      <td>0.011882</td>\n",
       "      <td>1.000000</td>\n",
       "    </tr>\n",
       "    <tr>\n",
       "      <th>29</th>\n",
       "      <td>saga</td>\n",
       "      <td>auto</td>\n",
       "      <td>0.0464159</td>\n",
       "      <td>0.935714</td>\n",
       "      <td>0.014651</td>\n",
       "      <td>0.995234</td>\n",
       "    </tr>\n",
       "    <tr>\n",
       "      <th>53</th>\n",
       "      <td>saga</td>\n",
       "      <td>auto</td>\n",
       "      <td>21.5443</td>\n",
       "      <td>0.935714</td>\n",
       "      <td>0.012824</td>\n",
       "      <td>1.000000</td>\n",
       "    </tr>\n",
       "    <tr>\n",
       "      <th>32</th>\n",
       "      <td>sag</td>\n",
       "      <td>ovr</td>\n",
       "      <td>0.359381</td>\n",
       "      <td>0.935714</td>\n",
       "      <td>0.011110</td>\n",
       "      <td>1.000000</td>\n",
       "    </tr>\n",
       "  </tbody>\n",
       "</table>\n",
       "</div>"
      ],
      "text/plain": [
       "   param_solver param_multi_class    param_C  mean_test_score  std_test_score  \\\n",
       "37         saga              auto   0.359381         0.940476        0.011882   \n",
       "36          sag              auto   0.359381         0.940476        0.011882   \n",
       "29         saga              auto  0.0464159         0.935714        0.014651   \n",
       "53         saga              auto    21.5443         0.935714        0.012824   \n",
       "32          sag               ovr   0.359381         0.935714        0.011110   \n",
       "\n",
       "    mean_train_score  \n",
       "37          1.000000  \n",
       "36          1.000000  \n",
       "29          0.995234  \n",
       "53          1.000000  \n",
       "32          1.000000  "
      ]
     },
     "execution_count": 23,
     "metadata": {},
     "output_type": "execute_result"
    }
   ],
   "source": [
    "import pandas as pd\n",
    "\n",
    "columns=['param_solver', 'param_multi_class', 'param_C', 'mean_test_score', 'std_test_score', 'mean_train_score']\n",
    "pd.DataFrame(grid_lr.cv_results_).sort_values('mean_test_score', ascending=False)[columns].head()\n",
    "\n",
    "\n"
   ]
  },
  {
   "cell_type": "code",
   "execution_count": 24,
   "metadata": {},
   "outputs": [
    {
     "name": "stdout",
     "output_type": "stream",
     "text": [
      "LogisticRegression score : 96.1%\n"
     ]
    }
   ],
   "source": [
    "best_lr=grid_lr.best_estimator_\n",
    "\n",
    "best_accuracy_lr=best_lr.score(X['test'], y['test'])*100\n",
    "\n",
    "print(\"LogisticRegression score : {:.1f}%\".format(best_accuracy_lr))\n",
    "\n"
   ]
  },
  {
   "cell_type": "code",
   "execution_count": 25,
   "metadata": {},
   "outputs": [
    {
     "name": "stdout",
     "output_type": "stream",
     "text": [
      "Saving model logistic to model-logistic.sav\n"
     ]
    }
   ],
   "source": [
    "saveModel(best_lr, 'logistic')"
   ]
  },
  {
   "cell_type": "markdown",
   "metadata": {},
   "source": [
    "## Compute probability"
   ]
  },
  {
   "cell_type": "code",
   "execution_count": 42,
   "metadata": {},
   "outputs": [
    {
     "name": "stdout",
     "output_type": "stream",
     "text": [
      "range(0, 10)\n"
     ]
    },
    {
     "data": {
      "text/html": [
       "<div>\n",
       "<style scoped>\n",
       "    .dataframe tbody tr th:only-of-type {\n",
       "        vertical-align: middle;\n",
       "    }\n",
       "\n",
       "    .dataframe tbody tr th {\n",
       "        vertical-align: top;\n",
       "    }\n",
       "\n",
       "    .dataframe thead th {\n",
       "        text-align: right;\n",
       "    }\n",
       "</style>\n",
       "<table border=\"1\" class=\"dataframe\">\n",
       "  <thead>\n",
       "    <tr style=\"text-align: right;\">\n",
       "      <th></th>\n",
       "      <th>bike</th>\n",
       "      <th>car</th>\n",
       "      <th>motorcycle</th>\n",
       "      <th>other</th>\n",
       "      <th>truck</th>\n",
       "      <th>van</th>\n",
       "      <th>labels</th>\n",
       "    </tr>\n",
       "  </thead>\n",
       "  <tbody>\n",
       "    <tr>\n",
       "      <th>0</th>\n",
       "      <td>0.999938</td>\n",
       "      <td>0.000014</td>\n",
       "      <td>0.000005</td>\n",
       "      <td>0.000036</td>\n",
       "      <td>0.000003</td>\n",
       "      <td>0.000004</td>\n",
       "      <td>bike/bike-0100.png</td>\n",
       "    </tr>\n",
       "    <tr>\n",
       "      <th>1</th>\n",
       "      <td>0.999822</td>\n",
       "      <td>0.000077</td>\n",
       "      <td>0.000013</td>\n",
       "      <td>0.000070</td>\n",
       "      <td>0.000009</td>\n",
       "      <td>0.000008</td>\n",
       "      <td>bike/bike-0101.png</td>\n",
       "    </tr>\n",
       "    <tr>\n",
       "      <th>2</th>\n",
       "      <td>0.997962</td>\n",
       "      <td>0.000333</td>\n",
       "      <td>0.000693</td>\n",
       "      <td>0.000749</td>\n",
       "      <td>0.000067</td>\n",
       "      <td>0.000196</td>\n",
       "      <td>bike/bike-0102.png</td>\n",
       "    </tr>\n",
       "    <tr>\n",
       "      <th>3</th>\n",
       "      <td>0.996229</td>\n",
       "      <td>0.002218</td>\n",
       "      <td>0.000316</td>\n",
       "      <td>0.001020</td>\n",
       "      <td>0.000156</td>\n",
       "      <td>0.000060</td>\n",
       "      <td>bike/bike-0103.png</td>\n",
       "    </tr>\n",
       "    <tr>\n",
       "      <th>4</th>\n",
       "      <td>0.999346</td>\n",
       "      <td>0.000168</td>\n",
       "      <td>0.000209</td>\n",
       "      <td>0.000185</td>\n",
       "      <td>0.000035</td>\n",
       "      <td>0.000058</td>\n",
       "      <td>bike/bike-0104.png</td>\n",
       "    </tr>\n",
       "    <tr>\n",
       "      <th>5</th>\n",
       "      <td>0.963822</td>\n",
       "      <td>0.002452</td>\n",
       "      <td>0.026411</td>\n",
       "      <td>0.003200</td>\n",
       "      <td>0.003558</td>\n",
       "      <td>0.000556</td>\n",
       "      <td>bike/bike-0105.png</td>\n",
       "    </tr>\n",
       "    <tr>\n",
       "      <th>6</th>\n",
       "      <td>0.996374</td>\n",
       "      <td>0.000163</td>\n",
       "      <td>0.003031</td>\n",
       "      <td>0.000335</td>\n",
       "      <td>0.000048</td>\n",
       "      <td>0.000050</td>\n",
       "      <td>bike/bike-0106.png</td>\n",
       "    </tr>\n",
       "    <tr>\n",
       "      <th>7</th>\n",
       "      <td>0.997048</td>\n",
       "      <td>0.000133</td>\n",
       "      <td>0.000071</td>\n",
       "      <td>0.002663</td>\n",
       "      <td>0.000040</td>\n",
       "      <td>0.000045</td>\n",
       "      <td>bike/bike-0107.png</td>\n",
       "    </tr>\n",
       "    <tr>\n",
       "      <th>8</th>\n",
       "      <td>0.998247</td>\n",
       "      <td>0.000037</td>\n",
       "      <td>0.001360</td>\n",
       "      <td>0.000294</td>\n",
       "      <td>0.000054</td>\n",
       "      <td>0.000008</td>\n",
       "      <td>bike/bike-0108.png</td>\n",
       "    </tr>\n",
       "    <tr>\n",
       "      <th>9</th>\n",
       "      <td>0.999527</td>\n",
       "      <td>0.000175</td>\n",
       "      <td>0.000040</td>\n",
       "      <td>0.000182</td>\n",
       "      <td>0.000043</td>\n",
       "      <td>0.000032</td>\n",
       "      <td>bike/bike-0109.png</td>\n",
       "    </tr>\n",
       "  </tbody>\n",
       "</table>\n",
       "</div>"
      ],
      "text/plain": [
       "       bike       car  motorcycle     other     truck       van  \\\n",
       "0  0.999938  0.000014    0.000005  0.000036  0.000003  0.000004   \n",
       "1  0.999822  0.000077    0.000013  0.000070  0.000009  0.000008   \n",
       "2  0.997962  0.000333    0.000693  0.000749  0.000067  0.000196   \n",
       "3  0.996229  0.002218    0.000316  0.001020  0.000156  0.000060   \n",
       "4  0.999346  0.000168    0.000209  0.000185  0.000035  0.000058   \n",
       "5  0.963822  0.002452    0.026411  0.003200  0.003558  0.000556   \n",
       "6  0.996374  0.000163    0.003031  0.000335  0.000048  0.000050   \n",
       "7  0.997048  0.000133    0.000071  0.002663  0.000040  0.000045   \n",
       "8  0.998247  0.000037    0.001360  0.000294  0.000054  0.000008   \n",
       "9  0.999527  0.000175    0.000040  0.000182  0.000043  0.000032   \n",
       "\n",
       "               labels  \n",
       "0  bike/bike-0100.png  \n",
       "1  bike/bike-0101.png  \n",
       "2  bike/bike-0102.png  \n",
       "3  bike/bike-0103.png  \n",
       "4  bike/bike-0104.png  \n",
       "5  bike/bike-0105.png  \n",
       "6  bike/bike-0106.png  \n",
       "7  bike/bike-0107.png  \n",
       "8  bike/bike-0108.png  \n",
       "9  bike/bike-0109.png  "
      ]
     },
     "execution_count": 42,
     "metadata": {},
     "output_type": "execute_result"
    }
   ],
   "source": [
    "idx=range(0,10)\n",
    "\n",
    "print(idx)\n",
    "\n",
    "proba_df=pd.DataFrame(best_lr.predict_proba(X['test'][idx]), columns=data['class_name'])\n",
    "\n",
    "proba_df['labels']=data['test']['filenames'][idx]\n",
    "proba_df\n"
   ]
  },
  {
   "cell_type": "code",
   "execution_count": null,
   "metadata": {},
   "outputs": [],
   "source": []
  }
 ],
 "metadata": {
  "kernelspec": {
   "display_name": "Python 3",
   "language": "python",
   "name": "python3"
  },
  "language_info": {
   "codemirror_mode": {
    "name": "ipython",
    "version": 3
   },
   "file_extension": ".py",
   "mimetype": "text/x-python",
   "name": "python",
   "nbconvert_exporter": "python",
   "pygments_lexer": "ipython3",
   "version": "3.6.10"
  }
 },
 "nbformat": 4,
 "nbformat_minor": 4
}
