{
 "cells": [
  {
   "cell_type": "markdown",
   "metadata": {},
   "source": [
    "# Logistic Regresssion"
   ]
  },
  {
   "cell_type": "markdown",
   "metadata": {},
   "source": [
    "## Load X,y data from NPZ\n",
    "\n",
    "Using the function added to *mylib.py* file, it's now easy to grab data and X/y vectors ready to be used for model training and tuning"
   ]
  },
  {
   "cell_type": "code",
   "execution_count": 19,
   "metadata": {},
   "outputs": [
    {
     "name": "stdout",
     "output_type": "stream",
     "text": [
      "Loading 'train' set\n",
      "  loading  data\n",
      "     shape: (281, 299, 299, 3) - dtype: float64\n",
      "  loading  features\n",
      "     shape: (281, 2048) - dtype: float64\n",
      "  loading  filenames\n",
      "     shape: (281,) - dtype: <U46\n",
      "  loading  labels\n",
      "     shape: (281,) - dtype: int32\n",
      "\n",
      "\n",
      "Loading 'test' set\n",
      "  loading  data\n",
      "     shape: (51, 299, 299, 3) - dtype: float64\n",
      "  loading  features\n",
      "     shape: (51, 2048) - dtype: float64\n",
      "  loading  filenames\n",
      "     shape: (51,) - dtype: <U50\n",
      "  loading  labels\n",
      "     shape: (51,) - dtype: int32\n",
      "\n",
      "\n",
      "Loading 'valid' set\n",
      "  loading  data\n",
      "     shape: (139, 299, 299, 3) - dtype: float64\n",
      "  loading  features\n",
      "     shape: (139, 2048) - dtype: float64\n",
      "  loading  filenames\n",
      "     shape: (139,) - dtype: <U30\n",
      "  loading  labels\n",
      "     shape: (139,) - dtype: int32\n",
      "\n",
      "\n",
      "building 'trainX' set\n",
      "  building  data\n",
      "     shape: (420, 299, 299, 3) - dtype: float64\n",
      "  building  features\n",
      "     shape: (420, 2048) - dtype: float64\n",
      "  building  filenames\n",
      "     shape: (420,) - dtype: <U46\n",
      "  building  labels\n",
      "     shape: (420,) - dtype: int32\n",
      "\n",
      "\n",
      "X['train'] shape: (281, 2048)\n",
      "y['train'] shape: (281, 2048)\n",
      "X['test'] shape: (51, 2048)\n",
      "y['test'] shape: (51, 2048)\n",
      "X['valid'] shape: (139, 2048)\n",
      "y['valid'] shape: (139, 2048)\n",
      "X['trainX'] shape: (420, 2048)\n",
      "y['trainX'] shape: (420, 2048)\n"
     ]
    }
   ],
   "source": [
    "# Run content of mylib.py file\n",
    "%run mylib.py\n",
    "\n",
    "# Load data from NPZ file\n",
    "#data=loadNpz()\n",
    "(data, X, y)=loadXy()"
   ]
  },
  {
   "cell_type": "markdown",
   "metadata": {},
   "source": [
    "## Evaluate without any hyperparameters tuning\n",
    "\n",
    "To do so, I will simply create a LogisticRegression estimator object using default parameters, fit it, and evaluate it agains the *test* dataset.\n",
    "\n",
    "> Note: I've explicitly set some hyperparameters to avoid warnings about default values that will be changed in the future.\n"
   ]
  },
  {
   "cell_type": "code",
   "execution_count": 20,
   "metadata": {},
   "outputs": [
    {
     "name": "stdout",
     "output_type": "stream",
     "text": [
      "Fitting 5 folds for each of 1 candidates, totalling 5 fits\n"
     ]
    },
    {
     "name": "stderr",
     "output_type": "stream",
     "text": [
      "[Parallel(n_jobs=-1)]: Using backend LokyBackend with 12 concurrent workers.\n",
      "[Parallel(n_jobs=-1)]: Done   5 out of   5 | elapsed:    5.2s finished\n"
     ]
    },
    {
     "name": "stdout",
     "output_type": "stream",
     "text": [
      "LogisticRegression score : 96.1%\n"
     ]
    }
   ],
   "source": [
    "from sklearn.linear_model import LogisticRegression\n",
    "from sklearn.pipeline import Pipeline\n",
    "from sklearn.model_selection import GridSearchCV\n",
    "\n",
    "# Cross Validation K-Fold dimension\n",
    "CV=5\n",
    "\n",
    "lr=LogisticRegression()\n",
    "\n",
    "grid_param={\n",
    "    'multi_class': ['auto'],\n",
    "    'C': [1.0],\n",
    "    'solver': ['lbfgs'],\n",
    "    'max_iter': [1000]\n",
    "}\n",
    "\n",
    "\n",
    "\n",
    "grid_lr=GridSearchCV(lr, grid_param, cv=CV, refit=True, return_train_score=True, verbose=True, n_jobs=-1, iid=True)\n",
    "\n",
    "grid_lr.fit(X['trainX'], y['trainX'])\n",
    "\n",
    "accuracy_lr=grid_lr.score(X['test'], y['test'])*100\n",
    "\n",
    "print(\"LogisticRegression score : {:.1f}%\".format(accuracy_lr))\n"
   ]
  },
  {
   "cell_type": "markdown",
   "metadata": {},
   "source": [
    "## Do some hyperparameters tuning with GridSearchCV"
   ]
  },
  {
   "cell_type": "code",
   "execution_count": 22,
   "metadata": {},
   "outputs": [
    {
     "name": "stdout",
     "output_type": "stream",
     "text": [
      "Fitting 5 folds for each of 80 candidates, totalling 400 fits\n"
     ]
    },
    {
     "name": "stderr",
     "output_type": "stream",
     "text": [
      "[Parallel(n_jobs=-1)]: Using backend LokyBackend with 12 concurrent workers.\n",
      "[Parallel(n_jobs=-1)]: Done  26 tasks      | elapsed:    7.2s\n",
      "[Parallel(n_jobs=-1)]: Done 176 tasks      | elapsed:  2.1min\n",
      "[Parallel(n_jobs=-1)]: Done 400 out of 400 | elapsed: 10.7min finished\n"
     ]
    },
    {
     "data": {
      "text/plain": [
       "GridSearchCV(cv=5, error_score='raise-deprecating',\n",
       "       estimator=LogisticRegression(C=1.0, class_weight=None, dual=False, fit_intercept=True,\n",
       "          intercept_scaling=1, max_iter=10000, multi_class='ovr',\n",
       "          n_jobs=None, penalty='l2', random_state=None, solver='liblinear',\n",
       "          tol=0.0001, verbose=0, warm_start=False),\n",
       "       fit_params=None, iid=True, n_jobs=-1,\n",
       "       param_grid={'multi_class': ['ovr', 'auto'], 'C': array([1.00000e-04, 7.74264e-04, 5.99484e-03, 4.64159e-02, 3.59381e-01,\n",
       "       2.78256e+00, 2.15443e+01, 1.66810e+02, 1.29155e+03, 1.00000e+04]), 'solver': ['sag', 'saga', 'lbfgs', 'liblinear'], 'max_iter': [1000]},\n",
       "       pre_dispatch='2*n_jobs', refit=True, return_train_score=True,\n",
       "       scoring=None, verbose=True)"
      ]
     },
     "execution_count": 22,
     "metadata": {},
     "output_type": "execute_result"
    }
   ],
   "source": [
    "\n",
    "lr=LogisticRegression(multi_class='ovr', solver='liblinear', max_iter=10000)\n",
    "\n",
    "grid_param={\n",
    "    'multi_class': ['ovr', 'auto'],\n",
    "    'C': np.logspace(-4, 4, num=10),\n",
    "    'solver': ['sag', 'saga', 'lbfgs', 'liblinear'],\n",
    "    'max_iter': [1000],\n",
    "}\n",
    "\n",
    "grid_lr=GridSearchCV(lr, grid_param, cv=CV, refit=True, return_train_score=True, verbose=True, n_jobs=-1, iid=True)\n",
    "\n",
    "grid_lr.fit(X['trainX'], y['trainX'])\n",
    "\n",
    "\n"
   ]
  },
  {
   "cell_type": "code",
   "execution_count": 23,
   "metadata": {},
   "outputs": [
    {
     "data": {
      "text/html": [
       "<div>\n",
       "<style scoped>\n",
       "    .dataframe tbody tr th:only-of-type {\n",
       "        vertical-align: middle;\n",
       "    }\n",
       "\n",
       "    .dataframe tbody tr th {\n",
       "        vertical-align: top;\n",
       "    }\n",
       "\n",
       "    .dataframe thead th {\n",
       "        text-align: right;\n",
       "    }\n",
       "</style>\n",
       "<table border=\"1\" class=\"dataframe\">\n",
       "  <thead>\n",
       "    <tr style=\"text-align: right;\">\n",
       "      <th></th>\n",
       "      <th>param_solver</th>\n",
       "      <th>param_multi_class</th>\n",
       "      <th>param_C</th>\n",
       "      <th>mean_test_score</th>\n",
       "      <th>std_test_score</th>\n",
       "      <th>mean_train_score</th>\n",
       "    </tr>\n",
       "  </thead>\n",
       "  <tbody>\n",
       "    <tr>\n",
       "      <th>37</th>\n",
       "      <td>saga</td>\n",
       "      <td>auto</td>\n",
       "      <td>0.359381</td>\n",
       "      <td>0.940476</td>\n",
       "      <td>0.011882</td>\n",
       "      <td>1.000000</td>\n",
       "    </tr>\n",
       "    <tr>\n",
       "      <th>36</th>\n",
       "      <td>sag</td>\n",
       "      <td>auto</td>\n",
       "      <td>0.359381</td>\n",
       "      <td>0.940476</td>\n",
       "      <td>0.011882</td>\n",
       "      <td>1.000000</td>\n",
       "    </tr>\n",
       "    <tr>\n",
       "      <th>29</th>\n",
       "      <td>saga</td>\n",
       "      <td>auto</td>\n",
       "      <td>0.0464159</td>\n",
       "      <td>0.935714</td>\n",
       "      <td>0.014651</td>\n",
       "      <td>0.995234</td>\n",
       "    </tr>\n",
       "    <tr>\n",
       "      <th>53</th>\n",
       "      <td>saga</td>\n",
       "      <td>auto</td>\n",
       "      <td>21.5443</td>\n",
       "      <td>0.935714</td>\n",
       "      <td>0.012824</td>\n",
       "      <td>1.000000</td>\n",
       "    </tr>\n",
       "    <tr>\n",
       "      <th>32</th>\n",
       "      <td>sag</td>\n",
       "      <td>ovr</td>\n",
       "      <td>0.359381</td>\n",
       "      <td>0.935714</td>\n",
       "      <td>0.011110</td>\n",
       "      <td>1.000000</td>\n",
       "    </tr>\n",
       "  </tbody>\n",
       "</table>\n",
       "</div>"
      ],
      "text/plain": [
       "   param_solver param_multi_class    param_C  mean_test_score  std_test_score  \\\n",
       "37         saga              auto   0.359381         0.940476        0.011882   \n",
       "36          sag              auto   0.359381         0.940476        0.011882   \n",
       "29         saga              auto  0.0464159         0.935714        0.014651   \n",
       "53         saga              auto    21.5443         0.935714        0.012824   \n",
       "32          sag               ovr   0.359381         0.935714        0.011110   \n",
       "\n",
       "    mean_train_score  \n",
       "37          1.000000  \n",
       "36          1.000000  \n",
       "29          0.995234  \n",
       "53          1.000000  \n",
       "32          1.000000  "
      ]
     },
     "execution_count": 23,
     "metadata": {},
     "output_type": "execute_result"
    }
   ],
   "source": [
    "import pandas as pd\n",
    "\n",
    "columns=['param_solver', 'param_multi_class', 'param_C', 'mean_test_score', 'std_test_score', 'mean_train_score']\n",
    "pd.DataFrame(grid_lr.cv_results_).sort_values('mean_test_score', ascending=False)[columns].head()\n",
    "\n",
    "\n"
   ]
  },
  {
   "cell_type": "code",
   "execution_count": 24,
   "metadata": {},
   "outputs": [
    {
     "name": "stdout",
     "output_type": "stream",
     "text": [
      "LogisticRegression score : 96.1%\n"
     ]
    }
   ],
   "source": [
    "best_lr=grid_lr.best_estimator_\n",
    "\n",
    "best_accuracy_lr=best_lr.score(X['test'], y['test'])*100\n",
    "\n",
    "print(\"LogisticRegression score : {:.1f}%\".format(best_accuracy_lr))\n",
    "\n"
   ]
  },
  {
   "cell_type": "code",
   "execution_count": 25,
   "metadata": {},
   "outputs": [
    {
     "name": "stdout",
     "output_type": "stream",
     "text": [
      "Saving model logistic to model-logistic.sav\n"
     ]
    }
   ],
   "source": [
    "saveModel(best_lr, 'logistic')"
   ]
  },
  {
   "cell_type": "markdown",
   "metadata": {},
   "source": [
    "## Compute probability"
   ]
  },
  {
   "cell_type": "code",
   "execution_count": 44,
   "metadata": {},
   "outputs": [
    {
     "name": "stdout",
     "output_type": "stream",
     "text": [
      "[0, 10, 20, 30, 40, 50, 60, 70, 80, 90]\n"
     ]
    },
    {
     "data": {
      "text/html": [
       "<div>\n",
       "<style scoped>\n",
       "    .dataframe tbody tr th:only-of-type {\n",
       "        vertical-align: middle;\n",
       "    }\n",
       "\n",
       "    .dataframe tbody tr th {\n",
       "        vertical-align: top;\n",
       "    }\n",
       "\n",
       "    .dataframe thead th {\n",
       "        text-align: right;\n",
       "    }\n",
       "</style>\n",
       "<table border=\"1\" class=\"dataframe\">\n",
       "  <thead>\n",
       "    <tr style=\"text-align: right;\">\n",
       "      <th></th>\n",
       "      <th>bike</th>\n",
       "      <th>car</th>\n",
       "      <th>motorcycle</th>\n",
       "      <th>other</th>\n",
       "      <th>truck</th>\n",
       "      <th>van</th>\n",
       "      <th>labels</th>\n",
       "    </tr>\n",
       "  </thead>\n",
       "  <tbody>\n",
       "    <tr>\n",
       "      <th>0</th>\n",
       "      <td>0.998757</td>\n",
       "      <td>0.000240</td>\n",
       "      <td>0.000152</td>\n",
       "      <td>0.000570</td>\n",
       "      <td>0.000097</td>\n",
       "      <td>0.000184</td>\n",
       "      <td>bike/bike-0001.png</td>\n",
       "    </tr>\n",
       "    <tr>\n",
       "      <th>1</th>\n",
       "      <td>0.999584</td>\n",
       "      <td>0.000105</td>\n",
       "      <td>0.000109</td>\n",
       "      <td>0.000181</td>\n",
       "      <td>0.000009</td>\n",
       "      <td>0.000012</td>\n",
       "      <td>bike/bike-0011.png</td>\n",
       "    </tr>\n",
       "    <tr>\n",
       "      <th>2</th>\n",
       "      <td>0.998002</td>\n",
       "      <td>0.000731</td>\n",
       "      <td>0.000102</td>\n",
       "      <td>0.000919</td>\n",
       "      <td>0.000169</td>\n",
       "      <td>0.000076</td>\n",
       "      <td>bike/bike-0021.png</td>\n",
       "    </tr>\n",
       "    <tr>\n",
       "      <th>3</th>\n",
       "      <td>0.998835</td>\n",
       "      <td>0.000246</td>\n",
       "      <td>0.000338</td>\n",
       "      <td>0.000492</td>\n",
       "      <td>0.000027</td>\n",
       "      <td>0.000062</td>\n",
       "      <td>bike/bike-0031.png</td>\n",
       "    </tr>\n",
       "    <tr>\n",
       "      <th>4</th>\n",
       "      <td>0.999398</td>\n",
       "      <td>0.000224</td>\n",
       "      <td>0.000026</td>\n",
       "      <td>0.000273</td>\n",
       "      <td>0.000029</td>\n",
       "      <td>0.000049</td>\n",
       "      <td>bike/bike-0041.png</td>\n",
       "    </tr>\n",
       "    <tr>\n",
       "      <th>5</th>\n",
       "      <td>0.999153</td>\n",
       "      <td>0.000250</td>\n",
       "      <td>0.000031</td>\n",
       "      <td>0.000497</td>\n",
       "      <td>0.000024</td>\n",
       "      <td>0.000045</td>\n",
       "      <td>bike/bike-0051.png</td>\n",
       "    </tr>\n",
       "    <tr>\n",
       "      <th>6</th>\n",
       "      <td>0.997892</td>\n",
       "      <td>0.001015</td>\n",
       "      <td>0.000492</td>\n",
       "      <td>0.000070</td>\n",
       "      <td>0.000016</td>\n",
       "      <td>0.000515</td>\n",
       "      <td>bike/bike-0061.png</td>\n",
       "    </tr>\n",
       "    <tr>\n",
       "      <th>7</th>\n",
       "      <td>0.000524</td>\n",
       "      <td>0.994302</td>\n",
       "      <td>0.000162</td>\n",
       "      <td>0.000726</td>\n",
       "      <td>0.000056</td>\n",
       "      <td>0.004230</td>\n",
       "      <td>car/car-0005.png</td>\n",
       "    </tr>\n",
       "    <tr>\n",
       "      <th>8</th>\n",
       "      <td>0.000019</td>\n",
       "      <td>0.999811</td>\n",
       "      <td>0.000018</td>\n",
       "      <td>0.000028</td>\n",
       "      <td>0.000006</td>\n",
       "      <td>0.000117</td>\n",
       "      <td>car/car-0015.png</td>\n",
       "    </tr>\n",
       "    <tr>\n",
       "      <th>9</th>\n",
       "      <td>0.000045</td>\n",
       "      <td>0.999520</td>\n",
       "      <td>0.000011</td>\n",
       "      <td>0.000088</td>\n",
       "      <td>0.000010</td>\n",
       "      <td>0.000326</td>\n",
       "      <td>car/car-0025.png</td>\n",
       "    </tr>\n",
       "  </tbody>\n",
       "</table>\n",
       "</div>"
      ],
      "text/plain": [
       "       bike       car  motorcycle     other     truck       van  \\\n",
       "0  0.998757  0.000240    0.000152  0.000570  0.000097  0.000184   \n",
       "1  0.999584  0.000105    0.000109  0.000181  0.000009  0.000012   \n",
       "2  0.998002  0.000731    0.000102  0.000919  0.000169  0.000076   \n",
       "3  0.998835  0.000246    0.000338  0.000492  0.000027  0.000062   \n",
       "4  0.999398  0.000224    0.000026  0.000273  0.000029  0.000049   \n",
       "5  0.999153  0.000250    0.000031  0.000497  0.000024  0.000045   \n",
       "6  0.997892  0.001015    0.000492  0.000070  0.000016  0.000515   \n",
       "7  0.000524  0.994302    0.000162  0.000726  0.000056  0.004230   \n",
       "8  0.000019  0.999811    0.000018  0.000028  0.000006  0.000117   \n",
       "9  0.000045  0.999520    0.000011  0.000088  0.000010  0.000326   \n",
       "\n",
       "               labels  \n",
       "0  bike/bike-0001.png  \n",
       "1  bike/bike-0011.png  \n",
       "2  bike/bike-0021.png  \n",
       "3  bike/bike-0031.png  \n",
       "4  bike/bike-0041.png  \n",
       "5  bike/bike-0051.png  \n",
       "6  bike/bike-0061.png  \n",
       "7    car/car-0005.png  \n",
       "8    car/car-0015.png  \n",
       "9    car/car-0025.png  "
      ]
     },
     "execution_count": 44,
     "metadata": {},
     "output_type": "execute_result"
    }
   ],
   "source": [
    "idx=[x*10 for x in range(10)]\n",
    "\n",
    "print(idx)\n",
    "\n",
    "proba_df=pd.DataFrame(best_lr.predict_proba(X['train'][idx]), columns=data['class_name'])\n",
    "\n",
    "proba_df['labels']=data['train']['filenames'][idx]\n",
    "proba_df\n"
   ]
  },
  {
   "cell_type": "code",
   "execution_count": null,
   "metadata": {},
   "outputs": [],
   "source": []
  }
 ],
 "metadata": {
  "kernelspec": {
   "display_name": "Python 3",
   "language": "python",
   "name": "python3"
  },
  "language_info": {
   "codemirror_mode": {
    "name": "ipython",
    "version": 3
   },
   "file_extension": ".py",
   "mimetype": "text/x-python",
   "name": "python",
   "nbconvert_exporter": "python",
   "pygments_lexer": "ipython3",
   "version": "3.6.10"
  }
 },
 "nbformat": 4,
 "nbformat_minor": 4
}
