{
 "cells": [
  {
   "cell_type": "markdown",
   "metadata": {},
   "source": [
    "# Simple decision trees"
   ]
  },
  {
   "cell_type": "markdown",
   "metadata": {},
   "source": [
    "## Load X,y data from NPZ\n",
    "\n",
    "Using the function added to *mylib.py* file, it's now easy to grab data and X/y vectors ready to be used for model training and tuning"
   ]
  },
  {
   "cell_type": "code",
   "execution_count": 1,
   "metadata": {},
   "outputs": [
    {
     "name": "stdout",
     "output_type": "stream",
     "text": [
      "Loading 'train' set\n",
      "  loading  data\n",
      "     shape: (281, 299, 299, 3) - dtype: float64\n",
      "  loading  features\n",
      "     shape: (281, 2048) - dtype: float64\n",
      "  loading  filenames\n",
      "     shape: (281,) - dtype: <U46\n",
      "  loading  labels\n",
      "     shape: (281,) - dtype: int32\n",
      "\n",
      "\n",
      "Loading 'test' set\n",
      "  loading  data\n",
      "     shape: (51, 299, 299, 3) - dtype: float64\n",
      "  loading  features\n",
      "     shape: (51, 2048) - dtype: float64\n",
      "  loading  filenames\n",
      "     shape: (51,) - dtype: <U50\n",
      "  loading  labels\n",
      "     shape: (51,) - dtype: int32\n",
      "\n",
      "\n",
      "Loading 'valid' set\n",
      "  loading  data\n",
      "     shape: (139, 299, 299, 3) - dtype: float64\n",
      "  loading  features\n",
      "     shape: (139, 2048) - dtype: float64\n",
      "  loading  filenames\n",
      "     shape: (139,) - dtype: <U30\n",
      "  loading  labels\n",
      "     shape: (139,) - dtype: int32\n",
      "\n",
      "\n",
      "building 'valid' set\n",
      "  building  data\n",
      "     shape: (420, 299, 299, 3) - dtype: float64\n",
      "  building  features\n",
      "     shape: (420, 2048) - dtype: float64\n",
      "  building  filenames\n",
      "     shape: (420,) - dtype: <U46\n",
      "  building  labels\n",
      "     shape: (420,) - dtype: int32\n",
      "\n",
      "\n",
      "X['train'] shape: (281, 2048)\n",
      "y['train'] shape: (281, 2048)\n",
      "X['test'] shape: (51, 2048)\n",
      "y['test'] shape: (51, 2048)\n",
      "X['valid'] shape: (139, 2048)\n",
      "y['valid'] shape: (139, 2048)\n",
      "X['trainX'] shape: (420, 2048)\n",
      "y['trainX'] shape: (420, 2048)\n"
     ]
    }
   ],
   "source": [
    "# Run content of mylib.py file\n",
    "%run mylib.py\n",
    "\n",
    "# Load data from NPZ file\n",
    "#data=loadNpz()\n",
    "(data, X, y)=loadXy()"
   ]
  },
  {
   "cell_type": "markdown",
   "metadata": {},
   "source": [
    "## How I will fit a Simple Decision Tree\n",
    "\n",
    "In that Notebook, I will fit a DecisionTreeClassifier.\n",
    "\n",
    "First, I will perform a grid search on some hyper-parameters with a *max_depth* value of 3, this is to answer the questions:\n",
    "\n",
    "* What accuracy can you achieve with a depth of 3?\n",
    "* Plot the corresponding tree with graphviz\n",
    "* Do you get better results if you reduce the number of dimensions with PCA first?\n",
    "\n",
    "Second, I'll redo a grid search using different values for the *max_depth* parameter and see what append. If I get better results, I'll use it to evaluate the model and compare to others.\n",
    "\n",
    "I'll save on disk the model with the best hyperparameters, and I'll use that one at the end of this project (I do not limit the *max_depth* to 3)\n",
    "\n",
    "Grid search parameters will include a PCA fit on the data (I'll build pipelines to do so). I've decided to vary PCA component number to the following value of total variance:\n",
    "\n",
    "* 90% => 128 components\n",
    "* 80% => 76 components\n",
    "* 50% => 16 components\n",
    "\n",
    "> Note: values above have been taken from the results available in the Notebook No 02\n",
    "\n",
    "Let's define some constant I will use across the Notebook."
   ]
  },
  {
   "cell_type": "code",
   "execution_count": 2,
   "metadata": {},
   "outputs": [],
   "source": [
    "# cv parameter of the GridSearchCV object\n",
    "CV=5\n",
    "\n",
    "# max tree depth to use in model\n",
    "MAX_DEPTH=3"
   ]
  },
  {
   "cell_type": "markdown",
   "metadata": {},
   "source": [
    "## Fit with fixed max_depth=3\n",
    "\n",
    "Job is quite simple. I use a Pipeline object, with a PCA() and DecisionTreeClassifier() object.\n",
    "\n",
    "Then I'll define Grid parameters to make diffrent tries with:\n",
    "* n_components of the PCA() object\n",
    "* critierion of the DecisionTreeClassifier object\n",
    "\n",
    "At that point, *max_depth* is defined in the Grid parameters but the value is set to only one: [MAX_DEPTH]\n",
    "\n",
    "Finally, I will fit the GridSearchCV using the *trainX* dataset (*train* + *valid*)"
   ]
  },
  {
   "cell_type": "code",
   "execution_count": 3,
   "metadata": {},
   "outputs": [
    {
     "name": "stdout",
     "output_type": "stream",
     "text": [
      "Fitting 5 folds for each of 8 candidates, totalling 40 fits\n"
     ]
    },
    {
     "name": "stderr",
     "output_type": "stream",
     "text": [
      "[Parallel(n_jobs=-1)]: Using backend LokyBackend with 12 concurrent workers.\n",
      "[Parallel(n_jobs=-1)]: Done  40 out of  40 | elapsed:    3.4s finished\n"
     ]
    },
    {
     "data": {
      "text/plain": [
       "GridSearchCV(cv=5, error_score='raise-deprecating',\n",
       "       estimator=Pipeline(memory=None,\n",
       "     steps=[('pca', PCA(copy=True, iterated_power='auto', n_components=None, random_state=None,\n",
       "  svd_solver='auto', tol=0.0, whiten=False)), ('dt', DecisionTreeClassifier(class_weight=None, criterion='gini', max_depth=3,\n",
       "            max_features=None, max_leaf_nodes=...        min_weight_fraction_leaf=0.0, presort=False, random_state=0,\n",
       "            splitter='best'))]),\n",
       "       fit_params=None, iid=True, n_jobs=-1,\n",
       "       param_grid={'dt__criterion': ['gini', 'entropy'], 'dt__max_depth': [3], 'pca__n_components': [None, 128, 76, 16]},\n",
       "       pre_dispatch='2*n_jobs', refit=True, return_train_score=True,\n",
       "       scoring=None, verbose=True)"
      ]
     },
     "execution_count": 3,
     "metadata": {},
     "output_type": "execute_result"
    }
   ],
   "source": [
    "from sklearn.model_selection import GridSearchCV\n",
    "from sklearn.pipeline import Pipeline\n",
    "from sklearn.decomposition import PCA\n",
    "from sklearn.tree import DecisionTreeClassifier\n",
    "\n",
    "# define DecisionTreeClassifier\n",
    "dt=DecisionTreeClassifier(criterion='gini', max_depth=MAX_DEPTH, random_state=0)\n",
    "\n",
    "# Create the pipeline and fit it to training data\n",
    "dt_pipe = Pipeline([\n",
    "    ('pca', PCA(n_components=None)),\n",
    "    ('dt', dt)\n",
    "    \n",
    "])\n",
    "\n",
    "# Here are the different parameters I will vary\n",
    "dt_grid_param={\n",
    "    'dt__criterion': ['gini', 'entropy'],\n",
    "    'dt__max_depth': [3],\n",
    "    'pca__n_components': [None, 128, 76, 16]\n",
    "}\n",
    "\n",
    "# Build the GridSearchCV object using versbose and parallel execution options\n",
    "grid_dt=GridSearchCV(dt_pipe, dt_grid_param, cv=CV, refit=True, return_train_score=True, verbose=True, n_jobs=-1, iid=True)\n",
    "\n",
    "\n",
    "# Fit the model\n",
    "grid_dt.fit(X['trainX'], y['trainX'])\n"
   ]
  },
  {
   "cell_type": "markdown",
   "metadata": {},
   "source": [
    "Display the top 5 best score obtained by the model as a *Panda.Dataframe* for smarter reading."
   ]
  },
  {
   "cell_type": "code",
   "execution_count": 4,
   "metadata": {},
   "outputs": [
    {
     "data": {
      "text/html": [
       "<div>\n",
       "<style scoped>\n",
       "    .dataframe tbody tr th:only-of-type {\n",
       "        vertical-align: middle;\n",
       "    }\n",
       "\n",
       "    .dataframe tbody tr th {\n",
       "        vertical-align: top;\n",
       "    }\n",
       "\n",
       "    .dataframe thead th {\n",
       "        text-align: right;\n",
       "    }\n",
       "</style>\n",
       "<table border=\"1\" class=\"dataframe\">\n",
       "  <thead>\n",
       "    <tr style=\"text-align: right;\">\n",
       "      <th></th>\n",
       "      <th>param_dt__criterion</th>\n",
       "      <th>param_dt__max_depth</th>\n",
       "      <th>param_pca__n_components</th>\n",
       "      <th>mean_test_score</th>\n",
       "      <th>std_test_score</th>\n",
       "      <th>mean_train_score</th>\n",
       "    </tr>\n",
       "  </thead>\n",
       "  <tbody>\n",
       "    <tr>\n",
       "      <th>5</th>\n",
       "      <td>entropy</td>\n",
       "      <td>3</td>\n",
       "      <td>128</td>\n",
       "      <td>0.797619</td>\n",
       "      <td>0.051932</td>\n",
       "      <td>0.847065</td>\n",
       "    </tr>\n",
       "    <tr>\n",
       "      <th>4</th>\n",
       "      <td>entropy</td>\n",
       "      <td>3</td>\n",
       "      <td>None</td>\n",
       "      <td>0.795238</td>\n",
       "      <td>0.055535</td>\n",
       "      <td>0.847065</td>\n",
       "    </tr>\n",
       "    <tr>\n",
       "      <th>6</th>\n",
       "      <td>entropy</td>\n",
       "      <td>3</td>\n",
       "      <td>76</td>\n",
       "      <td>0.795238</td>\n",
       "      <td>0.055535</td>\n",
       "      <td>0.847666</td>\n",
       "    </tr>\n",
       "    <tr>\n",
       "      <th>7</th>\n",
       "      <td>entropy</td>\n",
       "      <td>3</td>\n",
       "      <td>16</td>\n",
       "      <td>0.792857</td>\n",
       "      <td>0.055329</td>\n",
       "      <td>0.847666</td>\n",
       "    </tr>\n",
       "    <tr>\n",
       "      <th>0</th>\n",
       "      <td>gini</td>\n",
       "      <td>3</td>\n",
       "      <td>None</td>\n",
       "      <td>0.778571</td>\n",
       "      <td>0.019734</td>\n",
       "      <td>0.792878</td>\n",
       "    </tr>\n",
       "  </tbody>\n",
       "</table>\n",
       "</div>"
      ],
      "text/plain": [
       "  param_dt__criterion param_dt__max_depth param_pca__n_components  \\\n",
       "5             entropy                   3                     128   \n",
       "4             entropy                   3                    None   \n",
       "6             entropy                   3                      76   \n",
       "7             entropy                   3                      16   \n",
       "0                gini                   3                    None   \n",
       "\n",
       "   mean_test_score  std_test_score  mean_train_score  \n",
       "5         0.797619        0.051932          0.847065  \n",
       "4         0.795238        0.055535          0.847065  \n",
       "6         0.795238        0.055535          0.847666  \n",
       "7         0.792857        0.055329          0.847666  \n",
       "0         0.778571        0.019734          0.792878  "
      ]
     },
     "execution_count": 4,
     "metadata": {},
     "output_type": "execute_result"
    }
   ],
   "source": [
    "import pandas as pd\n",
    "\n",
    "# Display top 5 best test score\n",
    "columns=[\n",
    "    'param_dt__criterion', 'param_dt__max_depth', 'param_pca__n_components', 'mean_test_score', 'std_test_score', 'mean_train_score'\n",
    "]\n",
    "pd.DataFrame(grid_dt.cv_results_).sort_values('mean_test_score', ascending=False)[columns].head(5)\n"
   ]
  },
  {
   "cell_type": "markdown",
   "metadata": {},
   "source": [
    "### What accuracy can you achieve with a depth of 3?\n",
    "\n",
    "I can now answer to that question by retrieving the best estimator found by the *GridSearcCV*, evaluate its score against the *Xtest* dataset and compare it to the K-NN score.\n",
    "\n",
    "> Note: For the K-NN score, I will use the *loadModel()* function from my *mylib.py* library file"
   ]
  },
  {
   "cell_type": "code",
   "execution_count": 5,
   "metadata": {},
   "outputs": [
    {
     "name": "stdout",
     "output_type": "stream",
     "text": [
      "Loading model from  model-knn.sav\n",
      "Model loaded using pickle()\n",
      "DecisionTree score : 80.4%\n",
      "K-NN score         : 92.2%\n",
      "Better model is K-NN\n"
     ]
    }
   ],
   "source": [
    "# Get the best_estimator_ from grid_dt\n",
    "best_dt=grid_dt.best_estimator_\n",
    "\n",
    "# Evaluate DecisionTree score\n",
    "accuracy_dt=best_dt.score(X['test'], y['test'])\n",
    "\n",
    "# Load K-NN model\n",
    "knn=loadModel('knn')\n",
    "\n",
    "# Evaluate knn score\n",
    "accuracy_knn=knn.score(X['test'], y['test'])\n",
    "\n",
    "\n",
    "# Compare models score\n",
    "print(\"DecisionTree score : {:.1f}%\".format(accuracy_dt*100))\n",
    "print(\"K-NN score         : {:.1f}%\".format(accuracy_knn*100))\n",
    "if(accuracy_dt > accuracy_knn):\n",
    "    print(\"Better model is DecisionTree\")\n",
    "else:\n",
    "    print(\"Better model is K-NN\")\n"
   ]
  },
  {
   "cell_type": "markdown",
   "metadata": {},
   "source": [
    "### Plot the corresponding tree with graphviz\n",
    "\n",
    "#### Problem: HOW TO USE GRAPHVIZ WITH PIPELINE ?\n",
    "\n",
    "As I did not find any answer to the previous question, I will simply grab the parameters from GridSearchCV.best_params_ and create a new DecisionTreeClassifier"
   ]
  },
  {
   "cell_type": "code",
   "execution_count": 6,
   "metadata": {},
   "outputs": [
    {
     "data": {
      "image/svg+xml": [
       "<?xml version=\"1.0\" encoding=\"UTF-8\" standalone=\"no\"?>\n",
       "<!DOCTYPE svg PUBLIC \"-//W3C//DTD SVG 1.1//EN\"\n",
       " \"http://www.w3.org/Graphics/SVG/1.1/DTD/svg11.dtd\">\n",
       "<!-- Generated by graphviz version 2.38.0 (20140413.2041)\n",
       " -->\n",
       "<!-- Title: Tree Pages: 1 -->\n",
       "<svg width=\"2173pt\" height=\"414pt\"\n",
       " viewBox=\"0.00 0.00 2173.12 414.00\" xmlns=\"http://www.w3.org/2000/svg\" xmlns:xlink=\"http://www.w3.org/1999/xlink\">\n",
       "<g id=\"graph0\" class=\"graph\" transform=\"scale(1 1) rotate(0) translate(4 410)\">\n",
       "<title>Tree</title>\n",
       "<polygon fill=\"white\" stroke=\"none\" points=\"-4,4 -4,-410 2169.12,-410 2169.12,4 -4,4\"/>\n",
       "<!-- 0 -->\n",
       "<g id=\"node1\" class=\"node\"><title>0</title>\n",
       "<path fill=\"#e58139\" fill-opacity=\"0.007843\" stroke=\"black\" d=\"M1300.67,-406C1300.67,-406 1010.7,-406 1010.7,-406 1004.7,-406 998.7,-400 998.7,-394 998.7,-394 998.7,-340 998.7,-340 998.7,-334 1004.7,-328 1010.7,-328 1010.7,-328 1300.67,-328 1300.67,-328 1306.67,-328 1312.67,-334 1312.67,-340 1312.67,-340 1312.67,-394 1312.67,-394 1312.67,-400 1306.67,-406 1300.67,-406\"/>\n",
       "<text text-anchor=\"middle\" x=\"1155.69\" y=\"-390.8\" font-family=\"Helvetica,sans-Serif\" font-size=\"14.00\">X[1269] &lt;= 0.363</text>\n",
       "<text text-anchor=\"middle\" x=\"1155.69\" y=\"-376.8\" font-family=\"Helvetica,sans-Serif\" font-size=\"14.00\">entropy = 2.503</text>\n",
       "<text text-anchor=\"middle\" x=\"1155.69\" y=\"-362.8\" font-family=\"Helvetica,sans-Serif\" font-size=\"14.00\">samples = 100.0%</text>\n",
       "<text text-anchor=\"middle\" x=\"1155.69\" y=\"-348.8\" font-family=\"Helvetica,sans-Serif\" font-size=\"14.00\">value = [0.236, 0.231, 0.181, 0.114, 0.15, 0.088]</text>\n",
       "<text text-anchor=\"middle\" x=\"1155.69\" y=\"-334.8\" font-family=\"Helvetica,sans-Serif\" font-size=\"14.00\">class = bike</text>\n",
       "</g>\n",
       "<!-- 1 -->\n",
       "<g id=\"node2\" class=\"node\"><title>1</title>\n",
       "<path fill=\"#9de539\" fill-opacity=\"0.207843\" stroke=\"black\" d=\"M1078.92,-292C1078.92,-292 796.454,-292 796.454,-292 790.454,-292 784.454,-286 784.454,-280 784.454,-280 784.454,-226 784.454,-226 784.454,-220 790.454,-214 796.454,-214 796.454,-214 1078.92,-214 1078.92,-214 1084.92,-214 1090.92,-220 1090.92,-226 1090.92,-226 1090.92,-280 1090.92,-280 1090.92,-286 1084.92,-292 1078.92,-292\"/>\n",
       "<text text-anchor=\"middle\" x=\"937.687\" y=\"-276.8\" font-family=\"Helvetica,sans-Serif\" font-size=\"14.00\">X[1455] &lt;= 0.318</text>\n",
       "<text text-anchor=\"middle\" x=\"937.687\" y=\"-262.8\" font-family=\"Helvetica,sans-Serif\" font-size=\"14.00\">entropy = 1.922</text>\n",
       "<text text-anchor=\"middle\" x=\"937.687\" y=\"-248.8\" font-family=\"Helvetica,sans-Serif\" font-size=\"14.00\">samples = 56.4%</text>\n",
       "<text text-anchor=\"middle\" x=\"937.687\" y=\"-234.8\" font-family=\"Helvetica,sans-Serif\" font-size=\"14.00\">value = [0.004, 0.409, 0.0, 0.181, 0.253, 0.152]</text>\n",
       "<text text-anchor=\"middle\" x=\"937.687\" y=\"-220.8\" font-family=\"Helvetica,sans-Serif\" font-size=\"14.00\">class = car</text>\n",
       "</g>\n",
       "<!-- 0&#45;&gt;1 -->\n",
       "<g id=\"edge1\" class=\"edge\"><title>0&#45;&gt;1</title>\n",
       "<path fill=\"none\" stroke=\"black\" d=\"M1081.58,-327.926C1062.1,-317.917 1040.95,-307.054 1021.02,-296.815\"/>\n",
       "<polygon fill=\"black\" stroke=\"black\" points=\"1022.46,-293.616 1011.96,-292.159 1019.26,-299.842 1022.46,-293.616\"/>\n",
       "<text text-anchor=\"middle\" x=\"1019.61\" y=\"-311.762\" font-family=\"Helvetica,sans-Serif\" font-size=\"14.00\">True</text>\n",
       "</g>\n",
       "<!-- 8 -->\n",
       "<g id=\"node9\" class=\"node\"><title>8</title>\n",
       "<path fill=\"#e58139\" fill-opacity=\"0.203922\" stroke=\"black\" d=\"M1514.92,-292C1514.92,-292 1232.45,-292 1232.45,-292 1226.45,-292 1220.45,-286 1220.45,-280 1220.45,-280 1220.45,-226 1220.45,-226 1220.45,-220 1226.45,-214 1232.45,-214 1232.45,-214 1514.92,-214 1514.92,-214 1520.92,-214 1526.92,-220 1526.92,-226 1526.92,-226 1526.92,-280 1526.92,-280 1526.92,-286 1520.92,-292 1514.92,-292\"/>\n",
       "<text text-anchor=\"middle\" x=\"1373.69\" y=\"-276.8\" font-family=\"Helvetica,sans-Serif\" font-size=\"14.00\">X[1189] &lt;= 0.544</text>\n",
       "<text text-anchor=\"middle\" x=\"1373.69\" y=\"-262.8\" font-family=\"Helvetica,sans-Serif\" font-size=\"14.00\">entropy = 1.289</text>\n",
       "<text text-anchor=\"middle\" x=\"1373.69\" y=\"-248.8\" font-family=\"Helvetica,sans-Serif\" font-size=\"14.00\">samples = 43.6%</text>\n",
       "<text text-anchor=\"middle\" x=\"1373.69\" y=\"-234.8\" font-family=\"Helvetica,sans-Serif\" font-size=\"14.00\">value = [0.536, 0.0, 0.415, 0.027, 0.016, 0.005]</text>\n",
       "<text text-anchor=\"middle\" x=\"1373.69\" y=\"-220.8\" font-family=\"Helvetica,sans-Serif\" font-size=\"14.00\">class = bike</text>\n",
       "</g>\n",
       "<!-- 0&#45;&gt;8 -->\n",
       "<g id=\"edge8\" class=\"edge\"><title>0&#45;&gt;8</title>\n",
       "<path fill=\"none\" stroke=\"black\" d=\"M1229.8,-327.926C1249.28,-317.917 1270.42,-307.054 1290.35,-296.815\"/>\n",
       "<polygon fill=\"black\" stroke=\"black\" points=\"1292.12,-299.842 1299.41,-292.159 1288.92,-293.616 1292.12,-299.842\"/>\n",
       "<text text-anchor=\"middle\" x=\"1291.77\" y=\"-311.762\" font-family=\"Helvetica,sans-Serif\" font-size=\"14.00\">False</text>\n",
       "</g>\n",
       "<!-- 2 -->\n",
       "<g id=\"node3\" class=\"node\"><title>2</title>\n",
       "<path fill=\"#8139e5\" fill-opacity=\"0.219608\" stroke=\"black\" d=\"M579.92,-178C579.92,-178 297.454,-178 297.454,-178 291.454,-178 285.454,-172 285.454,-166 285.454,-166 285.454,-112 285.454,-112 285.454,-106 291.454,-100 297.454,-100 297.454,-100 579.92,-100 579.92,-100 585.92,-100 591.92,-106 591.92,-112 591.92,-112 591.92,-166 591.92,-166 591.92,-172 585.92,-178 579.92,-178\"/>\n",
       "<text text-anchor=\"middle\" x=\"438.687\" y=\"-162.8\" font-family=\"Helvetica,sans-Serif\" font-size=\"14.00\">X[1268] &lt;= 0.391</text>\n",
       "<text text-anchor=\"middle\" x=\"438.687\" y=\"-148.8\" font-family=\"Helvetica,sans-Serif\" font-size=\"14.00\">entropy = 1.65</text>\n",
       "<text text-anchor=\"middle\" x=\"438.687\" y=\"-134.8\" font-family=\"Helvetica,sans-Serif\" font-size=\"14.00\">samples = 30.2%</text>\n",
       "<text text-anchor=\"middle\" x=\"438.687\" y=\"-120.8\" font-family=\"Helvetica,sans-Serif\" font-size=\"14.00\">value = [0.008, 0.016, 0.0, 0.315, 0.465, 0.197]</text>\n",
       "<text text-anchor=\"middle\" x=\"438.687\" y=\"-106.8\" font-family=\"Helvetica,sans-Serif\" font-size=\"14.00\">class = truck</text>\n",
       "</g>\n",
       "<!-- 1&#45;&gt;2 -->\n",
       "<g id=\"edge2\" class=\"edge\"><title>1&#45;&gt;2</title>\n",
       "<path fill=\"none\" stroke=\"black\" d=\"M784.239,-217.559C726.567,-204.614 660.813,-189.856 602.254,-176.712\"/>\n",
       "<polygon fill=\"black\" stroke=\"black\" points=\"602.69,-173.223 592.166,-174.448 601.157,-180.053 602.69,-173.223\"/>\n",
       "</g>\n",
       "<!-- 5 -->\n",
       "<g id=\"node6\" class=\"node\"><title>5</title>\n",
       "<path fill=\"#9de539\" fill-opacity=\"0.847059\" stroke=\"black\" d=\"M1063.28,-178C1063.28,-178 812.099,-178 812.099,-178 806.099,-178 800.099,-172 800.099,-166 800.099,-166 800.099,-112 800.099,-112 800.099,-106 806.099,-100 812.099,-100 812.099,-100 1063.28,-100 1063.28,-100 1069.28,-100 1075.28,-106 1075.28,-112 1075.28,-112 1075.28,-166 1075.28,-166 1075.28,-172 1069.28,-178 1063.28,-178\"/>\n",
       "<text text-anchor=\"middle\" x=\"937.687\" y=\"-162.8\" font-family=\"Helvetica,sans-Serif\" font-size=\"14.00\">X[1129] &lt;= 0.369</text>\n",
       "<text text-anchor=\"middle\" x=\"937.687\" y=\"-148.8\" font-family=\"Helvetica,sans-Serif\" font-size=\"14.00\">entropy = 0.718</text>\n",
       "<text text-anchor=\"middle\" x=\"937.687\" y=\"-134.8\" font-family=\"Helvetica,sans-Serif\" font-size=\"14.00\">samples = 26.2%</text>\n",
       "<text text-anchor=\"middle\" x=\"937.687\" y=\"-120.8\" font-family=\"Helvetica,sans-Serif\" font-size=\"14.00\">value = [0.0, 0.864, 0.0, 0.027, 0.009, 0.1]</text>\n",
       "<text text-anchor=\"middle\" x=\"937.687\" y=\"-106.8\" font-family=\"Helvetica,sans-Serif\" font-size=\"14.00\">class = car</text>\n",
       "</g>\n",
       "<!-- 1&#45;&gt;5 -->\n",
       "<g id=\"edge5\" class=\"edge\"><title>1&#45;&gt;5</title>\n",
       "<path fill=\"none\" stroke=\"black\" d=\"M937.687,-213.769C937.687,-205.57 937.687,-196.803 937.687,-188.28\"/>\n",
       "<polygon fill=\"black\" stroke=\"black\" points=\"941.187,-188.058 937.687,-178.058 934.187,-188.059 941.187,-188.058\"/>\n",
       "</g>\n",
       "<!-- 3 -->\n",
       "<g id=\"node4\" class=\"node\"><title>3</title>\n",
       "<path fill=\"#399de5\" fill-opacity=\"0.333333\" stroke=\"black\" d=\"M271.561,-64C271.561,-64 11.8127,-64 11.8127,-64 5.81274,-64 -0.187259,-58 -0.187259,-52 -0.187259,-52 -0.187259,-12 -0.187259,-12 -0.187259,-6 5.81274,-0 11.8127,-0 11.8127,-0 271.561,-0 271.561,-0 277.561,-0 283.561,-6 283.561,-12 283.561,-12 283.561,-52 283.561,-52 283.561,-58 277.561,-64 271.561,-64\"/>\n",
       "<text text-anchor=\"middle\" x=\"141.687\" y=\"-48.8\" font-family=\"Helvetica,sans-Serif\" font-size=\"14.00\">entropy = 1.227</text>\n",
       "<text text-anchor=\"middle\" x=\"141.687\" y=\"-34.8\" font-family=\"Helvetica,sans-Serif\" font-size=\"14.00\">samples = 16.0%</text>\n",
       "<text text-anchor=\"middle\" x=\"141.687\" y=\"-20.8\" font-family=\"Helvetica,sans-Serif\" font-size=\"14.00\">value = [0.015, 0.03, 0.0, 0.582, 0.373, 0.0]</text>\n",
       "<text text-anchor=\"middle\" x=\"141.687\" y=\"-6.8\" font-family=\"Helvetica,sans-Serif\" font-size=\"14.00\">class = other</text>\n",
       "</g>\n",
       "<!-- 2&#45;&gt;3 -->\n",
       "<g id=\"edge3\" class=\"edge\"><title>2&#45;&gt;3</title>\n",
       "<path fill=\"none\" stroke=\"black\" d=\"M331.043,-99.9441C300.934,-89.2995 268.395,-77.7958 238.926,-67.3774\"/>\n",
       "<polygon fill=\"black\" stroke=\"black\" points=\"240.068,-64.0689 229.473,-64.0355 237.735,-70.6686 240.068,-64.0689\"/>\n",
       "</g>\n",
       "<!-- 4 -->\n",
       "<g id=\"node5\" class=\"node\"><title>4</title>\n",
       "<path fill=\"#8139e5\" fill-opacity=\"0.258824\" stroke=\"black\" d=\"M564.275,-64C564.275,-64 313.099,-64 313.099,-64 307.099,-64 301.099,-58 301.099,-52 301.099,-52 301.099,-12 301.099,-12 301.099,-6 307.099,-0 313.099,-0 313.099,-0 564.275,-0 564.275,-0 570.275,-0 576.275,-6 576.275,-12 576.275,-12 576.275,-52 576.275,-52 576.275,-58 570.275,-64 564.275,-64\"/>\n",
       "<text text-anchor=\"middle\" x=\"438.687\" y=\"-48.8\" font-family=\"Helvetica,sans-Serif\" font-size=\"14.00\">entropy = 1.089</text>\n",
       "<text text-anchor=\"middle\" x=\"438.687\" y=\"-34.8\" font-family=\"Helvetica,sans-Serif\" font-size=\"14.00\">samples = 14.3%</text>\n",
       "<text text-anchor=\"middle\" x=\"438.687\" y=\"-20.8\" font-family=\"Helvetica,sans-Serif\" font-size=\"14.00\">value = [0.0, 0.0, 0.0, 0.017, 0.567, 0.417]</text>\n",
       "<text text-anchor=\"middle\" x=\"438.687\" y=\"-6.8\" font-family=\"Helvetica,sans-Serif\" font-size=\"14.00\">class = truck</text>\n",
       "</g>\n",
       "<!-- 2&#45;&gt;4 -->\n",
       "<g id=\"edge4\" class=\"edge\"><title>2&#45;&gt;4</title>\n",
       "<path fill=\"none\" stroke=\"black\" d=\"M438.687,-99.7956C438.687,-91.4581 438.687,-82.6 438.687,-74.1534\"/>\n",
       "<polygon fill=\"black\" stroke=\"black\" points=\"442.187,-74.1171 438.687,-64.1172 435.187,-74.1172 442.187,-74.1171\"/>\n",
       "</g>\n",
       "<!-- 6 -->\n",
       "<g id=\"node7\" class=\"node\"><title>6</title>\n",
       "<path fill=\"#9de539\" fill-opacity=\"0.968627\" stroke=\"black\" d=\"M856.743,-64C856.743,-64 606.631,-64 606.631,-64 600.631,-64 594.631,-58 594.631,-52 594.631,-52 594.631,-12 594.631,-12 594.631,-6 600.631,-0 606.631,-0 606.631,-0 856.743,-0 856.743,-0 862.743,-0 868.743,-6 868.743,-12 868.743,-12 868.743,-52 868.743,-52 868.743,-58 862.743,-64 856.743,-64\"/>\n",
       "<text text-anchor=\"middle\" x=\"731.687\" y=\"-48.8\" font-family=\"Helvetica,sans-Serif\" font-size=\"14.00\">entropy = 0.231</text>\n",
       "<text text-anchor=\"middle\" x=\"731.687\" y=\"-34.8\" font-family=\"Helvetica,sans-Serif\" font-size=\"14.00\">samples = 22.6%</text>\n",
       "<text text-anchor=\"middle\" x=\"731.687\" y=\"-20.8\" font-family=\"Helvetica,sans-Serif\" font-size=\"14.00\">value = [0.0, 0.968, 0.0, 0.011, 0.0, 0.021]</text>\n",
       "<text text-anchor=\"middle\" x=\"731.687\" y=\"-6.8\" font-family=\"Helvetica,sans-Serif\" font-size=\"14.00\">class = car</text>\n",
       "</g>\n",
       "<!-- 5&#45;&gt;6 -->\n",
       "<g id=\"edge6\" class=\"edge\"><title>5&#45;&gt;6</title>\n",
       "<path fill=\"none\" stroke=\"black\" d=\"M863.025,-99.9441C842.955,-89.7142 821.328,-78.6909 801.531,-68.6\"/>\n",
       "<polygon fill=\"black\" stroke=\"black\" points=\"803.074,-65.4584 792.576,-64.0355 799.896,-71.695 803.074,-65.4584\"/>\n",
       "</g>\n",
       "<!-- 7 -->\n",
       "<g id=\"node8\" class=\"node\"><title>7</title>\n",
       "<path fill=\"#e5399d\" fill-opacity=\"0.498039\" stroke=\"black\" d=\"M1134.7,-64C1134.7,-64 898.671,-64 898.671,-64 892.671,-64 886.671,-58 886.671,-52 886.671,-52 886.671,-12 886.671,-12 886.671,-6 892.671,-0 898.671,-0 898.671,-0 1134.7,-0 1134.7,-0 1140.7,-0 1146.7,-6 1146.7,-12 1146.7,-12 1146.7,-52 1146.7,-52 1146.7,-58 1140.7,-64 1134.7,-64\"/>\n",
       "<text text-anchor=\"middle\" x=\"1016.69\" y=\"-48.8\" font-family=\"Helvetica,sans-Serif\" font-size=\"14.00\">entropy = 1.555</text>\n",
       "<text text-anchor=\"middle\" x=\"1016.69\" y=\"-34.8\" font-family=\"Helvetica,sans-Serif\" font-size=\"14.00\">samples = 3.6%</text>\n",
       "<text text-anchor=\"middle\" x=\"1016.69\" y=\"-20.8\" font-family=\"Helvetica,sans-Serif\" font-size=\"14.00\">value = [0.0, 0.2, 0.0, 0.133, 0.067, 0.6]</text>\n",
       "<text text-anchor=\"middle\" x=\"1016.69\" y=\"-6.8\" font-family=\"Helvetica,sans-Serif\" font-size=\"14.00\">class = van</text>\n",
       "</g>\n",
       "<!-- 5&#45;&gt;7 -->\n",
       "<g id=\"edge7\" class=\"edge\"><title>5&#45;&gt;7</title>\n",
       "<path fill=\"none\" stroke=\"black\" d=\"M966.431,-99.7956C973.187,-90.8168 980.397,-81.2341 987.185,-72.2119\"/>\n",
       "<polygon fill=\"black\" stroke=\"black\" points=\"990.06,-74.2123 993.275,-64.1172 984.466,-70.0038 990.06,-74.2123\"/>\n",
       "</g>\n",
       "<!-- 9 -->\n",
       "<g id=\"node10\" class=\"node\"><title>9</title>\n",
       "<path fill=\"#e58139\" fill-opacity=\"0.921569\" stroke=\"black\" d=\"M1503.56,-178C1503.56,-178 1243.81,-178 1243.81,-178 1237.81,-178 1231.81,-172 1231.81,-166 1231.81,-166 1231.81,-112 1231.81,-112 1231.81,-106 1237.81,-100 1243.81,-100 1243.81,-100 1503.56,-100 1503.56,-100 1509.56,-100 1515.56,-106 1515.56,-112 1515.56,-112 1515.56,-166 1515.56,-166 1515.56,-172 1509.56,-178 1503.56,-178\"/>\n",
       "<text text-anchor=\"middle\" x=\"1373.69\" y=\"-162.8\" font-family=\"Helvetica,sans-Serif\" font-size=\"14.00\">X[1604] &lt;= 0.581</text>\n",
       "<text text-anchor=\"middle\" x=\"1373.69\" y=\"-148.8\" font-family=\"Helvetica,sans-Serif\" font-size=\"14.00\">entropy = 0.496</text>\n",
       "<text text-anchor=\"middle\" x=\"1373.69\" y=\"-134.8\" font-family=\"Helvetica,sans-Serif\" font-size=\"14.00\">samples = 25.0%</text>\n",
       "<text text-anchor=\"middle\" x=\"1373.69\" y=\"-120.8\" font-family=\"Helvetica,sans-Serif\" font-size=\"14.00\">value = [0.924, 0.0, 0.0, 0.038, 0.029, 0.01]</text>\n",
       "<text text-anchor=\"middle\" x=\"1373.69\" y=\"-106.8\" font-family=\"Helvetica,sans-Serif\" font-size=\"14.00\">class = bike</text>\n",
       "</g>\n",
       "<!-- 8&#45;&gt;9 -->\n",
       "<g id=\"edge9\" class=\"edge\"><title>8&#45;&gt;9</title>\n",
       "<path fill=\"none\" stroke=\"black\" d=\"M1373.69,-213.769C1373.69,-205.57 1373.69,-196.803 1373.69,-188.28\"/>\n",
       "<polygon fill=\"black\" stroke=\"black\" points=\"1377.19,-188.058 1373.69,-178.058 1370.19,-188.059 1377.19,-188.058\"/>\n",
       "</g>\n",
       "<!-- 12 -->\n",
       "<g id=\"node13\" class=\"node\"><title>12</title>\n",
       "<path fill=\"#39e581\" fill-opacity=\"0.972549\" stroke=\"black\" d=\"M1929.28,-178C1929.28,-178 1678.1,-178 1678.1,-178 1672.1,-178 1666.1,-172 1666.1,-166 1666.1,-166 1666.1,-112 1666.1,-112 1666.1,-106 1672.1,-100 1678.1,-100 1678.1,-100 1929.28,-100 1929.28,-100 1935.28,-100 1941.28,-106 1941.28,-112 1941.28,-112 1941.28,-166 1941.28,-166 1941.28,-172 1935.28,-178 1929.28,-178\"/>\n",
       "<text text-anchor=\"middle\" x=\"1803.69\" y=\"-162.8\" font-family=\"Helvetica,sans-Serif\" font-size=\"14.00\">X[1302] &lt;= 0.775</text>\n",
       "<text text-anchor=\"middle\" x=\"1803.69\" y=\"-148.8\" font-family=\"Helvetica,sans-Serif\" font-size=\"14.00\">entropy = 0.198</text>\n",
       "<text text-anchor=\"middle\" x=\"1803.69\" y=\"-134.8\" font-family=\"Helvetica,sans-Serif\" font-size=\"14.00\">samples = 18.6%</text>\n",
       "<text text-anchor=\"middle\" x=\"1803.69\" y=\"-120.8\" font-family=\"Helvetica,sans-Serif\" font-size=\"14.00\">value = [0.013, 0.0, 0.974, 0.013, 0.0, 0.0]</text>\n",
       "<text text-anchor=\"middle\" x=\"1803.69\" y=\"-106.8\" font-family=\"Helvetica,sans-Serif\" font-size=\"14.00\">class = motorcycle</text>\n",
       "</g>\n",
       "<!-- 8&#45;&gt;12 -->\n",
       "<g id=\"edge12\" class=\"edge\"><title>8&#45;&gt;12</title>\n",
       "<path fill=\"none\" stroke=\"black\" d=\"M1519.87,-213.926C1563.78,-202.488 1611.97,-189.935 1655.98,-178.472\"/>\n",
       "<polygon fill=\"black\" stroke=\"black\" points=\"1657.1,-181.798 1665.89,-175.891 1655.33,-175.024 1657.1,-181.798\"/>\n",
       "</g>\n",
       "<!-- 10 -->\n",
       "<g id=\"node11\" class=\"node\"><title>10</title>\n",
       "<path fill=\"#399de5\" fill-opacity=\"0.200000\" stroke=\"black\" d=\"M1412.7,-64C1412.7,-64 1176.67,-64 1176.67,-64 1170.67,-64 1164.67,-58 1164.67,-52 1164.67,-52 1164.67,-12 1164.67,-12 1164.67,-6 1170.67,-0 1176.67,-0 1176.67,-0 1412.7,-0 1412.7,-0 1418.7,-0 1424.7,-6 1424.7,-12 1424.7,-12 1424.7,-52 1424.7,-52 1424.7,-58 1418.7,-64 1412.7,-64\"/>\n",
       "<text text-anchor=\"middle\" x=\"1294.69\" y=\"-48.8\" font-family=\"Helvetica,sans-Serif\" font-size=\"14.00\">entropy = 1.406</text>\n",
       "<text text-anchor=\"middle\" x=\"1294.69\" y=\"-34.8\" font-family=\"Helvetica,sans-Serif\" font-size=\"14.00\">samples = 1.9%</text>\n",
       "<text text-anchor=\"middle\" x=\"1294.69\" y=\"-20.8\" font-family=\"Helvetica,sans-Serif\" font-size=\"14.00\">value = [0.0, 0.0, 0.0, 0.5, 0.375, 0.125]</text>\n",
       "<text text-anchor=\"middle\" x=\"1294.69\" y=\"-6.8\" font-family=\"Helvetica,sans-Serif\" font-size=\"14.00\">class = other</text>\n",
       "</g>\n",
       "<!-- 9&#45;&gt;10 -->\n",
       "<g id=\"edge10\" class=\"edge\"><title>9&#45;&gt;10</title>\n",
       "<path fill=\"none\" stroke=\"black\" d=\"M1344.94,-99.7956C1338.19,-90.8168 1330.98,-81.2341 1324.19,-72.2119\"/>\n",
       "<polygon fill=\"black\" stroke=\"black\" points=\"1326.91,-70.0038 1318.1,-64.1172 1321.31,-74.2123 1326.91,-70.0038\"/>\n",
       "</g>\n",
       "<!-- 11 -->\n",
       "<g id=\"node12\" class=\"node\"><title>11</title>\n",
       "<path fill=\"#e58139\" stroke=\"black\" d=\"M1659.06,-64C1659.06,-64 1454.32,-64 1454.32,-64 1448.32,-64 1442.32,-58 1442.32,-52 1442.32,-52 1442.32,-12 1442.32,-12 1442.32,-6 1448.32,-0 1454.32,-0 1454.32,-0 1659.06,-0 1659.06,-0 1665.06,-0 1671.06,-6 1671.06,-12 1671.06,-12 1671.06,-52 1671.06,-52 1671.06,-58 1665.06,-64 1659.06,-64\"/>\n",
       "<text text-anchor=\"middle\" x=\"1556.69\" y=\"-48.8\" font-family=\"Helvetica,sans-Serif\" font-size=\"14.00\">entropy = 0.0</text>\n",
       "<text text-anchor=\"middle\" x=\"1556.69\" y=\"-34.8\" font-family=\"Helvetica,sans-Serif\" font-size=\"14.00\">samples = 23.1%</text>\n",
       "<text text-anchor=\"middle\" x=\"1556.69\" y=\"-20.8\" font-family=\"Helvetica,sans-Serif\" font-size=\"14.00\">value = [1.0, 0.0, 0.0, 0.0, 0.0, 0.0]</text>\n",
       "<text text-anchor=\"middle\" x=\"1556.69\" y=\"-6.8\" font-family=\"Helvetica,sans-Serif\" font-size=\"14.00\">class = bike</text>\n",
       "</g>\n",
       "<!-- 9&#45;&gt;11 -->\n",
       "<g id=\"edge11\" class=\"edge\"><title>9&#45;&gt;11</title>\n",
       "<path fill=\"none\" stroke=\"black\" d=\"M1440.01,-99.9441C1457.52,-89.8985 1476.36,-79.0879 1493.69,-69.1464\"/>\n",
       "<polygon fill=\"black\" stroke=\"black\" points=\"1495.66,-72.048 1502.6,-64.0355 1492.18,-65.9764 1495.66,-72.048\"/>\n",
       "</g>\n",
       "<!-- 13 -->\n",
       "<g id=\"node14\" class=\"node\"><title>13</title>\n",
       "<path fill=\"#39e581\" stroke=\"black\" d=\"M1906.06,-64C1906.06,-64 1701.32,-64 1701.32,-64 1695.32,-64 1689.32,-58 1689.32,-52 1689.32,-52 1689.32,-12 1689.32,-12 1689.32,-6 1695.32,-0 1701.32,-0 1701.32,-0 1906.06,-0 1906.06,-0 1912.06,-0 1918.06,-6 1918.06,-12 1918.06,-12 1918.06,-52 1918.06,-52 1918.06,-58 1912.06,-64 1906.06,-64\"/>\n",
       "<text text-anchor=\"middle\" x=\"1803.69\" y=\"-48.8\" font-family=\"Helvetica,sans-Serif\" font-size=\"14.00\">entropy = 0.0</text>\n",
       "<text text-anchor=\"middle\" x=\"1803.69\" y=\"-34.8\" font-family=\"Helvetica,sans-Serif\" font-size=\"14.00\">samples = 18.1%</text>\n",
       "<text text-anchor=\"middle\" x=\"1803.69\" y=\"-20.8\" font-family=\"Helvetica,sans-Serif\" font-size=\"14.00\">value = [0.0, 0.0, 1.0, 0.0, 0.0, 0.0]</text>\n",
       "<text text-anchor=\"middle\" x=\"1803.69\" y=\"-6.8\" font-family=\"Helvetica,sans-Serif\" font-size=\"14.00\">class = motorcycle</text>\n",
       "</g>\n",
       "<!-- 12&#45;&gt;13 -->\n",
       "<g id=\"edge13\" class=\"edge\"><title>12&#45;&gt;13</title>\n",
       "<path fill=\"none\" stroke=\"black\" d=\"M1803.69,-99.7956C1803.69,-91.4581 1803.69,-82.6 1803.69,-74.1534\"/>\n",
       "<polygon fill=\"black\" stroke=\"black\" points=\"1807.19,-74.1171 1803.69,-64.1172 1800.19,-74.1172 1807.19,-74.1171\"/>\n",
       "</g>\n",
       "<!-- 14 -->\n",
       "<g id=\"node15\" class=\"node\"><title>14</title>\n",
       "<path fill=\"none\" stroke=\"black\" d=\"M2153.06,-64C2153.06,-64 1948.32,-64 1948.32,-64 1942.32,-64 1936.32,-58 1936.32,-52 1936.32,-52 1936.32,-12 1936.32,-12 1936.32,-6 1942.32,-0 1948.32,-0 1948.32,-0 2153.06,-0 2153.06,-0 2159.06,-0 2165.06,-6 2165.06,-12 2165.06,-12 2165.06,-52 2165.06,-52 2165.06,-58 2159.06,-64 2153.06,-64\"/>\n",
       "<text text-anchor=\"middle\" x=\"2050.69\" y=\"-48.8\" font-family=\"Helvetica,sans-Serif\" font-size=\"14.00\">entropy = 1.0</text>\n",
       "<text text-anchor=\"middle\" x=\"2050.69\" y=\"-34.8\" font-family=\"Helvetica,sans-Serif\" font-size=\"14.00\">samples = 0.5%</text>\n",
       "<text text-anchor=\"middle\" x=\"2050.69\" y=\"-20.8\" font-family=\"Helvetica,sans-Serif\" font-size=\"14.00\">value = [0.5, 0.0, 0.0, 0.5, 0.0, 0.0]</text>\n",
       "<text text-anchor=\"middle\" x=\"2050.69\" y=\"-6.8\" font-family=\"Helvetica,sans-Serif\" font-size=\"14.00\">class = bike</text>\n",
       "</g>\n",
       "<!-- 12&#45;&gt;14 -->\n",
       "<g id=\"edge14\" class=\"edge\"><title>12&#45;&gt;14</title>\n",
       "<path fill=\"none\" stroke=\"black\" d=\"M1893.21,-99.9441C1917.71,-89.5299 1944.14,-78.2934 1968.22,-68.0555\"/>\n",
       "<polygon fill=\"black\" stroke=\"black\" points=\"1969.85,-71.1688 1977.68,-64.0355 1967.11,-64.7267 1969.85,-71.1688\"/>\n",
       "</g>\n",
       "</g>\n",
       "</svg>\n"
      ],
      "text/plain": [
       "<graphviz.files.Source at 0x7fcfef9fbeb8>"
      ]
     },
     "execution_count": 6,
     "metadata": {},
     "output_type": "execute_result"
    }
   ],
   "source": [
    "from sklearn.tree import export_graphviz\n",
    "import graphviz\n",
    "\n",
    "\n",
    "dt=DecisionTreeClassifier(\n",
    "    criterion='entropy',\n",
    "    max_depth=3,\n",
    "    random_state=0\n",
    ")\n",
    "\n",
    "dt.fit(X['trainX'], y['trainX'])\n",
    "\n",
    "# Export decision tree\n",
    "dot_data = export_graphviz(\n",
    "    dt, out_file=None,\n",
    "    class_names=data['class_name'],\n",
    "    filled=True, rounded=True, proportion=True   \n",
    ")\n",
    "\n",
    "# Display decision tree\n",
    "graphviz.Source(dot_data)"
   ]
  },
  {
   "cell_type": "markdown",
   "metadata": {},
   "source": [
    "### Do you get better results if you reduce the number of dimensions with PCA first?\n",
    "\n",
    "Looking at the results we've got in the GridSearchCV, the best estimator we've got do not use any PCA for dimension reduction (*n_component*=None).\n",
    "\n",
    "So I will conclude here that reducing the dimension with PCA will not gives us a better result.\n",
    "\n",
    "But now, what will be the story if we redo our GridSearchCV with this time, different values for the *max_depth* of the DecisionTreeClassifier ?"
   ]
  },
  {
   "cell_type": "markdown",
   "metadata": {},
   "source": [
    "## *max_depth* as an hyper-parameter of the grid-search\n",
    "\n",
    "Job is quite simple. We redefine the value of *dt__max_depth* in *dt_grid_param* dict, rebuild a new GridSearchCV, fit it against *trainX* and display results as a *Panda.Dataframe*"
   ]
  },
  {
   "cell_type": "code",
   "execution_count": 7,
   "metadata": {},
   "outputs": [
    {
     "name": "stdout",
     "output_type": "stream",
     "text": [
      "Fitting 5 folds for each of 64 candidates, totalling 320 fits\n"
     ]
    },
    {
     "name": "stderr",
     "output_type": "stream",
     "text": [
      "[Parallel(n_jobs=-1)]: Using backend LokyBackend with 12 concurrent workers.\n",
      "[Parallel(n_jobs=-1)]: Done  26 tasks      | elapsed:    1.7s\n",
      "[Parallel(n_jobs=-1)]: Done 176 tasks      | elapsed:    8.5s\n",
      "[Parallel(n_jobs=-1)]: Done 320 out of 320 | elapsed:   14.8s finished\n"
     ]
    },
    {
     "data": {
      "text/plain": [
       "GridSearchCV(cv=5, error_score='raise-deprecating',\n",
       "       estimator=Pipeline(memory=None,\n",
       "     steps=[('pca', PCA(copy=True, iterated_power='auto', n_components=None, random_state=None,\n",
       "  svd_solver='auto', tol=0.0, whiten=False)), ('dt', DecisionTreeClassifier(class_weight=None, criterion='gini', max_depth=3,\n",
       "            max_features=None, max_leaf_nodes=...        min_weight_fraction_leaf=0.0, presort=False, random_state=0,\n",
       "            splitter='best'))]),\n",
       "       fit_params=None, iid=True, n_jobs=-1,\n",
       "       param_grid={'dt__criterion': ['gini', 'entropy'], 'dt__max_depth': [3, 4, 5, 6, 7, 8, 9, 10], 'pca__n_components': [None, 128, 76, 16]},\n",
       "       pre_dispatch='2*n_jobs', refit=True, return_train_score=True,\n",
       "       scoring=None, verbose=True)"
      ]
     },
     "execution_count": 7,
     "metadata": {},
     "output_type": "execute_result"
    }
   ],
   "source": [
    "# Here are the different parameters I will vary\n",
    "dt_grid_param['dt__max_depth']=[3, 4, 5, 6, 7, 8, 9, 10]\n",
    "\n",
    "# Build the GridSearchCV object using versbose and parallel execution options\n",
    "grid_dt_2=GridSearchCV(dt_pipe, dt_grid_param, cv=CV, refit=True, return_train_score=True, verbose=True, n_jobs=-1, iid=True)\n",
    "\n",
    "# Fit the model\n",
    "grid_dt_2.fit(X['trainX'], y['trainX'])"
   ]
  },
  {
   "cell_type": "code",
   "execution_count": 8,
   "metadata": {},
   "outputs": [
    {
     "data": {
      "text/html": [
       "<div>\n",
       "<style scoped>\n",
       "    .dataframe tbody tr th:only-of-type {\n",
       "        vertical-align: middle;\n",
       "    }\n",
       "\n",
       "    .dataframe tbody tr th {\n",
       "        vertical-align: top;\n",
       "    }\n",
       "\n",
       "    .dataframe thead th {\n",
       "        text-align: right;\n",
       "    }\n",
       "</style>\n",
       "<table border=\"1\" class=\"dataframe\">\n",
       "  <thead>\n",
       "    <tr style=\"text-align: right;\">\n",
       "      <th></th>\n",
       "      <th>param_dt__criterion</th>\n",
       "      <th>param_dt__max_depth</th>\n",
       "      <th>param_pca__n_components</th>\n",
       "      <th>mean_test_score</th>\n",
       "      <th>std_test_score</th>\n",
       "      <th>mean_train_score</th>\n",
       "    </tr>\n",
       "  </thead>\n",
       "  <tbody>\n",
       "    <tr>\n",
       "      <th>51</th>\n",
       "      <td>entropy</td>\n",
       "      <td>7</td>\n",
       "      <td>16</td>\n",
       "      <td>0.880952</td>\n",
       "      <td>0.041360</td>\n",
       "      <td>0.989868</td>\n",
       "    </tr>\n",
       "    <tr>\n",
       "      <th>50</th>\n",
       "      <td>entropy</td>\n",
       "      <td>7</td>\n",
       "      <td>76</td>\n",
       "      <td>0.880952</td>\n",
       "      <td>0.035058</td>\n",
       "      <td>0.994058</td>\n",
       "    </tr>\n",
       "    <tr>\n",
       "      <th>58</th>\n",
       "      <td>entropy</td>\n",
       "      <td>9</td>\n",
       "      <td>76</td>\n",
       "      <td>0.878571</td>\n",
       "      <td>0.042163</td>\n",
       "      <td>1.000000</td>\n",
       "    </tr>\n",
       "    <tr>\n",
       "      <th>49</th>\n",
       "      <td>entropy</td>\n",
       "      <td>7</td>\n",
       "      <td>128</td>\n",
       "      <td>0.878571</td>\n",
       "      <td>0.049554</td>\n",
       "      <td>0.992262</td>\n",
       "    </tr>\n",
       "    <tr>\n",
       "      <th>62</th>\n",
       "      <td>entropy</td>\n",
       "      <td>10</td>\n",
       "      <td>76</td>\n",
       "      <td>0.876190</td>\n",
       "      <td>0.045329</td>\n",
       "      <td>1.000000</td>\n",
       "    </tr>\n",
       "  </tbody>\n",
       "</table>\n",
       "</div>"
      ],
      "text/plain": [
       "   param_dt__criterion param_dt__max_depth param_pca__n_components  \\\n",
       "51             entropy                   7                      16   \n",
       "50             entropy                   7                      76   \n",
       "58             entropy                   9                      76   \n",
       "49             entropy                   7                     128   \n",
       "62             entropy                  10                      76   \n",
       "\n",
       "    mean_test_score  std_test_score  mean_train_score  \n",
       "51         0.880952        0.041360          0.989868  \n",
       "50         0.880952        0.035058          0.994058  \n",
       "58         0.878571        0.042163          1.000000  \n",
       "49         0.878571        0.049554          0.992262  \n",
       "62         0.876190        0.045329          1.000000  "
      ]
     },
     "execution_count": 8,
     "metadata": {},
     "output_type": "execute_result"
    }
   ],
   "source": [
    "# Display top 5 best test score\n",
    "columns=[\n",
    "    'param_dt__criterion', 'param_dt__max_depth', 'param_pca__n_components', 'mean_test_score', 'std_test_score', 'mean_train_score'\n",
    "]\n",
    "pd.DataFrame(grid_dt_2.cv_results_).sort_values('mean_test_score', ascending=False)[columns].head(5)\n"
   ]
  },
  {
   "cell_type": "markdown",
   "metadata": {},
   "source": [
    "Hey, the result is completly different, and PCA dimension reduction is now an option to get a better estimator.\n",
    "\n",
    "Let's evaluate it."
   ]
  },
  {
   "cell_type": "code",
   "execution_count": 9,
   "metadata": {},
   "outputs": [
    {
     "name": "stdout",
     "output_type": "stream",
     "text": [
      "DecisionTree_2 score : 84.3%\n"
     ]
    }
   ],
   "source": [
    "# Get best estimator\n",
    "best_dt_2=grid_dt_2.best_estimator_\n",
    "\n",
    "# Evaluate it against 'test' dataset\n",
    "accuracy_dt_2=best_dt_2.score(X['test'], y['test'])\n",
    "\n",
    "# print score\n",
    "print(\"DecisionTree_2 score : {:.1f}%\".format(accuracy_dt_2*100))\n"
   ]
  },
  {
   "cell_type": "markdown",
   "metadata": {},
   "source": [
    "Accuracy of our model is now 84%, 4% more that the model with *max_depth=3*\n",
    "\n",
    "Furthermore, we can see that this time, using a *max_depth=6* and *criterion=gini*, the best results are obtained with *PCA(n_component=76)*\n",
    "\n",
    "That's a good result and this model is my prefered one I will save on disk, and use it at the end of the project for the overall models evaluation.\n"
   ]
  },
  {
   "cell_type": "code",
   "execution_count": 10,
   "metadata": {},
   "outputs": [
    {
     "name": "stdout",
     "output_type": "stream",
     "text": [
      "Saving model decision-tree to model-decision-tree.sav using 'pickle' library\n"
     ]
    }
   ],
   "source": [
    "# Save model\n",
    "saveModel(best_dt_2, 'decision-tree')"
   ]
  },
  {
   "cell_type": "markdown",
   "metadata": {},
   "source": [
    "That's all folks for this Simple Decision Tree classifier :-)"
   ]
  }
 ],
 "metadata": {
  "kernelspec": {
   "display_name": "Python 3",
   "language": "python",
   "name": "python3"
  },
  "language_info": {
   "codemirror_mode": {
    "name": "ipython",
    "version": 3
   },
   "file_extension": ".py",
   "mimetype": "text/x-python",
   "name": "python",
   "nbconvert_exporter": "python",
   "pygments_lexer": "ipython3",
   "version": "3.6.10"
  }
 },
 "nbformat": 4,
 "nbformat_minor": 5
}
