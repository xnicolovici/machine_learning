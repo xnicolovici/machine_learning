{
 "cells": [
  {
   "cell_type": "markdown",
   "metadata": {},
   "source": [
    "# Simple decision trees"
   ]
  },
  {
   "cell_type": "markdown",
   "metadata": {},
   "source": [
    "## Load X,y data from NPZ\n",
    "\n",
    "Using the function added to *mylib.py* file, it's now easy to grab data and X/y vectors ready to be used for model training and tuning"
   ]
  },
  {
   "cell_type": "code",
   "execution_count": 4,
   "metadata": {},
   "outputs": [
    {
     "name": "stdout",
     "output_type": "stream",
     "text": [
      "Loading 'train' set\n",
      "  loading  data\n",
      "     shape: (281, 299, 299, 3) - dtype: float64\n",
      "  loading  features\n",
      "     shape: (281, 2048) - dtype: float64\n",
      "  loading  filenames\n",
      "     shape: (281,) - dtype: <U46\n",
      "  loading  labels\n",
      "     shape: (281,) - dtype: int32\n",
      "\n",
      "\n",
      "Loading 'test' set\n",
      "  loading  data\n",
      "     shape: (51, 299, 299, 3) - dtype: float64\n",
      "  loading  features\n",
      "     shape: (51, 2048) - dtype: float64\n",
      "  loading  filenames\n",
      "     shape: (51,) - dtype: <U50\n",
      "  loading  labels\n",
      "     shape: (51,) - dtype: int32\n",
      "\n",
      "\n",
      "Loading 'valid' set\n",
      "  loading  data\n",
      "     shape: (139, 299, 299, 3) - dtype: float64\n",
      "  loading  features\n",
      "     shape: (139, 2048) - dtype: float64\n",
      "  loading  filenames\n",
      "     shape: (139,) - dtype: <U30\n",
      "  loading  labels\n",
      "     shape: (139,) - dtype: int32\n",
      "\n",
      "\n",
      "building 'trainX' set\n",
      "  building  data\n",
      "     shape: (420, 299, 299, 3) - dtype: float64\n",
      "  building  features\n",
      "     shape: (420, 2048) - dtype: float64\n",
      "  building  filenames\n",
      "     shape: (420,) - dtype: <U46\n",
      "  building  labels\n",
      "     shape: (420,) - dtype: int32\n",
      "\n",
      "\n",
      "X['train'] shape: (281, 2048)\n",
      "y['train'] shape: (281, 2048)\n",
      "X['test'] shape: (51, 2048)\n",
      "y['test'] shape: (51, 2048)\n",
      "X['valid'] shape: (139, 2048)\n",
      "y['valid'] shape: (139, 2048)\n",
      "X['trainX'] shape: (420, 2048)\n",
      "y['trainX'] shape: (420, 2048)\n"
     ]
    }
   ],
   "source": [
    "# Run content of mylib.py file\n",
    "%run mylib.py\n",
    "\n",
    "# Load data from NPZ file\n",
    "#data=loadNpz()\n",
    "(data, X, y)=loadXy()"
   ]
  },
  {
   "cell_type": "code",
   "execution_count": null,
   "metadata": {},
   "outputs": [],
   "source": []
  }
 ],
 "metadata": {
  "kernelspec": {
   "display_name": "Python 3",
   "language": "python",
   "name": "python3"
  },
  "language_info": {
   "codemirror_mode": {
    "name": "ipython",
    "version": 3
   },
   "file_extension": ".py",
   "mimetype": "text/x-python",
   "name": "python",
   "nbconvert_exporter": "python",
   "pygments_lexer": "ipython3",
   "version": "3.6.10"
  }
 },
 "nbformat": 4,
 "nbformat_minor": 5
}
