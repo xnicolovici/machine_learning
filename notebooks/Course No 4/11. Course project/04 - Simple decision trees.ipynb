{
 "cells": [
  {
   "cell_type": "markdown",
   "id": "7a746294",
   "metadata": {},
   "source": [
    "# Simple decision trees"
   ]
  },
  {
   "cell_type": "markdown",
   "id": "84b4bb02",
   "metadata": {},
   "source": [
    "## Load X,y data from NPZ\n",
    "\n",
    "Using the function added to *mylib.py* file, it's now easy to grab data and X/y vectors ready to be used for model training and tuning"
   ]
  },
  {
   "cell_type": "code",
   "execution_count": 1,
   "id": "f9b9900a",
   "metadata": {},
   "outputs": [
    {
     "name": "stdout",
     "output_type": "stream",
     "text": [
      "Loading 'train' set\n",
      "  loading  data\n",
      "     shape: (281, 299, 299, 3) - dtype: float64\n",
      "  loading  features\n",
      "     shape: (281, 2048) - dtype: float64\n",
      "  loading  filenames\n",
      "     shape: (281,) - dtype: <U48\n",
      "  loading  labels\n",
      "     shape: (281,) - dtype: int32\n",
      "\n",
      "\n",
      "Loading 'test' set\n",
      "  loading  data\n",
      "     shape: (50, 299, 299, 3) - dtype: float64\n",
      "  loading  features\n",
      "     shape: (50, 2048) - dtype: float64\n",
      "  loading  filenames\n",
      "     shape: (50,) - dtype: <U30\n",
      "  loading  labels\n",
      "     shape: (50,) - dtype: int32\n",
      "\n",
      "\n",
      "Loading 'valid' set\n",
      "  loading  data\n",
      "     shape: (139, 299, 299, 3) - dtype: float64\n",
      "  loading  features\n",
      "     shape: (139, 2048) - dtype: float64\n",
      "  loading  filenames\n",
      "     shape: (139,) - dtype: <U30\n",
      "  loading  labels\n",
      "     shape: (139,) - dtype: int32\n",
      "\n",
      "\n",
      "building 'trainX' set\n",
      "  building  data\n",
      "     shape: (420, 299, 299, 3) - dtype: float64\n",
      "  building  features\n",
      "     shape: (420, 2048) - dtype: float64\n",
      "  building  filenames\n",
      "     shape: (420,) - dtype: <U48\n",
      "  building  labels\n",
      "     shape: (420,) - dtype: int32\n",
      "\n",
      "\n",
      "X['train'] shape: (281, 2048)\n",
      "y['train'] shape: (281, 2048)\n",
      "X['test'] shape: (50, 2048)\n",
      "y['test'] shape: (50, 2048)\n",
      "X['valid'] shape: (139, 2048)\n",
      "y['valid'] shape: (139, 2048)\n",
      "X['trainX'] shape: (420, 2048)\n",
      "y['trainX'] shape: (420, 2048)\n"
     ]
    }
   ],
   "source": [
    "# Run content of mylib.py file\n",
    "%run mylib.py\n",
    "\n",
    "# Load data from NPZ file\n",
    "#data=loadNpz()\n",
    "(data, X, y)=loadXy()"
   ]
  },
  {
   "cell_type": "markdown",
   "id": "253aef3e",
   "metadata": {},
   "source": [
    "## Four different decision trees\n",
    "\n",
    "In that Notebook, I will try four different type of decision trees:\n",
    "\n",
    "* DecisionTreeClassifier\n",
    "* RandomForestClassifier\n",
    "* LinearSVC, which is the same as SVM(kernel='linear')\n",
    "* SVM(kernel='rbf')\n",
    "\n",
    "For each of them, I'll do a grid search to fine tune the hyperparameters. I'll also save the model with the best hyperparameters on disk, in order to use them at the end of this project.\n",
    "\n",
    "Grid search parameters will include PCA on the data (I'll build pipelines to do so). I've decided to vary PCA component number to the corresponding value of total variance:\n",
    "\n",
    "* 90% => 128 components\n",
    "* 80% => 76 components\n",
    "* 50% => 16 components\n",
    "\n",
    "> Note: values above have been taken from the results available in the Notebook No 02\n",
    "\n",
    "In the next cell, I will import needed liraries and define some constant I will use across the Notebook"
   ]
  },
  {
   "cell_type": "code",
   "execution_count": 2,
   "id": "4859158c",
   "metadata": {},
   "outputs": [],
   "source": [
    "import pandas as pd\n",
    "\n",
    "from sklearn.model_selection import GridSearchCV\n",
    "from sklearn.pipeline import Pipeline\n",
    "from sklearn.decomposition import PCA\n",
    "\n",
    "# cv parameter of the GridSearchCV object\n",
    "CV=5\n",
    "\n",
    "# max tree depth to us in model\n",
    "MAX_DEPTH=3"
   ]
  },
  {
   "cell_type": "markdown",
   "id": "967d3995",
   "metadata": {},
   "source": [
    "## DecisionTreeClassifier\n",
    "\n",
    "First, I will perform a grid search on some hyper-parameters with a *max_depth* value of 3, this is to answer the questions:\n",
    "\n",
    "* What accuracy can you achieve with a depth of 3?\n",
    "* Plot the corresponding tree with graphviz\n",
    "* Do you get better results if you reduce the number of dimensions with PCA first?\n",
    "\n",
    "Second, I'll redo a grid search using different values for the *max_depth* parameter and see what append. If I get better results, I'll use it to evaluate the model and compare to others.\n"
   ]
  },
  {
   "cell_type": "markdown",
   "id": "6a16668c",
   "metadata": {},
   "source": [
    "### Work with fixed max_depth=3"
   ]
  },
  {
   "cell_type": "code",
   "execution_count": 3,
   "id": "8c215617",
   "metadata": {},
   "outputs": [
    {
     "name": "stdout",
     "output_type": "stream",
     "text": [
      "Fitting 5 folds for each of 8 candidates, totalling 40 fits\n"
     ]
    },
    {
     "name": "stderr",
     "output_type": "stream",
     "text": [
      "[Parallel(n_jobs=-1)]: Using backend LokyBackend with 8 concurrent workers.\n",
      "[Parallel(n_jobs=-1)]: Done  40 out of  40 | elapsed:    6.5s finished\n"
     ]
    },
    {
     "data": {
      "text/plain": [
       "GridSearchCV(cv=5, error_score='raise-deprecating',\n",
       "       estimator=Pipeline(memory=None,\n",
       "     steps=[('pca', PCA(copy=True, iterated_power='auto', n_components=None, random_state=None,\n",
       "  svd_solver='auto', tol=0.0, whiten=False)), ('dt', DecisionTreeClassifier(class_weight=None, criterion='gini', max_depth=3,\n",
       "            max_features=None, max_leaf_nodes=...        min_weight_fraction_leaf=0.0, presort=False, random_state=0,\n",
       "            splitter='best'))]),\n",
       "       fit_params=None, iid=True, n_jobs=-1,\n",
       "       param_grid={'dt__criterion': ['gini', 'entropy'], 'dt__max_depth': [3], 'pca__n_components': [None, 128, 76, 16]},\n",
       "       pre_dispatch='2*n_jobs', refit=True, return_train_score=True,\n",
       "       scoring=None, verbose=True)"
      ]
     },
     "execution_count": 3,
     "metadata": {},
     "output_type": "execute_result"
    }
   ],
   "source": [
    "from sklearn.tree import DecisionTreeClassifier\n",
    "\n",
    "\n",
    "# Create the pipeline and fit it to training data\n",
    "dt_pipe = Pipeline([\n",
    "    ('pca', PCA(n_components=None)),\n",
    "    ('dt', DecisionTreeClassifier(criterion='gini', max_depth=MAX_DEPTH, random_state=0))\n",
    "    \n",
    "])\n",
    "\n",
    "# Here are the different parameters I will vary\n",
    "dt_grid_param={\n",
    "    'dt__criterion': ['gini', 'entropy'],\n",
    "    'dt__max_depth': [3],\n",
    "    'pca__n_components': [None, 128, 76, 16]\n",
    "}\n",
    "\n",
    "# Build the GridSearchCV object using versbose and parallel execution options\n",
    "grid_dt=GridSearchCV(dt_pipe, dt_grid_param, cv=CV, refit=True, return_train_score=True, verbose=True, n_jobs=-1, iid=True)\n",
    "\n",
    "\n",
    "# Fit the model\n",
    "grid_dt.fit(X['trainX'], y['trainX'])\n"
   ]
  },
  {
   "cell_type": "code",
   "execution_count": 4,
   "id": "4cf37984",
   "metadata": {},
   "outputs": [
    {
     "data": {
      "text/html": [
       "<div>\n",
       "<style scoped>\n",
       "    .dataframe tbody tr th:only-of-type {\n",
       "        vertical-align: middle;\n",
       "    }\n",
       "\n",
       "    .dataframe tbody tr th {\n",
       "        vertical-align: top;\n",
       "    }\n",
       "\n",
       "    .dataframe thead th {\n",
       "        text-align: right;\n",
       "    }\n",
       "</style>\n",
       "<table border=\"1\" class=\"dataframe\">\n",
       "  <thead>\n",
       "    <tr style=\"text-align: right;\">\n",
       "      <th></th>\n",
       "      <th>param_dt__criterion</th>\n",
       "      <th>param_dt__max_depth</th>\n",
       "      <th>param_pca__n_components</th>\n",
       "      <th>mean_test_score</th>\n",
       "      <th>std_test_score</th>\n",
       "      <th>mean_train_score</th>\n",
       "    </tr>\n",
       "  </thead>\n",
       "  <tbody>\n",
       "    <tr>\n",
       "      <th>4</th>\n",
       "      <td>entropy</td>\n",
       "      <td>3</td>\n",
       "      <td>None</td>\n",
       "      <td>0.809524</td>\n",
       "      <td>0.038771</td>\n",
       "      <td>0.853656</td>\n",
       "    </tr>\n",
       "    <tr>\n",
       "      <th>5</th>\n",
       "      <td>entropy</td>\n",
       "      <td>3</td>\n",
       "      <td>128</td>\n",
       "      <td>0.809524</td>\n",
       "      <td>0.038771</td>\n",
       "      <td>0.853656</td>\n",
       "    </tr>\n",
       "    <tr>\n",
       "      <th>6</th>\n",
       "      <td>entropy</td>\n",
       "      <td>3</td>\n",
       "      <td>76</td>\n",
       "      <td>0.809524</td>\n",
       "      <td>0.038771</td>\n",
       "      <td>0.853656</td>\n",
       "    </tr>\n",
       "    <tr>\n",
       "      <th>7</th>\n",
       "      <td>entropy</td>\n",
       "      <td>3</td>\n",
       "      <td>16</td>\n",
       "      <td>0.809524</td>\n",
       "      <td>0.038771</td>\n",
       "      <td>0.854256</td>\n",
       "    </tr>\n",
       "    <tr>\n",
       "      <th>0</th>\n",
       "      <td>gini</td>\n",
       "      <td>3</td>\n",
       "      <td>None</td>\n",
       "      <td>0.778571</td>\n",
       "      <td>0.018679</td>\n",
       "      <td>0.792872</td>\n",
       "    </tr>\n",
       "  </tbody>\n",
       "</table>\n",
       "</div>"
      ],
      "text/plain": [
       "  param_dt__criterion param_dt__max_depth param_pca__n_components  \\\n",
       "4             entropy                   3                    None   \n",
       "5             entropy                   3                     128   \n",
       "6             entropy                   3                      76   \n",
       "7             entropy                   3                      16   \n",
       "0                gini                   3                    None   \n",
       "\n",
       "   mean_test_score  std_test_score  mean_train_score  \n",
       "4         0.809524        0.038771          0.853656  \n",
       "5         0.809524        0.038771          0.853656  \n",
       "6         0.809524        0.038771          0.853656  \n",
       "7         0.809524        0.038771          0.854256  \n",
       "0         0.778571        0.018679          0.792872  "
      ]
     },
     "execution_count": 4,
     "metadata": {},
     "output_type": "execute_result"
    }
   ],
   "source": [
    "# Display top 5 best test score\n",
    "columns=[\n",
    "    'param_dt__criterion', 'param_dt__max_depth', 'param_pca__n_components', 'mean_test_score', 'std_test_score', 'mean_train_score'\n",
    "]\n",
    "pd.DataFrame(grid_dt.cv_results_).sort_values('mean_test_score', ascending=False)[columns].head(5)\n"
   ]
  },
  {
   "cell_type": "code",
   "execution_count": 5,
   "id": "72d77ccc",
   "metadata": {},
   "outputs": [
    {
     "data": {
      "text/plain": [
       "0.8"
      ]
     },
     "execution_count": 5,
     "metadata": {},
     "output_type": "execute_result"
    }
   ],
   "source": [
    "best_estimator=grid_dt.best_estimator_\n",
    "\n",
    "best_estimator.score(X['test'], y['test'])\n",
    "\n",
    "# saveModel(dt, 'decision-tree')\n"
   ]
  },
  {
   "cell_type": "code",
   "execution_count": 6,
   "id": "881c9d43",
   "metadata": {},
   "outputs": [],
   "source": [
    "from sklearn.tree import export_graphviz\n",
    "\n",
    "# Export decision tree\n",
    "#dot_data = export_graphviz(\n",
    "#    dt, out_file=None,\n",
    "#    class_names=data['class_name'],\n",
    "#    filled=True, rounded=True, proportion=True   \n",
    "#)\n"
   ]
  },
  {
   "cell_type": "markdown",
   "id": "8e095350",
   "metadata": {},
   "source": [
    "### *max_depth* as an hyper-parameter of the grid-search"
   ]
  },
  {
   "cell_type": "code",
   "execution_count": 7,
   "id": "75944cef",
   "metadata": {},
   "outputs": [
    {
     "name": "stdout",
     "output_type": "stream",
     "text": [
      "Fitting 5 folds for each of 64 candidates, totalling 320 fits\n"
     ]
    },
    {
     "name": "stderr",
     "output_type": "stream",
     "text": [
      "[Parallel(n_jobs=-1)]: Using backend LokyBackend with 8 concurrent workers.\n",
      "[Parallel(n_jobs=-1)]: Done  34 tasks      | elapsed:    5.9s\n",
      "[Parallel(n_jobs=-1)]: Done 184 tasks      | elapsed:   28.6s\n",
      "[Parallel(n_jobs=-1)]: Done 320 out of 320 | elapsed:   47.0s finished\n"
     ]
    },
    {
     "data": {
      "text/plain": [
       "GridSearchCV(cv=5, error_score='raise-deprecating',\n",
       "       estimator=Pipeline(memory=None,\n",
       "     steps=[('pca', PCA(copy=True, iterated_power='auto', n_components=None, random_state=None,\n",
       "  svd_solver='auto', tol=0.0, whiten=False)), ('dt', DecisionTreeClassifier(class_weight=None, criterion='gini', max_depth=3,\n",
       "            max_features=None, max_leaf_nodes=...        min_weight_fraction_leaf=0.0, presort=False, random_state=0,\n",
       "            splitter='best'))]),\n",
       "       fit_params=None, iid=True, n_jobs=-1,\n",
       "       param_grid={'dt__criterion': ['gini', 'entropy'], 'dt__max_depth': [3, 4, 5, 6, 7, 8, 9, 10], 'pca__n_components': [None, 128, 76, 16]},\n",
       "       pre_dispatch='2*n_jobs', refit=True, return_train_score=True,\n",
       "       scoring=None, verbose=True)"
      ]
     },
     "execution_count": 7,
     "metadata": {},
     "output_type": "execute_result"
    }
   ],
   "source": [
    "# Here are the different parameters I will vary\n",
    "dt_grid_param['dt__max_depth']=[3, 4, 5, 6, 7, 8, 9, 10]\n",
    "\n",
    "# Build the GridSearchCV object using versbose and parallel execution options\n",
    "grid_dt=GridSearchCV(dt_pipe, dt_grid_param, cv=CV, refit=True, return_train_score=True, verbose=True, n_jobs=-1, iid=True)\n",
    "\n",
    "# Fit the model\n",
    "grid_dt.fit(X['trainX'], y['trainX'])"
   ]
  },
  {
   "cell_type": "code",
   "execution_count": 8,
   "id": "9e5ebc32",
   "metadata": {},
   "outputs": [
    {
     "data": {
      "text/html": [
       "<div>\n",
       "<style scoped>\n",
       "    .dataframe tbody tr th:only-of-type {\n",
       "        vertical-align: middle;\n",
       "    }\n",
       "\n",
       "    .dataframe tbody tr th {\n",
       "        vertical-align: top;\n",
       "    }\n",
       "\n",
       "    .dataframe thead th {\n",
       "        text-align: right;\n",
       "    }\n",
       "</style>\n",
       "<table border=\"1\" class=\"dataframe\">\n",
       "  <thead>\n",
       "    <tr style=\"text-align: right;\">\n",
       "      <th></th>\n",
       "      <th>param_dt__criterion</th>\n",
       "      <th>param_dt__max_depth</th>\n",
       "      <th>param_pca__n_components</th>\n",
       "      <th>mean_test_score</th>\n",
       "      <th>std_test_score</th>\n",
       "      <th>mean_train_score</th>\n",
       "    </tr>\n",
       "  </thead>\n",
       "  <tbody>\n",
       "    <tr>\n",
       "      <th>30</th>\n",
       "      <td>gini</td>\n",
       "      <td>10</td>\n",
       "      <td>76</td>\n",
       "      <td>0.895238</td>\n",
       "      <td>0.036078</td>\n",
       "      <td>0.999408</td>\n",
       "    </tr>\n",
       "    <tr>\n",
       "      <th>25</th>\n",
       "      <td>gini</td>\n",
       "      <td>9</td>\n",
       "      <td>128</td>\n",
       "      <td>0.892857</td>\n",
       "      <td>0.031901</td>\n",
       "      <td>0.998225</td>\n",
       "    </tr>\n",
       "    <tr>\n",
       "      <th>26</th>\n",
       "      <td>gini</td>\n",
       "      <td>9</td>\n",
       "      <td>76</td>\n",
       "      <td>0.890476</td>\n",
       "      <td>0.041704</td>\n",
       "      <td>0.998225</td>\n",
       "    </tr>\n",
       "    <tr>\n",
       "      <th>13</th>\n",
       "      <td>gini</td>\n",
       "      <td>6</td>\n",
       "      <td>128</td>\n",
       "      <td>0.890476</td>\n",
       "      <td>0.038211</td>\n",
       "      <td>0.967856</td>\n",
       "    </tr>\n",
       "    <tr>\n",
       "      <th>22</th>\n",
       "      <td>gini</td>\n",
       "      <td>8</td>\n",
       "      <td>76</td>\n",
       "      <td>0.890476</td>\n",
       "      <td>0.039482</td>\n",
       "      <td>0.993470</td>\n",
       "    </tr>\n",
       "  </tbody>\n",
       "</table>\n",
       "</div>"
      ],
      "text/plain": [
       "   param_dt__criterion param_dt__max_depth param_pca__n_components  \\\n",
       "30                gini                  10                      76   \n",
       "25                gini                   9                     128   \n",
       "26                gini                   9                      76   \n",
       "13                gini                   6                     128   \n",
       "22                gini                   8                      76   \n",
       "\n",
       "    mean_test_score  std_test_score  mean_train_score  \n",
       "30         0.895238        0.036078          0.999408  \n",
       "25         0.892857        0.031901          0.998225  \n",
       "26         0.890476        0.041704          0.998225  \n",
       "13         0.890476        0.038211          0.967856  \n",
       "22         0.890476        0.039482          0.993470  "
      ]
     },
     "execution_count": 8,
     "metadata": {},
     "output_type": "execute_result"
    }
   ],
   "source": [
    "# Display top 5 best test score\n",
    "columns=[\n",
    "    'param_dt__criterion', 'param_dt__max_depth', 'param_pca__n_components', 'mean_test_score', 'std_test_score', 'mean_train_score'\n",
    "]\n",
    "pd.DataFrame(grid_dt.cv_results_).sort_values('mean_test_score', ascending=False)[columns].head(5)\n"
   ]
  },
  {
   "cell_type": "code",
   "execution_count": 9,
   "id": "12bd5da1",
   "metadata": {},
   "outputs": [
    {
     "data": {
      "text/plain": [
       "0.84"
      ]
     },
     "execution_count": 9,
     "metadata": {},
     "output_type": "execute_result"
    }
   ],
   "source": [
    "grid_dt.best_estimator_.score(X['test'], y['test'])"
   ]
  },
  {
   "cell_type": "code",
   "execution_count": 13,
   "id": "3114ef8e",
   "metadata": {},
   "outputs": [
    {
     "data": {
      "text/plain": [
       "{'memory': None,\n",
       " 'steps': [('pca',\n",
       "   PCA(copy=True, iterated_power='auto', n_components=76, random_state=None,\n",
       "     svd_solver='auto', tol=0.0, whiten=False)),\n",
       "  ('dt',\n",
       "   DecisionTreeClassifier(class_weight=None, criterion='gini', max_depth=10,\n",
       "               max_features=None, max_leaf_nodes=None,\n",
       "               min_impurity_decrease=0.0, min_impurity_split=None,\n",
       "               min_samples_leaf=1, min_samples_split=2,\n",
       "               min_weight_fraction_leaf=0.0, presort=False, random_state=0,\n",
       "               splitter='best'))],\n",
       " 'pca': PCA(copy=True, iterated_power='auto', n_components=76, random_state=None,\n",
       "   svd_solver='auto', tol=0.0, whiten=False),\n",
       " 'dt': DecisionTreeClassifier(class_weight=None, criterion='gini', max_depth=10,\n",
       "             max_features=None, max_leaf_nodes=None,\n",
       "             min_impurity_decrease=0.0, min_impurity_split=None,\n",
       "             min_samples_leaf=1, min_samples_split=2,\n",
       "             min_weight_fraction_leaf=0.0, presort=False, random_state=0,\n",
       "             splitter='best'),\n",
       " 'pca__copy': True,\n",
       " 'pca__iterated_power': 'auto',\n",
       " 'pca__n_components': 76,\n",
       " 'pca__random_state': None,\n",
       " 'pca__svd_solver': 'auto',\n",
       " 'pca__tol': 0.0,\n",
       " 'pca__whiten': False,\n",
       " 'dt__class_weight': None,\n",
       " 'dt__criterion': 'gini',\n",
       " 'dt__max_depth': 10,\n",
       " 'dt__max_features': None,\n",
       " 'dt__max_leaf_nodes': None,\n",
       " 'dt__min_impurity_decrease': 0.0,\n",
       " 'dt__min_impurity_split': None,\n",
       " 'dt__min_samples_leaf': 1,\n",
       " 'dt__min_samples_split': 2,\n",
       " 'dt__min_weight_fraction_leaf': 0.0,\n",
       " 'dt__presort': False,\n",
       " 'dt__random_state': 0,\n",
       " 'dt__splitter': 'best'}"
      ]
     },
     "execution_count": 13,
     "metadata": {},
     "output_type": "execute_result"
    }
   ],
   "source": [
    "grid_dt.best_estimator_.get_params()"
   ]
  },
  {
   "cell_type": "code",
   "execution_count": 11,
   "id": "dc0147eb",
   "metadata": {},
   "outputs": [
    {
     "name": "stdout",
     "output_type": "stream",
     "text": [
      "Saving model decision-tree to model-decision-tree.sav\n"
     ]
    }
   ],
   "source": [
    "saveModel(grid_dt.best_estimator_, 'decision-tree')"
   ]
  },
  {
   "cell_type": "code",
   "execution_count": null,
   "id": "2410f6b4",
   "metadata": {},
   "outputs": [],
   "source": []
  }
 ],
 "metadata": {
  "kernelspec": {
   "display_name": "Python 3",
   "language": "python",
   "name": "python3"
  },
  "language_info": {
   "codemirror_mode": {
    "name": "ipython",
    "version": 3
   },
   "file_extension": ".py",
   "mimetype": "text/x-python",
   "name": "python",
   "nbconvert_exporter": "python",
   "pygments_lexer": "ipython3",
   "version": "3.6.13"
  }
 },
 "nbformat": 4,
 "nbformat_minor": 5
}
