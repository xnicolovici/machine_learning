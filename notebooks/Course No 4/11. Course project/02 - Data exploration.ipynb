{
 "cells": [
  {
   "cell_type": "code",
   "execution_count": 1,
   "metadata": {},
   "outputs": [],
   "source": [
    "import numpy as np\n",
    "import os\n"
   ]
  },
  {
   "cell_type": "code",
   "execution_count": 16,
   "metadata": {},
   "outputs": [
    {
     "name": "stdout",
     "output_type": "stream",
     "text": [
      "<numpy.lib.npyio.NpzFile object at 0x7fb1016a5c50>\n",
      "['arr_0', 'arr_1']\n"
     ]
    }
   ],
   "source": [
    "# Load data\n",
    "with np.load(os.path.join('data', 'data.npz')) as npz_file:\n",
    "    print(npz_file)\n",
    "    pass\n",
    "  \n",
    "dict=np.load(os.path.join('data', 'data.npz'))\n",
    "\n",
    "print(dict.files)\n",
    "#print('X:', X.shape, X.dtype)\n",
    "\n",
    "#print('y:', y.shape, y.dtype)"
   ]
  },
  {
   "cell_type": "code",
   "execution_count": null,
   "metadata": {},
   "outputs": [],
   "source": []
  }
 ],
 "metadata": {
  "kernelspec": {
   "display_name": "Python 3",
   "language": "python",
   "name": "python3"
  },
  "language_info": {
   "codemirror_mode": {
    "name": "ipython",
    "version": 3
   },
   "file_extension": ".py",
   "mimetype": "text/x-python",
   "name": "python",
   "nbconvert_exporter": "python",
   "pygments_lexer": "ipython3",
   "version": "3.6.13"
  }
 },
 "nbformat": 4,
 "nbformat_minor": 4
}
