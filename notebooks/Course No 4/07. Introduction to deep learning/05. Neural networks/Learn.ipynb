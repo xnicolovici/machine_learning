{
 "cells": [
  {
   "cell_type": "code",
   "execution_count": 1,
   "metadata": {},
   "outputs": [],
   "source": [
    "import pandas as pd\n",
    "import numpy as np\n",
    "import os\n"
   ]
  },
  {
   "cell_type": "code",
   "execution_count": 2,
   "metadata": {},
   "outputs": [
    {
     "name": "stdout",
     "output_type": "stream",
     "text": [
      "X: (6000, 784) uint8\n",
      "y: (6000,) int32\n"
     ]
    }
   ],
   "source": [
    "# Load data\n",
    "with np.load(os.path.join('.', 'mnist-6k.npz')) as npz_file:\n",
    "    X = npz_file['data']\n",
    "    y = npz_file['labels']\n",
    "    \n",
    "print('X:', X.shape, X.dtype)\n",
    "print('y:', y.shape, y.dtype)"
   ]
  },
  {
   "cell_type": "code",
   "execution_count": 3,
   "metadata": {},
   "outputs": [
    {
     "name": "stdout",
     "output_type": "stream",
     "text": [
      "Train: (5000, 784) (5000,)\n",
      "Validation: (500, 784) (500,)\n",
      "Test: (500, 784) (500,)\n"
     ]
    }
   ],
   "source": [
    "from sklearn.model_selection import train_test_split\n",
    "\n",
    "X_train, X_test, y_train, y_test = train_test_split(X.astype(np.float32), y, test_size=1000, random_state=0)\n",
    "X_valid, X_test, y_valid, y_test = train_test_split(X_test, y_test, test_size=500, random_state=0)\n",
    "\n",
    "print('Train:', X_train.shape, y_train.shape)\n",
    "# Prints: (5000, 784) (5000,)\n",
    "print('Validation:', X_valid.shape, y_valid.shape)\n",
    "# Prints: (500, 784) (500,)\n",
    "print('Test:', X_test.shape, y_test.shape)\n",
    "# Prints: (500, 784) (500,)"
   ]
  },
  {
   "cell_type": "code",
   "execution_count": 14,
   "metadata": {},
   "outputs": [],
   "source": [
    "import tensorflow as tf"
   ]
  },
  {
   "cell_type": "code",
   "execution_count": 17,
   "metadata": {},
   "outputs": [],
   "source": [
    "X=tf.placeholder(tf.float32, shape=[None, 784])\n",
    "y=tf.placeholder(tf.int32, shape=[None])"
   ]
  },
  {
   "cell_type": "code",
   "execution_count": 21,
   "metadata": {},
   "outputs": [],
   "source": [
    "# Create variables\n",
    "W = tf.Variable(initial_value=tf.zeros(shape=[784, 10]))\n",
    "b = tf.Variable(initial_value=tf.zeros(shape=[10]))"
   ]
  },
  {
   "cell_type": "code",
   "execution_count": 24,
   "metadata": {},
   "outputs": [
    {
     "name": "stdout",
     "output_type": "stream",
     "text": [
      "(?, 10)\n"
     ]
    }
   ],
   "source": [
    "# Implement the formula\n",
    "\n",
    "logits=tf.add(tf.matmul(X, W), b)\n",
    "print(logits.shape)"
   ]
  },
  {
   "cell_type": "code",
   "execution_count": 30,
   "metadata": {},
   "outputs": [
    {
     "name": "stdout",
     "output_type": "stream",
     "text": [
      "(?,)\n"
     ]
    }
   ],
   "source": [
    "# Cross-entropy loss function\n",
    "y_one_hot = tf.one_hot(indices=y, depth=10)\n",
    "ce = tf.nn.softmax_cross_entropy_with_logits(\n",
    "    labels=y_one_hot, # Requires one-hot encoded labels\n",
    "    logits=logits\n",
    ")\n",
    "print(ce.shape) # prints: (?,)"
   ]
  },
  {
   "cell_type": "code",
   "execution_count": 31,
   "metadata": {},
   "outputs": [
    {
     "name": "stdout",
     "output_type": "stream",
     "text": [
      "()\n"
     ]
    }
   ],
   "source": [
    "# Mean cross-entropy\n",
    "mean_ce = tf.reduce_mean(ce)\n",
    "print(mean_ce.shape) # prints: ()"
   ]
  },
  {
   "cell_type": "code",
   "execution_count": 32,
   "metadata": {},
   "outputs": [],
   "source": [
    "# Gradient descent\n",
    "lr = tf.placeholder(dtype=tf.float32, shape=[])\n",
    "gd = tf.train.GradientDescentOptimizer(\n",
    "    learning_rate=lr)\n",
    "\n",
    "# Minimize cross-entropy\n",
    "train_op = gd.minimize(mean_ce)"
   ]
  },
  {
   "cell_type": "code",
   "execution_count": 33,
   "metadata": {},
   "outputs": [
    {
     "name": "stdout",
     "output_type": "stream",
     "text": [
      "(?,)\n"
     ]
    }
   ],
   "source": [
    "# Compute predictions\n",
    "predictions = tf.argmax(\n",
    "    logits, # shape: (n, 10)\n",
    "    axis=1, # class with max logit\n",
    "    output_type=tf.int32 # Same type as labels\n",
    ")\n",
    "print(predictions.shape) # prints: (?,)"
   ]
  },
  {
   "cell_type": "code",
   "execution_count": 34,
   "metadata": {},
   "outputs": [
    {
     "name": "stdout",
     "output_type": "stream",
     "text": [
      "(?,)\n"
     ]
    }
   ],
   "source": [
    "# Are the predictions correct?\n",
    "is_correct = tf.equal(y, predictions)\n",
    "print(is_correct.shape) # prints: (?,)"
   ]
  },
  {
   "cell_type": "code",
   "execution_count": 35,
   "metadata": {},
   "outputs": [
    {
     "name": "stdout",
     "output_type": "stream",
     "text": [
      "()\n"
     ]
    }
   ],
   "source": [
    "# Accuracy\n",
    "accuracy = tf.reduce_mean(\n",
    "    # Convert booleans (false/true) to 0/1 float numbers\n",
    "    tf.cast(is_correct, dtype=tf.float32)\n",
    ")\n",
    "print(accuracy.shape) # prints: ()"
   ]
  },
  {
   "cell_type": "markdown",
   "metadata": {},
   "source": [
    "### To be continued..."
   ]
  },
  {
   "cell_type": "code",
   "execution_count": null,
   "metadata": {},
   "outputs": [],
   "source": []
  }
 ],
 "metadata": {
  "kernelspec": {
   "display_name": "Python 3",
   "language": "python",
   "name": "python3"
  },
  "language_info": {
   "codemirror_mode": {
    "name": "ipython",
    "version": 3
   },
   "file_extension": ".py",
   "mimetype": "text/x-python",
   "name": "python",
   "nbconvert_exporter": "python",
   "pygments_lexer": "ipython3",
   "version": "3.6.10"
  }
 },
 "nbformat": 4,
 "nbformat_minor": 4
}
