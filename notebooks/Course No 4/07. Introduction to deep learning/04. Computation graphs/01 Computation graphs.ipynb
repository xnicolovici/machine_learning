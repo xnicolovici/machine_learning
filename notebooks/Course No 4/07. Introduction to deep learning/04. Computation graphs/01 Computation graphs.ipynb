{
 "cells": [
  {
   "cell_type": "markdown",
   "metadata": {},
   "source": [
    "Computation graphs\n",
    "---"
   ]
  },
  {
   "cell_type": "code",
   "execution_count": null,
   "metadata": {},
   "outputs": [],
   "source": [
    "import pandas as pd\n",
    "\n",
    "# Load data\n",
    "data_df = pd.read_csv('brain-body-weights.csv')\n",
    "\n",
    "# First five rows\n",
    "data_df.head()"
   ]
  },
  {
   "cell_type": "code",
   "execution_count": null,
   "metadata": {},
   "outputs": [],
   "source": [
    "%matplotlib inline\n",
    "import matplotlib.pyplot as plt\n",
    "import seaborn as sns\n",
    "\n",
    "# Activate Seaborn\n",
    "sns.set()\n",
    "\n",
    "# Plot data\n",
    "plt.scatter(data_df.body, data_df.brain)\n",
    "plt.xlabel('Body weight (log)')\n",
    "plt.ylabel('Brain weight (log)')\n",
    "plt.show()"
   ]
  },
  {
   "cell_type": "code",
   "execution_count": null,
   "metadata": {},
   "outputs": [],
   "source": [
    "import tensorflow as tf"
   ]
  },
  {
   "cell_type": "code",
   "execution_count": null,
   "metadata": {},
   "outputs": [],
   "source": [
    "# Slope and intercept parameters\n",
    "a = tf.Variable(initial_value=0, dtype=tf.float32)\n",
    "b = tf.Variable(initial_value=0, dtype=tf.float32)"
   ]
  },
  {
   "cell_type": "code",
   "execution_count": null,
   "metadata": {},
   "outputs": [],
   "source": [
    "# Comment: tf will use tf.int32 if we don't specify (because of 0)"
   ]
  },
  {
   "cell_type": "code",
   "execution_count": null,
   "metadata": {},
   "outputs": [],
   "source": [
    "# Create a placeholder for input/target data\n",
    "x = tf.placeholder(dtype=tf.float32)\n",
    "y = tf.placeholder(dtype=tf.float32)"
   ]
  },
  {
   "cell_type": "code",
   "execution_count": null,
   "metadata": {},
   "outputs": [],
   "source": [
    "# Compute predictions\n",
    "y_hat = a*x + b"
   ]
  },
  {
   "cell_type": "code",
   "execution_count": null,
   "metadata": {},
   "outputs": [],
   "source": [
    "# Mean squared error (MSE)\n",
    "loss = tf.reduce_mean( # Equivalent to np.mean()\n",
    "    tf.square( # Equivalent to np.square()\n",
    "        y - y_hat # Implements broadcasting like Numpy\n",
    "    )\n",
    ")"
   ]
  },
  {
   "cell_type": "code",
   "execution_count": null,
   "metadata": {},
   "outputs": [],
   "source": [
    "# Huber loss\n",
    "loss = tf.losses.huber_loss(y, y_hat, delta=1.0)"
   ]
  },
  {
   "cell_type": "code",
   "execution_count": null,
   "metadata": {},
   "outputs": [],
   "source": [
    "# Create the optimizer\n",
    "gd = tf.train.GradientDescentOptimizer(\n",
    "    learning_rate=0.1)"
   ]
  },
  {
   "cell_type": "code",
   "execution_count": null,
   "metadata": {},
   "outputs": [],
   "source": [
    "# Learning rate placeholder\n",
    "lr = tf.placeholder(dtype=tf.float32)\n",
    "\n",
    "# Create the optimizer\n",
    "gd = tf.train.GradientDescentOptimizer(\n",
    "    learning_rate=lr)"
   ]
  },
  {
   "cell_type": "code",
   "execution_count": null,
   "metadata": {},
   "outputs": [],
   "source": [
    "# Create a training operation\n",
    "train_op = gd.minimize(loss)"
   ]
  },
  {
   "cell_type": "code",
   "execution_count": null,
   "metadata": {},
   "outputs": [],
   "source": [
    "# Initialization operation\n",
    "initialization_op = tf.global_variables_initializer()\n",
    "\n",
    "with tf.Session() as sess:\n",
    "    # Initialize the graph\n",
    "    sess.run(initialization_op)\n",
    "\n",
    "    # Evaluate node \"a\"\n",
    "    result = sess.run(a)\n",
    "    print(result)"
   ]
  },
  {
   "cell_type": "code",
   "execution_count": null,
   "metadata": {},
   "outputs": [],
   "source": [
    "with tf.Session() as sess:\n",
    "    # Initialize the graph\n",
    "    sess.run(initialization_op)\n",
    "    \n",
    "    # Compute predictions without injecting an x value\n",
    "    try:\n",
    "        result = sess.run(y_hat)\n",
    "    except Exception as e:\n",
    "        print(e.message)"
   ]
  },
  {
   "cell_type": "code",
   "execution_count": null,
   "metadata": {},
   "outputs": [],
   "source": [
    "with tf.Session() as sess:\n",
    "    # Initialize the graph\n",
    "    sess.run(initialization_op)\n",
    "\n",
    "    # Compute predictions\n",
    "    result = sess.run(y_hat, feed_dict={\n",
    "        x: data_df.body # Feed body weights\n",
    "    })\n",
    "    print(result)"
   ]
  },
  {
   "cell_type": "code",
   "execution_count": null,
   "metadata": {},
   "outputs": [],
   "source": [
    "with tf.Session() as sess:\n",
    "    # Initialize the graph\n",
    "    sess.run(initialization_op)\n",
    "    \n",
    "    # Run the training operation, get loss value\n",
    "    result = sess.run([train_op, loss], feed_dict={\n",
    "        x: data_df.body, # Body weights\n",
    "        y: data_df.brain, # Brain weights\n",
    "        lr: 0.1 # Learning rate\n",
    "    })\n",
    "    print(result)"
   ]
  },
  {
   "cell_type": "code",
   "execution_count": null,
   "metadata": {},
   "outputs": [],
   "source": [
    "# Monitor the a/b and loss values\n",
    "loss_values = []\n",
    "a_values = []\n",
    "b_values = []\n",
    "\n",
    "with tf.Session() as sess:\n",
    "    # Initialize the graph\n",
    "    sess.run(initialization_op)\n",
    "    \n",
    "    # Run 100 times the training operation\n",
    "    for _ in range(100):\n",
    "        # Run training op and collect a/b and loss values\n",
    "        _, loss_val, a_val, b_val = sess.run(\n",
    "            [train_op, loss, a, b],\n",
    "            feed_dict={\n",
    "                x: data_df.body, # Body weight\n",
    "                y: data_df.brain, # Brain weight\n",
    "                lr: 0.1 # Learning rate\n",
    "        })\n",
    "        \n",
    "        # Save values\n",
    "        loss_values.append(loss_val)\n",
    "        a_values.append(a_val)\n",
    "        b_values.append(b_val)"
   ]
  },
  {
   "cell_type": "code",
   "execution_count": null,
   "metadata": {},
   "outputs": [],
   "source": [
    "# Create figure with a subplot for each list of values\n",
    "fig, (ax1, ax2, ax3) = plt.subplots(\n",
    "    nrows=1, ncols=3, figsize=(12, 3))\n",
    "\n",
    "# Plot loss values\n",
    "ax1.set_title('Loss')\n",
    "ax1.plot(loss_values)\n",
    "\n",
    "# Plot slope values\n",
    "ax2.set_title('a')\n",
    "ax2.plot(a_values)\n",
    "\n",
    "# Plot intercept values\n",
    "ax3.set_title('b')\n",
    "ax3.plot(b_values)\n",
    "\n",
    "plt.show()"
   ]
  },
  {
   "cell_type": "code",
   "execution_count": null,
   "metadata": {},
   "outputs": [],
   "source": [
    "import numpy as np\n",
    "\n",
    "# Compute mean and std of input variable\n",
    "print('Mean:', np.mean(data_df.body))\n",
    "print('Std:', np.std(data_df.body))"
   ]
  },
  {
   "cell_type": "code",
   "execution_count": null,
   "metadata": {},
   "outputs": [],
   "source": [
    "# Standardized input x\n",
    "x_standardized = (x - 8.643) / 3.539\n",
    "\n",
    "# Redefine graph (code from above)\n",
    "# ----------------\n",
    "# Compute predictions\n",
    "y_hat = a*x_standardized + b\n",
    "\n",
    "# Huber loss\n",
    "loss = tf.losses.huber_loss(y, y_hat)\n",
    "\n",
    "# Learning rate placeholder\n",
    "lr = tf.placeholder(dtype=tf.float32)\n",
    "\n",
    "# Create the optimizer\n",
    "gd = tf.train.GradientDescentOptimizer(learning_rate=lr)\n",
    "\n",
    "# Create a training operation\n",
    "train_op = gd.minimize(loss)"
   ]
  },
  {
   "cell_type": "code",
   "execution_count": null,
   "metadata": {},
   "outputs": [],
   "source": [
    "# Monitor the a/b and loss values\n",
    "loss_values = []\n",
    "a_values = []\n",
    "b_values = []\n",
    "\n",
    "with tf.Session() as sess:\n",
    "    # Initialize the graph\n",
    "    sess.run(initialization_op)\n",
    "    \n",
    "    # Run 100 times the training operation\n",
    "    for _ in range(100):\n",
    "        # Run training op and collect a/b and loss values\n",
    "        _, loss_val, a_val, b_val = sess.run(\n",
    "            [train_op, loss, a, b],\n",
    "            feed_dict={\n",
    "                x: data_df.body, # Body weight\n",
    "                y: data_df.brain, # Brain weight\n",
    "                lr: 0.1 # Learning rate\n",
    "        })\n",
    "        \n",
    "        # Save values\n",
    "        loss_values.append(loss_val)\n",
    "        a_values.append(a_val)\n",
    "        b_values.append(b_val)"
   ]
  },
  {
   "cell_type": "code",
   "execution_count": null,
   "metadata": {},
   "outputs": [],
   "source": [
    "# Create a hundred sample body weights\n",
    "x_values = np.linspace(\n",
    "    data_df.body.min(), # Between the minimum\n",
    "    data_df.body.max(), # and maximum body weight values\n",
    "    num=100\n",
    ")"
   ]
  },
  {
   "cell_type": "code",
   "execution_count": null,
   "metadata": {},
   "outputs": [],
   "source": [
    "with tf.Session() as sess:\n",
    "    # Initialize the graph\n",
    "    sess.run(initialization_op)\n",
    "    \n",
    "    # Compute predictions\n",
    "    y_values = sess.run(y_hat, feed_dict={\n",
    "        x: x_values, # Sample body weights\n",
    "        a: a_values[-1], # last slope value\n",
    "        b: b_values[-1] # last intercept value\n",
    "    })"
   ]
  },
  {
   "cell_type": "code",
   "execution_count": null,
   "metadata": {},
   "outputs": [],
   "source": [
    "# Plot data with sample predictions\n",
    "plt.scatter(data_df.body, data_df.brain, label=None)\n",
    "plt.plot(x_values, y_values, label='Huber loss', color='C3')\n",
    "plt.xlabel('Body weight (log)')\n",
    "plt.ylabel('Brain weight (log)')\n",
    "plt.legend()\n",
    "plt.show()"
   ]
  }
 ],
 "metadata": {
  "kernelspec": {
   "display_name": "Python 3",
   "language": "python",
   "name": "python3"
  },
  "language_info": {
   "codemirror_mode": {
    "name": "ipython",
    "version": 3
   },
   "file_extension": ".py",
   "mimetype": "text/x-python",
   "name": "python",
   "nbconvert_exporter": "python",
   "pygments_lexer": "ipython3",
   "version": "3.6.8"
  },
  "varInspector": {
   "cols": {
    "lenName": 16,
    "lenType": 16,
    "lenVar": 40
   },
   "kernels_config": {
    "python": {
     "delete_cmd_postfix": "",
     "delete_cmd_prefix": "del ",
     "library": "var_list.py",
     "varRefreshCmd": "print(var_dic_list())"
    },
    "r": {
     "delete_cmd_postfix": ") ",
     "delete_cmd_prefix": "rm(",
     "library": "var_list.r",
     "varRefreshCmd": "cat(var_dic_list()) "
    }
   },
   "types_to_exclude": [
    "module",
    "function",
    "builtin_function_or_method",
    "instance",
    "_Feature"
   ],
   "window_display": false
  }
 },
 "nbformat": 4,
 "nbformat_minor": 2
}
