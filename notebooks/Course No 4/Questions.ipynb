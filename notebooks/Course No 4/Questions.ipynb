{
 "cells": [
  {
   "cell_type": "markdown",
   "id": "e3f71649",
   "metadata": {},
   "source": [
    "# Questions concerning course #4"
   ]
  },
  {
   "cell_type": "markdown",
   "id": "f601c1d5",
   "metadata": {},
   "source": [
    "## What is the usage of *cross_validate*\n",
    "\n",
    "from sklearn.model_selection import cross_validate\n",
    "\n",
    "Used in *05. Decision trees and SVMs/03. Random forests/Learn.ipynb*"
   ]
  },
  {
   "cell_type": "markdown",
   "id": "0322c40e",
   "metadata": {},
   "source": [
    "## Review *05. Decision trees and SVMs/03. Random forests/Learn.ipynb*\n",
    "\n",
    "Part concerning the iris dataset is still not clear, review it again before going to the project course.\n",
    "\n",
    "I should spend time especially on the usage of the OneHotEncoder class"
   ]
  },
  {
   "cell_type": "code",
   "execution_count": null,
   "id": "8d4529b9",
   "metadata": {},
   "outputs": [],
   "source": []
  }
 ],
 "metadata": {
  "kernelspec": {
   "display_name": "Python 3",
   "language": "python",
   "name": "python3"
  },
  "language_info": {
   "codemirror_mode": {
    "name": "ipython",
    "version": 3
   },
   "file_extension": ".py",
   "mimetype": "text/x-python",
   "name": "python",
   "nbconvert_exporter": "python",
   "pygments_lexer": "ipython3",
   "version": "3.6.13"
  }
 },
 "nbformat": 4,
 "nbformat_minor": 5
}
