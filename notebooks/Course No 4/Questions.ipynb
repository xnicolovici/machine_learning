{
 "cells": [
  {
   "cell_type": "markdown",
   "id": "9294172d",
   "metadata": {},
   "source": [
    "# Questions concerning course #4"
   ]
  },
  {
   "cell_type": "markdown",
   "id": "9dec9274",
   "metadata": {},
   "source": [
    "## What is the usage of *cross_validate*\n",
    "\n",
    "from sklearn.model_selection import cross_validate\n",
    "\n",
    "Used in *05. Decision trees and SVMs/03. Random forests/Learn.ipynb*"
   ]
  },
  {
   "cell_type": "markdown",
   "id": "a918a0c1",
   "metadata": {},
   "source": [
    "## Review *05. Decision trees and SVMs/03. Random forests/Learn.ipynb*\n",
    "\n",
    "Part concerning the iris dataset is still not clear, review it again before going to the project course.\n",
    "\n",
    "I should spend time especially on the usage of the OneHotEncoder class"
   ]
  },
  {
   "cell_type": "markdown",
   "id": "4e1a390e",
   "metadata": {},
   "source": [
    "## 07 - Deep Learning / 05 - Neural Network\n",
    "\n",
    "I must work on that subject a bit further. Not surte that everything is crystal clear..."
   ]
  },
  {
   "cell_type": "markdown",
   "id": "dfc57e70",
   "metadata": {},
   "source": [
    "## 08 - Multilayer and convolutional neural networks\n",
    "\n",
    "In the MNIST multilayer network exercise, I've played with parameters to check if this can change prediction accuracy.\n",
    "\n",
    "Now, what about the effect of the 'batch_size' parameter ?"
   ]
  }
 ],
 "metadata": {
  "kernelspec": {
   "display_name": "Python 3",
   "language": "python",
   "name": "python3"
  },
  "language_info": {
   "codemirror_mode": {
    "name": "ipython",
    "version": 3
   },
   "file_extension": ".py",
   "mimetype": "text/x-python",
   "name": "python",
   "nbconvert_exporter": "python",
   "pygments_lexer": "ipython3",
   "version": "3.6.13"
  }
 },
 "nbformat": 4,
 "nbformat_minor": 5
}
