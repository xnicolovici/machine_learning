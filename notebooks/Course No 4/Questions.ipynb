{
 "cells": [
  {
   "cell_type": "markdown",
   "metadata": {},
   "source": [
    "# Questions concerning course #4"
   ]
  },
  {
   "cell_type": "markdown",
   "metadata": {},
   "source": [
    "## What is the usage of *cross_validate*\n",
    "\n",
    "from sklearn.model_selection import cross_validate\n",
    "\n",
    "Used in *05. Decision trees and SVMs/03. Random forests/Learn.ipynb*\n",
    "\n",
    "Answer: Cross validate is used to evaluate the statistical robustness of a model, without doing a full GridsearchCV "
   ]
  },
  {
   "cell_type": "markdown",
   "metadata": {},
   "source": [
    "## Review *05. Decision trees and SVMs/03. Random forests/Learn.ipynb*\n",
    "\n",
    "Part concerning the iris dataset is still not clear, review it again before going to the project course.\n",
    "\n",
    "I should spend time especially on the usage of the OneHotEncoder class"
   ]
  },
  {
   "cell_type": "markdown",
   "metadata": {},
   "source": [
    "## 07 - Deep Learning / 05 - Neural Network\n",
    "\n",
    "I must work on that subject a bit further. Not sure that everything is crystal clear..."
   ]
  },
  {
   "cell_type": "markdown",
   "metadata": {},
   "source": [
    "## 08 - Multilayer and convolutional neural networks\n",
    "\n",
    "In the MNIST multilayer network exercise, I've played with parameters to check if this can change prediction accuracy.\n",
    "\n",
    "Now, what about the effect of the 'batch_size' parameter ?"
   ]
  },
  {
   "cell_type": "markdown",
   "metadata": {},
   "source": [
    "## 08 - Multilayer and convolutional neural networks / 06 - Exercise\n",
    "\n",
    "1. Why should we create X_train, X_test and X_valid variables ?\n",
    "\n",
    "2. What's the strategy to choose the first learning rate value ?"
   ]
  },
  {
   "cell_type": "code",
   "execution_count": null,
   "metadata": {},
   "outputs": [],
   "source": []
  }
 ],
 "metadata": {
  "kernelspec": {
   "display_name": "Python 3",
   "language": "python",
   "name": "python3"
  },
  "language_info": {
   "codemirror_mode": {
    "name": "ipython",
    "version": 3
   },
   "file_extension": ".py",
   "mimetype": "text/x-python",
   "name": "python",
   "nbconvert_exporter": "python",
   "pygments_lexer": "ipython3",
   "version": "3.6.10"
  }
 },
 "nbformat": 4,
 "nbformat_minor": 5
}
