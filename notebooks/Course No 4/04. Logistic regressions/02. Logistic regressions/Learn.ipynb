{
 "cells": [
  {
   "cell_type": "code",
   "execution_count": 1,
   "metadata": {},
   "outputs": [],
   "source": [
    "import pandas as pd\n",
    "import numpy as np\n",
    "import matplotlib.pyplot as plt\n",
    "%matplotlib inline"
   ]
  },
  {
   "cell_type": "code",
   "execution_count": 11,
   "metadata": {},
   "outputs": [],
   "source": [
    "x_values=np.linspace(-6, 6, 200)\n",
    "y_values=1/(1+np.exp(-1*x_values))"
   ]
  },
  {
   "cell_type": "code",
   "execution_count": 12,
   "metadata": {},
   "outputs": [
    {
     "data": {
      "image/png": "[encoded data removed]",
      "text/plain": [
       "<Figure size 432x288 with 1 Axes>"
      ]
     },
     "metadata": {
      "needs_background": "light"
     },
     "output_type": "display_data"
    }
   ],
   "source": [
    "plt.plot(x_values, y_values, label='sigmoid')\n",
    "plt.legend()\n",
    "plt.ylabel('probability')\n",
    "plt.xlabel('x values')\n",
    "plt.show()"
   ]
  },
  {
   "cell_type": "code",
   "execution_count": 18,
   "metadata": {},
   "outputs": [
    {
     "name": "stdout",
     "output_type": "stream",
     "text": [
      "Probability: 81.8%\n"
     ]
    }
   ],
   "source": [
    "f_x=0.5-2-12+12\n",
    "\n",
    "probability=1-1/(1+np.exp(-1*f_x))\n",
    "print(\"Probability: {:.1f}%\".format(probability*100))"
   ]
  },
  {
   "cell_type": "code",
   "execution_count": 20,
   "metadata": {},
   "outputs": [
    {
     "name": "stdout",
     "output_type": "stream",
     "text": [
      "Type: <class 'sklearn.utils.Bunch'>\n"
     ]
    }
   ],
   "source": [
    "from sklearn import datasets\n",
    "\n",
    "iris=datasets.load_iris()\n",
    "\n",
    "print('Type:', type(iris)) # sklearn.utils.Bunch"
   ]
  },
  {
   "cell_type": "code",
   "execution_count": 21,
   "metadata": {},
   "outputs": [
    {
     "data": {
      "text/plain": [
       "dict_keys(['data', 'target', 'target_names', 'DESCR', 'feature_names', 'filename'])"
      ]
     },
     "execution_count": 21,
     "metadata": {},
     "output_type": "execute_result"
    }
   ],
   "source": [
    "iris.keys()"
   ]
  },
  {
   "cell_type": "code",
   "execution_count": 25,
   "metadata": {},
   "outputs": [
    {
     "data": {
      "text/plain": [
       "array(['setosa', 'versicolor', 'virginica'], dtype='<U10')"
      ]
     },
     "execution_count": 25,
     "metadata": {},
     "output_type": "execute_result"
    }
   ],
   "source": [
    "iris.target_names"
   ]
  },
  {
   "cell_type": "code",
   "execution_count": 26,
   "metadata": {},
   "outputs": [
    {
     "data": {
      "text/plain": [
       "2    50\n",
       "1    50\n",
       "0    50\n",
       "dtype: int64"
      ]
     },
     "execution_count": 26,
     "metadata": {},
     "output_type": "execute_result"
    }
   ],
   "source": [
    "pd.value_counts(iris['target'])"
   ]
  },
  {
   "cell_type": "code",
   "execution_count": 46,
   "metadata": {},
   "outputs": [],
   "source": [
    "y = (iris['target'] == 0).astype(int)"
   ]
  },
  {
   "cell_type": "code",
   "execution_count": 51,
   "metadata": {},
   "outputs": [],
   "source": [
    "X = iris['data'] # Get matrix with all features\n",
    "X = X[:, [2, 3]]"
   ]
  },
  {
   "cell_type": "code",
   "execution_count": 52,
   "metadata": {},
   "outputs": [
    {
     "data": {
      "image/png": "[encoded data removed]",
      "text/plain": [
       "<Figure size 432x288 with 1 Axes>"
      ]
     },
     "metadata": {
      "needs_background": "light"
     },
     "output_type": "display_data"
    }
   ],
   "source": [
    "setosa_idx=(y == 1)\n",
    "\n",
    "plt.scatter(X[:,0][setosa_idx], X[:,1][setosa_idx], label='Setosa', color='C3')\n",
    "plt.scatter(X[:,0][~setosa_idx], X[:,1][~setosa_idx], label='Others', color='C0')\n",
    "plt.xlabel('petal length (cm)')\n",
    "plt.ylabel('petal width (cm)')\n",
    "plt.legend()\n",
    "plt.show()"
   ]
  },
  {
   "cell_type": "code",
   "execution_count": 54,
   "metadata": {},
   "outputs": [],
   "source": [
    "from sklearn.model_selection import train_test_split\n",
    "\n",
    "X_tr, X_te, y_tr, y_te = train_test_split(X, y, test_size=0.3, random_state=0)"
   ]
  },
  {
   "cell_type": "code",
   "execution_count": 61,
   "metadata": {},
   "outputs": [
    {
     "data": {
      "text/plain": [
       "1.0"
      ]
     },
     "execution_count": 61,
     "metadata": {},
     "output_type": "execute_result"
    }
   ],
   "source": [
    "from sklearn.linear_model import LogisticRegression\n",
    "from sklearn.preprocessing import StandardScaler\n",
    "from sklearn.pipeline import make_pipeline\n",
    "\n",
    "logreg=make_pipeline(StandardScaler(), LogisticRegression(solver='liblinear'))\n",
    "\n",
    "logreg.fit(X_tr, y_tr)\n",
    "\n",
    "logreg.score(X_te, y_te)"
   ]
  },
  {
   "cell_type": "code",
   "execution_count": 67,
   "metadata": {},
   "outputs": [
    {
     "data": {
      "text/plain": [
       "array([1])"
      ]
     },
     "execution_count": 67,
     "metadata": {},
     "output_type": "execute_result"
    }
   ],
   "source": [
    "# New flower\n",
    "new_flower = [\n",
    "    1.5, # petal length (cm)\n",
    "    0.3, # petal width (cm)\n",
    "]\n",
    "\n",
    "# Classify it\n",
    "logreg.predict([new_flower])\n",
    "# Returns: array([1])\n",
    "\n",
    "\n"
   ]
  },
  {
   "cell_type": "code",
   "execution_count": 68,
   "metadata": {},
   "outputs": [
    {
     "data": {
      "text/plain": [
       "array([[0.05238258, 0.94761742]])"
      ]
     },
     "execution_count": 68,
     "metadata": {},
     "output_type": "execute_result"
    }
   ],
   "source": [
    "# Get probabilities\n",
    "logreg.predict_proba([new_flower])"
   ]
  },
  {
   "cell_type": "code",
   "execution_count": 69,
   "metadata": {},
   "outputs": [],
   "source": [
    "# Helper function\n",
    "def decision_surface(ax, X, y, logreg):\n",
    "    # Plot data points\n",
    "    setosa_idx = (y == 1) # Setosa data points\n",
    "\n",
    "    plt.scatter(X[:, 0][setosa_idx], X[:, 1][setosa_idx],\n",
    "        color='C3', label='setosa') # Setosa\n",
    "    plt.scatter(X[:, 0][~setosa_idx], X[:, 1][~setosa_idx],\n",
    "        color='C0', label='other') # Versicolor and virginica\n",
    "\n",
    "    # Create a grid of values\n",
    "    xlim, ylim = ax.get_xlim(), ax.get_ylim()\n",
    "    x_values = np.linspace(*xlim, num=40)\n",
    "    y_values = np.linspace(*ylim, num=40)\n",
    "    xx, yy = np.meshgrid(x_values, y_values)\n",
    "    points = np.c_[xx.flatten(), yy.flatten()]\n",
    "\n",
    "    # Probability for positive class (setosa)\n",
    "    probs = logreg.predict_proba(points)\n",
    "    prob_setosa = probs[:, 1]\n",
    "\n",
    "    # Draw decision boundary (p=0.5)\n",
    "    zz = prob_setosa.reshape(xx.shape)\n",
    "    plt.contour(xx, yy, zz, levels=[0.5], colors='gray')\n",
    "\n",
    "    # Plot decision surface with level curves\n",
    "    plt.contourf(xx, yy, zz, 10, alpha=0.3, cmap=plt.cm.coolwarm)\n",
    "\n",
    "    # Add labels\n",
    "    plt.xlabel('petal length (cm)')\n",
    "    plt.ylabel('petal width (cm)')\n",
    "    plt.legend()\n",
    "    plt.colorbar(label='probability')\n",
    "    plt.show()\n",
    "\n"
   ]
  },
  {
   "cell_type": "code",
   "execution_count": 72,
   "metadata": {},
   "outputs": [
    {
     "data": {
      "image/png": "[encoded data removed]",
      "text/plain": [
       "<Figure size 432x288 with 2 Axes>"
      ]
     },
     "metadata": {
      "needs_background": "light"
     },
     "output_type": "display_data"
    }
   ],
   "source": [
    "# Plot decision surface\n",
    "fig = plt.figure()\n",
    "decision_surface(fig.gca(), X, y, logreg)\n"
   ]
  },
  {
   "cell_type": "code",
   "execution_count": null,
   "metadata": {},
   "outputs": [],
   "source": []
  }
 ],
 "metadata": {
  "kernelspec": {
   "display_name": "Python 3",
   "language": "python",
   "name": "python3"
  },
  "language_info": {
   "codemirror_mode": {
    "name": "ipython",
    "version": 3
   },
   "file_extension": ".py",
   "mimetype": "text/x-python",
   "name": "python",
   "nbconvert_exporter": "python",
   "pygments_lexer": "ipython3",
   "version": "3.6.10"
  }
 },
 "nbformat": 4,
 "nbformat_minor": 4
}
