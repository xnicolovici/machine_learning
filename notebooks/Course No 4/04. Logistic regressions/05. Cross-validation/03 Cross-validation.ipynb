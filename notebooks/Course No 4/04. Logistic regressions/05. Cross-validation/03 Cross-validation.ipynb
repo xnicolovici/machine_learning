{
 "cells": [
  {
   "cell_type": "markdown",
   "metadata": {},
   "source": [
    "Cross-validation\n",
    "---"
   ]
  },
  {
   "cell_type": "code",
   "execution_count": 1,
   "metadata": {},
   "outputs": [],
   "source": [
    "from sklearn import datasets\n",
    "\n",
    "# Load data set\n",
    "iris = datasets.load_iris()\n",
    "\n",
    "# Create X/y arrays\n",
    "X = iris['data']\n",
    "y = iris['target']"
   ]
  },
  {
   "cell_type": "code",
   "execution_count": 2,
   "metadata": {},
   "outputs": [],
   "source": [
    "from sklearn.model_selection import KFold\n",
    "\n",
    "# Create k-fold object\n",
    "kfold = KFold(n_splits=3)"
   ]
  },
  {
   "cell_type": "code",
   "execution_count": 3,
   "metadata": {},
   "outputs": [],
   "source": [
    "from sklearn.linear_model import LogisticRegression\n",
    "from sklearn.preprocessing import StandardScaler\n",
    "from sklearn.pipeline import make_pipeline\n",
    "\n",
    "# Create a logistic regression\n",
    "logreg = make_pipeline(\n",
    "    StandardScaler(), LogisticRegression(C=1000, solver='liblinear', multi_class='ovr'))"
   ]
  },
  {
   "cell_type": "code",
   "execution_count": 4,
   "metadata": {},
   "outputs": [
    {
     "data": {
      "text/plain": [
       "dict_keys(['fit_time', 'score_time', 'test_score', 'train_score'])"
      ]
     },
     "execution_count": 4,
     "metadata": {},
     "output_type": "execute_result"
    }
   ],
   "source": [
    "from sklearn.model_selection import cross_validate\n",
    "\n",
    "# Apply cross-validation\n",
    "scores = cross_validate(logreg, X, y, cv=kfold, return_train_score=True)\n",
    "\n",
    "# The \"scores\" variable is a dictionary with the scores\n",
    "scores.keys()"
   ]
  },
  {
   "cell_type": "code",
   "execution_count": 5,
   "metadata": {},
   "outputs": [
    {
     "name": "stdout",
     "output_type": "stream",
     "text": [
      "Train scores: [0.98 1.   1.  ]\n",
      "Test scores: [0. 0. 0.]\n"
     ]
    }
   ],
   "source": [
    "print('Train scores:', scores['train_score'])\n",
    "print('Test scores:', scores['test_score'])"
   ]
  },
  {
   "cell_type": "code",
   "execution_count": 6,
   "metadata": {},
   "outputs": [
    {
     "data": {
      "text/plain": [
       "array([0, 0, 0, 0, 0, 0, 0, 0, 0, 0, 0, 0, 0, 0, 0, 0, 0, 0, 0, 0, 0, 0,\n",
       "       0, 0, 0, 0, 0, 0, 0, 0, 0, 0, 0, 0, 0, 0, 0, 0, 0, 0, 0, 0, 0, 0,\n",
       "       0, 0, 0, 0, 0, 0, 1, 1, 1, 1, 1, 1, 1, 1, 1, 1, 1, 1, 1, 1, 1, 1,\n",
       "       1, 1, 1, 1, 1, 1, 1, 1, 1, 1, 1, 1, 1, 1, 1, 1, 1, 1, 1, 1, 1, 1,\n",
       "       1, 1, 1, 1, 1, 1, 1, 1, 1, 1, 1, 1, 2, 2, 2, 2, 2, 2, 2, 2, 2, 2,\n",
       "       2, 2, 2, 2, 2, 2, 2, 2, 2, 2, 2, 2, 2, 2, 2, 2, 2, 2, 2, 2, 2, 2,\n",
       "       2, 2, 2, 2, 2, 2, 2, 2, 2, 2, 2, 2, 2, 2, 2, 2, 2, 2])"
      ]
     },
     "execution_count": 6,
     "metadata": {},
     "output_type": "execute_result"
    }
   ],
   "source": [
    "# Target variable\n",
    "y"
   ]
  },
  {
   "cell_type": "code",
   "execution_count": 7,
   "metadata": {},
   "outputs": [],
   "source": [
    "# Create k-fold object\n",
    "kfold = KFold(n_splits=3, shuffle=True, random_state=0)"
   ]
  },
  {
   "cell_type": "code",
   "execution_count": 8,
   "metadata": {},
   "outputs": [
    {
     "name": "stdout",
     "output_type": "stream",
     "text": [
      "Train scores: [0.98 0.96 0.98]\n",
      "Test scores: [0.98 0.96 0.96]\n"
     ]
    }
   ],
   "source": [
    "# Apply cross-validation\n",
    "scores = cross_validate(logreg, X, y, cv=kfold, return_train_score=True)\n",
    "\n",
    "print('Train scores:', scores['train_score'])\n",
    "print('Test scores:', scores['test_score'])"
   ]
  },
  {
   "cell_type": "code",
   "execution_count": 9,
   "metadata": {},
   "outputs": [
    {
     "name": "stdout",
     "output_type": "stream",
     "text": [
      "Train scores: [0.94949495 1.         0.97058824]\n",
      "Test scores: [0.98039216 0.92156863 0.97916667]\n"
     ]
    }
   ],
   "source": [
    "# Apply cross-validation\n",
    "scores = cross_validate(logreg, X, y, cv=3, return_train_score=True)\n",
    "\n",
    "print('Train scores:', scores['train_score'])\n",
    "print('Test scores:', scores['test_score'])"
   ]
  },
  {
   "cell_type": "code",
   "execution_count": 10,
   "metadata": {},
   "outputs": [
    {
     "name": "stdout",
     "output_type": "stream",
     "text": [
      "Train mean: 0.975 std: 0.008\n",
      "Test mean: 0.960 std: 0.061\n"
     ]
    }
   ],
   "source": [
    "import numpy as np\n",
    "\n",
    "# Apply cross-validation\n",
    "scores = cross_validate(logreg, X, y, cv=10, return_train_score=True)\n",
    "\n",
    "# Get train/test scores\n",
    "train_scores = scores['train_score']\n",
    "test_scores = scores['test_score']\n",
    "\n",
    "# Print summary\n",
    "print('Train mean: {:.3f} std: {:.3f}'.format(\n",
    "    np.mean(train_scores), np.std(train_scores)))\n",
    "\n",
    "print('Test mean: {:.3f} std: {:.3f}'.format(\n",
    "    np.mean(test_scores), np.std(test_scores)))"
   ]
  },
  {
   "cell_type": "code",
   "execution_count": 11,
   "metadata": {},
   "outputs": [
    {
     "name": "stdout",
     "output_type": "stream",
     "text": [
      "Test mean: 0.955 std: 0.052\n"
     ]
    }
   ],
   "source": [
    "from sklearn.model_selection import ShuffleSplit\n",
    "\n",
    "# Try \"shuffle split\" strategy\n",
    "cv_type = ShuffleSplit(n_splits=10, test_size=20, random_state=0)\n",
    "\n",
    "# Apply cross-validation\n",
    "scores = cross_validate(logreg, X, y, cv=cv_type, return_train_score=True)\n",
    "\n",
    "# Test scores\n",
    "test_scores = scores['test_score']\n",
    "print('Test mean: {:.3f} std: {:.3f}'.format(np.mean(test_scores), np.std(test_scores)))"
   ]
  },
  {
   "cell_type": "code",
   "execution_count": null,
   "metadata": {},
   "outputs": [],
   "source": []
  }
 ],
 "metadata": {
  "kernelspec": {
   "display_name": "Python 3",
   "language": "python",
   "name": "python3"
  },
  "language_info": {
   "codemirror_mode": {
    "name": "ipython",
    "version": 3
   },
   "file_extension": ".py",
   "mimetype": "text/x-python",
   "name": "python",
   "nbconvert_exporter": "python",
   "pygments_lexer": "ipython3",
   "version": "3.6.10"
  }
 },
 "nbformat": 4,
 "nbformat_minor": 4
}
