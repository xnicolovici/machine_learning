{
 "cells": [
  {
   "cell_type": "code",
   "execution_count": 1,
   "metadata": {},
   "outputs": [],
   "source": [
    "import numpy as np"
   ]
  },
  {
   "cell_type": "code",
   "execution_count": 12,
   "metadata": {},
   "outputs": [
    {
     "name": "stdout",
     "output_type": "stream",
     "text": [
      "P1 = 0.54\n",
      "P2 = 0.10\n",
      "P3 = 0.36\n"
     ]
    }
   ],
   "source": [
    "# calculate probabilities from course exercise\n",
    "\n",
    "def probability(p_class=[1.2, -0.5, 0.8], i=1):\n",
    "    proba=None\n",
    "    exp_fi=np.exp(p_class[i-1])\n",
    "    \n",
    "    sum_exp_fi=np.sum(np.exp(p_class))\n",
    "    \n",
    "    proba=exp_fi/sum_exp_fi\n",
    "    \n",
    "    return proba\n",
    "    \n",
    "for i in [1,2,3]:\n",
    "    print(\"P{} = {:.2f}\".format(i,probability(i=i)))"
   ]
  },
  {
   "cell_type": "code",
   "execution_count": null,
   "metadata": {},
   "outputs": [],
   "source": []
  }
 ],
 "metadata": {
  "kernelspec": {
   "display_name": "Python 3",
   "language": "python",
   "name": "python3"
  },
  "language_info": {
   "codemirror_mode": {
    "name": "ipython",
    "version": 3
   },
   "file_extension": ".py",
   "mimetype": "text/x-python",
   "name": "python",
   "nbconvert_exporter": "python",
   "pygments_lexer": "ipython3",
   "version": "3.6.10"
  }
 },
 "nbformat": 4,
 "nbformat_minor": 4
}
