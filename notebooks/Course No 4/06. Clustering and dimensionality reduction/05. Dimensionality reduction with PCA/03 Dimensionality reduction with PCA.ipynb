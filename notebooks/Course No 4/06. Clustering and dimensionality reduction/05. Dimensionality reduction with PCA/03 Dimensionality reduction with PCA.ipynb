{
 "cells": [
  {
   "cell_type": "markdown",
   "metadata": {},
   "source": [
    "Dimensionality reduction with PCA\n",
    "---"
   ]
  },
  {
   "cell_type": "code",
   "execution_count": null,
   "metadata": {},
   "outputs": [],
   "source": [
    "import pandas as pd\n",
    "\n",
    "# Load data\n",
    "data_df = pd.read_csv('wine-data.csv')\n",
    "\n",
    "# First five rows\n",
    "data_df.head()"
   ]
  },
  {
   "cell_type": "code",
   "execution_count": null,
   "metadata": {},
   "outputs": [],
   "source": [
    "%matplotlib inline\n",
    "import seaborn as sns\n",
    "import matplotlib.pyplot as plt\n",
    "\n",
    "# Create pairplot\n",
    "sns.pairplot(\n",
    "    data_df,\n",
    "    # Variables on the x-axes\n",
    "    x_vars=['alcohol', 'phenols', 'color'],\n",
    "    # Variables on the y-axes\n",
    "    y_vars=['alcohol', 'phenols', 'color'],\n",
    "    # Use a different color for each kind of wine\n",
    "    hue='kind'\n",
    ")\n",
    "plt.show()"
   ]
  },
  {
   "cell_type": "code",
   "execution_count": null,
   "metadata": {},
   "outputs": [],
   "source": [
    "# Create X/y arrays\n",
    "features = data_df.drop('kind', axis=1)\n",
    "X = features.values\n",
    "y = data_df.kind.values\n",
    "\n",
    "print('X:', X.shape)\n",
    "print('y:', y.shape)"
   ]
  },
  {
   "cell_type": "code",
   "execution_count": null,
   "metadata": {},
   "outputs": [],
   "source": [
    "from sklearn.decomposition import PCA\n",
    "\n",
    "# Create PCA transformer\n",
    "pca = PCA(n_components=2)\n",
    "\n",
    "# Apply PCA\n",
    "pca.fit(X, y=None); # Unsupervised learning, no y variable"
   ]
  },
  {
   "cell_type": "code",
   "execution_count": null,
   "metadata": {},
   "outputs": [],
   "source": [
    "# Project data onto the first two components\n",
    "X_2d = pca.transform(X)"
   ]
  },
  {
   "cell_type": "code",
   "execution_count": null,
   "metadata": {},
   "outputs": [],
   "source": [
    "# Plot each kind of wine\n",
    "for kind in [1, 2, 3]:\n",
    "    # Wine samples of this type\n",
    "    idx = (y == kind)\n",
    "\n",
    "    # Plot their components\n",
    "    plt.scatter(\n",
    "        X_2d[idx, 0], X_2d[idx, 1],\n",
    "        label='type {}'.format(kind)\n",
    "    )\n",
    "\n",
    "# Labels and legend\n",
    "plt.legend()\n",
    "plt.xlabel('1st component')\n",
    "plt.ylabel('2nd component')\n",
    "plt.show()"
   ]
  },
  {
   "cell_type": "code",
   "execution_count": null,
   "metadata": {},
   "outputs": [],
   "source": [
    "# Get the loading vectors\n",
    "pca.components_"
   ]
  },
  {
   "cell_type": "code",
   "execution_count": null,
   "metadata": {},
   "outputs": [],
   "source": [
    "# Create DataFrame with variance and principal components\n",
    "results_df = pd.DataFrame({\n",
    "    'variance': X.var(axis=0),\n",
    "    '1st component': pca.components_[0],\n",
    "    '2nd component': pca.components_[1]\n",
    "}).set_index(features.columns)\n",
    "\n",
    "# Sort DataFrame by variance\n",
    "results_df.sort_values('variance', ascending=False)"
   ]
  },
  {
   "cell_type": "code",
   "execution_count": null,
   "metadata": {},
   "outputs": [],
   "source": [
    "# Plot proline and magnesium variables\n",
    "plt.scatter(\n",
    "    X[:, 12], # Proline attribute\n",
    "    X[:, 4] # Magnesium attribute\n",
    ")\n",
    "plt.xlabel('proline')\n",
    "plt.ylabel('magnesium')\n",
    "plt.show()"
   ]
  },
  {
   "cell_type": "code",
   "execution_count": null,
   "metadata": {},
   "outputs": [],
   "source": [
    "from sklearn.preprocessing import StandardScaler\n",
    "\n",
    "# Create Standard scaler\n",
    "scaler = StandardScaler()\n",
    "\n",
    "# Rescale data\n",
    "X_rescaled = scaler.fit_transform(X)\n",
    "\n",
    "# Create PCA transformer\n",
    "pca2 = PCA(n_components=2)\n",
    "\n",
    "# Apply PCA to rescaled data\n",
    "X_2d_rescaled = pca2.fit_transform(X_rescaled)"
   ]
  },
  {
   "cell_type": "code",
   "execution_count": null,
   "metadata": {},
   "outputs": [],
   "source": [
    "# Plot each kind of wine\n",
    "fig = plt.figure()\n",
    "for kind in [1, 2, 3]:\n",
    "    # Wine samples of this type\n",
    "    idx = (y == kind)\n",
    "\n",
    "    # Plot their components\n",
    "    plt.scatter(\n",
    "        X_2d_rescaled[idx, 0], X_2d_rescaled[idx, 1],\n",
    "        label='type {}'.format(kind)\n",
    "    )\n",
    "\n",
    "# Labels and legend\n",
    "plt.legend()\n",
    "plt.xlabel('1st component')\n",
    "plt.ylabel('2nd component')\n",
    "plt.show()"
   ]
  },
  {
   "cell_type": "code",
   "execution_count": null,
   "metadata": {},
   "outputs": [],
   "source": [
    "# Create DataFrame with variance and principal components\n",
    "results_df2 = pd.DataFrame({\n",
    "    'variance': X_rescaled.var(axis=0),\n",
    "    '1st component': pca2.components_[0],\n",
    "    '2nd component': pca2.components_[1]\n",
    "}).set_index(features.columns)\n",
    "\n",
    "# Sort DataFrame by the coefficients of the 1st loading vector\n",
    "results_df2.sort_values('1st component', ascending=False)"
   ]
  },
  {
   "cell_type": "code",
   "execution_count": null,
   "metadata": {},
   "outputs": [],
   "source": [
    "import matplotlib.patheffects as path_effects\n",
    "\n",
    "# Plot each kind of wine\n",
    "for kind in [1, 2, 3]:\n",
    "    # Wine samples of this type\n",
    "    idx = (y == kind)\n",
    "\n",
    "    # Plot their components\n",
    "    plt.scatter(\n",
    "        X_2d_rescaled[idx, 0], X_2d_rescaled[idx, 1],\n",
    "        label='type {}'.format(kind)\n",
    "    )\n",
    "\n",
    "# Plot a few features using the weights in the loading vectors\n",
    "for feature in ['flavonoids', 'phenols', 'malic acid',\n",
    "                'alkalinity', 'alcohol', 'color']:\n",
    "    # Get weights\n",
    "    weight1 = results_df2.loc[feature, '1st component']*4 # rescale them\n",
    "    weight2 = results_df2.loc[feature, '2nd component']*4 # (4 is arbitrary)\n",
    "\n",
    "    # Plot arrows\n",
    "    plt.arrow(\n",
    "        0, 0, # Vector starts at (x,y)=(0,0)\n",
    "        weight1, weight2, # ends at (x,y)=(weight1, weight2)\n",
    "        color='black', width=0.1)\n",
    "    \n",
    "    # Add text\n",
    "    text = plt.text(\n",
    "        weight1 * 1.5, # x location (1.5 is arbitrary)\n",
    "        weight2 * 1.5, # y location\n",
    "        feature, # Feature name\n",
    "        weight='bold', color='white')\n",
    "    \n",
    "    # Make the text stand out\n",
    "    text.set_path_effects([\n",
    "        path_effects.Stroke(linewidth=2, foreground='black'),\n",
    "        path_effects.Normal()])\n",
    "\n",
    "# Labels and legend\n",
    "plt.legend()\n",
    "plt.xlabel('1st component')\n",
    "plt.ylabel('2nd component')\n",
    "plt.show()"
   ]
  },
  {
   "cell_type": "code",
   "execution_count": null,
   "metadata": {},
   "outputs": [],
   "source": [
    "# Get explained variance\n",
    "pca2.explained_variance_ratio_"
   ]
  },
  {
   "cell_type": "code",
   "execution_count": null,
   "metadata": {},
   "outputs": [],
   "source": [
    "# Create PCA transformer\n",
    "pca3 = PCA(n_components=None)\n",
    "\n",
    "# Apply PCA to rescaled data\n",
    "pca3.fit(X_rescaled)\n",
    "\n",
    "# Proportion of variance explained\n",
    "pve = pca3.explained_variance_ratio_\n",
    "pve"
   ]
  },
  {
   "cell_type": "code",
   "execution_count": null,
   "metadata": {},
   "outputs": [],
   "source": [
    "import numpy as np\n",
    "\n",
    "# Create bar plot\n",
    "fig = plt.figure()\n",
    "xcor = np.arange(1, len(pve) + 1) # 1,2,..,n_components\n",
    "plt.bar(xcor, pve)\n",
    "plt.xticks(xcor)\n",
    "\n",
    "# Add cumulative sum\n",
    "pve_cumsum = np.cumsum(pve)\n",
    "plt.step(\n",
    "    xcor+0.5, # 1.5,2.5,..,n_components+0.5\n",
    "    pve_cumsum, # Cumulative sum\n",
    "    label='cumulative'\n",
    ")\n",
    "\n",
    "# Add labels\n",
    "plt.xlabel('principal component')\n",
    "plt.ylabel('proportion of variance explained')\n",
    "plt.legend()\n",
    "plt.show()"
   ]
  },
  {
   "cell_type": "code",
   "execution_count": null,
   "metadata": {},
   "outputs": [],
   "source": [
    "pve_cumsum = [\n",
    "    pve[0], # prop. of var. explained in 1st axis\n",
    "    pve[0]+pve[1], # .. in 1st and 2nd axes\n",
    "    pve[0]+pve[1]+pve[2], # .. in 1st, 2nd and 3rd axes\n",
    "    pve[0]+pve[1]+pve[2]+pve[3], # .. and so on\n",
    "    # ...\n",
    "]\n",
    "\n",
    "pve_cumsum = np.cumsum(pve)"
   ]
  }
 ],
 "metadata": {
  "kernelspec": {
   "display_name": "Python 3",
   "language": "python",
   "name": "python3"
  },
  "language_info": {
   "codemirror_mode": {
    "name": "ipython",
    "version": 3
   },
   "file_extension": ".py",
   "mimetype": "text/x-python",
   "name": "python",
   "nbconvert_exporter": "python",
   "pygments_lexer": "ipython3",
   "version": "3.6.8"
  }
 },
 "nbformat": 4,
 "nbformat_minor": 2
}
