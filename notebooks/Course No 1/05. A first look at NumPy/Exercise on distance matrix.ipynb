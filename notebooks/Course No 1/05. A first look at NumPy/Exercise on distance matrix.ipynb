{
 "cells": [
  {
   "cell_type": "code",
   "execution_count": 1,
   "metadata": {},
   "outputs": [],
   "source": [
    "import numpy as np"
   ]
  },
  {
   "cell_type": "code",
   "execution_count": 2,
   "metadata": {},
   "outputs": [],
   "source": [
    "dist_to_origin = [0, 1498, 1063, 1968, 1498, 1758, 1469, 1472, 2230, 2391]"
   ]
  },
  {
   "cell_type": "code",
   "execution_count": 13,
   "metadata": {},
   "outputs": [
    {
     "data": {
      "text/plain": [
       "array([[   0, 1498, 1063, 1968, 1498, 1758, 1469, 1472, 2230, 2391],\n",
       "       [1498,    0,  435,  470,    0,  260,   29,   26,  732,  893],\n",
       "       [1063,  435,    0,  905,  435,  695,  406,  409, 1167, 1328],\n",
       "       [1968,  470,  905,    0,  470,  210,  499,  496,  262,  423],\n",
       "       [1498,    0,  435,  470,    0,  260,   29,   26,  732,  893],\n",
       "       [1758,  260,  695,  210,  260,    0,  289,  286,  472,  633],\n",
       "       [1469,   29,  406,  499,   29,  289,    0,    3,  761,  922],\n",
       "       [1472,   26,  409,  496,   26,  286,    3,    0,  758,  919],\n",
       "       [2230,  732, 1167,  262,  732,  472,  761,  758,    0,  161],\n",
       "       [2391,  893, 1328,  423,  893,  633,  922,  919,  161,    0]])"
      ]
     },
     "execution_count": 13,
     "metadata": {},
     "output_type": "execute_result"
    }
   ],
   "source": [
    "\n",
    "matrix_i = np.array(dist_to_origin)\n",
    "matrix_j = matrix_i.reshape(10,1)\n",
    "matrix = np.abs(matrix_i - matrix_j)\n",
    "matrix"
   ]
  },
  {
   "cell_type": "code",
   "execution_count": null,
   "metadata": {},
   "outputs": [],
   "source": []
  }
 ],
 "metadata": {
  "kernelspec": {
   "display_name": "Python 3",
   "language": "python",
   "name": "python3"
  },
  "language_info": {
   "codemirror_mode": {
    "name": "ipython",
    "version": 3
   },
   "file_extension": ".py",
   "mimetype": "text/x-python",
   "name": "python",
   "nbconvert_exporter": "python",
   "pygments_lexer": "ipython3",
   "version": "3.6.10"
  }
 },
 "nbformat": 4,
 "nbformat_minor": 4
}
