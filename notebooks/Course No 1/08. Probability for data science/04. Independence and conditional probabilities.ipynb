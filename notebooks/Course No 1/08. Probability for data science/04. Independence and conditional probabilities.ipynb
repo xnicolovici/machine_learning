{
 "cells": [
  {
   "cell_type": "code",
   "execution_count": 1,
   "metadata": {},
   "outputs": [],
   "source": [
    "import random"
   ]
  },
  {
   "cell_type": "code",
   "execution_count": 2,
   "metadata": {},
   "outputs": [],
   "source": [
    "bag = ['r','r','r','g','g','g','g']"
   ]
  },
  {
   "cell_type": "code",
   "execution_count": 46,
   "metadata": {},
   "outputs": [
    {
     "name": "stdout",
     "output_type": "stream",
     "text": [
      "Ratio: 14.236699999999999 %\n"
     ]
    }
   ],
   "source": [
    "\n",
    "experiment = 1000000\n",
    "\n",
    "counter = 0\n",
    "\n",
    "for i in range(experiment):\n",
    "    color1 = bag[random.randrange(len(bag))]\n",
    "    bag.remove(color1)\n",
    "    color2 = bag[random.randrange(len(bag))]\n",
    "    if color1 == 'r' and color2 == 'r':\n",
    "        counter += 1\n",
    "    bag.append(color1)\n",
    "        \n",
    "print(\"Ratio:\",counter/experiment*100,\"%\")"
   ]
  },
  {
   "cell_type": "code",
   "execution_count": 47,
   "metadata": {},
   "outputs": [
    {
     "data": {
      "text/plain": [
       "0.14285714285714285"
      ]
     },
     "execution_count": 47,
     "metadata": {},
     "output_type": "execute_result"
    }
   ],
   "source": [
    "1/7"
   ]
  },
  {
   "cell_type": "markdown",
   "metadata": {},
   "source": [
    "# A retenir\n",
    "\n",
    "P(B|A) = P(AB) / P(A)\n",
    "\n",
    "Théorème de Bayes:\n",
    "\n",
    "* P(B|A) = P(A|B) . P(B) / P(A)\n",
    "La difficulté ici est de trouver P(A)\n",
    "\n",
    "On utilise pour ça la Loi des Probabilités totales:\n",
    "* P(A) = P(A|B) . P(B) + P(A|^B) . P(^B)\n"
   ]
  }
 ],
 "metadata": {
  "kernelspec": {
   "display_name": "Python 3",
   "language": "python",
   "name": "python3"
  },
  "language_info": {
   "codemirror_mode": {
    "name": "ipython",
    "version": 3
   },
   "file_extension": ".py",
   "mimetype": "text/x-python",
   "name": "python",
   "nbconvert_exporter": "python",
   "pygments_lexer": "ipython3",
   "version": "3.6.10"
  }
 },
 "nbformat": 4,
 "nbformat_minor": 4
}
