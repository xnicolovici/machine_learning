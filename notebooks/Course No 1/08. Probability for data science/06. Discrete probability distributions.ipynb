{
 "cells": [
  {
   "cell_type": "code",
   "execution_count": 2,
   "metadata": {},
   "outputs": [
    {
     "data": {
      "text/plain": [
       "0.0429"
      ]
     },
     "execution_count": 2,
     "metadata": {},
     "output_type": "execute_result"
    }
   ],
   "source": [
    "import random\n",
    "\n",
    "experiments = 10000\n",
    "experiments_k2 = 0\n",
    "coinflips = 10\n",
    "for i in range(experiments):\n",
    "    heads = 0\n",
    "    for flip in range(coinflips):\n",
    "        if random.random() < 0.5:\n",
    "            heads += 1\n",
    "    if heads == 2:\n",
    "        experiments_k2 += 1\n",
    "\n",
    "experiments_k2 / experiments\n",
    "# outputs a number close to 0.0439453125, e.g 0.0452\n"
   ]
  },
  {
   "cell_type": "code",
   "execution_count": 56,
   "metadata": {},
   "outputs": [
    {
     "data": {
      "text/plain": [
       "4.997825"
      ]
     },
     "execution_count": 56,
     "metadata": {},
     "output_type": "execute_result"
    }
   ],
   "source": [
    "#tossing a fair coin until heads comes up\n",
    "outcome_space = ['H','T']\n",
    "experiments = 1000000\n",
    "trials = 0\n",
    "for i in range(experiments):\n",
    "    seen_heads = False\n",
    "    while not seen_heads:\n",
    "        trials += 1\n",
    "        if random.random() <= 1/6:\n",
    "            break\n",
    "\n",
    "trials / experiments -1"
   ]
  },
  {
   "cell_type": "code",
   "execution_count": null,
   "metadata": {},
   "outputs": [],
   "source": []
  }
 ],
 "metadata": {
  "kernelspec": {
   "display_name": "Python 3",
   "language": "python",
   "name": "python3"
  },
  "language_info": {
   "codemirror_mode": {
    "name": "ipython",
    "version": 3
   },
   "file_extension": ".py",
   "mimetype": "text/x-python",
   "name": "python",
   "nbconvert_exporter": "python",
   "pygments_lexer": "ipython3",
   "version": "3.6.10"
  }
 },
 "nbformat": 4,
 "nbformat_minor": 4
}
