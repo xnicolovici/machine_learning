{
 "cells": [
  {
   "cell_type": "markdown",
   "metadata": {},
   "source": [
    "# World Happyness Report - The Course No1 Project\n"
   ]
  },
  {
   "cell_type": "markdown",
   "metadata": {},
   "source": [
    "## A. Importing, cleaning and numerical summaries\n",
    "\n",
    "### Load and analyze the data\n",
    "\n",
    "First, we build a pandas dataframe object by loading the data.csv file."
   ]
  },
  {
   "cell_type": "code",
   "execution_count": 1,
   "metadata": {},
   "outputs": [],
   "source": [
    "import os\n",
    "import pandas as pd\n",
    "\n",
    "datafile_path = os.path.join('data','data.csv')\n",
    "\n",
    "df = pd.read_csv(datafile_path)\n"
   ]
  },
  {
   "cell_type": "markdown",
   "metadata": {},
   "source": [
    "Now it's time to grab some informations from this freshly loaded dataframe."
   ]
  },
  {
   "cell_type": "code",
   "execution_count": 2,
   "metadata": {},
   "outputs": [
    {
     "name": "stdout",
     "output_type": "stream",
     "text": [
      "<class 'pandas.core.frame.DataFrame'>\n",
      "RangeIndex: 153 entries, 0 to 152\n",
      "Data columns (total 12 columns):\n",
      "Country             153 non-null object\n",
      "Happiness Rank      153 non-null int64\n",
      "Happiness Score     153 non-null float64\n",
      "Economy             153 non-null float64\n",
      "Family              153 non-null float64\n",
      "Health              153 non-null float64\n",
      "Freedom             153 non-null float64\n",
      "Generosity          153 non-null float64\n",
      "Corruption          153 non-null float64\n",
      "Dystopia            153 non-null float64\n",
      "Job Satisfaction    151 non-null float64\n",
      "Region              153 non-null object\n",
      "dtypes: float64(9), int64(1), object(2)\n",
      "memory usage: 14.4+ KB\n"
     ]
    }
   ],
   "source": [
    "df.info()"
   ]
  },
  {
   "cell_type": "markdown",
   "metadata": {},
   "source": [
    "This dataframe is made of a total of 12 columns and 153 lines.\n",
    "\n",
    "Columns types are floats (values of the observations), integer (for the country rank) and 2 generic types (Country names and Regions)\n",
    "\n",
    "The df.info() indicates that _Job Satisfaction_ is missing two values (151 entries over 153 lines in the CSV file).\n",
    "\n",
    "According to what it is expected in this project, we will remove the lines that are missing data. We will use the `dropna()`function which basically remove lines that are missing at least one value in any of its cells.\n",
    "\n",
    "_Do not forget to use the `inplace=True` parameter to update the current dataframe_\n",
    "\n"
   ]
  },
  {
   "cell_type": "code",
   "execution_count": 3,
   "metadata": {},
   "outputs": [],
   "source": [
    "df.dropna(inplace=True)"
   ]
  },
  {
   "cell_type": "markdown",
   "metadata": {},
   "source": [
    "Here is now the count of lines in the dataframe for each column. We can confirme that we do not have any empty cells, each column has a count value set to 151 (we've dropped the two lines where _Job Satisfaction_ value was not set)."
   ]
  },
  {
   "cell_type": "code",
   "execution_count": 4,
   "metadata": {},
   "outputs": [
    {
     "data": {
      "text/html": [
       "<div>\n",
       "<style scoped>\n",
       "    .dataframe tbody tr th:only-of-type {\n",
       "        vertical-align: middle;\n",
       "    }\n",
       "\n",
       "    .dataframe tbody tr th {\n",
       "        vertical-align: top;\n",
       "    }\n",
       "\n",
       "    .dataframe thead th {\n",
       "        text-align: right;\n",
       "    }\n",
       "</style>\n",
       "<table border=\"1\" class=\"dataframe\">\n",
       "  <thead>\n",
       "    <tr style=\"text-align: right;\">\n",
       "      <th></th>\n",
       "      <th>Happiness Rank</th>\n",
       "      <th>Happiness Score</th>\n",
       "      <th>Economy</th>\n",
       "      <th>Family</th>\n",
       "      <th>Health</th>\n",
       "      <th>Freedom</th>\n",
       "      <th>Generosity</th>\n",
       "      <th>Corruption</th>\n",
       "      <th>Dystopia</th>\n",
       "      <th>Job Satisfaction</th>\n",
       "    </tr>\n",
       "  </thead>\n",
       "  <tbody>\n",
       "    <tr>\n",
       "      <th>count</th>\n",
       "      <td>151.0</td>\n",
       "      <td>151.0</td>\n",
       "      <td>151.0</td>\n",
       "      <td>151.0</td>\n",
       "      <td>151.0</td>\n",
       "      <td>151.0</td>\n",
       "      <td>151.0</td>\n",
       "      <td>151.0</td>\n",
       "      <td>151.0</td>\n",
       "      <td>151.0</td>\n",
       "    </tr>\n",
       "  </tbody>\n",
       "</table>\n",
       "</div>"
      ],
      "text/plain": [
       "       Happiness Rank  Happiness Score  Economy  Family  Health  Freedom  \\\n",
       "count           151.0            151.0    151.0   151.0   151.0    151.0   \n",
       "\n",
       "       Generosity  Corruption  Dystopia  Job Satisfaction  \n",
       "count       151.0       151.0     151.0             151.0  "
      ]
     },
     "execution_count": 4,
     "metadata": {},
     "output_type": "execute_result"
    }
   ],
   "source": [
    "df.describe().loc[['count']]"
   ]
  },
  {
   "cell_type": "markdown",
   "metadata": {},
   "source": [
    "---\n",
    "### Reindex the dataset\n",
    "\n",
    "Displaying a few lines of the dataframe using a `df.head(5)` function call, we can see that index could be rearranged using the Country Name.\n",
    "This can be easily done using the following code.\n",
    "\n",
    "_Again, do not forget the `inplace=True` to update the currentdataframe_\n",
    "\n"
   ]
  },
  {
   "cell_type": "code",
   "execution_count": 5,
   "metadata": {},
   "outputs": [
    {
     "data": {
      "text/html": [
       "<div>\n",
       "<style scoped>\n",
       "    .dataframe tbody tr th:only-of-type {\n",
       "        vertical-align: middle;\n",
       "    }\n",
       "\n",
       "    .dataframe tbody tr th {\n",
       "        vertical-align: top;\n",
       "    }\n",
       "\n",
       "    .dataframe thead th {\n",
       "        text-align: right;\n",
       "    }\n",
       "</style>\n",
       "<table border=\"1\" class=\"dataframe\">\n",
       "  <thead>\n",
       "    <tr style=\"text-align: right;\">\n",
       "      <th></th>\n",
       "      <th>Happiness Rank</th>\n",
       "      <th>Happiness Score</th>\n",
       "      <th>Economy</th>\n",
       "      <th>Family</th>\n",
       "      <th>Health</th>\n",
       "      <th>Freedom</th>\n",
       "      <th>Generosity</th>\n",
       "      <th>Corruption</th>\n",
       "      <th>Dystopia</th>\n",
       "      <th>Job Satisfaction</th>\n",
       "      <th>Region</th>\n",
       "    </tr>\n",
       "    <tr>\n",
       "      <th>Country</th>\n",
       "      <th></th>\n",
       "      <th></th>\n",
       "      <th></th>\n",
       "      <th></th>\n",
       "      <th></th>\n",
       "      <th></th>\n",
       "      <th></th>\n",
       "      <th></th>\n",
       "      <th></th>\n",
       "      <th></th>\n",
       "      <th></th>\n",
       "    </tr>\n",
       "  </thead>\n",
       "  <tbody>\n",
       "    <tr>\n",
       "      <th>Malta</th>\n",
       "      <td>27</td>\n",
       "      <td>6.527</td>\n",
       "      <td>1.343280</td>\n",
       "      <td>1.488412</td>\n",
       "      <td>0.821944</td>\n",
       "      <td>0.588767</td>\n",
       "      <td>0.574731</td>\n",
       "      <td>0.153066</td>\n",
       "      <td>1.556863</td>\n",
       "      <td>85.2</td>\n",
       "      <td>Western Europe</td>\n",
       "    </tr>\n",
       "    <tr>\n",
       "      <th>Zimbabwe</th>\n",
       "      <td>138</td>\n",
       "      <td>3.875</td>\n",
       "      <td>0.375847</td>\n",
       "      <td>1.083096</td>\n",
       "      <td>0.196764</td>\n",
       "      <td>0.336384</td>\n",
       "      <td>0.189143</td>\n",
       "      <td>0.095375</td>\n",
       "      <td>1.597970</td>\n",
       "      <td>56.3</td>\n",
       "      <td>Africa</td>\n",
       "    </tr>\n",
       "    <tr>\n",
       "      <th>Cyprus</th>\n",
       "      <td>65</td>\n",
       "      <td>5.621</td>\n",
       "      <td>1.355938</td>\n",
       "      <td>1.131363</td>\n",
       "      <td>0.844715</td>\n",
       "      <td>0.355112</td>\n",
       "      <td>0.271254</td>\n",
       "      <td>0.041238</td>\n",
       "      <td>1.621249</td>\n",
       "      <td>88.7</td>\n",
       "      <td>Eastern Europe</td>\n",
       "    </tr>\n",
       "  </tbody>\n",
       "</table>\n",
       "</div>"
      ],
      "text/plain": [
       "          Happiness Rank  Happiness Score   Economy    Family    Health  \\\n",
       "Country                                                                   \n",
       "Malta                 27            6.527  1.343280  1.488412  0.821944   \n",
       "Zimbabwe             138            3.875  0.375847  1.083096  0.196764   \n",
       "Cyprus                65            5.621  1.355938  1.131363  0.844715   \n",
       "\n",
       "           Freedom  Generosity  Corruption  Dystopia  Job Satisfaction  \\\n",
       "Country                                                                  \n",
       "Malta     0.588767    0.574731    0.153066  1.556863              85.2   \n",
       "Zimbabwe  0.336384    0.189143    0.095375  1.597970              56.3   \n",
       "Cyprus    0.355112    0.271254    0.041238  1.621249              88.7   \n",
       "\n",
       "                  Region  \n",
       "Country                   \n",
       "Malta     Western Europe  \n",
       "Zimbabwe          Africa  \n",
       "Cyprus    Eastern Europe  "
      ]
     },
     "execution_count": 5,
     "metadata": {},
     "output_type": "execute_result"
    }
   ],
   "source": [
    "df.set_index('Country',inplace=True)\n",
    "df.head(3)"
   ]
  },
  {
   "cell_type": "markdown",
   "metadata": {},
   "source": [
    "At that point, our dataframe contains 11 column as the `'Country'` one became its index."
   ]
  },
  {
   "cell_type": "code",
   "execution_count": 6,
   "metadata": {},
   "outputs": [
    {
     "data": {
      "text/plain": [
       "Index(['Happiness Rank', 'Happiness Score', 'Economy', 'Family', 'Health',\n",
       "       'Freedom', 'Generosity', 'Corruption', 'Dystopia', 'Job Satisfaction',\n",
       "       'Region'],\n",
       "      dtype='object')"
      ]
     },
     "execution_count": 6,
     "metadata": {},
     "output_type": "execute_result"
    }
   ],
   "source": [
    "df.columns"
   ]
  },
  {
   "cell_type": "markdown",
   "metadata": {},
   "source": [
    "---\n",
    "### Grab some stats\n",
    "\n",
    "Basic statistics values of the data can be obtain using the `describe()` function.\n",
    "\n",
    "We can quickly restrict the statistcs displayed to the mean, the min and the max values of each numerical columns using the `.loc()`function."
   ]
  },
  {
   "cell_type": "code",
   "execution_count": 7,
   "metadata": {},
   "outputs": [
    {
     "data": {
      "text/html": [
       "<div>\n",
       "<style scoped>\n",
       "    .dataframe tbody tr th:only-of-type {\n",
       "        vertical-align: middle;\n",
       "    }\n",
       "\n",
       "    .dataframe tbody tr th {\n",
       "        vertical-align: top;\n",
       "    }\n",
       "\n",
       "    .dataframe thead th {\n",
       "        text-align: right;\n",
       "    }\n",
       "</style>\n",
       "<table border=\"1\" class=\"dataframe\">\n",
       "  <thead>\n",
       "    <tr style=\"text-align: right;\">\n",
       "      <th></th>\n",
       "      <th>Happiness Rank</th>\n",
       "      <th>Happiness Score</th>\n",
       "      <th>Economy</th>\n",
       "      <th>Family</th>\n",
       "      <th>Health</th>\n",
       "      <th>Freedom</th>\n",
       "      <th>Generosity</th>\n",
       "      <th>Corruption</th>\n",
       "      <th>Dystopia</th>\n",
       "      <th>Job Satisfaction</th>\n",
       "    </tr>\n",
       "  </thead>\n",
       "  <tbody>\n",
       "    <tr>\n",
       "      <th>mean</th>\n",
       "      <td>77.827815</td>\n",
       "      <td>5.357874</td>\n",
       "      <td>0.983895</td>\n",
       "      <td>1.190509</td>\n",
       "      <td>0.550794</td>\n",
       "      <td>0.409805</td>\n",
       "      <td>0.244914</td>\n",
       "      <td>0.123008</td>\n",
       "      <td>1.854910</td>\n",
       "      <td>75.209934</td>\n",
       "    </tr>\n",
       "    <tr>\n",
       "      <th>min</th>\n",
       "      <td>1.000000</td>\n",
       "      <td>2.693000</td>\n",
       "      <td>0.000000</td>\n",
       "      <td>0.000000</td>\n",
       "      <td>0.000000</td>\n",
       "      <td>0.000000</td>\n",
       "      <td>0.000000</td>\n",
       "      <td>0.000000</td>\n",
       "      <td>0.377914</td>\n",
       "      <td>44.400000</td>\n",
       "    </tr>\n",
       "    <tr>\n",
       "      <th>max</th>\n",
       "      <td>155.000000</td>\n",
       "      <td>7.537000</td>\n",
       "      <td>1.870766</td>\n",
       "      <td>1.610574</td>\n",
       "      <td>0.949492</td>\n",
       "      <td>0.658249</td>\n",
       "      <td>0.838075</td>\n",
       "      <td>0.464308</td>\n",
       "      <td>3.117485</td>\n",
       "      <td>95.100000</td>\n",
       "    </tr>\n",
       "  </tbody>\n",
       "</table>\n",
       "</div>"
      ],
      "text/plain": [
       "      Happiness Rank  Happiness Score   Economy    Family    Health   Freedom  \\\n",
       "mean       77.827815         5.357874  0.983895  1.190509  0.550794  0.409805   \n",
       "min         1.000000         2.693000  0.000000  0.000000  0.000000  0.000000   \n",
       "max       155.000000         7.537000  1.870766  1.610574  0.949492  0.658249   \n",
       "\n",
       "      Generosity  Corruption  Dystopia  Job Satisfaction  \n",
       "mean    0.244914    0.123008  1.854910         75.209934  \n",
       "min     0.000000    0.000000  0.377914         44.400000  \n",
       "max     0.838075    0.464308  3.117485         95.100000  "
      ]
     },
     "execution_count": 7,
     "metadata": {},
     "output_type": "execute_result"
    }
   ],
   "source": [
    "df.describe().loc[['mean','min','max']]"
   ]
  },
  {
   "cell_type": "markdown",
   "metadata": {},
   "source": [
    "Using the `sort_values` methohd of the `Dataframe` object, we can easily get the top 10 happiest conuntries, as well as the 10 least happy countries.\n",
    "\n",
    "#### Top 10 happiest countries"
   ]
  },
  {
   "cell_type": "code",
   "execution_count": 8,
   "metadata": {},
   "outputs": [
    {
     "data": {
      "text/html": [
       "<div>\n",
       "<style scoped>\n",
       "    .dataframe tbody tr th:only-of-type {\n",
       "        vertical-align: middle;\n",
       "    }\n",
       "\n",
       "    .dataframe tbody tr th {\n",
       "        vertical-align: top;\n",
       "    }\n",
       "\n",
       "    .dataframe thead th {\n",
       "        text-align: right;\n",
       "    }\n",
       "</style>\n",
       "<table border=\"1\" class=\"dataframe\">\n",
       "  <thead>\n",
       "    <tr style=\"text-align: right;\">\n",
       "      <th></th>\n",
       "      <th>Happiness Rank</th>\n",
       "    </tr>\n",
       "    <tr>\n",
       "      <th>Country</th>\n",
       "      <th></th>\n",
       "    </tr>\n",
       "  </thead>\n",
       "  <tbody>\n",
       "    <tr>\n",
       "      <th>Norway</th>\n",
       "      <td>1</td>\n",
       "    </tr>\n",
       "    <tr>\n",
       "      <th>Denmark</th>\n",
       "      <td>2</td>\n",
       "    </tr>\n",
       "    <tr>\n",
       "      <th>Iceland</th>\n",
       "      <td>3</td>\n",
       "    </tr>\n",
       "    <tr>\n",
       "      <th>Switzerland</th>\n",
       "      <td>4</td>\n",
       "    </tr>\n",
       "    <tr>\n",
       "      <th>Finland</th>\n",
       "      <td>5</td>\n",
       "    </tr>\n",
       "    <tr>\n",
       "      <th>Netherlands</th>\n",
       "      <td>6</td>\n",
       "    </tr>\n",
       "    <tr>\n",
       "      <th>Canada</th>\n",
       "      <td>7</td>\n",
       "    </tr>\n",
       "    <tr>\n",
       "      <th>New Zealand</th>\n",
       "      <td>8</td>\n",
       "    </tr>\n",
       "    <tr>\n",
       "      <th>Sweden</th>\n",
       "      <td>9</td>\n",
       "    </tr>\n",
       "    <tr>\n",
       "      <th>Australia</th>\n",
       "      <td>10</td>\n",
       "    </tr>\n",
       "  </tbody>\n",
       "</table>\n",
       "</div>"
      ],
      "text/plain": [
       "             Happiness Rank\n",
       "Country                    \n",
       "Norway                    1\n",
       "Denmark                   2\n",
       "Iceland                   3\n",
       "Switzerland               4\n",
       "Finland                   5\n",
       "Netherlands               6\n",
       "Canada                    7\n",
       "New Zealand               8\n",
       "Sweden                    9\n",
       "Australia                10"
      ]
     },
     "execution_count": 8,
     "metadata": {},
     "output_type": "execute_result"
    }
   ],
   "source": [
    "df.sort_values('Happiness Rank').head(10)['Happiness Rank'].to_frame()"
   ]
  },
  {
   "cell_type": "markdown",
   "metadata": {},
   "source": [
    "#### 10 least happiest countries"
   ]
  },
  {
   "cell_type": "code",
   "execution_count": 9,
   "metadata": {},
   "outputs": [
    {
     "data": {
      "text/html": [
       "<div>\n",
       "<style scoped>\n",
       "    .dataframe tbody tr th:only-of-type {\n",
       "        vertical-align: middle;\n",
       "    }\n",
       "\n",
       "    .dataframe tbody tr th {\n",
       "        vertical-align: top;\n",
       "    }\n",
       "\n",
       "    .dataframe thead th {\n",
       "        text-align: right;\n",
       "    }\n",
       "</style>\n",
       "<table border=\"1\" class=\"dataframe\">\n",
       "  <thead>\n",
       "    <tr style=\"text-align: right;\">\n",
       "      <th></th>\n",
       "      <th>Happiness Rank</th>\n",
       "    </tr>\n",
       "    <tr>\n",
       "      <th>Country</th>\n",
       "      <th></th>\n",
       "    </tr>\n",
       "  </thead>\n",
       "  <tbody>\n",
       "    <tr>\n",
       "      <th>Central African Republic</th>\n",
       "      <td>155</td>\n",
       "    </tr>\n",
       "    <tr>\n",
       "      <th>Burundi</th>\n",
       "      <td>154</td>\n",
       "    </tr>\n",
       "    <tr>\n",
       "      <th>Tanzania</th>\n",
       "      <td>153</td>\n",
       "    </tr>\n",
       "    <tr>\n",
       "      <th>Syria</th>\n",
       "      <td>152</td>\n",
       "    </tr>\n",
       "    <tr>\n",
       "      <th>Rwanda</th>\n",
       "      <td>151</td>\n",
       "    </tr>\n",
       "    <tr>\n",
       "      <th>Togo</th>\n",
       "      <td>150</td>\n",
       "    </tr>\n",
       "    <tr>\n",
       "      <th>Guinea</th>\n",
       "      <td>149</td>\n",
       "    </tr>\n",
       "    <tr>\n",
       "      <th>Liberia</th>\n",
       "      <td>148</td>\n",
       "    </tr>\n",
       "    <tr>\n",
       "      <th>Yemen</th>\n",
       "      <td>146</td>\n",
       "    </tr>\n",
       "    <tr>\n",
       "      <th>Haiti</th>\n",
       "      <td>145</td>\n",
       "    </tr>\n",
       "  </tbody>\n",
       "</table>\n",
       "</div>"
      ],
      "text/plain": [
       "                          Happiness Rank\n",
       "Country                                 \n",
       "Central African Republic             155\n",
       "Burundi                              154\n",
       "Tanzania                             153\n",
       "Syria                                152\n",
       "Rwanda                               151\n",
       "Togo                                 150\n",
       "Guinea                               149\n",
       "Liberia                              148\n",
       "Yemen                                146\n",
       "Haiti                                145"
      ]
     },
     "execution_count": 9,
     "metadata": {},
     "output_type": "execute_result"
    }
   ],
   "source": [
    "df.sort_values('Happiness Rank',ascending=False).head(10)['Happiness Rank'].to_frame()"
   ]
  },
  {
   "cell_type": "markdown",
   "metadata": {},
   "source": [
    "---\n",
    "##  B. Indexing and grouping\n",
    "\n",
    "### Export data by Region into CSV files\n",
    "\n",
    "In this part of the project, we have to handle data grouped by _Region_.\n",
    "\n",
    "I've decided to build an hash table of _Dataframe_ objects, one for each _Region_. The hash keys are made of the name of the _Region_.\n",
    "\n",
    "Note: I use a Python `set()` object to build the list of _Region_. Python `set()` object can be used to build unique index values from arrays."
   ]
  },
  {
   "cell_type": "code",
   "execution_count": 10,
   "metadata": {},
   "outputs": [
    {
     "name": "stdout",
     "output_type": "stream",
     "text": [
      "Processing region Eastern Europe => data/Eastern Europe.csv\n",
      "Processing region Europe => data/Europe.csv\n",
      "Processing region Africa => data/Africa.csv\n",
      "Processing region North America => data/North America.csv\n",
      "Processing region Western Europe => data/Western Europe.csv\n",
      "Processing region Latin America => data/Latin America.csv\n",
      "Processing region Asia-Pacific => data/Asia-Pacific.csv\n"
     ]
    }
   ],
   "source": [
    "region_dict = set(df['Region'].to_list())\n",
    "df_by_region = dict()\n",
    "\n",
    "for i in region_dict:\n",
    "    print(\"Processing region\",i,\"=>\",os.path.join('data',i+'.csv'))\n",
    "    df_by_region[i] = df[df['Region'] == i]\n",
    "    df_by_region[i].to_csv(os.path.join('data',i+'.csv'),encoding='UTF-8')\n",
    "    \n"
   ]
  },
  {
   "cell_type": "markdown",
   "metadata": {},
   "source": [
    "The `df_by_region`variable is now a dict of Dataframe, indexed by the region name it concerns\n",
    "\n",
    "\n",
    "### Mean happiness score for each region, rank the regions from most happy to least happy.\n",
    "\n",
    "Even if we could use our `df_by_region` dict object to get this ranking, we will use `pandas`library functions.\n",
    "\n",
    "We use the `groupby()` method of the Datafram class to get a DataFrameGroupBy object. This object has a `mean()` method to calculate the mean values of grouped lines. Playing with the `ascending` parameter let us get the list sorted from most to least happy.\n",
    "\n",
    "For smarter result, we do select only values from column _Happiness Rank_\n"
   ]
  },
  {
   "cell_type": "code",
   "execution_count": 11,
   "metadata": {},
   "outputs": [
    {
     "data": {
      "text/html": [
       "<div>\n",
       "<style scoped>\n",
       "    .dataframe tbody tr th:only-of-type {\n",
       "        vertical-align: middle;\n",
       "    }\n",
       "\n",
       "    .dataframe tbody tr th {\n",
       "        vertical-align: top;\n",
       "    }\n",
       "\n",
       "    .dataframe thead th {\n",
       "        text-align: right;\n",
       "    }\n",
       "</style>\n",
       "<table border=\"1\" class=\"dataframe\">\n",
       "  <thead>\n",
       "    <tr style=\"text-align: right;\">\n",
       "      <th></th>\n",
       "      <th>Happiness Rank</th>\n",
       "    </tr>\n",
       "    <tr>\n",
       "      <th>Region</th>\n",
       "      <th></th>\n",
       "    </tr>\n",
       "  </thead>\n",
       "  <tbody>\n",
       "    <tr>\n",
       "      <th>Europe</th>\n",
       "      <td>132.000000</td>\n",
       "    </tr>\n",
       "    <tr>\n",
       "      <th>Africa</th>\n",
       "      <td>122.116279</td>\n",
       "    </tr>\n",
       "    <tr>\n",
       "      <th>Asia-Pacific</th>\n",
       "      <td>78.325581</td>\n",
       "    </tr>\n",
       "    <tr>\n",
       "      <th>Eastern Europe</th>\n",
       "      <td>70.619048</td>\n",
       "    </tr>\n",
       "    <tr>\n",
       "      <th>Latin America</th>\n",
       "      <td>50.772727</td>\n",
       "    </tr>\n",
       "    <tr>\n",
       "      <th>Western Europe</th>\n",
       "      <td>20.000000</td>\n",
       "    </tr>\n",
       "    <tr>\n",
       "      <th>North America</th>\n",
       "      <td>10.500000</td>\n",
       "    </tr>\n",
       "  </tbody>\n",
       "</table>\n",
       "</div>"
      ],
      "text/plain": [
       "                Happiness Rank\n",
       "Region                        \n",
       "Europe              132.000000\n",
       "Africa              122.116279\n",
       "Asia-Pacific         78.325581\n",
       "Eastern Europe       70.619048\n",
       "Latin America        50.772727\n",
       "Western Europe       20.000000\n",
       "North America        10.500000"
      ]
     },
     "execution_count": 11,
     "metadata": {},
     "output_type": "execute_result"
    }
   ],
   "source": [
    "df.groupby('Region').mean().sort_values('Happiness Rank',ascending=False)['Happiness Rank'].to_frame()"
   ]
  },
  {
   "cell_type": "markdown",
   "metadata": {},
   "source": [
    "### Happiness score above 6.0.\n",
    "\n",
    "The question here is to get the number, per Region, of countries with a _Happiness Score_ above 6.0.\n",
    "\n",
    "First, we build an array of Boolean value depending on the score of each countries. If score is above 6.0, then the corresponding array index is set to True, False otherwise.\n",
    "This array is then used as paramter to select the corresponding lines of the dataset.\n",
    "\n",
    "Now, we use once again the `groupby()` method with the `sum()` function to get the number of countries per _Region_ with an _Happiness Score_ above 6.0.\n",
    "\n",
    "One note here for presentation purposes, we do rename the column to obtain a more precise output."
   ]
  },
  {
   "cell_type": "code",
   "execution_count": 12,
   "metadata": {},
   "outputs": [
    {
     "data": {
      "text/html": [
       "<div>\n",
       "<style scoped>\n",
       "    .dataframe tbody tr th:only-of-type {\n",
       "        vertical-align: middle;\n",
       "    }\n",
       "\n",
       "    .dataframe tbody tr th {\n",
       "        vertical-align: top;\n",
       "    }\n",
       "\n",
       "    .dataframe thead th {\n",
       "        text-align: right;\n",
       "    }\n",
       "</style>\n",
       "<table border=\"1\" class=\"dataframe\">\n",
       "  <thead>\n",
       "    <tr style=\"text-align: right;\">\n",
       "      <th></th>\n",
       "      <th>Number of countries with Happiness Score above 6.0</th>\n",
       "    </tr>\n",
       "    <tr>\n",
       "      <th>Region</th>\n",
       "      <th></th>\n",
       "    </tr>\n",
       "  </thead>\n",
       "  <tbody>\n",
       "    <tr>\n",
       "      <th>Asia-Pacific</th>\n",
       "      <td>11</td>\n",
       "    </tr>\n",
       "    <tr>\n",
       "      <th>Eastern Europe</th>\n",
       "      <td>1</td>\n",
       "    </tr>\n",
       "    <tr>\n",
       "      <th>Latin America</th>\n",
       "      <td>13</td>\n",
       "    </tr>\n",
       "    <tr>\n",
       "      <th>North America</th>\n",
       "      <td>2</td>\n",
       "    </tr>\n",
       "    <tr>\n",
       "      <th>Western Europe</th>\n",
       "      <td>17</td>\n",
       "    </tr>\n",
       "  </tbody>\n",
       "</table>\n",
       "</div>"
      ],
      "text/plain": [
       "                Number of countries with Happiness Score above 6.0\n",
       "Region                                                            \n",
       "Asia-Pacific                                                   11 \n",
       "Eastern Europe                                                  1 \n",
       "Latin America                                                  13 \n",
       "North America                                                   2 \n",
       "Western Europe                                                 17 "
      ]
     },
     "execution_count": 12,
     "metadata": {},
     "output_type": "execute_result"
    }
   ],
   "source": [
    "above = [True if x > 6.0 else False for x in df['Happiness Score']]\n",
    "above_df = df[above].groupby('Region').count()['Happiness Score'].to_frame()\n",
    "above_df.columns = ['Number of countries with Happiness Score above 6.0']\n",
    "above_df"
   ]
  },
  {
   "cell_type": "markdown",
   "metadata": {},
   "source": [
    "### Difference between the maximum and minimum happiness\n",
    "\n",
    "Again, to get the difference between the min and max _Happiness Score_ per region, we will use the `groupby()` method, along with a call to `agg()` method. Parameter of `agg()` will be a function that calculates the max minus min value found in grouped lines.\n",
    "\n",
    "The result converted to a Dataframe with method `to_frame()` will be sorted by values _Happiness Score_ in reversed order (higher number first) using the method `sort_values()` with parameter `ascending=False`.\n",
    "\n",
    "Displaying this new Dataframe gives us the difference, per _Region_, of the min and max _Happiness Score_, with the largest range as first entry: _Asia-Pacific_ "
   ]
  },
  {
   "cell_type": "code",
   "execution_count": 13,
   "metadata": {},
   "outputs": [
    {
     "data": {
      "text/html": [
       "<div>\n",
       "<style scoped>\n",
       "    .dataframe tbody tr th:only-of-type {\n",
       "        vertical-align: middle;\n",
       "    }\n",
       "\n",
       "    .dataframe tbody tr th {\n",
       "        vertical-align: top;\n",
       "    }\n",
       "\n",
       "    .dataframe thead th {\n",
       "        text-align: right;\n",
       "    }\n",
       "</style>\n",
       "<table border=\"1\" class=\"dataframe\">\n",
       "  <thead>\n",
       "    <tr style=\"text-align: right;\">\n",
       "      <th></th>\n",
       "      <th>Happiness Score</th>\n",
       "    </tr>\n",
       "    <tr>\n",
       "      <th>Region</th>\n",
       "      <th></th>\n",
       "    </tr>\n",
       "  </thead>\n",
       "  <tbody>\n",
       "    <tr>\n",
       "      <th>Asia-Pacific</th>\n",
       "      <td>3.852</td>\n",
       "    </tr>\n",
       "    <tr>\n",
       "      <th>Latin America</th>\n",
       "      <td>3.476</td>\n",
       "    </tr>\n",
       "    <tr>\n",
       "      <th>Africa</th>\n",
       "      <td>3.179</td>\n",
       "    </tr>\n",
       "    <tr>\n",
       "      <th>Western Europe</th>\n",
       "      <td>2.342</td>\n",
       "    </tr>\n",
       "    <tr>\n",
       "      <th>Eastern Europe</th>\n",
       "      <td>1.454</td>\n",
       "    </tr>\n",
       "    <tr>\n",
       "      <th>North America</th>\n",
       "      <td>0.323</td>\n",
       "    </tr>\n",
       "    <tr>\n",
       "      <th>Europe</th>\n",
       "      <td>0.000</td>\n",
       "    </tr>\n",
       "  </tbody>\n",
       "</table>\n",
       "</div>"
      ],
      "text/plain": [
       "                Happiness Score\n",
       "Region                         \n",
       "Asia-Pacific              3.852\n",
       "Latin America             3.476\n",
       "Africa                    3.179\n",
       "Western Europe            2.342\n",
       "Eastern Europe            1.454\n",
       "North America             0.323\n",
       "Europe                    0.000"
      ]
     },
     "execution_count": 13,
     "metadata": {},
     "output_type": "execute_result"
    }
   ],
   "source": [
    "difference_df = df.groupby('Region')['Happiness Score'].agg(lambda x: max(x) - min(x)).to_frame()\n",
    "difference_df.sort_values('Happiness Score',ascending=False)"
   ]
  },
  {
   "cell_type": "markdown",
   "metadata": {},
   "source": [
    "---\n",
    "\n",
    "## C. Bar plot of the Happiness Score\n",
    "\n",
    "Now it's time to start drawing some graphs.\n",
    "\n",
    "First of all, let import he libraries needed for ploting functions."
   ]
  },
  {
   "cell_type": "code",
   "execution_count": 14,
   "metadata": {},
   "outputs": [],
   "source": [
    "import matplotlib.pyplot as plt\n",
    "%matplotlib inline"
   ]
  },
  {
   "cell_type": "markdown",
   "metadata": {},
   "source": [
    "Let's draw a nice Horizonal Bar Plot of Happiness Score.\n",
    "\n",
    "Data displayed will be restricted to the top 10 happiest countries, using the `head()` method."
   ]
  },
  {
   "cell_type": "code",
   "execution_count": 15,
   "metadata": {},
   "outputs": [
    {
     "data": {
      "image/png": "[encoded data removed]",
      "text/plain": [
       "<Figure size 432x288 with 1 Axes>"
      ]
     },
     "metadata": {
      "needs_background": "light"
     },
     "output_type": "display_data"
    }
   ],
   "source": [
    "top10_df = df.sort_values('Happiness Rank',ascending=True).head(10)\n",
    "\n",
    "top10_plot = top10_df['Happiness Score'].plot.barh()\n",
    "top10_plot.set_xlabel('Happiness Score')\n",
    "top10_plot.invert_yaxis()\n",
    "\n",
    "top10_plot.set_title('Top 10 happiest countries')\n",
    "\n",
    "plt.xlim((0,8))\n",
    "plt.show()\n"
   ]
  },
  {
   "cell_type": "markdown",
   "metadata": {},
   "source": [
    "---\n",
    "### Stacked bar graph of the top 10 happy countries\n",
    "Now we do some changes the previous code to turn our horizontal bar graph into a stacked bar chart where the overall happiness score is divided into the seven category corresponding to the columns.\n",
    "\n",
    "To do the job, we will initialize a _Top 10_ dataframe object and two arrays: First one contains the 7 categories to be used for Bar graph, the other one contains the 7 colors, one for each category.\n"
   ]
  },
  {
   "cell_type": "code",
   "execution_count": 16,
   "metadata": {},
   "outputs": [],
   "source": [
    "top10_df = df.sort_values('Happiness Score',ascending=False).head(10)\n",
    "\n",
    "categories = ['Economy','Family','Health','Freedom','Generosity','Corruption','Dystopia']\n",
    "colors = ['Red','Green','Blue','Yellow','Pink','Black','Grey']\n"
   ]
  },
  {
   "cell_type": "markdown",
   "metadata": {},
   "source": [
    "The `plt.barh()` method expect as first parameter the x-axis values. Those values are imply built using a range of value starting from 0 to length of Dataframe index (the number of lines). In our specific case, this value sould be hardcoded to 10 as we've limited previously the Dataframe entries to 10 lines.\n",
    "\n",
    "Now, on a stacked bar graph, we must handle a left offset for each categories. As I've mead the choice to use a `for` loop to build the graph, I will initalize a `left_offset` arrays with 0 value, and use this array as `letf=left_offset` parameter to the `plt.barh()` method. On each loop, Il'' add to this array the values of the current category."
   ]
  },
  {
   "cell_type": "code",
   "execution_count": 17,
   "metadata": {},
   "outputs": [],
   "source": [
    "x_values = range(0,len(top10_df.index))\n",
    "left_offset = [0] * len(top10_df.index)"
   ]
  },
  {
   "cell_type": "markdown",
   "metadata": {},
   "source": [
    "Let's now loop over the categories and build the Bar graph and add some smart decorations to the graph...\n",
    "\n",
    "...and that'all folks :-)"
   ]
  },
  {
   "cell_type": "code",
   "execution_count": 18,
   "metadata": {},
   "outputs": [
    {
     "data": {
      "image/png": "[encoded data removed]",
      "text/plain": [
       "<Figure size 432x288 with 1 Axes>"
      ]
     },
     "metadata": {
      "needs_background": "light"
     },
     "output_type": "display_data"
    }
   ],
   "source": [
    "i = 0\n",
    "for category in categories:\n",
    "    to_draw = top10_df[category]\n",
    "    plt.barh(x_values,to_draw, color=colors[i], left = left_offset, label = category)\n",
    "    left_offset = left_offset + to_draw\n",
    "    i = i + 1\n",
    "\n",
    "    plt.yticks(x_values,top10_df.index)\n",
    "    \n",
    "plt.xlim((0,12))\n",
    "\n",
    "plt.ylabel(\"Countries\")\n",
    "plt.xlabel(\"Happiness Score\")\n",
    "plt.title(\"Detailed happiness score per category\")\n",
    "plt.legend(loc='upper right')\n",
    "\n",
    "plt.show()"
   ]
  },
  {
   "cell_type": "markdown",
   "metadata": {},
   "source": [
    "---\n",
    "### Stacked bar graph of countries from Africa\n",
    "\n",
    "This bar graph construction follows the same kind of logic of the previous one (array of categories and colors are reused from previous code). Main differences are:\n",
    "* Source Dataframe needs to be changed to filter coiuntries from Africa\n",
    "* `x_values` and `left_offset` must be set to new value (index of African countries is different from previous top 10 graph)\n",
    "* Graph size will be set bigger than previous one as there is more bar to be displayed\n",
    "* Sorting order of the dataframe is changed to `ascending=False` in order to have the most happy country on top\n"
   ]
  },
  {
   "cell_type": "code",
   "execution_count": 19,
   "metadata": {},
   "outputs": [
    {
     "data": {
      "image/png": "[encoded data removed]",
      "text/plain": [
       "<Figure size 2160x1440 with 1 Axes>"
      ]
     },
     "metadata": {
      "needs_background": "light"
     },
     "output_type": "display_data"
    }
   ],
   "source": [
    "africa_df = df[df['Region'] == 'Africa']\n",
    "africa_df = africa_df.sort_values('Happiness Rank',ascending=False)\n",
    "\n",
    "x_values = range(0,len(africa_df.index))\n",
    "left_offset = [0] * len(africa_df.index)\n",
    "\n",
    "plt.figure(figsize=(30,20))\n",
    "\n",
    "i = 0\n",
    "for category in categories:\n",
    "    to_draw = africa_df[category]\n",
    "    plt.barh(x_values,to_draw, color=colors[i],left = left_offset, label = category)\n",
    "    left_offset = left_offset + to_draw\n",
    "    i = i + 1\n",
    "\n",
    "\n",
    "plt.yticks(x_values,africa_df.index)\n",
    "plt.xlim((0,8))\n",
    "\n",
    "plt.ylabel(\"Countries\")\n",
    "plt.xlabel(\"Happiness Score\")\n",
    "plt.title(\"Detailed happiness score per category\")\n",
    "plt.legend(loc='upper right')\n",
    "\n",
    "plt.show()\n"
   ]
  },
  {
   "cell_type": "markdown",
   "metadata": {},
   "source": [
    "D. Histogram of Job Satisfaction"
   ]
  },
  {
   "cell_type": "code",
   "execution_count": 59,
   "metadata": {},
   "outputs": [
    {
     "data": {
      "image/png": "[encoded data removed]",
      "text/plain": [
       "<Figure size 432x288 with 1 Axes>"
      ]
     },
     "metadata": {
      "needs_background": "light"
     },
     "output_type": "display_data"
    }
   ],
   "source": [
    "job_satisfaction_df = df['Job Satisfaction'].to_frame()\n",
    "bins_interval = [40, 50, 60, 70, 80, 90, 100]\n",
    "\n",
    "hist = job_satisfaction_df.plot.hist(color='orange', edgecolor='black',bins=bins_interval)\n",
    "hist.set_xlabel('% of satisfaction')\n",
    "hist.set_ylabel('Number of countries')\n",
    "hist.set_title('% of Job Satisfaction worldwide')\n",
    "\n",
    "plt.xlim(40,100)\n",
    "plt.show()\n"
   ]
  },
  {
   "cell_type": "code",
   "execution_count": null,
   "metadata": {},
   "outputs": [],
   "source": []
  }
 ],
 "metadata": {
  "kernelspec": {
   "display_name": "Python 3",
   "language": "python",
   "name": "python3"
  },
  "language_info": {
   "codemirror_mode": {
    "name": "ipython",
    "version": 3
   },
   "file_extension": ".py",
   "mimetype": "text/x-python",
   "name": "python",
   "nbconvert_exporter": "python",
   "pygments_lexer": "ipython3",
   "version": "3.6.10"
  }
 },
 "nbformat": 4,
 "nbformat_minor": 4
}
