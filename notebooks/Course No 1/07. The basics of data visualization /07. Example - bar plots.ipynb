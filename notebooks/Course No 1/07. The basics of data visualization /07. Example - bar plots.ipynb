{
 "cells": [
  {
   "cell_type": "code",
   "execution_count": 1,
   "metadata": {},
   "outputs": [],
   "source": [
    "import matplotlib.pyplot as plt\n",
    "%matplotlib inline\n",
    "import numpy as np"
   ]
  },
  {
   "cell_type": "code",
   "execution_count": 2,
   "metadata": {},
   "outputs": [],
   "source": [
    "countries = ['USA', 'GB', 'China', 'Russia', 'Germany']\n",
    "bronzes = np.array([38, 17, 26, 19, 15])\n",
    "silvers = np.array([37, 23, 18, 17, 10])\n",
    "golds = np.array([46, 27, 26, 19, 17])\n",
    "total = np.array([121,67,70,55,42])\n"
   ]
  },
  {
   "cell_type": "code",
   "execution_count": 3,
   "metadata": {},
   "outputs": [
    {
     "data": {
      "text/plain": [
       "array([0, 1, 2, 3, 4])"
      ]
     },
     "execution_count": 3,
     "metadata": {},
     "output_type": "execute_result"
    }
   ],
   "source": [
    "x_cor = np.arange(5)\n"
   ]
  },
  {
   "cell_type": "code",
   "execution_count": 19,
   "metadata": {},
   "outputs": [
    {
     "data": {
      "image/png": "[encoded data removed]",
      "text/plain": [
       "<Figure size 432x288 with 1 Axes>"
      ]
     },
     "metadata": {
      "needs_background": "light"
     },
     "output_type": "display_data"
    }
   ],
   "source": [
    "plt.xticks(x_cor,countries)\n",
    "plt.ylabel(\"Number of medals\")\n",
    "plt.xlabel(\"Countries\")\n",
    "plt.title(\"2016 Olympic medals: Top countries\")\n",
    "plt.bar(x_cor,bronzes, color=\"green\")\n",
    "plt.bar(x_cor,silvers,color=\"grey\", bottom=bronzes)\n",
    "plt.bar(x_cor,golds,color=\"yellow\", bottom=silvers+bronzes)\n",
    "plt.show()"
   ]
  },
  {
   "cell_type": "code",
   "execution_count": null,
   "metadata": {},
   "outputs": [],
   "source": []
  }
 ],
 "metadata": {
  "kernelspec": {
   "display_name": "Python 3",
   "language": "python",
   "name": "python3"
  },
  "language_info": {
   "codemirror_mode": {
    "name": "ipython",
    "version": 3
   },
   "file_extension": ".py",
   "mimetype": "text/x-python",
   "name": "python",
   "nbconvert_exporter": "python",
   "pygments_lexer": "ipython3",
   "version": "3.6.10"
  }
 },
 "nbformat": 4,
 "nbformat_minor": 4
}
