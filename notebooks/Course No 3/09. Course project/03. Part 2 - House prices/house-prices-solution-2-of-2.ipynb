{
 "cells": [
  {
   "cell_type": "markdown",
   "metadata": {},
   "source": [
    "# Course Project No 3 - Part 2 - House prices - 2 of 2"
   ]
  },
  {
   "cell_type": "markdown",
   "metadata": {},
   "source": [
    "## Import base libraries\n",
    "\n",
    "Let's import all the base libraries that we will use in this Notebook"
   ]
  },
  {
   "cell_type": "code",
   "execution_count": 40,
   "metadata": {},
   "outputs": [],
   "source": [
    "import pandas as pd\n",
    "import numpy as np\n",
    "import os\n",
    "import matplotlib.pyplot as plt\n",
    "%matplotlib inline\n"
   ]
  },
  {
   "cell_type": "markdown",
   "metadata": {},
   "source": [
    "## Load the datasets\n",
    "\n",
    "In this Notebook, we will load the cleaned and adapted version of our two datasets. See introduction in the Notebook *house-prices-solution-1-of-2.ipynb* to know form where those files arise.\n"
   ]
  },
  {
   "cell_type": "code",
   "execution_count": 41,
   "metadata": {},
   "outputs": [
    {
     "name": "stdout",
     "output_type": "stream",
     "text": [
      "Size of the train dataset: (2207, 254)\n"
     ]
    },
    {
     "data": {
      "text/html": [
       "<div>\n",
       "<style scoped>\n",
       "    .dataframe tbody tr th:only-of-type {\n",
       "        vertical-align: middle;\n",
       "    }\n",
       "\n",
       "    .dataframe tbody tr th {\n",
       "        vertical-align: top;\n",
       "    }\n",
       "\n",
       "    .dataframe thead th {\n",
       "        text-align: right;\n",
       "    }\n",
       "</style>\n",
       "<table border=\"1\" class=\"dataframe\">\n",
       "  <thead>\n",
       "    <tr style=\"text-align: right;\">\n",
       "      <th></th>\n",
       "      <th>Lot Frontage</th>\n",
       "      <th>Lot Area</th>\n",
       "      <th>Lot Shape</th>\n",
       "      <th>Land Slope</th>\n",
       "      <th>Overall Qual</th>\n",
       "      <th>Overall Cond</th>\n",
       "      <th>Year Built</th>\n",
       "      <th>Year Remod/Add</th>\n",
       "      <th>Mas Vnr Area</th>\n",
       "      <th>Exter Qual</th>\n",
       "      <th>...</th>\n",
       "      <th>House New</th>\n",
       "      <th>Extra Flr SF</th>\n",
       "      <th>Extra Flr SF Exists</th>\n",
       "      <th>2nd Flr SF Exists</th>\n",
       "      <th>Low Qual Fin SF Exists</th>\n",
       "      <th>3Ssn Porch Exists</th>\n",
       "      <th>Misc Val Exists</th>\n",
       "      <th>Enclosed Porch Exists</th>\n",
       "      <th>Screen Porch Exists</th>\n",
       "      <th>Continuous Sum</th>\n",
       "    </tr>\n",
       "  </thead>\n",
       "  <tbody>\n",
       "    <tr>\n",
       "      <th>0</th>\n",
       "      <td>68.0</td>\n",
       "      <td>8795</td>\n",
       "      <td>3</td>\n",
       "      <td>3</td>\n",
       "      <td>7</td>\n",
       "      <td>5</td>\n",
       "      <td>10</td>\n",
       "      <td>10</td>\n",
       "      <td>0.0</td>\n",
       "      <td>4</td>\n",
       "      <td>...</td>\n",
       "      <td>0</td>\n",
       "      <td>0</td>\n",
       "      <td>0</td>\n",
       "      <td>1</td>\n",
       "      <td>0</td>\n",
       "      <td>0</td>\n",
       "      <td>0</td>\n",
       "      <td>0</td>\n",
       "      <td>0</td>\n",
       "      <td>346.0</td>\n",
       "    </tr>\n",
       "    <tr>\n",
       "      <th>1</th>\n",
       "      <td>75.0</td>\n",
       "      <td>10170</td>\n",
       "      <td>4</td>\n",
       "      <td>3</td>\n",
       "      <td>6</td>\n",
       "      <td>6</td>\n",
       "      <td>59</td>\n",
       "      <td>59</td>\n",
       "      <td>522.0</td>\n",
       "      <td>3</td>\n",
       "      <td>...</td>\n",
       "      <td>0</td>\n",
       "      <td>0</td>\n",
       "      <td>0</td>\n",
       "      <td>0</td>\n",
       "      <td>0</td>\n",
       "      <td>0</td>\n",
       "      <td>0</td>\n",
       "      <td>0</td>\n",
       "      <td>0</td>\n",
       "      <td>597.0</td>\n",
       "    </tr>\n",
       "    <tr>\n",
       "      <th>2</th>\n",
       "      <td>21.0</td>\n",
       "      <td>2001</td>\n",
       "      <td>4</td>\n",
       "      <td>3</td>\n",
       "      <td>4</td>\n",
       "      <td>5</td>\n",
       "      <td>40</td>\n",
       "      <td>40</td>\n",
       "      <td>80.0</td>\n",
       "      <td>3</td>\n",
       "      <td>...</td>\n",
       "      <td>0</td>\n",
       "      <td>0</td>\n",
       "      <td>0</td>\n",
       "      <td>1</td>\n",
       "      <td>0</td>\n",
       "      <td>0</td>\n",
       "      <td>0</td>\n",
       "      <td>0</td>\n",
       "      <td>0</td>\n",
       "      <td>101.0</td>\n",
       "    </tr>\n",
       "  </tbody>\n",
       "</table>\n",
       "<p>3 rows × 254 columns</p>\n",
       "</div>"
      ],
      "text/plain": [
       "   Lot Frontage  Lot Area  Lot Shape  Land Slope  Overall Qual  Overall Cond  \\\n",
       "0          68.0      8795          3           3             7             5   \n",
       "1          75.0     10170          4           3             6             6   \n",
       "2          21.0      2001          4           3             4             5   \n",
       "\n",
       "   Year Built  Year Remod/Add  Mas Vnr Area  Exter Qual  ...  House New  \\\n",
       "0          10              10           0.0           4  ...          0   \n",
       "1          59              59         522.0           3  ...          0   \n",
       "2          40              40          80.0           3  ...          0   \n",
       "\n",
       "   Extra Flr SF  Extra Flr SF Exists  2nd Flr SF Exists  \\\n",
       "0             0                    0                  1   \n",
       "1             0                    0                  0   \n",
       "2             0                    0                  1   \n",
       "\n",
       "   Low Qual Fin SF Exists  3Ssn Porch Exists  Misc Val Exists  \\\n",
       "0                       0                  0                0   \n",
       "1                       0                  0                0   \n",
       "2                       0                  0                0   \n",
       "\n",
       "   Enclosed Porch Exists  Screen Porch Exists  Continuous Sum  \n",
       "0                      0                    0           346.0  \n",
       "1                      0                    0           597.0  \n",
       "2                      0                    0           101.0  \n",
       "\n",
       "[3 rows x 254 columns]"
      ]
     },
     "execution_count": 41,
     "metadata": {},
     "output_type": "execute_result"
    }
   ],
   "source": [
    "train_df = pd.read_csv(os.path.join('data','house-prices-cleaned.csv'))\n",
    "print(\"Size of the train dataset:\", train_df.shape)\n",
    "train_df.head(3)"
   ]
  },
  {
   "cell_type": "code",
   "execution_count": 42,
   "metadata": {},
   "outputs": [
    {
     "name": "stdout",
     "output_type": "stream",
     "text": [
      "Size of the test dataset: (500, 254)\n"
     ]
    },
    {
     "data": {
      "text/html": [
       "<div>\n",
       "<style scoped>\n",
       "    .dataframe tbody tr th:only-of-type {\n",
       "        vertical-align: middle;\n",
       "    }\n",
       "\n",
       "    .dataframe tbody tr th {\n",
       "        vertical-align: top;\n",
       "    }\n",
       "\n",
       "    .dataframe thead th {\n",
       "        text-align: right;\n",
       "    }\n",
       "</style>\n",
       "<table border=\"1\" class=\"dataframe\">\n",
       "  <thead>\n",
       "    <tr style=\"text-align: right;\">\n",
       "      <th></th>\n",
       "      <th>Lot Frontage</th>\n",
       "      <th>Lot Area</th>\n",
       "      <th>Lot Shape</th>\n",
       "      <th>Land Slope</th>\n",
       "      <th>Overall Qual</th>\n",
       "      <th>Overall Cond</th>\n",
       "      <th>Year Built</th>\n",
       "      <th>Year Remod/Add</th>\n",
       "      <th>Mas Vnr Area</th>\n",
       "      <th>Exter Qual</th>\n",
       "      <th>...</th>\n",
       "      <th>House New</th>\n",
       "      <th>Extra Flr SF</th>\n",
       "      <th>Extra Flr SF Exists</th>\n",
       "      <th>2nd Flr SF Exists</th>\n",
       "      <th>Low Qual Fin SF Exists</th>\n",
       "      <th>3Ssn Porch Exists</th>\n",
       "      <th>Misc Val Exists</th>\n",
       "      <th>Enclosed Porch Exists</th>\n",
       "      <th>Screen Porch Exists</th>\n",
       "      <th>Continuous Sum</th>\n",
       "    </tr>\n",
       "  </thead>\n",
       "  <tbody>\n",
       "    <tr>\n",
       "      <th>0</th>\n",
       "      <td>68.0</td>\n",
       "      <td>11275</td>\n",
       "      <td>3</td>\n",
       "      <td>2</td>\n",
       "      <td>6</td>\n",
       "      <td>7</td>\n",
       "      <td>78</td>\n",
       "      <td>60</td>\n",
       "      <td>480.0</td>\n",
       "      <td>3</td>\n",
       "      <td>...</td>\n",
       "      <td>0</td>\n",
       "      <td>0</td>\n",
       "      <td>0</td>\n",
       "      <td>1</td>\n",
       "      <td>0</td>\n",
       "      <td>0</td>\n",
       "      <td>0</td>\n",
       "      <td>1</td>\n",
       "      <td>0</td>\n",
       "      <td>548.0</td>\n",
       "    </tr>\n",
       "    <tr>\n",
       "      <th>1</th>\n",
       "      <td>65.0</td>\n",
       "      <td>9757</td>\n",
       "      <td>4</td>\n",
       "      <td>2</td>\n",
       "      <td>5</td>\n",
       "      <td>7</td>\n",
       "      <td>16</td>\n",
       "      <td>16</td>\n",
       "      <td>0.0</td>\n",
       "      <td>3</td>\n",
       "      <td>...</td>\n",
       "      <td>0</td>\n",
       "      <td>0</td>\n",
       "      <td>0</td>\n",
       "      <td>0</td>\n",
       "      <td>0</td>\n",
       "      <td>0</td>\n",
       "      <td>0</td>\n",
       "      <td>0</td>\n",
       "      <td>1</td>\n",
       "      <td>131.0</td>\n",
       "    </tr>\n",
       "    <tr>\n",
       "      <th>2</th>\n",
       "      <td>86.0</td>\n",
       "      <td>11065</td>\n",
       "      <td>3</td>\n",
       "      <td>3</td>\n",
       "      <td>8</td>\n",
       "      <td>5</td>\n",
       "      <td>4</td>\n",
       "      <td>4</td>\n",
       "      <td>788.0</td>\n",
       "      <td>4</td>\n",
       "      <td>...</td>\n",
       "      <td>1</td>\n",
       "      <td>0</td>\n",
       "      <td>0</td>\n",
       "      <td>1</td>\n",
       "      <td>0</td>\n",
       "      <td>0</td>\n",
       "      <td>0</td>\n",
       "      <td>0</td>\n",
       "      <td>0</td>\n",
       "      <td>1125.0</td>\n",
       "    </tr>\n",
       "  </tbody>\n",
       "</table>\n",
       "<p>3 rows × 254 columns</p>\n",
       "</div>"
      ],
      "text/plain": [
       "   Lot Frontage  Lot Area  Lot Shape  Land Slope  Overall Qual  Overall Cond  \\\n",
       "0          68.0     11275          3           2             6             7   \n",
       "1          65.0      9757          4           2             5             7   \n",
       "2          86.0     11065          3           3             8             5   \n",
       "\n",
       "   Year Built  Year Remod/Add  Mas Vnr Area  Exter Qual  ...  House New  \\\n",
       "0          78              60         480.0           3  ...          0   \n",
       "1          16              16           0.0           3  ...          0   \n",
       "2           4               4         788.0           4  ...          1   \n",
       "\n",
       "   Extra Flr SF  Extra Flr SF Exists  2nd Flr SF Exists  \\\n",
       "0             0                    0                  1   \n",
       "1             0                    0                  0   \n",
       "2             0                    0                  1   \n",
       "\n",
       "   Low Qual Fin SF Exists  3Ssn Porch Exists  Misc Val Exists  \\\n",
       "0                       0                  0                0   \n",
       "1                       0                  0                0   \n",
       "2                       0                  0                0   \n",
       "\n",
       "   Enclosed Porch Exists  Screen Porch Exists  Continuous Sum  \n",
       "0                      1                    0           548.0  \n",
       "1                      0                    1           131.0  \n",
       "2                      0                    0          1125.0  \n",
       "\n",
       "[3 rows x 254 columns]"
      ]
     },
     "execution_count": 42,
     "metadata": {},
     "output_type": "execute_result"
    }
   ],
   "source": [
    "test_df = pd.read_csv(os.path.join('data','house-prices-test-cleaned.csv'))\n",
    "print(\"Size of the test dataset:\", test_df.shape)\n",
    "test_df.head(3)"
   ]
  },
  {
   "cell_type": "markdown",
   "metadata": {},
   "source": [
    "Ok, so here we are, cleaned Train and adapted Test datasets ready for machine learning work."
   ]
  },
  {
   "cell_type": "markdown",
   "metadata": {},
   "source": [
    "## Model Fitting"
   ]
  },
  {
   "cell_type": "markdown",
   "metadata": {},
   "source": [
    "### Create feature matrix and vector result"
   ]
  },
  {
   "cell_type": "code",
   "execution_count": 43,
   "metadata": {},
   "outputs": [
    {
     "name": "stdout",
     "output_type": "stream",
     "text": [
      "Shape of X_tr variable: (2207, 253)\n",
      "Shape of y_tr variable: (2207,)\n",
      "Shape of X_te variable: (500, 253)\n",
      "Shape of y_te variable: (500,)\n",
      "Shape of X variable: (2707, 253)\n",
      "Shape of y variable: (2707,)\n"
     ]
    }
   ],
   "source": [
    "# Build feature matrix X and result vector y narray from the train and test dataframe\n",
    "X_tr = train_df.drop('SalePrice', axis=1).values\n",
    "y_tr = train_df['SalePrice'].values\n",
    "X_te = test_df.drop('SalePrice', axis=1).values\n",
    "y_te = test_df['SalePrice'].values\n",
    "\n",
    "X = np.concatenate((X_tr, X_te))\n",
    "y = np.concatenate((y_tr, y_te))\n",
    "\n",
    "print(\"Shape of X_tr variable:\",X_tr.shape)\n",
    "print(\"Shape of y_tr variable:\",y_tr.shape)\n",
    "\n",
    "print(\"Shape of X_te variable:\",X_te.shape)\n",
    "print(\"Shape of y_te variable:\",y_te.shape)\n",
    "\n",
    "print(\"Shape of X variable:\",X.shape)\n",
    "print(\"Shape of y variable:\",y.shape)"
   ]
  },
  {
   "cell_type": "code",
   "execution_count": 44,
   "metadata": {},
   "outputs": [],
   "source": [
    "from sklearn.feature_selection import SelectKBest\n",
    "from sklearn.feature_selection import chi2\n",
    "\n",
    "selectK = SelectKBest(chi2, k=20)\n",
    "X_new = selectK.fit_transform(X_tr, y_tr)\n"
   ]
  },
  {
   "cell_type": "code",
   "execution_count": 45,
   "metadata": {},
   "outputs": [
    {
     "name": "stdout",
     "output_type": "stream",
     "text": [
      "['Lot Area', 'Mas Vnr Area', 'BsmtFin SF 1', 'BsmtFin SF 2', 'Bsmt Unf SF', 'Total Bsmt SF', '1st Flr SF', '2nd Flr SF', 'Low Qual Fin SF', 'Gr Liv Area', 'Garage Area', 'Wood Deck SF', 'Open Porch SF', 'Enclosed Porch', '3Ssn Porch', 'Screen Porch', 'Pool Area', 'Misc Val', 'Extra Flr SF', 'Continuous Sum']\n"
     ]
    }
   ],
   "source": [
    "mask = selectK.get_support() #list of booleans\n",
    "new_features = [] # The list of your K best features\n",
    "\n",
    "for bool, feature in zip(mask, train_df.drop(['SalePrice'],axis=1).columns):\n",
    "    if bool:\n",
    "        new_features.append(feature)\n",
    "\n",
    "print(new_features)"
   ]
  },
  {
   "cell_type": "code",
   "execution_count": null,
   "metadata": {},
   "outputs": [],
   "source": []
  }
 ],
 "metadata": {
  "kernelspec": {
   "display_name": "Python 3",
   "language": "python",
   "name": "python3"
  },
  "language_info": {
   "codemirror_mode": {
    "name": "ipython",
    "version": 3
   },
   "file_extension": ".py",
   "mimetype": "text/x-python",
   "name": "python",
   "nbconvert_exporter": "python",
   "pygments_lexer": "ipython3",
   "version": "3.6.10"
  }
 },
 "nbformat": 4,
 "nbformat_minor": 4
}
