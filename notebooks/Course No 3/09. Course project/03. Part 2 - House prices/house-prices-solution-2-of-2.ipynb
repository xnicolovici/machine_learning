{
 "cells": [
  {
   "cell_type": "markdown",
   "metadata": {},
   "source": [
    "# Course Project No 3 - Part 2 - House prices - 2 of 2"
   ]
  },
  {
   "cell_type": "markdown",
   "metadata": {},
   "source": [
    "## Import base libraries\n",
    "\n",
    "Let's import all the base libraries that we will use in this Notebook"
   ]
  },
  {
   "cell_type": "code",
   "execution_count": 1,
   "metadata": {},
   "outputs": [],
   "source": [
    "import pandas as pd\n",
    "import numpy as np\n",
    "import os\n",
    "import matplotlib.pyplot as plt\n",
    "%matplotlib inline\n"
   ]
  },
  {
   "cell_type": "markdown",
   "metadata": {},
   "source": [
    "## Load the datasets\n",
    "\n",
    "In this Notebook, we will load the cleaned and adapted version of our two datasets. See introduction in the Notebook *house-prices-solution-1-of-2.ipynb* to know form where those files arise.\n"
   ]
  },
  {
   "cell_type": "code",
   "execution_count": 2,
   "metadata": {},
   "outputs": [
    {
     "name": "stdout",
     "output_type": "stream",
     "text": [
      "Size of the train dataset: (2207, 241)\n"
     ]
    },
    {
     "data": {
      "text/html": [
       "<div>\n",
       "<style scoped>\n",
       "    .dataframe tbody tr th:only-of-type {\n",
       "        vertical-align: middle;\n",
       "    }\n",
       "\n",
       "    .dataframe tbody tr th {\n",
       "        vertical-align: top;\n",
       "    }\n",
       "\n",
       "    .dataframe thead th {\n",
       "        text-align: right;\n",
       "    }\n",
       "</style>\n",
       "<table border=\"1\" class=\"dataframe\">\n",
       "  <thead>\n",
       "    <tr style=\"text-align: right;\">\n",
       "      <th></th>\n",
       "      <th>Lot Area</th>\n",
       "      <th>Lot Shape</th>\n",
       "      <th>Land Slope</th>\n",
       "      <th>Overall Qual</th>\n",
       "      <th>Overall Cond</th>\n",
       "      <th>Year Built</th>\n",
       "      <th>Year Remod/Add</th>\n",
       "      <th>Exter Qual</th>\n",
       "      <th>Exter Cond</th>\n",
       "      <th>Bsmt Qual</th>\n",
       "      <th>...</th>\n",
       "      <th>Roof Matl_WdShngl</th>\n",
       "      <th>House New</th>\n",
       "      <th>Extra Flr SF Exists</th>\n",
       "      <th>2nd Flr SF Exists</th>\n",
       "      <th>Low Qual Fin SF Exists</th>\n",
       "      <th>3Ssn Porch Exists</th>\n",
       "      <th>Misc Val Exists</th>\n",
       "      <th>Enclosed Porch Exists</th>\n",
       "      <th>Screen Porch Exists</th>\n",
       "      <th>Continuous Sum</th>\n",
       "    </tr>\n",
       "  </thead>\n",
       "  <tbody>\n",
       "    <tr>\n",
       "      <th>0</th>\n",
       "      <td>8795</td>\n",
       "      <td>3</td>\n",
       "      <td>3</td>\n",
       "      <td>7</td>\n",
       "      <td>5</td>\n",
       "      <td>10</td>\n",
       "      <td>10</td>\n",
       "      <td>4</td>\n",
       "      <td>3</td>\n",
       "      <td>4</td>\n",
       "      <td>...</td>\n",
       "      <td>0</td>\n",
       "      <td>0</td>\n",
       "      <td>0</td>\n",
       "      <td>1</td>\n",
       "      <td>0</td>\n",
       "      <td>0</td>\n",
       "      <td>0</td>\n",
       "      <td>0</td>\n",
       "      <td>0</td>\n",
       "      <td>346.0</td>\n",
       "    </tr>\n",
       "    <tr>\n",
       "      <th>1</th>\n",
       "      <td>10170</td>\n",
       "      <td>4</td>\n",
       "      <td>3</td>\n",
       "      <td>6</td>\n",
       "      <td>6</td>\n",
       "      <td>59</td>\n",
       "      <td>59</td>\n",
       "      <td>3</td>\n",
       "      <td>3</td>\n",
       "      <td>3</td>\n",
       "      <td>...</td>\n",
       "      <td>0</td>\n",
       "      <td>0</td>\n",
       "      <td>0</td>\n",
       "      <td>0</td>\n",
       "      <td>0</td>\n",
       "      <td>0</td>\n",
       "      <td>0</td>\n",
       "      <td>0</td>\n",
       "      <td>0</td>\n",
       "      <td>597.0</td>\n",
       "    </tr>\n",
       "    <tr>\n",
       "      <th>2</th>\n",
       "      <td>2001</td>\n",
       "      <td>4</td>\n",
       "      <td>3</td>\n",
       "      <td>4</td>\n",
       "      <td>5</td>\n",
       "      <td>40</td>\n",
       "      <td>40</td>\n",
       "      <td>3</td>\n",
       "      <td>3</td>\n",
       "      <td>3</td>\n",
       "      <td>...</td>\n",
       "      <td>0</td>\n",
       "      <td>0</td>\n",
       "      <td>0</td>\n",
       "      <td>1</td>\n",
       "      <td>0</td>\n",
       "      <td>0</td>\n",
       "      <td>0</td>\n",
       "      <td>0</td>\n",
       "      <td>0</td>\n",
       "      <td>101.0</td>\n",
       "    </tr>\n",
       "  </tbody>\n",
       "</table>\n",
       "<p>3 rows × 241 columns</p>\n",
       "</div>"
      ],
      "text/plain": [
       "   Lot Area  Lot Shape  Land Slope  Overall Qual  Overall Cond  Year Built  \\\n",
       "0      8795          3           3             7             5          10   \n",
       "1     10170          4           3             6             6          59   \n",
       "2      2001          4           3             4             5          40   \n",
       "\n",
       "   Year Remod/Add  Exter Qual  Exter Cond  Bsmt Qual  ...  Roof Matl_WdShngl  \\\n",
       "0              10           4           3          4  ...                  0   \n",
       "1              59           3           3          3  ...                  0   \n",
       "2              40           3           3          3  ...                  0   \n",
       "\n",
       "   House New  Extra Flr SF Exists  2nd Flr SF Exists  Low Qual Fin SF Exists  \\\n",
       "0          0                    0                  1                       0   \n",
       "1          0                    0                  0                       0   \n",
       "2          0                    0                  1                       0   \n",
       "\n",
       "   3Ssn Porch Exists  Misc Val Exists  Enclosed Porch Exists  \\\n",
       "0                  0                0                      0   \n",
       "1                  0                0                      0   \n",
       "2                  0                0                      0   \n",
       "\n",
       "   Screen Porch Exists  Continuous Sum  \n",
       "0                    0           346.0  \n",
       "1                    0           597.0  \n",
       "2                    0           101.0  \n",
       "\n",
       "[3 rows x 241 columns]"
      ]
     },
     "execution_count": 2,
     "metadata": {},
     "output_type": "execute_result"
    }
   ],
   "source": [
    "train_df = pd.read_csv(os.path.join('data','house-prices-cleaned.csv'))\n",
    "print(\"Size of the train dataset:\", train_df.shape)\n",
    "train_df.head(3)"
   ]
  },
  {
   "cell_type": "code",
   "execution_count": 3,
   "metadata": {},
   "outputs": [
    {
     "name": "stdout",
     "output_type": "stream",
     "text": [
      "Size of the test dataset: (500, 241)\n"
     ]
    },
    {
     "data": {
      "text/html": [
       "<div>\n",
       "<style scoped>\n",
       "    .dataframe tbody tr th:only-of-type {\n",
       "        vertical-align: middle;\n",
       "    }\n",
       "\n",
       "    .dataframe tbody tr th {\n",
       "        vertical-align: top;\n",
       "    }\n",
       "\n",
       "    .dataframe thead th {\n",
       "        text-align: right;\n",
       "    }\n",
       "</style>\n",
       "<table border=\"1\" class=\"dataframe\">\n",
       "  <thead>\n",
       "    <tr style=\"text-align: right;\">\n",
       "      <th></th>\n",
       "      <th>Lot Area</th>\n",
       "      <th>Lot Shape</th>\n",
       "      <th>Land Slope</th>\n",
       "      <th>Overall Qual</th>\n",
       "      <th>Overall Cond</th>\n",
       "      <th>Year Built</th>\n",
       "      <th>Year Remod/Add</th>\n",
       "      <th>Exter Qual</th>\n",
       "      <th>Exter Cond</th>\n",
       "      <th>Bsmt Qual</th>\n",
       "      <th>...</th>\n",
       "      <th>Roof Matl_WdShngl</th>\n",
       "      <th>House New</th>\n",
       "      <th>Extra Flr SF Exists</th>\n",
       "      <th>2nd Flr SF Exists</th>\n",
       "      <th>Low Qual Fin SF Exists</th>\n",
       "      <th>3Ssn Porch Exists</th>\n",
       "      <th>Misc Val Exists</th>\n",
       "      <th>Enclosed Porch Exists</th>\n",
       "      <th>Screen Porch Exists</th>\n",
       "      <th>Continuous Sum</th>\n",
       "    </tr>\n",
       "  </thead>\n",
       "  <tbody>\n",
       "    <tr>\n",
       "      <th>0</th>\n",
       "      <td>11275</td>\n",
       "      <td>3</td>\n",
       "      <td>2</td>\n",
       "      <td>6</td>\n",
       "      <td>7</td>\n",
       "      <td>78</td>\n",
       "      <td>60</td>\n",
       "      <td>3</td>\n",
       "      <td>3</td>\n",
       "      <td>3</td>\n",
       "      <td>...</td>\n",
       "      <td>0</td>\n",
       "      <td>0</td>\n",
       "      <td>0</td>\n",
       "      <td>1</td>\n",
       "      <td>0</td>\n",
       "      <td>0</td>\n",
       "      <td>0</td>\n",
       "      <td>1</td>\n",
       "      <td>0</td>\n",
       "      <td>548.0</td>\n",
       "    </tr>\n",
       "    <tr>\n",
       "      <th>1</th>\n",
       "      <td>9757</td>\n",
       "      <td>4</td>\n",
       "      <td>2</td>\n",
       "      <td>5</td>\n",
       "      <td>7</td>\n",
       "      <td>16</td>\n",
       "      <td>16</td>\n",
       "      <td>3</td>\n",
       "      <td>4</td>\n",
       "      <td>3</td>\n",
       "      <td>...</td>\n",
       "      <td>0</td>\n",
       "      <td>0</td>\n",
       "      <td>0</td>\n",
       "      <td>0</td>\n",
       "      <td>0</td>\n",
       "      <td>0</td>\n",
       "      <td>0</td>\n",
       "      <td>0</td>\n",
       "      <td>1</td>\n",
       "      <td>131.0</td>\n",
       "    </tr>\n",
       "    <tr>\n",
       "      <th>2</th>\n",
       "      <td>11065</td>\n",
       "      <td>3</td>\n",
       "      <td>3</td>\n",
       "      <td>8</td>\n",
       "      <td>5</td>\n",
       "      <td>4</td>\n",
       "      <td>4</td>\n",
       "      <td>4</td>\n",
       "      <td>3</td>\n",
       "      <td>4</td>\n",
       "      <td>...</td>\n",
       "      <td>0</td>\n",
       "      <td>1</td>\n",
       "      <td>0</td>\n",
       "      <td>1</td>\n",
       "      <td>0</td>\n",
       "      <td>0</td>\n",
       "      <td>0</td>\n",
       "      <td>0</td>\n",
       "      <td>0</td>\n",
       "      <td>1125.0</td>\n",
       "    </tr>\n",
       "  </tbody>\n",
       "</table>\n",
       "<p>3 rows × 241 columns</p>\n",
       "</div>"
      ],
      "text/plain": [
       "   Lot Area  Lot Shape  Land Slope  Overall Qual  Overall Cond  Year Built  \\\n",
       "0     11275          3           2             6             7          78   \n",
       "1      9757          4           2             5             7          16   \n",
       "2     11065          3           3             8             5           4   \n",
       "\n",
       "   Year Remod/Add  Exter Qual  Exter Cond  Bsmt Qual  ...  Roof Matl_WdShngl  \\\n",
       "0              60           3           3          3  ...                  0   \n",
       "1              16           3           4          3  ...                  0   \n",
       "2               4           4           3          4  ...                  0   \n",
       "\n",
       "   House New  Extra Flr SF Exists  2nd Flr SF Exists  Low Qual Fin SF Exists  \\\n",
       "0          0                    0                  1                       0   \n",
       "1          0                    0                  0                       0   \n",
       "2          1                    0                  1                       0   \n",
       "\n",
       "   3Ssn Porch Exists  Misc Val Exists  Enclosed Porch Exists  \\\n",
       "0                  0                0                      1   \n",
       "1                  0                0                      0   \n",
       "2                  0                0                      0   \n",
       "\n",
       "   Screen Porch Exists  Continuous Sum  \n",
       "0                    0           548.0  \n",
       "1                    1           131.0  \n",
       "2                    0          1125.0  \n",
       "\n",
       "[3 rows x 241 columns]"
      ]
     },
     "execution_count": 3,
     "metadata": {},
     "output_type": "execute_result"
    }
   ],
   "source": [
    "test_df = pd.read_csv(os.path.join('data','house-prices-test-cleaned.csv'))\n",
    "print(\"Size of the test dataset:\", test_df.shape)\n",
    "test_df.head(3)"
   ]
  },
  {
   "cell_type": "markdown",
   "metadata": {},
   "source": [
    "Ok, so here we are, cleaned Train and adapted Test datasets ready for machine learning work."
   ]
  },
  {
   "cell_type": "markdown",
   "metadata": {},
   "source": [
    "## Model Fitting\n",
    "\n",
    "In order to fit different models and evaluate them, we have to obtain a test set with known 'SalePrice' values.\n",
    "\n",
    "As the Test dataset we have does not include this information (we are seeking for a good model to predict 'SalePrive of the Test dataset), we are forced to build a new train/test dataset from the main TRain dataset. The main Test dataset will be used at the very last of this Notebook when we will try to predict their 'SalePrice'\n",
    "\n",
    "So, first thing to do, build an train/test dataset based on 80%/20% randomly selected rows from the main Train dataset"
   ]
  },
  {
   "cell_type": "markdown",
   "metadata": {},
   "source": [
    "### Create feature matrix and vector result\n",
    "\n",
    "We have to fit three models: a simple, an intermediate and a complex one.\n",
    "\n",
    "Difference between those models are the number of feature we consider to fit the model.\n",
    "\n",
    "    * Simple model: Use 3 features from dataset\n",
    "    * Intermediate model: Use 15 features from dataset\n",
    "    * Complex model: Use all features\n",
    "    \n",
    "I've decided to use the *SelectKBest* to build the simple and intermediate feature matrix.\n",
    "\n",
    "> Note: Variables for the three different models will be stored into a dict() to simplify variable naming\n"
   ]
  },
  {
   "cell_type": "code",
   "execution_count": 179,
   "metadata": {},
   "outputs": [],
   "source": [
    "SMALL_NB_FEATURE=3\n",
    "MEDIUM_NB_FEATURE=15\n",
    "\n",
    "models = {\n",
    "    'small': {\n",
    "        'name': 'The simple model',\n",
    "    },\n",
    "    'medium': {\n",
    "        'name': 'The intermediate model',\n",
    "    },\n",
    "    'full': {\n",
    "        'name': 'The complex model',\n",
    "    },\n",
    "}"
   ]
  },
  {
   "cell_type": "markdown",
   "metadata": {},
   "source": [
    "#### Build datasets, feature matrix and result vector for the complex model"
   ]
  },
  {
   "cell_type": "code",
   "execution_count": 180,
   "metadata": {},
   "outputs": [
    {
     "name": "stdout",
     "output_type": "stream",
     "text": [
      "Model: full\n",
      "  Shape of X_tr variable: (1765, 240)\n",
      "  Shape of y_tr variable: (1765,)\n",
      "  Shape of X_te variable: (442, 240)\n",
      "  Shape of y_te variable: (442,)\n",
      "  Shape of X variable   : (2207, 240)\n",
      "  Shape of y variable   : (2207,)\n"
     ]
    }
   ],
   "source": [
    "from sklearn.model_selection import train_test_split\n",
    "\n",
    "# Constant used to split main Train dataset in two train/test datasets\n",
    "TRAIN_SIZE=0.8\n",
    "RANDOM_STATE=0\n",
    "\n",
    "# Function used to build feature matrix and result vector\n",
    "def buildDataMatrix(models, model_name, df=train_df):\n",
    "    \"\"\"\n",
    "    This function is used to build feature matrix and result vector.\n",
    "    It expect as first parameter the global dict variable to store the result.\n",
    "    Second parameter is the name of the model, and the third is the dataframe to\n",
    "    use (default is train_df).\n",
    "    \"\"\"\n",
    "    # Split data in two dataframe: complex model\n",
    "    # Based on the full featured train_df dataset\n",
    "    tr_df, te_df = train_test_split(df, test_size = 1-TRAIN_SIZE, train_size=TRAIN_SIZE, random_state=RANDOM_STATE)\n",
    "    # Build feature matrix X and result vector y narray from the train and test dataframe\n",
    "    models[model_name]['X_tr'] = tr_df.drop('SalePrice', axis=1).values\n",
    "    models[model_name]['y_tr'] = tr_df.SalePrice.values\n",
    "    models[model_name]['X_te'] = te_df.drop('SalePrice', axis=1).values\n",
    "    models[model_name]['y_te'] = te_df['SalePrice'].values\n",
    "\n",
    "    models[model_name]['X'] = np.concatenate((models[model_name]['X_tr'], models[model_name]['X_te']))\n",
    "    models[model_name]['y'] = np.concatenate((models[model_name]['y_tr'], models[model_name]['y_te']))\n",
    "    \n",
    "    models[model_name]['features'] = tr_df.drop('SalePrice', axis=1).columns\n",
    "    models[model_name]['result']   = 'SalePrice'\n",
    "\n",
    "    \n",
    "    print(\"Model:\", model_name)\n",
    "    print(\"  Shape of X_tr variable:\".format(model_name), models[model_name]['X_tr'].shape)\n",
    "    print(\"  Shape of y_tr variable:\",models[model_name]['y_tr'].shape)\n",
    "\n",
    "    print(\"  Shape of X_te variable:\",models[model_name]['X_te'].shape)\n",
    "    print(\"  Shape of y_te variable:\",models[model_name]['y_te'].shape)\n",
    "\n",
    "    print(\"  Shape of X variable   :\",models[model_name]['X'].shape)\n",
    "    print(\"  Shape of y variable   :\",models[model_name]['y'].shape)\n",
    "    \n",
    "buildDataMatrix(models, 'full')\n"
   ]
  },
  {
   "cell_type": "markdown",
   "metadata": {},
   "source": [
    "#### Use SelectKBest to build the simple and intermediate model\n",
    "\n",
    "I use a trick to retrieve the dataset column name selected by the *SelectKBest* model.\n",
    "\n",
    "    > [https://stackoverflow.com/questions/39839112/the-easiest-way-for-getting-feature-names-after-running-selectkbest-in-scikit-le]"
   ]
  },
  {
   "cell_type": "code",
   "execution_count": 182,
   "metadata": {},
   "outputs": [
    {
     "name": "stdout",
     "output_type": "stream",
     "text": [
      "Build model 'small' with 3 selected using SelectKBest\n",
      "  Feature selected: ['Overall Qual', 'Total Bsmt SF', 'Gr Liv Area', 'SalePrice']\n",
      "Model: small\n",
      "  Shape of X_tr variable: (1765, 3)\n",
      "  Shape of y_tr variable: (1765,)\n",
      "  Shape of X_te variable: (442, 3)\n",
      "  Shape of y_te variable: (442,)\n",
      "  Shape of X variable   : (2207, 3)\n",
      "  Shape of y variable   : (2207,)\n",
      "Build model 'medium' with 15 selected using SelectKBest\n",
      "  Feature selected: ['Overall Qual', 'Year Built', 'Year Remod/Add', 'Exter Qual', 'Bsmt Qual', 'Total Bsmt SF', '1st Flr SF', 'Gr Liv Area', 'Full Bath', 'Kitchen Qual', 'Garage Yr Blt', 'Garage Cars', 'Garage Area', 'Fireplace Quality', 'Continuous Sum', 'SalePrice']\n",
      "Model: medium\n",
      "  Shape of X_tr variable: (1765, 15)\n",
      "  Shape of y_tr variable: (1765,)\n",
      "  Shape of X_te variable: (442, 15)\n",
      "  Shape of y_te variable: (442,)\n",
      "  Shape of X variable   : (2207, 15)\n",
      "  Shape of y variable   : (2207,)\n"
     ]
    }
   ],
   "source": [
    "# Import libraries for SlectKBest\n",
    "from sklearn.feature_selection import SelectKBest\n",
    "from sklearn.feature_selection import mutual_info_regression\n",
    "\n",
    "# Build data for the two models\n",
    "for model_name, nb_feature in zip(['small', 'medium'],[SMALL_NB_FEATURE, MEDIUM_NB_FEATURE]):\n",
    "    \n",
    "    print(\"Build model '{}' with {} selected using SelectKBest\".format(model_name,nb_feature))\n",
    "    \n",
    "    # Create SelectKBest instance using 'chi2' score function\n",
    "    select = SelectKBest(mutual_info_regression, k=nb_feature)\n",
    "    \n",
    "    # fit the model with models['complex'] (full feature)\n",
    "    select.fit(models['full']['X'], models['full']['y'])\n",
    "    \n",
    "    # Get a mask of the feature selected\n",
    "    mask = select.get_support() #list of booleans\n",
    "    \n",
    "    # Retrieve feature names\n",
    "    features = []\n",
    "    for bool, feature in zip(mask, models['full']['features']):\n",
    "        if bool:\n",
    "            features.append(feature)\n",
    "\n",
    "    features.append('SalePrice')\n",
    "    print(\"  Feature selected:\", features)\n",
    "    \n",
    "    \n",
    "    buildDataMatrix(models, model_name, df=train_df[features])\n",
    "    \n",
    "    \n"
   ]
  },
  {
   "cell_type": "markdown",
   "metadata": {},
   "source": [
    "### Import needed libraries and create Pipelines instances\n",
    "\n",
    "I've decided to test Ridge and Huber regressor on the three models.\n"
   ]
  },
  {
   "cell_type": "code",
   "execution_count": 183,
   "metadata": {},
   "outputs": [],
   "source": [
    "# Import lib\n",
    "from sklearn.pipeline import Pipeline\n",
    "from sklearn.preprocessing import StandardScaler\n",
    "from sklearn.linear_model import LinearRegression\n",
    "from sklearn.linear_model import HuberRegressor\n",
    "from sklearn.linear_model import Ridge\n",
    "# from sklearn.metrics import mean_squared_error as MAE\n",
    "from sklearn.ensemble import AdaBoostRegressor"
   ]
  },
  {
   "cell_type": "code",
   "execution_count": 184,
   "metadata": {},
   "outputs": [],
   "source": [
    "# Define MAE function\n",
    "def MAE(y, y_pred):\n",
    "    return np.mean(np.abs(y-y_pred))"
   ]
  },
  {
   "cell_type": "code",
   "execution_count": 185,
   "metadata": {},
   "outputs": [],
   "source": [
    "pipelines = {\n",
    "    'huber': Pipeline([\n",
    "            ('scaler', StandardScaler()),\n",
    "            ('huber', HuberRegressor(epsilon=1.11053))\n",
    "        ]),\n",
    "    'ridge': Pipeline([\n",
    "            ('scaler', StandardScaler()),\n",
    "            ('ridge', Ridge(alpha=162.975))\n",
    "        ]),\n",
    "    'abreg': Pipeline([\n",
    "            ('scaler', StandardScaler()),\n",
    "            ('abreg', AdaBoostRegressor())\n",
    "        ]),\n",
    "}\n",
    "\n"
   ]
  },
  {
   "cell_type": "markdown",
   "metadata": {},
   "source": [
    "### Fit pipeline models to the three datasets"
   ]
  },
  {
   "cell_type": "code",
   "execution_count": 186,
   "metadata": {},
   "outputs": [
    {
     "name": "stdout",
     "output_type": "stream",
     "text": [
      "MAE with huber regressor and outliers on small model: 21162.16\n",
      "MAE with ridge regressor and outliers on small model: 22291.95\n",
      "MAE with abreg regressor and outliers on small model: 25617.26\n",
      "MAE with huber regressor and outliers on medium model: 16880.13\n",
      "MAE with ridge regressor and outliers on medium model: 17675.22\n",
      "MAE with abreg regressor and outliers on medium model: 22206.64\n",
      "MAE with huber regressor and outliers on full model: 13231.89\n",
      "MAE with ridge regressor and outliers on full model: 13862.14\n",
      "MAE with abreg regressor and outliers on full model: 20204.36\n"
     ]
    }
   ],
   "source": [
    "\n",
    "# Fit three model with our defined pipelines\n",
    "for model_name in models.keys():\n",
    "    models[model_name]['regression'] = {}\n",
    "    for pipeline_name in pipelines.keys():\n",
    "        # fit model Ridge with outliers\n",
    "        pipelines[pipeline_name].fit(models[model_name]['X_tr'], models[model_name]['y_tr'])\n",
    "\n",
    "        # predict values\n",
    "        y_pred=10**pipelines[pipeline_name].predict(models[model_name]['X_te'])\n",
    "    \n",
    "        # Get MAE\n",
    "        mae=MAE(10**models[model_name]['y_te'], y_pred)\n",
    "    \n",
    "        # store value in global dict\n",
    "        models[model_name]['regression'][pipeline_name] = {\n",
    "            'y_pred': y_pred,\n",
    "            'mae': mae,\n",
    "        }\n",
    "\n",
    "        print(\"MAE with {} regressor and outliers on {} model: {:.2f}\".format(pipeline_name, model_name, mae))\n",
    "\n"
   ]
  },
  {
   "cell_type": "markdown",
   "metadata": {},
   "source": [
    "### Add baseline to our global dict"
   ]
  },
  {
   "cell_type": "code",
   "execution_count": 187,
   "metadata": {},
   "outputs": [],
   "source": [
    "models['full']['regression']['baseline'] = {\n",
    "    'mae': MAE(10**models['full']['y_te'], 10**models['full']['y_te'].mean())\n",
    "} \n"
   ]
  },
  {
   "cell_type": "markdown",
   "metadata": {},
   "source": [
    "## Regularization\n",
    "\n",
    "### Done on the complex dataset only\n",
    "### Use from sklearn.model_selection import GridSearchCV"
   ]
  },
  {
   "cell_type": "code",
   "execution_count": 188,
   "metadata": {},
   "outputs": [
    {
     "name": "stdout",
     "output_type": "stream",
     "text": [
      "{'ridge__alpha': 335.1602650938834}\n"
     ]
    }
   ],
   "source": [
    "from sklearn.model_selection import GridSearchCV\n",
    "from sklearn.metrics import mean_squared_error, make_scorer, r2_score\n",
    "\n",
    "params = {\n",
    " 'ridge__alpha': np.logspace(-10, 10, num=100),\n",
    "}\n",
    "\n",
    "# Define scorer parameter\n",
    "score = make_scorer(mean_squared_error)\n",
    "\n",
    "\n",
    "gridsearch=GridSearchCV(pipelines['ridge'], params, return_train_score=False, cv=5)\n",
    "gridsearch.fit(models['full']['X_tr'], models['full']['y_tr'])\n",
    "\n",
    "print(gridsearch.best_params_)"
   ]
  },
  {
   "cell_type": "code",
   "execution_count": 189,
   "metadata": {},
   "outputs": [
    {
     "data": {
      "text/plain": [
       "Pipeline(memory=None,\n",
       "     steps=[('scaler', StandardScaler(copy=True, with_mean=True, with_std=True)), ('ridge', Ridge(alpha=335.1602650938834, copy_X=True, fit_intercept=True, max_iter=None,\n",
       "   normalize=False, random_state=None, solver='auto', tol=0.001))])"
      ]
     },
     "execution_count": 189,
     "metadata": {},
     "output_type": "execute_result"
    }
   ],
   "source": [
    "gridsearch.best_estimator_"
   ]
  },
  {
   "cell_type": "code",
   "execution_count": 190,
   "metadata": {},
   "outputs": [
    {
     "data": {
      "text/html": [
       "<div>\n",
       "<style scoped>\n",
       "    .dataframe tbody tr th:only-of-type {\n",
       "        vertical-align: middle;\n",
       "    }\n",
       "\n",
       "    .dataframe tbody tr th {\n",
       "        vertical-align: top;\n",
       "    }\n",
       "\n",
       "    .dataframe thead th {\n",
       "        text-align: right;\n",
       "    }\n",
       "</style>\n",
       "<table border=\"1\" class=\"dataframe\">\n",
       "  <thead>\n",
       "    <tr style=\"text-align: right;\">\n",
       "      <th></th>\n",
       "      <th>alpha</th>\n",
       "      <th>test_mae</th>\n",
       "      <th>train_mae</th>\n",
       "    </tr>\n",
       "  </thead>\n",
       "  <tbody>\n",
       "    <tr>\n",
       "      <th>0</th>\n",
       "      <td>10.000000</td>\n",
       "      <td>13959.182427</td>\n",
       "      <td>11526.206422</td>\n",
       "    </tr>\n",
       "    <tr>\n",
       "      <th>1</th>\n",
       "      <td>10.722672</td>\n",
       "      <td>13961.336663</td>\n",
       "      <td>11528.454217</td>\n",
       "    </tr>\n",
       "    <tr>\n",
       "      <th>2</th>\n",
       "      <td>11.497570</td>\n",
       "      <td>13963.360669</td>\n",
       "      <td>11530.871643</td>\n",
       "    </tr>\n",
       "    <tr>\n",
       "      <th>3</th>\n",
       "      <td>12.328467</td>\n",
       "      <td>13965.230855</td>\n",
       "      <td>11533.555925</td>\n",
       "    </tr>\n",
       "    <tr>\n",
       "      <th>4</th>\n",
       "      <td>13.219411</td>\n",
       "      <td>13966.926009</td>\n",
       "      <td>11536.502242</td>\n",
       "    </tr>\n",
       "  </tbody>\n",
       "</table>\n",
       "</div>"
      ],
      "text/plain": [
       "       alpha      test_mae     train_mae\n",
       "0  10.000000  13959.182427  11526.206422\n",
       "1  10.722672  13961.336663  11528.454217\n",
       "2  11.497570  13963.360669  11530.871643\n",
       "3  12.328467  13965.230855  11533.555925\n",
       "4  13.219411  13966.926009  11536.502242"
      ]
     },
     "execution_count": 190,
     "metadata": {},
     "output_type": "execute_result"
    }
   ],
   "source": [
    "\n",
    "# Variable to store the results\n",
    "gs_results = []\n",
    "\n",
    "# Grid search\n",
    "for alpha in np.logspace(1, 4, num=100):\n",
    "    #for alpha in np.linspace(1.0, 1.35, num=20):\n",
    "    model='ridge'\n",
    "    # Create and fit ridge regression\n",
    "    pipelines[model].set_params(**{'ridge__alpha': alpha})\n",
    "    # pipelines['huber'].set_params(**{'huber__epsilon': alpha})\n",
    "    \n",
    "    pipelines[model].fit(models['full']['X_tr'], models['full']['y_tr'])\n",
    "    #pipelines['huber'].fit(models['complex']['X_tr'], models['complex']['y_tr'])\n",
    "    \n",
    "    # Save model and its performance on train/test sets\n",
    "    gs_results.append({\n",
    "        'alpha': alpha,\n",
    "        'train_mae': MAE(10**models['full']['y_tr'], 10**pipelines[model].predict(models['full']['X_tr'])),\n",
    "        'test_mae': MAE(10**models['full']['y_te'], 10**pipelines[model].predict(models['full']['X_te'])),\n",
    "    })\n",
    "\n",
    "# Convert results to DataFrame\n",
    "gs_results = pd.DataFrame(gs_results)\n",
    "gs_results.head()\n",
    "\n"
   ]
  },
  {
   "cell_type": "code",
   "execution_count": 199,
   "metadata": {},
   "outputs": [
    {
     "name": "stdout",
     "output_type": "stream",
     "text": [
      "Best alpha: 1.62975e+02\n",
      "Train MAE: 11,928$\n",
      "Test MAE: 13,862$\n"
     ]
    },
    {
     "data": {
      "image/png": "[encoded data removed]",
      "text/plain": [
       "<Figure size 432x288 with 1 Axes>"
      ]
     },
     "metadata": {
      "needs_background": "light"
     },
     "output_type": "display_data"
    }
   ],
   "source": [
    "# Get entry with the best test MSE\n",
    "best_result = gs_results.loc[gs_results.test_mae.idxmin()]\n",
    "\n",
    "# Print the details\n",
    "print('Best alpha: {:.5e}'.format(best_result.alpha))\n",
    "print('Train MAE: {:,.0f}$'.format(best_result.train_mae))\n",
    "print('Test MAE: {:,.0f}$'.format(best_result.test_mae))\n",
    "\n",
    "# Plot the validation curves\n",
    "#plt.plot(gs_results['alpha'], gs_results['train_mae'], label='train curve')\n",
    "#plt.plot(gs_results['alpha'], gs_results['test_mae'], label='test curve')\n",
    "plt.plot(np.log10(gs_results['alpha']), gs_results['train_mae'], label='train curve')\n",
    "plt.plot(np.log10(gs_results['alpha']), gs_results['test_mae'], label='test curve')\n",
    "\n",
    "plt.scatter(np.log10(best_result.alpha), best_result.test_mae, marker='x', c='red', zorder=10)\n",
    "\n",
    "plt.xlabel('$log_{10}(alpha)$')\n",
    "plt.ylabel('MAE')\n",
    "plt.legend()\n",
    "plt.show()"
   ]
  },
  {
   "cell_type": "code",
   "execution_count": null,
   "metadata": {},
   "outputs": [],
   "source": []
  },
  {
   "cell_type": "code",
   "execution_count": null,
   "metadata": {},
   "outputs": [],
   "source": []
  },
  {
   "cell_type": "code",
   "execution_count": null,
   "metadata": {},
   "outputs": [],
   "source": [
    "# Variable to store the results\n",
    "gs_results = []\n",
    "\n",
    "# Grid search\n",
    "for alpha in np.logspace(-10, 10, num=100):\n",
    "    # Create and fit ridge regression\n",
    "    ridge = Ridge(alpha=alpha)\n",
    "    ridge.fit(X_tr_rescaled, y_tr)\n",
    "    \n",
    "    # Save model and its performance on train/test sets\n",
    "    gs_results.append({\n",
    "        'alpha': alpha,\n",
    "        'train_mse': MSE(y_tr, ridge.predict(X_tr_rescaled)),\n",
    "        'train_mae': MAE(10**y_tr, 10**ridge.predict(X_tr_rescaled)),\n",
    "        'test_mse': MSE(y_te, ridge.predict(X_te_rescaled)),\n",
    "        'test_mae': MAE(10**y_te, 10**ridge.predict(X_te_rescaled)),\n",
    "    })\n",
    "\n",
    "# Convert results to DataFrame\n",
    "gs_results = pd.DataFrame(gs_results)\n",
    "gs_results.head()\n",
    "\n",
    "\n"
   ]
  },
  {
   "cell_type": "code",
   "execution_count": null,
   "metadata": {},
   "outputs": [],
   "source": [
    "# Plot the validation curves\n",
    "plt.semilogx(gs_results['alpha'], gs_results['train_mse'], label='train curve')\n",
    "plt.semilogx(gs_results['alpha'], gs_results['test_mse'], label='test curve')\n",
    "plt.xlabel('$log_{10}(alpha)$')\n",
    "plt.ylabel('MSE')\n",
    "plt.legend()\n",
    "plt.show()"
   ]
  },
  {
   "cell_type": "markdown",
   "metadata": {},
   "source": [
    "## Communicating the results"
   ]
  },
  {
   "cell_type": "code",
   "execution_count": 194,
   "metadata": {},
   "outputs": [
    {
     "name": "stdout",
     "output_type": "stream",
     "text": [
      "MAE results of our different models:\n",
      "\tsmall set - huber reg.         : 21162.16   \n",
      "\tsmall set - ridge reg.         : 22291.95   \n",
      "\tsmall set - abreg reg.         : 25617.26   \n",
      "\tmedium set - huber reg.        : 16880.13   \n",
      "\tmedium set - ridge reg.        : 17675.22   \n",
      "\tmedium set - abreg reg.        : 22206.64   \n",
      "\tfull set - huber reg.          : 13231.89   (smallest value)\n",
      "\tfull set - ridge reg.          : 13862.14   \n",
      "\tfull set - abreg reg.          : 20204.36   \n",
      "\tfull set - baseline reg.       : 54046.21   \n"
     ]
    },
    {
     "data": {
      "image/png": "[encoded data removed]",
      "text/plain": [
       "<Figure size 1440x1080 with 1 Axes>"
      ]
     },
     "metadata": {
      "needs_background": "light"
     },
     "output_type": "display_data"
    }
   ],
   "source": [
    "FIGURE_SIZE=(20,15)\n",
    "#mae_values = [mae_baseline, mae_lr_all, mae_huber_all, mae_huber_cleaned, mae_lr_cleaned]\n",
    "#mae_labels = ['Baseline w/outliers', 'LR with outliers', 'Huber wizh outliers','Huber w/o outliers', 'LR w/o outliers']\n",
    "\n",
    "mae_values = []\n",
    "mae_labels=[]\n",
    "\n",
    "print(\"MAE results of our different models:\")\n",
    "for model_name in models.keys():\n",
    "    for pipeline_name in models[model_name]['regression'].keys():\n",
    "        mae_labels.append(\"{} set\\n{} reg.\".format(model_name, pipeline_name))\n",
    "        mae_values.append(models[model_name]['regression'][pipeline_name]['mae'])\n",
    "\n",
    "for (label, value) in zip(mae_labels, mae_values):\n",
    "    if value == np.min(mae_values):\n",
    "        smallest = \"(smallest value)\"\n",
    "    else:\n",
    "        smallest = \"\"\n",
    "    print(\"\\t{:30} : {:.2f}   {}\".format(label.replace(\"\\n\",\" - \"), value, smallest))\n",
    "\n",
    "# Bar chart to compare our model\n",
    "plt.figure(figsize=FIGURE_SIZE)\n",
    "plt.bar([i for i in range(1,len(mae_values)+1)], mae_values)\n",
    "plt.xticks([i for i in range(1,len(mae_values)+1)], mae_labels)\n",
    "plt.title('MAE with different regression models')\n",
    "plt.ylabel(\"Mean Average Error in $\")\n",
    "\n",
    "mae_min = np.min(mae_values)\n",
    "plt.plot([0,len(mae_values)+1],[mae_min, mae_min], c='red', label=\"Smallest MAE on Test data = {:.2f} $\".format(mae_min))\n",
    "\n",
    "plt.legend()\n",
    "plt.show()\n",
    "      \n"
   ]
  },
  {
   "cell_type": "code",
   "execution_count": null,
   "metadata": {},
   "outputs": [],
   "source": [
    "\n"
   ]
  },
  {
   "cell_type": "markdown",
   "metadata": {},
   "source": [
    "## Compute predictions"
   ]
  },
  {
   "cell_type": "code",
   "execution_count": null,
   "metadata": {},
   "outputs": [],
   "source": []
  },
  {
   "cell_type": "markdown",
   "metadata": {},
   "source": [
    "## Evaluate your predictions"
   ]
  },
  {
   "cell_type": "code",
   "execution_count": null,
   "metadata": {},
   "outputs": [],
   "source": []
  }
 ],
 "metadata": {
  "kernelspec": {
   "display_name": "Python 3",
   "language": "python",
   "name": "python3"
  },
  "language_info": {
   "codemirror_mode": {
    "name": "ipython",
    "version": 3
   },
   "file_extension": ".py",
   "mimetype": "text/x-python",
   "name": "python",
   "nbconvert_exporter": "python",
   "pygments_lexer": "ipython3",
   "version": "3.6.10"
  }
 },
 "nbformat": 4,
 "nbformat_minor": 4
}
