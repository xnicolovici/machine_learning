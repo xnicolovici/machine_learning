{
 "cells": [
  {
   "cell_type": "markdown",
   "metadata": {},
   "source": [
    "# House prices - Part No2"
   ]
  },
  {
   "cell_type": "markdown",
   "metadata": {},
   "source": [
    "## Cell No 14\n",
    "\n",
    "I've mage a grid analysis using what we've done in the course.\n",
    "\n",
    "I've found an optimal 'epsilon' parameter for my HuberRegressor. Result is an MAE() < 13'000 $ on the Test dataset\n",
    "\n",
    "That sounds good.\n",
    "\n",
    "Next, I've tried to use GridSearchCV, using a score like: make_score(MAE).\n",
    "\n",
    "Question:\n",
    "The best score I get is not using the same parameters I've found with the course approach, and my best score is around 3%  !!\n",
    "And, using score=make_scorer(r2_score), I got a score around 88% with another epsilon value.\n",
    "\n",
    "What's wrong ? :-)"
   ]
  },
  {
   "cell_type": "markdown",
   "metadata": {},
   "source": [
    "Answer:\n",
    "    \n",
    "    Utiliser TransformedTargetRegressor dans le GridSearchCV"
   ]
  }
 ],
 "metadata": {
  "kernelspec": {
   "display_name": "Python 3",
   "language": "python",
   "name": "python3"
  },
  "language_info": {
   "codemirror_mode": {
    "name": "ipython",
    "version": 3
   },
   "file_extension": ".py",
   "mimetype": "text/x-python",
   "name": "python",
   "nbconvert_exporter": "python",
   "pygments_lexer": "ipython3",
   "version": "3.6.10"
  }
 },
 "nbformat": 4,
 "nbformat_minor": 4
}
