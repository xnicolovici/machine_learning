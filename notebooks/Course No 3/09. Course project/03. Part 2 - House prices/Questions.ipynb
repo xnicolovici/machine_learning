{
 "cells": [
  {
   "cell_type": "markdown",
   "metadata": {},
   "source": [
    "# House prices"
   ]
  },
  {
   "cell_type": "markdown",
   "metadata": {},
   "source": [
    "## Cell No 4\n",
    "\n",
    "I've decided to merge train and test dataset to apply the same transformations on both dataset features.\n",
    "\n",
    "Is that a good approach ?"
   ]
  },
  {
   "cell_type": "markdown",
   "metadata": {},
   "source": [
    "## Cell No 17\n",
    "\n",
    "We've identified some lines with null values in Train feature.\n",
    "\n",
    "A part of them have been dropped as they represent less that 200 lines over 2'500\n",
    "\n",
    "But I have also null cells in the Test dataset. What to do with that ? Leave them null and let our model decide what to do with it ?\n",
    "\n",
    "\n",
    "=> Recherche d'une valeur de remplacement des cellules vides via le Train DF, ouis appliquer globalement sur l'ensemble.\n"
   ]
  },
  {
   "cell_type": "code",
   "execution_count": null,
   "metadata": {},
   "outputs": [],
   "source": []
  }
 ],
 "metadata": {
  "kernelspec": {
   "display_name": "Python 3",
   "language": "python",
   "name": "python3"
  },
  "language_info": {
   "codemirror_mode": {
    "name": "ipython",
    "version": 3
   },
   "file_extension": ".py",
   "mimetype": "text/x-python",
   "name": "python",
   "nbconvert_exporter": "python",
   "pygments_lexer": "ipython3",
   "version": "3.6.10"
  }
 },
 "nbformat": 4,
 "nbformat_minor": 4
}
