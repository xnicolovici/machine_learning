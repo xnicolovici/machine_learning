{
 "cells": [
  {
   "cell_type": "code",
   "execution_count": 69,
   "metadata": {},
   "outputs": [
    {
     "data": {
      "text/plain": [
       "(2430, 82)"
      ]
     },
     "execution_count": 69,
     "metadata": {},
     "output_type": "execute_result"
    }
   ],
   "source": [
    "import pandas as pd\n",
    "import os\n",
    "\n",
    "data_df = pd.read_csv(os.path.join('data','house-prices.csv'))\n",
    "data_df.shape"
   ]
  },
  {
   "cell_type": "code",
   "execution_count": 70,
   "metadata": {},
   "outputs": [
    {
     "name": "stdout",
     "output_type": "stream",
     "text": [
      "Columns to drop: Alley,Fireplace Qu,Pool QC,Fence,Misc Feature\n"
     ]
    }
   ],
   "source": [
    "# Number of lines in dataset\n",
    "total_cell = data_df.shape[0]\n",
    "\n",
    "# NULL_CELL_LIMIT is the max allowed percentage of null value in a column\n",
    "NULL_CELL_LIMIT = 0.20\n",
    "\n",
    "# List of columns that we will drop\n",
    "columns_to_drop = list()\n",
    "\n",
    "# Loop in each column and identify the one to drop\n",
    "for c in data_df.columns:\n",
    "    no_of_null_cell = data_df[c].isnull().sum()\n",
    "    if(no_of_null_cell/total_cell > NULL_CELL_LIMIT):\n",
    "        columns_to_drop.append(c)\n",
    "\n",
    "print(\"Columns to drop:\", ','.join(columns_to_drop))"
   ]
  },
  {
   "cell_type": "code",
   "execution_count": 75,
   "metadata": {},
   "outputs": [
    {
     "name": "stdout",
     "output_type": "stream",
     "text": [
      "Ex 5\n",
      "Gd 4\n",
      "TA 3\n",
      "Fa 2\n",
      "Po 1\n"
     ]
    },
    {
     "data": {
      "text/plain": [
       "PID              int64\n",
       "Fireplace Qu    object\n",
       "dtype: object"
      ]
     },
     "execution_count": 75,
     "metadata": {},
     "output_type": "execute_result"
    }
   ],
   "source": [
    "\n",
    "def encodeOrdinalColumnToNumeric(df, columns=[], mapping={}, replacena= None, inplace=True):\n",
    "    \"\"\"\n",
    "    This function replaces values in columns passed as parameter using the mapping dict provided.\n",
    "    Key of the dict are used as search value in cells, and if match, cell value is replace by the value\n",
    "    of mapping[key]\n",
    "    replacena parameter, if different from None is used as replacement of null values\n",
    "    Inplace parameter is used to perform changes directly on the dataframe passed as parameter or a copy of it\n",
    "    Whatever the value of inplace parameter, the modified dataframe is returned by ther function\n",
    "    \"\"\"\n",
    "    if(not inplace):\n",
    "        df = df.copy()\n",
    "    # replace null values\n",
    "    if replacena != None:\n",
    "        df.loc[df[column].isnull(), column] = replacena\n",
    "    # replace values using mapping\n",
    "    for key in mapping:\n",
    "        print(key, mapping[key])\n",
    "        df.loc[df[column] == key, column] = mapping[key]\n",
    "    \n",
    "    return df\n",
    "\n",
    "mapping = {\n",
    "    'Ex': 5,\n",
    "    'Gd': 4,\n",
    "    'TA': 3,\n",
    "    'Fa': 2,\n",
    "    'Po': 1,\n",
    "}\n",
    "temp_df = encodeOrdinalColumnToNumeric(data_df, column='Fireplace Qu', mapping=mapping, replacena=0, inplace=False)\n",
    "# data_df.loc[data_df['Fireplace Qu'] == 'TA', 'Fireplace Qu'] = 10\n",
    "temp_df[['PID','Fireplace Qu']]['Fireplace Qu'].unique()\n",
    "temp_df[['PID','Fireplace Qu']].dtypes\n",
    "data_df[['PID','Fireplace Qu']].dtypes"
   ]
  },
  {
   "cell_type": "code",
   "execution_count": 80,
   "metadata": {},
   "outputs": [
    {
     "name": "stdout",
     "output_type": "stream",
     "text": [
      "False\n"
     ]
    }
   ],
   "source": [
    "ordinal_column =[\n",
    "    'Lot Shape', 'Utilities', 'Land Slope', 'Overall Cond', 'Overall Qual', 'Exter Cond', 'Exter Qual', 'Bsmt Cond', 'Bsmt Qual', 'Bsmt Exposure', 'BsmtFin Type 1',\n",
    "    'BsmtFin Type 2', 'Heating QC', 'Electrical', 'Kitchen Qual', 'Functional', 'Garage Finish', 'Garage Cond', 'Garage Qual', 'Paved Drive',\n",
    "]\n",
    "\n",
    "encodeOrdinalColumnToNumeric(data_df,column)"
   ]
  },
  {
   "cell_type": "code",
   "execution_count": 5,
   "metadata": {},
   "outputs": [
    {
     "data": {
      "text/html": [
       "<div>\n",
       "<style scoped>\n",
       "    .dataframe tbody tr th:only-of-type {\n",
       "        vertical-align: middle;\n",
       "    }\n",
       "\n",
       "    .dataframe tbody tr th {\n",
       "        vertical-align: top;\n",
       "    }\n",
       "\n",
       "    .dataframe thead th {\n",
       "        text-align: right;\n",
       "    }\n",
       "</style>\n",
       "<table border=\"1\" class=\"dataframe\">\n",
       "  <thead>\n",
       "    <tr style=\"text-align: right;\">\n",
       "      <th></th>\n",
       "      <th>Order</th>\n",
       "      <th>PID</th>\n",
       "      <th>MS SubClass</th>\n",
       "      <th>MS Zoning</th>\n",
       "      <th>Lot Frontage</th>\n",
       "      <th>Lot Area</th>\n",
       "      <th>Street</th>\n",
       "      <th>Alley</th>\n",
       "      <th>Lot Shape</th>\n",
       "      <th>Land Contour</th>\n",
       "      <th>...</th>\n",
       "      <th>Mo Sold</th>\n",
       "      <th>Yr Sold</th>\n",
       "      <th>Sale Type</th>\n",
       "      <th>Sale Condition</th>\n",
       "      <th>SalePrice</th>\n",
       "      <th>Fireplace Qu_Ex</th>\n",
       "      <th>Fireplace Qu_Fa</th>\n",
       "      <th>Fireplace Qu_Gd</th>\n",
       "      <th>Fireplace Qu_Po</th>\n",
       "      <th>Fireplace Qu_TA</th>\n",
       "    </tr>\n",
       "  </thead>\n",
       "  <tbody>\n",
       "    <tr>\n",
       "      <th>0</th>\n",
       "      <td>484</td>\n",
       "      <td>528275070</td>\n",
       "      <td>60</td>\n",
       "      <td>RL</td>\n",
       "      <td>NaN</td>\n",
       "      <td>8795</td>\n",
       "      <td>Pave</td>\n",
       "      <td>NaN</td>\n",
       "      <td>IR1</td>\n",
       "      <td>Lvl</td>\n",
       "      <td>...</td>\n",
       "      <td>4</td>\n",
       "      <td>2009</td>\n",
       "      <td>WD</td>\n",
       "      <td>Normal</td>\n",
       "      <td>236000</td>\n",
       "      <td>0</td>\n",
       "      <td>0</td>\n",
       "      <td>0</td>\n",
       "      <td>0</td>\n",
       "      <td>1</td>\n",
       "    </tr>\n",
       "    <tr>\n",
       "      <th>1</th>\n",
       "      <td>2586</td>\n",
       "      <td>535305120</td>\n",
       "      <td>20</td>\n",
       "      <td>RL</td>\n",
       "      <td>75.0</td>\n",
       "      <td>10170</td>\n",
       "      <td>Pave</td>\n",
       "      <td>NaN</td>\n",
       "      <td>Reg</td>\n",
       "      <td>Lvl</td>\n",
       "      <td>...</td>\n",
       "      <td>6</td>\n",
       "      <td>2006</td>\n",
       "      <td>WD</td>\n",
       "      <td>Normal</td>\n",
       "      <td>155000</td>\n",
       "      <td>0</td>\n",
       "      <td>0</td>\n",
       "      <td>1</td>\n",
       "      <td>0</td>\n",
       "      <td>0</td>\n",
       "    </tr>\n",
       "  </tbody>\n",
       "</table>\n",
       "<p>2 rows × 86 columns</p>\n",
       "</div>"
      ],
      "text/plain": [
       "   Order        PID  MS SubClass MS Zoning  Lot Frontage  Lot Area Street  \\\n",
       "0    484  528275070           60        RL           NaN      8795   Pave   \n",
       "1   2586  535305120           20        RL          75.0     10170   Pave   \n",
       "\n",
       "  Alley Lot Shape Land Contour  ... Mo Sold Yr Sold Sale Type Sale Condition  \\\n",
       "0   NaN       IR1          Lvl  ...       4    2009       WD          Normal   \n",
       "1   NaN       Reg          Lvl  ...       6    2006       WD          Normal   \n",
       "\n",
       "  SalePrice Fireplace Qu_Ex Fireplace Qu_Fa Fireplace Qu_Gd  Fireplace Qu_Po  \\\n",
       "0    236000               0               0               0                0   \n",
       "1    155000               0               0               1                0   \n",
       "\n",
       "   Fireplace Qu_TA  \n",
       "0                1  \n",
       "1                0  \n",
       "\n",
       "[2 rows x 86 columns]"
      ]
     },
     "execution_count": 5,
     "metadata": {},
     "output_type": "execute_result"
    }
   ],
   "source": [
    "pd.get_dummies(data_df,columns=['Fireplace Qu']).head(2)"
   ]
  },
  {
   "cell_type": "code",
   "execution_count": null,
   "metadata": {},
   "outputs": [],
   "source": [
    "\n",
    "\n"
   ]
  },
  {
   "cell_type": "code",
   "execution_count": null,
   "metadata": {},
   "outputs": [],
   "source": []
  }
 ],
 "metadata": {
  "kernelspec": {
   "display_name": "Python 3",
   "language": "python",
   "name": "python3"
  },
  "language_info": {
   "codemirror_mode": {
    "name": "ipython",
    "version": 3
   },
   "file_extension": ".py",
   "mimetype": "text/x-python",
   "name": "python",
   "nbconvert_exporter": "python",
   "pygments_lexer": "ipython3",
   "version": "3.6.10"
  }
 },
 "nbformat": 4,
 "nbformat_minor": 4
}
