{
 "cells": [
  {
   "cell_type": "markdown",
   "metadata": {},
   "source": [
    "# Course Project No 3 - Part 2 - House prices"
   ]
  },
  {
   "cell_type": "markdown",
   "metadata": {},
   "source": [
    "Let's import all the base libraries that we will use in this Notebook"
   ]
  },
  {
   "cell_type": "code",
   "execution_count": 1,
   "metadata": {},
   "outputs": [],
   "source": [
    "import pandas as pd\n",
    "import numpy as np\n",
    "import os\n",
    "import matplotlib.pyplot as plt\n",
    "%matplotlib inline\n",
    "\n",
    "# Insight:\n",
    "# Pour les missing values, créer une catégorie missing\n",
    "# Ne pas supprimer les colonnes en première instance, à faire plus tard dans la construction de modèles simples.\n",
    "# Utiliser les histogrammes simples pour évaluer les outliers des colonnes numériques.\n",
    "# Pour les colonnes avec données manquantes, une LinearRegression sera pénalisée alors que les regression type Ridge seront moins sensibles\n",
    "# Le drop de colonne pourra être évalué avec une approche Grid en jouant sur l'alpha du Ridge (si pas d'influence, on ne doit pas trouver d'outfitting\n",
    "# en diminuant la valeur de l'alpha)\n",
    "\n",
    "# !!! Ordinal values: À classer\n"
   ]
  },
  {
   "cell_type": "markdown",
   "metadata": {},
   "source": [
    "## Goal of this second part\n",
    "\n",
    "Estimate the price of 500 houses using a model based on 2'430 house prices, analyzing a dataset made of 82 features"
   ]
  },
  {
   "cell_type": "markdown",
   "metadata": {},
   "source": [
    "## Load the datasets\n",
    "\n",
    "So we have two files, one for the train dataset, the other for the test.\n",
    "\n",
    "As we will have to duplicate, transform, maybe drop columns in both dataset, I've decided to concat both into one big dataset, and define different functions to build the global dataframe and extract train and test datasets from it."
   ]
  },
  {
   "cell_type": "markdown",
   "metadata": {},
   "source": [
    "### Train Dataset"
   ]
  },
  {
   "cell_type": "code",
   "execution_count": 2,
   "metadata": {},
   "outputs": [
    {
     "name": "stdout",
     "output_type": "stream",
     "text": [
      "Size of the train dataset: (2430, 82)\n"
     ]
    },
    {
     "data": {
      "text/html": [
       "<div>\n",
       "<style scoped>\n",
       "    .dataframe tbody tr th:only-of-type {\n",
       "        vertical-align: middle;\n",
       "    }\n",
       "\n",
       "    .dataframe tbody tr th {\n",
       "        vertical-align: top;\n",
       "    }\n",
       "\n",
       "    .dataframe thead th {\n",
       "        text-align: right;\n",
       "    }\n",
       "</style>\n",
       "<table border=\"1\" class=\"dataframe\">\n",
       "  <thead>\n",
       "    <tr style=\"text-align: right;\">\n",
       "      <th></th>\n",
       "      <th>Order</th>\n",
       "      <th>PID</th>\n",
       "      <th>MS SubClass</th>\n",
       "      <th>MS Zoning</th>\n",
       "      <th>Lot Frontage</th>\n",
       "      <th>Lot Area</th>\n",
       "      <th>Street</th>\n",
       "      <th>Alley</th>\n",
       "      <th>Lot Shape</th>\n",
       "      <th>Land Contour</th>\n",
       "      <th>...</th>\n",
       "      <th>Pool Area</th>\n",
       "      <th>Pool QC</th>\n",
       "      <th>Fence</th>\n",
       "      <th>Misc Feature</th>\n",
       "      <th>Misc Val</th>\n",
       "      <th>Mo Sold</th>\n",
       "      <th>Yr Sold</th>\n",
       "      <th>Sale Type</th>\n",
       "      <th>Sale Condition</th>\n",
       "      <th>SalePrice</th>\n",
       "    </tr>\n",
       "  </thead>\n",
       "  <tbody>\n",
       "    <tr>\n",
       "      <th>0</th>\n",
       "      <td>484</td>\n",
       "      <td>528275070</td>\n",
       "      <td>60</td>\n",
       "      <td>RL</td>\n",
       "      <td>NaN</td>\n",
       "      <td>8795</td>\n",
       "      <td>Pave</td>\n",
       "      <td>NaN</td>\n",
       "      <td>IR1</td>\n",
       "      <td>Lvl</td>\n",
       "      <td>...</td>\n",
       "      <td>0</td>\n",
       "      <td>NaN</td>\n",
       "      <td>NaN</td>\n",
       "      <td>NaN</td>\n",
       "      <td>0</td>\n",
       "      <td>4</td>\n",
       "      <td>2009</td>\n",
       "      <td>WD</td>\n",
       "      <td>Normal</td>\n",
       "      <td>236000</td>\n",
       "    </tr>\n",
       "    <tr>\n",
       "      <th>1</th>\n",
       "      <td>2586</td>\n",
       "      <td>535305120</td>\n",
       "      <td>20</td>\n",
       "      <td>RL</td>\n",
       "      <td>75.0</td>\n",
       "      <td>10170</td>\n",
       "      <td>Pave</td>\n",
       "      <td>NaN</td>\n",
       "      <td>Reg</td>\n",
       "      <td>Lvl</td>\n",
       "      <td>...</td>\n",
       "      <td>0</td>\n",
       "      <td>NaN</td>\n",
       "      <td>NaN</td>\n",
       "      <td>NaN</td>\n",
       "      <td>0</td>\n",
       "      <td>6</td>\n",
       "      <td>2006</td>\n",
       "      <td>WD</td>\n",
       "      <td>Normal</td>\n",
       "      <td>155000</td>\n",
       "    </tr>\n",
       "    <tr>\n",
       "      <th>2</th>\n",
       "      <td>2289</td>\n",
       "      <td>923228250</td>\n",
       "      <td>160</td>\n",
       "      <td>RM</td>\n",
       "      <td>21.0</td>\n",
       "      <td>2001</td>\n",
       "      <td>Pave</td>\n",
       "      <td>NaN</td>\n",
       "      <td>Reg</td>\n",
       "      <td>Lvl</td>\n",
       "      <td>...</td>\n",
       "      <td>0</td>\n",
       "      <td>NaN</td>\n",
       "      <td>NaN</td>\n",
       "      <td>NaN</td>\n",
       "      <td>0</td>\n",
       "      <td>1</td>\n",
       "      <td>2007</td>\n",
       "      <td>WD</td>\n",
       "      <td>Normal</td>\n",
       "      <td>75000</td>\n",
       "    </tr>\n",
       "  </tbody>\n",
       "</table>\n",
       "<p>3 rows × 82 columns</p>\n",
       "</div>"
      ],
      "text/plain": [
       "   Order        PID  MS SubClass MS Zoning  Lot Frontage  Lot Area Street  \\\n",
       "0    484  528275070           60        RL           NaN      8795   Pave   \n",
       "1   2586  535305120           20        RL          75.0     10170   Pave   \n",
       "2   2289  923228250          160        RM          21.0      2001   Pave   \n",
       "\n",
       "  Alley Lot Shape Land Contour  ... Pool Area Pool QC Fence Misc Feature  \\\n",
       "0   NaN       IR1          Lvl  ...         0     NaN   NaN          NaN   \n",
       "1   NaN       Reg          Lvl  ...         0     NaN   NaN          NaN   \n",
       "2   NaN       Reg          Lvl  ...         0     NaN   NaN          NaN   \n",
       "\n",
       "  Misc Val Mo Sold Yr Sold Sale Type  Sale Condition  SalePrice  \n",
       "0        0       4    2009       WD           Normal     236000  \n",
       "1        0       6    2006       WD           Normal     155000  \n",
       "2        0       1    2007       WD           Normal      75000  \n",
       "\n",
       "[3 rows x 82 columns]"
      ]
     },
     "execution_count": 2,
     "metadata": {},
     "output_type": "execute_result"
    }
   ],
   "source": [
    "train_df = pd.read_csv(os.path.join('data','house-prices.csv'))\n",
    "print(\"Size of the train dataset:\", train_df.shape)\n",
    "train_df.head(3)"
   ]
  },
  {
   "cell_type": "markdown",
   "metadata": {},
   "source": [
    "### Test Dataset"
   ]
  },
  {
   "cell_type": "code",
   "execution_count": 3,
   "metadata": {},
   "outputs": [
    {
     "name": "stdout",
     "output_type": "stream",
     "text": [
      "Size of the test dataset: (500, 81)\n"
     ]
    },
    {
     "data": {
      "text/html": [
       "<div>\n",
       "<style scoped>\n",
       "    .dataframe tbody tr th:only-of-type {\n",
       "        vertical-align: middle;\n",
       "    }\n",
       "\n",
       "    .dataframe tbody tr th {\n",
       "        vertical-align: top;\n",
       "    }\n",
       "\n",
       "    .dataframe thead th {\n",
       "        text-align: right;\n",
       "    }\n",
       "</style>\n",
       "<table border=\"1\" class=\"dataframe\">\n",
       "  <thead>\n",
       "    <tr style=\"text-align: right;\">\n",
       "      <th></th>\n",
       "      <th>Order</th>\n",
       "      <th>PID</th>\n",
       "      <th>MS SubClass</th>\n",
       "      <th>MS Zoning</th>\n",
       "      <th>Lot Frontage</th>\n",
       "      <th>Lot Area</th>\n",
       "      <th>Street</th>\n",
       "      <th>Alley</th>\n",
       "      <th>Lot Shape</th>\n",
       "      <th>Land Contour</th>\n",
       "      <th>...</th>\n",
       "      <th>Screen Porch</th>\n",
       "      <th>Pool Area</th>\n",
       "      <th>Pool QC</th>\n",
       "      <th>Fence</th>\n",
       "      <th>Misc Feature</th>\n",
       "      <th>Misc Val</th>\n",
       "      <th>Mo Sold</th>\n",
       "      <th>Yr Sold</th>\n",
       "      <th>Sale Type</th>\n",
       "      <th>Sale Condition</th>\n",
       "    </tr>\n",
       "  </thead>\n",
       "  <tbody>\n",
       "    <tr>\n",
       "      <th>0</th>\n",
       "      <td>2217</td>\n",
       "      <td>909279080</td>\n",
       "      <td>50</td>\n",
       "      <td>RL</td>\n",
       "      <td>NaN</td>\n",
       "      <td>11275</td>\n",
       "      <td>Pave</td>\n",
       "      <td>NaN</td>\n",
       "      <td>IR1</td>\n",
       "      <td>HLS</td>\n",
       "      <td>...</td>\n",
       "      <td>0</td>\n",
       "      <td>0</td>\n",
       "      <td>NaN</td>\n",
       "      <td>NaN</td>\n",
       "      <td>NaN</td>\n",
       "      <td>0</td>\n",
       "      <td>3</td>\n",
       "      <td>2007</td>\n",
       "      <td>WD</td>\n",
       "      <td>Normal</td>\n",
       "    </tr>\n",
       "    <tr>\n",
       "      <th>1</th>\n",
       "      <td>837</td>\n",
       "      <td>907126050</td>\n",
       "      <td>20</td>\n",
       "      <td>RL</td>\n",
       "      <td>65.0</td>\n",
       "      <td>9757</td>\n",
       "      <td>Pave</td>\n",
       "      <td>NaN</td>\n",
       "      <td>Reg</td>\n",
       "      <td>Low</td>\n",
       "      <td>...</td>\n",
       "      <td>92</td>\n",
       "      <td>0</td>\n",
       "      <td>NaN</td>\n",
       "      <td>NaN</td>\n",
       "      <td>NaN</td>\n",
       "      <td>0</td>\n",
       "      <td>10</td>\n",
       "      <td>2009</td>\n",
       "      <td>WD</td>\n",
       "      <td>Normal</td>\n",
       "    </tr>\n",
       "    <tr>\n",
       "      <th>2</th>\n",
       "      <td>2397</td>\n",
       "      <td>528144030</td>\n",
       "      <td>60</td>\n",
       "      <td>RL</td>\n",
       "      <td>86.0</td>\n",
       "      <td>11065</td>\n",
       "      <td>Pave</td>\n",
       "      <td>NaN</td>\n",
       "      <td>IR1</td>\n",
       "      <td>Lvl</td>\n",
       "      <td>...</td>\n",
       "      <td>0</td>\n",
       "      <td>0</td>\n",
       "      <td>NaN</td>\n",
       "      <td>NaN</td>\n",
       "      <td>NaN</td>\n",
       "      <td>0</td>\n",
       "      <td>10</td>\n",
       "      <td>2006</td>\n",
       "      <td>New</td>\n",
       "      <td>Partial</td>\n",
       "    </tr>\n",
       "  </tbody>\n",
       "</table>\n",
       "<p>3 rows × 81 columns</p>\n",
       "</div>"
      ],
      "text/plain": [
       "   Order        PID  MS SubClass MS Zoning  Lot Frontage  Lot Area Street  \\\n",
       "0   2217  909279080           50        RL           NaN     11275   Pave   \n",
       "1    837  907126050           20        RL          65.0      9757   Pave   \n",
       "2   2397  528144030           60        RL          86.0     11065   Pave   \n",
       "\n",
       "  Alley Lot Shape Land Contour  ... Screen Porch Pool Area Pool QC Fence  \\\n",
       "0   NaN       IR1          HLS  ...            0         0     NaN   NaN   \n",
       "1   NaN       Reg          Low  ...           92         0     NaN   NaN   \n",
       "2   NaN       IR1          Lvl  ...            0         0     NaN   NaN   \n",
       "\n",
       "  Misc Feature Misc Val Mo Sold Yr Sold  Sale Type  Sale Condition  \n",
       "0          NaN        0       3    2007        WD           Normal  \n",
       "1          NaN        0      10    2009        WD           Normal  \n",
       "2          NaN        0      10    2006        New         Partial  \n",
       "\n",
       "[3 rows x 81 columns]"
      ]
     },
     "execution_count": 3,
     "metadata": {},
     "output_type": "execute_result"
    }
   ],
   "source": [
    "test_df = pd.read_csv(os.path.join('data','house-prices-test.csv'))\n",
    "print(\"Size of the test dataset:\", test_df.shape)\n",
    "test_df.head(3)"
   ]
  },
  {
   "cell_type": "markdown",
   "metadata": {},
   "source": [
    "### Merge datasets into one dataframe\n",
    "\n",
    "The merged dataset will be stored in a variable named *data_df*\n",
    "\n",
    "> Note: Test dataset is missing the 'SalePrice' column. We must add an empty column to it before concatenating it with train dataset"
   ]
  },
  {
   "cell_type": "code",
   "execution_count": 4,
   "metadata": {},
   "outputs": [
    {
     "name": "stdout",
     "output_type": "stream",
     "text": [
      "Size of global dataframe. Must be (2930,82):\t (2930, 82)\n",
      "Size of train dataframe. Must be (2430,82):\t (2430, 82)\n",
      "Size of test dataframe. Must be (500,82):\t (500, 82)\n"
     ]
    }
   ],
   "source": [
    "# Define target column name as a variable\n",
    "target_column='SalePrice'\n",
    "\n",
    "# Add empty 'SalePrice' columnto Test dataset\n",
    "test_df[target_column] = np.nan\n",
    "\n",
    "# Function that concat datasets received as parameter and replace our global data_df variable\n",
    "def concatTrainAndTestDataset(train_df, test_df):\n",
    "    global data_df\n",
    "    data_df=pd.concat([train_df.copy(), test_df.copy()], ignore_index=True, sort=False)\n",
    "    return\n",
    "\n",
    "# Concat both dataframe\n",
    "concatTrainAndTestDataset(train_df, test_df)\n",
    "\n",
    "# Verify size of resulting dataframe\n",
    "print(\"Size of global dataframe. Must be (2930,82):\\t\", data_df.shape)\n",
    "\n",
    "# Define function that returns the train dataset\n",
    "def getTrainDataset():\n",
    "    global data_df\n",
    "    global target_column\n",
    "    \n",
    "    return data_df[np.logical_not(data_df[target_column].isnull())]\n",
    "\n",
    "# Define function the test dataset\n",
    "def getTestDataset():\n",
    "    global data_df\n",
    "    global target_column\n",
    "    \n",
    "    return data_df[data_df[target_column].isnull()]\n",
    "\n",
    "# Verify size of trainig dataframe\n",
    "print(\"Size of train dataframe. Must be (2430,82):\\t\", getTrainDataset().shape)\n",
    "\n",
    "# Verify size of resulting dataframe\n",
    "print(\"Size of test dataframe. Must be (500,82):\\t\", getTestDataset().shape)\n",
    "\n",
    "\n"
   ]
  },
  {
   "cell_type": "markdown",
   "metadata": {},
   "source": [
    "## Utility functions\n",
    "\n",
    "Before working on our dataset, let's define some utility functions that will be used in our Notebook.\n",
    "This will simplify our code."
   ]
  },
  {
   "cell_type": "markdown",
   "metadata": {},
   "source": [
    "### Drop and One-encode\n",
    "\n",
    "Along the Notebook, we will have to drop columns and one-encode others.\n",
    "\n",
    "Instead of dropping column immediately, we had the columns to drop in a *column_to_drop* set to be removed later. This trick allows us to run cell notebook several time without side effect. Of course, as soon as the drop command is applied on this set, the previous cells might not work and the notebook should be rerun from beginning.\n",
    "\n",
    "Same for one-hot encoding, we define a *columns_to_encode* set() to perform the one-hot encoding later.\n",
    "\n",
    "We create two functions to manipulate those two variables and a third one to execute the job, taking care of the global variables\n",
    "\n",
    "> Note 1: One-hot encoding must be done prior to the drop call as some of the flagged columns to be dropped are created by the 'one-hot' encoding process.\n",
    "\n",
    "> Note 2: Reset the two variables *columns_to_drop* and *columns_to_encode* afterward in case we reuse them\n"
   ]
  },
  {
   "cell_type": "code",
   "execution_count": 5,
   "metadata": {},
   "outputs": [],
   "source": [
    "# Store the columns to be dropped\n",
    "columns_to_drop = set()\n",
    "\n",
    "# Store the columns to be ont-hot encoded\n",
    "columns_to_encode = set()\n",
    "\n",
    "# Function to add columns to be dropped\n",
    "def addColumnToDropList(columns = []):\n",
    "    \"\"\"\n",
    "    Adds columns received as parametr to columns_to_drop global var\n",
    "    \"\"\"\n",
    "    global columns_to_drop\n",
    "    for c in columns:\n",
    "        columns_to_drop.add(c)\n",
    "    print(\"Columns flaged as 'to be removed':\", \",\".join(columns_to_drop))\n",
    "\n",
    "# Function to add columns to be one-hot encoded\n",
    "def addColumnToOneHotEncoding(columns = []):\n",
    "    \"\"\"\n",
    "    Adds columns received as parametr to columns_to_encode global var\n",
    "    \"\"\"\n",
    "    global columns_to_encode\n",
    "    for c in columns:\n",
    "        columns_to_encode.add(c)\n",
    "    print(\"Columns flaged as 'to be one-hot encoded':\", \",\".join(columns_to_encode))\n",
    "    \n",
    "def dropAndEncode():\n",
    "    global columns_to_drop\n",
    "    global columns_to_encode\n",
    "    global data_df\n",
    "    \"\"\"\n",
    "    This function handle drop and one-hot encoding on the data_df dataset\n",
    "    \"\"\"\n",
    "    print(\"Size of the dataframe BEFORE applying one-hot encoding:\", data_df.shape)\n",
    "    if (len(columns_to_encode) > 0):\n",
    "        print(\"  Do 'one-hot' encoding on:\", columns_to_encode)\n",
    "        data_df = pd.get_dummies(data_df, columns=columns_to_encode)\n",
    "    print(\"Size of the dataframe AFTER applying one-hot encoding:\", data_df.shape)\n",
    "    if (len(columns_to_drop) > 0):\n",
    "        print(\"  Drop columns:\", columns_to_drop)\n",
    "        data_df.drop(columns_to_drop, axis=1, inplace=True)\n",
    "    print(\"Size of the dataframe AFTER dropping column and applying one-hot encoding:\", data_df.shape)\n",
    "\n",
    "    # reset global var as the job has been done\n",
    "    columns_to_drop = set()\n",
    "    columns_to_encode = set()  \n"
   ]
  },
  {
   "cell_type": "markdown",
   "metadata": {},
   "source": [
    "### Where Clause Replacement\n",
    "\n",
    "On columns from which we could extract binary information (for example, does the house has a pool or not?), instead of doing a one-hot encoding exercice after replacing values, we can define a function using the *np.where()* method to globaly modified the column values in one shot."
   ]
  },
  {
   "cell_type": "code",
   "execution_count": 6,
   "metadata": {},
   "outputs": [],
   "source": [
    "def whereClauseReplacement(column, condition, true_value=0, false_value=1, drop_original_column = True, suffix=' Exists'):\n",
    "    \"\"\"\n",
    "    Function take a np.array of boolean and a column name to apply an np.where call on it.\n",
    "    true_value and false_value default to 1 and 0\n",
    "    The resulting value is added in a new column using the column name parameter and a suffix parameter.\n",
    "    A drop_original_column can be provided to decide if the orignal column should be dropped. It is set by default to True\n",
    "    \"\"\"\n",
    "    \n",
    "    global data_df\n",
    "    \n",
    "    print(\"Doing a binary replacement on column\", column)\n",
    "    new_column = column + suffix\n",
    "    print(\"  New column name:\", new_column)\n",
    "    data_df[new_column] =np.where(condition, true_value, false_value)\n",
    "    if (drop_original_column == True):\n",
    "        print(\"  Drop original column\")\n",
    "        addColumnToDropList([column])\n",
    "    # ensure new column contains at least and no more 2 values\n",
    "    if (len(data_df[new_column].unique()) != 2):\n",
    "        raise SystemExit(\"WARNING: whereClauseReplacement found number of values != 2. Aborting Notebook execution\")\n"
   ]
  },
  {
   "cell_type": "markdown",
   "metadata": {},
   "source": [
    "### Transform literal ordinal column to numerical one\n",
    "\n",
    "Most of the ordinal columns, according to documentation, values in those columns are categories written as strings. The following utility function is used to convert literal values by numeric ones. The mapping between literal and numeric values is passed to the function as a dictionnary.\n"
   ]
  },
  {
   "cell_type": "code",
   "execution_count": 7,
   "metadata": {},
   "outputs": [],
   "source": [
    "# Function definition to rencode ordinal column to numerical \n",
    "def encodeLiteralToNumericValues(column, mapping={}, replacena= None, column_type='int64'):\n",
    "    \"\"\"\n",
    "    This function replaces values in column passed as parameter using the mapping dict provided.\n",
    "    Key of the dict are used as search value in cells, and if match, cell value is replace by the value\n",
    "    of mapping[key]\n",
    "    replacena parameter, if different from None is used as replacement of null values\n",
    "    Note that dtype of modified column is automatically set to int64 if all values have been replaced with numeric one\n",
    "    Function also prints the unique values found in the column after transformation. This information could be used\n",
    "    to validate that we've not missed any replacement.\n",
    "    We do also ensure that column received as parameter does not contains only a numeric values. if it is the cas, then\n",
    "    the function simply returns.\n",
    "    \"\"\"\n",
    "    global data_df\n",
    "    \n",
    "    print(\"Encoding column {} to numerical values\".format(column))\n",
    "    # Does the column contains only numeric\n",
    "    if pd.api.types.is_numeric_dtype(data_df[column].dtype):\n",
    "        # yes, return\n",
    "        print(\"  Column is already numerical. Nothing to do.\")\n",
    "        return\n",
    "    \n",
    "    # replace values using mapping\n",
    "    data_df[column] = data_df[column].map(mapping)\n",
    "    # replace null values\n",
    "    if replacena != None:\n",
    "        data_df[column] = data_df[column].fillna(replacena)\n",
    "    \n",
    "    # Do an exit(1) if resulting column is not a numeric one\n",
    "    if pd.api.types.is_numeric_dtype(data_df[column].dtype) == False:\n",
    "        raise SystemExit(\"WARNING: encodeOrdinalColumnToNumeric returns a non numerical column. Aborting Notebook execution\")\n",
    "    else:\n",
    "        print(\"  Column successfully encoded with numerical values\")\n",
    "    print(\"  Values in column:\", data_df[column].unique())\n",
    "\n",
    "    # cast dtype of the newly column to column_type\n",
    "    data_df[column] = data_df[column].astype(column_type)\n",
    "    \n",
    "    return\n",
    "\n"
   ]
  },
  {
   "cell_type": "markdown",
   "metadata": {},
   "source": [
    "## Data cleaning\n",
    "\n",
    "Data in this set is not optimal and has to be cleaned before being used. Here is the methodology followed.\n"
   ]
  },
  {
   "cell_type": "markdown",
   "metadata": {},
   "source": [
    "### Drop useless columns\n",
    "\n",
    "Order and PID columns are useless to fit models. Drop it :-)\n"
   ]
  },
  {
   "cell_type": "code",
   "execution_count": 8,
   "metadata": {},
   "outputs": [
    {
     "name": "stdout",
     "output_type": "stream",
     "text": [
      "Columns flaged as 'to be removed': PID,Order\n"
     ]
    }
   ],
   "source": [
    "addColumnToDropList(['Order','PID'])"
   ]
  },
  {
   "cell_type": "markdown",
   "metadata": {},
   "source": [
    "### Handle columns with more than 20% empty cells\n",
    "Some of the columns contains a huge amount of null cells, we should drop them as they won't be pertinent if we were seeking for data quality.\n",
    "But, in Machine Learning approach, it's a better choice to keep all the data available, modifying it a little bit to suit model fitting process.\n",
    "Why seeking for 20% of empty cells in columns ? No specific reason, arbitrary choice :-)\n",
    "\n",
    "Let's identify those columns."
   ]
  },
  {
   "cell_type": "code",
   "execution_count": 9,
   "metadata": {},
   "outputs": [
    {
     "name": "stdout",
     "output_type": "stream",
     "text": [
      "Columns with mode than 20% of empty cells: Alley,Fireplace Qu,Pool QC,Fence,Misc Feature\n"
     ]
    },
    {
     "data": {
      "text/plain": [
       "Pool QC         2917\n",
       "Misc Feature    2824\n",
       "Alley           2732\n",
       "Fence           2358\n",
       "Fireplace Qu    1422\n",
       "dtype: int64"
      ]
     },
     "execution_count": 9,
     "metadata": {},
     "output_type": "execute_result"
    }
   ],
   "source": [
    "# Number of lines in dataset\n",
    "total_line = data_df.shape[0]\n",
    "\n",
    "# NULL_CELL_LIMIT is the max allowed percentage of null value in a column\n",
    "NULL_CELL_LIMIT = 0.20\n",
    "\n",
    "# List of columns that we will drop\n",
    "identified_column = list()\n",
    "\n",
    "# Loop in each column and identify the one to drop\n",
    "for c in data_df.columns:\n",
    "    no_of_null_cell = data_df[c].isnull().sum()\n",
    "    if(no_of_null_cell/total_line > NULL_CELL_LIMIT):\n",
    "        identified_column.append(c)\n",
    "\n",
    "print(\"Columns with mode than 20% of empty cells:\", ','.join(identified_column))\n",
    "\n",
    "data_df[identified_column].isnull().sum().sort_values(ascending=False)"
   ]
  },
  {
   "cell_type": "markdown",
   "metadata": {},
   "source": [
    "So, we've found 5 columns. Here is what I've decided to do with them.\n",
    "\n",
    "#### Pool QC: \n",
    "\n",
    "On the whole dataset, we found that only 12 houses are equiped with a pool.\n",
    "Choice is made to do a one-hot encoding on the 'Pool QC' column to simply identify houses with a pool, by replacing null values by 0, others by 1.\n",
    "\n",
    "To simplify coding, we define here a function that performs the 'where' binary replacement on a list of dataset, which defaults to our previously initialized variable: dataframe_list\n"
   ]
  },
  {
   "cell_type": "code",
   "execution_count": 10,
   "metadata": {},
   "outputs": [
    {
     "name": "stdout",
     "output_type": "stream",
     "text": [
      "Number of houses with pool:\t 13\n",
      "Number of pool area > 0:\t 13\n",
      "Doing a binary replacement on column Pool QC\n",
      "  New column name: Pool QC Exists\n",
      "  Drop original column\n",
      "Columns flaged as 'to be removed': Pool QC,PID,Order\n"
     ]
    }
   ],
   "source": [
    "# Ensure that number of houses without a pool is in line with the poll size information (only houses with\n",
    "# a pool should have a pool area above 0)\n",
    "print(\"Number of houses with pool:\\t\",data_df.shape[0] - data_df['Pool QC'].isnull().sum())\n",
    "print(\"Number of pool area > 0:\\t\",data_df[data_df['Pool Area'] > 0]['Pool Area'].count())\n",
    "\n",
    "whereClauseReplacement('Pool QC', data_df['Pool QC'].isnull())"
   ]
  },
  {
   "cell_type": "markdown",
   "metadata": {},
   "source": [
    "#### Alley\n",
    "NaN means house without alley. We should split the 'Alley' information into two different one: Does the house has an alley, and what type is the alley.\n",
    "Do a hot encoding on alley to get the 'Alley Type' for each house, and another one-hot encoding on 'Alley' to get the 'Alley Exists' column. For the alley_exists one hot encoding, we use our previous defined function binaryNullWhereClauseReplacement()\n"
   ]
  },
  {
   "cell_type": "code",
   "execution_count": 11,
   "metadata": {},
   "outputs": [
    {
     "name": "stdout",
     "output_type": "stream",
     "text": [
      "Columns flaged as 'to be one-hot encoded': Alley Type\n",
      "Doing a binary replacement on column Alley\n",
      "  New column name: Alley Exists\n",
      "  Drop original column\n",
      "Columns flaged as 'to be removed': Pool QC,PID,Alley,Order\n"
     ]
    }
   ],
   "source": [
    "# Duplicate 'Alley' column to 'Alley Type' in all dataframe\n",
    "data_df['Alley Type'] = data_df['Alley']\n",
    "\n",
    "# Do a one hot encoding on 'Allay Type'\n",
    "addColumnToOneHotEncoding(['Alley Type'])\n",
    "\n",
    "# Create 'Alley Exists'\n",
    "whereClauseReplacement('Alley', data_df['Alley'].isnull())\n"
   ]
  },
  {
   "cell_type": "markdown",
   "metadata": {},
   "source": [
    "#### Misc Feature\n",
    "\n",
    "Misc Feature store informations on features that do not match any other columns. Approach here is to perform a simple 'one-hot' encoding which will remove the null values."
   ]
  },
  {
   "cell_type": "code",
   "execution_count": 12,
   "metadata": {},
   "outputs": [
    {
     "name": "stdout",
     "output_type": "stream",
     "text": [
      "Columns flaged as 'to be one-hot encoded': Misc Feature,Alley Type\n"
     ]
    }
   ],
   "source": [
    "addColumnToOneHotEncoding(['Misc Feature'])"
   ]
  },
  {
   "cell_type": "markdown",
   "metadata": {},
   "source": [
    "#### Fence\n",
    "\n",
    "Fence information should be used to reflect only if the house has a fence or not. Other informations are not relevant."
   ]
  },
  {
   "cell_type": "code",
   "execution_count": 13,
   "metadata": {},
   "outputs": [
    {
     "name": "stdout",
     "output_type": "stream",
     "text": [
      "Details on the 'Fence' column content:\n",
      "       PID\n",
      "Fence     \n",
      "MnPrv  330\n",
      "GdPrv  118\n",
      "GdWo   112\n",
      "MnWw    12\n",
      "Doing a binary replacement on column Fence\n",
      "  New column name: Fence Exists\n",
      "  Drop original column\n",
      "Columns flaged as 'to be removed': Order,Pool QC,PID,Fence,Alley\n"
     ]
    }
   ],
   "source": [
    "print(\"Details on the 'Fence' column content:\")\n",
    "print(data_df[['Fence','PID']].groupby('Fence').count().sort_values('PID', ascending=False))\n",
    "\n",
    "# Create 'Fence Exists'\n",
    "whereClauseReplacement('Fence', data_df['Fence'].isnull())\n"
   ]
  },
  {
   "cell_type": "markdown",
   "metadata": {},
   "source": [
    "#### Fireplace Qu\n",
    "\n",
    "We use the same approach as Pools for Fireplaces.\n",
    "\n",
    "First check that number of houses with a Fireplace Quality not null is equal to the number of houses with a number of Fireplace above 0.\n",
    "\n",
    "As it is the case, then create a 'Fireplace Exist' to distinguish houses with at least one fireplace.\n",
    "\n",
    "Regarding the Fireplace Quality column, documentation says that it's an ordinal column. Instead of doing a one-hot encoding, let's replace values in that column with numeric values representing the ordinal classification of firaplace quality.\n",
    "\n",
    "> Note: We define a function to modify ordinal string encoding by numeric values, as we will repeat this operation later on.\n"
   ]
  },
  {
   "cell_type": "code",
   "execution_count": 14,
   "metadata": {},
   "outputs": [
    {
     "name": "stdout",
     "output_type": "stream",
     "text": [
      "Number of houses with fireplace quality evaluation:\t 1508\n",
      "Number of houses with at least one fireplace:\t\t 1508\n",
      "Convert Ordinal column to numerical\n",
      "Encoding column Fireplace Quality to numerical values\n",
      "  Column successfully encoded with numerical values\n",
      "  Values in column: [3. 4. 0. 2. 1. 5.]\n",
      "Doing a binary replacement on column Fireplace\n",
      "  New column name: Fireplace Exists\n",
      "  Drop original column\n",
      "Columns flaged as 'to be removed': Order,Pool QC,PID,Fence,Fireplace,Alley\n",
      "Columns flaged as 'to be removed': Order,Pool QC,PID,Fireplace Qu,Fence,Fireplace,Alley\n"
     ]
    }
   ],
   "source": [
    "# Ensure that number of houses without a pool is in line with the poll size information (only houses with\n",
    "# a pool should have a pool area above 0)\n",
    "print(\"Number of houses with fireplace quality evaluation:\\t\",data_df.shape[0] - data_df['Fireplace Qu'].isnull().sum())\n",
    "print(\"Number of houses with at least one fireplace:\\t\\t\",data_df[data_df['Fireplaces'] > 0]['Fireplaces'].count())\n",
    "\n",
    "# Make a copies of Fireplace Qu\n",
    "data_df['Fireplace'] = data_df['Fireplace Qu'] # Warning, a Fireplaces column exists, beware of the 's'\n",
    "data_df['Fireplace Quality'] = data_df['Fireplace Qu']\n",
    "\n",
    "# Re-encode column\n",
    "print(\"Convert Ordinal column to numerical\")\n",
    "fireplace_mapping = { 'Ex': 5, 'Gd': 4, 'TA': 3, 'Fa': 2, 'Po': 1 }\n",
    "encodeLiteralToNumericValues(column='Fireplace Quality', mapping=fireplace_mapping, replacena=0)\n",
    "\n",
    "# Replace null values in 'Pool QC' by 0, non null by 1, keep original column\n",
    "whereClauseReplacement('Fireplace', data_df['Fireplace'].isnull())\n",
    "\n",
    "# Do not forget to drop 'Fireplace Qu' as it is not usefull anymore\n",
    "addColumnToDropList(['Fireplace Qu'])\n"
   ]
  },
  {
   "cell_type": "markdown",
   "metadata": {},
   "source": [
    "#### One-hot encode and drop columns identified previously\n",
    "\n",
    "It's now time to 'one-hot' encode and drop identified columns above using our function dropAndEncode() defined above\n"
   ]
  },
  {
   "cell_type": "code",
   "execution_count": 15,
   "metadata": {},
   "outputs": [
    {
     "name": "stdout",
     "output_type": "stream",
     "text": [
      "Drop and one-hot encode\n",
      "Size of the dataframe BEFORE applying one-hot encoding: (2930, 89)\n",
      "  Do 'one-hot' encoding on: {'Misc Feature', 'Alley Type'}\n",
      "Size of the dataframe AFTER applying one-hot encoding: (2930, 94)\n",
      "  Drop columns: {'Order', 'Pool QC', 'PID', 'Fireplace Qu', 'Fence', 'Fireplace', 'Alley'}\n",
      "Size of the dataframe AFTER dropping column and applying one-hot encoding: (2930, 87)\n"
     ]
    }
   ],
   "source": [
    "print(\"Drop and one-hot encode\")\n",
    "dropAndEncode()"
   ]
  },
  {
   "cell_type": "markdown",
   "metadata": {},
   "source": [
    "### Remove lines with empty cells on columns with a few empty values\n",
    "\n",
    "Some of the remaining column after this first cleaning still contains empty cells. Decision is made to drop all the lines that contains null values in the columns where the total number of null values in those columns is not null and lower than a fixed value.\n",
    "\n",
    "To evaluate the fixed value, we will try different one and maesure how much line will be dropped. If the result is less the 20%, then it's a good choice. 20% of the test dataframe represents around 80% of the test dataset, which is an acceptable factor.\n",
    "\n",
    "> Note: This has to be done on the Train dataset only as we dont wan't to drop lines of the test dataset"
   ]
  },
  {
   "cell_type": "code",
   "execution_count": 16,
   "metadata": {},
   "outputs": [
    {
     "name": "stdout",
     "output_type": "stream",
     "text": [
      "Resulting size of the Dataframe (factor =   0) = 2430/2430 (ratio = 100.00%)\n",
      "Resulting size of the Dataframe (factor =  10) = 2426/2430 (ratio = 99.84%)\n",
      "Resulting size of the Dataframe (factor = 100) = 2333/2430 (ratio = 96.01%)\n",
      "Resulting size of the Dataframe (factor = 200) = 2209/2430 (ratio = 90.91%)\n",
      "Resulting size of the Dataframe (factor = 300) = 2209/2430 (ratio = 90.91%)\n",
      "Resulting size of the Dataframe (factor = 400) = 2209/2430 (ratio = 90.91%)\n",
      "Resulting size of the Dataframe (factor = 500) = 1815/2430 (ratio = 74.69%)\n"
     ]
    }
   ],
   "source": [
    "temp_df = getTrainDataset().copy()\n",
    "\n",
    "# Sum number of empty cells per column\n",
    "null_sum_df = temp_df.isnull().sum().to_frame()\n",
    "\n",
    "# A dictionnary that will contain the different dataframe\n",
    "train_df_list = dict()\n",
    "\n",
    "for i in (0, 10, 100, 200, 300, 400, 500):\n",
    "    columns_df = null_sum_df[np.logical_and(null_sum_df[0] > 0, null_sum_df[0] < i)]\n",
    "    bool_filter = temp_df[columns_df.index.values.tolist()].isnull().values.any(axis=1)\n",
    "    train_df_list[i] = temp_df[np.logical_not(bool_filter)].copy()\n",
    "    df_size = train_df_list[i].shape[0]\n",
    "    print(\"Resulting size of the Dataframe (factor = {:3}) = {}/{} (ratio = {:.2f}%)\".format(i,df_size,temp_df.shape[0],(df_size/temp_df.shape[0])*100))\n"
   ]
  },
  {
   "cell_type": "markdown",
   "metadata": {},
   "source": [
    "According to our previous test, if we drop all the lines where, in the corresponding columns, the number of empty cells are not null and below 400, we do remove around 200 lines, which is acceptable. Our Train dataframe should now take the value data_df_list[400].\n",
    "\n",
    "And finally, we remain with only one column containing null values: Lot Frontage\n",
    "\n",
    "> Note: Our global variable data_df must be rebuild using the data_df_list[400] train dataset."
   ]
  },
  {
   "cell_type": "code",
   "execution_count": 17,
   "metadata": {},
   "outputs": [
    {
     "name": "stdout",
     "output_type": "stream",
     "text": [
      "Updated data_df size: (2709, 87)\n",
      "Updated Train dataset size: (2209, 87)\n",
      "Test dataset size: (500, 87)\n"
     ]
    },
    {
     "data": {
      "text/html": [
       "<div>\n",
       "<style scoped>\n",
       "    .dataframe tbody tr th:only-of-type {\n",
       "        vertical-align: middle;\n",
       "    }\n",
       "\n",
       "    .dataframe tbody tr th {\n",
       "        vertical-align: top;\n",
       "    }\n",
       "\n",
       "    .dataframe thead th {\n",
       "        text-align: right;\n",
       "    }\n",
       "</style>\n",
       "<table border=\"1\" class=\"dataframe\">\n",
       "  <thead>\n",
       "    <tr style=\"text-align: right;\">\n",
       "      <th></th>\n",
       "      <th>0</th>\n",
       "    </tr>\n",
       "  </thead>\n",
       "  <tbody>\n",
       "    <tr>\n",
       "      <th>Lot Frontage</th>\n",
       "      <td>394</td>\n",
       "    </tr>\n",
       "    <tr>\n",
       "      <th>MS SubClass</th>\n",
       "      <td>0</td>\n",
       "    </tr>\n",
       "    <tr>\n",
       "      <th>Garage Type</th>\n",
       "      <td>0</td>\n",
       "    </tr>\n",
       "  </tbody>\n",
       "</table>\n",
       "</div>"
      ],
      "text/plain": [
       "                0\n",
       "Lot Frontage  394\n",
       "MS SubClass     0\n",
       "Garage Type     0"
      ]
     },
     "execution_count": 17,
     "metadata": {},
     "output_type": "execute_result"
    }
   ],
   "source": [
    "# Rebuild our global data_df variable using train_df_list[400] as new Train dataset\n",
    "concatTrainAndTestDataset(train_df_list[400],getTestDataset())\n",
    "\n",
    "# Control dataframes size\n",
    "print(\"Updated data_df size:\",data_df.shape)\n",
    "print(\"Updated Train dataset size:\",getTrainDataset().shape)\n",
    "print(\"Test dataset size:\",getTestDataset().shape)\n",
    "\n",
    "\n",
    "# Display columns with empty values, sorted descending, in our updated Train dataset\n",
    "# Ignore SalePrice as it is normal that we have null values in it (it's our test set)\n",
    "train_df_list[400].drop('SalePrice',axis=1).isnull().sum().to_frame().sort_values(0, ascending = False).head(3)\n",
    "\n"
   ]
  },
  {
   "cell_type": "markdown",
   "metadata": {},
   "source": [
    "Let's have a look at this column to determine what to do with empty cells.\n",
    "\n",
    "Best option at that time, draw an histogram graph.\n",
    "\n",
    "> Note: We will work on the Train subset by calling our getTrainDataset() function"
   ]
  },
  {
   "cell_type": "code",
   "execution_count": 18,
   "metadata": {},
   "outputs": [
    {
     "data": {
      "image/png": "[encoded data removed]",
      "text/plain": [
       "<Figure size 432x288 with 1 Axes>"
      ]
     },
     "metadata": {
      "needs_background": "light"
     },
     "output_type": "display_data"
    }
   ],
   "source": [
    "df = getTrainDataset()\n",
    "df['Lot Frontage'].plot.hist(bins=20)\n",
    "plt.show()\n"
   ]
  },
  {
   "cell_type": "markdown",
   "metadata": {},
   "source": [
    "Previous graph shows that we have some outliers in this columns, and most of the datapoints are centered on a value around 60.\n",
    "\n",
    "The approach we can choose to handle null values in this column is to replace them by the mean value of the column, without the outliers and null values. See below the new histogram and the mean value calculated. This value will be used to replace null values in that column."
   ]
  },
  {
   "cell_type": "code",
   "execution_count": 19,
   "metadata": {},
   "outputs": [
    {
     "name": "stdout",
     "output_type": "stream",
     "text": [
      "Mean value calculated with the reduced dataset: 68.79\n"
     ]
    },
    {
     "data": {
      "image/png": "[encoded data removed]",
      "text/plain": [
       "<Figure size 432x288 with 1 Axes>"
      ]
     },
     "metadata": {
      "needs_background": "light"
     },
     "output_type": "display_data"
    }
   ],
   "source": [
    "outliers_filter = np.logical_and(df['Lot Frontage'] < 150, df['Lot Frontage'] > 0)\n",
    "\n",
    "df['Lot Frontage'][outliers_filter].plot.hist(bins=20)\n",
    "mean_value = df['Lot Frontage'][outliers_filter].mean()\n",
    "print(\"Mean value calculated with the reduced dataset: {:.2f}\".format(mean_value))\n"
   ]
  },
  {
   "cell_type": "code",
   "execution_count": 20,
   "metadata": {},
   "outputs": [
    {
     "name": "stdout",
     "output_type": "stream",
     "text": [
      "Number of null value in Train dataframe: 394\n",
      "Global dataframe size: (2709, 87)\n",
      "Good :-)\n"
     ]
    }
   ],
   "source": [
    "# Replace null values in the global dataset (train and test) with the mean value calculated before with the train test\n",
    "data_df['Lot Frontage'] = data_df['Lot Frontage'].fillna(int(mean_value))\n",
    "\n",
    "# Rebuild our global data_df variable using train_df_list[400] as new Train dataset\n",
    "#data_df = pd.concat([df.copy(), getTestDataset().copy()], sort=False, ignore_index=True)\n",
    "\n",
    "\n",
    "print(\"Number of null value in Train dataframe:\", df.isnull().sum().sum())\n",
    "print(\"Global dataframe size:\", data_df.shape)\n",
    "print(\"Good :-)\")\n"
   ]
  },
  {
   "cell_type": "markdown",
   "metadata": {},
   "source": [
    "Fine. Our Train dataset has now 0 null values. It's time now to perform feature encoding and feature engineering \n",
    "\n",
    "Before that, let's classify columns in four categories using the documentation provided with the dataset. Goal is to build 4 list of column names, one for each type: continuous, nominal, ordinal and discrete."
   ]
  },
  {
   "cell_type": "code",
   "execution_count": 21,
   "metadata": {},
   "outputs": [
    {
     "name": "stdout",
     "output_type": "stream",
     "text": [
      "Number of column not classified: 12\n",
      "Column names: Alley Exists,Alley Type_Grvl,Alley Type_Pave,Fence Exists,Fireplace Exists,Fireplace Quality,Misc Feature_Elev,Misc Feature_Gar2,Misc Feature_Othr,Misc Feature_Shed,Misc Feature_TenC,Pool QC Exists\n",
      "Global Dataframe size: (2709, 87)\n"
     ]
    }
   ],
   "source": [
    "# Continuous variables\n",
    "continuous_column = [\n",
    "    '1st Flr SF', '2nd Flr SF', 'Lot Frontage', 'Lot Area', 'Mas Vnr Area', 'Bsmt Unf SF', 'BsmtFin SF 1', 'BsmtFin SF 2', 'Total Bsmt SF', 'Lot Frontage',\n",
    "    'Low Qual Fin SF', 'Gr Liv Area', 'Garage Area', '3Ssn Porch', 'Open Porch SF', 'Wood Deck SF', 'Pool Area', 'Screen Porch', 'Misc Val', 'Enclosed Porch',\n",
    "]\n",
    "\n",
    "# Nominal variables - no possible ordering\n",
    "nominal_column = [\n",
    "    'MS SubClass', 'MS Zoning', 'Street', 'Land Contour', 'Lot Config', 'Neighborhood', 'Condition 1', 'Condition 2', 'Bldg Type', 'House Style', 'Exterior 1st',\n",
    "    'Exterior 2nd', 'Roof Matl', 'Roof Style', 'Mas Vnr Type', 'Foundation', 'Heating', 'Central Air', 'Garage Type', 'Sale Condition', 'Sale Type', 'Street',\n",
    "]\n",
    "\n",
    "# Ordinal variables - you can order the categories\n",
    "ordinal_column =[\n",
    "    'Lot Shape', 'Land Slope', 'Overall Cond', 'Overall Qual', 'Exter Cond', 'Exter Qual', 'Bsmt Cond', 'Bsmt Qual', 'Bsmt Exposure', 'BsmtFin Type 1',\n",
    "    'BsmtFin Type 2', 'Heating QC', 'Electrical', 'Kitchen Qual', 'Functional', 'Garage Finish', 'Garage Cond', 'Garage Qual', 'Paved Drive', 'Utilities'\n",
    "]\n",
    "\n",
    "# Discrete variables - categories are integer values\n",
    "discrete_column = [\n",
    "    'Year Built', 'Year Remod/Add', 'Mo Sold', 'Yr Sold', 'Full Bath', 'Bsmt Full Bath', 'Bsmt Half Bath', 'Half Bath', 'TotRms AbvGrd', 'Fireplaces',\n",
    "    'Garage Yr Blt', 'Garage Cars', 'Bedroom AbvGr', 'Kitchen AbvGr',\n",
    "]\n",
    "\n",
    "\n",
    "y_column = [\n",
    " 'SalePrice',\n",
    "]\n",
    "\n",
    "# This trick should return the columns we've added to our dataset, number of these should be 12\n",
    "unclassified_columns = set(data_df.columns.values.tolist()) - set(continuous_column) - set(nominal_column) - set(ordinal_column) - set(discrete_column) - set(y_column) \n",
    "print(\"Number of column not classified:\",len(unclassified_columns))\n",
    "print(\"Column names:\",','.join(sorted(unclassified_columns)))\n",
    "print(\"Global Dataframe size:\", data_df.shape)\n"
   ]
  },
  {
   "cell_type": "markdown",
   "metadata": {},
   "source": [
    "## Feature encoding"
   ]
  },
  {
   "cell_type": "markdown",
   "metadata": {},
   "source": [
    "### Ordinal columns\n",
    "\n",
    "Let's consider first the ordinal columns, and convert them to numerical column for better model fitting, using our previous encodeOrdinalColumnToNumeric() function.\n",
    "\n",
    "Looking at some of those columns, we must perform some more data cleaning before converting them."
   ]
  },
  {
   "cell_type": "markdown",
   "metadata": {},
   "source": [
    "#### Basement\n",
    "\n",
    "Basement information are contained in 8 Bsmt* columns plus 'Total Bsmt SF'. 5 of them are ordinal:\n",
    "* Bsmt Cond\n",
    "* Bsmt Exposure\n",
    "* Bsmt Qual\n",
    "* BsmtFin Type 1\n",
    "* BsmtFin Type 2\n",
    "\n",
    "We will encode them as numerical column, which will remove null values, and build another column which states if the house has a basement. This new column will be based on the 'Total Bsml SF' column and will be 'one-hot' encoded.\n",
    "\n",
    "Before that, I do a small control to ensure that Total Bsmt SF = Bsmt 1 SF + Bsmt 2 SF + Basmt Unfinished SF"
   ]
  },
  {
   "cell_type": "code",
   "execution_count": 22,
   "metadata": {},
   "outputs": [
    {
     "name": "stdout",
     "output_type": "stream",
     "text": [
      "True    2709\n",
      "Name: Equal ?, dtype: int64\n",
      "No False result, equality between cells about Square Feet is respected\n"
     ]
    }
   ],
   "source": [
    "temp_df = data_df[['Total Bsmt SF','Bsmt Unf SF','Bsmt Cond','Bsmt Exposure','Bsmt Qual','BsmtFin Type 1','BsmtFin Type 2','BsmtFin SF 1','BsmtFin SF 2']].copy()\n",
    "temp_df['Sum'] = data_df['BsmtFin SF 1'] + data_df['BsmtFin SF 2'] + data_df['Bsmt Unf SF']\n",
    "temp_df['Equal ?'] = temp_df['Sum'] == temp_df['Total Bsmt SF']\n",
    "print(temp_df['Equal ?'].value_counts())\n",
    "print(\"No False result, equality between cells about Square Feet is respected\")"
   ]
  },
  {
   "cell_type": "markdown",
   "metadata": {},
   "source": [
    "One more thing is the ordinal value 'Unf' in 'BsmtFin Type 1' and 'BsmFin Type 2'. This value does not evaluate the quality of the basement but the fact that it is not finished.\n",
    "\n",
    "I will then create two new columns 'Bsmt Type 1 Exists' and 'Bsmt Type 2 Exists' with 1 or 0 value. Then, on the BsmtFin Type 1 & 2 column, I will replace 'Unf' values with 0."
   ]
  },
  {
   "cell_type": "code",
   "execution_count": 23,
   "metadata": {},
   "outputs": [
    {
     "name": "stdout",
     "output_type": "stream",
     "text": [
      "Doing a binary replacement on column Total Bsmt SF\n",
      "  New column name: Total Bsmt SF Exists\n",
      "Doing a binary replacement on column BsmtFin Type 1\n",
      "  New column name: BsmtFin Type 1 Exists\n",
      "Doing a binary replacement on column BsmtFin Type 2\n",
      "  New column name: BsmtFin Type 2 Exists\n",
      "Encoding column Bsmt Qual to numerical values\n",
      "  Column successfully encoded with numerical values\n",
      "  Values in column: [4. 3. 5. 2. 1. 0.]\n",
      "Encoding column Bsmt Cond to numerical values\n",
      "  Column successfully encoded with numerical values\n",
      "  Values in column: [3. 4. 2. 5. 1. 0.]\n",
      "Encoding column Bsmt Exposure to numerical values\n",
      "  Column successfully encoded with numerical values\n",
      "  Values in column: [1. 3. 2. 4. 0.]\n",
      "Encoding column BsmtFin Type 1 to numerical values\n",
      "  Column successfully encoded with numerical values\n",
      "  Values in column: [5. 0. 2. 1. 3. 4.]\n",
      "Encoding column BsmtFin Type 2 to numerical values\n",
      "  Column successfully encoded with numerical values\n",
      "  Values in column: [0. 1. 3. 2. 4. 5.]\n"
     ]
    }
   ],
   "source": [
    "# Create Basement Exists, Bsmt Type 1 & 2 Unf and one encode them\n",
    "# Be caareful to not flag them as to be deleted\n",
    "whereClauseReplacement('Total Bsmt SF', data_df['Total Bsmt SF'] == 0, true_value=0, false_value=1, drop_original_column=False)\n",
    "whereClauseReplacement('BsmtFin Type 1', data_df['BsmtFin Type 1'] == 'Unf', true_value=0, false_value=1, drop_original_column=False)\n",
    "whereClauseReplacement('BsmtFin Type 2', data_df['BsmtFin Type 2'] == 'Unf', true_value=0, false_value=1, drop_original_column=False)\n",
    "\n",
    "# Convert ordinal Bsmt columns to numerical\n",
    "mapping = {\n",
    "    'Bsmt Qual': { 'Ex': 5, 'Gd': 4, 'TA': 3, 'Fa': 2, 'Po': 1 },\n",
    "    'Bsmt Cond': { 'Ex': 5, 'Gd': 4, 'TA': 3, 'Fa': 2, 'Po': 1 },\n",
    "    'Bsmt Exposure': { 'Gd': 4, 'Av': 3, 'Mn': 2, 'No': 1 },\n",
    "    'BsmtFin Type 1': { 'GLQ': 5, 'ALQ': 4, 'BLQ': 3, 'Rec': 2, 'LwQ': 1, 'Unf': 0 },\n",
    "    'BsmtFin Type 2': { 'GLQ': 5, 'ALQ': 4, 'BLQ': 3, 'Rec': 2, 'LwQ': 1, 'Unf': 0 },\n",
    "}\n",
    "for c in mapping:\n",
    "    encodeLiteralToNumericValues(column=c, mapping=mapping[c], replacena=0)\n"
   ]
  },
  {
   "cell_type": "markdown",
   "metadata": {},
   "source": [
    "#### Utilities\n",
    "\n",
    "The 'Utilities' ordinal column is a bit special as all but three entries are identical. This let me think that this information mignt not be usefull to fit a model.\n",
    "\n",
    "Instead of dropping this columns, I would prefer to drop the three lines that are different from the rest. This will avoid having outliers in our train dataset for house sale prices as these three houses do not have all the basic utilities. Furthermode, a look at the test dataset shows that we do have only houses in this 500 lines dataset with all the Utilities. Loosing information on how much incomplete utilities can modify the sale price is useless here."
   ]
  },
  {
   "cell_type": "code",
   "execution_count": 24,
   "metadata": {},
   "outputs": [
    {
     "name": "stdout",
     "output_type": "stream",
     "text": [
      "Values in 'Utilities' column of the test dataset are unique and equal to 'AllPub':\n",
      "AllPub    500\n",
      "Name: Utilities, dtype: int64\n",
      "We can drop the 'Utilities' column from the train dataset and remove the three houses with Utiliies != 'AllPub'\n",
      "Columns flaged as 'to be removed': Utilities\n",
      "Size of the global Dataset: (2707, 90)\n"
     ]
    }
   ],
   "source": [
    "print(\"Values in 'Utilities' column of the test dataset are unique and equal to 'AllPub':\")\n",
    "print(getTestDataset()['Utilities'].value_counts())\n",
    "print(\"We can drop the 'Utilities' column from the train dataset and remove the three houses with Utiliies != 'AllPub'\")\n",
    "\n",
    "# Remove the three houses that do not have all the utilities\n",
    "# DO IT ON THE TRAIN DATASET ONLY\n",
    "train_df=getTrainDataset().copy()\n",
    "train_df=train_df[train_df['Utilities'] == 'AllPub']\n",
    "\n",
    "# Rebuild the global dataset\n",
    "concatTrainAndTestDataset(train_df, getTestDataset())\n",
    "\n",
    "addColumnToDropList(['Utilities'])\n",
    "\n",
    "print(\"Size of the global Dataset:\", data_df.shape)\n",
    "\n"
   ]
  },
  {
   "cell_type": "markdown",
   "metadata": {},
   "source": [
    "#### Garage\n",
    "\n",
    "Garage is nearly the same as for Basement. Some of the houses do not have garage.\n",
    "\n",
    "Best way shoulod be to create a new column 'Has Garage' and convert ordinal Garage columns to numerical values.\n",
    "\n"
   ]
  },
  {
   "cell_type": "code",
   "execution_count": 25,
   "metadata": {},
   "outputs": [
    {
     "name": "stdout",
     "output_type": "stream",
     "text": [
      "Doing a binary replacement on column Garage Area\n",
      "  New column name: Garage Area Exists\n",
      "Encoding column Garage Finish to numerical values\n",
      "  Column successfully encoded with numerical values\n",
      "  Values in column: [3. 1. 2. 0.]\n",
      "Encoding column Garage Qual to numerical values\n",
      "  Column successfully encoded with numerical values\n",
      "  Values in column: [3. 2. 4. 5. 1. 0.]\n",
      "Encoding column Garage Cond to numerical values\n",
      "  Column successfully encoded with numerical values\n",
      "  Values in column: [3. 2. 4. 5. 1. 0.]\n"
     ]
    }
   ],
   "source": [
    "# Create Garage Area Exists and one encode it (do not forget test_df)\n",
    "whereClauseReplacement('Garage Area', data_df['Garage Area'] == 0, true_value=0, false_value=1, drop_original_column=False)\n",
    "\n",
    "# Convert ordinal Garage columns to numerical\n",
    "mapping = {\n",
    "    'Garage Finish': {'Fin': 3, 'RFn': 2, 'Unf': 1 },\n",
    "    'Garage Qual': { 'Ex': 5, 'Gd': 4, 'TA': 3, 'Fa': 2, 'Po': 1 },\n",
    "    'Garage Cond': { 'Ex': 5, 'Gd': 4, 'TA': 3, 'Fa': 2, 'Po': 1 },\n",
    "}\n",
    "\n",
    "for c in mapping:\n",
    "    encodeLiteralToNumericValues(column=c, mapping=mapping[c], replacena=0)"
   ]
  },
  {
   "cell_type": "markdown",
   "metadata": {},
   "source": [
    "#### Remaining ordinal columns\n",
    "\n",
    "The remaining ordinal columns are simply re-encoded using numerical values, except for 'Overall Cond' and 'Overall Qual' as those two columns are already ordinal ones with numeric values.\n"
   ]
  },
  {
   "cell_type": "code",
   "execution_count": 26,
   "metadata": {},
   "outputs": [
    {
     "name": "stdout",
     "output_type": "stream",
     "text": [
      "Encoding column Electrical to numerical values\n",
      "  Column successfully encoded with numerical values\n",
      "  Values in column: [5 3 4 2 1]\n",
      "Encoding column Exter Cond to numerical values\n",
      "  Column successfully encoded with numerical values\n",
      "  Values in column: [3 4 2 5 1]\n",
      "Encoding column Exter Qual to numerical values\n",
      "  Column successfully encoded with numerical values\n",
      "  Values in column: [4 3 2 5]\n",
      "Encoding column Functional to numerical values\n",
      "  Column successfully encoded with numerical values\n",
      "  Values in column: [8 5 4 6 7 3 2 0]\n",
      "Encoding column Heating QC to numerical values\n",
      "  Column successfully encoded with numerical values\n",
      "  Values in column: [5 3 2 4 1]\n",
      "Encoding column Kitchen Qual to numerical values\n",
      "  Column successfully encoded with numerical values\n",
      "  Values in column: [4 3 5 2 1]\n",
      "Encoding column Land Slope to numerical values\n",
      "  Column successfully encoded with numerical values\n",
      "  Values in column: [3 2 1]\n",
      "Encoding column Lot Shape to numerical values\n",
      "  Column successfully encoded with numerical values\n",
      "  Values in column: [3 4 2 1]\n",
      "Encoding column Paved Drive to numerical values\n",
      "  Column successfully encoded with numerical values\n",
      "  Values in column: [3 1 2]\n"
     ]
    }
   ],
   "source": [
    "mapping = {\n",
    "    'Electrical': { 'SBrkr': 5, 'FuseA': 4,'FuseF': 3,'FuseP': 2, 'Mix': 1 },\n",
    "    'Exter Cond': { 'Ex': 5, 'Gd': 4, 'TA': 3, 'Fa': 2, 'Po': 1 },\n",
    "    'Exter Qual': { 'Ex': 5, 'Gd': 4, 'TA': 3, 'Fa': 2, 'Po': 1 },\n",
    "    'Functional': { 'Typ': 8, 'Min1': 7, 'Min2': 6, 'Mod': 5, 'Maj1': 4, 'Maj2': 3, 'Sev': 2, 'Sal': 0 },\n",
    "    'Heating QC': { 'Ex': 5, 'Gd': 4, 'TA': 3, 'Fa': 2, 'Po': 1 },\n",
    "    'Kitchen Qual': { 'Ex': 5, 'Gd': 4, 'TA': 3, 'Fa': 2, 'Po': 1 },\n",
    "    'Land Slope': { 'Gtl': 3, 'Mod': 2, 'Sev': 1 },\n",
    "    'Lot Shape': { 'Reg': 4, 'IR1': 3, 'IR2': 2, 'IR3': 1 },\n",
    "    'Paved Drive': { 'Y': 3, 'P': 2, 'N': 1 },\n",
    "}\n",
    "\n",
    "for c in mapping:\n",
    "    encodeLiteralToNumericValues(column=c, mapping=mapping[c], replacena=0)\n"
   ]
  },
  {
   "cell_type": "markdown",
   "metadata": {},
   "source": [
    "#### Clean up\n",
    "\n",
    "Now that all our ordinal column have been transformed and/or re-encoded, let's drop and one-hot encode the columns and check that our ordinal columns of our dataframe are all dtype = int64"
   ]
  },
  {
   "cell_type": "code",
   "execution_count": 27,
   "metadata": {},
   "outputs": [
    {
     "name": "stdout",
     "output_type": "stream",
     "text": [
      "Size of the dataframe BEFORE applying one-hot encoding: (2707, 91)\n",
      "Size of the dataframe AFTER applying one-hot encoding: (2707, 91)\n",
      "  Drop columns: {'Utilities'}\n",
      "Size of the dataframe AFTER dropping column and applying one-hot encoding: (2707, 90)\n",
      "dtypes of the ordinal columns:\n"
     ]
    },
    {
     "data": {
      "text/plain": [
       "Lot Shape         int64\n",
       "Land Slope        int64\n",
       "Overall Cond      int64\n",
       "Overall Qual      int64\n",
       "Exter Cond        int64\n",
       "Exter Qual        int64\n",
       "Bsmt Cond         int64\n",
       "Bsmt Qual         int64\n",
       "Bsmt Exposure     int64\n",
       "BsmtFin Type 1    int64\n",
       "BsmtFin Type 2    int64\n",
       "Heating QC        int64\n",
       "Electrical        int64\n",
       "Kitchen Qual      int64\n",
       "Functional        int64\n",
       "Garage Finish     int64\n",
       "Garage Cond       int64\n",
       "Garage Qual       int64\n",
       "Paved Drive       int64\n",
       "dtype: object"
      ]
     },
     "execution_count": 27,
     "metadata": {},
     "output_type": "execute_result"
    }
   ],
   "source": [
    "dropAndEncode()\n",
    "\n",
    "# Remove 'Utilities' column from the ordinal_column list\n",
    "if 'Utilities' in ordinal_column:\n",
    "    ordinal_column.remove('Utilities')\n",
    "\n",
    "print(\"dtypes of the ordinal columns:\")\n",
    "data_df[ordinal_column].dtypes\n"
   ]
  },
  {
   "cell_type": "markdown",
   "metadata": {},
   "source": [
    "### Nominal columns"
   ]
  },
  {
   "cell_type": "markdown",
   "metadata": {},
   "source": [
    "Regarding nominal columns, option is very simple. We must perform one-hot encoding on each to get numeric columns."
   ]
  },
  {
   "cell_type": "code",
   "execution_count": 28,
   "metadata": {},
   "outputs": [
    {
     "name": "stdout",
     "output_type": "stream",
     "text": [
      "Columns flaged as 'to be one-hot encoded': MS SubClass,Lot Config,Sale Type,Roof Style,Neighborhood,Bldg Type,House Style,Foundation,Condition 1,Exterior 2nd,Central Air,Sale Condition,Heating,Land Contour,Exterior 1st,Street,Mas Vnr Type,Roof Matl,Condition 2,MS Zoning,Garage Type\n",
      "Size of the dataframe BEFORE applying one-hot encoding: (2707, 90)\n",
      "  Do 'one-hot' encoding on: {'MS SubClass', 'Lot Config', 'Sale Type', 'Roof Style', 'Neighborhood', 'Bldg Type', 'House Style', 'Foundation', 'Condition 1', 'Exterior 2nd', 'Central Air', 'Sale Condition', 'Heating', 'Land Contour', 'Exterior 1st', 'Street', 'Mas Vnr Type', 'Roof Matl', 'Condition 2', 'MS Zoning', 'Garage Type'}\n",
      "Size of the dataframe AFTER applying one-hot encoding: (2707, 244)\n",
      "Size of the dataframe AFTER dropping column and applying one-hot encoding: (2707, 244)\n"
     ]
    }
   ],
   "source": [
    "addColumnToOneHotEncoding(nominal_column)\n",
    "dropAndEncode()\n"
   ]
  },
  {
   "cell_type": "code",
   "execution_count": 29,
   "metadata": {},
   "outputs": [
    {
     "name": "stdout",
     "output_type": "stream",
     "text": [
      "Size of the current dataframe: (2707, 244)\n"
     ]
    }
   ],
   "source": [
    "print(\"Size of the current dataframe:\", data_df.shape)\n"
   ]
  },
  {
   "cell_type": "markdown",
   "metadata": {},
   "source": [
    "At that point, number of features of our dataset has increased to 242 element (243 minus our result vector)\n",
    "\n",
    "Good :-)"
   ]
  },
  {
   "cell_type": "markdown",
   "metadata": {},
   "source": [
    "### Discrete columns\n",
    "\n",
    "Not so much to do with the discrete columns as they are globaly clean (they looks like ordinal columns) except for columns concerning dates.\n"
   ]
  },
  {
   "cell_type": "code",
   "execution_count": 30,
   "metadata": {},
   "outputs": [
    {
     "name": "stdout",
     "output_type": "stream",
     "text": [
      "Bedroom AbvGr :\t [0, 1, 2, 3, 4, 5, 6]\n",
      "Bsmt Full Bath :\t [0.0, 1.0, 2.0]\n",
      "Bsmt Half Bath :\t [0.0, 1.0, 2.0]\n",
      "Fireplaces :\t [0, 1, 2, 3, 4]\n",
      "Full Bath :\t [0, 1, 2, 3, 4]\n",
      "Garage Cars :\t [0.0, 1.0, 2.0, 3.0, 4.0, 5.0]\n",
      "Garage Yr Blt :\t [1895.0, 1896.0, 1900.0, 1906.0, 1908.0, 1910.0, 1914.0, 1915.0, 1916.0, 1917.0, 1918.0, 1919.0, 1920.0, 1921.0, 1922.0, 1923.0, 1924.0, 1925.0, 1926.0, 1927.0, 1928.0, 1929.0, 1930.0, 1931.0, 1932.0, 1933.0, 1934.0, 1935.0, 1936.0, 1937.0, 1938.0, 1939.0, 1940.0, 1941.0, 1942.0, 1943.0, 1945.0, 1946.0, 1947.0, 1948.0, 1949.0, 1950.0, 1951.0, 1952.0, 1953.0, 1954.0, 1955.0, 1956.0, 1957.0, 1958.0, 1959.0, 1960.0, 1961.0, 1962.0, 1963.0, 1964.0, 1965.0, 1966.0, 1967.0, 1968.0, 1969.0, 1970.0, 1971.0, 1972.0, 1973.0, 1974.0, 1975.0, 1976.0, 1977.0, 1978.0, 1979.0, 1980.0, 1981.0, 1982.0, 1983.0, 1984.0, 1985.0, 1986.0, 1987.0, 1988.0, 1989.0, 1990.0, 1991.0, 1992.0, 1993.0, 1994.0, 1995.0, 1996.0, 1997.0, 1998.0, 1999.0, 2000.0, 2001.0, 2002.0, 2003.0, 2004.0, 2005.0, 2006.0, 2007.0, 2008.0, 2009.0, 2010.0, nan]\n",
      "Half Bath :\t [0, 1, 2]\n",
      "Kitchen AbvGr :\t [0, 1, 2, 3]\n",
      "Mo Sold :\t [1, 2, 3, 4, 5, 6, 7, 8, 9, 10, 11, 12]\n",
      "TotRms AbvGrd :\t [3, 4, 5, 6, 7, 8, 9, 10, 11, 12, 13, 15]\n",
      "Year Built :\t [1872, 1879, 1880, 1882, 1885, 1890, 1892, 1893, 1895, 1896, 1898, 1900, 1901, 1904, 1905, 1906, 1908, 1910, 1912, 1913, 1914, 1915, 1916, 1917, 1918, 1919, 1920, 1921, 1922, 1923, 1924, 1925, 1926, 1927, 1928, 1929, 1930, 1931, 1932, 1934, 1935, 1936, 1937, 1938, 1939, 1940, 1941, 1942, 1945, 1946, 1947, 1948, 1949, 1950, 1951, 1952, 1953, 1954, 1955, 1956, 1957, 1958, 1959, 1960, 1961, 1962, 1963, 1964, 1965, 1966, 1967, 1968, 1969, 1970, 1971, 1972, 1973, 1974, 1975, 1976, 1977, 1978, 1979, 1980, 1981, 1982, 1983, 1984, 1985, 1986, 1987, 1988, 1989, 1990, 1991, 1992, 1993, 1994, 1995, 1996, 1997, 1998, 1999, 2000, 2001, 2002, 2003, 2004, 2005, 2006, 2007, 2008, 2009, 2010]\n",
      "Year Remod/Add :\t [1950, 1951, 1952, 1953, 1954, 1955, 1956, 1957, 1958, 1959, 1960, 1961, 1962, 1963, 1964, 1965, 1966, 1967, 1968, 1969, 1970, 1971, 1972, 1973, 1974, 1975, 1976, 1977, 1978, 1979, 1980, 1981, 1982, 1983, 1984, 1985, 1986, 1987, 1988, 1989, 1990, 1991, 1992, 1993, 1994, 1995, 1996, 1997, 1998, 1999, 2000, 2001, 2002, 2003, 2004, 2005, 2006, 2007, 2008, 2009, 2010]\n",
      "Yr Sold :\t [2006, 2007, 2008, 2009, 2010]\n"
     ]
    }
   ],
   "source": [
    "for c in sorted(discrete_column):\n",
    "    print(c,\":\\t\",sorted(data_df[c].unique()))"
   ]
  },
  {
   "cell_type": "markdown",
   "metadata": {},
   "source": [
    "We have five interesting columns here:\n",
    "* Mo Sold: Month in the year when the house has been sold\n",
    "* Yr Sold: Year when the house has been sold\n",
    "* Garage Yr Blt: The year when the garage has been built\n",
    "* Year Built: Year of construction of the houses\n",
    "* Year Remod/Add: Year when the house has been remodeled (same as construction date if no remodeling or additions)\n",
    "\n"
   ]
  },
  {
   "cell_type": "markdown",
   "metadata": {},
   "source": [
    "#### Garage Yr Blt, Year Built and Year Remod/Add\n",
    "\n",
    "##### Clean inconsistencies\n",
    "\n",
    "First of all, we must check if all the dates between those columns are coherent between them, and against the Yr Sold value:\n",
    "* Do we have houses sold before being built ?\n",
    "* Do we have houses remoded before being built ?\n",
    "* Do we have garage built after the house has been sold ?\n",
    "\n",
    "Secondly, when this clean up is complete, we can use those columns to create new nominal one:\n",
    "\n",
    "* Does the house have been sold as a new one ?\n",
    "* Does the house have beem remoded ?\n",
    "* Does the Garage have been built at the same time of the house ?\n"
   ]
  },
  {
   "cell_type": "markdown",
   "metadata": {},
   "source": [
    "Let's define some boolean arrays to seek incoherence in dates.\n",
    "\n",
    "> Note: This cleaning is done accross the whole dataset (Train + Test) as corrected values for each cell is taken with the same row of the cell."
   ]
  },
  {
   "cell_type": "code",
   "execution_count": 31,
   "metadata": {},
   "outputs": [
    {
     "name": "stdout",
     "output_type": "stream",
     "text": [
      "Columns flaged as 'to be removed': house remoded age,garage delay,house sold age\n"
     ]
    }
   ],
   "source": [
    "build=data_df['Year Built']\n",
    "renov=data_df['Year Remod/Add']\n",
    "sold=data_df['Yr Sold']\n",
    "garage=data_df['Garage Yr Blt']\n",
    "\n",
    "# Build columns with year delta\n",
    "data_df['house sold age'] = sold-build # Year between build and sold\n",
    "data_df['house remoded age'] = renov-build # Year between remoded and build\n",
    "data_df['garage delay'] = garage-build # Yesar between garage build and house build\n",
    "\n",
    "# Add those temprorary columns to deletion list\n",
    "addColumnToDropList(['house sold age', 'house remoded age', 'garage delay'])"
   ]
  },
  {
   "cell_type": "markdown",
   "metadata": {},
   "source": [
    "Draw histogram of the three previously created columns."
   ]
  },
  {
   "cell_type": "code",
   "execution_count": 32,
   "metadata": {},
   "outputs": [
    {
     "data": {
      "image/png": "[encoded data removed]",
      "text/plain": [
       "<Figure size 432x288 with 1 Axes>"
      ]
     },
     "metadata": {
      "needs_background": "light"
     },
     "output_type": "display_data"
    },
    {
     "data": {
      "image/png": "[encoded data removed]",
      "text/plain": [
       "<Figure size 432x288 with 1 Axes>"
      ]
     },
     "metadata": {
      "needs_background": "light"
     },
     "output_type": "display_data"
    },
    {
     "data": {
      "image/png": "[encoded data removed]",
      "text/plain": [
       "<Figure size 432x288 with 1 Axes>"
      ]
     },
     "metadata": {
      "needs_background": "light"
     },
     "output_type": "display_data"
    }
   ],
   "source": [
    "for c in ['house sold age', 'house remoded age', 'garage delay']:\n",
    "    data_df[c].plot.hist(bins=20)\n",
    "    plt.title(c)\n",
    "    plt.show()\n"
   ]
  },
  {
   "cell_type": "markdown",
   "metadata": {},
   "source": [
    "Previous histogram shows that most of the garage have been build the same year as the house itself, and most of the houses have never been remoded.\n",
    "\n",
    "Using those columns, we will seek for inconsistencies:"
   ]
  },
  {
   "cell_type": "code",
   "execution_count": 33,
   "metadata": {},
   "outputs": [
    {
     "name": "stdout",
     "output_type": "stream",
     "text": [
      "Number of insistencies found for house sold age: 1\n",
      "    Year Built  Yr Sold  Year Remod/Add  Garage Yr Blt  house sold age\n",
      "66        2008     2007            2009         2008.0              -1\n",
      "Number of insistencies found for house remoded age: 1\n",
      "      Year Built  Yr Sold  Year Remod/Add  Garage Yr Blt  house remoded age\n",
      "2389        2002     2009            2001         2002.0                 -1\n",
      "Number of insistencies found for garage delay: 17\n",
      "      Year Built  Yr Sold  Year Remod/Add  Garage Yr Blt  garage delay\n",
      "124         1963     2008            1963         1962.0          -1.0\n",
      "137         1935     2009            1950         1926.0          -9.0\n",
      "293         1978     2009            1978         1960.0         -18.0\n",
      "370         1927     2008            1950         1920.0          -7.0\n",
      "935         1959     2006            1959         1954.0          -5.0\n",
      "1157        1935     2009            1998         1920.0         -15.0\n",
      "1190        1959     2010            1959         1956.0          -3.0\n",
      "1326        2006     2007            2007         2005.0          -1.0\n",
      "1335        2006     2007            2006         2005.0          -1.0\n",
      "1381        1910     2007            1998         1900.0         -10.0\n",
      "1391        1923     2008            2000         1922.0          -1.0\n",
      "1504        1930     2008            1950         1925.0          -5.0\n",
      "1720        2005     2006            2005         2003.0          -2.0\n",
      "1870        1941     2009            1950         1940.0          -1.0\n",
      "1918        1967     2010            2007         1961.0          -6.0\n",
      "2432        2010     2010            2010         2009.0          -1.0\n",
      "2638        1945     2008            1995         1925.0         -20.0\n"
     ]
    }
   ],
   "source": [
    "# Seek for inconsistencies\n",
    "\n",
    "# ['house sold age']    < 0   # house sold before being built\n",
    "# ['house remoded age'] < 0   # House remoded before being built\n",
    "# ['garage delay']      < 0   # Garage built before the house\n",
    "\n",
    "for c in ['house sold age', 'house remoded age', 'garage delay']:\n",
    "    # Get boolean array of inconsistent rows\n",
    "    filter=data_df[c] < 0\n",
    "    print(\"Number of insistencies found for {}: {}\".format(c,data_df[filter].shape[0]))\n",
    "    print(data_df[filter][['Year Built', 'Yr Sold', 'Year Remod/Add',  'Garage Yr Blt', c]])\n"
   ]
  },
  {
   "cell_type": "markdown",
   "metadata": {},
   "source": [
    "Not so much inconsistencies. The quicker solution is to replace invalid dates by a more coherent one:\n",
    "* When house is sold before being built, replace sold year by built year\n",
    "* When house is remoded before being built, replace remod year by sold year\n",
    "* When garage is built before the house, replace the garage built year by the house built year\n",
    "\n",
    "To do so, the trick is very simple. Substract the delta identified to the incoherent value. For example, set 'Yr Sold' = 'Yr Sold' - 'house sold age'\n"
   ]
  },
  {
   "cell_type": "code",
   "execution_count": 34,
   "metadata": {},
   "outputs": [
    {
     "name": "stdout",
     "output_type": "stream",
     "text": [
      "Modify inconsistencies for house sold age\n",
      "Modify inconsistencies for house remoded age\n",
      "Modify inconsistencies for garage delay\n",
      "Number of inconsistencies found for house sold age: 0\n",
      "Empty DataFrame\n",
      "Columns: [Year Built, Yr Sold, Year Remod/Add, Garage Yr Blt, house sold age]\n",
      "Index: []\n",
      "Number of inconsistencies found for house remoded age: 0\n",
      "Empty DataFrame\n",
      "Columns: [Year Built, Yr Sold, Year Remod/Add, Garage Yr Blt, house remoded age]\n",
      "Index: []\n",
      "Number of inconsistencies found for garage delay: 0\n",
      "Empty DataFrame\n",
      "Columns: [Year Built, Yr Sold, Year Remod/Add, Garage Yr Blt, garage delay]\n",
      "Index: []\n"
     ]
    }
   ],
   "source": [
    "for c, wrong_c in zip(['house sold age', 'house remoded age', 'garage delay'], ['Yr Sold', 'Year Remod/Add',  'Garage Yr Blt']):\n",
    "    # Get boolean array of inconsistent rows\n",
    "    filter=data_df[c] < 0\n",
    "    print(\"Modify inconsistencies for {}\".format(c))\n",
    "    for i in data_df[filter].index:\n",
    "        new_value = str(data_df.loc[i,wrong_c] - data_df.loc[i,c])\n",
    "        data_df.at[i,wrong_c]=new_value\n",
    "\n",
    "# Re-check inconsistencies after those modifications\n",
    "# If everything is OK, we must not obtain any row\n",
    "build=data_df['Year Built']\n",
    "renov=data_df['Year Remod/Add']\n",
    "sold=data_df['Yr Sold']\n",
    "garage=data_df['Garage Yr Blt']\n",
    "# Build columns with year delta\n",
    "data_df['house sold age'] = sold-build # Year between build and sold\n",
    "data_df['house remoded age'] = renov-build # Year between remoded and build\n",
    "data_df['garage delay'] = garage-build # Yesar between garage build and house build        \n",
    "\n",
    "for c in ['house sold age', 'house remoded age', 'garage delay']:\n",
    "    # Get boolean array of inconsistent rows\n",
    "    filter=data_df[c] < 0\n",
    "    print(\"Number of inconsistencies found for {}: {}\".format(c,data_df[filter].shape[0]))\n",
    "    print(data_df[filter][['Year Built', 'Yr Sold', 'Year Remod/Add',  'Garage Yr Blt', c]])"
   ]
  },
  {
   "cell_type": "markdown",
   "metadata": {},
   "source": [
    "##### New house nominal column\n",
    "\n",
    "To improve our feature, we can create a new nominal column that will have 0/1 values in it, 1 meaning that the house has been solded as a new house ('Year Sold' - 'Year Build' == 0). We can use the proviously built boolean array data_df['house sold age'] to identify new house. If equal to 0, then the house has been solded as a new one.\n",
    "\n"
   ]
  },
  {
   "cell_type": "code",
   "execution_count": 35,
   "metadata": {},
   "outputs": [
    {
     "name": "stdout",
     "output_type": "stream",
     "text": [
      "Doing a binary replacement on column House New\n",
      "  New column name: House New\n"
     ]
    }
   ],
   "source": [
    "# Add a empty column\n",
    "data_df['House New'] = np.nan\n",
    "\n",
    "# and use our function to build a nominal column\n",
    "whereClauseReplacement('House New', data_df['house sold age'] == 0, true_value=1, false_value=0, suffix='', drop_original_column=False)\n"
   ]
  },
  {
   "cell_type": "markdown",
   "metadata": {},
   "source": [
    "#### Mo Sold\n",
    "\n",
    "Looking at the distribution of the values of the 'Mo Sold' column in the dataset demonstrates that the summer monthes gets more sales, and at the same time, correlation between 'Mo Sold' and 'SalePrice' is very low.\n",
    "\n",
    "Let's keep this column as is."
   ]
  },
  {
   "cell_type": "code",
   "execution_count": 36,
   "metadata": {},
   "outputs": [
    {
     "name": "stdout",
     "output_type": "stream",
     "text": [
      "Correlation between 'Mo Sold' and 'SalePrice': 0.02\n"
     ]
    },
    {
     "data": {
      "image/png": "[encoded data removed]",
      "text/plain": [
       "<Figure size 432x288 with 1 Axes>"
      ]
     },
     "metadata": {
      "needs_background": "light"
     },
     "output_type": "display_data"
    }
   ],
   "source": [
    "print(\"Correlation between 'Mo Sold' and 'SalePrice': {:.2f}\".format(getTrainDataset()['Mo Sold'].corr(train_df['SalePrice'])))\n",
    "getTrainDataset()['Mo Sold'].plot.hist(bins=20)\n",
    "plt.title(\"Distribution of 'Mo Sold' values\")\n",
    "plt.show()"
   ]
  },
  {
   "cell_type": "markdown",
   "metadata": {},
   "source": [
    "#### Yr Sold"
   ]
  },
  {
   "cell_type": "markdown",
   "metadata": {},
   "source": [
    "Firstly, I though this column won't be relevant as the number of unique values is 5, years from 2006 to 2010.\n",
    "\n",
    "But, one thing that might be interesting is that 2008 is the 'Subprime crisis' start, with huge effect on the real estate market in the subsequent years\n",
    "\n",
    "If we look at the number of sales over the five years, we can clearly see a drop of the number of sales by 50% in 2010.\n"
   ]
  },
  {
   "cell_type": "code",
   "execution_count": 37,
   "metadata": {},
   "outputs": [
    {
     "data": {
      "text/html": [
       "<div>\n",
       "<style scoped>\n",
       "    .dataframe tbody tr th:only-of-type {\n",
       "        vertical-align: middle;\n",
       "    }\n",
       "\n",
       "    .dataframe tbody tr th {\n",
       "        vertical-align: top;\n",
       "    }\n",
       "\n",
       "    .dataframe thead th {\n",
       "        text-align: right;\n",
       "    }\n",
       "</style>\n",
       "<table border=\"1\" class=\"dataframe\">\n",
       "  <thead>\n",
       "    <tr style=\"text-align: right;\">\n",
       "      <th></th>\n",
       "      <th>Mo Sold</th>\n",
       "    </tr>\n",
       "    <tr>\n",
       "      <th>Yr Sold</th>\n",
       "      <th></th>\n",
       "    </tr>\n",
       "  </thead>\n",
       "  <tbody>\n",
       "    <tr>\n",
       "      <th>2006</th>\n",
       "      <td>474</td>\n",
       "    </tr>\n",
       "    <tr>\n",
       "      <th>2007</th>\n",
       "      <td>534</td>\n",
       "    </tr>\n",
       "    <tr>\n",
       "      <th>2008</th>\n",
       "      <td>475</td>\n",
       "    </tr>\n",
       "    <tr>\n",
       "      <th>2009</th>\n",
       "      <td>467</td>\n",
       "    </tr>\n",
       "    <tr>\n",
       "      <th>2010</th>\n",
       "      <td>257</td>\n",
       "    </tr>\n",
       "  </tbody>\n",
       "</table>\n",
       "</div>"
      ],
      "text/plain": [
       "         Mo Sold\n",
       "Yr Sold         \n",
       "2006         474\n",
       "2007         534\n",
       "2008         475\n",
       "2009         467\n",
       "2010         257"
      ]
     },
     "execution_count": 37,
     "metadata": {},
     "output_type": "execute_result"
    }
   ],
   "source": [
    "getTrainDataset()[['Yr Sold','Mo Sold']].groupby('Yr Sold').count()"
   ]
  },
  {
   "cell_type": "code",
   "execution_count": 38,
   "metadata": {},
   "outputs": [
    {
     "data": {
      "image/png": "[encoded data removed]",
      "text/plain": [
       "<Figure size 432x288 with 1 Axes>"
      ]
     },
     "metadata": {
      "needs_background": "light"
     },
     "output_type": "display_data"
    }
   ],
   "source": [
    "getTrainDataset()['Yr Sold'].plot.hist(bins=9)\n",
    "plt.xticks([2006.2,2007.1,2008,2008.9,2009.8],labels=['2006','2007','2008','2009','2010'])\n",
    "plt.xlabel(\"Year\")\n",
    "plt.plot((2006,2010),(257,257), c='red')\n",
    "plt.show()"
   ]
  },
  {
   "cell_type": "markdown",
   "metadata": {},
   "source": [
    "Will this have an impact on our model fitting process ? I dont know.\n",
    "\n",
    "For the moment, let it that way.\n"
   ]
  },
  {
   "cell_type": "markdown",
   "metadata": {},
   "source": [
    "#### Last check on Discrete columns\n",
    "\n",
    "It's now time to call our dropAndEncode() function and check the dataframe for null cell values."
   ]
  },
  {
   "cell_type": "code",
   "execution_count": 39,
   "metadata": {},
   "outputs": [
    {
     "name": "stdout",
     "output_type": "stream",
     "text": [
      "Size of the dataframe BEFORE applying one-hot encoding: (2707, 248)\n",
      "Size of the dataframe AFTER applying one-hot encoding: (2707, 248)\n",
      "  Drop columns: {'house remoded age', 'garage delay', 'house sold age'}\n",
      "Size of the dataframe AFTER dropping column and applying one-hot encoding: (2707, 245)\n"
     ]
    },
    {
     "data": {
      "text/plain": [
       "Garage Yr Blt        21\n",
       "Mas Vnr Area          3\n",
       "House New             0\n",
       "MS SubClass_80        0\n",
       "Lot Config_Inside     0\n",
       "dtype: int64"
      ]
     },
     "execution_count": 39,
     "metadata": {},
     "output_type": "execute_result"
    }
   ],
   "source": [
    "dropAndEncode()\n",
    "\n",
    "# Is there any null values, except in the 'SalePrice' columns ?\n",
    "data_df.drop(['SalePrice'], axis=1).isnull().sum().sort_values(ascending=False).head(5)"
   ]
  },
  {
   "cell_type": "markdown",
   "metadata": {},
   "source": [
    "Ok. We remain with two columns with null cells values: 'Garage Yr Blt' and 'Mas Vnr Area'. The second one is a continuous value column and will be handled below in this Notebook.\n",
    "\n",
    "The 'Garage Yr Blt' column is one of the discrete column we've managed above. Why do we have null values ?\n",
    "Simply because when we've built our filter to seek for inconsistencies, null cell values where missed.\n",
    "\n",
    "Looking more precisely to those null cells values, we will find that they are all contained in the Test dataset:\n"
   ]
  },
  {
   "cell_type": "code",
   "execution_count": 40,
   "metadata": {},
   "outputs": [
    {
     "data": {
      "text/html": [
       "<div>\n",
       "<style scoped>\n",
       "    .dataframe tbody tr th:only-of-type {\n",
       "        vertical-align: middle;\n",
       "    }\n",
       "\n",
       "    .dataframe tbody tr th {\n",
       "        vertical-align: top;\n",
       "    }\n",
       "\n",
       "    .dataframe thead th {\n",
       "        text-align: right;\n",
       "    }\n",
       "</style>\n",
       "<table border=\"1\" class=\"dataframe\">\n",
       "  <thead>\n",
       "    <tr style=\"text-align: right;\">\n",
       "      <th></th>\n",
       "      <th>Yr Sold</th>\n",
       "      <th>Year Built</th>\n",
       "      <th>Year Remod/Add</th>\n",
       "      <th>Garage Yr Blt</th>\n",
       "    </tr>\n",
       "  </thead>\n",
       "  <tbody>\n",
       "    <tr>\n",
       "      <th>2213</th>\n",
       "      <td>2009</td>\n",
       "      <td>1900</td>\n",
       "      <td>1950</td>\n",
       "      <td>NaN</td>\n",
       "    </tr>\n",
       "    <tr>\n",
       "      <th>2265</th>\n",
       "      <td>2006</td>\n",
       "      <td>1970</td>\n",
       "      <td>1970</td>\n",
       "      <td>NaN</td>\n",
       "    </tr>\n",
       "    <tr>\n",
       "      <th>2269</th>\n",
       "      <td>2007</td>\n",
       "      <td>1946</td>\n",
       "      <td>1950</td>\n",
       "      <td>NaN</td>\n",
       "    </tr>\n",
       "    <tr>\n",
       "      <th>2270</th>\n",
       "      <td>2010</td>\n",
       "      <td>1968</td>\n",
       "      <td>1968</td>\n",
       "      <td>NaN</td>\n",
       "    </tr>\n",
       "    <tr>\n",
       "      <th>2288</th>\n",
       "      <td>2008</td>\n",
       "      <td>1925</td>\n",
       "      <td>1950</td>\n",
       "      <td>NaN</td>\n",
       "    </tr>\n",
       "    <tr>\n",
       "      <th>2308</th>\n",
       "      <td>2007</td>\n",
       "      <td>1955</td>\n",
       "      <td>1955</td>\n",
       "      <td>NaN</td>\n",
       "    </tr>\n",
       "    <tr>\n",
       "      <th>2309</th>\n",
       "      <td>2006</td>\n",
       "      <td>1951</td>\n",
       "      <td>1951</td>\n",
       "      <td>NaN</td>\n",
       "    </tr>\n",
       "    <tr>\n",
       "      <th>2391</th>\n",
       "      <td>2006</td>\n",
       "      <td>1941</td>\n",
       "      <td>1950</td>\n",
       "      <td>NaN</td>\n",
       "    </tr>\n",
       "    <tr>\n",
       "      <th>2406</th>\n",
       "      <td>2008</td>\n",
       "      <td>1961</td>\n",
       "      <td>1961</td>\n",
       "      <td>NaN</td>\n",
       "    </tr>\n",
       "    <tr>\n",
       "      <th>2419</th>\n",
       "      <td>2009</td>\n",
       "      <td>1959</td>\n",
       "      <td>1959</td>\n",
       "      <td>NaN</td>\n",
       "    </tr>\n",
       "    <tr>\n",
       "      <th>2440</th>\n",
       "      <td>2009</td>\n",
       "      <td>1985</td>\n",
       "      <td>1985</td>\n",
       "      <td>NaN</td>\n",
       "    </tr>\n",
       "    <tr>\n",
       "      <th>2444</th>\n",
       "      <td>2006</td>\n",
       "      <td>1970</td>\n",
       "      <td>1970</td>\n",
       "      <td>NaN</td>\n",
       "    </tr>\n",
       "    <tr>\n",
       "      <th>2508</th>\n",
       "      <td>2006</td>\n",
       "      <td>1926</td>\n",
       "      <td>1950</td>\n",
       "      <td>NaN</td>\n",
       "    </tr>\n",
       "    <tr>\n",
       "      <th>2510</th>\n",
       "      <td>2007</td>\n",
       "      <td>1919</td>\n",
       "      <td>2005</td>\n",
       "      <td>NaN</td>\n",
       "    </tr>\n",
       "    <tr>\n",
       "      <th>2528</th>\n",
       "      <td>2008</td>\n",
       "      <td>1955</td>\n",
       "      <td>1955</td>\n",
       "      <td>NaN</td>\n",
       "    </tr>\n",
       "    <tr>\n",
       "      <th>2544</th>\n",
       "      <td>2009</td>\n",
       "      <td>1920</td>\n",
       "      <td>2008</td>\n",
       "      <td>NaN</td>\n",
       "    </tr>\n",
       "    <tr>\n",
       "      <th>2655</th>\n",
       "      <td>2010</td>\n",
       "      <td>1967</td>\n",
       "      <td>1967</td>\n",
       "      <td>NaN</td>\n",
       "    </tr>\n",
       "    <tr>\n",
       "      <th>2660</th>\n",
       "      <td>2006</td>\n",
       "      <td>1949</td>\n",
       "      <td>1950</td>\n",
       "      <td>NaN</td>\n",
       "    </tr>\n",
       "    <tr>\n",
       "      <th>2664</th>\n",
       "      <td>2008</td>\n",
       "      <td>1872</td>\n",
       "      <td>1987</td>\n",
       "      <td>NaN</td>\n",
       "    </tr>\n",
       "    <tr>\n",
       "      <th>2672</th>\n",
       "      <td>2006</td>\n",
       "      <td>1941</td>\n",
       "      <td>1950</td>\n",
       "      <td>NaN</td>\n",
       "    </tr>\n",
       "    <tr>\n",
       "      <th>2689</th>\n",
       "      <td>2009</td>\n",
       "      <td>1910</td>\n",
       "      <td>1950</td>\n",
       "      <td>NaN</td>\n",
       "    </tr>\n",
       "  </tbody>\n",
       "</table>\n",
       "</div>"
      ],
      "text/plain": [
       "      Yr Sold  Year Built  Year Remod/Add  Garage Yr Blt\n",
       "2213     2009        1900            1950            NaN\n",
       "2265     2006        1970            1970            NaN\n",
       "2269     2007        1946            1950            NaN\n",
       "2270     2010        1968            1968            NaN\n",
       "2288     2008        1925            1950            NaN\n",
       "2308     2007        1955            1955            NaN\n",
       "2309     2006        1951            1951            NaN\n",
       "2391     2006        1941            1950            NaN\n",
       "2406     2008        1961            1961            NaN\n",
       "2419     2009        1959            1959            NaN\n",
       "2440     2009        1985            1985            NaN\n",
       "2444     2006        1970            1970            NaN\n",
       "2508     2006        1926            1950            NaN\n",
       "2510     2007        1919            2005            NaN\n",
       "2528     2008        1955            1955            NaN\n",
       "2544     2009        1920            2008            NaN\n",
       "2655     2010        1967            1967            NaN\n",
       "2660     2006        1949            1950            NaN\n",
       "2664     2008        1872            1987            NaN\n",
       "2672     2006        1941            1950            NaN\n",
       "2689     2009        1910            1950            NaN"
      ]
     },
     "execution_count": 40,
     "metadata": {},
     "output_type": "execute_result"
    }
   ],
   "source": [
    "getTestDataset()[getTestDataset()['Garage Yr Blt'].isnull()][['Yr Sold', 'Year Built', 'Year Remod/Add', 'Garage Yr Blt']]"
   ]
  },
  {
   "cell_type": "markdown",
   "metadata": {},
   "source": [
    "My proposal is to replace null cells values with the corresponding 'Year Builf' of the concerned house.\n",
    "\n",
    "> Note: In real life work, we should have to do this on the fourth column as we can not know by advance weither our test set will contains\n",
    "null cells. Let's keep thing simple here for this exercise, this Notebook will be enough long to read ;-)"
   ]
  },
  {
   "cell_type": "code",
   "execution_count": 41,
   "metadata": {},
   "outputs": [],
   "source": [
    "# Get the index of lines with null values\n",
    "line_index=data_df[data_df['Garage Yr Blt'].isnull()].index\n"
   ]
  },
  {
   "cell_type": "code",
   "execution_count": 42,
   "metadata": {},
   "outputs": [
    {
     "name": "stdout",
     "output_type": "stream",
     "text": [
      "Setting 'Garage Yr Blt' for line 2213 to: 1900\n",
      "Setting 'Garage Yr Blt' for line 2265 to: 1970\n",
      "Setting 'Garage Yr Blt' for line 2269 to: 1946\n",
      "Setting 'Garage Yr Blt' for line 2270 to: 1968\n",
      "Setting 'Garage Yr Blt' for line 2288 to: 1925\n",
      "Setting 'Garage Yr Blt' for line 2308 to: 1955\n",
      "Setting 'Garage Yr Blt' for line 2309 to: 1951\n",
      "Setting 'Garage Yr Blt' for line 2391 to: 1941\n",
      "Setting 'Garage Yr Blt' for line 2406 to: 1961\n",
      "Setting 'Garage Yr Blt' for line 2419 to: 1959\n",
      "Setting 'Garage Yr Blt' for line 2440 to: 1985\n",
      "Setting 'Garage Yr Blt' for line 2444 to: 1970\n",
      "Setting 'Garage Yr Blt' for line 2508 to: 1926\n",
      "Setting 'Garage Yr Blt' for line 2510 to: 1919\n",
      "Setting 'Garage Yr Blt' for line 2528 to: 1955\n",
      "Setting 'Garage Yr Blt' for line 2544 to: 1920\n",
      "Setting 'Garage Yr Blt' for line 2655 to: 1967\n",
      "Setting 'Garage Yr Blt' for line 2660 to: 1949\n",
      "Setting 'Garage Yr Blt' for line 2664 to: 1872\n",
      "Setting 'Garage Yr Blt' for line 2672 to: 1941\n",
      "Setting 'Garage Yr Blt' for line 2689 to: 1910\n"
     ]
    },
    {
     "data": {
      "text/html": [
       "<div>\n",
       "<style scoped>\n",
       "    .dataframe tbody tr th:only-of-type {\n",
       "        vertical-align: middle;\n",
       "    }\n",
       "\n",
       "    .dataframe tbody tr th {\n",
       "        vertical-align: top;\n",
       "    }\n",
       "\n",
       "    .dataframe thead th {\n",
       "        text-align: right;\n",
       "    }\n",
       "</style>\n",
       "<table border=\"1\" class=\"dataframe\">\n",
       "  <thead>\n",
       "    <tr style=\"text-align: right;\">\n",
       "      <th></th>\n",
       "      <th>Yr Sold</th>\n",
       "      <th>Year Built</th>\n",
       "      <th>Year Remod/Add</th>\n",
       "      <th>Garage Yr Blt</th>\n",
       "    </tr>\n",
       "  </thead>\n",
       "  <tbody>\n",
       "    <tr>\n",
       "      <th>2213</th>\n",
       "      <td>2009</td>\n",
       "      <td>1900</td>\n",
       "      <td>1950</td>\n",
       "      <td>1900.0</td>\n",
       "    </tr>\n",
       "    <tr>\n",
       "      <th>2265</th>\n",
       "      <td>2006</td>\n",
       "      <td>1970</td>\n",
       "      <td>1970</td>\n",
       "      <td>1970.0</td>\n",
       "    </tr>\n",
       "    <tr>\n",
       "      <th>2269</th>\n",
       "      <td>2007</td>\n",
       "      <td>1946</td>\n",
       "      <td>1950</td>\n",
       "      <td>1946.0</td>\n",
       "    </tr>\n",
       "    <tr>\n",
       "      <th>2270</th>\n",
       "      <td>2010</td>\n",
       "      <td>1968</td>\n",
       "      <td>1968</td>\n",
       "      <td>1968.0</td>\n",
       "    </tr>\n",
       "    <tr>\n",
       "      <th>2288</th>\n",
       "      <td>2008</td>\n",
       "      <td>1925</td>\n",
       "      <td>1950</td>\n",
       "      <td>1925.0</td>\n",
       "    </tr>\n",
       "    <tr>\n",
       "      <th>2308</th>\n",
       "      <td>2007</td>\n",
       "      <td>1955</td>\n",
       "      <td>1955</td>\n",
       "      <td>1955.0</td>\n",
       "    </tr>\n",
       "    <tr>\n",
       "      <th>2309</th>\n",
       "      <td>2006</td>\n",
       "      <td>1951</td>\n",
       "      <td>1951</td>\n",
       "      <td>1951.0</td>\n",
       "    </tr>\n",
       "    <tr>\n",
       "      <th>2391</th>\n",
       "      <td>2006</td>\n",
       "      <td>1941</td>\n",
       "      <td>1950</td>\n",
       "      <td>1941.0</td>\n",
       "    </tr>\n",
       "    <tr>\n",
       "      <th>2406</th>\n",
       "      <td>2008</td>\n",
       "      <td>1961</td>\n",
       "      <td>1961</td>\n",
       "      <td>1961.0</td>\n",
       "    </tr>\n",
       "    <tr>\n",
       "      <th>2419</th>\n",
       "      <td>2009</td>\n",
       "      <td>1959</td>\n",
       "      <td>1959</td>\n",
       "      <td>1959.0</td>\n",
       "    </tr>\n",
       "    <tr>\n",
       "      <th>2440</th>\n",
       "      <td>2009</td>\n",
       "      <td>1985</td>\n",
       "      <td>1985</td>\n",
       "      <td>1985.0</td>\n",
       "    </tr>\n",
       "    <tr>\n",
       "      <th>2444</th>\n",
       "      <td>2006</td>\n",
       "      <td>1970</td>\n",
       "      <td>1970</td>\n",
       "      <td>1970.0</td>\n",
       "    </tr>\n",
       "    <tr>\n",
       "      <th>2508</th>\n",
       "      <td>2006</td>\n",
       "      <td>1926</td>\n",
       "      <td>1950</td>\n",
       "      <td>1926.0</td>\n",
       "    </tr>\n",
       "    <tr>\n",
       "      <th>2510</th>\n",
       "      <td>2007</td>\n",
       "      <td>1919</td>\n",
       "      <td>2005</td>\n",
       "      <td>1919.0</td>\n",
       "    </tr>\n",
       "    <tr>\n",
       "      <th>2528</th>\n",
       "      <td>2008</td>\n",
       "      <td>1955</td>\n",
       "      <td>1955</td>\n",
       "      <td>1955.0</td>\n",
       "    </tr>\n",
       "    <tr>\n",
       "      <th>2544</th>\n",
       "      <td>2009</td>\n",
       "      <td>1920</td>\n",
       "      <td>2008</td>\n",
       "      <td>1920.0</td>\n",
       "    </tr>\n",
       "    <tr>\n",
       "      <th>2655</th>\n",
       "      <td>2010</td>\n",
       "      <td>1967</td>\n",
       "      <td>1967</td>\n",
       "      <td>1967.0</td>\n",
       "    </tr>\n",
       "    <tr>\n",
       "      <th>2660</th>\n",
       "      <td>2006</td>\n",
       "      <td>1949</td>\n",
       "      <td>1950</td>\n",
       "      <td>1949.0</td>\n",
       "    </tr>\n",
       "    <tr>\n",
       "      <th>2664</th>\n",
       "      <td>2008</td>\n",
       "      <td>1872</td>\n",
       "      <td>1987</td>\n",
       "      <td>1872.0</td>\n",
       "    </tr>\n",
       "    <tr>\n",
       "      <th>2672</th>\n",
       "      <td>2006</td>\n",
       "      <td>1941</td>\n",
       "      <td>1950</td>\n",
       "      <td>1941.0</td>\n",
       "    </tr>\n",
       "    <tr>\n",
       "      <th>2689</th>\n",
       "      <td>2009</td>\n",
       "      <td>1910</td>\n",
       "      <td>1950</td>\n",
       "      <td>1910.0</td>\n",
       "    </tr>\n",
       "  </tbody>\n",
       "</table>\n",
       "</div>"
      ],
      "text/plain": [
       "      Yr Sold  Year Built  Year Remod/Add  Garage Yr Blt\n",
       "2213     2009        1900            1950         1900.0\n",
       "2265     2006        1970            1970         1970.0\n",
       "2269     2007        1946            1950         1946.0\n",
       "2270     2010        1968            1968         1968.0\n",
       "2288     2008        1925            1950         1925.0\n",
       "2308     2007        1955            1955         1955.0\n",
       "2309     2006        1951            1951         1951.0\n",
       "2391     2006        1941            1950         1941.0\n",
       "2406     2008        1961            1961         1961.0\n",
       "2419     2009        1959            1959         1959.0\n",
       "2440     2009        1985            1985         1985.0\n",
       "2444     2006        1970            1970         1970.0\n",
       "2508     2006        1926            1950         1926.0\n",
       "2510     2007        1919            2005         1919.0\n",
       "2528     2008        1955            1955         1955.0\n",
       "2544     2009        1920            2008         1920.0\n",
       "2655     2010        1967            1967         1967.0\n",
       "2660     2006        1949            1950         1949.0\n",
       "2664     2008        1872            1987         1872.0\n",
       "2672     2006        1941            1950         1941.0\n",
       "2689     2009        1910            1950         1910.0"
      ]
     },
     "execution_count": 42,
     "metadata": {},
     "output_type": "execute_result"
    }
   ],
   "source": [
    "\n",
    "# Replace null 'Garage Yr Blt' value with 'Year Built' value\n",
    "for i in line_index:\n",
    "    new_value = str(data_df.loc[i,'Year Built'])\n",
    "    print(\"Setting 'Garage Yr Blt' for line {} to: {}\".format(i,new_value))\n",
    "    data_df.at[i,'Garage Yr Blt']=new_value\n",
    "\n",
    "# Check the result\n",
    "data_df.iloc[line_index][['Yr Sold', 'Year Built', 'Year Remod/Add', 'Garage Yr Blt']]\n"
   ]
  },
  {
   "cell_type": "markdown",
   "metadata": {},
   "source": [
    "### That's all folks with Discrete columns :-)\n",
    "\n",
    "Cleaning process is terminated for those Discrete columns, no more null cells in the Dataframe (except for the continuous column that will be handled later\n",
    "in this Notebook)"
   ]
  },
  {
   "cell_type": "code",
   "execution_count": 43,
   "metadata": {},
   "outputs": [
    {
     "name": "stdout",
     "output_type": "stream",
     "text": [
      "No null values found in the Dataframe. Good :-)\n"
     ]
    }
   ],
   "source": [
    "# Is there any null values, except in the 'SalePrice' and 'Mas Vnr Area' columns ?\n",
    "null_count=data_df.drop(['SalePrice', 'Mas Vnr Area'], axis=1).isnull().sum().sort_values(ascending=False).sum()\n",
    "if(null_count == 0):\n",
    "    print(\"No null values found in the Dataframe. Good :-)\")\n",
    "else:\n",
    "    raise SystemExit(\"WARNING: Found null cells in Dataframe. Aborting Notebook execution\")\n"
   ]
  },
  {
   "cell_type": "markdown",
   "metadata": {},
   "source": [
    "## Feature engineering\n",
    "\n",
    "It's time now to do some feature engineering on the remaining columns: The continuous one.\n",
    "\n",
    "Before that, there's something to do with a few number of the Discrete column. The one that contains year values."
   ]
  },
  {
   "cell_type": "markdown",
   "metadata": {},
   "source": [
    "### Reduce amplitude of year column\n",
    "\n",
    "Year column contains year values, that's an evidence. Those values are stored as number, which is fine to fit model. The problem is that creates high values and we should reduce the amplitude of those values.\n",
    "\n",
    "To reduce the amplitude of the year values, let's substract the max year found in 'Year Sold' column (2010) with values in those columns. This way, year column will be converted with age column, which is in my opinion a better scale.\n",
    "\n",
    "Be carefull that we have to take the np.abs() value of the substraction to have a positive aging.\n",
    "\n",
    "This will do a sort of remap of the values and simulate a nominal column\n",
    "\n",
    "> Question: Should I create intervals such as 0 < year < 10  => Category1 in real life ? \n",
    "\n",
    "> Note: This cell can not be ran multiple times as is after the first run. I've added a test on the np.max('Year Sold') value. If it is below 2000,\n",
    "we can conclude that columns have been remaped, we then avoid doing the job again (it will lead us to incoherent values)\n",
    "\n",
    "\n",
    "> Note: The max year found in 'Year Sold' must be the youngest one in the whole dataset,  thanks to the cleaning we've done earlier."
   ]
  },
  {
   "cell_type": "code",
   "execution_count": 44,
   "metadata": {},
   "outputs": [
    {
     "name": "stdout",
     "output_type": "stream",
     "text": [
      "Max year found: 2010\n"
     ]
    },
    {
     "data": {
      "image/png": "[encoded data removed]",
      "text/plain": [
       "<Figure size 432x288 with 1 Axes>"
      ]
     },
     "metadata": {
      "needs_background": "light"
     },
     "output_type": "display_data"
    }
   ],
   "source": [
    "year_column = ['Year Built', 'Yr Sold', 'Year Remod/Add',  'Garage Yr Blt']\n",
    "\n",
    "# Get the max date from the 'Year Sold' column\n",
    "current_year=np.max(getTrainDataset()['Yr Sold'])\n",
    "print(\"Max year found:\", current_year)\n",
    "\n",
    "# This trick to be able to rerun this cell multiple times\n",
    "if current_year < 2000:\n",
    "    print(\"Year columns have already been remapped. Skipping process\")\n",
    "else:\n",
    "\n",
    "    # Substract this date to year columns values\n",
    "    for c in year_column:\n",
    "        data_df[c] = np.abs(data_df[c] - current_year)\n",
    "        pass\n",
    "\n",
    "# Display histogram to check new year built values\n",
    "data_df[['Year Built']].plot.hist(bins=30)\n",
    "plt.xlabel('Year (remapped)')\n",
    "plt.show()\n"
   ]
  },
  {
   "cell_type": "markdown",
   "metadata": {},
   "source": [
    "### Continuous columns\n",
    "\n",
    "At first, let's draw scatter plots for our continous columns against the SalePrice (using train dataset only)"
   ]
  },
  {
   "cell_type": "markdown",
   "metadata": {},
   "source": [
    "# TO BE CONTINUED..."
   ]
  },
  {
   "cell_type": "code",
   "execution_count": 45,
   "metadata": {},
   "outputs": [],
   "source": [
    "data_df.to_csv(os.path.join('data','data_df.csv'))"
   ]
  },
  {
   "cell_type": "code",
   "execution_count": 72,
   "metadata": {},
   "outputs": [],
   "source": [
    "from scipy.stats import zscore\n",
    "\n",
    "def zScoreCleanUp(df, columns, factor=2):\n",
    "    '''\n",
    "    Function that calculate zscore on columns passed as parameter and returns a copy of the DataFrame\n",
    "    received as parameter without lines where np.abs(zscore) is above factor value for at least one of the cell\n",
    "    of the line.\n",
    "    This function returns a copy of the dataframe received as first parameter. The original one is not modified.\n",
    "    '''\n",
    "\n",
    "    # Calculate zscore of each cells of the columns passed as parameter\n",
    "    zscore_values = zscore(df[columns])\n",
    "    \n",
    "    # Build an arraqy of boolen where True = np.abs(zscore) is lower than factor\n",
    "    zscore_bool = np.abs(zscore_values) < factor\n",
    "    \n",
    "    # Use the all(axis=1) function on zscore_bool array to get a 1-row-array containing boolean values\n",
    "    # where True = all cell of the zscore_bool corresponding line are True\n",
    "    # This 1-row-array will be used to filter the original dataframe\n",
    "    return df[zscore_bool.all(axis=1)].copy()\n",
    "\n"
   ]
  },
  {
   "cell_type": "code",
   "execution_count": 73,
   "metadata": {},
   "outputs": [],
   "source": [
    "temp_df = zScoreCleanUp(getTrainDataset(), columns=continuous_column, factor=3)"
   ]
  },
  {
   "cell_type": "code",
   "execution_count": 75,
   "metadata": {},
   "outputs": [
    {
     "data": {
      "text/plain": [
       "(1787, 245)"
      ]
     },
     "execution_count": 75,
     "metadata": {},
     "output_type": "execute_result"
    }
   ],
   "source": [
    "temp_df.shape\n"
   ]
  },
  {
   "cell_type": "markdown",
   "metadata": {},
   "source": [
    "#### for c in data_df.select_dtypes(np.number):\n",
    "    c_mean = data_df[c].mean()\n",
    "    c_std  = data_df[c].std()\n",
    "    z_min  = (c_mean-data_df[c].min())/c_std\n",
    "    z_max  = (data_df[c].max()-c_mean)/c_std\n",
    "    outliers = ''\n",
    "    if (z_min > 2 or z_max > 2):\n",
    "        outliers = '(outliers)'\n",
    "    #print(\"Column {:20s} mean:{:9.2f}\\tstd:{:9.2f}\\tz-min:{:9.2f}\\tz-max:{:10.2f} {}\".format(c, c_mean, c_std, z_min, z_max, outliers))\n",
    "    "
   ]
  },
  {
   "cell_type": "code",
   "execution_count": 49,
   "metadata": {},
   "outputs": [
    {
     "data": {
      "text/plain": [
       "<matplotlib.collections.PathCollection at 0x7f11d0558be0>"
      ]
     },
     "execution_count": 49,
     "metadata": {},
     "output_type": "execute_result"
    },
    {
     "data": {
      "image/png": "[encoded data removed]",
      "text/plain": [
       "<Figure size 432x288 with 1 Axes>"
      ]
     },
     "metadata": {
      "needs_background": "light"
     },
     "output_type": "display_data"
    }
   ],
   "source": [
    "data_df['Pool Area'].sort_values(ascending=False)\n",
    "temp_df = data_df[data_df['Pool Area'] > 0]\n",
    "plt.scatter(temp_df['Pool Area'], temp_df['SalePrice'])"
   ]
  },
  {
   "cell_type": "markdown",
   "metadata": {},
   "source": [
    "data_df['Bsmt Unf SF'] is a linear combination, drop it"
   ]
  },
  {
   "cell_type": "code",
   "execution_count": null,
   "metadata": {},
   "outputs": [],
   "source": []
  },
  {
   "cell_type": "markdown",
   "metadata": {},
   "source": [
    "## Model fitting"
   ]
  },
  {
   "cell_type": "markdown",
   "metadata": {},
   "source": [
    "## Regularization"
   ]
  },
  {
   "cell_type": "markdown",
   "metadata": {},
   "source": [
    "## Communicating the results"
   ]
  },
  {
   "cell_type": "markdown",
   "metadata": {},
   "source": [
    "## Compute predictions"
   ]
  },
  {
   "cell_type": "markdown",
   "metadata": {},
   "source": [
    "## Evaluate your predictions"
   ]
  }
 ],
 "metadata": {
  "kernelspec": {
   "display_name": "Python 3",
   "language": "python",
   "name": "python3"
  },
  "language_info": {
   "codemirror_mode": {
    "name": "ipython",
    "version": 3
   },
   "file_extension": ".py",
   "mimetype": "text/x-python",
   "name": "python",
   "nbconvert_exporter": "python",
   "pygments_lexer": "ipython3",
   "version": "3.6.10"
  }
 },
 "nbformat": 4,
 "nbformat_minor": 4
}
