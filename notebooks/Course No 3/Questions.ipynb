{
 "cells": [
  {
   "cell_type": "markdown",
   "metadata": {},
   "source": [
    "# List of questions for 1 to 1 meetings\n"
   ]
  },
  {
   "cell_type": "markdown",
   "metadata": {},
   "source": [
    "## 03. Cost Functions and Outliers / 04. Huber Loss\n",
    "1. What is the role of the scale function (x_scale = scale(data_df.tv.values) ?\n",
    "\n",
    "    > x_scale = scale(data_df.tv.values)\n",
    "    \n",
    "1. Huber with degree 3 does not work, what is the error ?\n",
    "\n",
    "1. Why epsilon is set to 1.1 in solution of the exercise on brain/body weight ? What's the methodology to determine this value ?\n",
    "\n",
    "    > lr_huber = HuberRegressor(epsilon=1.1)\n",
    "\n",
    "1. In Compute EQ, why should we do y/y_pred instead of simply use y_pred ?"
   ]
  },
  {
   "cell_type": "markdown",
   "metadata": {},
   "source": [
    "## 07. Ill-conditioning"
   ]
  },
  {
   "cell_type": "markdown",
   "metadata": {},
   "source": [
    "1. Matrix that is rank-deficient can not be inverted\n",
    "But, I've been able to invert X * X.T ??\n",
    "\n",
    "    > X = np.c_[temp, temp_C]\n",
    "    \n",
    "    > X1 = np.c_[np.ones(X.shape[0]), X]\n",
    "    \n",
    "    > rank = np.linalg.matrix_rank(X1)\n",
    "    \n",
    "    > print('Rank', rank) # Returns: 2\n",
    "    \n",
    "    > XX = np.linalg.inv(np.matmul(X1.T, X1))\n",
    "    \n",
    "    > XX"
   ]
  },
  {
   "cell_type": "markdown",
   "metadata": {},
   "source": [
    "Rank 2\n",
    "\n",
    "array([[ 2.99441465e+12, -1.75921860e+13,  3.74301831e+11],\n",
    "\n",
    "       [-1.75921860e+13,  1.03354093e+14, -2.19902326e+12],\n",
    "       \n",
    "       [ 3.74301831e+11, -2.19902326e+12,  4.67877288e+10]])"
   ]
  },
  {
   "cell_type": "code",
   "execution_count": null,
   "metadata": {},
   "outputs": [],
   "source": []
  }
 ],
 "metadata": {
  "kernelspec": {
   "display_name": "Python 3",
   "language": "python",
   "name": "python3"
  },
  "language_info": {
   "codemirror_mode": {
    "name": "ipython",
    "version": 3
   },
   "file_extension": ".py",
   "mimetype": "text/x-python",
   "name": "python",
   "nbconvert_exporter": "python",
   "pygments_lexer": "ipython3",
   "version": "3.6.10"
  }
 },
 "nbformat": 4,
 "nbformat_minor": 4
}
