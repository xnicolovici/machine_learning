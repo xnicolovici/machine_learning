{
 "cells": [
  {
   "cell_type": "markdown",
   "metadata": {},
   "source": [
    "# Usefull functions"
   ]
  },
  {
   "cell_type": "markdown",
   "metadata": {},
   "source": [
    "## Linear Regression"
   ]
  },
  {
   "cell_type": "markdown",
   "metadata": {},
   "source": [
    "### Get X1 feature matrix and y target vector from Dataframe"
   ]
  },
  {
   "cell_type": "code",
   "execution_count": 1,
   "metadata": {},
   "outputs": [],
   "source": [
    "# Build X1 and y matrix\n",
    "def getX1andY(df,target_name):\n",
    "    \"\"\"\n",
    "    Returns X1 matrix (X feature matrix with additionnal column of ones) and y vector\n",
    "    Expect dataframe as first parameters, and column name of target values\n",
    "    as second parameter\n",
    "    \"\"\"\n",
    "    X = df.drop(target_name,axis=1).values\n",
    "    y = data_df[target_name].values\n",
    "    X1 = np.c_[np.ones(X.shape[0]),X]\n",
    "    return (X1,y)"
   ]
  },
  {
   "cell_type": "markdown",
   "metadata": {},
   "source": [
    "### Draw a basic graph of plots"
   ]
  },
  {
   "cell_type": "code",
   "execution_count": 3,
   "metadata": {},
   "outputs": [],
   "source": [
    "def drawBaseGraph(xlabel,ylabel,list_of_plots):\n",
    "    \"\"\"\n",
    "    Draw a plot graph.\n",
    "    Expect x-label and y-label as first parameters, then a list of tuples\n",
    "    Each tuple is made of x and y plots, plus a label\n",
    "    Default figure size is set to (15,8)\n",
    "    \"\"\"\n",
    "    # Plot data points\n",
    "    plt.figure(figsize=(15,8))\n",
    "\n",
    "    for plots in list_of_plots:\n",
    "        x,y,label = plots\n",
    "        plt.scatter(x,y,label=label)\n",
    "\n",
    "    plt.legend(loc=\"upper left\")\n",
    "    plt.xlabel(xlabel)\n",
    "    plt.ylabel(ylabel)"
   ]
  },
  {
   "cell_type": "markdown",
   "metadata": {},
   "source": [
    "### Ordinary Least Square function (OLS)\n",
    "Might be used as a remplacement to the scipy.lstsq() function"
   ]
  },
  {
   "cell_type": "code",
   "execution_count": 4,
   "metadata": {},
   "outputs": [],
   "source": [
    "# Compute OLS solution\n",
    "def OLS(X1,y):\n",
    "    XX = np.matmul(X1.T, X1)\n",
    "    Xy = np.matmul(X1.T, y)\n",
    "    w = np.matmul(np.linalg.inv(XX), Xy)\n",
    "    return w"
   ]
  },
  {
   "cell_type": "code",
   "execution_count": null,
   "metadata": {},
   "outputs": [],
   "source": []
  }
 ],
 "metadata": {
  "kernelspec": {
   "display_name": "Python 3",
   "language": "python",
   "name": "python3"
  },
  "language_info": {
   "codemirror_mode": {
    "name": "ipython",
    "version": 3
   },
   "file_extension": ".py",
   "mimetype": "text/x-python",
   "name": "python",
   "nbconvert_exporter": "python",
   "pygments_lexer": "ipython3",
   "version": "3.7.6"
  }
 },
 "nbformat": 4,
 "nbformat_minor": 4
}
