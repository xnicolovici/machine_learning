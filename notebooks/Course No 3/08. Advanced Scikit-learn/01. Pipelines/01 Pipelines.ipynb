{
 "cells": [
  {
   "cell_type": "markdown",
   "metadata": {},
   "source": [
    "Pipelines\n",
    "---"
   ]
  },
  {
   "cell_type": "code",
   "execution_count": null,
   "metadata": {},
   "outputs": [],
   "source": [
    "import pandas as pd\n",
    "\n",
    "data_df = pd.read_csv('bike-sharing.csv')\n",
    "data_df.head()"
   ]
  },
  {
   "cell_type": "code",
   "execution_count": null,
   "metadata": {},
   "outputs": [],
   "source": [
    "from sklearn.model_selection import train_test_split\n",
    "\n",
    "# One-hot encoding\n",
    "encoded_df = pd.get_dummies(data_df)\n",
    "\n",
    "# Split into train/test sets\n",
    "X = encoded_df.drop('casual', axis=1).values\n",
    "y = data_df.casual.values\n",
    "X_tr, X_te, y_tr, y_te = train_test_split(X, y, test_size=0.3, random_state=0)"
   ]
  },
  {
   "cell_type": "code",
   "execution_count": null,
   "metadata": {},
   "outputs": [],
   "source": [
    "from sklearn.preprocessing import StandardScaler\n",
    "\n",
    "# Standardize data\n",
    "scaler = StandardScaler()\n",
    "X_tr_rescaled = scaler.fit_transform(X_tr)\n",
    "X_te_rescaled = scaler.transform(X_te)"
   ]
  },
  {
   "cell_type": "code",
   "execution_count": null,
   "metadata": {},
   "outputs": [],
   "source": [
    "from sklearn.metrics import mean_absolute_error as MAE\n",
    "from sklearn.linear_model import Ridge\n",
    "\n",
    "ridge = Ridge()\n",
    "ridge.fit(X_tr_rescaled, y_tr)\n",
    "print('MAE: {:.0f}'.format(MAE(y_te, ridge.predict(X_te))))"
   ]
  },
  {
   "cell_type": "code",
   "execution_count": null,
   "metadata": {},
   "outputs": [],
   "source": [
    "import numpy as np\n",
    "\n",
    "median_predictions = np.full_like(y_te, np.median(y_tr))\n",
    "print('Median baseline: {:.0f}'.format(MAE(y_te, median_predictions)))"
   ]
  },
  {
   "cell_type": "code",
   "execution_count": null,
   "metadata": {},
   "outputs": [],
   "source": [
    "print('MAE: {:.0f}'.format(MAE(y_te, ridge.predict(X_te_rescaled))))"
   ]
  },
  {
   "cell_type": "code",
   "execution_count": null,
   "metadata": {},
   "outputs": [],
   "source": [
    "from sklearn.pipeline import Pipeline\n",
    "\n",
    "# Create pipeline\n",
    "pipe = Pipeline([\n",
    "    ('scaler', StandardScaler()),\n",
    "    ('ridge', Ridge())\n",
    "])"
   ]
  },
  {
   "cell_type": "code",
   "execution_count": null,
   "metadata": {},
   "outputs": [],
   "source": [
    "# Get a dictionary with each step\n",
    "pipe.named_steps"
   ]
  },
  {
   "cell_type": "code",
   "execution_count": null,
   "metadata": {},
   "outputs": [],
   "source": [
    "# Fit on the train set\n",
    "pipe.fit(X_tr, y_tr)\n",
    "\n",
    "# Evaluate on the test set\n",
    "print('MAE: {:.0f}'.format(MAE(y_te, pipe.predict(X_te))))"
   ]
  },
  {
   "cell_type": "code",
   "execution_count": null,
   "metadata": {},
   "outputs": [],
   "source": [
    "def pipe_fit(X, y):\n",
    "    # Fit and apply the transformation\n",
    "    X1 = scaler.fit_transform(X)\n",
    "    \n",
    "    # Fit the estimator\n",
    "    ridge.fit(X1, y)\n",
    "\n",
    "# Fit to the train data\n",
    "pipe_fit(X_tr, y_tr)"
   ]
  },
  {
   "cell_type": "code",
   "execution_count": null,
   "metadata": {},
   "outputs": [],
   "source": [
    "def pipe_predict(X):\n",
    "    # Apply the transformation\n",
    "    X1 = scaler.transform(X)\n",
    "\n",
    "    # Make predictions\n",
    "    return ridge.predict(X1)\n",
    "\n",
    "# Evaluate on the test set\n",
    "print('MAE: {:.0f}'.format(MAE(y_te, pipe_predict(X_te))))"
   ]
  },
  {
   "cell_type": "code",
   "execution_count": null,
   "metadata": {},
   "outputs": [],
   "source": [
    "# Pipeline with three transformations\n",
    "# pipe = Pipeline([\n",
    "#     ('transform1', ...),\n",
    "#     ('transform2', ...),\n",
    "#     ('transform3', ...),\n",
    "#     ('estimator', ...)\n",
    "# ])"
   ]
  },
  {
   "cell_type": "code",
   "execution_count": null,
   "metadata": {},
   "outputs": [],
   "source": [
    "# Example with three transformations\n",
    "def pipe_fit(X, y):\n",
    "    # Fit and apply the transformations\n",
    "    X1 = transform1.fit_transform(X)\n",
    "    X2 = transform2.fit_transform(X1)\n",
    "    X3 = transform3.fit_transform(X2)\n",
    "\n",
    "    # Fit the estimator\n",
    "    estimator.fit(X3, y)"
   ]
  },
  {
   "cell_type": "code",
   "execution_count": null,
   "metadata": {},
   "outputs": [],
   "source": [
    "def pipe_predict(X, y):\n",
    "    # Apply the transformations\n",
    "    X1 = transform1.transform(X)\n",
    "    X2 = transform2.transform(X1)\n",
    "    X3 = transform3.transform(X2)\n",
    "    \n",
    "    # Make predictions\n",
    "    return estimator.predict(X3)"
   ]
  },
  {
   "cell_type": "code",
   "execution_count": null,
   "metadata": {},
   "outputs": [],
   "source": [
    "# Create a pipeline\n",
    "pipe = Pipeline([\n",
    "    ('scaler', None), # Disable this step\n",
    "    ('ridge', Ridge())\n",
    "])\n",
    "\n",
    "# Fit pipeline to the train set\n",
    "pipe.fit(X_tr, y_tr)\n",
    "\n",
    "# Accuracy on the test set\n",
    "print('MAE: {:.0f}'.format(MAE(y_te, pipe.predict(X_te))))"
   ]
  },
  {
   "cell_type": "code",
   "execution_count": null,
   "metadata": {},
   "outputs": [],
   "source": [
    "import numpy as np\n",
    "\n",
    "# Variable to store the results\n",
    "gs_results = []\n",
    "\n",
    "# Grid search\n",
    "for alpha in np.logspace(-4, 4, num=100):\n",
    "    # Create/fit the pipeline\n",
    "    pipe = Pipeline([\n",
    "        ('scaler', StandardScaler()),\n",
    "        ('ridge', Ridge(alpha))\n",
    "    ])\n",
    "    pipe.fit(X_tr, y_tr)\n",
    "    \n",
    "    # Save model and its performance on train/test sets\n",
    "    gs_results.append({\n",
    "        'alpha': alpha,\n",
    "        'train_mae': MAE(y_tr, pipe.predict(X_tr)),\n",
    "        'test_mae': MAE(y_te, pipe.predict(X_te)),\n",
    "    })\n",
    "\n",
    "# Convert results to DataFrame\n",
    "gs_results = pd.DataFrame(gs_results)\n",
    "gs_results.head()"
   ]
  },
  {
   "cell_type": "code",
   "execution_count": null,
   "metadata": {},
   "outputs": [],
   "source": [
    "%matplotlib inline\n",
    "import matplotlib.pyplot as plt\n",
    "\n",
    "# Plot the validation curves\n",
    "plt.semilogx(gs_results['alpha'], gs_results['train_mae'], label='train curve')\n",
    "plt.semilogx(gs_results['alpha'], gs_results['test_mae'], label='test curve')\n",
    "plt.xlabel('$log_{10}(alpha)$')\n",
    "plt.ylabel('MAE')\n",
    "plt.legend()\n",
    "plt.show()"
   ]
  },
  {
   "cell_type": "code",
   "execution_count": null,
   "metadata": {},
   "outputs": [],
   "source": [
    "# Create the pipeline\n",
    "pipe = Pipeline([\n",
    "    ('scaler', StandardScaler()),\n",
    "    ('ridge', Ridge())\n",
    "])\n",
    "pipe.get_params()"
   ]
  },
  {
   "cell_type": "code",
   "execution_count": null,
   "metadata": {},
   "outputs": [],
   "source": [
    "# Variable to store the results\n",
    "gs_results = []\n",
    "\n",
    "# Grid search\n",
    "for alpha in np.logspace(-4, 4, num=100):\n",
    "    # Fit the pipeline\n",
    "    pipe.set_params(ridge__alpha=alpha)\n",
    "    pipe.fit(X_tr, y_tr)\n",
    "    \n",
    "    # Save model and its performance on train/test sets\n",
    "    gs_results.append({\n",
    "        'alpha': alpha,\n",
    "        'train_mae': MAE(y_tr, pipe.predict(X_tr)),\n",
    "        'test_mae': MAE(y_te, pipe.predict(X_te)),\n",
    "    })\n",
    "\n",
    "# Convert results to DataFrame\n",
    "gs_results = pd.DataFrame(gs_results)\n",
    "\n",
    "# Plot the validation curves\n",
    "plt.semilogx(gs_results['alpha'], gs_results['train_mae'], label='train curve')\n",
    "plt.semilogx(gs_results['alpha'], gs_results['test_mae'], label='test curve')\n",
    "plt.xlabel('$log_{10}(alpha)$')\n",
    "plt.ylabel('MAE')\n",
    "plt.legend()\n",
    "plt.show()"
   ]
  }
 ],
 "metadata": {
  "kernelspec": {
   "display_name": "Python 3",
   "language": "python",
   "name": "python3"
  },
  "language_info": {
   "codemirror_mode": {
    "name": "ipython",
    "version": 3
   },
   "file_extension": ".py",
   "mimetype": "text/x-python",
   "name": "python",
   "nbconvert_exporter": "python",
   "pygments_lexer": "ipython3",
   "version": "3.6.8"
  }
 },
 "nbformat": 4,
 "nbformat_minor": 2
}
