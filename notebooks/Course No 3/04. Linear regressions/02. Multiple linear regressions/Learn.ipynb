{
 "cells": [
  {
   "cell_type": "code",
   "execution_count": 26,
   "metadata": {},
   "outputs": [],
   "source": [
    "import pandas as pd\n",
    "\n",
    "import numpy as np\n",
    "\n",
    "from scipy.linalg import lstsq"
   ]
  },
  {
   "cell_type": "code",
   "execution_count": 27,
   "metadata": {},
   "outputs": [
    {
     "data": {
      "text/html": [
       "<div>\n",
       "<style scoped>\n",
       "    .dataframe tbody tr th:only-of-type {\n",
       "        vertical-align: middle;\n",
       "    }\n",
       "\n",
       "    .dataframe tbody tr th {\n",
       "        vertical-align: top;\n",
       "    }\n",
       "\n",
       "    .dataframe thead th {\n",
       "        text-align: right;\n",
       "    }\n",
       "</style>\n",
       "<table border=\"1\" class=\"dataframe\">\n",
       "  <thead>\n",
       "    <tr style=\"text-align: right;\">\n",
       "      <th></th>\n",
       "      <th>tv</th>\n",
       "      <th>web</th>\n",
       "      <th>radio</th>\n",
       "      <th>sales</th>\n",
       "    </tr>\n",
       "  </thead>\n",
       "  <tbody>\n",
       "    <tr>\n",
       "      <th>0</th>\n",
       "      <td>0.916</td>\n",
       "      <td>1.689</td>\n",
       "      <td>0.208</td>\n",
       "      <td>1.204</td>\n",
       "    </tr>\n",
       "    <tr>\n",
       "      <th>1</th>\n",
       "      <td>9.359</td>\n",
       "      <td>1.706</td>\n",
       "      <td>1.071</td>\n",
       "      <td>4.800</td>\n",
       "    </tr>\n",
       "  </tbody>\n",
       "</table>\n",
       "</div>"
      ],
      "text/plain": [
       "      tv    web  radio  sales\n",
       "0  0.916  1.689  0.208  1.204\n",
       "1  9.359  1.706  1.071  4.800"
      ]
     },
     "execution_count": 27,
     "metadata": {},
     "output_type": "execute_result"
    }
   ],
   "source": [
    "data_df = pd.read_csv('marketing-campaign.csv')\n",
    "data_df.head(2)"
   ]
  },
  {
   "cell_type": "code",
   "execution_count": 28,
   "metadata": {},
   "outputs": [
    {
     "name": "stdout",
     "output_type": "stream",
     "text": [
      "X: (50, 3)\n",
      "y: (50,)\n"
     ]
    }
   ],
   "source": [
    "# Extract input matrix X\n",
    "X = data_df.drop('sales', axis=1).values\n",
    "print('X:', X.shape) # (50, 3)\n",
    "\n",
    "# Extract target vector y\n",
    "y = data_df.sales.values\n",
    "print('y:', y.shape) # (50,)"
   ]
  },
  {
   "cell_type": "code",
   "execution_count": 29,
   "metadata": {},
   "outputs": [
    {
     "name": "stdout",
     "output_type": "stream",
     "text": [
      "w: [0.3958359  0.47521518 0.31040001]\n",
      "RSS: 1.6884039033000044\n"
     ]
    }
   ],
   "source": [
    "\n",
    "# Fit a multiple linear regression\n",
    "w, rss, _, _ = lstsq(X, y)\n",
    "print('w:', w) # [ 0.3958359   0.47521518  0.31040001]\n",
    "print('RSS:', rss) # 1.688"
   ]
  },
  {
   "cell_type": "code",
   "execution_count": 30,
   "metadata": {},
   "outputs": [],
   "source": [
    "# Add a column of 1 as first index\n",
    "X1 = np.c_[np.ones(X.shape[0]),X]\n"
   ]
  },
  {
   "cell_type": "code",
   "execution_count": 33,
   "metadata": {},
   "outputs": [
    {
     "name": "stdout",
     "output_type": "stream",
     "text": [
      "w: [0.02487092 0.39465146 0.47037002 0.30669954]\n",
      "RSS: 1.6854508680824727\n"
     ]
    }
   ],
   "source": [
    "\n",
    "# Fit a multiple linear regression\n",
    "w, rss, _, _ = lstsq(X1, y)\n",
    "print('w:', w) # [ 0.3958359   0.47521518  0.31040001]\n",
    "print('RSS:', rss) # 1.688"
   ]
  },
  {
   "cell_type": "code",
   "execution_count": 39,
   "metadata": {},
   "outputs": [
    {
     "name": "stdout",
     "output_type": "stream",
     "text": [
      "1.685450868082473\n"
     ]
    }
   ],
   "source": [
    "# Compute the predict values\n",
    "\n",
    "y_pred = np.matmul(X1,w)\n",
    "\n",
    "def RSS(y,y_pred):\n",
    "    return np.sum(np.square(y - y_pred))\n",
    "\n",
    "print(RSS(y,y_pred))"
   ]
  },
  {
   "cell_type": "code",
   "execution_count": null,
   "metadata": {},
   "outputs": [],
   "source": []
  }
 ],
 "metadata": {
  "kernelspec": {
   "display_name": "Python 3",
   "language": "python",
   "name": "python3"
  },
  "language_info": {
   "codemirror_mode": {
    "name": "ipython",
    "version": 3
   },
   "file_extension": ".py",
   "mimetype": "text/x-python",
   "name": "python",
   "nbconvert_exporter": "python",
   "pygments_lexer": "ipython3",
   "version": "3.6.10"
  }
 },
 "nbformat": 4,
 "nbformat_minor": 4
}
