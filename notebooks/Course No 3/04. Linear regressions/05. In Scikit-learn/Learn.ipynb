{
 "cells": [
  {
   "cell_type": "code",
   "execution_count": 14,
   "metadata": {},
   "outputs": [],
   "source": [
    "import pandas as pd\n",
    "import numpy as np\n",
    "\n",
    "# Load data\n",
    "data_df = pd.read_csv('marketing-campaign.csv')\n",
    "X = data_df.drop('sales', axis=1).values\n",
    "y = data_df.sales.values"
   ]
  },
  {
   "cell_type": "code",
   "execution_count": 15,
   "metadata": {},
   "outputs": [],
   "source": [
    "from sklearn.linear_model import LinearRegression"
   ]
  },
  {
   "cell_type": "code",
   "execution_count": 16,
   "metadata": {},
   "outputs": [],
   "source": [
    "lr = LinearRegression()"
   ]
  },
  {
   "cell_type": "code",
   "execution_count": 17,
   "metadata": {},
   "outputs": [
    {
     "data": {
      "text/plain": [
       "LinearRegression(copy_X=True, fit_intercept=True, n_jobs=None, normalize=False)"
      ]
     },
     "execution_count": 17,
     "metadata": {},
     "output_type": "execute_result"
    }
   ],
   "source": [
    "lr.fit(X,y)"
   ]
  },
  {
   "cell_type": "code",
   "execution_count": 18,
   "metadata": {},
   "outputs": [
    {
     "name": "stdout",
     "output_type": "stream",
     "text": [
      "Coefficients: [0.39465146 0.47037002 0.30669954]\n",
      "Intercept: 0.024870917888195176\n"
     ]
    }
   ],
   "source": [
    "print(\"Coefficients:\", lr.coef_)\n",
    "print(\"Intercept:\",lr.intercept_)"
   ]
  },
  {
   "cell_type": "code",
   "execution_count": 23,
   "metadata": {},
   "outputs": [
    {
     "data": {
      "text/plain": [
       "array([1.24462012, 4.84934038, 4.04266482])"
      ]
     },
     "execution_count": 23,
     "metadata": {},
     "output_type": "execute_result"
    }
   ],
   "source": [
    "# Calculate predicted y-values fron the X feature matrix\n",
    "y_pred = lr.predict(X)\n",
    "y_pred[:3]"
   ]
  },
  {
   "cell_type": "code",
   "execution_count": 24,
   "metadata": {},
   "outputs": [
    {
     "data": {
      "text/plain": [
       "array([1.24462012, 4.84934038, 4.04266482])"
      ]
     },
     "execution_count": 24,
     "metadata": {},
     "output_type": "execute_result"
    }
   ],
   "source": [
    "# Find y_pred2 using calculation method\n",
    "\n",
    "y_pred2 = np.matmul(X,lr.coef_) + lr.intercept_\n",
    "y_pred2[:3]"
   ]
  },
  {
   "cell_type": "code",
   "execution_count": 27,
   "metadata": {},
   "outputs": [
    {
     "name": "stdout",
     "output_type": "stream",
     "text": [
      "R^2 =  0.9832893048848236\n"
     ]
    }
   ],
   "source": [
    "# Get the R^2 score using LinerRegression score() method\n",
    "print(\"R^2 = \",lr.score(X,y))"
   ]
  },
  {
   "cell_type": "code",
   "execution_count": 30,
   "metadata": {},
   "outputs": [
    {
     "name": "stdout",
     "output_type": "stream",
     "text": [
      "Coefficients: [0.39968853 0.44409771 0.25894341]\n",
      "Intercept: [0.12807209]\n",
      "R^2 coefficient: 0.9821546772612869\n"
     ]
    }
   ],
   "source": [
    "from sklearn.linear_model import SGDRegressor\n",
    "\n",
    "# Create the SGDRegressor object\n",
    "lr_sgd = SGDRegressor(\n",
    "    loss='squared_loss', # Cost function\n",
    "    penalty='none', # Add a penalty term?\n",
    "    max_iter=1000, # Number of iterations\n",
    "    random_state=0, # The implementation shuffles the data\n",
    "    tol=1e-3 # Tolerance for improvement (stop SGD once loss is below)\n",
    ")\n",
    "\n",
    "# Fit the linear regression model\n",
    "lr_sgd.fit(X, y)\n",
    "\n",
    "# Print coefficients\n",
    "print('Coefficients:', lr_sgd.coef_)\n",
    "# Prints: [0.39968853 0.44409771 0.25894341]\n",
    "\n",
    "print('Intercept:', lr_sgd.intercept_)\n",
    "# Prints: [0.12807209]\n",
    "\n",
    "print('R^2 coefficient:', lr_sgd.score(X, y))"
   ]
  },
  {
   "cell_type": "code",
   "execution_count": 29,
   "metadata": {},
   "outputs": [
    {
     "name": "stdout",
     "output_type": "stream",
     "text": [
      "Coefficients: [0.39172544 0.4788203  0.29315421]\n",
      "Intercept: 0.04586298819194162\n",
      "R^2 coefficient: 0.983070157114285\n"
     ]
    }
   ],
   "source": [
    "from sklearn.linear_model import HuberRegressor\n",
    "\n",
    "# Create the estimator\n",
    "huber = HuberRegressor(epsilon=1.35)\n",
    "\n",
    "# Fit it to X,y\n",
    "huber.fit(X, y)\n",
    "\n",
    "print('Coefficients:', huber.coef_)\n",
    "# Prints: [ 0.39172544  0.4788203   0.29315421]\n",
    "\n",
    "print('Intercept:', huber.intercept_)\n",
    "# Prints: 0.04586298819193986\n",
    "\n",
    "print('R^2 coefficient:', huber.score(X, y))\n",
    "# Prints: 0.983070157114285"
   ]
  },
  {
   "cell_type": "code",
   "execution_count": null,
   "metadata": {},
   "outputs": [],
   "source": []
  }
 ],
 "metadata": {
  "kernelspec": {
   "display_name": "Python 3",
   "language": "python",
   "name": "python3"
  },
  "language_info": {
   "codemirror_mode": {
    "name": "ipython",
    "version": 3
   },
   "file_extension": ".py",
   "mimetype": "text/x-python",
   "name": "python",
   "nbconvert_exporter": "python",
   "pygments_lexer": "ipython3",
   "version": "3.6.10"
  }
 },
 "nbformat": 4,
 "nbformat_minor": 4
}
