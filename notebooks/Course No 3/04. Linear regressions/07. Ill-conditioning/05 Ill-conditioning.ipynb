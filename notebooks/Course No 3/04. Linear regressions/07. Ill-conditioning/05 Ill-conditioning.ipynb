{
 "cells": [
  {
   "cell_type": "markdown",
   "metadata": {},
   "source": [
    "Load data\n",
    "---"
   ]
  },
  {
   "cell_type": "code",
   "execution_count": null,
   "metadata": {},
   "outputs": [],
   "source": [
    "import pandas as pd\n",
    "\n",
    "# Load data\n",
    "data_df = pd.read_csv('bike-sharing.csv')\n",
    "\n",
    "# Create Numpy arrays\n",
    "temp = data_df.temp.values\n",
    "users = data_df.users.values\n",
    "\n",
    "# First five rows\n",
    "data_df.head()"
   ]
  },
  {
   "cell_type": "markdown",
   "metadata": {},
   "source": [
    "1st scenario: perfect collinearity\n",
    "---"
   ]
  },
  {
   "cell_type": "code",
   "execution_count": null,
   "metadata": {},
   "outputs": [],
   "source": [
    "# Create collinear feature\n",
    "temp_C = 47*temp - 8"
   ]
  },
  {
   "cell_type": "code",
   "execution_count": null,
   "metadata": {},
   "outputs": [],
   "source": [
    "import numpy as np\n",
    "\n",
    "# Create input matrix X\n",
    "X = np.c_[temp, temp_C]\n",
    "\n",
    "# Add a column of ones\n",
    "X1 = np.c_[np.ones(X.shape[0]), X] \n",
    "\n",
    "# Compute rank\n",
    "rank = np.linalg.matrix_rank(X1)\n",
    "print('Rank', rank)"
   ]
  },
  {
   "cell_type": "code",
   "execution_count": null,
   "metadata": {},
   "outputs": [],
   "source": [
    "from scipy.linalg import lstsq\n",
    "\n",
    "# Compute OLS using lstsq\n",
    "w, rss, rank, _ = lstsq(X1, users)\n",
    "\n",
    "print('rank:', rank)\n",
    "print('RSS:', rss)"
   ]
  },
  {
   "cell_type": "code",
   "execution_count": null,
   "metadata": {},
   "outputs": [],
   "source": [
    "print('w:', w)"
   ]
  },
  {
   "cell_type": "code",
   "execution_count": null,
   "metadata": {},
   "outputs": [],
   "source": [
    "from sklearn.metrics import r2_score\n",
    "\n",
    "# R^2 coefficient of simple linear regression\n",
    "coefs = np.polyfit(temp, users, deg=1)\n",
    "y_pred_normal = np.polyval(coefs, temp)\n",
    "r2_normal = r2_score(users, y_pred_normal)\n",
    "print('R^2 normal:', r2_normal)\n",
    "\n",
    "# R^2 coefficient with collinear features\n",
    "y_pred_collinear = np.matmul(X1, w)\n",
    "r2_collinear = r2_score(users, y_pred_collinear)\n",
    "print('R^2 collinear:', r2_collinear)"
   ]
  },
  {
   "cell_type": "markdown",
   "metadata": {},
   "source": [
    "2nd scenario: nearly collinear features\n",
    "---"
   ]
  },
  {
   "cell_type": "code",
   "execution_count": null,
   "metadata": {},
   "outputs": [],
   "source": [
    "# Convert to degrees Celsius to Fahrenheit\n",
    "temp_F = 1.8*temp_C + 32"
   ]
  },
  {
   "cell_type": "code",
   "execution_count": null,
   "metadata": {},
   "outputs": [],
   "source": [
    "# Convert to degrees Fahrenheit\n",
    "temp_F = 1.8*temp_C + 32\n",
    "\n",
    "# Add small variations\n",
    "noise = np.random.normal(loc=0, scale=0.01, size=temp_F.shape)\n",
    "temp_F += noise\n",
    "\n",
    "# Create input matrix X\n",
    "X = np.c_[temp_C, temp_F]\n",
    "\n",
    "# Compute OLS using lstsq\n",
    "X1 = np.c_[np.ones(X.shape[0]), X] # Create X1 matrix\n",
    "w, rss, rank, _ = lstsq(X1, users) # OLS\n",
    "\n",
    "print('rank:', rank)\n",
    "print('RMSE:', np.sqrt(rss/len(users))) # Depends on the noise value\n",
    "print('w:', w) # Depends on the noise value"
   ]
  },
  {
   "cell_type": "code",
   "execution_count": null,
   "metadata": {},
   "outputs": [],
   "source": [
    "# run: rank, RMSE, coefficients\n",
    "# 1: 3, 233.311949333, [-15888.54114451   -870.94761598    501.53502237]\n",
    "# 2: 3, 233.358483738, [ 6360.7676213    380.60388517  -193.77200641]\n",
    "# 3: 3, 233.204776769, [-30144.45548463  -1672.99380321    947.06415472]\n",
    "# .."
   ]
  },
  {
   "cell_type": "code",
   "execution_count": null,
   "metadata": {},
   "outputs": [],
   "source": [
    "# Condition number\n",
    "cn = np.linalg.cond(X1)\n",
    "print('Condition number:', cn) # Depends on the noise value"
   ]
  },
  {
   "cell_type": "code",
   "execution_count": null,
   "metadata": {},
   "outputs": [],
   "source": [
    "# Same with the nearly collinear matrix\n",
    "y_pred_nearcol = np.matmul(X1, w)\n",
    "r2_nearcol = r2_score(users, y_pred_nearcol)\n",
    "\n",
    "# R^2 coefficient with nearly collinear features\n",
    "print('R^2 nearly collinear:', r2_nearcol)\n",
    "# should be around 0.59"
   ]
  },
  {
   "cell_type": "code",
   "execution_count": null,
   "metadata": {},
   "outputs": [],
   "source": [
    "from sklearn.linear_model import Ridge\n",
    "\n",
    "# Add small variations\n",
    "noise = np.random.normal(loc=0, scale=0.01, size=temp_F.shape)\n",
    "temp_F = (1.8*temp_C + 32) + noise\n",
    "\n",
    "# Create input matrix X\n",
    "X = np.c_[temp_C, temp_F]\n",
    "\n",
    "# Fit a Ridge regression\n",
    "ridge = Ridge(alpha=100)\n",
    "ridge.fit(X, users)\n",
    "\n",
    "print('Coefficients:', ridge.coef_)\n",
    "print('Intercept:', ridge.intercept_)\n",
    "print('R^2:', ridge.score(X, users))"
   ]
  },
  {
   "cell_type": "code",
   "execution_count": null,
   "metadata": {},
   "outputs": [],
   "source": [
    "# run: coefficients, intercept, R^2\n",
    "# 1: [  7.60970645  13.43336788], -269.389715324, 0.595405394009\n",
    "# 2: [  7.2575577   13.63021335], -275.733836067, 0.595460937325\n",
    "# 3: [  7.72013938  13.37129656], -267.372846183, 0.595388255988\n",
    "# .."
   ]
  }
 ],
 "metadata": {
  "kernelspec": {
   "display_name": "Python 3",
   "language": "python",
   "name": "python3"
  },
  "language_info": {
   "codemirror_mode": {
    "name": "ipython",
    "version": 3
   },
   "file_extension": ".py",
   "mimetype": "text/x-python",
   "name": "python",
   "nbconvert_exporter": "python",
   "pygments_lexer": "ipython3",
   "version": "3.6.7"
  }
 },
 "nbformat": 4,
 "nbformat_minor": 2
}
