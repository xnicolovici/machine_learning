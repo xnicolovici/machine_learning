{
 "cells": [
  {
   "cell_type": "markdown",
   "metadata": {},
   "source": [
    "Bike sharing linear regression\n",
    "---"
   ]
  },
  {
   "cell_type": "markdown",
   "metadata": {},
   "source": [
    "Exercise - Load train/test sets & remove collinear features\n",
    "---\n",
    "\n",
    "> **Exercise**: Load the train/test sets into the `X_tr`, `y_tr`, `X_te` and `y_te` variables. Remove features that make the `X_tr` matrix, with the additional column of ones, rank deficient. Also, you might want to remove nearly collinear features if they hurt performance.\n",
    "\n",
    "**Self-assessment**: Verify that the `X_tr` matrix with the additional column of ones has full rank. Compute its condition number."
   ]
  },
  {
   "cell_type": "code",
   "execution_count": 83,
   "metadata": {},
   "outputs": [
    {
     "data": {
      "text/html": [
       "<div>\n",
       "<style scoped>\n",
       "    .dataframe tbody tr th:only-of-type {\n",
       "        vertical-align: middle;\n",
       "    }\n",
       "\n",
       "    .dataframe tbody tr th {\n",
       "        vertical-align: top;\n",
       "    }\n",
       "\n",
       "    .dataframe thead th {\n",
       "        text-align: right;\n",
       "    }\n",
       "</style>\n",
       "<table border=\"1\" class=\"dataframe\">\n",
       "  <thead>\n",
       "    <tr style=\"text-align: right;\">\n",
       "      <th></th>\n",
       "      <th>temp</th>\n",
       "      <th>temp_C</th>\n",
       "      <th>hum</th>\n",
       "      <th>windspeed</th>\n",
       "      <th>atemp</th>\n",
       "      <th>atemp_C</th>\n",
       "      <th>yr</th>\n",
       "      <th>workingday</th>\n",
       "      <th>holiday</th>\n",
       "      <th>casual</th>\n",
       "    </tr>\n",
       "  </thead>\n",
       "  <tbody>\n",
       "    <tr>\n",
       "      <th>0</th>\n",
       "      <td>0.368</td>\n",
       "      <td>9.296</td>\n",
       "      <td>0.569</td>\n",
       "      <td>0.148</td>\n",
       "      <td>0.379</td>\n",
       "      <td>9.014</td>\n",
       "      <td>1</td>\n",
       "      <td>1</td>\n",
       "      <td>0</td>\n",
       "      <td>1603</td>\n",
       "    </tr>\n",
       "  </tbody>\n",
       "</table>\n",
       "</div>"
      ],
      "text/plain": [
       "    temp  temp_C    hum  windspeed  atemp  atemp_C  yr  workingday  holiday  \\\n",
       "0  0.368   9.296  0.569      0.148  0.379    9.014   1           1        0   \n",
       "\n",
       "   casual  \n",
       "0    1603  "
      ]
     },
     "execution_count": 83,
     "metadata": {},
     "output_type": "execute_result"
    }
   ],
   "source": [
    "import pandas as pd\n",
    "import numpy as np\n",
    "\n",
    "df_tr = pd.read_csv('data/bike-train.csv')\n",
    "df_te = pd.read_csv('data/bike-test.csv')\n",
    "\n",
    "df_tr.head(1)"
   ]
  },
  {
   "cell_type": "code",
   "execution_count": 84,
   "metadata": {},
   "outputs": [],
   "source": []
  },
  {
   "cell_type": "code",
   "execution_count": 95,
   "metadata": {},
   "outputs": [
    {
     "name": "stdout",
     "output_type": "stream",
     "text": [
      "Rank of the X_tr matrix: 8\n",
      "Number of features: 9\n",
      "Rank is deficient, remove temp_C column\n",
      "Rank of the X_tr matrix: 8\n",
      "Number of features: 8\n",
      "Rank is OK now\n",
      "Condition score of X_tr matrix: 964.1228749881127\n",
      "Condition score is too high, let's remove atemp_C column\n",
      "Condition score of X_tr matrix: 66.69182242605036\n",
      "Condiditon score is OK\n"
     ]
    }
   ],
   "source": [
    "# Extract X/y Numpy variables\n",
    "X_tr = df_tr.drop(['casual'],axis=1).values\n",
    "y_tr = df_tr.casual.values\n",
    "\n",
    "X_te = df_te.drop('casual',axis=1).values\n",
    "y_te = df_te.casual.values\n",
    "\n",
    "# Verify that X_tr with the additional column of ones has full rank\n",
    "\n",
    "rank = np.linalg.matrix_rank(X_tr)\n",
    "print(\"Rank of the X_tr matrix:\", rank)\n",
    "print(\"Number of features:\", X_tr.shape[1])\n",
    "\n",
    "print(\"Rank is deficient, remove temp_C column\")\n",
    "\n",
    "X_tr = df_tr.drop(['casual','temp_C'],axis=1).values\n",
    "rank = np.linalg.matrix_rank(X_tr)\n",
    "print(\"Rank of the X_tr matrix:\", rank)\n",
    "print(\"Number of features:\", X_tr.shape[1])\n",
    "\n",
    "print(\"Rank is OK now\")\n",
    "\n",
    "\n",
    "# Compute its condition number\n",
    "cond = np.linalg.cond(X_tr)\n",
    "print(\"Condition score of X_tr matrix:\", cond)\n",
    "print(\"Condition score is too high, let's remove atemp_C column\")\n",
    "\n",
    "X_tr = df_tr.drop(['casual','temp_C','atemp_C'],axis=1).values\n",
    "cond = np.linalg.cond(X_tr)\n",
    "print(\"Condition score of X_tr matrix:\", cond)\n",
    "\n",
    "print(\"Condiditon score is OK\")\n",
    "\n",
    "# Do remove the same columns on the X_te matrix\n",
    "X_te = df_te.drop(['casual','temp_C','atemp_C'],axis=1).values"
   ]
  },
  {
   "cell_type": "markdown",
   "metadata": {},
   "source": [
    "Exercise - Fit a linear regression model\n",
    "---\n",
    "\n",
    "> **Exercise**: (A) Fit a linear regression model to the `X_tr`, `y_tr` variables. Evaluate its performance on the test set using the mean absolute error (MAE). (B) Also, try fitting a linear regression with the Huber loss. (C) Pick one feature (e.g., temperatures) and plot the predictions from your best model (e.g., temperature vs. casual users plot).\n",
    "\n",
    "**Note**: Your models might predict a negative number of users. In this case, you might want to set a lower limit with the Numpy `maximum()` function to improve performance, e.g. `y_pred = np.maximum(y_pred, 50)`."
   ]
  },
  {
   "cell_type": "code",
   "execution_count": 96,
   "metadata": {},
   "outputs": [],
   "source": [
    "# Compare models with mean absolute error (MAE)\n",
    "def MAE(y, y_pred):\n",
    "    return int(np.mean(np.abs(y-y_pred)))"
   ]
  },
  {
   "cell_type": "code",
   "execution_count": 98,
   "metadata": {},
   "outputs": [
    {
     "name": "stdout",
     "output_type": "stream",
     "text": [
      "MAE with Linear Regression: 288\n",
      "MAE with Huber Loss Regression: 278\n",
      "Will use Huber Loss model, coef =  [2053.32243515 -637.98010638 -970.69154175 -184.60991047  167.20093985\n",
      " -811.87750841 -330.55448401]\n"
     ]
    },
    {
     "data": {
      "image/png": "[encoded data removed]",
      "text/plain": [
       "<Figure size 1080x576 with 1 Axes>"
      ]
     },
     "metadata": {
      "needs_background": "light"
     },
     "output_type": "display_data"
    }
   ],
   "source": [
    "# (A) Fit and evaluate a linear regression model\n",
    "from sklearn.linear_model import LinearRegression\n",
    "\n",
    "lr = LinearRegression()\n",
    "lr.fit(X_tr,y_tr)\n",
    "y_pred_lr = lr.predict(X_te)\n",
    "\n",
    "print(\"MAE with Linear Regression:\",MAE(y_te,y_pred_lr))\n",
    "\n",
    "# (B) Same with Huber loss\n",
    "from sklearn.linear_model import HuberRegressor\n",
    "\n",
    "huber = HuberRegressor(epsilon=1.1)\n",
    "huber.fit(X_tr,y_tr)\n",
    "y_pred_huber = huber.predict(X_te)\n",
    "\n",
    "print(\"MAE with Huber Loss Regression:\", MAE(y_te, y_pred_huber))\n",
    "\n",
    "# (C) Plot best model\n",
    "\n",
    "import matplotlib.pyplot as plt\n",
    "%matplotlib inline\n",
    "\n",
    "x_te = df_te['temp'].values\n",
    "\n",
    "\n",
    "plt.figure(figsize=(15,8))\n",
    "plt.scatter(x_te, y_te, label='Test data plot')\n",
    "\n",
    "\n",
    "print(\"Will use Huber Loss model, coef = \",huber.coef_)\n",
    "x_values = np.linspace(min(x_te),max(x_te),num=100)\n",
    "y_values_huber = np.polyval(huber.coef_,x_values)\n",
    "y_values_lr = np.polyval(lr.coef_,x_values)\n",
    "\n",
    "plt.plot(x_values, np.multiply(y_values_huber,-1), label='Huber Loss')\n",
    "plt.plot(x_values, np.multiply(y_values_lr, -1),  label='Linear Regression')\n",
    "\n",
    "plt.xlabel(\"Temperature (normalized)\")\n",
    "plt.ylabel(\"Number of casual users\")\n",
    "plt.legend(loc='upper left')\n",
    "plt.show()\n",
    "\n"
   ]
  },
  {
   "cell_type": "markdown",
   "metadata": {},
   "source": [
    "Exercise - Separate sources and fit two linear regressions\n",
    "---\n",
    "\n",
    "We saw in the course that we can identify two sources in the data.\n",
    "\n",
    "1. Data points collected during working days\n",
    "1. Data points collected during non-working days\n",
    "\n",
    "The goal of this exercise is to create a model for each source and see whether this improves performance.\n",
    "\n",
    "> **Exercise**: Create a model for each source and evaluate the overall performance on the test set using MAE. Compare your models to a baseline using a bar chart."
   ]
  },
  {
   "cell_type": "code",
   "execution_count": null,
   "metadata": {},
   "outputs": [],
   "source": [
    "# Separate data points from the two sources\n",
    "...\n",
    "\n",
    "# Create a model for each one\n",
    "...\n",
    "\n",
    "# Evaluate the overall performance using MAE\n",
    "..."
   ]
  },
  {
   "cell_type": "code",
   "execution_count": null,
   "metadata": {},
   "outputs": [],
   "source": [
    "# Compare your models to a baseline using a bar chart\n",
    "..."
   ]
  },
  {
   "cell_type": "markdown",
   "metadata": {},
   "source": [
    "Exercise - R^2 coefficient\n",
    "---\n",
    "\n",
    "> **Exercise**: Compute the $R^{2}$ coefficient of your different models on the test set."
   ]
  },
  {
   "cell_type": "code",
   "execution_count": null,
   "metadata": {},
   "outputs": [],
   "source": [
    "..."
   ]
  }
 ],
 "metadata": {
  "kernelspec": {
   "display_name": "Python 3",
   "language": "python",
   "name": "python3"
  },
  "language_info": {
   "codemirror_mode": {
    "name": "ipython",
    "version": 3
   },
   "file_extension": ".py",
   "mimetype": "text/x-python",
   "name": "python",
   "nbconvert_exporter": "python",
   "pygments_lexer": "ipython3",
   "version": "3.6.10"
  }
 },
 "nbformat": 4,
 "nbformat_minor": 4
}
