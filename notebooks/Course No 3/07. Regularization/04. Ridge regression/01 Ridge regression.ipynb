{
 "cells": [
  {
   "cell_type": "markdown",
   "metadata": {},
   "source": [
    "Ridge regression\n",
    "---"
   ]
  },
  {
   "cell_type": "code",
   "execution_count": null,
   "metadata": {},
   "outputs": [],
   "source": [
    "import pandas as pd\n",
    "\n",
    "# Load the data\n",
    "data_df = pd.read_csv('data-points.csv')\n",
    "\n",
    "# Print shape\n",
    "print('Shape:', data_df.shape)\n",
    "\n",
    "# First five rows\n",
    "data_df.head()"
   ]
  },
  {
   "cell_type": "code",
   "execution_count": null,
   "metadata": {},
   "outputs": [],
   "source": [
    "%matplotlib inline\n",
    "import matplotlib.pyplot as plt\n",
    "import numpy as np\n",
    "\n",
    "# Extract x, y data\n",
    "x = data_df.x.values\n",
    "y = data_df.y.values\n",
    "\n",
    "# Plot data points\n",
    "plt.scatter(x, y)\n",
    "\n",
    "# Plot sine curve for reference\n",
    "x_values = np.linspace(min(x), max(x), num=100)\n",
    "y_sine = np.sin(x_values)\n",
    "plt.plot(x_values, y_sine, c='C3', label='sine curve')\n",
    "plt.legend()\n",
    "plt.show()"
   ]
  },
  {
   "cell_type": "code",
   "execution_count": null,
   "metadata": {},
   "outputs": [],
   "source": [
    "from sklearn.preprocessing import PolynomialFeatures\n",
    "\n",
    "# Create the polynomial features\n",
    "poly_obj = PolynomialFeatures(degree=10, include_bias=False)\n",
    "X_poly = poly_obj.fit_transform(x[:, np.newaxis])\n",
    "\n",
    "print('Shape:', X_poly.shape)\n",
    "print('Features:', poly_obj.get_feature_names())"
   ]
  },
  {
   "cell_type": "code",
   "execution_count": null,
   "metadata": {},
   "outputs": [],
   "source": [
    "from sklearn.preprocessing import StandardScaler\n",
    "\n",
    "scaler = StandardScaler()\n",
    "X_rescaled = scaler.fit_transform(X_poly)"
   ]
  },
  {
   "cell_type": "code",
   "execution_count": null,
   "metadata": {},
   "outputs": [],
   "source": [
    "X_rescaled.mean(axis=0)"
   ]
  },
  {
   "cell_type": "code",
   "execution_count": null,
   "metadata": {},
   "outputs": [],
   "source": [
    "X_rescaled.std(axis=0)"
   ]
  },
  {
   "cell_type": "code",
   "execution_count": null,
   "metadata": {},
   "outputs": [],
   "source": [
    "from sklearn.linear_model import LinearRegression\n",
    "\n",
    "# Linear regression\n",
    "lr = LinearRegression()\n",
    "lr.fit(X_rescaled, y)\n",
    "\n",
    "# Pass sample x values through the preprocessing steps\n",
    "X_values_rescaled = scaler.transform(\n",
    "    poly_obj.transform(x_values[:, np.newaxis])\n",
    ")\n",
    "y_values_lr = lr.predict(X_values_rescaled)\n",
    "\n",
    "# Plot the model\n",
    "plt.scatter(X_rescaled[:, 0], y)\n",
    "plt.plot(X_values_rescaled[:, 0], y_values_lr, c='C3', label='linear regression')\n",
    "plt.legend()\n",
    "plt.show()"
   ]
  },
  {
   "cell_type": "code",
   "execution_count": null,
   "metadata": {},
   "outputs": [],
   "source": [
    "from sklearn.linear_model import Ridge\n",
    "\n",
    "# Ridge regression\n",
    "ridge = Ridge()\n",
    "ridge.fit(X_rescaled, y)\n",
    "\n",
    "# Compute predictions\n",
    "y_values_ridge = ridge.predict(X_values_rescaled)\n",
    "\n",
    "# Plot the model\n",
    "plt.scatter(X_rescaled[:, 0], y)\n",
    "plt.plot(X_values_rescaled[:, 0], y_values_ridge, c='C3', label='rigde ression')\n",
    "plt.legend()\n",
    "plt.show()"
   ]
  },
  {
   "cell_type": "code",
   "execution_count": null,
   "metadata": {},
   "outputs": [],
   "source": [
    "# Ridge regression\n",
    "ridge2 = Ridge(alpha=1e-4)\n",
    "ridge2.fit(X_rescaled, y)\n",
    "\n",
    "# Compute predictions\n",
    "y_values_ridge2 = ridge2.predict(X_values_rescaled)\n",
    "\n",
    "# Plot the model\n",
    "plt.scatter(X_rescaled[:, 0], y)\n",
    "plt.plot(X_values_rescaled[:, 0], y_values_ridge2, c='C3', label='tuned ridge')\n",
    "plt.legend()\n",
    "plt.show()"
   ]
  },
  {
   "cell_type": "code",
   "execution_count": null,
   "metadata": {},
   "outputs": [],
   "source": [
    "# Linear regression coefficients\n",
    "features = poly_obj.get_feature_names()\n",
    "for feature, coef in zip(features, lr.coef_):\n",
    "    print('{:<6}: {:>10.1f}'.format(feature, coef))"
   ]
  },
  {
   "cell_type": "code",
   "execution_count": null,
   "metadata": {},
   "outputs": [],
   "source": [
    "# Ridge regression coefficients\n",
    "for feature, coef in zip(features, ridge2.coef_):\n",
    "    print('{:<6}: {:>4.1f}'.format(feature, coef))"
   ]
  },
  {
   "cell_type": "code",
   "execution_count": null,
   "metadata": {},
   "outputs": [],
   "source": [
    "from sklearn.linear_model import Lasso\n",
    "\n",
    "# Lasso regression\n",
    "lasso = Lasso(alpha=1e-4, max_iter=1e5)\n",
    "lasso.fit(X_rescaled, y)\n",
    "\n",
    "# Compute predictions\n",
    "y_values_lasso = lasso.predict(X_values_rescaled)\n",
    "\n",
    "# Plot the model\n",
    "plt.scatter(X_rescaled[:, 0], y)\n",
    "plt.plot(X_values_rescaled[:, 0], y_values_lasso, c='C3', label='lasso')\n",
    "plt.legend()\n",
    "plt.show()"
   ]
  },
  {
   "cell_type": "code",
   "execution_count": null,
   "metadata": {},
   "outputs": [],
   "source": [
    "# Lasso regression coefficients\n",
    "for feature, coef in zip(features, lasso.coef_):\n",
    "    print('{:<6}: {:>4.1f}'.format(feature, coef))"
   ]
  }
 ],
 "metadata": {
  "kernelspec": {
   "display_name": "Python 3",
   "language": "python",
   "name": "python3"
  },
  "language_info": {
   "codemirror_mode": {
    "name": "ipython",
    "version": 3
   },
   "file_extension": ".py",
   "mimetype": "text/x-python",
   "name": "python",
   "nbconvert_exporter": "python",
   "pygments_lexer": "ipython3",
   "version": "3.6.7"
  }
 },
 "nbformat": 4,
 "nbformat_minor": 2
}
