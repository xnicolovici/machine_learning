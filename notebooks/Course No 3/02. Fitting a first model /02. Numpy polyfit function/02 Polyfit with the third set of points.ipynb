{
 "cells": [
  {
   "cell_type": "markdown",
   "metadata": {},
   "source": [
    "Solution - polyfit with the third set of points\n",
    "---"
   ]
  },
  {
   "cell_type": "code",
   "execution_count": null,
   "metadata": {},
   "outputs": [],
   "source": [
    "import pandas as pd\n",
    "import matplotlib.pyplot as plt\n",
    "import numpy as np"
   ]
  },
  {
   "cell_type": "code",
   "execution_count": null,
   "metadata": {},
   "outputs": [],
   "source": [
    "# Load third set of points\n",
    "data_df = pd.read_csv('data-3.csv')\n",
    "x3 = data_df.x.values\n",
    "y3 = data_df.y.values"
   ]
  },
  {
   "cell_type": "code",
   "execution_count": null,
   "metadata": {},
   "outputs": [],
   "source": [
    "# Plot points\n",
    "plt.scatter(x3, y3)\n",
    "plt.xlabel('x values')\n",
    "plt.ylabel('y values')\n",
    "plt.show()"
   ]
  },
  {
   "cell_type": "code",
   "execution_count": null,
   "metadata": {},
   "outputs": [],
   "source": [
    "def fit(x, y, deg, xlabel, ylabel, legend):\n",
    "    # Fit a polynomial\n",
    "    coefs = np.polyfit(x, y, deg=deg)\n",
    "\n",
    "    # Generate a hundred values between min(x) and max(x)\n",
    "    x_values = np.linspace(min(x), max(x), num=100)\n",
    "\n",
    "    # Predict y values\n",
    "    y_values = np.polyval(coefs, x_values)\n",
    "\n",
    "    # Plot curve\n",
    "    plt.scatter(x, y)\n",
    "    plt.plot(x_values, y_values, c='C3', label=legend)\n",
    "    plt.xlabel(xlabel)\n",
    "    plt.ylabel(ylabel)\n",
    "    plt.legend()\n",
    "    plt.show()\n",
    "    \n",
    "fit(x3, y3, 15, 'x values', 'y values', 'polyfit(deg=15)')"
   ]
  },
  {
   "cell_type": "code",
   "execution_count": null,
   "metadata": {},
   "outputs": [],
   "source": [
    "fit(x3, y3, 2, 'x values', 'y values', 'polyfit(deg=2)')"
   ]
  },
  {
   "cell_type": "code",
   "execution_count": null,
   "metadata": {},
   "outputs": [],
   "source": [
    "fit(np.log(x3), y3, 1, 'log(x)', 'y values', 'polyfit(log(x), y, deg=1)')"
   ]
  },
  {
   "cell_type": "code",
   "execution_count": null,
   "metadata": {},
   "outputs": [],
   "source": [
    "# Fit a polynomial\n",
    "coefs = np.polyfit({1}, y3, deg=1)\n",
    "\n",
    "# Generate a hundred values between min(x) and max(x)\n",
    "x_values = np.linspace({2}.min(), {2}.max(), num=100)\n",
    "\n",
    "# Predict y values\n",
    "y_values = np.polyval(coefs, {3})\n",
    "\n",
    "# Plot curve\n",
    "plt.scatter(x3, y3)\n",
    "plt.plot(x_values, y_values, c='C3', label='polyfit(log(x), y, deg=1)')\n",
    "plt.xlabel('x values')\n",
    "plt.ylabel('y values')\n",
    "plt.legend()\n",
    "plt.show()"
   ]
  }
 ],
 "metadata": {
  "kernelspec": {
   "display_name": "Python 3",
   "language": "python",
   "name": "python3"
  },
  "language_info": {
   "codemirror_mode": {
    "name": "ipython",
    "version": 3
   },
   "file_extension": ".py",
   "mimetype": "text/x-python",
   "name": "python",
   "nbconvert_exporter": "python",
   "pygments_lexer": "ipython3",
   "version": "3.6.8"
  }
 },
 "nbformat": 4,
 "nbformat_minor": 2
}
