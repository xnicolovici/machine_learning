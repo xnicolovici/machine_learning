{
 "cells": [
  {
   "cell_type": "markdown",
   "metadata": {},
   "source": [
    "Numpy implementation\n",
    "---"
   ]
  },
  {
   "cell_type": "code",
   "execution_count": null,
   "metadata": {},
   "outputs": [],
   "source": [
    "import pandas as pd\n",
    "\n",
    "# Load the data\n",
    "data_df = pd.read_csv('bike-sharing.csv')\n",
    "data_df.head()"
   ]
  },
  {
   "cell_type": "code",
   "execution_count": null,
   "metadata": {},
   "outputs": [],
   "source": [
    "%matplotlib inline\n",
    "import matplotlib.pyplot as plt\n",
    "import numpy as np\n",
    "\n",
    "# Linear regression using polyfit\n",
    "x = data_df.temp.values\n",
    "y = data_df.users.values\n",
    "coefs = np.polyfit(x, y, deg=1)\n",
    "\n",
    "# Plot prediction curve\n",
    "x_values = np.linspace(x.min(), x.max(), num=100)\n",
    "y_values = np.polyval(coefs, x_values)\n",
    "plt.scatter(x, y, s=15)\n",
    "plt.plot(x_values, y_values, c='C3', label='polyfit(deg=1)')\n",
    "plt.xlabel('temperatures')\n",
    "plt.ylabel('users')\n",
    "plt.legend()\n",
    "plt.show()"
   ]
  },
  {
   "cell_type": "code",
   "execution_count": null,
   "metadata": {},
   "outputs": [],
   "source": [
    "# Root mean squared error (RMSE)\n",
    "def rmse(y, y_pred):\n",
    "    return np.sqrt(np.mean(np.square(y - y_pred)))"
   ]
  },
  {
   "cell_type": "code",
   "execution_count": null,
   "metadata": {},
   "outputs": [],
   "source": [
    "# Initialization\n",
    "lr = 0.7 # learning rate\n",
    "a, b = 0, 0\n",
    "n_steps = 30"
   ]
  },
  {
   "cell_type": "code",
   "execution_count": null,
   "metadata": {},
   "outputs": [],
   "source": [
    "# Save RMSE after each iteration\n",
    "log_rmse = []\n",
    "\n",
    "for step in range(n_steps):\n",
    "    # Predictions with the current a,b values\n",
    "    y_pred = a*x + b\n",
    "\n",
    "    # Compute the error vector\n",
    "    error = y - y_pred\n",
    "\n",
    "    # Partial derivative with respect to a\n",
    "    a_grad = -2*np.mean(x*error)\n",
    "\n",
    "    # Partial derivative with respect to b\n",
    "    b_grad = -2*np.mean(error)\n",
    "\n",
    "    # Update a and b\n",
    "    a -= lr*a_grad\n",
    "    b -= lr*b_grad\n",
    "\n",
    "    # RMSE error\n",
    "    log_rmse.append(rmse(y, y_pred))"
   ]
  },
  {
   "cell_type": "code",
   "execution_count": null,
   "metadata": {},
   "outputs": [],
   "source": [
    "# Plot RMSE values\n",
    "plt.plot(log_rmse, label='learning rate: {}'.format(lr))\n",
    "plt.title('RMSE after {} steps is {:.6f}'.format(n_steps, log_rmse[-1]))\n",
    "plt.xlabel(\"time step\")\n",
    "plt.ylabel(\"RMSE\")\n",
    "plt.legend()\n",
    "plt.show()"
   ]
  },
  {
   "cell_type": "code",
   "execution_count": null,
   "metadata": {},
   "outputs": [],
   "source": [
    "a_polyfit, b_polyfit =  np.polyfit(x, y, deg=1)\n",
    "\n",
    "# Optimal parameters vs. ones obtained with GD\n",
    "print('Polyfit (a, b)=({:.2f}, {:.2f})'.format(a_polyfit, b_polyfit))\n",
    "print('Gradient descent (a, b)=({:.2f}, {:.2f})'.format(a, b))"
   ]
  }
 ],
 "metadata": {
  "kernelspec": {
   "display_name": "Python 3",
   "language": "python",
   "name": "python3"
  },
  "language_info": {
   "codemirror_mode": {
    "name": "ipython",
    "version": 3
   },
   "file_extension": ".py",
   "mimetype": "text/x-python",
   "name": "python",
   "nbconvert_exporter": "python",
   "pygments_lexer": "ipython3",
   "version": "3.6.7"
  }
 },
 "nbformat": 4,
 "nbformat_minor": 2
}
