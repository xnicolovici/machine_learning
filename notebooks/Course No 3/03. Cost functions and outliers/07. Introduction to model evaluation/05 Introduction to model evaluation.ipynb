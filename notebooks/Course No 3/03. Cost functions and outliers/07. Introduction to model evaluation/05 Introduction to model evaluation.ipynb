{
 "cells": [
  {
   "cell_type": "markdown",
   "metadata": {},
   "source": [
    "Introduction to model evaluation\n",
    "---"
   ]
  },
  {
   "cell_type": "code",
   "execution_count": null,
   "metadata": {},
   "outputs": [],
   "source": [
    "import pandas as pd\n",
    "\n",
    "# Load data\n",
    "data_df = pd.read_csv('three-models.csv')\n",
    "data_df.head()"
   ]
  },
  {
   "cell_type": "code",
   "execution_count": null,
   "metadata": {},
   "outputs": [],
   "source": [
    "%matplotlib inline\n",
    "import matplotlib.pyplot as plt\n",
    "\n",
    "# Extract variables\n",
    "x = data_df.temp.values\n",
    "y = data_df.users.values\n",
    "\n",
    "# Plot the models\n",
    "plt.scatter(x, y, s=10)\n",
    "plt.plot(x, data_df.pred_lr, c='C0', label='linear regression')\n",
    "plt.plot(x, data_df.pred_poly3, c='C2', label='polyfit(deg=3)')\n",
    "plt.plot(x, data_df.pred_huber3, c='C3', label='with Huber loss')\n",
    "plt.legend()\n",
    "plt.show()"
   ]
  },
  {
   "cell_type": "code",
   "execution_count": null,
   "metadata": {},
   "outputs": [],
   "source": [
    "import numpy as np\n",
    "\n",
    "# Root mean squared error\n",
    "def RMSE(y, y_pred):\n",
    "    mse = np.mean(np.square(y - y_pred)) # MSE\n",
    "    return np.sqrt(mse) # RMSE\n",
    "\n",
    "rmse_lr = RMSE(y, data_df.pred_lr)\n",
    "rmse_poly3 = RMSE(y, data_df.pred_poly3)\n",
    "rmse_huber3 = RMSE(y, data_df.pred_huber3)\n",
    "\n",
    "# Print values\n",
    "print('linear regression:', rmse_lr) # 232.53\n",
    "print('polyfit(deg=3):', rmse_poly3) # 210.55\n",
    "print('with huber loss:', rmse_huber3) # 215.67"
   ]
  },
  {
   "cell_type": "code",
   "execution_count": null,
   "metadata": {},
   "outputs": [],
   "source": [
    "import numpy as np\n",
    "\n",
    "# Mean absolute error\n",
    "def MAE(y, y_pred):\n",
    "    return np.mean(np.abs(y - y_pred))\n",
    "\n",
    "mae_lr = MAE(y, data_df.pred_lr)\n",
    "mae_poly3 = MAE(y, data_df.pred_poly3)\n",
    "mae_huber3 = MAE(y, data_df.pred_huber3)\n",
    "\n",
    "# Print values\n",
    "print('linear regression:', mae_lr) # 186.58\n",
    "print('polyfit(deg=3):', mae_poly3) # 161.72\n",
    "print('with huber loss:', mae_huber3) # 164.75"
   ]
  },
  {
   "cell_type": "code",
   "execution_count": null,
   "metadata": {},
   "outputs": [],
   "source": [
    "# Compute baseline\n",
    "pred_baseline = np.mean(y) # equals to 674.7218543\n",
    "rmse_baseline = RMSE(y, pred_baseline)\n",
    "rmse_baseline # 371.11"
   ]
  },
  {
   "cell_type": "code",
   "execution_count": null,
   "metadata": {},
   "outputs": [],
   "source": [
    "# Vector with predictions from the baseline\n",
    "pred_baseline = np.full_like(y, fill_value=np.mean(y), dtype=np.float)\n",
    "pred_baseline # Returns: array([ 674.7218543, 674.7218543,  ..."
   ]
  },
  {
   "cell_type": "code",
   "execution_count": null,
   "metadata": {},
   "outputs": [],
   "source": [
    "from sklearn.dummy import DummyRegressor\n",
    "\n",
    "# Create the DummyRegressor object\n",
    "dummy = DummyRegressor(strategy='mean')"
   ]
  },
  {
   "cell_type": "code",
   "execution_count": null,
   "metadata": {},
   "outputs": [],
   "source": [
    "# Fit the estimator\n",
    "dummy.fit(x[:, np.newaxis], y);"
   ]
  },
  {
   "cell_type": "code",
   "execution_count": null,
   "metadata": {},
   "outputs": [],
   "source": [
    "# Vector with predictions from the baseline\n",
    "pred_baseline = dummy.predict(x[:, np.newaxis])\n",
    "\n",
    "rmse_baseline = RMSE(y, pred_baseline)\n",
    "rmse_baseline # Returns: 371.11459394676217"
   ]
  },
  {
   "cell_type": "code",
   "execution_count": null,
   "metadata": {},
   "outputs": [],
   "source": [
    "# Bar chart\n",
    "plt.bar([1, 2, 3, 4], [rmse_baseline, rmse_lr, rmse_poly3, rmse_huber3])\n",
    "plt.xticks([1, 2, 3, 4], ['baseline (mean)', 'linreg', 'poly3', 'huber3'])\n",
    "plt.show()"
   ]
  }
 ],
 "metadata": {
  "kernelspec": {
   "display_name": "Python 3",
   "language": "python",
   "name": "python3"
  },
  "language_info": {
   "codemirror_mode": {
    "name": "ipython",
    "version": 3
   },
   "file_extension": ".py",
   "mimetype": "text/x-python",
   "name": "python",
   "nbconvert_exporter": "python",
   "pygments_lexer": "ipython3",
   "version": "3.6.8"
  }
 },
 "nbformat": 4,
 "nbformat_minor": 2
}
