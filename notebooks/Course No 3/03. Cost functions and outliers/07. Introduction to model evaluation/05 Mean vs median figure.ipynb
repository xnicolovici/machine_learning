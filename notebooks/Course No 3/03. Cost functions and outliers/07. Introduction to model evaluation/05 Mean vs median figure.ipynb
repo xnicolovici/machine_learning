{
 "cells": [
  {
   "cell_type": "markdown",
   "metadata": {},
   "source": [
    "Mean vs. median\n",
    "---"
   ]
  },
  {
   "cell_type": "code",
   "execution_count": null,
   "metadata": {},
   "outputs": [],
   "source": [
    "%matplotlib inline\n",
    "import matplotlib.pyplot as plt\n",
    "\n",
    "import numpy as np\n",
    "import pandas as pd\n",
    "import os"
   ]
  },
  {
   "cell_type": "markdown",
   "metadata": {},
   "source": [
    "Define a set of values\n",
    "---"
   ]
  },
  {
   "cell_type": "code",
   "execution_count": null,
   "metadata": {},
   "outputs": [],
   "source": [
    "# Create a set of values\n",
    "# 25 is the outlier\n",
    "x_values = [1, 2, 3, 5, 6, 25]\n",
    "\n",
    "# Compute the mean and the median\n",
    "mean, median = np.mean(x_values), np.median(x_values)"
   ]
  },
  {
   "cell_type": "code",
   "execution_count": null,
   "metadata": {},
   "outputs": [],
   "source": [
    "# Plot values with mean\n",
    "plt.scatter(x_values, np.zeros_like(x_values), label='denote values')\n",
    "plt.scatter(mean, 0, marker='*', s=160, label='is the mean')\n",
    "plt.title('Mean value: {}'.format(mean))\n",
    "plt.yticks([], [])\n",
    "plt.xlabel('values')\n",
    "plt.xlim(0, 30)\n",
    "plt.legend()\n",
    "plt.show()"
   ]
  },
  {
   "cell_type": "code",
   "execution_count": null,
   "metadata": {},
   "outputs": [],
   "source": [
    "# Plot values with median\n",
    "plt.scatter(x_values, np.zeros_like(x_values), label='denote values')\n",
    "plt.scatter(median, 0, marker='*', s=160, label='is the median')\n",
    "plt.title('Median value: {}'.format(median))\n",
    "plt.yticks([], [])\n",
    "plt.xlabel('values')\n",
    "plt.xlim(0, 30)\n",
    "plt.legend()\n",
    "plt.show()"
   ]
  },
  {
   "cell_type": "markdown",
   "metadata": {},
   "source": [
    "Mean and median as optimal solutions\n",
    "---"
   ]
  },
  {
   "cell_type": "code",
   "execution_count": null,
   "metadata": {},
   "outputs": [],
   "source": [
    "def MSE(y, y_pred):\n",
    "    return np.mean(np.square(y-y_pred))\n",
    "\n",
    "def MAE(y, y_pred):\n",
    "    return np.mean(np.abs(y-y_pred))"
   ]
  },
  {
   "cell_type": "code",
   "execution_count": null,
   "metadata": {},
   "outputs": [],
   "source": [
    "# Define 50 candidate summaries\n",
    "x_summaries = np.linspace(0, 25, num=50)\n",
    "mse_values = [MSE(x_values, x) for x in x_summaries]\n",
    "mae_values = [MAE(x_values, x) for x in x_summaries]"
   ]
  },
  {
   "cell_type": "code",
   "execution_count": null,
   "metadata": {},
   "outputs": [],
   "source": [
    "# Compute their MSE values\n",
    "plt.plot(x_summaries, mse_values, zorder=1)\n",
    "plt.scatter(mean, MSE(x_values, mean), color='C3', label='MSE of the mean value (x={})'.format(mean), zorder=2)\n",
    "plt.xlabel('x values')\n",
    "plt.ylabel('MSE metric')\n",
    "plt.legend(loc='upper left')\n",
    "plt.show()"
   ]
  },
  {
   "cell_type": "code",
   "execution_count": null,
   "metadata": {},
   "outputs": [],
   "source": [
    "# Compute their MAE values\n",
    "plt.plot(x_summaries, mae_values, zorder=1)\n",
    "plt.scatter(median, MAE(x_values, median), color='C3', label='MAE of the median value (x={})'.format(median), zorder=2)\n",
    "plt.xlabel('x values')\n",
    "plt.ylabel('MSE metric')\n",
    "plt.legend(loc='upper left')\n",
    "plt.show()"
   ]
  }
 ],
 "metadata": {
  "kernelspec": {
   "display_name": "Python 3",
   "language": "python",
   "name": "python3"
  },
  "language_info": {
   "codemirror_mode": {
    "name": "ipython",
    "version": 3
   },
   "file_extension": ".py",
   "mimetype": "text/x-python",
   "name": "python",
   "nbconvert_exporter": "python",
   "pygments_lexer": "ipython3",
   "version": "3.6.7"
  }
 },
 "nbformat": 4,
 "nbformat_minor": 2
}
