{
 "cells": [
  {
   "cell_type": "markdown",
   "metadata": {},
   "source": [
    "Issues with outliers\n",
    "---"
   ]
  },
  {
   "cell_type": "code",
   "execution_count": 1,
   "metadata": {},
   "outputs": [
    {
     "data": {
      "text/plain": [
       "(55, 4)"
      ]
     },
     "execution_count": 1,
     "metadata": {},
     "output_type": "execute_result"
    }
   ],
   "source": [
    "import pandas as pd\n",
    "\n",
    "data_df = pd.read_csv('marketing-outliers.csv')\n",
    "data_df.shape"
   ]
  },
  {
   "cell_type": "code",
   "execution_count": 2,
   "metadata": {},
   "outputs": [
    {
     "data": {
      "text/html": [
       "<div>\n",
       "<style scoped>\n",
       "    .dataframe tbody tr th:only-of-type {\n",
       "        vertical-align: middle;\n",
       "    }\n",
       "\n",
       "    .dataframe tbody tr th {\n",
       "        vertical-align: top;\n",
       "    }\n",
       "\n",
       "    .dataframe thead th {\n",
       "        text-align: right;\n",
       "    }\n",
       "</style>\n",
       "<table border=\"1\" class=\"dataframe\">\n",
       "  <thead>\n",
       "    <tr style=\"text-align: right;\">\n",
       "      <th></th>\n",
       "      <th>tv</th>\n",
       "      <th>web</th>\n",
       "      <th>radio</th>\n",
       "      <th>sales</th>\n",
       "    </tr>\n",
       "  </thead>\n",
       "  <tbody>\n",
       "    <tr>\n",
       "      <th>50</th>\n",
       "      <td>2.293</td>\n",
       "      <td>2.314</td>\n",
       "      <td>1.167</td>\n",
       "      <td>8.937</td>\n",
       "    </tr>\n",
       "    <tr>\n",
       "      <th>51</th>\n",
       "      <td>2.891</td>\n",
       "      <td>1.895</td>\n",
       "      <td>1.365</td>\n",
       "      <td>8.132</td>\n",
       "    </tr>\n",
       "    <tr>\n",
       "      <th>52</th>\n",
       "      <td>1.305</td>\n",
       "      <td>1.940</td>\n",
       "      <td>1.454</td>\n",
       "      <td>8.892</td>\n",
       "    </tr>\n",
       "    <tr>\n",
       "      <th>53</th>\n",
       "      <td>11.022</td>\n",
       "      <td>1.855</td>\n",
       "      <td>1.282</td>\n",
       "      <td>1.389</td>\n",
       "    </tr>\n",
       "    <tr>\n",
       "      <th>54</th>\n",
       "      <td>11.786</td>\n",
       "      <td>2.066</td>\n",
       "      <td>1.466</td>\n",
       "      <td>1.623</td>\n",
       "    </tr>\n",
       "  </tbody>\n",
       "</table>\n",
       "</div>"
      ],
      "text/plain": [
       "        tv    web  radio  sales\n",
       "50   2.293  2.314  1.167  8.937\n",
       "51   2.891  1.895  1.365  8.132\n",
       "52   1.305  1.940  1.454  8.892\n",
       "53  11.022  1.855  1.282  1.389\n",
       "54  11.786  2.066  1.466  1.623"
      ]
     },
     "execution_count": 2,
     "metadata": {},
     "output_type": "execute_result"
    }
   ],
   "source": [
    "# Last five data points\n",
    "data_df.tail()"
   ]
  },
  {
   "cell_type": "code",
   "execution_count": null,
   "metadata": {},
   "outputs": [],
   "source": [
    "%matplotlib inline\n",
    "import matplotlib.pyplot as plt\n",
    "\n",
    "# Extract tv and sales\n",
    "x = data_df.tv.values\n",
    "y = data_df.sales.values\n",
    "\n",
    "# Plot the data points\n",
    "plt.scatter(x[:-5], y[:-5], label='normal')\n",
    "plt.scatter(x[-5:], y[-5:], c='C3', label='spurious')\n",
    "plt.legend()\n",
    "plt.show()"
   ]
  },
  {
   "cell_type": "code",
   "execution_count": null,
   "metadata": {},
   "outputs": [],
   "source": [
    "import numpy as np\n",
    "\n",
    "# Fit a linear regression\n",
    "coefs = np.polyfit(x, y, deg=1)\n",
    "print('coefs:', coefs)\n",
    "\n",
    "# Fit a linear regression without the 5 outliers\n",
    "coefs_wo = np.polyfit(x[:-5], y[:-5], deg=1)\n",
    "print('coefs without outliers:', coefs_wo)"
   ]
  },
  {
   "cell_type": "code",
   "execution_count": null,
   "metadata": {},
   "outputs": [],
   "source": [
    "# Compute prediction line\n",
    "x_values = np.linspace(min(x), max(x), num=100)\n",
    "y_values = np.polyval(coefs, x_values)\n",
    "y_values_wo = np.polyval(coefs_wo, x_values)\n",
    "\n",
    "# Plot them\n",
    "plt.scatter(x[:-5], y[:-5])\n",
    "plt.scatter(x[-5:], y[-5:], c='C3')\n",
    "plt.plot(x_values, y_values, c='C3', label='lr with outliers')\n",
    "plt.plot(x_values, y_values_wo, c='C2', label='lr without outliers')\n",
    "plt.xlabel('tv budget in 1000$')\n",
    "plt.ylabel('sales in thousands')\n",
    "plt.legend()\n",
    "plt.show()"
   ]
  },
  {
   "cell_type": "code",
   "execution_count": null,
   "metadata": {},
   "outputs": [],
   "source": [
    "# Compute predictions for all data points\n",
    "y_pred = np.polyval(coefs, x)\n",
    "\n",
    "# Compute the squares of residuals\n",
    "squares_residuals = np.square(y - y_pred)\n",
    "\n",
    "print('RSS normal points:', np.sum(squares_residuals[:-5]))\n",
    "print('RSS outliers:', np.sum(squares_residuals[-5:]))"
   ]
  },
  {
   "cell_type": "markdown",
   "metadata": {},
   "source": [
    "Remove outliers by hand\n",
    "---"
   ]
  },
  {
   "cell_type": "code",
   "execution_count": null,
   "metadata": {},
   "outputs": [],
   "source": [
    "# Remove two regions\n",
    "plt.scatter(x[:-5], y[:-5])\n",
    "plt.scatter(x[-5:], y[-5:], c='C3')\n",
    "\n",
    "# Draw squares around those regions\n",
    "xmin, xmax = plt.xlim()\n",
    "ymin, ymax = plt.ylim()\n",
    "plt.hlines(y=6, xmin=xmin, xmax=4, color='C3', linestyle='--')\n",
    "plt.vlines(x=4, ymin=6, ymax=ymax, color='C3', linestyle='--')\n",
    "plt.hlines(y=2, xmin=10, xmax=xmax, color='C3', linestyle='--')\n",
    "plt.vlines(x=10, ymin=ymin, ymax=2, color='C3', linestyle='--')\n",
    "plt.xlim(xmin, xmax)\n",
    "plt.ylim(ymin, ymax)\n",
    "\n",
    "# Add labels\n",
    "plt.xlabel('tv budget in 1000$')\n",
    "plt.ylabel('sales in thousands')\n",
    "plt.show()"
   ]
  },
  {
   "cell_type": "code",
   "execution_count": null,
   "metadata": {},
   "outputs": [],
   "source": [
    "# Select outliers\n",
    "idx = (((x < 4) & (y > 6)) | ((x > 10) & (y < 2)))"
   ]
  },
  {
   "cell_type": "code",
   "execution_count": null,
   "metadata": {},
   "outputs": [],
   "source": [
    "x < 4"
   ]
  },
  {
   "cell_type": "code",
   "execution_count": null,
   "metadata": {},
   "outputs": [],
   "source": [
    "y > 6"
   ]
  },
  {
   "cell_type": "code",
   "execution_count": null,
   "metadata": {},
   "outputs": [],
   "source": [
    "# Points in the upper left corner\n",
    "(x < 4) & (y > 6)"
   ]
  },
  {
   "cell_type": "code",
   "execution_count": null,
   "metadata": {},
   "outputs": [],
   "source": [
    "try:\n",
    "    # This is an invalid expression!\n",
    "    x < 4 & y > 6 # equivalent to (x < (4 & y)) > 6\n",
    "except TypeError:\n",
    "    print('Type error!')"
   ]
  },
  {
   "cell_type": "code",
   "execution_count": null,
   "metadata": {},
   "outputs": [],
   "source": [
    "# Points in the lower right corner\n",
    "(x > 10) & (y < 2)"
   ]
  },
  {
   "cell_type": "code",
   "execution_count": null,
   "metadata": {},
   "outputs": [],
   "source": [
    "# Points in the upper left or lower right corners\n",
    "idx = (((x < 4) & (y > 6)) | ((x > 10) & (y < 2)))\n",
    "idx"
   ]
  },
  {
   "cell_type": "code",
   "execution_count": null,
   "metadata": {},
   "outputs": [],
   "source": [
    "# Extract \"normal\" points\n",
    "x1, y1 = x[~idx], y[~idx]\n",
    "print('x1/y1:', x1.shape, y1.shape)\n",
    "\n",
    "# Extract outliers\n",
    "x2, y2 = x[idx], y[idx]\n",
    "print('x2/y2:', x2.shape, y2.shape)"
   ]
  },
  {
   "cell_type": "code",
   "execution_count": null,
   "metadata": {},
   "outputs": [],
   "source": [
    "# \"normal\" points\n",
    "~idx"
   ]
  },
  {
   "cell_type": "markdown",
   "metadata": {},
   "source": [
    "Standard scores\n",
    "---"
   ]
  },
  {
   "cell_type": "code",
   "execution_count": null,
   "metadata": {},
   "outputs": [],
   "source": [
    "# Compute z-scores\n",
    "z_scores = (y - y.mean()) / y.std()\n",
    "\n",
    "print('z-scores:', z_scores.shape) # (55,)"
   ]
  },
  {
   "cell_type": "code",
   "execution_count": null,
   "metadata": {},
   "outputs": [],
   "source": [
    "# Plot z-scores\n",
    "plt.scatter(x, y, c=z_scores, cmap='coolwarm')\n",
    "plt.xlabel('tv budget in 1000$')\n",
    "plt.ylabel('sales in thousands')\n",
    "plt.colorbar()\n",
    "plt.show()"
   ]
  },
  {
   "cell_type": "code",
   "execution_count": null,
   "metadata": {},
   "outputs": [],
   "source": [
    "# Select outliers\n",
    "idx = (np.abs(z_scores) > 2)\n",
    "idx"
   ]
  },
  {
   "cell_type": "code",
   "execution_count": null,
   "metadata": {},
   "outputs": [],
   "source": [
    "# Fit linear regression\n",
    "coefs_z = np.polyfit(x[~idx], y[~idx], deg=1)\n",
    "\n",
    "# Prediction line\n",
    "y_values_zscore = np.polyval(coefs_z, x_values)\n",
    "\n",
    "# Final comparison\n",
    "plt.scatter(x[~idx], y[~idx])\n",
    "plt.scatter(x[idx], y[idx], c='C3')\n",
    "plt.plot(x_values, y_values_wo, c='C2', label='manual threshold')\n",
    "plt.plot(x_values, y_values_zscore, c='C3', label='lr without outliers')\n",
    "plt.xlabel('tv budget in 1000$')\n",
    "plt.ylabel('sales in thousands')\n",
    "plt.legend()\n",
    "plt.show()"
   ]
  }
 ],
 "metadata": {
  "kernelspec": {
   "display_name": "Python 3",
   "language": "python",
   "name": "python3"
  },
  "language_info": {
   "codemirror_mode": {
    "name": "ipython",
    "version": 3
   },
   "file_extension": ".py",
   "mimetype": "text/x-python",
   "name": "python",
   "nbconvert_exporter": "python",
   "pygments_lexer": "ipython3",
   "version": "3.6.10"
  }
 },
 "nbformat": 4,
 "nbformat_minor": 4
}
