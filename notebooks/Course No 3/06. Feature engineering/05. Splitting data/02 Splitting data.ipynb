{
 "cells": [
  {
   "cell_type": "markdown",
   "metadata": {},
   "source": [
    "Splitting data\n",
    "---"
   ]
  },
  {
   "cell_type": "code",
   "execution_count": null,
   "metadata": {},
   "outputs": [],
   "source": [
    "import pandas as pd\n",
    "\n",
    "# Load the data\n",
    "data_df = pd.read_csv('electric-cars.csv')\n",
    "\n",
    "# First five rows\n",
    "data_df.head()"
   ]
  },
  {
   "cell_type": "code",
   "execution_count": null,
   "metadata": {},
   "outputs": [],
   "source": [
    "import numpy as np\n",
    "\n",
    "# Generate a list of indexes\n",
    "n = len(data_df)\n",
    "indexes = np.arange(n)\n",
    "\n",
    "print('indexes:', indexes)"
   ]
  },
  {
   "cell_type": "code",
   "execution_count": null,
   "metadata": {},
   "outputs": [],
   "source": [
    "# Split into train/test indexes\n",
    "split_idx = int(n*0.7)\n",
    "train_idx = indexes[:split_idx]\n",
    "test_idx = indexes[split_idx:]\n",
    "\n",
    "print('train indexes:', train_idx)\n",
    "print('test indexes:', test_idx)"
   ]
  },
  {
   "cell_type": "code",
   "execution_count": null,
   "metadata": {},
   "outputs": [],
   "source": [
    "# Extract x, y data\n",
    "x = data_df.iloc[:, 0].values # Temperatures\n",
    "y = data_df.iloc[:, 1].values # Consumption\n",
    "\n",
    "# Split data\n",
    "x_tr, y_tr = x[train_idx], y[train_idx]\n",
    "x_te, y_te = x[test_idx], y[test_idx]\n",
    "\n",
    "print('train:', x_tr.shape, y_tr.shape)\n",
    "print('test:', x_te.shape, y_te.shape)"
   ]
  },
  {
   "cell_type": "code",
   "execution_count": null,
   "metadata": {},
   "outputs": [],
   "source": [
    "%matplotlib inline\n",
    "import matplotlib.pyplot as plt\n",
    "\n",
    "# Plot data points\n",
    "plt.scatter(x_tr, y_tr, label='train set')\n",
    "plt.scatter(x_te, y_te, label='test set')\n",
    "plt.xlabel('temperature')\n",
    "plt.ylabel('number of users')\n",
    "plt.legend()\n",
    "plt.show()"
   ]
  },
  {
   "cell_type": "code",
   "execution_count": null,
   "metadata": {},
   "outputs": [],
   "source": [
    "# shuffle the indexes\n",
    "np.random.shuffle(indexes)\n",
    "\n",
    "print('indexes:', indexes) # result depends on the seed"
   ]
  },
  {
   "cell_type": "code",
   "execution_count": null,
   "metadata": {},
   "outputs": [],
   "source": [
    "# Create the indexes\n",
    "indexes = np.arange(n)\n",
    "\n",
    "# Shuffle the indexes\n",
    "np.random.seed(0)\n",
    "np.random.shuffle(indexes)\n",
    "\n",
    "print('indexes:', indexes) # [35 34 41 27 11 ..]"
   ]
  },
  {
   "cell_type": "code",
   "execution_count": null,
   "metadata": {},
   "outputs": [],
   "source": [
    "# Split into train/test indexes\n",
    "split_idx = int(n*0.7)\n",
    "train_idx = indexes[:split_idx]\n",
    "test_idx = indexes[split_idx:]\n",
    "\n",
    "# Split data\n",
    "x_tr, y_tr = x[train_idx], y[train_idx]\n",
    "x_te, y_te = x[test_idx], y[test_idx]\n",
    "\n",
    "# Plot data points\n",
    "plt.scatter(x_tr, y_tr, label='train set')\n",
    "plt.scatter(x_te, y_te, label='test set')\n",
    "plt.xlabel('temperature')\n",
    "plt.ylabel('number of users')\n",
    "plt.legend()\n",
    "plt.show()"
   ]
  },
  {
   "cell_type": "code",
   "execution_count": null,
   "metadata": {},
   "outputs": [],
   "source": [
    "from sklearn.model_selection import train_test_split\n",
    "\n",
    "# Split data\n",
    "x_tr, x_te, y_tr, y_te = train_test_split(\n",
    "    x, y, train_size=0.7, test_size=0.3, random_state=0)"
   ]
  },
  {
   "cell_type": "code",
   "execution_count": null,
   "metadata": {},
   "outputs": [],
   "source": [
    "from sklearn.model_selection import train_test_split\n",
    "\n",
    "# Split data\n",
    "x_tr, x_te, y_tr, y_te = train_test_split(\n",
    "    x, y, train_size=39, test_size=18, random_state=0)"
   ]
  },
  {
   "cell_type": "code",
   "execution_count": null,
   "metadata": {},
   "outputs": [],
   "source": [
    "from sklearn.metrics import mean_squared_error as mse\n",
    "\n",
    "# Polynomial regressions of degree 5 and 10\n",
    "coef5 = np.polyfit(x_tr, y_tr, deg=5)\n",
    "coef10 = np.polyfit(x_tr, y_tr, deg=10)\n",
    "\n",
    "# Evaluate performance\n",
    "y_pred5_tr = np.polyval(coef5, x_tr)\n",
    "y_pred5_te = np.polyval(coef5, x_te)\n",
    "\n",
    "print('Degree 5 MSE: {:.0f} (train) vs {:.0f} (test)'.format(\n",
    "    mse(y_tr, y_pred5_tr),\n",
    "    mse(y_te, y_pred5_te)\n",
    "))\n",
    "# Degree 5 MSE: 719 (train) vs 651 (test)\n",
    "\n",
    "y_pred10_tr = np.polyval(coef10, x_tr)\n",
    "y_pred10_te = np.polyval(coef10, x_te)\n",
    "\n",
    "print('Degree 10 MSE: {:.0f} (train) vs {:.0f} (test)'.format(\n",
    "    mse(y_tr, y_pred10_tr),\n",
    "    mse(y_te, y_pred10_te)\n",
    "))\n",
    "# Degree 10 MSE: 707 (train) vs 1218 (test)"
   ]
  }
 ],
 "metadata": {
  "kernelspec": {
   "display_name": "Python 3",
   "language": "python",
   "name": "python3"
  },
  "language_info": {
   "codemirror_mode": {
    "name": "ipython",
    "version": 3
   },
   "file_extension": ".py",
   "mimetype": "text/x-python",
   "name": "python",
   "nbconvert_exporter": "python",
   "pygments_lexer": "ipython3",
   "version": "3.6.7"
  }
 },
 "nbformat": 4,
 "nbformat_minor": 2
}
