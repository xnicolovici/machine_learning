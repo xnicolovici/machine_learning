{
 "cells": [
  {
   "cell_type": "code",
   "execution_count": 1,
   "metadata": {},
   "outputs": [
    {
     "data": {
      "text/html": [
       "<div>\n",
       "<style scoped>\n",
       "    .dataframe tbody tr th:only-of-type {\n",
       "        vertical-align: middle;\n",
       "    }\n",
       "\n",
       "    .dataframe tbody tr th {\n",
       "        vertical-align: top;\n",
       "    }\n",
       "\n",
       "    .dataframe thead th {\n",
       "        text-align: right;\n",
       "    }\n",
       "</style>\n",
       "<table border=\"1\" class=\"dataframe\">\n",
       "  <thead>\n",
       "    <tr style=\"text-align: right;\">\n",
       "      <th></th>\n",
       "      <th>Temperature [°F]</th>\n",
       "      <th>Energy Consumption [Wh/mil]</th>\n",
       "    </tr>\n",
       "  </thead>\n",
       "  <tbody>\n",
       "    <tr>\n",
       "      <th>0</th>\n",
       "      <td>-15</td>\n",
       "      <td>460</td>\n",
       "    </tr>\n",
       "  </tbody>\n",
       "</table>\n",
       "</div>"
      ],
      "text/plain": [
       "   Temperature [°F]  Energy Consumption [Wh/mil]\n",
       "0               -15                          460"
      ]
     },
     "execution_count": 1,
     "metadata": {},
     "output_type": "execute_result"
    }
   ],
   "source": [
    "import pandas as pd\n",
    "import os\n",
    "\n",
    "data_df = pd.read_csv(os.path.join('.','electric-cars.csv'))\n",
    "data_df.head(1)"
   ]
  },
  {
   "cell_type": "code",
   "execution_count": 2,
   "metadata": {},
   "outputs": [
    {
     "data": {
      "text/html": [
       "<div>\n",
       "<style scoped>\n",
       "    .dataframe tbody tr th:only-of-type {\n",
       "        vertical-align: middle;\n",
       "    }\n",
       "\n",
       "    .dataframe tbody tr th {\n",
       "        vertical-align: top;\n",
       "    }\n",
       "\n",
       "    .dataframe thead th {\n",
       "        text-align: right;\n",
       "    }\n",
       "</style>\n",
       "<table border=\"1\" class=\"dataframe\">\n",
       "  <thead>\n",
       "    <tr style=\"text-align: right;\">\n",
       "      <th></th>\n",
       "      <th>Temperature [°F]</th>\n",
       "      <th>Energy Consumption [Wh/mil]</th>\n",
       "    </tr>\n",
       "  </thead>\n",
       "  <tbody>\n",
       "    <tr>\n",
       "      <th>count</th>\n",
       "      <td>57.000000</td>\n",
       "      <td>57.000000</td>\n",
       "    </tr>\n",
       "    <tr>\n",
       "      <th>mean</th>\n",
       "      <td>37.719298</td>\n",
       "      <td>336.122807</td>\n",
       "    </tr>\n",
       "    <tr>\n",
       "      <th>std</th>\n",
       "      <td>31.111409</td>\n",
       "      <td>56.795394</td>\n",
       "    </tr>\n",
       "    <tr>\n",
       "      <th>min</th>\n",
       "      <td>-15.000000</td>\n",
       "      <td>260.000000</td>\n",
       "    </tr>\n",
       "    <tr>\n",
       "      <th>25%</th>\n",
       "      <td>12.000000</td>\n",
       "      <td>290.000000</td>\n",
       "    </tr>\n",
       "    <tr>\n",
       "      <th>50%</th>\n",
       "      <td>37.000000</td>\n",
       "      <td>342.000000</td>\n",
       "    </tr>\n",
       "    <tr>\n",
       "      <th>75%</th>\n",
       "      <td>62.000000</td>\n",
       "      <td>365.000000</td>\n",
       "    </tr>\n",
       "    <tr>\n",
       "      <th>max</th>\n",
       "      <td>92.000000</td>\n",
       "      <td>540.000000</td>\n",
       "    </tr>\n",
       "  </tbody>\n",
       "</table>\n",
       "</div>"
      ],
      "text/plain": [
       "       Temperature [°F]  Energy Consumption [Wh/mil]\n",
       "count         57.000000                    57.000000\n",
       "mean          37.719298                   336.122807\n",
       "std           31.111409                    56.795394\n",
       "min          -15.000000                   260.000000\n",
       "25%           12.000000                   290.000000\n",
       "50%           37.000000                   342.000000\n",
       "75%           62.000000                   365.000000\n",
       "max           92.000000                   540.000000"
      ]
     },
     "execution_count": 2,
     "metadata": {},
     "output_type": "execute_result"
    }
   ],
   "source": [
    "data_df.describe()"
   ]
  },
  {
   "cell_type": "code",
   "execution_count": 3,
   "metadata": {},
   "outputs": [
    {
     "name": "stdout",
     "output_type": "stream",
     "text": [
      "Indexes =  [ 0  1  2  3  4  5  6  7  8  9 10 11 12 13 14 15 16 17 18 19 20 21 22 23\n",
      " 24 25 26 27 28 29 30 31 32 33 34 35 36 37 38 39 40 41 42 43 44 45 46 47\n",
      " 48 49 50 51 52 53 54 55 56]\n"
     ]
    }
   ],
   "source": [
    "# Generate a list of indexes\n",
    "\n",
    "import numpy as np\n",
    "\n",
    "n = len(data_df)\n",
    "\n",
    "indexes = np.arange(n)\n",
    "print(\"Indexes = \",indexes)"
   ]
  },
  {
   "cell_type": "code",
   "execution_count": 6,
   "metadata": {},
   "outputs": [
    {
     "name": "stdout",
     "output_type": "stream",
     "text": [
      "train indexes: [ 0  1  2  3  4  5  6  7  8  9 10 11 12 13 14 15 16 17 18 19 20 21 22 23\n",
      " 24 25 26 27 28 29 30 31 32 33 34 35 36 37 38]\n",
      "test indexes: [39 40 41 42 43 44 45 46 47 48 49 50 51 52 53 54 55 56]\n"
     ]
    }
   ],
   "source": [
    "# Split into train/test indexes\n",
    "split_idx = int(n*0.7)\n",
    "\n",
    "train_idx = indexes[:split_idx]\n",
    "test_idx = indexes[split_idx:]\n",
    "\n",
    "print('train indexes:', train_idx) # [0 1 2 ..]\n",
    "print('test indexes:', test_idx) # [39 40 41 ..]\n"
   ]
  },
  {
   "cell_type": "code",
   "execution_count": 19,
   "metadata": {},
   "outputs": [
    {
     "name": "stdout",
     "output_type": "stream",
     "text": [
      "train: (39,) (39,)\n",
      "test: (18,) (18,)\n"
     ]
    }
   ],
   "source": [
    "\n",
    "# Get x and y columns\n",
    "x = data_df.iloc[:,0].values\n",
    "y = data_df.iloc[:,1].values\n",
    "\n",
    "x_tr, y_tr = x[train_idx], y[train_idx]\n",
    "\n",
    "x_te, y_te = x[test_idx], y[test_idx]\n",
    "\n",
    "print('train:', x_tr.shape, y_tr.shape) # (39,) (39,)\n",
    "print('test:', x_te.shape, y_te.shape) # (18,) (18,)"
   ]
  },
  {
   "cell_type": "code",
   "execution_count": 27,
   "metadata": {},
   "outputs": [
    {
     "data": {
      "image/png": "[encoded data removed]",
      "text/plain": [
       "<Figure size 432x288 with 1 Axes>"
      ]
     },
     "metadata": {
      "needs_background": "light"
     },
     "output_type": "display_data"
    }
   ],
   "source": [
    "import matplotlib.pyplot as plt\n",
    "%matplotlib inline\n",
    "\n",
    "plt.scatter(x_tr,y_tr,label=\"Train spot\")\n",
    "plt.scatter(x_te,y_te,label=\"Test spot\")\n",
    "\n",
    "plt.xlabel('Temperature')\n",
    "plt.ylabel('Users')\n",
    "\n",
    "plt.legend()\n",
    "\n",
    "plt.show()"
   ]
  },
  {
   "cell_type": "code",
   "execution_count": 38,
   "metadata": {},
   "outputs": [
    {
     "data": {
      "image/png": "[encoded data removed]",
      "text/plain": [
       "<Figure size 432x288 with 1 Axes>"
      ]
     },
     "metadata": {
      "needs_background": "light"
     },
     "output_type": "display_data"
    }
   ],
   "source": [
    "# This split is not good, we must use a shuffle function to choose spots\n",
    "\n",
    "n = len(data_df)\n",
    "indexes = np.arange(n)\n",
    "\n",
    "np.random.seed(0)\n",
    "np.random.shuffle(indexes)\n",
    "\n",
    "split_idx = int(n*0.7)\n",
    "\n",
    "train_idx = indexes[:split_idx]\n",
    "test_idx = indexes[split_idx:]\n",
    "\n",
    "x_tr, y_tr = x[train_idx], y[train_idx]\n",
    "\n",
    "x_te, y_te = x[test_idx], y[test_idx]\n",
    "\n",
    "plt.scatter(x_tr,y_tr,label=\"Train spot\")\n",
    "plt.scatter(x_te,y_te,label=\"Test spot\")\n",
    "\n",
    "plt.xlabel('Temperature')\n",
    "plt.ylabel('Users')\n",
    "\n",
    "plt.legend()\n",
    "\n",
    "plt.show()"
   ]
  },
  {
   "cell_type": "code",
   "execution_count": 60,
   "metadata": {},
   "outputs": [
    {
     "data": {
      "image/png": "[encoded data removed]",
      "text/plain": [
       "<Figure size 432x288 with 1 Axes>"
      ]
     },
     "metadata": {
      "needs_background": "light"
     },
     "output_type": "display_data"
    }
   ],
   "source": [
    "# Split data using train_test_split() from sklearn.model_selection\n",
    "from sklearn.model_selection import train_test_split\n",
    "\n",
    "x_tr, x_te, y_tr, y_te = train_test_split(x,y, test_size=0.3, random_state=0 )\n",
    "\n",
    "\n",
    "plt.scatter(x_tr,y_tr,label=\"Train spot\")\n",
    "plt.scatter(x_te,y_te,label=\"Test spot\")\n",
    "\n",
    "plt.xlabel('Temperature')\n",
    "plt.ylabel('Users')\n",
    "\n",
    "plt.legend()\n",
    "\n",
    "plt.show()\n"
   ]
  },
  {
   "cell_type": "code",
   "execution_count": 72,
   "metadata": {},
   "outputs": [
    {
     "name": "stdout",
     "output_type": "stream",
     "text": [
      "MSE Train degree = 5 =  719\n",
      "MSE Train degree = 10 =  706\n",
      "MSE Test degree = 5 =  651\n",
      "MSE Test degree = 10 =  1218\n"
     ]
    },
    {
     "data": {
      "image/png": "[encoded data removed]",
      "text/plain": [
       "<Figure size 432x288 with 1 Axes>"
      ]
     },
     "metadata": {
      "needs_background": "light"
     },
     "output_type": "display_data"
    }
   ],
   "source": [
    "# Evaluate two models: Polyfit deg=5 and deg=10\n",
    "\n",
    "# Use mse function from sklearn.metrics\n",
    "from sklearn.metrics import mean_squared_error as mse\n",
    "\n",
    "coef_5 = np.polyfit(x_tr,y_tr,deg=5)\n",
    "coef_10 = np.polyfit(x_tr,y_tr,deg=10)\n",
    "\n",
    "x_values = np.linspace(x.min(),x.max(),num=100)\n",
    "\n",
    "\n",
    "\n",
    "\n",
    "# Calculate MSE on Train spots\n",
    "mse_tr_5 = mse(y_tr,np.polyval(coef_5,x_tr))\n",
    "print(\"MSE Train degree = 5 = \",int(mse_tr_5))\n",
    "mse_tr_10 = mse(y_tr,np.polyval(coef_10,x_tr))\n",
    "print(\"MSE Train degree = 10 = \",int(mse_tr_10))\n",
    "\n",
    "# Calculate MSE on Test spots\n",
    "mse_te_5 = mse(y_te,np.polyval(coef_5,x_te))\n",
    "print(\"MSE Test degree = 5 = \",int(mse_te_5))\n",
    "mse_te_10 = mse(y_te,np.polyval(coef_10,x_te))\n",
    "print(\"MSE Test degree = 10 = \",int(mse_te_10))\n",
    "\n",
    "plt.plot(x_values,np.polyval(coef_5,x_values),label='Deg = 5')\n",
    "plt.plot(x_values,np.polyval(coef_10,x_values),label='Deg = 10')\n",
    "#plt.scatter(x_tr,y_tr,label=\"Train spot\")\n",
    "plt.scatter(x_te,y_te,label=\"Test spot\")\n",
    "\n",
    "plt.scatter(x_te,np.polyval(coef_5,x_te),label=\"Prediction Test spot degree = 5\")\n",
    "plt.scatter(x_te,np.polyval(coef_10,x_te),label=\"Prediction Test spot degree = 10\")\n",
    "\n",
    "plt.xlabel('Temperature')\n",
    "plt.ylabel('Users')\n",
    "\n",
    "plt.legend()\n",
    "\n",
    "plt.show()"
   ]
  },
  {
   "cell_type": "code",
   "execution_count": null,
   "metadata": {},
   "outputs": [],
   "source": []
  }
 ],
 "metadata": {
  "kernelspec": {
   "display_name": "Python 3",
   "language": "python",
   "name": "python3"
  },
  "language_info": {
   "codemirror_mode": {
    "name": "ipython",
    "version": 3
   },
   "file_extension": ".py",
   "mimetype": "text/x-python",
   "name": "python",
   "nbconvert_exporter": "python",
   "pygments_lexer": "ipython3",
   "version": "3.6.10"
  }
 },
 "nbformat": 4,
 "nbformat_minor": 4
}
